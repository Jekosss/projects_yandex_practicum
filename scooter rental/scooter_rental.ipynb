{
 "cells": [
  {
   "cell_type": "markdown",
   "id": "d52434ba",
   "metadata": {},
   "source": [
    "# Проект: Статистический анализ данных. Аналитика сервиса аренды самокатов GoFast 🛴"
   ]
  },
  {
   "cell_type": "markdown",
   "id": "805b633c",
   "metadata": {},
   "source": [
    "**Цель проекта:** Проведение иссследовательского и статистического анализа данных, которые могут помочь сервису проката самокатов GoFast вырасти.\n",
    "\n",
    "**Ход исследования:**\n",
    "1. Осуществим предобработку данных: найдем и по возможности устраним пропуски, а так же обработаем дубликаты.\n",
    "2. Проведем исследовательский анализ данных: с помощью инструментов визуализации найдем взаимосвзязь некоторых парметров для пользователей и поездок.\n",
    "3. Объединим данные и визуализируем информацию о расстоянии и времени поездок для пользователей обеих представленных категорий.\n",
    "4. Подсчитаем выручку, которую приносит каждый пользователь.\n",
    "5. Проверим гипотезы в целях помочь бизнесу увеличить количество пользователей с подпиской.\n",
    "6. Решить несколько задач относительно распределений случайных величин.\n",
    "7. Сформулировать выводы"
   ]
  },
  {
   "cell_type": "markdown",
   "id": "1211e9cd-3e86-4ae6-8618-d7f9a3cee42c",
   "metadata": {},
   "source": [
    "**Содержание**<a id='toc0_'></a>    \n",
    "  \n",
    "1. [Загрузка данных](#toc1_)\n",
    "                               \n",
    "2. [Предобработка данных](#toc2_)\n",
    " \n",
    "3. [Исследовательский анализ данных (EDA)](#toc3_)\n",
    "\n",
    "4. [Объединение данных](#toc4_)\n",
    "   \n",
    "5. [Подсчет выручки](#toc5_)\n",
    "    \n",
    "6. [Проверка гипотез](#toc6_)\n",
    "    \n",
    "7. [Общий вывод](#toc7_)\n"
   ]
  },
  {
   "cell_type": "markdown",
   "id": "d5ec11a6",
   "metadata": {},
   "source": [
    "Для начала импортируем все библиотеки, которые нам понадобятся в ходе исследования."
   ]
  },
  {
   "cell_type": "code",
   "execution_count": 1,
   "id": "3fc7999a",
   "metadata": {},
   "outputs": [],
   "source": [
    "import pandas as pd\n",
    "import matplotlib.pyplot as plt\n",
    "from scipy import stats as st\n",
    "import numpy as np\n",
    "import seaborn as sns\n",
    "from termcolor import colored\n",
    "import os"
   ]
  },
  {
   "cell_type": "markdown",
   "id": "c42cbe00",
   "metadata": {},
   "source": [
    "## <a id='toc1_'></a>Загрузка данных [&#8593;](#toc0_)"
   ]
  },
  {
   "cell_type": "markdown",
   "id": "bb3ab00e",
   "metadata": {},
   "source": [
    "Считаем CSV-файлы с данными с помощью библиотеки pandas и сохраним их в датафреймы:"
   ]
  },
  {
   "cell_type": "code",
   "execution_count": 2,
   "id": "eff9f206",
   "metadata": {},
   "outputs": [],
   "source": [
    "data_users = pd.read_csv('/datasets/users_go.csv')\n",
    "data_rides = pd.read_csv('/datasets/rides_go.csv')\n",
    "data_subscriptions = pd.read_csv('/datasets/subscriptions_go.csv')"
   ]
  },
  {
   "cell_type": "markdown",
   "id": "eaa89ab5",
   "metadata": {},
   "source": [
    "Выведем первые строки каждого набора данных. Изучим общую информацию о каждом датафрейме."
   ]
  },
  {
   "cell_type": "code",
   "execution_count": 3,
   "id": "387d9eac",
   "metadata": {},
   "outputs": [
    {
     "name": "stdout",
     "output_type": "stream",
     "text": [
      "<class 'pandas.core.frame.DataFrame'>\n",
      "RangeIndex: 1565 entries, 0 to 1564\n",
      "Data columns (total 5 columns):\n",
      " #   Column             Non-Null Count  Dtype \n",
      "---  ------             --------------  ----- \n",
      " 0   user_id            1565 non-null   int64 \n",
      " 1   name               1565 non-null   object\n",
      " 2   age                1565 non-null   int64 \n",
      " 3   city               1565 non-null   object\n",
      " 4   subscription_type  1565 non-null   object\n",
      "dtypes: int64(2), object(3)\n",
      "memory usage: 61.3+ KB\n",
      "None\n"
     ]
    },
    {
     "data": {
      "text/html": [
       "<div>\n",
       "<style scoped>\n",
       "    .dataframe tbody tr th:only-of-type {\n",
       "        vertical-align: middle;\n",
       "    }\n",
       "\n",
       "    .dataframe tbody tr th {\n",
       "        vertical-align: top;\n",
       "    }\n",
       "\n",
       "    .dataframe thead th {\n",
       "        text-align: right;\n",
       "    }\n",
       "</style>\n",
       "<table border=\"1\" class=\"dataframe\">\n",
       "  <thead>\n",
       "    <tr style=\"text-align: right;\">\n",
       "      <th></th>\n",
       "      <th>user_id</th>\n",
       "      <th>name</th>\n",
       "      <th>age</th>\n",
       "      <th>city</th>\n",
       "      <th>subscription_type</th>\n",
       "    </tr>\n",
       "  </thead>\n",
       "  <tbody>\n",
       "    <tr>\n",
       "      <th>0</th>\n",
       "      <td>1</td>\n",
       "      <td>Кира</td>\n",
       "      <td>22</td>\n",
       "      <td>Тюмень</td>\n",
       "      <td>ultra</td>\n",
       "    </tr>\n",
       "    <tr>\n",
       "      <th>1</th>\n",
       "      <td>2</td>\n",
       "      <td>Станислав</td>\n",
       "      <td>31</td>\n",
       "      <td>Омск</td>\n",
       "      <td>ultra</td>\n",
       "    </tr>\n",
       "    <tr>\n",
       "      <th>2</th>\n",
       "      <td>3</td>\n",
       "      <td>Алексей</td>\n",
       "      <td>20</td>\n",
       "      <td>Москва</td>\n",
       "      <td>ultra</td>\n",
       "    </tr>\n",
       "    <tr>\n",
       "      <th>3</th>\n",
       "      <td>4</td>\n",
       "      <td>Константин</td>\n",
       "      <td>26</td>\n",
       "      <td>Ростов-на-Дону</td>\n",
       "      <td>ultra</td>\n",
       "    </tr>\n",
       "    <tr>\n",
       "      <th>4</th>\n",
       "      <td>5</td>\n",
       "      <td>Адель</td>\n",
       "      <td>28</td>\n",
       "      <td>Омск</td>\n",
       "      <td>ultra</td>\n",
       "    </tr>\n",
       "    <tr>\n",
       "      <th>...</th>\n",
       "      <td>...</td>\n",
       "      <td>...</td>\n",
       "      <td>...</td>\n",
       "      <td>...</td>\n",
       "      <td>...</td>\n",
       "    </tr>\n",
       "    <tr>\n",
       "      <th>1560</th>\n",
       "      <td>829</td>\n",
       "      <td>Федор</td>\n",
       "      <td>29</td>\n",
       "      <td>Пятигорск</td>\n",
       "      <td>free</td>\n",
       "    </tr>\n",
       "    <tr>\n",
       "      <th>1561</th>\n",
       "      <td>809</td>\n",
       "      <td>Юрий</td>\n",
       "      <td>26</td>\n",
       "      <td>Сочи</td>\n",
       "      <td>free</td>\n",
       "    </tr>\n",
       "    <tr>\n",
       "      <th>1562</th>\n",
       "      <td>307</td>\n",
       "      <td>Ясмина</td>\n",
       "      <td>19</td>\n",
       "      <td>Краснодар</td>\n",
       "      <td>ultra</td>\n",
       "    </tr>\n",
       "    <tr>\n",
       "      <th>1563</th>\n",
       "      <td>47</td>\n",
       "      <td>Юрий</td>\n",
       "      <td>28</td>\n",
       "      <td>Тюмень</td>\n",
       "      <td>ultra</td>\n",
       "    </tr>\n",
       "    <tr>\n",
       "      <th>1564</th>\n",
       "      <td>1045</td>\n",
       "      <td>Артемий</td>\n",
       "      <td>28</td>\n",
       "      <td>Ростов-на-Дону</td>\n",
       "      <td>free</td>\n",
       "    </tr>\n",
       "  </tbody>\n",
       "</table>\n",
       "<p>1565 rows × 5 columns</p>\n",
       "</div>"
      ],
      "text/plain": [
       "      user_id        name  age            city subscription_type\n",
       "0           1        Кира   22          Тюмень             ultra\n",
       "1           2   Станислав   31            Омск             ultra\n",
       "2           3     Алексей   20          Москва             ultra\n",
       "3           4  Константин   26  Ростов-на-Дону             ultra\n",
       "4           5       Адель   28            Омск             ultra\n",
       "...       ...         ...  ...             ...               ...\n",
       "1560      829       Федор   29       Пятигорск              free\n",
       "1561      809        Юрий   26            Сочи              free\n",
       "1562      307      Ясмина   19       Краснодар             ultra\n",
       "1563       47        Юрий   28          Тюмень             ultra\n",
       "1564     1045     Артемий   28  Ростов-на-Дону              free\n",
       "\n",
       "[1565 rows x 5 columns]"
      ]
     },
     "execution_count": 3,
     "metadata": {},
     "output_type": "execute_result"
    }
   ],
   "source": [
    "print(data_users.info())\n",
    "data_users"
   ]
  },
  {
   "cell_type": "code",
   "execution_count": 4,
   "id": "af5cca83",
   "metadata": {
    "scrolled": true
   },
   "outputs": [
    {
     "name": "stdout",
     "output_type": "stream",
     "text": [
      "<class 'pandas.core.frame.DataFrame'>\n",
      "RangeIndex: 18068 entries, 0 to 18067\n",
      "Data columns (total 4 columns):\n",
      " #   Column    Non-Null Count  Dtype  \n",
      "---  ------    --------------  -----  \n",
      " 0   user_id   18068 non-null  int64  \n",
      " 1   distance  18068 non-null  float64\n",
      " 2   duration  18068 non-null  float64\n",
      " 3   date      18068 non-null  object \n",
      "dtypes: float64(2), int64(1), object(1)\n",
      "memory usage: 564.8+ KB\n",
      "None\n"
     ]
    },
    {
     "data": {
      "text/html": [
       "<div>\n",
       "<style scoped>\n",
       "    .dataframe tbody tr th:only-of-type {\n",
       "        vertical-align: middle;\n",
       "    }\n",
       "\n",
       "    .dataframe tbody tr th {\n",
       "        vertical-align: top;\n",
       "    }\n",
       "\n",
       "    .dataframe thead th {\n",
       "        text-align: right;\n",
       "    }\n",
       "</style>\n",
       "<table border=\"1\" class=\"dataframe\">\n",
       "  <thead>\n",
       "    <tr style=\"text-align: right;\">\n",
       "      <th></th>\n",
       "      <th>user_id</th>\n",
       "      <th>distance</th>\n",
       "      <th>duration</th>\n",
       "      <th>date</th>\n",
       "    </tr>\n",
       "  </thead>\n",
       "  <tbody>\n",
       "    <tr>\n",
       "      <th>0</th>\n",
       "      <td>1</td>\n",
       "      <td>4409.919140</td>\n",
       "      <td>25.599769</td>\n",
       "      <td>2021-01-01</td>\n",
       "    </tr>\n",
       "    <tr>\n",
       "      <th>1</th>\n",
       "      <td>1</td>\n",
       "      <td>2617.592153</td>\n",
       "      <td>15.816871</td>\n",
       "      <td>2021-01-18</td>\n",
       "    </tr>\n",
       "    <tr>\n",
       "      <th>2</th>\n",
       "      <td>1</td>\n",
       "      <td>754.159807</td>\n",
       "      <td>6.232113</td>\n",
       "      <td>2021-04-20</td>\n",
       "    </tr>\n",
       "    <tr>\n",
       "      <th>3</th>\n",
       "      <td>1</td>\n",
       "      <td>2694.783254</td>\n",
       "      <td>18.511000</td>\n",
       "      <td>2021-08-11</td>\n",
       "    </tr>\n",
       "    <tr>\n",
       "      <th>4</th>\n",
       "      <td>1</td>\n",
       "      <td>4028.687306</td>\n",
       "      <td>26.265803</td>\n",
       "      <td>2021-08-28</td>\n",
       "    </tr>\n",
       "    <tr>\n",
       "      <th>...</th>\n",
       "      <td>...</td>\n",
       "      <td>...</td>\n",
       "      <td>...</td>\n",
       "      <td>...</td>\n",
       "    </tr>\n",
       "    <tr>\n",
       "      <th>18063</th>\n",
       "      <td>1534</td>\n",
       "      <td>3781.098080</td>\n",
       "      <td>19.822962</td>\n",
       "      <td>2021-11-04</td>\n",
       "    </tr>\n",
       "    <tr>\n",
       "      <th>18064</th>\n",
       "      <td>1534</td>\n",
       "      <td>2840.423057</td>\n",
       "      <td>21.409799</td>\n",
       "      <td>2021-11-16</td>\n",
       "    </tr>\n",
       "    <tr>\n",
       "      <th>18065</th>\n",
       "      <td>1534</td>\n",
       "      <td>3826.185507</td>\n",
       "      <td>18.435051</td>\n",
       "      <td>2021-11-18</td>\n",
       "    </tr>\n",
       "    <tr>\n",
       "      <th>18066</th>\n",
       "      <td>1534</td>\n",
       "      <td>2902.308661</td>\n",
       "      <td>16.674362</td>\n",
       "      <td>2021-11-27</td>\n",
       "    </tr>\n",
       "    <tr>\n",
       "      <th>18067</th>\n",
       "      <td>1534</td>\n",
       "      <td>2371.711192</td>\n",
       "      <td>15.893917</td>\n",
       "      <td>2021-12-29</td>\n",
       "    </tr>\n",
       "  </tbody>\n",
       "</table>\n",
       "<p>18068 rows × 4 columns</p>\n",
       "</div>"
      ],
      "text/plain": [
       "       user_id     distance   duration        date\n",
       "0            1  4409.919140  25.599769  2021-01-01\n",
       "1            1  2617.592153  15.816871  2021-01-18\n",
       "2            1   754.159807   6.232113  2021-04-20\n",
       "3            1  2694.783254  18.511000  2021-08-11\n",
       "4            1  4028.687306  26.265803  2021-08-28\n",
       "...        ...          ...        ...         ...\n",
       "18063     1534  3781.098080  19.822962  2021-11-04\n",
       "18064     1534  2840.423057  21.409799  2021-11-16\n",
       "18065     1534  3826.185507  18.435051  2021-11-18\n",
       "18066     1534  2902.308661  16.674362  2021-11-27\n",
       "18067     1534  2371.711192  15.893917  2021-12-29\n",
       "\n",
       "[18068 rows x 4 columns]"
      ]
     },
     "execution_count": 4,
     "metadata": {},
     "output_type": "execute_result"
    }
   ],
   "source": [
    "print(data_rides.info())\n",
    "data_rides"
   ]
  },
  {
   "cell_type": "code",
   "execution_count": 5,
   "id": "7c5f79a1",
   "metadata": {
    "scrolled": true
   },
   "outputs": [
    {
     "name": "stdout",
     "output_type": "stream",
     "text": [
      "<class 'pandas.core.frame.DataFrame'>\n",
      "RangeIndex: 2 entries, 0 to 1\n",
      "Data columns (total 4 columns):\n",
      " #   Column             Non-Null Count  Dtype \n",
      "---  ------             --------------  ----- \n",
      " 0   subscription_type  2 non-null      object\n",
      " 1   minute_price       2 non-null      int64 \n",
      " 2   start_ride_price   2 non-null      int64 \n",
      " 3   subscription_fee   2 non-null      int64 \n",
      "dtypes: int64(3), object(1)\n",
      "memory usage: 192.0+ bytes\n",
      "None\n"
     ]
    },
    {
     "data": {
      "text/html": [
       "<div>\n",
       "<style scoped>\n",
       "    .dataframe tbody tr th:only-of-type {\n",
       "        vertical-align: middle;\n",
       "    }\n",
       "\n",
       "    .dataframe tbody tr th {\n",
       "        vertical-align: top;\n",
       "    }\n",
       "\n",
       "    .dataframe thead th {\n",
       "        text-align: right;\n",
       "    }\n",
       "</style>\n",
       "<table border=\"1\" class=\"dataframe\">\n",
       "  <thead>\n",
       "    <tr style=\"text-align: right;\">\n",
       "      <th></th>\n",
       "      <th>subscription_type</th>\n",
       "      <th>minute_price</th>\n",
       "      <th>start_ride_price</th>\n",
       "      <th>subscription_fee</th>\n",
       "    </tr>\n",
       "  </thead>\n",
       "  <tbody>\n",
       "    <tr>\n",
       "      <th>0</th>\n",
       "      <td>free</td>\n",
       "      <td>8</td>\n",
       "      <td>50</td>\n",
       "      <td>0</td>\n",
       "    </tr>\n",
       "    <tr>\n",
       "      <th>1</th>\n",
       "      <td>ultra</td>\n",
       "      <td>6</td>\n",
       "      <td>0</td>\n",
       "      <td>199</td>\n",
       "    </tr>\n",
       "  </tbody>\n",
       "</table>\n",
       "</div>"
      ],
      "text/plain": [
       "  subscription_type  minute_price  start_ride_price  subscription_fee\n",
       "0              free             8                50                 0\n",
       "1             ultra             6                 0               199"
      ]
     },
     "execution_count": 5,
     "metadata": {},
     "output_type": "execute_result"
    }
   ],
   "source": [
    "print(data_subscriptions.info())\n",
    "data_subscriptions"
   ]
  },
  {
   "cell_type": "markdown",
   "id": "04961706",
   "metadata": {},
   "source": [
    "Данные на первый взгляд выглядят целостно, без явных дефектов. Бросается в глаза - неправильный тип данных даты. Необходимо поменять его."
   ]
  },
  {
   "cell_type": "markdown",
   "id": "e95ebca7",
   "metadata": {},
   "source": [
    "## <a id='toc2_'></a>Предобработка данных [&#8593;](#toc0_)"
   ]
  },
  {
   "cell_type": "markdown",
   "id": "89093149",
   "metadata": {},
   "source": [
    "На этапе предобработки обработаем типы данных, пропущенные значения и дубликаты, а также добавим новый столбец с месяцами поездок."
   ]
  },
  {
   "cell_type": "markdown",
   "id": "68cc8a15",
   "metadata": {},
   "source": [
    "1. Приведем столбец date к типу даты pandas."
   ]
  },
  {
   "cell_type": "code",
   "execution_count": 6,
   "id": "1fb8f44a",
   "metadata": {},
   "outputs": [],
   "source": [
    "data_rides['date'] = pd.to_datetime(data_rides['date'], format='%Y-%m-%d') #Заменим тип данных в столбце с датами\n"
   ]
  },
  {
   "cell_type": "markdown",
   "id": "84c7422e",
   "metadata": {},
   "source": [
    "2. Создадим новый столбец с номером месяца на основе столбца date."
   ]
  },
  {
   "cell_type": "code",
   "execution_count": 7,
   "id": "5c7c23f4",
   "metadata": {
    "scrolled": true
   },
   "outputs": [
    {
     "name": "stdout",
     "output_type": "stream",
     "text": [
      "<class 'pandas.core.frame.DataFrame'>\n",
      "RangeIndex: 18068 entries, 0 to 18067\n",
      "Data columns (total 5 columns):\n",
      " #   Column    Non-Null Count  Dtype         \n",
      "---  ------    --------------  -----         \n",
      " 0   user_id   18068 non-null  int64         \n",
      " 1   distance  18068 non-null  float64       \n",
      " 2   duration  18068 non-null  float64       \n",
      " 3   date      18068 non-null  datetime64[ns]\n",
      " 4   month     18068 non-null  int64         \n",
      "dtypes: datetime64[ns](1), float64(2), int64(2)\n",
      "memory usage: 705.9 KB\n",
      "None\n"
     ]
    },
    {
     "data": {
      "text/html": [
       "<div>\n",
       "<style scoped>\n",
       "    .dataframe tbody tr th:only-of-type {\n",
       "        vertical-align: middle;\n",
       "    }\n",
       "\n",
       "    .dataframe tbody tr th {\n",
       "        vertical-align: top;\n",
       "    }\n",
       "\n",
       "    .dataframe thead th {\n",
       "        text-align: right;\n",
       "    }\n",
       "</style>\n",
       "<table border=\"1\" class=\"dataframe\">\n",
       "  <thead>\n",
       "    <tr style=\"text-align: right;\">\n",
       "      <th></th>\n",
       "      <th>user_id</th>\n",
       "      <th>distance</th>\n",
       "      <th>duration</th>\n",
       "      <th>date</th>\n",
       "      <th>month</th>\n",
       "    </tr>\n",
       "  </thead>\n",
       "  <tbody>\n",
       "    <tr>\n",
       "      <th>0</th>\n",
       "      <td>1</td>\n",
       "      <td>4409.919140</td>\n",
       "      <td>25.599769</td>\n",
       "      <td>2021-01-01</td>\n",
       "      <td>1</td>\n",
       "    </tr>\n",
       "    <tr>\n",
       "      <th>1</th>\n",
       "      <td>1</td>\n",
       "      <td>2617.592153</td>\n",
       "      <td>15.816871</td>\n",
       "      <td>2021-01-18</td>\n",
       "      <td>1</td>\n",
       "    </tr>\n",
       "    <tr>\n",
       "      <th>2</th>\n",
       "      <td>1</td>\n",
       "      <td>754.159807</td>\n",
       "      <td>6.232113</td>\n",
       "      <td>2021-04-20</td>\n",
       "      <td>4</td>\n",
       "    </tr>\n",
       "    <tr>\n",
       "      <th>3</th>\n",
       "      <td>1</td>\n",
       "      <td>2694.783254</td>\n",
       "      <td>18.511000</td>\n",
       "      <td>2021-08-11</td>\n",
       "      <td>8</td>\n",
       "    </tr>\n",
       "    <tr>\n",
       "      <th>4</th>\n",
       "      <td>1</td>\n",
       "      <td>4028.687306</td>\n",
       "      <td>26.265803</td>\n",
       "      <td>2021-08-28</td>\n",
       "      <td>8</td>\n",
       "    </tr>\n",
       "    <tr>\n",
       "      <th>5</th>\n",
       "      <td>1</td>\n",
       "      <td>2770.890808</td>\n",
       "      <td>16.650138</td>\n",
       "      <td>2021-10-09</td>\n",
       "      <td>10</td>\n",
       "    </tr>\n",
       "    <tr>\n",
       "      <th>6</th>\n",
       "      <td>1</td>\n",
       "      <td>3039.020292</td>\n",
       "      <td>14.927879</td>\n",
       "      <td>2021-10-19</td>\n",
       "      <td>10</td>\n",
       "    </tr>\n",
       "    <tr>\n",
       "      <th>7</th>\n",
       "      <td>1</td>\n",
       "      <td>2842.118050</td>\n",
       "      <td>23.117468</td>\n",
       "      <td>2021-11-06</td>\n",
       "      <td>11</td>\n",
       "    </tr>\n",
       "    <tr>\n",
       "      <th>8</th>\n",
       "      <td>1</td>\n",
       "      <td>3412.690668</td>\n",
       "      <td>15.238072</td>\n",
       "      <td>2021-11-14</td>\n",
       "      <td>11</td>\n",
       "    </tr>\n",
       "    <tr>\n",
       "      <th>9</th>\n",
       "      <td>1</td>\n",
       "      <td>748.690645</td>\n",
       "      <td>15.041884</td>\n",
       "      <td>2021-11-22</td>\n",
       "      <td>11</td>\n",
       "    </tr>\n",
       "  </tbody>\n",
       "</table>\n",
       "</div>"
      ],
      "text/plain": [
       "   user_id     distance   duration       date  month\n",
       "0        1  4409.919140  25.599769 2021-01-01      1\n",
       "1        1  2617.592153  15.816871 2021-01-18      1\n",
       "2        1   754.159807   6.232113 2021-04-20      4\n",
       "3        1  2694.783254  18.511000 2021-08-11      8\n",
       "4        1  4028.687306  26.265803 2021-08-28      8\n",
       "5        1  2770.890808  16.650138 2021-10-09     10\n",
       "6        1  3039.020292  14.927879 2021-10-19     10\n",
       "7        1  2842.118050  23.117468 2021-11-06     11\n",
       "8        1  3412.690668  15.238072 2021-11-14     11\n",
       "9        1   748.690645  15.041884 2021-11-22     11"
      ]
     },
     "execution_count": 7,
     "metadata": {},
     "output_type": "execute_result"
    }
   ],
   "source": [
    "data_rides['month'] = data_rides['date'].dt.month\n",
    "print(data_rides.info())\n",
    "data_rides.head(10)"
   ]
  },
  {
   "cell_type": "markdown",
   "id": "f87a5b02",
   "metadata": {},
   "source": [
    "Здесь проверим, за какой период имеются данные:\n",
    "\n"
   ]
  },
  {
   "cell_type": "code",
   "execution_count": 8,
   "id": "3e50641b",
   "metadata": {},
   "outputs": [
    {
     "name": "stdout",
     "output_type": "stream",
     "text": [
      "2021-12-30 00:00:00 2021-01-01 00:00:00\n"
     ]
    }
   ],
   "source": [
    "print(max(data_rides['date']), min(data_rides['date']))"
   ]
  },
  {
   "cell_type": "markdown",
   "id": "b8202a7d",
   "metadata": {},
   "source": [
    "Данные представлены за один 2021 год "
   ]
  },
  {
   "cell_type": "markdown",
   "id": "d2c421f9",
   "metadata": {},
   "source": [
    "3. Проверим наличие пропущенных значений и дубликатов в датафреймах."
   ]
  },
  {
   "cell_type": "code",
   "execution_count": 9,
   "id": "a82f3582",
   "metadata": {
    "scrolled": true
   },
   "outputs": [
    {
     "name": "stdout",
     "output_type": "stream",
     "text": [
      "user_id              0\n",
      "name                 0\n",
      "age                  0\n",
      "city                 0\n",
      "subscription_type    0\n",
      "dtype: int64 \n",
      "\n",
      "user_id     0\n",
      "distance    0\n",
      "duration    0\n",
      "date        0\n",
      "month       0\n",
      "dtype: int64 \n",
      "\n",
      "subscription_type    0\n",
      "minute_price         0\n",
      "start_ride_price     0\n",
      "subscription_fee     0\n",
      "dtype: int64\n"
     ]
    }
   ],
   "source": [
    "print(data_users.isna().sum(),'\\n')\n",
    "print(data_rides.isna().sum(),'\\n')\n",
    "print(data_subscriptions.isna().sum())"
   ]
  },
  {
   "cell_type": "markdown",
   "id": "23caca4b",
   "metadata": {},
   "source": [
    "Пропусков нет. Теперь проверим датасеты на явные и неявные дубликаты:"
   ]
  },
  {
   "cell_type": "code",
   "execution_count": 10,
   "id": "d090fcf3",
   "metadata": {},
   "outputs": [
    {
     "data": {
      "text/plain": [
       "31"
      ]
     },
     "execution_count": 10,
     "metadata": {},
     "output_type": "execute_result"
    }
   ],
   "source": [
    "data_users.duplicated().sum()"
   ]
  },
  {
   "cell_type": "markdown",
   "id": "a3c75c56",
   "metadata": {},
   "source": [
    "Уберем явные дубликаты в данном датасете:"
   ]
  },
  {
   "cell_type": "code",
   "execution_count": 11,
   "id": "2fbf8e2e",
   "metadata": {
    "scrolled": true
   },
   "outputs": [
    {
     "name": "stdout",
     "output_type": "stream",
     "text": [
      "<class 'pandas.core.frame.DataFrame'>\n",
      "RangeIndex: 1534 entries, 0 to 1533\n",
      "Data columns (total 6 columns):\n",
      " #   Column             Non-Null Count  Dtype \n",
      "---  ------             --------------  ----- \n",
      " 0   index              1534 non-null   int64 \n",
      " 1   user_id            1534 non-null   int64 \n",
      " 2   name               1534 non-null   object\n",
      " 3   age                1534 non-null   int64 \n",
      " 4   city               1534 non-null   object\n",
      " 5   subscription_type  1534 non-null   object\n",
      "dtypes: int64(3), object(3)\n",
      "memory usage: 72.0+ KB\n",
      "None\n"
     ]
    },
    {
     "data": {
      "text/plain": [
       "0"
      ]
     },
     "execution_count": 11,
     "metadata": {},
     "output_type": "execute_result"
    }
   ],
   "source": [
    "data_users = data_users.drop_duplicates().reset_index()\n",
    "print(data_users.info())\n",
    "data_users.duplicated().sum()"
   ]
  },
  {
   "cell_type": "markdown",
   "id": "550a9da2",
   "metadata": {},
   "source": [
    "Было 1565 строк, стало 1534, следовательно, убрали 31 дубликат. \n",
    "\n",
    "Проверим на неявные дубликаты:"
   ]
  },
  {
   "cell_type": "code",
   "execution_count": 12,
   "id": "10235c8c",
   "metadata": {},
   "outputs": [
    {
     "name": "stdout",
     "output_type": "stream",
     "text": [
      "['Тюмень' 'Омск' 'Москва' 'Ростов-на-Дону' 'Краснодар' 'Пятигорск'\n",
      " 'Екатеринбург' 'Сочи'] \n",
      "\n",
      "['ultra' 'free'] \n",
      "\n"
     ]
    }
   ],
   "source": [
    "print(data_users['city'].unique(),'\\n')\n",
    "print(data_users['subscription_type'].unique(),'\\n')"
   ]
  },
  {
   "cell_type": "markdown",
   "id": "1486282f",
   "metadata": {},
   "source": [
    "Неявных дубликатов здесь нет.\n"
   ]
  },
  {
   "cell_type": "markdown",
   "id": "1cf6d6c8",
   "metadata": {},
   "source": [
    "Проверим остальные датафреймы подобным образом:"
   ]
  },
  {
   "cell_type": "code",
   "execution_count": 13,
   "id": "627a7b4b",
   "metadata": {},
   "outputs": [
    {
     "name": "stdout",
     "output_type": "stream",
     "text": [
      "0 \n",
      "\n",
      "0\n"
     ]
    }
   ],
   "source": [
    "print(data_rides.duplicated().sum(),'\\n')\n",
    "print(data_subscriptions.duplicated().sum())"
   ]
  },
  {
   "cell_type": "markdown",
   "id": "15e15750",
   "metadata": {},
   "source": [
    "В данном датафрейме нет дубликатов, как и следовало ожидать."
   ]
  },
  {
   "cell_type": "markdown",
   "id": "212593c7",
   "metadata": {},
   "source": [
    "## <a id='toc3_'></a>Исследовательский анализ данных(EDA) [&#8593;](#toc0_)"
   ]
  },
  {
   "cell_type": "markdown",
   "id": "33de4931",
   "metadata": {},
   "source": [
    "Опишем и визуализируем общую информацию о пользователях и поездках.\n"
   ]
  },
  {
   "cell_type": "markdown",
   "id": "2b3b9f67",
   "metadata": {},
   "source": [
    "1. Частота встречаемости городов:"
   ]
  },
  {
   "cell_type": "code",
   "execution_count": 15,
   "id": "002487fa",
   "metadata": {},
   "outputs": [],
   "source": [
    "data_city = data_users.pivot_table(index='city',values='user_id', aggfunc='count').sort_values(by = 'user_id', ascending =False)\n",
    "data_city.columns = ['count']\n"
   ]
  },
  {
   "cell_type": "code",
   "execution_count": 16,
   "id": "4caa1179",
   "metadata": {
    "scrolled": true
   },
   "outputs": [
    {
     "data": {
      "image/png": "[encoded data removed]",
      "text/plain": [
       "<Figure size 432x288 with 1 Axes>"
      ]
     },
     "metadata": {
      "needs_background": "light"
     },
     "output_type": "display_data"
    }
   ],
   "source": [
    "def addlabels(x,y):\n",
    "    for i in range(len(data_city)):\n",
    "        plt.text(i, y[i]//2, y[i], ha = 'center')\n",
    "        \n",
    "data_city.plot(kind='bar')\n",
    "addlabels(data_city['count'], data_city['count'])\n",
    "plt.title('Частота встречаемости городов')\n",
    "plt.xlabel('Город')\n",
    "plt.ylabel('Количество')\n",
    "plt.xticks(rotation=100)\n",
    "plt.show()"
   ]
  },
  {
   "cell_type": "markdown",
   "id": "1c72fd55",
   "metadata": {},
   "source": [
    "Чаще всего пользуются сервисом в Пятигорске(219), Екатеринбурге(204) и Ростове-на-Дону(198), меньше всего- в Москве(168). По срезу понятно, что в каждом городе заргеистрировано хотя бы 150 пользователей."
   ]
  },
  {
   "cell_type": "markdown",
   "id": "5aa4f6d6",
   "metadata": {},
   "source": [
    "2. Соотношение пользователей с подпиской и без подписки:\n"
   ]
  },
  {
   "cell_type": "code",
   "execution_count": 18,
   "id": "944c6677",
   "metadata": {},
   "outputs": [
    {
     "data": {
      "image/png": "[encoded data removed]",
      "text/plain": [
       "<Figure size 432x288 with 1 Axes>"
      ]
     },
     "metadata": {},
     "output_type": "display_data"
    }
   ],
   "source": [
    "_table = data_users.value_counts('subscription_type')\n",
    "data, labels = _table.values, _table.index\n",
    "plt.pie(data, labels=labels, autopct='%.0f%%', colors=['tab:blue', 'tab:red'])\n",
    "plt.title('Соотношение пользователей с платной подпиской и без')\n",
    "plt.show()"
   ]
  },
  {
   "cell_type": "markdown",
   "id": "6a4602d4",
   "metadata": {},
   "source": [
    "Как и следовало ожидать, пользователей с бесплатной подпиской больше."
   ]
  },
  {
   "cell_type": "markdown",
   "id": "e34ff300",
   "metadata": {},
   "source": [
    "3. Оценим возраст пользователей.\n"
   ]
  },
  {
   "cell_type": "code",
   "execution_count": 19,
   "id": "21a308b4",
   "metadata": {},
   "outputs": [
    {
     "data": {
      "text/plain": [
       "array([22, 31, 20, 26, 28, 25, 23, 21, 18, 27, 24, 29, 32, 14, 19, 30, 17,\n",
       "       12, 35, 33, 13, 15, 37, 16, 34, 38, 36, 39, 43])"
      ]
     },
     "execution_count": 19,
     "metadata": {},
     "output_type": "execute_result"
    }
   ],
   "source": [
    "data_users['age'].unique()"
   ]
  },
  {
   "cell_type": "code",
   "execution_count": 20,
   "id": "f1ab3f92",
   "metadata": {},
   "outputs": [
    {
     "data": {
      "text/plain": [
       "Text(0, 0.5, 'Количество')"
      ]
     },
     "execution_count": 20,
     "metadata": {},
     "output_type": "execute_result"
    },
    {
     "data": {
      "image/png": "[encoded data removed]",
      "text/plain": [
       "<Figure size 1296x360 with 1 Axes>"
      ]
     },
     "metadata": {
      "needs_background": "light"
     },
     "output_type": "display_data"
    }
   ],
   "source": [
    "data_users['age'].hist(bins=29,figsize=(18,5))\n",
    "plt.title('Частота встречаемости возрастов')\n",
    "plt.xlabel('Возраст')\n",
    "plt.ylabel('Количество')"
   ]
  },
  {
   "cell_type": "markdown",
   "id": "712a81d4-3049-437e-9d11-18a9887e520f",
   "metadata": {},
   "source": [
    "4. Оценим расстояния, которые преодолевают пользователи за поездку:"
   ]
  },
  {
   "cell_type": "markdown",
   "id": "7d3c1e0f",
   "metadata": {},
   "source": [
    "<div class=\"alert alert-info\"  style=\"border-radius: 15px; box-shadow: 4px 4px 4px; border: 1px solid \">\n",
    "\n",
    "   <div> Обычно пользуюсь функцией describe(), пропустил в данном случае. Исправляюсь: <a class=\"tocSkip\"> <div>"
   ]
  },
  {
   "cell_type": "code",
   "execution_count": 21,
   "id": "e5124838",
   "metadata": {
    "scrolled": true
   },
   "outputs": [
    {
     "data": {
      "text/plain": [
       "count    1534.000000\n",
       "mean       24.903520\n",
       "std         4.572367\n",
       "min        12.000000\n",
       "25%        22.000000\n",
       "50%        25.000000\n",
       "75%        28.000000\n",
       "max        43.000000\n",
       "Name: age, dtype: float64"
      ]
     },
     "execution_count": 21,
     "metadata": {},
     "output_type": "execute_result"
    }
   ],
   "source": [
    "data_users['age'].describe()"
   ]
  },
  {
   "cell_type": "markdown",
   "id": "c722fb84",
   "metadata": {},
   "source": [
    "<div class=\"alert alert-info\"  style=\"border-radius: 15px; box-shadow: 4px 4px 4px; border: 1px solid \">\n",
    "\n",
    "   <div> Подкорректировал вывод: <a class=\"tocSkip\"> <div>"
   ]
  },
  {
   "cell_type": "markdown",
   "id": "908ad8f1",
   "metadata": {},
   "source": [
    "Видим явный пик среди возрастов пользователей-27 лет. В остальном, распределение похоже на нормальное вокруг 25 лет. Самые часто встречающиеся значения находятся в диапазоне от 22 до 28 лет, действительно. Среднее и медиана близки друг к другу, значит, сильно влияющих выбросов нет."
   ]
  },
  {
   "cell_type": "markdown",
   "id": "e70c8475",
   "metadata": {},
   "source": [
    "4. Оценим расстояния, которые преодолевают пользователи за поездку:\n"
   ]
  },
  {
   "cell_type": "code",
   "execution_count": 22,
   "id": "54d007c8",
   "metadata": {},
   "outputs": [
    {
     "data": {
      "text/plain": [
       "count    18068.000000\n",
       "mean      3070.659976\n",
       "std       1116.831209\n",
       "min          0.855683\n",
       "25%       2543.226360\n",
       "50%       3133.609994\n",
       "75%       3776.222735\n",
       "max       7211.007745\n",
       "Name: distance, dtype: float64"
      ]
     },
     "execution_count": 22,
     "metadata": {},
     "output_type": "execute_result"
    }
   ],
   "source": [
    "data_rides['distance'].describe()"
   ]
  },
  {
   "cell_type": "code",
   "execution_count": 23,
   "id": "4a486b48",
   "metadata": {},
   "outputs": [
    {
     "data": {
      "text/plain": [
       "Text(0, 0.5, 'Количество')"
      ]
     },
     "execution_count": 23,
     "metadata": {},
     "output_type": "execute_result"
    },
    {
     "data": {
      "image/png": "[encoded data removed]",
      "text/plain": [
       "<Figure size 432x288 with 1 Axes>"
      ]
     },
     "metadata": {
      "needs_background": "light"
     },
     "output_type": "display_data"
    }
   ],
   "source": [
    "data_rides['distance'].hist(bins = 20)\n",
    "plt.title('Частота поездок определенной длины')\n",
    "plt.xlabel('Длина поездки')\n",
    "plt.ylabel('Количество')"
   ]
  },
  {
   "cell_type": "markdown",
   "id": "adc0d4a8",
   "metadata": {},
   "source": [
    "Видно, что в среднем пользователи проезжают 3100-3200 м за поездку. Большая часть поездок находится в промежутке от 2500 до 3800 м. Однако есть и крайне малые значения, так и большие - 7200 м. Распределение похожее на нормальное.\n",
    "\n",
    "Есть пик в самом начале, связанный возможно с тем, что некоторые люди бросают самокаты по причине того, что им не понравилось или не получилось использовать должным образом."
   ]
  },
  {
   "cell_type": "markdown",
   "id": "ad524cb8",
   "metadata": {},
   "source": [
    "5. Оценим продолжительность поездок:"
   ]
  },
  {
   "cell_type": "code",
   "execution_count": 24,
   "id": "5bdf6f9f",
   "metadata": {},
   "outputs": [
    {
     "data": {
      "text/plain": [
       "count    18068.000000\n",
       "mean        17.805011\n",
       "std          6.091051\n",
       "min          0.500000\n",
       "25%         13.597563\n",
       "50%         17.678395\n",
       "75%         21.724800\n",
       "max         40.823963\n",
       "Name: duration, dtype: float64"
      ]
     },
     "execution_count": 24,
     "metadata": {},
     "output_type": "execute_result"
    }
   ],
   "source": [
    "data_rides['duration'].describe()"
   ]
  },
  {
   "cell_type": "code",
   "execution_count": 25,
   "id": "cd6a488a",
   "metadata": {},
   "outputs": [
    {
     "data": {
      "text/plain": [
       "Text(0, 0.5, 'Количество')"
      ]
     },
     "execution_count": 25,
     "metadata": {},
     "output_type": "execute_result"
    },
    {
     "data": {
      "image/png": "[encoded data removed]",
      "text/plain": [
       "<Figure size 432x288 with 1 Axes>"
      ]
     },
     "metadata": {
      "needs_background": "light"
     },
     "output_type": "display_data"
    }
   ],
   "source": [
    "data_rides['duration'].hist(bins = 20)\n",
    "plt.title('Частота поездок определенного времени')\n",
    "plt.xlabel('Время поездки')\n",
    "plt.ylabel('Количество')"
   ]
  },
  {
   "cell_type": "markdown",
   "id": "6cb81917",
   "metadata": {},
   "source": [
    "БОльшая часть поездок по длительности занимает от 14 до 24 минут. Средняя в районе 18. Однако есть и пики, означающие, возможно, поездки по одним и тем же маршрутам или \"групповые\" заезды. "
   ]
  },
  {
   "cell_type": "markdown",
   "id": "25fd81ef",
   "metadata": {},
   "source": [
    " Проверяем аномально длинные заезды за короткое время:"
   ]
  },
  {
   "cell_type": "code",
   "execution_count": 26,
   "id": "54c01f1f",
   "metadata": {},
   "outputs": [
    {
     "data": {
      "text/html": [
       "<div>\n",
       "<style scoped>\n",
       "    .dataframe tbody tr th:only-of-type {\n",
       "        vertical-align: middle;\n",
       "    }\n",
       "\n",
       "    .dataframe tbody tr th {\n",
       "        vertical-align: top;\n",
       "    }\n",
       "\n",
       "    .dataframe thead th {\n",
       "        text-align: right;\n",
       "    }\n",
       "</style>\n",
       "<table border=\"1\" class=\"dataframe\">\n",
       "  <thead>\n",
       "    <tr style=\"text-align: right;\">\n",
       "      <th></th>\n",
       "      <th>user_id</th>\n",
       "      <th>distance</th>\n",
       "      <th>duration</th>\n",
       "      <th>date</th>\n",
       "      <th>month</th>\n",
       "    </tr>\n",
       "  </thead>\n",
       "  <tbody>\n",
       "    <tr>\n",
       "      <th>6531</th>\n",
       "      <td>701</td>\n",
       "      <td>4196.445201</td>\n",
       "      <td>0.5</td>\n",
       "      <td>2021-08-31</td>\n",
       "      <td>8</td>\n",
       "    </tr>\n",
       "    <tr>\n",
       "      <th>6570</th>\n",
       "      <td>704</td>\n",
       "      <td>4830.824371</td>\n",
       "      <td>0.5</td>\n",
       "      <td>2021-10-14</td>\n",
       "      <td>10</td>\n",
       "    </tr>\n",
       "    <tr>\n",
       "      <th>6680</th>\n",
       "      <td>712</td>\n",
       "      <td>4684.004397</td>\n",
       "      <td>0.5</td>\n",
       "      <td>2021-03-04</td>\n",
       "      <td>3</td>\n",
       "    </tr>\n",
       "    <tr>\n",
       "      <th>6695</th>\n",
       "      <td>713</td>\n",
       "      <td>5215.642710</td>\n",
       "      <td>0.5</td>\n",
       "      <td>2021-02-25</td>\n",
       "      <td>2</td>\n",
       "    </tr>\n",
       "    <tr>\n",
       "      <th>6768</th>\n",
       "      <td>718</td>\n",
       "      <td>5197.436649</td>\n",
       "      <td>0.5</td>\n",
       "      <td>2021-02-11</td>\n",
       "      <td>2</td>\n",
       "    </tr>\n",
       "    <tr>\n",
       "      <th>...</th>\n",
       "      <td>...</td>\n",
       "      <td>...</td>\n",
       "      <td>...</td>\n",
       "      <td>...</td>\n",
       "      <td>...</td>\n",
       "    </tr>\n",
       "    <tr>\n",
       "      <th>17004</th>\n",
       "      <td>1460</td>\n",
       "      <td>5531.335845</td>\n",
       "      <td>0.5</td>\n",
       "      <td>2021-01-19</td>\n",
       "      <td>1</td>\n",
       "    </tr>\n",
       "    <tr>\n",
       "      <th>17242</th>\n",
       "      <td>1477</td>\n",
       "      <td>6724.932981</td>\n",
       "      <td>0.5</td>\n",
       "      <td>2021-01-12</td>\n",
       "      <td>1</td>\n",
       "    </tr>\n",
       "    <tr>\n",
       "      <th>17314</th>\n",
       "      <td>1483</td>\n",
       "      <td>4445.481070</td>\n",
       "      <td>0.5</td>\n",
       "      <td>2021-03-06</td>\n",
       "      <td>3</td>\n",
       "    </tr>\n",
       "    <tr>\n",
       "      <th>17505</th>\n",
       "      <td>1496</td>\n",
       "      <td>5722.551787</td>\n",
       "      <td>0.5</td>\n",
       "      <td>2021-02-14</td>\n",
       "      <td>2</td>\n",
       "    </tr>\n",
       "    <tr>\n",
       "      <th>17909</th>\n",
       "      <td>1524</td>\n",
       "      <td>4103.998874</td>\n",
       "      <td>0.5</td>\n",
       "      <td>2021-06-18</td>\n",
       "      <td>6</td>\n",
       "    </tr>\n",
       "  </tbody>\n",
       "</table>\n",
       "<p>95 rows × 5 columns</p>\n",
       "</div>"
      ],
      "text/plain": [
       "       user_id     distance  duration       date  month\n",
       "6531       701  4196.445201       0.5 2021-08-31      8\n",
       "6570       704  4830.824371       0.5 2021-10-14     10\n",
       "6680       712  4684.004397       0.5 2021-03-04      3\n",
       "6695       713  5215.642710       0.5 2021-02-25      2\n",
       "6768       718  5197.436649       0.5 2021-02-11      2\n",
       "...        ...          ...       ...        ...    ...\n",
       "17004     1460  5531.335845       0.5 2021-01-19      1\n",
       "17242     1477  6724.932981       0.5 2021-01-12      1\n",
       "17314     1483  4445.481070       0.5 2021-03-06      3\n",
       "17505     1496  5722.551787       0.5 2021-02-14      2\n",
       "17909     1524  4103.998874       0.5 2021-06-18      6\n",
       "\n",
       "[95 rows x 5 columns]"
      ]
     },
     "execution_count": 26,
     "metadata": {},
     "output_type": "execute_result"
    }
   ],
   "source": [
    "data_rides.loc[data_rides['duration']<1]\n"
   ]
  },
  {
   "cell_type": "markdown",
   "id": "058c88a2",
   "metadata": {},
   "source": [
    "Действительно, среди данных есть 95 строк с аномально коротким временем заезда, но большим расстоянием при этом. Выбросы удалить не сможем из-за большого искажения данных. 1/18 это большая часть в нашем случае. "
   ]
  },
  {
   "cell_type": "markdown",
   "id": "4ef51331",
   "metadata": {},
   "source": [
    "## <a id='toc4_'></a>Объединение данных [&#8593;](#toc0_)"
   ]
  },
  {
   "cell_type": "markdown",
   "id": "b1410adf",
   "metadata": {},
   "source": [
    "1. Объединим данные о пользователях, поездках и подписках в один датафрейм."
   ]
  },
  {
   "cell_type": "code",
   "execution_count": 27,
   "id": "6c8b900a",
   "metadata": {},
   "outputs": [
    {
     "data": {
      "text/html": [
       "<div>\n",
       "<style scoped>\n",
       "    .dataframe tbody tr th:only-of-type {\n",
       "        vertical-align: middle;\n",
       "    }\n",
       "\n",
       "    .dataframe tbody tr th {\n",
       "        vertical-align: top;\n",
       "    }\n",
       "\n",
       "    .dataframe thead th {\n",
       "        text-align: right;\n",
       "    }\n",
       "</style>\n",
       "<table border=\"1\" class=\"dataframe\">\n",
       "  <thead>\n",
       "    <tr style=\"text-align: right;\">\n",
       "      <th></th>\n",
       "      <th>index</th>\n",
       "      <th>user_id</th>\n",
       "      <th>name</th>\n",
       "      <th>age</th>\n",
       "      <th>city</th>\n",
       "      <th>subscription_type</th>\n",
       "      <th>distance</th>\n",
       "      <th>duration</th>\n",
       "      <th>date</th>\n",
       "      <th>month</th>\n",
       "    </tr>\n",
       "  </thead>\n",
       "  <tbody>\n",
       "    <tr>\n",
       "      <th>0</th>\n",
       "      <td>0</td>\n",
       "      <td>1</td>\n",
       "      <td>Кира</td>\n",
       "      <td>22</td>\n",
       "      <td>Тюмень</td>\n",
       "      <td>ultra</td>\n",
       "      <td>4409.919140</td>\n",
       "      <td>25.599769</td>\n",
       "      <td>2021-01-01</td>\n",
       "      <td>1</td>\n",
       "    </tr>\n",
       "    <tr>\n",
       "      <th>1</th>\n",
       "      <td>0</td>\n",
       "      <td>1</td>\n",
       "      <td>Кира</td>\n",
       "      <td>22</td>\n",
       "      <td>Тюмень</td>\n",
       "      <td>ultra</td>\n",
       "      <td>2617.592153</td>\n",
       "      <td>15.816871</td>\n",
       "      <td>2021-01-18</td>\n",
       "      <td>1</td>\n",
       "    </tr>\n",
       "    <tr>\n",
       "      <th>2</th>\n",
       "      <td>0</td>\n",
       "      <td>1</td>\n",
       "      <td>Кира</td>\n",
       "      <td>22</td>\n",
       "      <td>Тюмень</td>\n",
       "      <td>ultra</td>\n",
       "      <td>754.159807</td>\n",
       "      <td>6.232113</td>\n",
       "      <td>2021-04-20</td>\n",
       "      <td>4</td>\n",
       "    </tr>\n",
       "    <tr>\n",
       "      <th>3</th>\n",
       "      <td>0</td>\n",
       "      <td>1</td>\n",
       "      <td>Кира</td>\n",
       "      <td>22</td>\n",
       "      <td>Тюмень</td>\n",
       "      <td>ultra</td>\n",
       "      <td>2694.783254</td>\n",
       "      <td>18.511000</td>\n",
       "      <td>2021-08-11</td>\n",
       "      <td>8</td>\n",
       "    </tr>\n",
       "    <tr>\n",
       "      <th>4</th>\n",
       "      <td>0</td>\n",
       "      <td>1</td>\n",
       "      <td>Кира</td>\n",
       "      <td>22</td>\n",
       "      <td>Тюмень</td>\n",
       "      <td>ultra</td>\n",
       "      <td>4028.687306</td>\n",
       "      <td>26.265803</td>\n",
       "      <td>2021-08-28</td>\n",
       "      <td>8</td>\n",
       "    </tr>\n",
       "    <tr>\n",
       "      <th>...</th>\n",
       "      <td>...</td>\n",
       "      <td>...</td>\n",
       "      <td>...</td>\n",
       "      <td>...</td>\n",
       "      <td>...</td>\n",
       "      <td>...</td>\n",
       "      <td>...</td>\n",
       "      <td>...</td>\n",
       "      <td>...</td>\n",
       "      <td>...</td>\n",
       "    </tr>\n",
       "    <tr>\n",
       "      <th>18063</th>\n",
       "      <td>1533</td>\n",
       "      <td>1534</td>\n",
       "      <td>Альберт</td>\n",
       "      <td>25</td>\n",
       "      <td>Краснодар</td>\n",
       "      <td>free</td>\n",
       "      <td>3781.098080</td>\n",
       "      <td>19.822962</td>\n",
       "      <td>2021-11-04</td>\n",
       "      <td>11</td>\n",
       "    </tr>\n",
       "    <tr>\n",
       "      <th>18064</th>\n",
       "      <td>1533</td>\n",
       "      <td>1534</td>\n",
       "      <td>Альберт</td>\n",
       "      <td>25</td>\n",
       "      <td>Краснодар</td>\n",
       "      <td>free</td>\n",
       "      <td>2840.423057</td>\n",
       "      <td>21.409799</td>\n",
       "      <td>2021-11-16</td>\n",
       "      <td>11</td>\n",
       "    </tr>\n",
       "    <tr>\n",
       "      <th>18065</th>\n",
       "      <td>1533</td>\n",
       "      <td>1534</td>\n",
       "      <td>Альберт</td>\n",
       "      <td>25</td>\n",
       "      <td>Краснодар</td>\n",
       "      <td>free</td>\n",
       "      <td>3826.185507</td>\n",
       "      <td>18.435051</td>\n",
       "      <td>2021-11-18</td>\n",
       "      <td>11</td>\n",
       "    </tr>\n",
       "    <tr>\n",
       "      <th>18066</th>\n",
       "      <td>1533</td>\n",
       "      <td>1534</td>\n",
       "      <td>Альберт</td>\n",
       "      <td>25</td>\n",
       "      <td>Краснодар</td>\n",
       "      <td>free</td>\n",
       "      <td>2902.308661</td>\n",
       "      <td>16.674362</td>\n",
       "      <td>2021-11-27</td>\n",
       "      <td>11</td>\n",
       "    </tr>\n",
       "    <tr>\n",
       "      <th>18067</th>\n",
       "      <td>1533</td>\n",
       "      <td>1534</td>\n",
       "      <td>Альберт</td>\n",
       "      <td>25</td>\n",
       "      <td>Краснодар</td>\n",
       "      <td>free</td>\n",
       "      <td>2371.711192</td>\n",
       "      <td>15.893917</td>\n",
       "      <td>2021-12-29</td>\n",
       "      <td>12</td>\n",
       "    </tr>\n",
       "  </tbody>\n",
       "</table>\n",
       "<p>18068 rows × 10 columns</p>\n",
       "</div>"
      ],
      "text/plain": [
       "       index  user_id     name  age       city subscription_type     distance  \\\n",
       "0          0        1     Кира   22     Тюмень             ultra  4409.919140   \n",
       "1          0        1     Кира   22     Тюмень             ultra  2617.592153   \n",
       "2          0        1     Кира   22     Тюмень             ultra   754.159807   \n",
       "3          0        1     Кира   22     Тюмень             ultra  2694.783254   \n",
       "4          0        1     Кира   22     Тюмень             ultra  4028.687306   \n",
       "...      ...      ...      ...  ...        ...               ...          ...   \n",
       "18063   1533     1534  Альберт   25  Краснодар              free  3781.098080   \n",
       "18064   1533     1534  Альберт   25  Краснодар              free  2840.423057   \n",
       "18065   1533     1534  Альберт   25  Краснодар              free  3826.185507   \n",
       "18066   1533     1534  Альберт   25  Краснодар              free  2902.308661   \n",
       "18067   1533     1534  Альберт   25  Краснодар              free  2371.711192   \n",
       "\n",
       "        duration       date  month  \n",
       "0      25.599769 2021-01-01      1  \n",
       "1      15.816871 2021-01-18      1  \n",
       "2       6.232113 2021-04-20      4  \n",
       "3      18.511000 2021-08-11      8  \n",
       "4      26.265803 2021-08-28      8  \n",
       "...          ...        ...    ...  \n",
       "18063  19.822962 2021-11-04     11  \n",
       "18064  21.409799 2021-11-16     11  \n",
       "18065  18.435051 2021-11-18     11  \n",
       "18066  16.674362 2021-11-27     11  \n",
       "18067  15.893917 2021-12-29     12  \n",
       "\n",
       "[18068 rows x 10 columns]"
      ]
     },
     "execution_count": 27,
     "metadata": {},
     "output_type": "execute_result"
    }
   ],
   "source": [
    "d1 = data_users.merge(data_rides, on='user_id',how='outer',suffixes=('первый датафрейм','второй датафрейм'))\n",
    "d1"
   ]
  },
  {
   "cell_type": "code",
   "execution_count": 28,
   "id": "6bf288b5",
   "metadata": {},
   "outputs": [
    {
     "data": {
      "text/html": [
       "<div>\n",
       "<style scoped>\n",
       "    .dataframe tbody tr th:only-of-type {\n",
       "        vertical-align: middle;\n",
       "    }\n",
       "\n",
       "    .dataframe tbody tr th {\n",
       "        vertical-align: top;\n",
       "    }\n",
       "\n",
       "    .dataframe thead th {\n",
       "        text-align: right;\n",
       "    }\n",
       "</style>\n",
       "<table border=\"1\" class=\"dataframe\">\n",
       "  <thead>\n",
       "    <tr style=\"text-align: right;\">\n",
       "      <th></th>\n",
       "      <th>subscription_type</th>\n",
       "      <th>minute_price</th>\n",
       "      <th>start_ride_price</th>\n",
       "      <th>subscription_fee</th>\n",
       "      <th>index</th>\n",
       "      <th>user_id</th>\n",
       "      <th>name</th>\n",
       "      <th>age</th>\n",
       "      <th>city</th>\n",
       "      <th>distance</th>\n",
       "      <th>duration</th>\n",
       "      <th>date</th>\n",
       "      <th>month</th>\n",
       "    </tr>\n",
       "  </thead>\n",
       "  <tbody>\n",
       "    <tr>\n",
       "      <th>0</th>\n",
       "      <td>free</td>\n",
       "      <td>8</td>\n",
       "      <td>50</td>\n",
       "      <td>0</td>\n",
       "      <td>699</td>\n",
       "      <td>700</td>\n",
       "      <td>Айдар</td>\n",
       "      <td>22</td>\n",
       "      <td>Омск</td>\n",
       "      <td>2515.690719</td>\n",
       "      <td>14.944286</td>\n",
       "      <td>2021-01-02</td>\n",
       "      <td>1</td>\n",
       "    </tr>\n",
       "    <tr>\n",
       "      <th>1</th>\n",
       "      <td>free</td>\n",
       "      <td>8</td>\n",
       "      <td>50</td>\n",
       "      <td>0</td>\n",
       "      <td>699</td>\n",
       "      <td>700</td>\n",
       "      <td>Айдар</td>\n",
       "      <td>22</td>\n",
       "      <td>Омск</td>\n",
       "      <td>846.932642</td>\n",
       "      <td>16.234663</td>\n",
       "      <td>2021-02-01</td>\n",
       "      <td>2</td>\n",
       "    </tr>\n",
       "    <tr>\n",
       "      <th>2</th>\n",
       "      <td>free</td>\n",
       "      <td>8</td>\n",
       "      <td>50</td>\n",
       "      <td>0</td>\n",
       "      <td>699</td>\n",
       "      <td>700</td>\n",
       "      <td>Айдар</td>\n",
       "      <td>22</td>\n",
       "      <td>Омск</td>\n",
       "      <td>4004.434142</td>\n",
       "      <td>20.016628</td>\n",
       "      <td>2021-02-04</td>\n",
       "      <td>2</td>\n",
       "    </tr>\n",
       "    <tr>\n",
       "      <th>3</th>\n",
       "      <td>free</td>\n",
       "      <td>8</td>\n",
       "      <td>50</td>\n",
       "      <td>0</td>\n",
       "      <td>699</td>\n",
       "      <td>700</td>\n",
       "      <td>Айдар</td>\n",
       "      <td>22</td>\n",
       "      <td>Омск</td>\n",
       "      <td>1205.911290</td>\n",
       "      <td>9.782872</td>\n",
       "      <td>2021-02-10</td>\n",
       "      <td>2</td>\n",
       "    </tr>\n",
       "    <tr>\n",
       "      <th>4</th>\n",
       "      <td>free</td>\n",
       "      <td>8</td>\n",
       "      <td>50</td>\n",
       "      <td>0</td>\n",
       "      <td>699</td>\n",
       "      <td>700</td>\n",
       "      <td>Айдар</td>\n",
       "      <td>22</td>\n",
       "      <td>Омск</td>\n",
       "      <td>3047.379435</td>\n",
       "      <td>17.427673</td>\n",
       "      <td>2021-02-14</td>\n",
       "      <td>2</td>\n",
       "    </tr>\n",
       "    <tr>\n",
       "      <th>...</th>\n",
       "      <td>...</td>\n",
       "      <td>...</td>\n",
       "      <td>...</td>\n",
       "      <td>...</td>\n",
       "      <td>...</td>\n",
       "      <td>...</td>\n",
       "      <td>...</td>\n",
       "      <td>...</td>\n",
       "      <td>...</td>\n",
       "      <td>...</td>\n",
       "      <td>...</td>\n",
       "      <td>...</td>\n",
       "      <td>...</td>\n",
       "    </tr>\n",
       "    <tr>\n",
       "      <th>18063</th>\n",
       "      <td>ultra</td>\n",
       "      <td>6</td>\n",
       "      <td>0</td>\n",
       "      <td>199</td>\n",
       "      <td>698</td>\n",
       "      <td>699</td>\n",
       "      <td>Оксана</td>\n",
       "      <td>22</td>\n",
       "      <td>Москва</td>\n",
       "      <td>3973.046497</td>\n",
       "      <td>24.671163</td>\n",
       "      <td>2021-08-29</td>\n",
       "      <td>8</td>\n",
       "    </tr>\n",
       "    <tr>\n",
       "      <th>18064</th>\n",
       "      <td>ultra</td>\n",
       "      <td>6</td>\n",
       "      <td>0</td>\n",
       "      <td>199</td>\n",
       "      <td>698</td>\n",
       "      <td>699</td>\n",
       "      <td>Оксана</td>\n",
       "      <td>22</td>\n",
       "      <td>Москва</td>\n",
       "      <td>3288.702563</td>\n",
       "      <td>15.892886</td>\n",
       "      <td>2021-09-12</td>\n",
       "      <td>9</td>\n",
       "    </tr>\n",
       "    <tr>\n",
       "      <th>18065</th>\n",
       "      <td>ultra</td>\n",
       "      <td>6</td>\n",
       "      <td>0</td>\n",
       "      <td>199</td>\n",
       "      <td>698</td>\n",
       "      <td>699</td>\n",
       "      <td>Оксана</td>\n",
       "      <td>22</td>\n",
       "      <td>Москва</td>\n",
       "      <td>3076.159348</td>\n",
       "      <td>14.389525</td>\n",
       "      <td>2021-09-26</td>\n",
       "      <td>9</td>\n",
       "    </tr>\n",
       "    <tr>\n",
       "      <th>18066</th>\n",
       "      <td>ultra</td>\n",
       "      <td>6</td>\n",
       "      <td>0</td>\n",
       "      <td>199</td>\n",
       "      <td>698</td>\n",
       "      <td>699</td>\n",
       "      <td>Оксана</td>\n",
       "      <td>22</td>\n",
       "      <td>Москва</td>\n",
       "      <td>4707.845501</td>\n",
       "      <td>15.839579</td>\n",
       "      <td>2021-10-17</td>\n",
       "      <td>10</td>\n",
       "    </tr>\n",
       "    <tr>\n",
       "      <th>18067</th>\n",
       "      <td>ultra</td>\n",
       "      <td>6</td>\n",
       "      <td>0</td>\n",
       "      <td>199</td>\n",
       "      <td>698</td>\n",
       "      <td>699</td>\n",
       "      <td>Оксана</td>\n",
       "      <td>22</td>\n",
       "      <td>Москва</td>\n",
       "      <td>3202.890770</td>\n",
       "      <td>25.217345</td>\n",
       "      <td>2021-12-03</td>\n",
       "      <td>12</td>\n",
       "    </tr>\n",
       "  </tbody>\n",
       "</table>\n",
       "<p>18068 rows × 13 columns</p>\n",
       "</div>"
      ],
      "text/plain": [
       "      subscription_type  minute_price  start_ride_price  subscription_fee  \\\n",
       "0                  free             8                50                 0   \n",
       "1                  free             8                50                 0   \n",
       "2                  free             8                50                 0   \n",
       "3                  free             8                50                 0   \n",
       "4                  free             8                50                 0   \n",
       "...                 ...           ...               ...               ...   \n",
       "18063             ultra             6                 0               199   \n",
       "18064             ultra             6                 0               199   \n",
       "18065             ultra             6                 0               199   \n",
       "18066             ultra             6                 0               199   \n",
       "18067             ultra             6                 0               199   \n",
       "\n",
       "       index  user_id    name  age    city     distance   duration       date  \\\n",
       "0        699      700   Айдар   22    Омск  2515.690719  14.944286 2021-01-02   \n",
       "1        699      700   Айдар   22    Омск   846.932642  16.234663 2021-02-01   \n",
       "2        699      700   Айдар   22    Омск  4004.434142  20.016628 2021-02-04   \n",
       "3        699      700   Айдар   22    Омск  1205.911290   9.782872 2021-02-10   \n",
       "4        699      700   Айдар   22    Омск  3047.379435  17.427673 2021-02-14   \n",
       "...      ...      ...     ...  ...     ...          ...        ...        ...   \n",
       "18063    698      699  Оксана   22  Москва  3973.046497  24.671163 2021-08-29   \n",
       "18064    698      699  Оксана   22  Москва  3288.702563  15.892886 2021-09-12   \n",
       "18065    698      699  Оксана   22  Москва  3076.159348  14.389525 2021-09-26   \n",
       "18066    698      699  Оксана   22  Москва  4707.845501  15.839579 2021-10-17   \n",
       "18067    698      699  Оксана   22  Москва  3202.890770  25.217345 2021-12-03   \n",
       "\n",
       "       month  \n",
       "0          1  \n",
       "1          2  \n",
       "2          2  \n",
       "3          2  \n",
       "4          2  \n",
       "...      ...  \n",
       "18063      8  \n",
       "18064      9  \n",
       "18065      9  \n",
       "18066     10  \n",
       "18067     12  \n",
       "\n",
       "[18068 rows x 13 columns]"
      ]
     },
     "execution_count": 28,
     "metadata": {},
     "output_type": "execute_result"
    }
   ],
   "source": [
    "data_all = data_subscriptions.merge(d1,on='subscription_type',how='outer')\n",
    "data_all"
   ]
  },
  {
   "cell_type": "markdown",
   "id": "980e963f",
   "metadata": {},
   "source": [
    "Убедимся, что данные не потеряны и не появилось ли новых строк. Исследуем новый датафрейм на пропуски. "
   ]
  },
  {
   "cell_type": "code",
   "execution_count": 29,
   "id": "071d604a",
   "metadata": {},
   "outputs": [
    {
     "data": {
      "text/plain": [
       "(18068, 13)"
      ]
     },
     "execution_count": 29,
     "metadata": {},
     "output_type": "execute_result"
    }
   ],
   "source": [
    "data_all.shape"
   ]
  },
  {
   "cell_type": "code",
   "execution_count": 30,
   "id": "e7d9c22c",
   "metadata": {
    "scrolled": true
   },
   "outputs": [
    {
     "name": "stdout",
     "output_type": "stream",
     "text": [
      "<class 'pandas.core.frame.DataFrame'>\n",
      "Int64Index: 18068 entries, 0 to 18067\n",
      "Data columns (total 13 columns):\n",
      " #   Column             Non-Null Count  Dtype         \n",
      "---  ------             --------------  -----         \n",
      " 0   subscription_type  18068 non-null  object        \n",
      " 1   minute_price       18068 non-null  int64         \n",
      " 2   start_ride_price   18068 non-null  int64         \n",
      " 3   subscription_fee   18068 non-null  int64         \n",
      " 4   index              18068 non-null  int64         \n",
      " 5   user_id            18068 non-null  int64         \n",
      " 6   name               18068 non-null  object        \n",
      " 7   age                18068 non-null  int64         \n",
      " 8   city               18068 non-null  object        \n",
      " 9   distance           18068 non-null  float64       \n",
      " 10  duration           18068 non-null  float64       \n",
      " 11  date               18068 non-null  datetime64[ns]\n",
      " 12  month              18068 non-null  int64         \n",
      "dtypes: datetime64[ns](1), float64(2), int64(7), object(3)\n",
      "memory usage: 1.9+ MB\n"
     ]
    }
   ],
   "source": [
    "data_all.info()\n"
   ]
  },
  {
   "cell_type": "code",
   "execution_count": 31,
   "id": "dbe8e2b0",
   "metadata": {
    "scrolled": true
   },
   "outputs": [
    {
     "data": {
      "text/plain": [
       "0"
      ]
     },
     "execution_count": 31,
     "metadata": {},
     "output_type": "execute_result"
    }
   ],
   "source": [
    "data_all.duplicated().sum()"
   ]
  },
  {
   "cell_type": "markdown",
   "id": "10814c6d",
   "metadata": {},
   "source": [
    "Данные полностью корректны."
   ]
  },
  {
   "cell_type": "markdown",
   "id": "82c73579",
   "metadata": {},
   "source": [
    "2. Создадим 2 датафрейма с данными о пользователях с подпиской и без подписки:"
   ]
  },
  {
   "cell_type": "code",
   "execution_count": 32,
   "id": "c5fcde7b",
   "metadata": {
    "scrolled": true
   },
   "outputs": [
    {
     "data": {
      "text/html": [
       "<div>\n",
       "<style scoped>\n",
       "    .dataframe tbody tr th:only-of-type {\n",
       "        vertical-align: middle;\n",
       "    }\n",
       "\n",
       "    .dataframe tbody tr th {\n",
       "        vertical-align: top;\n",
       "    }\n",
       "\n",
       "    .dataframe thead th {\n",
       "        text-align: right;\n",
       "    }\n",
       "</style>\n",
       "<table border=\"1\" class=\"dataframe\">\n",
       "  <thead>\n",
       "    <tr style=\"text-align: right;\">\n",
       "      <th></th>\n",
       "      <th>subscription_type</th>\n",
       "      <th>minute_price</th>\n",
       "      <th>start_ride_price</th>\n",
       "      <th>subscription_fee</th>\n",
       "      <th>index</th>\n",
       "      <th>user_id</th>\n",
       "      <th>name</th>\n",
       "      <th>age</th>\n",
       "      <th>city</th>\n",
       "      <th>distance</th>\n",
       "      <th>duration</th>\n",
       "      <th>date</th>\n",
       "      <th>month</th>\n",
       "    </tr>\n",
       "  </thead>\n",
       "  <tbody>\n",
       "    <tr>\n",
       "      <th>11568</th>\n",
       "      <td>ultra</td>\n",
       "      <td>6</td>\n",
       "      <td>0</td>\n",
       "      <td>199</td>\n",
       "      <td>0</td>\n",
       "      <td>1</td>\n",
       "      <td>Кира</td>\n",
       "      <td>22</td>\n",
       "      <td>Тюмень</td>\n",
       "      <td>4409.919140</td>\n",
       "      <td>25.599769</td>\n",
       "      <td>2021-01-01</td>\n",
       "      <td>1</td>\n",
       "    </tr>\n",
       "    <tr>\n",
       "      <th>11569</th>\n",
       "      <td>ultra</td>\n",
       "      <td>6</td>\n",
       "      <td>0</td>\n",
       "      <td>199</td>\n",
       "      <td>0</td>\n",
       "      <td>1</td>\n",
       "      <td>Кира</td>\n",
       "      <td>22</td>\n",
       "      <td>Тюмень</td>\n",
       "      <td>2617.592153</td>\n",
       "      <td>15.816871</td>\n",
       "      <td>2021-01-18</td>\n",
       "      <td>1</td>\n",
       "    </tr>\n",
       "    <tr>\n",
       "      <th>11570</th>\n",
       "      <td>ultra</td>\n",
       "      <td>6</td>\n",
       "      <td>0</td>\n",
       "      <td>199</td>\n",
       "      <td>0</td>\n",
       "      <td>1</td>\n",
       "      <td>Кира</td>\n",
       "      <td>22</td>\n",
       "      <td>Тюмень</td>\n",
       "      <td>754.159807</td>\n",
       "      <td>6.232113</td>\n",
       "      <td>2021-04-20</td>\n",
       "      <td>4</td>\n",
       "    </tr>\n",
       "    <tr>\n",
       "      <th>11571</th>\n",
       "      <td>ultra</td>\n",
       "      <td>6</td>\n",
       "      <td>0</td>\n",
       "      <td>199</td>\n",
       "      <td>0</td>\n",
       "      <td>1</td>\n",
       "      <td>Кира</td>\n",
       "      <td>22</td>\n",
       "      <td>Тюмень</td>\n",
       "      <td>2694.783254</td>\n",
       "      <td>18.511000</td>\n",
       "      <td>2021-08-11</td>\n",
       "      <td>8</td>\n",
       "    </tr>\n",
       "    <tr>\n",
       "      <th>11572</th>\n",
       "      <td>ultra</td>\n",
       "      <td>6</td>\n",
       "      <td>0</td>\n",
       "      <td>199</td>\n",
       "      <td>0</td>\n",
       "      <td>1</td>\n",
       "      <td>Кира</td>\n",
       "      <td>22</td>\n",
       "      <td>Тюмень</td>\n",
       "      <td>4028.687306</td>\n",
       "      <td>26.265803</td>\n",
       "      <td>2021-08-28</td>\n",
       "      <td>8</td>\n",
       "    </tr>\n",
       "    <tr>\n",
       "      <th>...</th>\n",
       "      <td>...</td>\n",
       "      <td>...</td>\n",
       "      <td>...</td>\n",
       "      <td>...</td>\n",
       "      <td>...</td>\n",
       "      <td>...</td>\n",
       "      <td>...</td>\n",
       "      <td>...</td>\n",
       "      <td>...</td>\n",
       "      <td>...</td>\n",
       "      <td>...</td>\n",
       "      <td>...</td>\n",
       "      <td>...</td>\n",
       "    </tr>\n",
       "    <tr>\n",
       "      <th>18063</th>\n",
       "      <td>ultra</td>\n",
       "      <td>6</td>\n",
       "      <td>0</td>\n",
       "      <td>199</td>\n",
       "      <td>698</td>\n",
       "      <td>699</td>\n",
       "      <td>Оксана</td>\n",
       "      <td>22</td>\n",
       "      <td>Москва</td>\n",
       "      <td>3973.046497</td>\n",
       "      <td>24.671163</td>\n",
       "      <td>2021-08-29</td>\n",
       "      <td>8</td>\n",
       "    </tr>\n",
       "    <tr>\n",
       "      <th>18064</th>\n",
       "      <td>ultra</td>\n",
       "      <td>6</td>\n",
       "      <td>0</td>\n",
       "      <td>199</td>\n",
       "      <td>698</td>\n",
       "      <td>699</td>\n",
       "      <td>Оксана</td>\n",
       "      <td>22</td>\n",
       "      <td>Москва</td>\n",
       "      <td>3288.702563</td>\n",
       "      <td>15.892886</td>\n",
       "      <td>2021-09-12</td>\n",
       "      <td>9</td>\n",
       "    </tr>\n",
       "    <tr>\n",
       "      <th>18065</th>\n",
       "      <td>ultra</td>\n",
       "      <td>6</td>\n",
       "      <td>0</td>\n",
       "      <td>199</td>\n",
       "      <td>698</td>\n",
       "      <td>699</td>\n",
       "      <td>Оксана</td>\n",
       "      <td>22</td>\n",
       "      <td>Москва</td>\n",
       "      <td>3076.159348</td>\n",
       "      <td>14.389525</td>\n",
       "      <td>2021-09-26</td>\n",
       "      <td>9</td>\n",
       "    </tr>\n",
       "    <tr>\n",
       "      <th>18066</th>\n",
       "      <td>ultra</td>\n",
       "      <td>6</td>\n",
       "      <td>0</td>\n",
       "      <td>199</td>\n",
       "      <td>698</td>\n",
       "      <td>699</td>\n",
       "      <td>Оксана</td>\n",
       "      <td>22</td>\n",
       "      <td>Москва</td>\n",
       "      <td>4707.845501</td>\n",
       "      <td>15.839579</td>\n",
       "      <td>2021-10-17</td>\n",
       "      <td>10</td>\n",
       "    </tr>\n",
       "    <tr>\n",
       "      <th>18067</th>\n",
       "      <td>ultra</td>\n",
       "      <td>6</td>\n",
       "      <td>0</td>\n",
       "      <td>199</td>\n",
       "      <td>698</td>\n",
       "      <td>699</td>\n",
       "      <td>Оксана</td>\n",
       "      <td>22</td>\n",
       "      <td>Москва</td>\n",
       "      <td>3202.890770</td>\n",
       "      <td>25.217345</td>\n",
       "      <td>2021-12-03</td>\n",
       "      <td>12</td>\n",
       "    </tr>\n",
       "  </tbody>\n",
       "</table>\n",
       "<p>6500 rows × 13 columns</p>\n",
       "</div>"
      ],
      "text/plain": [
       "      subscription_type  minute_price  start_ride_price  subscription_fee  \\\n",
       "11568             ultra             6                 0               199   \n",
       "11569             ultra             6                 0               199   \n",
       "11570             ultra             6                 0               199   \n",
       "11571             ultra             6                 0               199   \n",
       "11572             ultra             6                 0               199   \n",
       "...                 ...           ...               ...               ...   \n",
       "18063             ultra             6                 0               199   \n",
       "18064             ultra             6                 0               199   \n",
       "18065             ultra             6                 0               199   \n",
       "18066             ultra             6                 0               199   \n",
       "18067             ultra             6                 0               199   \n",
       "\n",
       "       index  user_id    name  age    city     distance   duration       date  \\\n",
       "11568      0        1    Кира   22  Тюмень  4409.919140  25.599769 2021-01-01   \n",
       "11569      0        1    Кира   22  Тюмень  2617.592153  15.816871 2021-01-18   \n",
       "11570      0        1    Кира   22  Тюмень   754.159807   6.232113 2021-04-20   \n",
       "11571      0        1    Кира   22  Тюмень  2694.783254  18.511000 2021-08-11   \n",
       "11572      0        1    Кира   22  Тюмень  4028.687306  26.265803 2021-08-28   \n",
       "...      ...      ...     ...  ...     ...          ...        ...        ...   \n",
       "18063    698      699  Оксана   22  Москва  3973.046497  24.671163 2021-08-29   \n",
       "18064    698      699  Оксана   22  Москва  3288.702563  15.892886 2021-09-12   \n",
       "18065    698      699  Оксана   22  Москва  3076.159348  14.389525 2021-09-26   \n",
       "18066    698      699  Оксана   22  Москва  4707.845501  15.839579 2021-10-17   \n",
       "18067    698      699  Оксана   22  Москва  3202.890770  25.217345 2021-12-03   \n",
       "\n",
       "       month  \n",
       "11568      1  \n",
       "11569      1  \n",
       "11570      4  \n",
       "11571      8  \n",
       "11572      8  \n",
       "...      ...  \n",
       "18063      8  \n",
       "18064      9  \n",
       "18065      9  \n",
       "18066     10  \n",
       "18067     12  \n",
       "\n",
       "[6500 rows x 13 columns]"
      ]
     },
     "execution_count": 32,
     "metadata": {},
     "output_type": "execute_result"
    }
   ],
   "source": [
    "data_ultra = data_all.loc[data_all['subscription_type']=='ultra']\n",
    "data_ultra"
   ]
  },
  {
   "cell_type": "code",
   "execution_count": 33,
   "id": "a601c297",
   "metadata": {},
   "outputs": [
    {
     "data": {
      "text/html": [
       "<div>\n",
       "<style scoped>\n",
       "    .dataframe tbody tr th:only-of-type {\n",
       "        vertical-align: middle;\n",
       "    }\n",
       "\n",
       "    .dataframe tbody tr th {\n",
       "        vertical-align: top;\n",
       "    }\n",
       "\n",
       "    .dataframe thead th {\n",
       "        text-align: right;\n",
       "    }\n",
       "</style>\n",
       "<table border=\"1\" class=\"dataframe\">\n",
       "  <thead>\n",
       "    <tr style=\"text-align: right;\">\n",
       "      <th></th>\n",
       "      <th>subscription_type</th>\n",
       "      <th>minute_price</th>\n",
       "      <th>start_ride_price</th>\n",
       "      <th>subscription_fee</th>\n",
       "      <th>index</th>\n",
       "      <th>user_id</th>\n",
       "      <th>name</th>\n",
       "      <th>age</th>\n",
       "      <th>city</th>\n",
       "      <th>distance</th>\n",
       "      <th>duration</th>\n",
       "      <th>date</th>\n",
       "      <th>month</th>\n",
       "    </tr>\n",
       "  </thead>\n",
       "  <tbody>\n",
       "    <tr>\n",
       "      <th>0</th>\n",
       "      <td>free</td>\n",
       "      <td>8</td>\n",
       "      <td>50</td>\n",
       "      <td>0</td>\n",
       "      <td>699</td>\n",
       "      <td>700</td>\n",
       "      <td>Айдар</td>\n",
       "      <td>22</td>\n",
       "      <td>Омск</td>\n",
       "      <td>2515.690719</td>\n",
       "      <td>14.944286</td>\n",
       "      <td>2021-01-02</td>\n",
       "      <td>1</td>\n",
       "    </tr>\n",
       "    <tr>\n",
       "      <th>1</th>\n",
       "      <td>free</td>\n",
       "      <td>8</td>\n",
       "      <td>50</td>\n",
       "      <td>0</td>\n",
       "      <td>699</td>\n",
       "      <td>700</td>\n",
       "      <td>Айдар</td>\n",
       "      <td>22</td>\n",
       "      <td>Омск</td>\n",
       "      <td>846.932642</td>\n",
       "      <td>16.234663</td>\n",
       "      <td>2021-02-01</td>\n",
       "      <td>2</td>\n",
       "    </tr>\n",
       "    <tr>\n",
       "      <th>2</th>\n",
       "      <td>free</td>\n",
       "      <td>8</td>\n",
       "      <td>50</td>\n",
       "      <td>0</td>\n",
       "      <td>699</td>\n",
       "      <td>700</td>\n",
       "      <td>Айдар</td>\n",
       "      <td>22</td>\n",
       "      <td>Омск</td>\n",
       "      <td>4004.434142</td>\n",
       "      <td>20.016628</td>\n",
       "      <td>2021-02-04</td>\n",
       "      <td>2</td>\n",
       "    </tr>\n",
       "    <tr>\n",
       "      <th>3</th>\n",
       "      <td>free</td>\n",
       "      <td>8</td>\n",
       "      <td>50</td>\n",
       "      <td>0</td>\n",
       "      <td>699</td>\n",
       "      <td>700</td>\n",
       "      <td>Айдар</td>\n",
       "      <td>22</td>\n",
       "      <td>Омск</td>\n",
       "      <td>1205.911290</td>\n",
       "      <td>9.782872</td>\n",
       "      <td>2021-02-10</td>\n",
       "      <td>2</td>\n",
       "    </tr>\n",
       "    <tr>\n",
       "      <th>4</th>\n",
       "      <td>free</td>\n",
       "      <td>8</td>\n",
       "      <td>50</td>\n",
       "      <td>0</td>\n",
       "      <td>699</td>\n",
       "      <td>700</td>\n",
       "      <td>Айдар</td>\n",
       "      <td>22</td>\n",
       "      <td>Омск</td>\n",
       "      <td>3047.379435</td>\n",
       "      <td>17.427673</td>\n",
       "      <td>2021-02-14</td>\n",
       "      <td>2</td>\n",
       "    </tr>\n",
       "    <tr>\n",
       "      <th>...</th>\n",
       "      <td>...</td>\n",
       "      <td>...</td>\n",
       "      <td>...</td>\n",
       "      <td>...</td>\n",
       "      <td>...</td>\n",
       "      <td>...</td>\n",
       "      <td>...</td>\n",
       "      <td>...</td>\n",
       "      <td>...</td>\n",
       "      <td>...</td>\n",
       "      <td>...</td>\n",
       "      <td>...</td>\n",
       "      <td>...</td>\n",
       "    </tr>\n",
       "    <tr>\n",
       "      <th>11563</th>\n",
       "      <td>free</td>\n",
       "      <td>8</td>\n",
       "      <td>50</td>\n",
       "      <td>0</td>\n",
       "      <td>1533</td>\n",
       "      <td>1534</td>\n",
       "      <td>Альберт</td>\n",
       "      <td>25</td>\n",
       "      <td>Краснодар</td>\n",
       "      <td>3781.098080</td>\n",
       "      <td>19.822962</td>\n",
       "      <td>2021-11-04</td>\n",
       "      <td>11</td>\n",
       "    </tr>\n",
       "    <tr>\n",
       "      <th>11564</th>\n",
       "      <td>free</td>\n",
       "      <td>8</td>\n",
       "      <td>50</td>\n",
       "      <td>0</td>\n",
       "      <td>1533</td>\n",
       "      <td>1534</td>\n",
       "      <td>Альберт</td>\n",
       "      <td>25</td>\n",
       "      <td>Краснодар</td>\n",
       "      <td>2840.423057</td>\n",
       "      <td>21.409799</td>\n",
       "      <td>2021-11-16</td>\n",
       "      <td>11</td>\n",
       "    </tr>\n",
       "    <tr>\n",
       "      <th>11565</th>\n",
       "      <td>free</td>\n",
       "      <td>8</td>\n",
       "      <td>50</td>\n",
       "      <td>0</td>\n",
       "      <td>1533</td>\n",
       "      <td>1534</td>\n",
       "      <td>Альберт</td>\n",
       "      <td>25</td>\n",
       "      <td>Краснодар</td>\n",
       "      <td>3826.185507</td>\n",
       "      <td>18.435051</td>\n",
       "      <td>2021-11-18</td>\n",
       "      <td>11</td>\n",
       "    </tr>\n",
       "    <tr>\n",
       "      <th>11566</th>\n",
       "      <td>free</td>\n",
       "      <td>8</td>\n",
       "      <td>50</td>\n",
       "      <td>0</td>\n",
       "      <td>1533</td>\n",
       "      <td>1534</td>\n",
       "      <td>Альберт</td>\n",
       "      <td>25</td>\n",
       "      <td>Краснодар</td>\n",
       "      <td>2902.308661</td>\n",
       "      <td>16.674362</td>\n",
       "      <td>2021-11-27</td>\n",
       "      <td>11</td>\n",
       "    </tr>\n",
       "    <tr>\n",
       "      <th>11567</th>\n",
       "      <td>free</td>\n",
       "      <td>8</td>\n",
       "      <td>50</td>\n",
       "      <td>0</td>\n",
       "      <td>1533</td>\n",
       "      <td>1534</td>\n",
       "      <td>Альберт</td>\n",
       "      <td>25</td>\n",
       "      <td>Краснодар</td>\n",
       "      <td>2371.711192</td>\n",
       "      <td>15.893917</td>\n",
       "      <td>2021-12-29</td>\n",
       "      <td>12</td>\n",
       "    </tr>\n",
       "  </tbody>\n",
       "</table>\n",
       "<p>11568 rows × 13 columns</p>\n",
       "</div>"
      ],
      "text/plain": [
       "      subscription_type  minute_price  start_ride_price  subscription_fee  \\\n",
       "0                  free             8                50                 0   \n",
       "1                  free             8                50                 0   \n",
       "2                  free             8                50                 0   \n",
       "3                  free             8                50                 0   \n",
       "4                  free             8                50                 0   \n",
       "...                 ...           ...               ...               ...   \n",
       "11563              free             8                50                 0   \n",
       "11564              free             8                50                 0   \n",
       "11565              free             8                50                 0   \n",
       "11566              free             8                50                 0   \n",
       "11567              free             8                50                 0   \n",
       "\n",
       "       index  user_id     name  age       city     distance   duration  \\\n",
       "0        699      700    Айдар   22       Омск  2515.690719  14.944286   \n",
       "1        699      700    Айдар   22       Омск   846.932642  16.234663   \n",
       "2        699      700    Айдар   22       Омск  4004.434142  20.016628   \n",
       "3        699      700    Айдар   22       Омск  1205.911290   9.782872   \n",
       "4        699      700    Айдар   22       Омск  3047.379435  17.427673   \n",
       "...      ...      ...      ...  ...        ...          ...        ...   \n",
       "11563   1533     1534  Альберт   25  Краснодар  3781.098080  19.822962   \n",
       "11564   1533     1534  Альберт   25  Краснодар  2840.423057  21.409799   \n",
       "11565   1533     1534  Альберт   25  Краснодар  3826.185507  18.435051   \n",
       "11566   1533     1534  Альберт   25  Краснодар  2902.308661  16.674362   \n",
       "11567   1533     1534  Альберт   25  Краснодар  2371.711192  15.893917   \n",
       "\n",
       "            date  month  \n",
       "0     2021-01-02      1  \n",
       "1     2021-02-01      2  \n",
       "2     2021-02-04      2  \n",
       "3     2021-02-10      2  \n",
       "4     2021-02-14      2  \n",
       "...          ...    ...  \n",
       "11563 2021-11-04     11  \n",
       "11564 2021-11-16     11  \n",
       "11565 2021-11-18     11  \n",
       "11566 2021-11-27     11  \n",
       "11567 2021-12-29     12  \n",
       "\n",
       "[11568 rows x 13 columns]"
      ]
     },
     "execution_count": 33,
     "metadata": {},
     "output_type": "execute_result"
    }
   ],
   "source": [
    "data_free = data_all.loc[data_all['subscription_type']=='free']\n",
    "data_free"
   ]
  },
  {
   "cell_type": "markdown",
   "id": "e3de5f92",
   "metadata": {},
   "source": [
    " Проверим, правильно ли разделились датафреймы:"
   ]
  },
  {
   "cell_type": "markdown",
   "id": "cf956e2b",
   "metadata": {},
   "source": [
    "3. Визуализируем информацию о расстоянии и времени поездок для пользователей обеих категорий."
   ]
  },
  {
   "cell_type": "code",
   "execution_count": 36,
   "id": "030dc7dd",
   "metadata": {},
   "outputs": [
    {
     "data": {
      "text/plain": [
       "count    6500.000000\n",
       "mean     3115.445388\n",
       "std       836.895330\n",
       "min       244.210438\n",
       "25%      2785.444017\n",
       "50%      3148.637229\n",
       "75%      3560.574425\n",
       "max      5699.769662\n",
       "Name: distance, dtype: float64"
      ]
     },
     "execution_count": 36,
     "metadata": {},
     "output_type": "execute_result"
    }
   ],
   "source": [
    "data_ultra['distance'].describe()"
   ]
  },
  {
   "cell_type": "code",
   "execution_count": 37,
   "id": "73182005",
   "metadata": {},
   "outputs": [
    {
     "data": {
      "text/plain": [
       "count    11568.000000\n",
       "mean      3045.495282\n",
       "std       1246.173806\n",
       "min          0.855683\n",
       "25%       2366.562689\n",
       "50%       3114.648465\n",
       "75%       3905.697894\n",
       "max       7211.007745\n",
       "Name: distance, dtype: float64"
      ]
     },
     "execution_count": 37,
     "metadata": {},
     "output_type": "execute_result"
    }
   ],
   "source": [
    "data_free['distance'].describe()"
   ]
  },
  {
   "cell_type": "code",
   "execution_count": 38,
   "id": "17da11eb",
   "metadata": {},
   "outputs": [
    {
     "data": {
      "image/png": "[encoded data removed]",
      "text/plain": [
       "<Figure size 432x288 with 1 Axes>"
      ]
     },
     "metadata": {
      "needs_background": "light"
     },
     "output_type": "display_data"
    }
   ],
   "source": [
    "from matplotlib import pyplot\n",
    "x = [data_ultra['distance']]\n",
    "y = [data_free['distance']]\n",
    "\n",
    "bins = np.linspace(0, 7300 , 40)\n",
    "\n",
    "pyplot.hist(x, bins, alpha=0.8, label='Частота расстояний поездок пользователей платной подписки')\n",
    "pyplot.hist(y, bins, alpha=0.5, label='Частота расстояний поездок без подписки')\n",
    "pyplot.legend(loc='upper right')\n",
    "pyplot.show()\n"
   ]
  },
  {
   "cell_type": "markdown",
   "id": "dec560ec",
   "metadata": {},
   "source": [
    "Форма графиков похожа, просто пользователей бесплатной подписки больше, вследствие чего и частота конкретных значений больше.\n",
    "У пользователей бесплатной подписки среднее значений длины поездки сильнее отличается от медианы, нежели у пользователей с платной подпиской, в связи с наличием очень длинных поездок-выбросов.\n",
    "Больший разброс длин поездок исходя из стандартного отклонения также у пользователей бесплатной подписки."
   ]
  },
  {
   "cell_type": "markdown",
   "id": "ce68391a",
   "metadata": {},
   "source": [
    "В распределении средней дистанции поездок больше четких пиков. Возможно конкретные поездки конкретных людей."
   ]
  },
  {
   "cell_type": "code",
   "execution_count": 42,
   "id": "d17fcf24",
   "metadata": {
    "scrolled": true
   },
   "outputs": [
    {
     "data": {
      "text/plain": [
       "count    6500.000000\n",
       "mean       18.541985\n",
       "std         5.572048\n",
       "min         3.760353\n",
       "25%        14.524654\n",
       "50%        18.178153\n",
       "75%        21.884129\n",
       "max        40.823963\n",
       "Name: duration, dtype: float64"
      ]
     },
     "execution_count": 42,
     "metadata": {},
     "output_type": "execute_result"
    }
   ],
   "source": [
    "data_ultra['duration'].describe()"
   ]
  },
  {
   "cell_type": "code",
   "execution_count": 43,
   "id": "2c667692",
   "metadata": {
    "scrolled": true
   },
   "outputs": [
    {
     "data": {
      "text/plain": [
       "count    11568.000000\n",
       "mean        17.390909\n",
       "std          6.326803\n",
       "min          0.500000\n",
       "25%         12.958437\n",
       "50%         17.326890\n",
       "75%         21.594071\n",
       "max         34.948498\n",
       "Name: duration, dtype: float64"
      ]
     },
     "execution_count": 43,
     "metadata": {},
     "output_type": "execute_result"
    }
   ],
   "source": [
    "data_free['duration'].describe()"
   ]
  },
  {
   "cell_type": "code",
   "execution_count": 44,
   "id": "81b61277",
   "metadata": {
    "scrolled": true
   },
   "outputs": [
    {
     "data": {
      "image/png": "[encoded data removed]",
      "text/plain": [
       "<Figure size 432x288 with 1 Axes>"
      ]
     },
     "metadata": {
      "needs_background": "light"
     },
     "output_type": "display_data"
    }
   ],
   "source": [
    "x = [data_ultra['duration']]\n",
    "y = [data_free['duration']]\n",
    "\n",
    "bins = np.linspace(0, 35 , 40)\n",
    "\n",
    "pyplot.hist(x, bins, alpha=0.8, label='Частота длительности поездок пользователей платной подписки')\n",
    "pyplot.hist(y, bins, alpha=0.5, label='Частота длительности поездок без подписки')\n",
    "pyplot.legend(loc='upper right')\n",
    "pyplot.show()"
   ]
  },
  {
   "cell_type": "markdown",
   "id": "96a8c929",
   "metadata": {},
   "source": [
    "По длительности поездок:\n",
    "\n",
    "Больший разброс значений длительности опять же у пользователей бесплатной подписки. Здесь так же видна аномалия данных в виде маленького количества времени конкретных поездок. Длительность поездок у пользователей платной подписки в среднем больше.  Графики визуально похожи с намеком на нормальное распределение. \n"
   ]
  },
  {
   "cell_type": "markdown",
   "id": "402d620f",
   "metadata": {},
   "source": [
    "## <a id='toc5_'></a>Подсчет выручки [&#8593;](#toc0_)"
   ]
  },
  {
   "cell_type": "markdown",
   "id": "dc3c73c1",
   "metadata": {},
   "source": [
    "1. Создадим датафрейм с агрегированными данными о поездках на основе датафрейма с объединёнными данными."
   ]
  },
  {
   "cell_type": "code",
   "execution_count": 45,
   "id": "cd66439e",
   "metadata": {},
   "outputs": [
    {
     "data": {
      "text/html": [
       "<div>\n",
       "<style scoped>\n",
       "    .dataframe tbody tr th:only-of-type {\n",
       "        vertical-align: middle;\n",
       "    }\n",
       "\n",
       "    .dataframe tbody tr th {\n",
       "        vertical-align: top;\n",
       "    }\n",
       "\n",
       "    .dataframe thead th {\n",
       "        text-align: right;\n",
       "    }\n",
       "</style>\n",
       "<table border=\"1\" class=\"dataframe\">\n",
       "  <thead>\n",
       "    <tr style=\"text-align: right;\">\n",
       "      <th></th>\n",
       "      <th></th>\n",
       "      <th>rides_count</th>\n",
       "      <th>total_distance</th>\n",
       "      <th>total_duration</th>\n",
       "      <th>subscription_type</th>\n",
       "      <th>minute_price</th>\n",
       "      <th>start_ride_price</th>\n",
       "      <th>subscription_fee</th>\n",
       "    </tr>\n",
       "    <tr>\n",
       "      <th>user_id</th>\n",
       "      <th>month</th>\n",
       "      <th></th>\n",
       "      <th></th>\n",
       "      <th></th>\n",
       "      <th></th>\n",
       "      <th></th>\n",
       "      <th></th>\n",
       "      <th></th>\n",
       "    </tr>\n",
       "  </thead>\n",
       "  <tbody>\n",
       "    <tr>\n",
       "      <th rowspan=\"6\" valign=\"top\">1</th>\n",
       "      <th>1</th>\n",
       "      <td>2</td>\n",
       "      <td>7027.511294</td>\n",
       "      <td>42.0</td>\n",
       "      <td>ultra</td>\n",
       "      <td>6</td>\n",
       "      <td>0</td>\n",
       "      <td>199</td>\n",
       "    </tr>\n",
       "    <tr>\n",
       "      <th>4</th>\n",
       "      <td>1</td>\n",
       "      <td>754.159807</td>\n",
       "      <td>7.0</td>\n",
       "      <td>ultra</td>\n",
       "      <td>6</td>\n",
       "      <td>0</td>\n",
       "      <td>199</td>\n",
       "    </tr>\n",
       "    <tr>\n",
       "      <th>8</th>\n",
       "      <td>2</td>\n",
       "      <td>6723.470560</td>\n",
       "      <td>46.0</td>\n",
       "      <td>ultra</td>\n",
       "      <td>6</td>\n",
       "      <td>0</td>\n",
       "      <td>199</td>\n",
       "    </tr>\n",
       "    <tr>\n",
       "      <th>10</th>\n",
       "      <td>2</td>\n",
       "      <td>5809.911100</td>\n",
       "      <td>32.0</td>\n",
       "      <td>ultra</td>\n",
       "      <td>6</td>\n",
       "      <td>0</td>\n",
       "      <td>199</td>\n",
       "    </tr>\n",
       "    <tr>\n",
       "      <th>11</th>\n",
       "      <td>3</td>\n",
       "      <td>7003.499363</td>\n",
       "      <td>56.0</td>\n",
       "      <td>ultra</td>\n",
       "      <td>6</td>\n",
       "      <td>0</td>\n",
       "      <td>199</td>\n",
       "    </tr>\n",
       "    <tr>\n",
       "      <th>12</th>\n",
       "      <td>2</td>\n",
       "      <td>6751.629942</td>\n",
       "      <td>28.0</td>\n",
       "      <td>ultra</td>\n",
       "      <td>6</td>\n",
       "      <td>0</td>\n",
       "      <td>199</td>\n",
       "    </tr>\n",
       "    <tr>\n",
       "      <th rowspan=\"7\" valign=\"top\">2</th>\n",
       "      <th>3</th>\n",
       "      <td>3</td>\n",
       "      <td>10187.723006</td>\n",
       "      <td>63.0</td>\n",
       "      <td>ultra</td>\n",
       "      <td>6</td>\n",
       "      <td>0</td>\n",
       "      <td>199</td>\n",
       "    </tr>\n",
       "    <tr>\n",
       "      <th>4</th>\n",
       "      <td>2</td>\n",
       "      <td>6164.381824</td>\n",
       "      <td>40.0</td>\n",
       "      <td>ultra</td>\n",
       "      <td>6</td>\n",
       "      <td>0</td>\n",
       "      <td>199</td>\n",
       "    </tr>\n",
       "    <tr>\n",
       "      <th>6</th>\n",
       "      <td>1</td>\n",
       "      <td>3255.338202</td>\n",
       "      <td>14.0</td>\n",
       "      <td>ultra</td>\n",
       "      <td>6</td>\n",
       "      <td>0</td>\n",
       "      <td>199</td>\n",
       "    </tr>\n",
       "    <tr>\n",
       "      <th>7</th>\n",
       "      <td>2</td>\n",
       "      <td>6780.722964</td>\n",
       "      <td>48.0</td>\n",
       "      <td>ultra</td>\n",
       "      <td>6</td>\n",
       "      <td>0</td>\n",
       "      <td>199</td>\n",
       "    </tr>\n",
       "    <tr>\n",
       "      <th>8</th>\n",
       "      <td>1</td>\n",
       "      <td>923.007439</td>\n",
       "      <td>7.0</td>\n",
       "      <td>ultra</td>\n",
       "      <td>6</td>\n",
       "      <td>0</td>\n",
       "      <td>199</td>\n",
       "    </tr>\n",
       "    <tr>\n",
       "      <th>10</th>\n",
       "      <td>1</td>\n",
       "      <td>2824.636598</td>\n",
       "      <td>19.0</td>\n",
       "      <td>ultra</td>\n",
       "      <td>6</td>\n",
       "      <td>0</td>\n",
       "      <td>199</td>\n",
       "    </tr>\n",
       "    <tr>\n",
       "      <th>12</th>\n",
       "      <td>1</td>\n",
       "      <td>3828.248580</td>\n",
       "      <td>12.0</td>\n",
       "      <td>ultra</td>\n",
       "      <td>6</td>\n",
       "      <td>0</td>\n",
       "      <td>199</td>\n",
       "    </tr>\n",
       "    <tr>\n",
       "      <th rowspan=\"7\" valign=\"top\">3</th>\n",
       "      <th>1</th>\n",
       "      <td>1</td>\n",
       "      <td>3061.777147</td>\n",
       "      <td>13.0</td>\n",
       "      <td>ultra</td>\n",
       "      <td>6</td>\n",
       "      <td>0</td>\n",
       "      <td>199</td>\n",
       "    </tr>\n",
       "    <tr>\n",
       "      <th>2</th>\n",
       "      <td>2</td>\n",
       "      <td>5421.152016</td>\n",
       "      <td>39.0</td>\n",
       "      <td>ultra</td>\n",
       "      <td>6</td>\n",
       "      <td>0</td>\n",
       "      <td>199</td>\n",
       "    </tr>\n",
       "    <tr>\n",
       "      <th>4</th>\n",
       "      <td>1</td>\n",
       "      <td>2956.651632</td>\n",
       "      <td>21.0</td>\n",
       "      <td>ultra</td>\n",
       "      <td>6</td>\n",
       "      <td>0</td>\n",
       "      <td>199</td>\n",
       "    </tr>\n",
       "    <tr>\n",
       "      <th>5</th>\n",
       "      <td>3</td>\n",
       "      <td>9064.026918</td>\n",
       "      <td>63.0</td>\n",
       "      <td>ultra</td>\n",
       "      <td>6</td>\n",
       "      <td>0</td>\n",
       "      <td>199</td>\n",
       "    </tr>\n",
       "    <tr>\n",
       "      <th>7</th>\n",
       "      <td>3</td>\n",
       "      <td>10919.595403</td>\n",
       "      <td>67.0</td>\n",
       "      <td>ultra</td>\n",
       "      <td>6</td>\n",
       "      <td>0</td>\n",
       "      <td>199</td>\n",
       "    </tr>\n",
       "    <tr>\n",
       "      <th>9</th>\n",
       "      <td>1</td>\n",
       "      <td>2891.012822</td>\n",
       "      <td>23.0</td>\n",
       "      <td>ultra</td>\n",
       "      <td>6</td>\n",
       "      <td>0</td>\n",
       "      <td>199</td>\n",
       "    </tr>\n",
       "    <tr>\n",
       "      <th>12</th>\n",
       "      <td>1</td>\n",
       "      <td>2593.381928</td>\n",
       "      <td>13.0</td>\n",
       "      <td>ultra</td>\n",
       "      <td>6</td>\n",
       "      <td>0</td>\n",
       "      <td>199</td>\n",
       "    </tr>\n",
       "  </tbody>\n",
       "</table>\n",
       "</div>"
      ],
      "text/plain": [
       "               rides_count  total_distance  total_duration subscription_type  \\\n",
       "user_id month                                                                  \n",
       "1       1                2     7027.511294            42.0             ultra   \n",
       "        4                1      754.159807             7.0             ultra   \n",
       "        8                2     6723.470560            46.0             ultra   \n",
       "        10               2     5809.911100            32.0             ultra   \n",
       "        11               3     7003.499363            56.0             ultra   \n",
       "        12               2     6751.629942            28.0             ultra   \n",
       "2       3                3    10187.723006            63.0             ultra   \n",
       "        4                2     6164.381824            40.0             ultra   \n",
       "        6                1     3255.338202            14.0             ultra   \n",
       "        7                2     6780.722964            48.0             ultra   \n",
       "        8                1      923.007439             7.0             ultra   \n",
       "        10               1     2824.636598            19.0             ultra   \n",
       "        12               1     3828.248580            12.0             ultra   \n",
       "3       1                1     3061.777147            13.0             ultra   \n",
       "        2                2     5421.152016            39.0             ultra   \n",
       "        4                1     2956.651632            21.0             ultra   \n",
       "        5                3     9064.026918            63.0             ultra   \n",
       "        7                3    10919.595403            67.0             ultra   \n",
       "        9                1     2891.012822            23.0             ultra   \n",
       "        12               1     2593.381928            13.0             ultra   \n",
       "\n",
       "               minute_price  start_ride_price  subscription_fee  \n",
       "user_id month                                                    \n",
       "1       1                 6                 0               199  \n",
       "        4                 6                 0               199  \n",
       "        8                 6                 0               199  \n",
       "        10                6                 0               199  \n",
       "        11                6                 0               199  \n",
       "        12                6                 0               199  \n",
       "2       3                 6                 0               199  \n",
       "        4                 6                 0               199  \n",
       "        6                 6                 0               199  \n",
       "        7                 6                 0               199  \n",
       "        8                 6                 0               199  \n",
       "        10                6                 0               199  \n",
       "        12                6                 0               199  \n",
       "3       1                 6                 0               199  \n",
       "        2                 6                 0               199  \n",
       "        4                 6                 0               199  \n",
       "        5                 6                 0               199  \n",
       "        7                 6                 0               199  \n",
       "        9                 6                 0               199  \n",
       "        12                6                 0               199  "
      ]
     },
     "execution_count": 45,
     "metadata": {},
     "output_type": "execute_result"
    }
   ],
   "source": [
    "data_all['duration'] = np.ceil(data_all['duration']) # Округлим данные о длительности поездки до целого числа\n",
    "data_categorize = data_all.pivot_table(index=['user_id','month'],values=['distance','duration'], aggfunc=['count','sum']) #группировка данных о каждом пользователе помесячно\n",
    "data_categorize.columns = ['distance_count','rides_count','total_distance','total_duration']#Переименование столбцов\n",
    "data_categorize.drop('distance_count', axis= 1 , inplace= True )#удаление лишнего столбца\n",
    "data_categorize = pd.merge(\n",
    "    left=data_categorize,\n",
    "    right=data_all\n",
    "        .groupby('user_id')[['subscription_type', 'minute_price', 'start_ride_price', 'subscription_fee']]\n",
    "        .agg('first'),\n",
    "    left_index=True,\n",
    "    right_index=True\n",
    ")\n",
    "data_categorize.head(20)"
   ]
  },
  {
   "cell_type": "markdown",
   "id": "bd304804",
   "metadata": {},
   "source": [
    "2. Добавим в этот датафрейм выручку по каждому пользователю."
   ]
  },
  {
   "cell_type": "code",
   "execution_count": 46,
   "id": "46976c84",
   "metadata": {},
   "outputs": [],
   "source": [
    "def total_revenue(d: pd.Series):\n",
    "    return  d['subscription_fee'] + d['start_ride_price'] * d['rides_count'] + d['minute_price'] * d['total_duration']"
   ]
  },
  {
   "cell_type": "code",
   "execution_count": 47,
   "id": "06e3eb64",
   "metadata": {},
   "outputs": [
    {
     "data": {
      "text/html": [
       "<div>\n",
       "<style scoped>\n",
       "    .dataframe tbody tr th:only-of-type {\n",
       "        vertical-align: middle;\n",
       "    }\n",
       "\n",
       "    .dataframe tbody tr th {\n",
       "        vertical-align: top;\n",
       "    }\n",
       "\n",
       "    .dataframe thead th {\n",
       "        text-align: right;\n",
       "    }\n",
       "</style>\n",
       "<table border=\"1\" class=\"dataframe\">\n",
       "  <thead>\n",
       "    <tr style=\"text-align: right;\">\n",
       "      <th></th>\n",
       "      <th></th>\n",
       "      <th>rides_count</th>\n",
       "      <th>total_distance</th>\n",
       "      <th>total_duration</th>\n",
       "      <th>subscription_type</th>\n",
       "      <th>minute_price</th>\n",
       "      <th>start_ride_price</th>\n",
       "      <th>subscription_fee</th>\n",
       "      <th>revenue</th>\n",
       "    </tr>\n",
       "    <tr>\n",
       "      <th>user_id</th>\n",
       "      <th>month</th>\n",
       "      <th></th>\n",
       "      <th></th>\n",
       "      <th></th>\n",
       "      <th></th>\n",
       "      <th></th>\n",
       "      <th></th>\n",
       "      <th></th>\n",
       "      <th></th>\n",
       "    </tr>\n",
       "  </thead>\n",
       "  <tbody>\n",
       "    <tr>\n",
       "      <th rowspan=\"6\" valign=\"top\">1</th>\n",
       "      <th>1</th>\n",
       "      <td>2</td>\n",
       "      <td>7027.511294</td>\n",
       "      <td>42.0</td>\n",
       "      <td>ultra</td>\n",
       "      <td>6</td>\n",
       "      <td>0</td>\n",
       "      <td>199</td>\n",
       "      <td>451.0</td>\n",
       "    </tr>\n",
       "    <tr>\n",
       "      <th>4</th>\n",
       "      <td>1</td>\n",
       "      <td>754.159807</td>\n",
       "      <td>7.0</td>\n",
       "      <td>ultra</td>\n",
       "      <td>6</td>\n",
       "      <td>0</td>\n",
       "      <td>199</td>\n",
       "      <td>241.0</td>\n",
       "    </tr>\n",
       "    <tr>\n",
       "      <th>8</th>\n",
       "      <td>2</td>\n",
       "      <td>6723.470560</td>\n",
       "      <td>46.0</td>\n",
       "      <td>ultra</td>\n",
       "      <td>6</td>\n",
       "      <td>0</td>\n",
       "      <td>199</td>\n",
       "      <td>475.0</td>\n",
       "    </tr>\n",
       "    <tr>\n",
       "      <th>10</th>\n",
       "      <td>2</td>\n",
       "      <td>5809.911100</td>\n",
       "      <td>32.0</td>\n",
       "      <td>ultra</td>\n",
       "      <td>6</td>\n",
       "      <td>0</td>\n",
       "      <td>199</td>\n",
       "      <td>391.0</td>\n",
       "    </tr>\n",
       "    <tr>\n",
       "      <th>11</th>\n",
       "      <td>3</td>\n",
       "      <td>7003.499363</td>\n",
       "      <td>56.0</td>\n",
       "      <td>ultra</td>\n",
       "      <td>6</td>\n",
       "      <td>0</td>\n",
       "      <td>199</td>\n",
       "      <td>535.0</td>\n",
       "    </tr>\n",
       "    <tr>\n",
       "      <th>12</th>\n",
       "      <td>2</td>\n",
       "      <td>6751.629942</td>\n",
       "      <td>28.0</td>\n",
       "      <td>ultra</td>\n",
       "      <td>6</td>\n",
       "      <td>0</td>\n",
       "      <td>199</td>\n",
       "      <td>367.0</td>\n",
       "    </tr>\n",
       "    <tr>\n",
       "      <th rowspan=\"7\" valign=\"top\">2</th>\n",
       "      <th>3</th>\n",
       "      <td>3</td>\n",
       "      <td>10187.723006</td>\n",
       "      <td>63.0</td>\n",
       "      <td>ultra</td>\n",
       "      <td>6</td>\n",
       "      <td>0</td>\n",
       "      <td>199</td>\n",
       "      <td>577.0</td>\n",
       "    </tr>\n",
       "    <tr>\n",
       "      <th>4</th>\n",
       "      <td>2</td>\n",
       "      <td>6164.381824</td>\n",
       "      <td>40.0</td>\n",
       "      <td>ultra</td>\n",
       "      <td>6</td>\n",
       "      <td>0</td>\n",
       "      <td>199</td>\n",
       "      <td>439.0</td>\n",
       "    </tr>\n",
       "    <tr>\n",
       "      <th>6</th>\n",
       "      <td>1</td>\n",
       "      <td>3255.338202</td>\n",
       "      <td>14.0</td>\n",
       "      <td>ultra</td>\n",
       "      <td>6</td>\n",
       "      <td>0</td>\n",
       "      <td>199</td>\n",
       "      <td>283.0</td>\n",
       "    </tr>\n",
       "    <tr>\n",
       "      <th>7</th>\n",
       "      <td>2</td>\n",
       "      <td>6780.722964</td>\n",
       "      <td>48.0</td>\n",
       "      <td>ultra</td>\n",
       "      <td>6</td>\n",
       "      <td>0</td>\n",
       "      <td>199</td>\n",
       "      <td>487.0</td>\n",
       "    </tr>\n",
       "    <tr>\n",
       "      <th>8</th>\n",
       "      <td>1</td>\n",
       "      <td>923.007439</td>\n",
       "      <td>7.0</td>\n",
       "      <td>ultra</td>\n",
       "      <td>6</td>\n",
       "      <td>0</td>\n",
       "      <td>199</td>\n",
       "      <td>241.0</td>\n",
       "    </tr>\n",
       "    <tr>\n",
       "      <th>10</th>\n",
       "      <td>1</td>\n",
       "      <td>2824.636598</td>\n",
       "      <td>19.0</td>\n",
       "      <td>ultra</td>\n",
       "      <td>6</td>\n",
       "      <td>0</td>\n",
       "      <td>199</td>\n",
       "      <td>313.0</td>\n",
       "    </tr>\n",
       "    <tr>\n",
       "      <th>12</th>\n",
       "      <td>1</td>\n",
       "      <td>3828.248580</td>\n",
       "      <td>12.0</td>\n",
       "      <td>ultra</td>\n",
       "      <td>6</td>\n",
       "      <td>0</td>\n",
       "      <td>199</td>\n",
       "      <td>271.0</td>\n",
       "    </tr>\n",
       "    <tr>\n",
       "      <th rowspan=\"7\" valign=\"top\">3</th>\n",
       "      <th>1</th>\n",
       "      <td>1</td>\n",
       "      <td>3061.777147</td>\n",
       "      <td>13.0</td>\n",
       "      <td>ultra</td>\n",
       "      <td>6</td>\n",
       "      <td>0</td>\n",
       "      <td>199</td>\n",
       "      <td>277.0</td>\n",
       "    </tr>\n",
       "    <tr>\n",
       "      <th>2</th>\n",
       "      <td>2</td>\n",
       "      <td>5421.152016</td>\n",
       "      <td>39.0</td>\n",
       "      <td>ultra</td>\n",
       "      <td>6</td>\n",
       "      <td>0</td>\n",
       "      <td>199</td>\n",
       "      <td>433.0</td>\n",
       "    </tr>\n",
       "    <tr>\n",
       "      <th>4</th>\n",
       "      <td>1</td>\n",
       "      <td>2956.651632</td>\n",
       "      <td>21.0</td>\n",
       "      <td>ultra</td>\n",
       "      <td>6</td>\n",
       "      <td>0</td>\n",
       "      <td>199</td>\n",
       "      <td>325.0</td>\n",
       "    </tr>\n",
       "    <tr>\n",
       "      <th>5</th>\n",
       "      <td>3</td>\n",
       "      <td>9064.026918</td>\n",
       "      <td>63.0</td>\n",
       "      <td>ultra</td>\n",
       "      <td>6</td>\n",
       "      <td>0</td>\n",
       "      <td>199</td>\n",
       "      <td>577.0</td>\n",
       "    </tr>\n",
       "    <tr>\n",
       "      <th>7</th>\n",
       "      <td>3</td>\n",
       "      <td>10919.595403</td>\n",
       "      <td>67.0</td>\n",
       "      <td>ultra</td>\n",
       "      <td>6</td>\n",
       "      <td>0</td>\n",
       "      <td>199</td>\n",
       "      <td>601.0</td>\n",
       "    </tr>\n",
       "    <tr>\n",
       "      <th>9</th>\n",
       "      <td>1</td>\n",
       "      <td>2891.012822</td>\n",
       "      <td>23.0</td>\n",
       "      <td>ultra</td>\n",
       "      <td>6</td>\n",
       "      <td>0</td>\n",
       "      <td>199</td>\n",
       "      <td>337.0</td>\n",
       "    </tr>\n",
       "    <tr>\n",
       "      <th>12</th>\n",
       "      <td>1</td>\n",
       "      <td>2593.381928</td>\n",
       "      <td>13.0</td>\n",
       "      <td>ultra</td>\n",
       "      <td>6</td>\n",
       "      <td>0</td>\n",
       "      <td>199</td>\n",
       "      <td>277.0</td>\n",
       "    </tr>\n",
       "  </tbody>\n",
       "</table>\n",
       "</div>"
      ],
      "text/plain": [
       "               rides_count  total_distance  total_duration subscription_type  \\\n",
       "user_id month                                                                  \n",
       "1       1                2     7027.511294            42.0             ultra   \n",
       "        4                1      754.159807             7.0             ultra   \n",
       "        8                2     6723.470560            46.0             ultra   \n",
       "        10               2     5809.911100            32.0             ultra   \n",
       "        11               3     7003.499363            56.0             ultra   \n",
       "        12               2     6751.629942            28.0             ultra   \n",
       "2       3                3    10187.723006            63.0             ultra   \n",
       "        4                2     6164.381824            40.0             ultra   \n",
       "        6                1     3255.338202            14.0             ultra   \n",
       "        7                2     6780.722964            48.0             ultra   \n",
       "        8                1      923.007439             7.0             ultra   \n",
       "        10               1     2824.636598            19.0             ultra   \n",
       "        12               1     3828.248580            12.0             ultra   \n",
       "3       1                1     3061.777147            13.0             ultra   \n",
       "        2                2     5421.152016            39.0             ultra   \n",
       "        4                1     2956.651632            21.0             ultra   \n",
       "        5                3     9064.026918            63.0             ultra   \n",
       "        7                3    10919.595403            67.0             ultra   \n",
       "        9                1     2891.012822            23.0             ultra   \n",
       "        12               1     2593.381928            13.0             ultra   \n",
       "\n",
       "               minute_price  start_ride_price  subscription_fee  revenue  \n",
       "user_id month                                                             \n",
       "1       1                 6                 0               199    451.0  \n",
       "        4                 6                 0               199    241.0  \n",
       "        8                 6                 0               199    475.0  \n",
       "        10                6                 0               199    391.0  \n",
       "        11                6                 0               199    535.0  \n",
       "        12                6                 0               199    367.0  \n",
       "2       3                 6                 0               199    577.0  \n",
       "        4                 6                 0               199    439.0  \n",
       "        6                 6                 0               199    283.0  \n",
       "        7                 6                 0               199    487.0  \n",
       "        8                 6                 0               199    241.0  \n",
       "        10                6                 0               199    313.0  \n",
       "        12                6                 0               199    271.0  \n",
       "3       1                 6                 0               199    277.0  \n",
       "        2                 6                 0               199    433.0  \n",
       "        4                 6                 0               199    325.0  \n",
       "        5                 6                 0               199    577.0  \n",
       "        7                 6                 0               199    601.0  \n",
       "        9                 6                 0               199    337.0  \n",
       "        12                6                 0               199    277.0  "
      ]
     },
     "execution_count": 47,
     "metadata": {},
     "output_type": "execute_result"
    }
   ],
   "source": [
    "data_categorize['revenue'] = data_categorize.apply(total_revenue, axis=1)\n",
    "data_categorize.head(20)"
   ]
  },
  {
   "cell_type": "markdown",
   "id": "41545ac0",
   "metadata": {},
   "source": [
    "## <a id='toc6_'></a>Проверка гипотез [&#8593;](#toc0_)"
   ]
  },
  {
   "cell_type": "markdown",
   "id": "1ff06c9d",
   "metadata": {},
   "source": [
    "Продакт-менеджеры сервиса хотят увеличить количество пользователей с подпиской. Прежде чем ввести определенные акции, необходимо проверить несколько гипотез:"
   ]
  },
  {
   "cell_type": "markdown",
   "id": "94268587",
   "metadata": {},
   "source": [
    "1. Тратят ли пользователи с подпиской больше времени на поездки?\n",
    "\n",
    "Для начала сравним средние и медианные значения времени поездок у пользователей с платной подпиской и без. После чего сможем сформулировать гипотезы."
   ]
  },
  {
   "cell_type": "code",
   "execution_count": 48,
   "id": "aa16b935",
   "metadata": {},
   "outputs": [
    {
     "data": {
      "text/plain": [
       "mean      17.390909\n",
       "median    17.326890\n",
       "Name: duration, dtype: float64"
      ]
     },
     "execution_count": 48,
     "metadata": {},
     "output_type": "execute_result"
    }
   ],
   "source": [
    "data_free['duration'].agg(['mean', 'median'])"
   ]
  },
  {
   "cell_type": "code",
   "execution_count": 49,
   "id": "13466902",
   "metadata": {},
   "outputs": [
    {
     "data": {
      "text/plain": [
       "mean      18.541985\n",
       "median    18.178153\n",
       "Name: duration, dtype: float64"
      ]
     },
     "execution_count": 49,
     "metadata": {},
     "output_type": "execute_result"
    }
   ],
   "source": [
    "data_ultra['duration'].agg(['mean', 'median'])"
   ]
  },
  {
   "cell_type": "markdown",
   "id": "ee189d6e",
   "metadata": {},
   "source": [
    "С первого взгляда, можно предположить, что пользователи с платной подпиской действительно тратят больше времени на поездки.\n",
    "\n",
    "Сформулируем гипотезы так:\n",
    "\n",
    " $H_0$ - Средняя длительность поездки у пользователей с подпиской и без равны.\n",
    " \n",
    " $H_1$ - Средняя длительность поездки у пользователей с подпиской больше,чем у пользователей без подписки."
   ]
  },
  {
   "cell_type": "code",
   "execution_count": 50,
   "id": "a043396a",
   "metadata": {},
   "outputs": [
    {
     "name": "stdout",
     "output_type": "stream",
     "text": [
      "p-value: 1.2804098316645618e-34\n",
      "Отвергаем нулевую гипотезу\n"
     ]
    }
   ],
   "source": [
    "alpha = 0.05 # задаём уровень значимости\n",
    "\n",
    "results = st.ttest_ind(data_ultra['duration'], data_free['duration'], alternative='greater')# проводим ttest для двух выборок, в качестве альтернативной используем одностороннюю гипотезу «больше»\n",
    "\n",
    "print(f'p-value: {results.pvalue}')\n",
    "\n",
    "# проверяем p-value\n",
    "if results.pvalue < alpha:\n",
    "    print('Отвергаем нулевую гипотезу')\n",
    "else:\n",
    "    print('Нет оснований отвергнуть нулевую гипотезу')"
   ]
  },
  {
   "cell_type": "markdown",
   "id": "73bac503",
   "metadata": {},
   "source": [
    "Нулевая гипотеза отвергнута, можем полагать, что продолжительность поездок с платной подпиской выше, чем у пользователей без подписки. Видно, что поменяв, уровень значимости до 0.01 гипотеза так же была бы отвергнута."
   ]
  },
  {
   "cell_type": "markdown",
   "id": "770f7bf6",
   "metadata": {},
   "source": [
    "2. Оптимальное расстояние одной поездки 3130м. Совпадает ли с действительностью у пользователей с подпиской?"
   ]
  },
  {
   "cell_type": "code",
   "execution_count": 51,
   "id": "245d2b66",
   "metadata": {},
   "outputs": [
    {
     "data": {
      "text/plain": [
       "mean      3115.445388\n",
       "median    3148.637229\n",
       "Name: distance, dtype: float64"
      ]
     },
     "execution_count": 51,
     "metadata": {},
     "output_type": "execute_result"
    }
   ],
   "source": [
    "data_ultra['distance'].agg(['mean', 'median'])"
   ]
  },
  {
   "cell_type": "markdown",
   "id": "35e9f4dd",
   "metadata": {},
   "source": [
    "Сформулируем гипотезы так:\n",
    "\n",
    " $H_0$ - Среднее расстояние одной поездки у пользователей с платной подпиской равно 3130м.\n",
    " \n",
    " $H_1$ - Среднее расстояние одной поездки у пользователей с платной подпиской больше 3130м."
   ]
  },
  {
   "cell_type": "code",
   "execution_count": 52,
   "id": "dbfb64d1",
   "metadata": {
    "scrolled": true
   },
   "outputs": [
    {
     "name": "stdout",
     "output_type": "stream",
     "text": [
      "p-value: 0.9195368847849785\n",
      "Нет оснований отвергнуть нулевую гипотезу\n"
     ]
    }
   ],
   "source": [
    "alpha = 0.05 # задаём уровень значимости\n",
    "\n",
    "results = st.ttest_1samp(data_ultra['distance'], 3130, alternative='greater')# проводим ttest , в качестве альтернативной используем одностороннюю гипотезу «больше»\n",
    "\n",
    "print(f'p-value: {results.pvalue}')\n",
    "\n",
    "# проверяем p-value\n",
    "if results.pvalue < alpha:\n",
    "    print('Отвергаем нулевую гипотезу')\n",
    "else:\n",
    "    print('Нет оснований отвергнуть нулевую гипотезу')"
   ]
  },
  {
   "cell_type": "markdown",
   "id": "de6a8dfe",
   "metadata": {},
   "source": [
    "Как итог, можно с высокой долей уверенности считать, что среднее расстояние одной поездки у пользователей с подпиской примерно равно 3130м.  "
   ]
  },
  {
   "cell_type": "markdown",
   "id": "01fc7fc6",
   "metadata": {},
   "source": [
    "3. Помесячная выручка от пользователей с подпиской выше аналогичной у пользователей без подписки?"
   ]
  },
  {
   "cell_type": "code",
   "execution_count": 53,
   "id": "d44b8387",
   "metadata": {},
   "outputs": [
    {
     "name": "stdout",
     "output_type": "stream",
     "text": [
      "362.7921906022502\n",
      "328.6413651073845\n"
     ]
    }
   ],
   "source": [
    "print(data_categorize['revenue'].loc[data_categorize['subscription_type']=='ultra'].mean())\n",
    "print(data_categorize['revenue'].loc[data_categorize['subscription_type']=='free'].mean())"
   ]
  },
  {
   "cell_type": "markdown",
   "id": "d9a7bf58",
   "metadata": {},
   "source": [
    "Сформулируем гипотезы:\n",
    "\n",
    "$H_0$ - Средняя помесячная выручка от пользователей с подпиской и без равны.  \n",
    "$H_1$ - Средняя помесячная выручка от пользователей с подпиской больше"
   ]
  },
  {
   "cell_type": "code",
   "execution_count": 54,
   "id": "fa8a2ea2",
   "metadata": {},
   "outputs": [
    {
     "name": "stdout",
     "output_type": "stream",
     "text": [
      "p-value: 1.8850394384715216e-31\n",
      "Отвергаем нулевую гипотезу\n"
     ]
    }
   ],
   "source": [
    "alpha = 0.05 # задаём уровень значимости\n",
    "\n",
    "results = st.ttest_ind(data_categorize['revenue'].loc[data_categorize['subscription_type']=='ultra'],data_categorize['revenue'].loc[data_categorize['subscription_type']=='free'], alternative='greater')# проводим ttest для двух выборок, в качестве альтернативной используем одностороннюю гипотезу «больше»\n",
    "\n",
    "print(f'p-value: {results.pvalue}')\n",
    "\n",
    "# проверяем p-value\n",
    "if results.pvalue < alpha:\n",
    "    print('Отвергаем нулевую гипотезу')\n",
    "else:\n",
    "    print('Нет оснований отвергнуть нулевую гипотезу')"
   ]
  },
  {
   "cell_type": "markdown",
   "id": "38db7e4b",
   "metadata": {},
   "source": [
    "Так как нулевая гипотеза отвергнута, значит средняя помесячная выручка от пользователей с подпиской все-таки больше."
   ]
  },
  {
   "cell_type": "markdown",
   "id": "a4d25448",
   "metadata": {},
   "source": [
    "4. Количество обращений до и после обновления приложения.\n"
   ]
  },
  {
   "cell_type": "markdown",
   "id": "38abdb45",
   "metadata": {},
   "source": [
    "Подойдет двухвыборочный t-тест для зависимых выборок \"до\" обновления и \"после\" с односторонней гипотезой. Он доступен к применению кодом: `scipy.stats.ttest_rel`.\n",
    "Гипотезы могли бы быть сформулированы так:\n",
    "\n",
    "$H_0$ - Количество обращений \"до\" и \"после\" обновления одинаковое.\n",
    "\n",
    "$H_1$ - Количество обращений \"после\" обновления меньше того, что было \"до\" обновления.\n",
    "\n",
    "Пример кода:\n",
    "\n"
   ]
  },
  {
   "cell_type": "code",
   "execution_count": 55,
   "id": "caeb1b2e",
   "metadata": {},
   "outputs": [],
   "source": [
    "\n",
    "#alpha = 0.05\n",
    "\n",
    "#results = st.ttest_rel(after, before, alternative='less')\n",
    "\n",
    "#print(f'p-value: {results.pvalue}')\n",
    "\n",
    "#if results.pvalue < alpha:\n",
    "#    print('Отвергаем нулевую гипотезу')\n",
    "#else:\n",
    "#    print('Нет оснований отвергнуть нулевую гипотезу')"
   ]
  },
  {
   "cell_type": "markdown",
   "id": "1ed7359d",
   "metadata": {},
   "source": [
    "<div class=\"alert alert-info\"  style=\"border-radius: 15px; box-shadow: 4px 4px 4px; border: 1px solid \">\n",
    "\n",
    "   <div> Исправил <a class=\"tocSkip\"> <div>"
   ]
  },
  {
   "cell_type": "markdown",
   "id": "333a0daa",
   "metadata": {},
   "source": [
    "## <a id='toc7_'></a>Общий вывод [&#8593;](#toc0_)"
   ]
  },
  {
   "cell_type": "markdown",
   "id": "45b48b8b",
   "metadata": {},
   "source": [
    "В рамках данного исследования были пройдены такие этапы:\n",
    "\n",
    "1. Загрузка и предобработка данных.\n",
    "Были загружены 3 датасета, проведена предобработка каждого из них, в частности: обработка пропусков, а также обнаружение явных и неявных дубликатов.\n",
    "\n",
    "2. Исследовательский анализ данных\n",
    "На данном этапе мы произвели исследование и визуализацию данных в таких столбцах: города, тип подписки пользователей, возраст пользователей, расстояние одной поездки и продолжительность поездок. Из характерного: \n",
    "- Было выяснено, что наиболее популярный город - Пятигорск, наименее популярный - Москва.\n",
    "- Пользователей с бесплатной подпиской больше, чем пользователей с платной подпиской.\n",
    "- Возраст пользователей определяется почти нормальным распределением со средним~25 лет. Основная возрастная группа от 15 до 35 лет.\n",
    "- Относительно расстояний одной поездки: Самая короткая поездка длиной чуть меньше метра, самая длинная- 7211м. Среднее значение длины, как было выяснено, находится около 3100м ( чуть позже это число определили точнее -3130м).\n",
    "- По времени одной поездки: диапазон значений от 0,5 минуты до 41 минуты. Средняя длительность поездки около 18 минут, бОльшая часть поездок в диапазоне от 5 до 30 минут.\n",
    "\n",
    "3. Следующим пунктом мы объединили датафреймы для дальнейшего пользования и получили два дополнительных с пользователями бесплатной подписки и пользователями платной подписки. Получили некоторые выводы относительно данных категорий:\n",
    "\n",
    "- У пользователей бесплатной подписки среднее значений длины поездки сильнее отличается от медианы, нежели у пользователей с платной подпиской, в связи с наличием очень длинных поездок-выбросов.Больший разброс длин поездок исходя из стандартного отклонения также у пользователей бесплатной подписки. Длины поездок распределены почти нормальным образом.\n",
    "\n",
    "- Больший разброс значений длительности опять же у пользователей бесплатной подписки. Здесь так же видна аномалия данных в виде маленького количества времени конкретных поездок. Длительность поездок у пользователей платной подписки в среднем больше. Распредления длительностей поездок также близки к нормальным. \n",
    "\n",
    "\n",
    "4. Была подсчитана помесячная выручка для каждого пользователя.\n",
    "\n",
    "5. В ходе проверки гипотез, были сделаны такие выводы:\n",
    "\n",
    "- Продолжительность поездок у пользователей с подпиской больше, нежели у пользователей без подписки(отвергунта нулевая гипотеза)\n",
    "- Среднее расстояние одной поездки для пользователей с подпиской примерно равно 3130 метров (нулевая гипотеза не отвергнута)\n",
    "- Выручка от пользователей c подпиской выше, нежели от пользователей без подписки( нулевая гипотеза отвергнута).\n",
    "\n",
    "6. Были решены некоторые статистические задачи для помощи в возможных улучшениях бизнеса.\n",
    "\n",
    "Характерным выводом для бизнеса будет факт, что пользователи с платной подпиской так или иначе выгоднее для данного бизнеса. Поэтому стоит направить усилия специалистов в русло привлечения пользователей в категорию *ultra*."
   ]
  }
 ],
 "metadata": {
  "ExecuteTimeLog": [
   {
    "duration": 1315,
    "start_time": "2024-09-04T17:14:28.172Z"
   },
   {
    "duration": 284,
    "start_time": "2024-09-04T17:16:51.573Z"
   },
   {
    "duration": 28,
    "start_time": "2024-09-04T17:17:20.207Z"
   },
   {
    "duration": 20,
    "start_time": "2024-09-04T17:17:45.879Z"
   },
   {
    "duration": 14,
    "start_time": "2024-09-04T17:18:13.631Z"
   },
   {
    "duration": 99,
    "start_time": "2024-09-04T18:03:49.442Z"
   },
   {
    "duration": 12,
    "start_time": "2024-09-04T18:04:15.699Z"
   },
   {
    "duration": 1071,
    "start_time": "2024-09-04T18:05:10.769Z"
   },
   {
    "duration": 7,
    "start_time": "2024-09-04T18:05:19.571Z"
   },
   {
    "duration": 15,
    "start_time": "2024-09-04T18:05:40.212Z"
   },
   {
    "duration": 11,
    "start_time": "2024-09-04T18:05:58.044Z"
   },
   {
    "duration": 22,
    "start_time": "2024-09-04T18:06:05.869Z"
   },
   {
    "duration": 8,
    "start_time": "2024-09-04T18:07:00.300Z"
   },
   {
    "duration": 10,
    "start_time": "2024-09-04T18:08:06.185Z"
   },
   {
    "duration": 9,
    "start_time": "2024-09-04T18:08:23.564Z"
   },
   {
    "duration": 7,
    "start_time": "2024-09-04T18:10:39.778Z"
   },
   {
    "duration": 12,
    "start_time": "2024-09-04T18:11:01.903Z"
   },
   {
    "duration": 72,
    "start_time": "2024-09-04T18:11:42.587Z"
   },
   {
    "duration": 16,
    "start_time": "2024-09-04T18:13:10.235Z"
   },
   {
    "duration": 17,
    "start_time": "2024-09-04T18:13:25.664Z"
   },
   {
    "duration": 13,
    "start_time": "2024-09-04T18:13:41.890Z"
   },
   {
    "duration": 3,
    "start_time": "2024-09-04T18:13:50.224Z"
   },
   {
    "duration": 77,
    "start_time": "2024-09-04T18:13:50.229Z"
   },
   {
    "duration": 20,
    "start_time": "2024-09-04T18:13:50.308Z"
   },
   {
    "duration": 23,
    "start_time": "2024-09-04T18:13:50.330Z"
   },
   {
    "duration": 26,
    "start_time": "2024-09-04T18:13:50.354Z"
   },
   {
    "duration": 22,
    "start_time": "2024-09-04T18:13:50.381Z"
   },
   {
    "duration": 39,
    "start_time": "2024-09-04T18:13:50.405Z"
   },
   {
    "duration": 8,
    "start_time": "2024-09-04T18:13:50.445Z"
   },
   {
    "duration": 20,
    "start_time": "2024-09-04T18:13:50.454Z"
   },
   {
    "duration": 15,
    "start_time": "2024-09-04T18:13:50.476Z"
   },
   {
    "duration": 21,
    "start_time": "2024-09-04T18:13:50.494Z"
   },
   {
    "duration": 15,
    "start_time": "2024-09-04T18:14:06.813Z"
   },
   {
    "duration": 12,
    "start_time": "2024-09-04T18:14:12.027Z"
   },
   {
    "duration": 3,
    "start_time": "2024-09-04T18:15:18.808Z"
   },
   {
    "duration": 71,
    "start_time": "2024-09-04T18:15:18.814Z"
   },
   {
    "duration": 22,
    "start_time": "2024-09-04T18:15:18.887Z"
   },
   {
    "duration": 107,
    "start_time": "2024-09-04T18:15:18.911Z"
   },
   {
    "duration": 51,
    "start_time": "2024-09-04T18:15:19.021Z"
   },
   {
    "duration": 20,
    "start_time": "2024-09-04T18:15:19.074Z"
   },
   {
    "duration": 29,
    "start_time": "2024-09-04T18:15:19.096Z"
   },
   {
    "duration": 9,
    "start_time": "2024-09-04T18:15:19.127Z"
   },
   {
    "duration": 30,
    "start_time": "2024-09-04T18:15:19.138Z"
   },
   {
    "duration": 18,
    "start_time": "2024-09-04T18:15:19.169Z"
   },
   {
    "duration": 22,
    "start_time": "2024-09-04T18:15:19.189Z"
   },
   {
    "duration": 7,
    "start_time": "2024-09-04T18:15:43.516Z"
   },
   {
    "duration": 7,
    "start_time": "2024-09-04T18:15:51.172Z"
   },
   {
    "duration": 9,
    "start_time": "2024-09-04T18:15:58.056Z"
   },
   {
    "duration": 3,
    "start_time": "2024-09-04T18:16:01.408Z"
   },
   {
    "duration": 75,
    "start_time": "2024-09-04T18:16:01.413Z"
   },
   {
    "duration": 20,
    "start_time": "2024-09-04T18:16:01.489Z"
   },
   {
    "duration": 39,
    "start_time": "2024-09-04T18:16:01.511Z"
   },
   {
    "duration": 19,
    "start_time": "2024-09-04T18:16:01.552Z"
   },
   {
    "duration": 18,
    "start_time": "2024-09-04T18:16:01.573Z"
   },
   {
    "duration": 43,
    "start_time": "2024-09-04T18:16:01.593Z"
   },
   {
    "duration": 9,
    "start_time": "2024-09-04T18:16:01.637Z"
   },
   {
    "duration": 21,
    "start_time": "2024-09-04T18:16:01.648Z"
   },
   {
    "duration": 8,
    "start_time": "2024-09-04T18:16:01.672Z"
   },
   {
    "duration": 17,
    "start_time": "2024-09-04T18:17:42.399Z"
   },
   {
    "duration": 9,
    "start_time": "2024-09-04T18:19:44.973Z"
   },
   {
    "duration": 6,
    "start_time": "2024-09-04T18:19:51.505Z"
   },
   {
    "duration": 2,
    "start_time": "2024-09-04T18:19:55.000Z"
   },
   {
    "duration": 99,
    "start_time": "2024-09-04T18:19:55.005Z"
   },
   {
    "duration": 21,
    "start_time": "2024-09-04T18:19:55.105Z"
   },
   {
    "duration": 21,
    "start_time": "2024-09-04T18:19:55.128Z"
   },
   {
    "duration": 14,
    "start_time": "2024-09-04T18:19:55.151Z"
   },
   {
    "duration": 42,
    "start_time": "2024-09-04T18:19:55.167Z"
   },
   {
    "duration": 44,
    "start_time": "2024-09-04T18:19:55.211Z"
   },
   {
    "duration": 8,
    "start_time": "2024-09-04T18:19:55.256Z"
   },
   {
    "duration": 13,
    "start_time": "2024-09-04T18:19:55.266Z"
   },
   {
    "duration": 21,
    "start_time": "2024-09-04T18:19:55.280Z"
   },
   {
    "duration": 11,
    "start_time": "2024-09-04T18:20:31.297Z"
   },
   {
    "duration": 5,
    "start_time": "2024-09-04T18:22:29.108Z"
   },
   {
    "duration": 4,
    "start_time": "2024-09-04T18:23:23.333Z"
   },
   {
    "duration": 14,
    "start_time": "2024-09-04T18:25:53.412Z"
   },
   {
    "duration": 8,
    "start_time": "2024-09-04T18:26:10.637Z"
   },
   {
    "duration": 3,
    "start_time": "2024-09-04T18:27:06.969Z"
   },
   {
    "duration": 183,
    "start_time": "2024-09-04T18:27:06.975Z"
   },
   {
    "duration": 21,
    "start_time": "2024-09-04T18:27:07.159Z"
   },
   {
    "duration": 43,
    "start_time": "2024-09-04T18:27:07.182Z"
   },
   {
    "duration": 15,
    "start_time": "2024-09-04T18:27:07.227Z"
   },
   {
    "duration": 27,
    "start_time": "2024-09-04T18:27:07.244Z"
   },
   {
    "duration": 29,
    "start_time": "2024-09-04T18:27:07.273Z"
   },
   {
    "duration": 12,
    "start_time": "2024-09-04T18:27:07.304Z"
   },
   {
    "duration": 18,
    "start_time": "2024-09-04T18:27:07.318Z"
   },
   {
    "duration": 41,
    "start_time": "2024-09-04T18:27:07.337Z"
   },
   {
    "duration": 11,
    "start_time": "2024-09-04T18:27:07.380Z"
   },
   {
    "duration": 25,
    "start_time": "2024-09-04T18:27:07.393Z"
   },
   {
    "duration": 10,
    "start_time": "2024-09-04T18:34:20.653Z"
   },
   {
    "duration": 22,
    "start_time": "2024-09-04T18:34:34.304Z"
   },
   {
    "duration": 143,
    "start_time": "2024-09-04T18:35:25.145Z"
   },
   {
    "duration": 154,
    "start_time": "2024-09-04T18:35:43.568Z"
   },
   {
    "duration": 171,
    "start_time": "2024-09-04T18:35:51.647Z"
   },
   {
    "duration": 108,
    "start_time": "2024-09-04T18:39:33.343Z"
   },
   {
    "duration": 5,
    "start_time": "2024-09-04T18:40:59.039Z"
   },
   {
    "duration": 4,
    "start_time": "2024-09-04T18:41:09.340Z"
   },
   {
    "duration": 10,
    "start_time": "2024-09-04T18:41:19.007Z"
   },
   {
    "duration": 5,
    "start_time": "2024-09-04T18:41:22.856Z"
   },
   {
    "duration": 151,
    "start_time": "2024-09-04T18:41:45.856Z"
   },
   {
    "duration": 166,
    "start_time": "2024-09-04T18:42:09.842Z"
   },
   {
    "duration": 18,
    "start_time": "2024-09-04T19:00:46.723Z"
   },
   {
    "duration": 2240,
    "start_time": "2024-09-04T19:01:58.922Z"
   },
   {
    "duration": 332,
    "start_time": "2024-09-04T19:02:10.985Z"
   },
   {
    "duration": 235,
    "start_time": "2024-09-04T19:02:46.675Z"
   },
   {
    "duration": 235,
    "start_time": "2024-09-04T19:03:17.237Z"
   },
   {
    "duration": 234,
    "start_time": "2024-09-04T19:04:05.092Z"
   },
   {
    "duration": 234,
    "start_time": "2024-09-04T19:04:45.986Z"
   },
   {
    "duration": 334,
    "start_time": "2024-09-04T19:04:51.713Z"
   },
   {
    "duration": 497,
    "start_time": "2024-09-04T19:08:18.274Z"
   },
   {
    "duration": 362,
    "start_time": "2024-09-04T19:08:29.709Z"
   },
   {
    "duration": 322,
    "start_time": "2024-09-04T19:10:19.699Z"
   },
   {
    "duration": 360,
    "start_time": "2024-09-04T19:10:38.809Z"
   },
   {
    "duration": 507,
    "start_time": "2024-09-04T19:11:06.420Z"
   },
   {
    "duration": 48,
    "start_time": "2024-09-05T07:25:18.082Z"
   },
   {
    "duration": 1258,
    "start_time": "2024-09-05T07:25:34.986Z"
   },
   {
    "duration": 298,
    "start_time": "2024-09-05T07:25:36.247Z"
   },
   {
    "duration": 28,
    "start_time": "2024-09-05T07:25:36.547Z"
   },
   {
    "duration": 29,
    "start_time": "2024-09-05T07:25:36.577Z"
   },
   {
    "duration": 42,
    "start_time": "2024-09-05T07:25:36.609Z"
   },
   {
    "duration": 7,
    "start_time": "2024-09-05T07:25:36.653Z"
   },
   {
    "duration": 20,
    "start_time": "2024-09-05T07:25:36.661Z"
   },
   {
    "duration": 9,
    "start_time": "2024-09-05T07:25:36.682Z"
   },
   {
    "duration": 16,
    "start_time": "2024-09-05T07:25:36.692Z"
   },
   {
    "duration": 36,
    "start_time": "2024-09-05T07:25:36.710Z"
   },
   {
    "duration": 5,
    "start_time": "2024-09-05T07:25:36.748Z"
   },
   {
    "duration": 9,
    "start_time": "2024-09-05T07:25:36.755Z"
   },
   {
    "duration": 195,
    "start_time": "2024-09-05T07:25:36.765Z"
   },
   {
    "duration": 115,
    "start_time": "2024-09-05T07:25:36.963Z"
   },
   {
    "duration": 5,
    "start_time": "2024-09-05T07:25:37.079Z"
   },
   {
    "duration": 185,
    "start_time": "2024-09-05T07:25:37.086Z"
   },
   {
    "duration": 363,
    "start_time": "2024-09-05T07:25:37.273Z"
   },
   {
    "duration": 354,
    "start_time": "2024-09-05T07:25:37.638Z"
   },
   {
    "duration": 29,
    "start_time": "2024-09-05T07:25:37.994Z"
   },
   {
    "duration": 13,
    "start_time": "2024-09-05T07:26:33.503Z"
   },
   {
    "duration": 25,
    "start_time": "2024-09-05T07:26:39.305Z"
   },
   {
    "duration": 29,
    "start_time": "2024-09-05T07:27:59.774Z"
   },
   {
    "duration": 22,
    "start_time": "2024-09-05T07:30:49.233Z"
   },
   {
    "duration": 21,
    "start_time": "2024-09-05T07:32:22.048Z"
   },
   {
    "duration": 439,
    "start_time": "2024-09-05T07:35:02.369Z"
   },
   {
    "duration": 326,
    "start_time": "2024-09-05T07:36:37.089Z"
   },
   {
    "duration": 331,
    "start_time": "2024-09-05T07:43:15.060Z"
   },
   {
    "duration": 3,
    "start_time": "2024-09-05T07:44:08.677Z"
   },
   {
    "duration": 71,
    "start_time": "2024-09-05T07:44:08.682Z"
   },
   {
    "duration": 23,
    "start_time": "2024-09-05T07:44:08.754Z"
   },
   {
    "duration": 18,
    "start_time": "2024-09-05T07:44:08.779Z"
   },
   {
    "duration": 13,
    "start_time": "2024-09-05T07:44:08.800Z"
   },
   {
    "duration": 34,
    "start_time": "2024-09-05T07:44:08.815Z"
   },
   {
    "duration": 18,
    "start_time": "2024-09-05T07:44:08.851Z"
   },
   {
    "duration": 34,
    "start_time": "2024-09-05T07:44:08.871Z"
   },
   {
    "duration": 6,
    "start_time": "2024-09-05T07:44:08.907Z"
   },
   {
    "duration": 16,
    "start_time": "2024-09-05T07:44:08.915Z"
   },
   {
    "duration": 15,
    "start_time": "2024-09-05T07:44:08.932Z"
   },
   {
    "duration": 23,
    "start_time": "2024-09-05T07:44:08.948Z"
   },
   {
    "duration": 167,
    "start_time": "2024-09-05T07:44:08.973Z"
   },
   {
    "duration": 114,
    "start_time": "2024-09-05T07:44:09.146Z"
   },
   {
    "duration": 5,
    "start_time": "2024-09-05T07:44:09.261Z"
   },
   {
    "duration": 186,
    "start_time": "2024-09-05T07:44:09.267Z"
   },
   {
    "duration": 441,
    "start_time": "2024-09-05T07:44:09.455Z"
   },
   {
    "duration": 333,
    "start_time": "2024-09-05T07:44:09.898Z"
   },
   {
    "duration": 29,
    "start_time": "2024-09-05T07:44:10.233Z"
   },
   {
    "duration": 27,
    "start_time": "2024-09-05T07:44:10.264Z"
   },
   {
    "duration": 22,
    "start_time": "2024-09-05T07:44:10.293Z"
   },
   {
    "duration": 43,
    "start_time": "2024-09-05T07:44:10.316Z"
   },
   {
    "duration": 374,
    "start_time": "2024-09-05T07:44:10.360Z"
   },
   {
    "duration": 351,
    "start_time": "2024-09-05T07:44:10.736Z"
   },
   {
    "duration": 504,
    "start_time": "2024-09-05T07:44:11.089Z"
   },
   {
    "duration": 362,
    "start_time": "2024-09-05T07:48:37.195Z"
   },
   {
    "duration": 348,
    "start_time": "2024-09-05T07:52:33.524Z"
   },
   {
    "duration": 71,
    "start_time": "2024-09-05T08:10:52.016Z"
   },
   {
    "duration": 10,
    "start_time": "2024-09-05T08:11:30.535Z"
   },
   {
    "duration": 13,
    "start_time": "2024-09-05T08:11:42.113Z"
   },
   {
    "duration": 19,
    "start_time": "2024-09-05T08:12:18.609Z"
   },
   {
    "duration": 20,
    "start_time": "2024-09-05T08:13:31.121Z"
   },
   {
    "duration": 32,
    "start_time": "2024-09-05T08:16:07.783Z"
   },
   {
    "duration": 35,
    "start_time": "2024-09-05T08:16:59.528Z"
   },
   {
    "duration": 1144,
    "start_time": "2024-09-05T08:20:48.017Z"
   },
   {
    "duration": 15,
    "start_time": "2024-09-05T08:51:48.380Z"
   },
   {
    "duration": 23,
    "start_time": "2024-09-05T08:52:25.632Z"
   },
   {
    "duration": 117,
    "start_time": "2024-09-05T08:54:08.317Z"
   },
   {
    "duration": 3,
    "start_time": "2024-09-05T08:55:11.720Z"
   },
   {
    "duration": 104,
    "start_time": "2024-09-05T08:55:11.726Z"
   },
   {
    "duration": 30,
    "start_time": "2024-09-05T08:55:11.832Z"
   },
   {
    "duration": 23,
    "start_time": "2024-09-05T08:55:11.864Z"
   },
   {
    "duration": 13,
    "start_time": "2024-09-05T08:55:11.888Z"
   },
   {
    "duration": 61,
    "start_time": "2024-09-05T08:55:11.903Z"
   },
   {
    "duration": 26,
    "start_time": "2024-09-05T08:55:11.966Z"
   },
   {
    "duration": 9,
    "start_time": "2024-09-05T08:55:11.993Z"
   },
   {
    "duration": 26,
    "start_time": "2024-09-05T08:55:12.003Z"
   },
   {
    "duration": 37,
    "start_time": "2024-09-05T08:55:12.031Z"
   },
   {
    "duration": 30,
    "start_time": "2024-09-05T08:55:12.069Z"
   },
   {
    "duration": 34,
    "start_time": "2024-09-05T08:55:12.101Z"
   },
   {
    "duration": 163,
    "start_time": "2024-09-05T08:55:12.137Z"
   },
   {
    "duration": 117,
    "start_time": "2024-09-05T08:55:12.301Z"
   },
   {
    "duration": 4,
    "start_time": "2024-09-05T08:55:12.421Z"
   },
   {
    "duration": 190,
    "start_time": "2024-09-05T08:55:12.426Z"
   },
   {
    "duration": 494,
    "start_time": "2024-09-05T08:55:12.617Z"
   },
   {
    "duration": 397,
    "start_time": "2024-09-05T08:55:13.113Z"
   },
   {
    "duration": 39,
    "start_time": "2024-09-05T08:55:13.512Z"
   },
   {
    "duration": 45,
    "start_time": "2024-09-05T08:55:13.552Z"
   },
   {
    "duration": 26,
    "start_time": "2024-09-05T08:55:13.600Z"
   },
   {
    "duration": 35,
    "start_time": "2024-09-05T08:55:13.627Z"
   },
   {
    "duration": 359,
    "start_time": "2024-09-05T08:55:13.663Z"
   },
   {
    "duration": 353,
    "start_time": "2024-09-05T08:55:14.023Z"
   },
   {
    "duration": 485,
    "start_time": "2024-09-05T08:55:14.378Z"
   },
   {
    "duration": 373,
    "start_time": "2024-09-05T08:55:14.865Z"
   },
   {
    "duration": 55,
    "start_time": "2024-09-05T08:55:15.240Z"
   },
   {
    "duration": 56,
    "start_time": "2024-09-05T08:55:28.684Z"
   },
   {
    "duration": 2,
    "start_time": "2024-09-05T08:57:12.434Z"
   },
   {
    "duration": 113,
    "start_time": "2024-09-05T08:57:12.439Z"
   },
   {
    "duration": 25,
    "start_time": "2024-09-05T08:57:12.557Z"
   },
   {
    "duration": 23,
    "start_time": "2024-09-05T08:57:12.584Z"
   },
   {
    "duration": 14,
    "start_time": "2024-09-05T08:57:12.609Z"
   },
   {
    "duration": 21,
    "start_time": "2024-09-05T08:57:12.645Z"
   },
   {
    "duration": 20,
    "start_time": "2024-09-05T08:57:12.668Z"
   },
   {
    "duration": 11,
    "start_time": "2024-09-05T08:57:12.690Z"
   },
   {
    "duration": 19,
    "start_time": "2024-09-05T08:57:12.703Z"
   },
   {
    "duration": 46,
    "start_time": "2024-09-05T08:57:12.724Z"
   },
   {
    "duration": 5,
    "start_time": "2024-09-05T08:57:12.772Z"
   },
   {
    "duration": 27,
    "start_time": "2024-09-05T08:57:12.779Z"
   },
   {
    "duration": 180,
    "start_time": "2024-09-05T08:57:12.809Z"
   },
   {
    "duration": 115,
    "start_time": "2024-09-05T08:57:12.991Z"
   },
   {
    "duration": 4,
    "start_time": "2024-09-05T08:57:13.108Z"
   },
   {
    "duration": 199,
    "start_time": "2024-09-05T08:57:13.114Z"
   },
   {
    "duration": 350,
    "start_time": "2024-09-05T08:57:13.315Z"
   },
   {
    "duration": 346,
    "start_time": "2024-09-05T08:57:13.667Z"
   },
   {
    "duration": 33,
    "start_time": "2024-09-05T08:57:14.015Z"
   },
   {
    "duration": 28,
    "start_time": "2024-09-05T08:57:14.050Z"
   },
   {
    "duration": 20,
    "start_time": "2024-09-05T08:57:14.079Z"
   },
   {
    "duration": 19,
    "start_time": "2024-09-05T08:57:14.100Z"
   },
   {
    "duration": 538,
    "start_time": "2024-09-05T08:57:14.121Z"
   },
   {
    "duration": 360,
    "start_time": "2024-09-05T08:57:14.665Z"
   },
   {
    "duration": 354,
    "start_time": "2024-09-05T08:57:15.027Z"
   },
   {
    "duration": 336,
    "start_time": "2024-09-05T08:57:15.383Z"
   },
   {
    "duration": 52,
    "start_time": "2024-09-05T08:57:15.721Z"
   },
   {
    "duration": 3,
    "start_time": "2024-09-05T08:58:02.747Z"
   },
   {
    "duration": 71,
    "start_time": "2024-09-05T08:58:02.752Z"
   },
   {
    "duration": 31,
    "start_time": "2024-09-05T08:58:02.824Z"
   },
   {
    "duration": 29,
    "start_time": "2024-09-05T08:58:02.860Z"
   },
   {
    "duration": 17,
    "start_time": "2024-09-05T08:58:02.892Z"
   },
   {
    "duration": 65,
    "start_time": "2024-09-05T08:58:02.910Z"
   },
   {
    "duration": 37,
    "start_time": "2024-09-05T08:58:02.976Z"
   },
   {
    "duration": 129,
    "start_time": "2024-09-05T08:58:03.014Z"
   },
   {
    "duration": 25,
    "start_time": "2024-09-05T08:58:03.146Z"
   },
   {
    "duration": 29,
    "start_time": "2024-09-05T08:58:03.172Z"
   },
   {
    "duration": 40,
    "start_time": "2024-09-05T08:58:03.202Z"
   },
   {
    "duration": 41,
    "start_time": "2024-09-05T08:58:03.243Z"
   },
   {
    "duration": 150,
    "start_time": "2024-09-05T08:58:03.286Z"
   },
   {
    "duration": 112,
    "start_time": "2024-09-05T08:58:03.439Z"
   },
   {
    "duration": 8,
    "start_time": "2024-09-05T08:58:03.554Z"
   },
   {
    "duration": 175,
    "start_time": "2024-09-05T08:58:03.564Z"
   },
   {
    "duration": 347,
    "start_time": "2024-09-05T08:58:03.746Z"
   },
   {
    "duration": 407,
    "start_time": "2024-09-05T08:58:04.095Z"
   },
   {
    "duration": 25,
    "start_time": "2024-09-05T08:58:04.504Z"
   },
   {
    "duration": 53,
    "start_time": "2024-09-05T08:58:04.530Z"
   },
   {
    "duration": 21,
    "start_time": "2024-09-05T08:58:04.585Z"
   },
   {
    "duration": 42,
    "start_time": "2024-09-05T08:58:04.608Z"
   },
   {
    "duration": 410,
    "start_time": "2024-09-05T08:58:04.652Z"
   },
   {
    "duration": 456,
    "start_time": "2024-09-05T08:58:05.064Z"
   },
   {
    "duration": 343,
    "start_time": "2024-09-05T08:58:05.522Z"
   },
   {
    "duration": 334,
    "start_time": "2024-09-05T08:58:05.867Z"
   },
   {
    "duration": 66,
    "start_time": "2024-09-05T08:58:06.203Z"
   },
   {
    "duration": 46,
    "start_time": "2024-09-05T08:58:23.035Z"
   },
   {
    "duration": 3,
    "start_time": "2024-09-05T08:58:34.613Z"
   },
   {
    "duration": 95,
    "start_time": "2024-09-05T08:58:34.618Z"
   },
   {
    "duration": 21,
    "start_time": "2024-09-05T08:58:34.715Z"
   },
   {
    "duration": 23,
    "start_time": "2024-09-05T08:58:34.737Z"
   },
   {
    "duration": 17,
    "start_time": "2024-09-05T08:58:34.762Z"
   },
   {
    "duration": 54,
    "start_time": "2024-09-05T08:58:34.781Z"
   },
   {
    "duration": 40,
    "start_time": "2024-09-05T08:58:34.837Z"
   },
   {
    "duration": 19,
    "start_time": "2024-09-05T08:58:34.878Z"
   },
   {
    "duration": 72,
    "start_time": "2024-09-05T08:58:34.899Z"
   },
   {
    "duration": 29,
    "start_time": "2024-09-05T08:58:34.972Z"
   },
   {
    "duration": 4,
    "start_time": "2024-09-05T08:58:35.003Z"
   },
   {
    "duration": 9,
    "start_time": "2024-09-05T08:58:35.009Z"
   },
   {
    "duration": 193,
    "start_time": "2024-09-05T08:58:35.019Z"
   },
   {
    "duration": 123,
    "start_time": "2024-09-05T08:58:35.215Z"
   },
   {
    "duration": 16,
    "start_time": "2024-09-05T08:58:35.340Z"
   },
   {
    "duration": 206,
    "start_time": "2024-09-05T08:58:35.360Z"
   },
   {
    "duration": 459,
    "start_time": "2024-09-05T08:58:35.567Z"
   },
   {
    "duration": 357,
    "start_time": "2024-09-05T08:58:36.028Z"
   },
   {
    "duration": 24,
    "start_time": "2024-09-05T08:58:36.386Z"
   },
   {
    "duration": 50,
    "start_time": "2024-09-05T08:58:36.412Z"
   },
   {
    "duration": 23,
    "start_time": "2024-09-05T08:58:36.464Z"
   },
   {
    "duration": 26,
    "start_time": "2024-09-05T08:58:36.489Z"
   },
   {
    "duration": 393,
    "start_time": "2024-09-05T08:58:36.516Z"
   },
   {
    "duration": 357,
    "start_time": "2024-09-05T08:58:36.911Z"
   },
   {
    "duration": 509,
    "start_time": "2024-09-05T08:58:37.269Z"
   },
   {
    "duration": 349,
    "start_time": "2024-09-05T08:58:37.780Z"
   },
   {
    "duration": 54,
    "start_time": "2024-09-05T08:58:38.131Z"
   },
   {
    "duration": 621,
    "start_time": "2024-09-05T08:59:16.112Z"
   },
   {
    "duration": 5,
    "start_time": "2024-09-05T09:01:00.844Z"
   },
   {
    "duration": 80,
    "start_time": "2024-09-05T09:01:00.851Z"
   },
   {
    "duration": 25,
    "start_time": "2024-09-05T09:01:00.933Z"
   },
   {
    "duration": 23,
    "start_time": "2024-09-05T09:01:00.962Z"
   },
   {
    "duration": 14,
    "start_time": "2024-09-05T09:01:00.987Z"
   },
   {
    "duration": 21,
    "start_time": "2024-09-05T09:01:01.002Z"
   },
   {
    "duration": 42,
    "start_time": "2024-09-05T09:01:01.025Z"
   },
   {
    "duration": 30,
    "start_time": "2024-09-05T09:01:01.069Z"
   },
   {
    "duration": 7,
    "start_time": "2024-09-05T09:01:01.100Z"
   },
   {
    "duration": 19,
    "start_time": "2024-09-05T09:01:01.109Z"
   },
   {
    "duration": 4,
    "start_time": "2024-09-05T09:01:01.131Z"
   },
   {
    "duration": 21,
    "start_time": "2024-09-05T09:01:01.147Z"
   },
   {
    "duration": 172,
    "start_time": "2024-09-05T09:01:01.169Z"
   },
   {
    "duration": 131,
    "start_time": "2024-09-05T09:01:01.344Z"
   },
   {
    "duration": 6,
    "start_time": "2024-09-05T09:01:01.477Z"
   },
   {
    "duration": 188,
    "start_time": "2024-09-05T09:01:01.484Z"
   },
   {
    "duration": 331,
    "start_time": "2024-09-05T09:01:01.674Z"
   },
   {
    "duration": 356,
    "start_time": "2024-09-05T09:01:02.007Z"
   },
   {
    "duration": 23,
    "start_time": "2024-09-05T09:01:02.365Z"
   },
   {
    "duration": 27,
    "start_time": "2024-09-05T09:01:02.390Z"
   },
   {
    "duration": 41,
    "start_time": "2024-09-05T09:01:02.419Z"
   },
   {
    "duration": 22,
    "start_time": "2024-09-05T09:01:02.462Z"
   },
   {
    "duration": 531,
    "start_time": "2024-09-05T09:01:02.486Z"
   },
   {
    "duration": 392,
    "start_time": "2024-09-05T09:01:03.019Z"
   },
   {
    "duration": 351,
    "start_time": "2024-09-05T09:01:03.413Z"
   },
   {
    "duration": 336,
    "start_time": "2024-09-05T09:01:03.766Z"
   },
   {
    "duration": 55,
    "start_time": "2024-09-05T09:01:04.104Z"
   },
   {
    "duration": 42,
    "start_time": "2024-09-05T09:01:23.601Z"
   },
   {
    "duration": 38,
    "start_time": "2024-09-05T09:02:20.844Z"
   },
   {
    "duration": 34,
    "start_time": "2024-09-05T09:02:28.962Z"
   },
   {
    "duration": 163,
    "start_time": "2024-09-05T09:02:44.352Z"
   },
   {
    "duration": 3,
    "start_time": "2024-09-05T09:02:52.843Z"
   },
   {
    "duration": 107,
    "start_time": "2024-09-05T09:02:52.848Z"
   },
   {
    "duration": 21,
    "start_time": "2024-09-05T09:02:52.956Z"
   },
   {
    "duration": 22,
    "start_time": "2024-09-05T09:02:52.979Z"
   },
   {
    "duration": 14,
    "start_time": "2024-09-05T09:02:53.003Z"
   },
   {
    "duration": 30,
    "start_time": "2024-09-05T09:02:53.018Z"
   },
   {
    "duration": 26,
    "start_time": "2024-09-05T09:02:53.051Z"
   },
   {
    "duration": 11,
    "start_time": "2024-09-05T09:02:53.078Z"
   },
   {
    "duration": 19,
    "start_time": "2024-09-05T09:02:53.092Z"
   },
   {
    "duration": 38,
    "start_time": "2024-09-05T09:02:53.113Z"
   },
   {
    "duration": 4,
    "start_time": "2024-09-05T09:02:53.153Z"
   },
   {
    "duration": 10,
    "start_time": "2024-09-05T09:02:53.159Z"
   },
   {
    "duration": 177,
    "start_time": "2024-09-05T09:02:53.171Z"
   },
   {
    "duration": 110,
    "start_time": "2024-09-05T09:02:53.350Z"
   },
   {
    "duration": 4,
    "start_time": "2024-09-05T09:02:53.462Z"
   },
   {
    "duration": 176,
    "start_time": "2024-09-05T09:02:53.467Z"
   },
   {
    "duration": 323,
    "start_time": "2024-09-05T09:02:53.646Z"
   },
   {
    "duration": 339,
    "start_time": "2024-09-05T09:02:53.971Z"
   },
   {
    "duration": 36,
    "start_time": "2024-09-05T09:02:54.311Z"
   },
   {
    "duration": 29,
    "start_time": "2024-09-05T09:02:54.348Z"
   },
   {
    "duration": 21,
    "start_time": "2024-09-05T09:02:54.378Z"
   },
   {
    "duration": 50,
    "start_time": "2024-09-05T09:02:54.400Z"
   },
   {
    "duration": 372,
    "start_time": "2024-09-05T09:02:54.452Z"
   },
   {
    "duration": 455,
    "start_time": "2024-09-05T09:02:54.826Z"
   },
   {
    "duration": 324,
    "start_time": "2024-09-05T09:02:55.283Z"
   },
   {
    "duration": 334,
    "start_time": "2024-09-05T09:02:55.608Z"
   },
   {
    "duration": 34,
    "start_time": "2024-09-05T09:02:55.946Z"
   },
   {
    "duration": 5,
    "start_time": "2024-09-05T09:04:28.452Z"
   },
   {
    "duration": 74,
    "start_time": "2024-09-05T09:04:28.459Z"
   },
   {
    "duration": 29,
    "start_time": "2024-09-05T09:04:28.535Z"
   },
   {
    "duration": 19,
    "start_time": "2024-09-05T09:04:28.568Z"
   },
   {
    "duration": 15,
    "start_time": "2024-09-05T09:04:28.590Z"
   },
   {
    "duration": 47,
    "start_time": "2024-09-05T09:04:28.607Z"
   },
   {
    "duration": 30,
    "start_time": "2024-09-05T09:04:28.658Z"
   },
   {
    "duration": 18,
    "start_time": "2024-09-05T09:04:28.689Z"
   },
   {
    "duration": 11,
    "start_time": "2024-09-05T09:04:28.709Z"
   },
   {
    "duration": 42,
    "start_time": "2024-09-05T09:04:28.722Z"
   },
   {
    "duration": 4,
    "start_time": "2024-09-05T09:04:28.765Z"
   },
   {
    "duration": 15,
    "start_time": "2024-09-05T09:04:28.771Z"
   },
   {
    "duration": 181,
    "start_time": "2024-09-05T09:04:28.787Z"
   },
   {
    "duration": 140,
    "start_time": "2024-09-05T09:04:28.971Z"
   },
   {
    "duration": 4,
    "start_time": "2024-09-05T09:04:29.113Z"
   },
   {
    "duration": 224,
    "start_time": "2024-09-05T09:04:29.119Z"
   },
   {
    "duration": 464,
    "start_time": "2024-09-05T09:04:29.345Z"
   },
   {
    "duration": 368,
    "start_time": "2024-09-05T09:04:29.810Z"
   },
   {
    "duration": 23,
    "start_time": "2024-09-05T09:04:30.180Z"
   },
   {
    "duration": 53,
    "start_time": "2024-09-05T09:04:30.205Z"
   },
   {
    "duration": 37,
    "start_time": "2024-09-05T09:04:30.260Z"
   },
   {
    "duration": 30,
    "start_time": "2024-09-05T09:04:30.299Z"
   },
   {
    "duration": 445,
    "start_time": "2024-09-05T09:04:30.330Z"
   },
   {
    "duration": 367,
    "start_time": "2024-09-05T09:04:30.777Z"
   },
   {
    "duration": 516,
    "start_time": "2024-09-05T09:04:31.147Z"
   },
   {
    "duration": 360,
    "start_time": "2024-09-05T09:04:31.665Z"
   },
   {
    "duration": 45,
    "start_time": "2024-09-05T09:04:32.027Z"
   },
   {
    "duration": 3,
    "start_time": "2024-09-05T09:14:48.090Z"
   },
   {
    "duration": 96,
    "start_time": "2024-09-05T09:14:48.095Z"
   },
   {
    "duration": 21,
    "start_time": "2024-09-05T09:14:48.193Z"
   },
   {
    "duration": 20,
    "start_time": "2024-09-05T09:14:48.217Z"
   },
   {
    "duration": 33,
    "start_time": "2024-09-05T09:14:48.239Z"
   },
   {
    "duration": 10,
    "start_time": "2024-09-05T09:14:48.273Z"
   },
   {
    "duration": 19,
    "start_time": "2024-09-05T09:14:48.284Z"
   },
   {
    "duration": 8,
    "start_time": "2024-09-05T09:14:48.304Z"
   },
   {
    "duration": 19,
    "start_time": "2024-09-05T09:14:48.313Z"
   },
   {
    "duration": 23,
    "start_time": "2024-09-05T09:14:48.335Z"
   },
   {
    "duration": 5,
    "start_time": "2024-09-05T09:14:48.359Z"
   },
   {
    "duration": 10,
    "start_time": "2024-09-05T09:14:48.366Z"
   },
   {
    "duration": 189,
    "start_time": "2024-09-05T09:14:48.377Z"
   },
   {
    "duration": 155,
    "start_time": "2024-09-05T09:14:48.568Z"
   },
   {
    "duration": 5,
    "start_time": "2024-09-05T09:14:48.725Z"
   },
   {
    "duration": 194,
    "start_time": "2024-09-05T09:14:48.731Z"
   },
   {
    "duration": 360,
    "start_time": "2024-09-05T09:14:48.926Z"
   },
   {
    "duration": 403,
    "start_time": "2024-09-05T09:14:49.288Z"
   },
   {
    "duration": 24,
    "start_time": "2024-09-05T09:14:49.693Z"
   },
   {
    "duration": 47,
    "start_time": "2024-09-05T09:14:49.719Z"
   },
   {
    "duration": 22,
    "start_time": "2024-09-05T09:14:49.768Z"
   },
   {
    "duration": 40,
    "start_time": "2024-09-05T09:14:49.792Z"
   },
   {
    "duration": 528,
    "start_time": "2024-09-05T09:14:49.834Z"
   },
   {
    "duration": 362,
    "start_time": "2024-09-05T09:14:50.364Z"
   },
   {
    "duration": 344,
    "start_time": "2024-09-05T09:14:50.728Z"
   },
   {
    "duration": 393,
    "start_time": "2024-09-05T09:14:51.074Z"
   },
   {
    "duration": 34,
    "start_time": "2024-09-05T09:14:51.468Z"
   },
   {
    "duration": 34,
    "start_time": "2024-09-05T09:15:11.605Z"
   },
   {
    "duration": 3,
    "start_time": "2024-09-05T09:17:14.382Z"
   },
   {
    "duration": 83,
    "start_time": "2024-09-05T09:17:14.386Z"
   },
   {
    "duration": 22,
    "start_time": "2024-09-05T09:17:14.471Z"
   },
   {
    "duration": 22,
    "start_time": "2024-09-05T09:17:14.496Z"
   },
   {
    "duration": 38,
    "start_time": "2024-09-05T09:17:14.519Z"
   },
   {
    "duration": 8,
    "start_time": "2024-09-05T09:17:14.562Z"
   },
   {
    "duration": 223,
    "start_time": "2024-09-05T09:17:14.572Z"
   },
   {
    "duration": 9,
    "start_time": "2024-09-05T09:17:14.797Z"
   },
   {
    "duration": 64,
    "start_time": "2024-09-05T09:17:14.809Z"
   },
   {
    "duration": 121,
    "start_time": "2024-09-05T09:17:14.875Z"
   },
   {
    "duration": 95,
    "start_time": "2024-09-05T09:17:14.998Z"
   },
   {
    "duration": 84,
    "start_time": "2024-09-05T09:17:15.095Z"
   },
   {
    "duration": 211,
    "start_time": "2024-09-05T09:17:15.181Z"
   },
   {
    "duration": 112,
    "start_time": "2024-09-05T09:17:15.394Z"
   },
   {
    "duration": 4,
    "start_time": "2024-09-05T09:17:15.507Z"
   },
   {
    "duration": 182,
    "start_time": "2024-09-05T09:17:15.513Z"
   },
   {
    "duration": 362,
    "start_time": "2024-09-05T09:17:15.696Z"
   },
   {
    "duration": 350,
    "start_time": "2024-09-05T09:17:16.060Z"
   },
   {
    "duration": 41,
    "start_time": "2024-09-05T09:17:16.411Z"
   },
   {
    "duration": 33,
    "start_time": "2024-09-05T09:17:16.453Z"
   },
   {
    "duration": 23,
    "start_time": "2024-09-05T09:17:16.488Z"
   },
   {
    "duration": 43,
    "start_time": "2024-09-05T09:17:16.513Z"
   },
   {
    "duration": 379,
    "start_time": "2024-09-05T09:17:16.557Z"
   },
   {
    "duration": 523,
    "start_time": "2024-09-05T09:17:16.939Z"
   },
   {
    "duration": 357,
    "start_time": "2024-09-05T09:17:17.463Z"
   },
   {
    "duration": 349,
    "start_time": "2024-09-05T09:17:17.822Z"
   },
   {
    "duration": 32,
    "start_time": "2024-09-05T09:17:18.173Z"
   },
   {
    "duration": 38,
    "start_time": "2024-09-05T09:27:55.626Z"
   },
   {
    "duration": 24,
    "start_time": "2024-09-05T09:29:07.912Z"
   },
   {
    "duration": 3,
    "start_time": "2024-09-05T09:29:13.892Z"
   },
   {
    "duration": 102,
    "start_time": "2024-09-05T09:29:13.897Z"
   },
   {
    "duration": 20,
    "start_time": "2024-09-05T09:29:14.000Z"
   },
   {
    "duration": 55,
    "start_time": "2024-09-05T09:29:14.022Z"
   },
   {
    "duration": 21,
    "start_time": "2024-09-05T09:29:14.079Z"
   },
   {
    "duration": 13,
    "start_time": "2024-09-05T09:29:14.102Z"
   },
   {
    "duration": 66,
    "start_time": "2024-09-05T09:29:14.116Z"
   },
   {
    "duration": 9,
    "start_time": "2024-09-05T09:29:14.184Z"
   },
   {
    "duration": 5,
    "start_time": "2024-09-05T09:29:14.195Z"
   },
   {
    "duration": 16,
    "start_time": "2024-09-05T09:29:14.201Z"
   },
   {
    "duration": 5,
    "start_time": "2024-09-05T09:29:14.218Z"
   },
   {
    "duration": 39,
    "start_time": "2024-09-05T09:29:14.224Z"
   },
   {
    "duration": 175,
    "start_time": "2024-09-05T09:29:14.265Z"
   },
   {
    "duration": 118,
    "start_time": "2024-09-05T09:29:14.445Z"
   },
   {
    "duration": 4,
    "start_time": "2024-09-05T09:29:14.565Z"
   },
   {
    "duration": 213,
    "start_time": "2024-09-05T09:29:14.570Z"
   },
   {
    "duration": 509,
    "start_time": "2024-09-05T09:29:14.784Z"
   },
   {
    "duration": 386,
    "start_time": "2024-09-05T09:29:15.295Z"
   },
   {
    "duration": 23,
    "start_time": "2024-09-05T09:29:15.682Z"
   },
   {
    "duration": 26,
    "start_time": "2024-09-05T09:29:15.706Z"
   },
   {
    "duration": 45,
    "start_time": "2024-09-05T09:29:15.752Z"
   },
   {
    "duration": 138,
    "start_time": "2024-09-05T09:29:15.799Z"
   },
   {
    "duration": 533,
    "start_time": "2024-09-05T09:29:15.938Z"
   },
   {
    "duration": 391,
    "start_time": "2024-09-05T09:29:16.473Z"
   },
   {
    "duration": 490,
    "start_time": "2024-09-05T09:29:16.865Z"
   },
   {
    "duration": 385,
    "start_time": "2024-09-05T09:29:17.359Z"
   },
   {
    "duration": 33,
    "start_time": "2024-09-05T09:29:17.746Z"
   },
   {
    "duration": 3,
    "start_time": "2024-09-05T09:29:37.288Z"
   },
   {
    "duration": 78,
    "start_time": "2024-09-05T09:29:37.293Z"
   },
   {
    "duration": 23,
    "start_time": "2024-09-05T09:29:37.373Z"
   },
   {
    "duration": 19,
    "start_time": "2024-09-05T09:29:37.397Z"
   },
   {
    "duration": 14,
    "start_time": "2024-09-05T09:29:37.419Z"
   },
   {
    "duration": 51,
    "start_time": "2024-09-05T09:29:37.434Z"
   },
   {
    "duration": 107,
    "start_time": "2024-09-05T09:29:37.487Z"
   },
   {
    "duration": 9,
    "start_time": "2024-09-05T09:29:37.595Z"
   },
   {
    "duration": 7,
    "start_time": "2024-09-05T09:29:37.606Z"
   },
   {
    "duration": 16,
    "start_time": "2024-09-05T09:29:37.614Z"
   },
   {
    "duration": 4,
    "start_time": "2024-09-05T09:29:37.632Z"
   },
   {
    "duration": 32,
    "start_time": "2024-09-05T09:29:37.638Z"
   },
   {
    "duration": 164,
    "start_time": "2024-09-05T09:29:37.672Z"
   },
   {
    "duration": 123,
    "start_time": "2024-09-05T09:29:37.839Z"
   },
   {
    "duration": 5,
    "start_time": "2024-09-05T09:29:37.963Z"
   },
   {
    "duration": 358,
    "start_time": "2024-09-05T09:29:37.970Z"
   },
   {
    "duration": 388,
    "start_time": "2024-09-05T09:29:38.330Z"
   },
   {
    "duration": 387,
    "start_time": "2024-09-05T09:29:38.720Z"
   },
   {
    "duration": 24,
    "start_time": "2024-09-05T09:29:39.109Z"
   },
   {
    "duration": 33,
    "start_time": "2024-09-05T09:29:39.151Z"
   },
   {
    "duration": 22,
    "start_time": "2024-09-05T09:29:39.186Z"
   },
   {
    "duration": 54,
    "start_time": "2024-09-05T09:29:39.210Z"
   },
   {
    "duration": 532,
    "start_time": "2024-09-05T09:29:39.266Z"
   },
   {
    "duration": 353,
    "start_time": "2024-09-05T09:29:39.800Z"
   },
   {
    "duration": 330,
    "start_time": "2024-09-05T09:29:40.160Z"
   },
   {
    "duration": 379,
    "start_time": "2024-09-05T09:29:40.492Z"
   },
   {
    "duration": 28,
    "start_time": "2024-09-05T09:29:40.873Z"
   },
   {
    "duration": 2,
    "start_time": "2024-09-05T09:30:43.711Z"
   },
   {
    "duration": 96,
    "start_time": "2024-09-05T09:30:43.715Z"
   },
   {
    "duration": 20,
    "start_time": "2024-09-05T09:30:43.813Z"
   },
   {
    "duration": 47,
    "start_time": "2024-09-05T09:30:43.834Z"
   },
   {
    "duration": 13,
    "start_time": "2024-09-05T09:30:43.884Z"
   },
   {
    "duration": 25,
    "start_time": "2024-09-05T09:30:43.899Z"
   },
   {
    "duration": 37,
    "start_time": "2024-09-05T09:30:43.925Z"
   },
   {
    "duration": 81,
    "start_time": "2024-09-05T09:30:43.964Z"
   },
   {
    "duration": 38,
    "start_time": "2024-09-05T09:30:44.051Z"
   },
   {
    "duration": 173,
    "start_time": "2024-09-05T09:30:44.091Z"
   },
   {
    "duration": 4,
    "start_time": "2024-09-05T09:30:44.267Z"
   },
   {
    "duration": 42,
    "start_time": "2024-09-05T09:30:44.273Z"
   },
   {
    "duration": 174,
    "start_time": "2024-09-05T09:30:44.316Z"
   },
   {
    "duration": 120,
    "start_time": "2024-09-05T09:30:44.491Z"
   },
   {
    "duration": 4,
    "start_time": "2024-09-05T09:30:44.613Z"
   },
   {
    "duration": 206,
    "start_time": "2024-09-05T09:30:44.618Z"
   },
   {
    "duration": 355,
    "start_time": "2024-09-05T09:30:44.826Z"
   },
   {
    "duration": 381,
    "start_time": "2024-09-05T09:30:45.183Z"
   },
   {
    "duration": 24,
    "start_time": "2024-09-05T09:30:45.566Z"
   },
   {
    "duration": 39,
    "start_time": "2024-09-05T09:30:45.591Z"
   },
   {
    "duration": 35,
    "start_time": "2024-09-05T09:30:45.631Z"
   },
   {
    "duration": 33,
    "start_time": "2024-09-05T09:30:45.668Z"
   },
   {
    "duration": 361,
    "start_time": "2024-09-05T09:30:45.703Z"
   },
   {
    "duration": 531,
    "start_time": "2024-09-05T09:30:46.066Z"
   },
   {
    "duration": 352,
    "start_time": "2024-09-05T09:30:46.599Z"
   },
   {
    "duration": 368,
    "start_time": "2024-09-05T09:30:46.955Z"
   },
   {
    "duration": 47,
    "start_time": "2024-09-05T09:30:47.325Z"
   },
   {
    "duration": 4,
    "start_time": "2024-09-05T09:55:47.357Z"
   },
   {
    "duration": 78,
    "start_time": "2024-09-05T09:55:47.363Z"
   },
   {
    "duration": 31,
    "start_time": "2024-09-05T09:55:47.442Z"
   },
   {
    "duration": 37,
    "start_time": "2024-09-05T09:55:47.475Z"
   },
   {
    "duration": 14,
    "start_time": "2024-09-05T09:55:47.514Z"
   },
   {
    "duration": 12,
    "start_time": "2024-09-05T09:55:47.529Z"
   },
   {
    "duration": 46,
    "start_time": "2024-09-05T09:55:47.543Z"
   },
   {
    "duration": 9,
    "start_time": "2024-09-05T09:55:47.591Z"
   },
   {
    "duration": 7,
    "start_time": "2024-09-05T09:55:47.601Z"
   },
   {
    "duration": 19,
    "start_time": "2024-09-05T09:55:47.609Z"
   },
   {
    "duration": 28,
    "start_time": "2024-09-05T09:55:47.630Z"
   },
   {
    "duration": 20,
    "start_time": "2024-09-05T09:55:47.659Z"
   },
   {
    "duration": 170,
    "start_time": "2024-09-05T09:55:47.681Z"
   },
   {
    "duration": 123,
    "start_time": "2024-09-05T09:55:47.858Z"
   },
   {
    "duration": 4,
    "start_time": "2024-09-05T09:55:47.983Z"
   },
   {
    "duration": 216,
    "start_time": "2024-09-05T09:55:47.989Z"
   },
   {
    "duration": 564,
    "start_time": "2024-09-05T09:55:48.207Z"
   },
   {
    "duration": 346,
    "start_time": "2024-09-05T09:55:48.773Z"
   },
   {
    "duration": 40,
    "start_time": "2024-09-05T09:55:49.121Z"
   },
   {
    "duration": 28,
    "start_time": "2024-09-05T09:55:49.163Z"
   },
   {
    "duration": 22,
    "start_time": "2024-09-05T09:55:49.192Z"
   },
   {
    "duration": 47,
    "start_time": "2024-09-05T09:55:49.215Z"
   },
   {
    "duration": 354,
    "start_time": "2024-09-05T09:55:49.264Z"
   },
   {
    "duration": 370,
    "start_time": "2024-09-05T09:55:49.620Z"
   },
   {
    "duration": 564,
    "start_time": "2024-09-05T09:55:49.996Z"
   },
   {
    "duration": 351,
    "start_time": "2024-09-05T09:55:50.561Z"
   },
   {
    "duration": 46,
    "start_time": "2024-09-05T09:55:50.914Z"
   },
   {
    "duration": 3,
    "start_time": "2024-09-05T09:59:15.513Z"
   },
   {
    "duration": 115,
    "start_time": "2024-09-05T09:59:15.518Z"
   },
   {
    "duration": 29,
    "start_time": "2024-09-05T09:59:15.634Z"
   },
   {
    "duration": 27,
    "start_time": "2024-09-05T09:59:15.665Z"
   },
   {
    "duration": 14,
    "start_time": "2024-09-05T09:59:15.694Z"
   },
   {
    "duration": 7,
    "start_time": "2024-09-05T09:59:15.710Z"
   },
   {
    "duration": 49,
    "start_time": "2024-09-05T09:59:15.718Z"
   },
   {
    "duration": 8,
    "start_time": "2024-09-05T09:59:15.769Z"
   },
   {
    "duration": 21,
    "start_time": "2024-09-05T09:59:15.778Z"
   },
   {
    "duration": 36,
    "start_time": "2024-09-05T09:59:15.800Z"
   },
   {
    "duration": 6,
    "start_time": "2024-09-05T09:59:15.838Z"
   },
   {
    "duration": 12,
    "start_time": "2024-09-05T09:59:15.856Z"
   },
   {
    "duration": 154,
    "start_time": "2024-09-05T09:59:15.871Z"
   },
   {
    "duration": 107,
    "start_time": "2024-09-05T09:59:16.027Z"
   },
   {
    "duration": 20,
    "start_time": "2024-09-05T09:59:16.136Z"
   },
   {
    "duration": 251,
    "start_time": "2024-09-05T09:59:16.158Z"
   },
   {
    "duration": 373,
    "start_time": "2024-09-05T09:59:16.411Z"
   },
   {
    "duration": 367,
    "start_time": "2024-09-05T09:59:16.786Z"
   },
   {
    "duration": 24,
    "start_time": "2024-09-05T09:59:17.160Z"
   },
   {
    "duration": 28,
    "start_time": "2024-09-05T09:59:17.186Z"
   },
   {
    "duration": 39,
    "start_time": "2024-09-05T09:59:17.216Z"
   },
   {
    "duration": 25,
    "start_time": "2024-09-05T09:59:17.260Z"
   },
   {
    "duration": 594,
    "start_time": "2024-09-05T09:59:17.286Z"
   },
   {
    "duration": 357,
    "start_time": "2024-09-05T09:59:17.882Z"
   },
   {
    "duration": 364,
    "start_time": "2024-09-05T09:59:18.240Z"
   },
   {
    "duration": 405,
    "start_time": "2024-09-05T09:59:18.606Z"
   },
   {
    "duration": 5,
    "start_time": "2024-09-05T09:59:19.013Z"
   },
   {
    "duration": 3,
    "start_time": "2024-09-05T09:59:34.224Z"
   },
   {
    "duration": 105,
    "start_time": "2024-09-05T09:59:34.229Z"
   },
   {
    "duration": 31,
    "start_time": "2024-09-05T09:59:34.336Z"
   },
   {
    "duration": 33,
    "start_time": "2024-09-05T09:59:34.368Z"
   },
   {
    "duration": 12,
    "start_time": "2024-09-05T09:59:34.404Z"
   },
   {
    "duration": 22,
    "start_time": "2024-09-05T09:59:34.417Z"
   },
   {
    "duration": 36,
    "start_time": "2024-09-05T09:59:34.440Z"
   },
   {
    "duration": 33,
    "start_time": "2024-09-05T09:59:34.477Z"
   },
   {
    "duration": 25,
    "start_time": "2024-09-05T09:59:34.512Z"
   },
   {
    "duration": 44,
    "start_time": "2024-09-05T09:59:34.539Z"
   },
   {
    "duration": 6,
    "start_time": "2024-09-05T09:59:34.585Z"
   },
   {
    "duration": 26,
    "start_time": "2024-09-05T09:59:34.593Z"
   },
   {
    "duration": 184,
    "start_time": "2024-09-05T09:59:34.621Z"
   },
   {
    "duration": 111,
    "start_time": "2024-09-05T09:59:34.808Z"
   },
   {
    "duration": 4,
    "start_time": "2024-09-05T09:59:34.921Z"
   },
   {
    "duration": 196,
    "start_time": "2024-09-05T09:59:34.926Z"
   },
   {
    "duration": 515,
    "start_time": "2024-09-05T09:59:35.124Z"
   },
   {
    "duration": 381,
    "start_time": "2024-09-05T09:59:35.646Z"
   },
   {
    "duration": 34,
    "start_time": "2024-09-05T09:59:36.029Z"
   },
   {
    "duration": 26,
    "start_time": "2024-09-05T09:59:36.064Z"
   },
   {
    "duration": 20,
    "start_time": "2024-09-05T09:59:36.091Z"
   },
   {
    "duration": 47,
    "start_time": "2024-09-05T09:59:36.113Z"
   },
   {
    "duration": 361,
    "start_time": "2024-09-05T09:59:36.162Z"
   },
   {
    "duration": 354,
    "start_time": "2024-09-05T09:59:36.525Z"
   },
   {
    "duration": 519,
    "start_time": "2024-09-05T09:59:36.881Z"
   },
   {
    "duration": 407,
    "start_time": "2024-09-05T09:59:37.402Z"
   },
   {
    "duration": 52,
    "start_time": "2024-09-05T09:59:37.811Z"
   },
   {
    "duration": 4,
    "start_time": "2024-09-05T10:00:05.103Z"
   },
   {
    "duration": 92,
    "start_time": "2024-09-05T10:00:05.109Z"
   },
   {
    "duration": 22,
    "start_time": "2024-09-05T10:00:05.202Z"
   },
   {
    "duration": 42,
    "start_time": "2024-09-05T10:00:05.226Z"
   },
   {
    "duration": 27,
    "start_time": "2024-09-05T10:00:05.270Z"
   },
   {
    "duration": 18,
    "start_time": "2024-09-05T10:00:05.299Z"
   },
   {
    "duration": 73,
    "start_time": "2024-09-05T10:00:05.319Z"
   },
   {
    "duration": 22,
    "start_time": "2024-09-05T10:00:05.394Z"
   },
   {
    "duration": 41,
    "start_time": "2024-09-05T10:00:05.418Z"
   },
   {
    "duration": 45,
    "start_time": "2024-09-05T10:00:05.460Z"
   },
   {
    "duration": 53,
    "start_time": "2024-09-05T10:00:05.506Z"
   },
   {
    "duration": 21,
    "start_time": "2024-09-05T10:00:05.561Z"
   },
   {
    "duration": 223,
    "start_time": "2024-09-05T10:00:05.585Z"
   },
   {
    "duration": 118,
    "start_time": "2024-09-05T10:00:05.812Z"
   },
   {
    "duration": 4,
    "start_time": "2024-09-05T10:00:05.931Z"
   },
   {
    "duration": 176,
    "start_time": "2024-09-05T10:00:05.945Z"
   },
   {
    "duration": 357,
    "start_time": "2024-09-05T10:00:06.123Z"
   },
   {
    "duration": 414,
    "start_time": "2024-09-05T10:00:06.482Z"
   },
   {
    "duration": 25,
    "start_time": "2024-09-05T10:00:06.898Z"
   },
   {
    "duration": 60,
    "start_time": "2024-09-05T10:00:06.925Z"
   },
   {
    "duration": 43,
    "start_time": "2024-09-05T10:00:06.987Z"
   },
   {
    "duration": 25,
    "start_time": "2024-09-05T10:00:07.032Z"
   },
   {
    "duration": 606,
    "start_time": "2024-09-05T10:00:07.061Z"
   },
   {
    "duration": 354,
    "start_time": "2024-09-05T10:00:07.669Z"
   },
   {
    "duration": 346,
    "start_time": "2024-09-05T10:00:08.024Z"
   },
   {
    "duration": 394,
    "start_time": "2024-09-05T10:00:08.372Z"
   },
   {
    "duration": 38,
    "start_time": "2024-09-05T10:00:08.769Z"
   },
   {
    "duration": 3,
    "start_time": "2024-09-05T10:06:09.269Z"
   },
   {
    "duration": 23,
    "start_time": "2024-09-05T10:07:00.301Z"
   },
   {
    "duration": 3,
    "start_time": "2024-09-05T10:07:16.600Z"
   },
   {
    "duration": 3,
    "start_time": "2024-09-05T10:07:19.029Z"
   },
   {
    "duration": 215,
    "start_time": "2024-09-05T10:07:20.844Z"
   },
   {
    "duration": 2,
    "start_time": "2024-09-05T10:07:33.642Z"
   },
   {
    "duration": 104,
    "start_time": "2024-09-05T10:07:33.647Z"
   },
   {
    "duration": 21,
    "start_time": "2024-09-05T10:07:33.753Z"
   },
   {
    "duration": 29,
    "start_time": "2024-09-05T10:07:33.776Z"
   },
   {
    "duration": 18,
    "start_time": "2024-09-05T10:07:33.807Z"
   },
   {
    "duration": 54,
    "start_time": "2024-09-05T10:07:33.827Z"
   },
   {
    "duration": 23,
    "start_time": "2024-09-05T10:07:33.883Z"
   },
   {
    "duration": 9,
    "start_time": "2024-09-05T10:07:33.907Z"
   },
   {
    "duration": 18,
    "start_time": "2024-09-05T10:07:33.917Z"
   },
   {
    "duration": 43,
    "start_time": "2024-09-05T10:07:33.937Z"
   },
   {
    "duration": 5,
    "start_time": "2024-09-05T10:07:33.982Z"
   },
   {
    "duration": 9,
    "start_time": "2024-09-05T10:07:33.988Z"
   },
   {
    "duration": 162,
    "start_time": "2024-09-05T10:07:33.999Z"
   },
   {
    "duration": 319,
    "start_time": "2024-09-05T10:07:34.164Z"
   },
   {
    "duration": 5,
    "start_time": "2024-09-05T10:07:34.484Z"
   },
   {
    "duration": 231,
    "start_time": "2024-09-05T10:07:34.491Z"
   },
   {
    "duration": 376,
    "start_time": "2024-09-05T10:07:34.724Z"
   },
   {
    "duration": 364,
    "start_time": "2024-09-05T10:07:35.102Z"
   },
   {
    "duration": 23,
    "start_time": "2024-09-05T10:07:35.467Z"
   },
   {
    "duration": 25,
    "start_time": "2024-09-05T10:07:35.492Z"
   },
   {
    "duration": 54,
    "start_time": "2024-09-05T10:07:35.519Z"
   },
   {
    "duration": 20,
    "start_time": "2024-09-05T10:07:35.574Z"
   },
   {
    "duration": 364,
    "start_time": "2024-09-05T10:07:35.595Z"
   },
   {
    "duration": 374,
    "start_time": "2024-09-05T10:07:35.962Z"
   },
   {
    "duration": 582,
    "start_time": "2024-09-05T10:07:36.338Z"
   },
   {
    "duration": 358,
    "start_time": "2024-09-05T10:07:36.922Z"
   },
   {
    "duration": 39,
    "start_time": "2024-09-05T10:07:37.282Z"
   },
   {
    "duration": 3,
    "start_time": "2024-09-05T10:07:37.322Z"
   },
   {
    "duration": 243,
    "start_time": "2024-09-05T10:07:37.326Z"
   },
   {
    "duration": 347,
    "start_time": "2024-09-05T10:17:28.053Z"
   },
   {
    "duration": 383,
    "start_time": "2024-09-05T10:17:39.303Z"
   },
   {
    "duration": 561,
    "start_time": "2024-09-05T10:18:04.513Z"
   },
   {
    "duration": 388,
    "start_time": "2024-09-05T10:18:34.510Z"
   },
   {
    "duration": 351,
    "start_time": "2024-09-05T10:18:54.215Z"
   },
   {
    "duration": 9,
    "start_time": "2024-09-05T10:20:36.639Z"
   },
   {
    "duration": 3,
    "start_time": "2024-09-05T10:20:51.545Z"
   },
   {
    "duration": 81,
    "start_time": "2024-09-05T10:20:51.550Z"
   },
   {
    "duration": 20,
    "start_time": "2024-09-05T10:20:51.633Z"
   },
   {
    "duration": 24,
    "start_time": "2024-09-05T10:20:51.654Z"
   },
   {
    "duration": 14,
    "start_time": "2024-09-05T10:20:51.680Z"
   },
   {
    "duration": 14,
    "start_time": "2024-09-05T10:20:51.695Z"
   },
   {
    "duration": 42,
    "start_time": "2024-09-05T10:20:51.710Z"
   },
   {
    "duration": 15,
    "start_time": "2024-09-05T10:20:51.754Z"
   },
   {
    "duration": 12,
    "start_time": "2024-09-05T10:20:51.772Z"
   },
   {
    "duration": 19,
    "start_time": "2024-09-05T10:20:51.785Z"
   },
   {
    "duration": 4,
    "start_time": "2024-09-05T10:20:51.805Z"
   },
   {
    "duration": 14,
    "start_time": "2024-09-05T10:20:51.811Z"
   },
   {
    "duration": 171,
    "start_time": "2024-09-05T10:20:51.846Z"
   },
   {
    "duration": 114,
    "start_time": "2024-09-05T10:20:52.019Z"
   },
   {
    "duration": 13,
    "start_time": "2024-09-05T10:20:52.135Z"
   },
   {
    "duration": 169,
    "start_time": "2024-09-05T10:20:52.150Z"
   },
   {
    "duration": 341,
    "start_time": "2024-09-05T10:20:52.321Z"
   },
   {
    "duration": 338,
    "start_time": "2024-09-05T10:20:52.663Z"
   },
   {
    "duration": 23,
    "start_time": "2024-09-05T10:20:53.003Z"
   },
   {
    "duration": 38,
    "start_time": "2024-09-05T10:20:53.028Z"
   },
   {
    "duration": 20,
    "start_time": "2024-09-05T10:20:53.068Z"
   },
   {
    "duration": 19,
    "start_time": "2024-09-05T10:20:53.090Z"
   },
   {
    "duration": 592,
    "start_time": "2024-09-05T10:20:53.111Z"
   },
   {
    "duration": 369,
    "start_time": "2024-09-05T10:20:53.706Z"
   },
   {
    "duration": 331,
    "start_time": "2024-09-05T10:20:54.076Z"
   },
   {
    "duration": 344,
    "start_time": "2024-09-05T10:20:54.409Z"
   },
   {
    "duration": 40,
    "start_time": "2024-09-05T10:20:54.755Z"
   },
   {
    "duration": 2,
    "start_time": "2024-09-05T10:20:54.797Z"
   },
   {
    "duration": 425,
    "start_time": "2024-09-05T10:20:54.801Z"
   },
   {
    "duration": 7,
    "start_time": "2024-09-05T10:20:55.228Z"
   },
   {
    "duration": 14,
    "start_time": "2024-09-05T10:20:55.246Z"
   },
   {
    "duration": 3,
    "start_time": "2024-09-05T10:32:20.009Z"
   },
   {
    "duration": 82,
    "start_time": "2024-09-05T10:32:20.014Z"
   },
   {
    "duration": 22,
    "start_time": "2024-09-05T10:32:20.097Z"
   },
   {
    "duration": 29,
    "start_time": "2024-09-05T10:32:20.121Z"
   },
   {
    "duration": 14,
    "start_time": "2024-09-05T10:32:20.153Z"
   },
   {
    "duration": 10,
    "start_time": "2024-09-05T10:32:20.168Z"
   },
   {
    "duration": 20,
    "start_time": "2024-09-05T10:32:20.179Z"
   },
   {
    "duration": 9,
    "start_time": "2024-09-05T10:32:20.201Z"
   },
   {
    "duration": 38,
    "start_time": "2024-09-05T10:32:20.211Z"
   },
   {
    "duration": 23,
    "start_time": "2024-09-05T10:32:20.251Z"
   },
   {
    "duration": 4,
    "start_time": "2024-09-05T10:32:20.276Z"
   },
   {
    "duration": 11,
    "start_time": "2024-09-05T10:32:20.282Z"
   },
   {
    "duration": 183,
    "start_time": "2024-09-05T10:32:20.294Z"
   },
   {
    "duration": 136,
    "start_time": "2024-09-05T10:32:20.480Z"
   },
   {
    "duration": 5,
    "start_time": "2024-09-05T10:32:20.618Z"
   },
   {
    "duration": 199,
    "start_time": "2024-09-05T10:32:20.625Z"
   },
   {
    "duration": 330,
    "start_time": "2024-09-05T10:32:20.826Z"
   },
   {
    "duration": 353,
    "start_time": "2024-09-05T10:32:21.158Z"
   },
   {
    "duration": 23,
    "start_time": "2024-09-05T10:32:21.512Z"
   },
   {
    "duration": 28,
    "start_time": "2024-09-05T10:32:21.546Z"
   },
   {
    "duration": 37,
    "start_time": "2024-09-05T10:32:21.576Z"
   },
   {
    "duration": 36,
    "start_time": "2024-09-05T10:32:21.615Z"
   },
   {
    "duration": 359,
    "start_time": "2024-09-05T10:32:21.653Z"
   },
   {
    "duration": 371,
    "start_time": "2024-09-05T10:32:22.013Z"
   },
   {
    "duration": 574,
    "start_time": "2024-09-05T10:32:22.386Z"
   },
   {
    "duration": 344,
    "start_time": "2024-09-05T10:32:22.962Z"
   },
   {
    "duration": 48,
    "start_time": "2024-09-05T10:32:23.308Z"
   },
   {
    "duration": 3,
    "start_time": "2024-09-05T10:32:23.358Z"
   },
   {
    "duration": 223,
    "start_time": "2024-09-05T10:32:23.362Z"
   },
   {
    "duration": 7,
    "start_time": "2024-09-05T10:32:23.587Z"
   },
   {
    "duration": 25,
    "start_time": "2024-09-05T10:32:23.595Z"
   },
   {
    "duration": 6,
    "start_time": "2024-09-05T10:35:22.036Z"
   },
   {
    "duration": 7,
    "start_time": "2024-09-05T10:37:51.282Z"
   },
   {
    "duration": 6,
    "start_time": "2024-09-05T10:37:55.195Z"
   },
   {
    "duration": 10,
    "start_time": "2024-09-05T11:01:41.915Z"
   },
   {
    "duration": 13,
    "start_time": "2024-09-05T11:05:00.142Z"
   },
   {
    "duration": 14,
    "start_time": "2024-09-05T11:11:15.134Z"
   },
   {
    "duration": 3,
    "start_time": "2024-09-05T11:11:28.412Z"
   },
   {
    "duration": 126,
    "start_time": "2024-09-05T11:11:28.417Z"
   },
   {
    "duration": 27,
    "start_time": "2024-09-05T11:11:28.546Z"
   },
   {
    "duration": 42,
    "start_time": "2024-09-05T11:11:28.575Z"
   },
   {
    "duration": 32,
    "start_time": "2024-09-05T11:11:28.620Z"
   },
   {
    "duration": 16,
    "start_time": "2024-09-05T11:11:28.653Z"
   },
   {
    "duration": 31,
    "start_time": "2024-09-05T11:11:28.671Z"
   },
   {
    "duration": 11,
    "start_time": "2024-09-05T11:11:28.704Z"
   },
   {
    "duration": 6,
    "start_time": "2024-09-05T11:11:28.717Z"
   },
   {
    "duration": 35,
    "start_time": "2024-09-05T11:11:28.725Z"
   },
   {
    "duration": 5,
    "start_time": "2024-09-05T11:11:28.765Z"
   },
   {
    "duration": 62,
    "start_time": "2024-09-05T11:11:28.772Z"
   },
   {
    "duration": 159,
    "start_time": "2024-09-05T11:11:28.836Z"
   },
   {
    "duration": 114,
    "start_time": "2024-09-05T11:11:28.997Z"
   },
   {
    "duration": 5,
    "start_time": "2024-09-05T11:11:29.112Z"
   },
   {
    "duration": 194,
    "start_time": "2024-09-05T11:11:29.118Z"
   },
   {
    "duration": 349,
    "start_time": "2024-09-05T11:11:29.313Z"
   },
   {
    "duration": 352,
    "start_time": "2024-09-05T11:11:29.663Z"
   },
   {
    "duration": 33,
    "start_time": "2024-09-05T11:11:30.016Z"
   },
   {
    "duration": 63,
    "start_time": "2024-09-05T11:11:30.051Z"
   },
   {
    "duration": 25,
    "start_time": "2024-09-05T11:11:30.116Z"
   },
   {
    "duration": 35,
    "start_time": "2024-09-05T11:11:30.143Z"
   },
   {
    "duration": 660,
    "start_time": "2024-09-05T11:11:30.180Z"
   },
   {
    "duration": 378,
    "start_time": "2024-09-05T11:11:30.842Z"
   },
   {
    "duration": 367,
    "start_time": "2024-09-05T11:11:31.222Z"
   },
   {
    "duration": 397,
    "start_time": "2024-09-05T11:11:31.591Z"
   },
   {
    "duration": 42,
    "start_time": "2024-09-05T11:11:31.989Z"
   },
   {
    "duration": 9,
    "start_time": "2024-09-05T11:11:32.052Z"
   },
   {
    "duration": 249,
    "start_time": "2024-09-05T11:11:32.064Z"
   },
   {
    "duration": 9,
    "start_time": "2024-09-05T11:11:32.316Z"
   },
   {
    "duration": 27,
    "start_time": "2024-09-05T11:11:32.328Z"
   },
   {
    "duration": 6,
    "start_time": "2024-09-05T11:11:32.358Z"
   },
   {
    "duration": 39,
    "start_time": "2024-09-05T11:11:32.366Z"
   },
   {
    "duration": 46,
    "start_time": "2024-09-05T11:11:32.407Z"
   },
   {
    "duration": 11,
    "start_time": "2024-09-05T11:11:32.455Z"
   },
   {
    "duration": 11,
    "start_time": "2024-09-05T11:11:57.758Z"
   },
   {
    "duration": 10,
    "start_time": "2024-09-05T11:12:56.901Z"
   },
   {
    "duration": 9,
    "start_time": "2024-09-05T11:12:59.763Z"
   },
   {
    "duration": 5,
    "start_time": "2024-09-05T11:19:39.797Z"
   },
   {
    "duration": 9,
    "start_time": "2024-09-05T11:20:53.017Z"
   },
   {
    "duration": 10,
    "start_time": "2024-09-05T11:20:56.088Z"
   },
   {
    "duration": 3,
    "start_time": "2024-09-05T11:21:00.215Z"
   },
   {
    "duration": 103,
    "start_time": "2024-09-05T11:21:00.220Z"
   },
   {
    "duration": 20,
    "start_time": "2024-09-05T11:21:00.324Z"
   },
   {
    "duration": 57,
    "start_time": "2024-09-05T11:21:00.347Z"
   },
   {
    "duration": 57,
    "start_time": "2024-09-05T11:21:00.405Z"
   },
   {
    "duration": 19,
    "start_time": "2024-09-05T11:21:00.463Z"
   },
   {
    "duration": 35,
    "start_time": "2024-09-05T11:21:00.483Z"
   },
   {
    "duration": 9,
    "start_time": "2024-09-05T11:21:00.520Z"
   },
   {
    "duration": 59,
    "start_time": "2024-09-05T11:21:00.531Z"
   },
   {
    "duration": 79,
    "start_time": "2024-09-05T11:21:00.592Z"
   },
   {
    "duration": 38,
    "start_time": "2024-09-05T11:21:00.673Z"
   },
   {
    "duration": 54,
    "start_time": "2024-09-05T11:21:00.713Z"
   },
   {
    "duration": 174,
    "start_time": "2024-09-05T11:21:00.769Z"
   },
   {
    "duration": 325,
    "start_time": "2024-09-05T11:21:00.944Z"
   },
   {
    "duration": 5,
    "start_time": "2024-09-05T11:21:01.272Z"
   },
   {
    "duration": 191,
    "start_time": "2024-09-05T11:21:01.279Z"
   },
   {
    "duration": 405,
    "start_time": "2024-09-05T11:21:01.473Z"
   },
   {
    "duration": 405,
    "start_time": "2024-09-05T11:21:01.880Z"
   },
   {
    "duration": 23,
    "start_time": "2024-09-05T11:21:02.287Z"
   },
   {
    "duration": 67,
    "start_time": "2024-09-05T11:21:02.311Z"
   },
   {
    "duration": 23,
    "start_time": "2024-09-05T11:21:02.379Z"
   },
   {
    "duration": 20,
    "start_time": "2024-09-05T11:21:02.404Z"
   },
   {
    "duration": 448,
    "start_time": "2024-09-05T11:21:02.426Z"
   },
   {
    "duration": 369,
    "start_time": "2024-09-05T11:21:02.877Z"
   },
   {
    "duration": 629,
    "start_time": "2024-09-05T11:21:03.250Z"
   },
   {
    "duration": 352,
    "start_time": "2024-09-05T11:21:03.881Z"
   },
   {
    "duration": 49,
    "start_time": "2024-09-05T11:21:04.235Z"
   },
   {
    "duration": 3,
    "start_time": "2024-09-05T11:21:04.286Z"
   },
   {
    "duration": 240,
    "start_time": "2024-09-05T11:21:04.291Z"
   },
   {
    "duration": 25,
    "start_time": "2024-09-05T11:21:04.532Z"
   },
   {
    "duration": 6,
    "start_time": "2024-09-05T11:21:04.564Z"
   },
   {
    "duration": 14,
    "start_time": "2024-09-05T11:21:04.572Z"
   },
   {
    "duration": 14,
    "start_time": "2024-09-05T11:21:04.588Z"
   },
   {
    "duration": 30,
    "start_time": "2024-09-05T11:21:04.604Z"
   },
   {
    "duration": 33,
    "start_time": "2024-09-05T11:21:04.636Z"
   },
   {
    "duration": 26,
    "start_time": "2024-09-05T11:21:04.671Z"
   },
   {
    "duration": 20,
    "start_time": "2024-09-05T11:21:04.699Z"
   },
   {
    "duration": 770,
    "start_time": "2024-09-05T11:21:30.649Z"
   },
   {
    "duration": 11,
    "start_time": "2024-09-05T11:22:45.260Z"
   },
   {
    "duration": 3,
    "start_time": "2024-09-05T11:23:40.765Z"
   },
   {
    "duration": 86,
    "start_time": "2024-09-05T11:23:40.770Z"
   },
   {
    "duration": 21,
    "start_time": "2024-09-05T11:23:40.858Z"
   },
   {
    "duration": 20,
    "start_time": "2024-09-05T11:23:40.881Z"
   },
   {
    "duration": 14,
    "start_time": "2024-09-05T11:23:40.903Z"
   },
   {
    "duration": 9,
    "start_time": "2024-09-05T11:23:40.918Z"
   },
   {
    "duration": 24,
    "start_time": "2024-09-05T11:23:40.947Z"
   },
   {
    "duration": 9,
    "start_time": "2024-09-05T11:23:40.973Z"
   },
   {
    "duration": 6,
    "start_time": "2024-09-05T11:23:40.983Z"
   },
   {
    "duration": 15,
    "start_time": "2024-09-05T11:23:40.992Z"
   },
   {
    "duration": 37,
    "start_time": "2024-09-05T11:23:41.009Z"
   },
   {
    "duration": 18,
    "start_time": "2024-09-05T11:23:41.048Z"
   },
   {
    "duration": 170,
    "start_time": "2024-09-05T11:23:41.068Z"
   },
   {
    "duration": 123,
    "start_time": "2024-09-05T11:23:41.239Z"
   },
   {
    "duration": 5,
    "start_time": "2024-09-05T11:23:41.364Z"
   },
   {
    "duration": 222,
    "start_time": "2024-09-05T11:23:41.371Z"
   },
   {
    "duration": 379,
    "start_time": "2024-09-05T11:23:41.595Z"
   },
   {
    "duration": 375,
    "start_time": "2024-09-05T11:23:41.976Z"
   },
   {
    "duration": 33,
    "start_time": "2024-09-05T11:23:42.354Z"
   },
   {
    "duration": 32,
    "start_time": "2024-09-05T11:23:42.393Z"
   },
   {
    "duration": 35,
    "start_time": "2024-09-05T11:23:42.427Z"
   },
   {
    "duration": 18,
    "start_time": "2024-09-05T11:23:42.464Z"
   },
   {
    "duration": 395,
    "start_time": "2024-09-05T11:23:42.484Z"
   },
   {
    "duration": 590,
    "start_time": "2024-09-05T11:23:42.881Z"
   },
   {
    "duration": 342,
    "start_time": "2024-09-05T11:23:43.473Z"
   },
   {
    "duration": 375,
    "start_time": "2024-09-05T11:23:43.816Z"
   },
   {
    "duration": 41,
    "start_time": "2024-09-05T11:23:44.193Z"
   },
   {
    "duration": 5,
    "start_time": "2024-09-05T11:23:44.248Z"
   },
   {
    "duration": 227,
    "start_time": "2024-09-05T11:23:44.254Z"
   },
   {
    "duration": 8,
    "start_time": "2024-09-05T11:23:44.483Z"
   },
   {
    "duration": 8,
    "start_time": "2024-09-05T11:23:44.492Z"
   },
   {
    "duration": 14,
    "start_time": "2024-09-05T11:23:44.502Z"
   },
   {
    "duration": 9,
    "start_time": "2024-09-05T11:23:44.517Z"
   },
   {
    "duration": 32,
    "start_time": "2024-09-05T11:23:44.527Z"
   },
   {
    "duration": 14,
    "start_time": "2024-09-05T11:23:44.561Z"
   },
   {
    "duration": 9,
    "start_time": "2024-09-05T11:23:44.577Z"
   },
   {
    "duration": 22,
    "start_time": "2024-09-05T11:23:44.588Z"
   },
   {
    "duration": 4,
    "start_time": "2024-09-05T11:27:18.273Z"
   },
   {
    "duration": 10,
    "start_time": "2024-09-05T11:27:25.407Z"
   },
   {
    "duration": 21,
    "start_time": "2024-09-05T11:28:41.571Z"
   },
   {
    "duration": 12,
    "start_time": "2024-09-05T11:29:20.658Z"
   },
   {
    "duration": 8,
    "start_time": "2024-09-05T11:30:26.569Z"
   },
   {
    "duration": 2,
    "start_time": "2024-09-05T11:30:31.031Z"
   },
   {
    "duration": 7,
    "start_time": "2024-09-05T11:31:33.852Z"
   },
   {
    "duration": 3,
    "start_time": "2024-09-05T11:31:37.235Z"
   },
   {
    "duration": 75,
    "start_time": "2024-09-05T11:31:37.240Z"
   },
   {
    "duration": 38,
    "start_time": "2024-09-05T11:31:37.319Z"
   },
   {
    "duration": 21,
    "start_time": "2024-09-05T11:31:37.361Z"
   },
   {
    "duration": 14,
    "start_time": "2024-09-05T11:31:37.384Z"
   },
   {
    "duration": 22,
    "start_time": "2024-09-05T11:31:37.400Z"
   },
   {
    "duration": 41,
    "start_time": "2024-09-05T11:31:37.424Z"
   },
   {
    "duration": 10,
    "start_time": "2024-09-05T11:31:37.466Z"
   },
   {
    "duration": 19,
    "start_time": "2024-09-05T11:31:37.477Z"
   },
   {
    "duration": 17,
    "start_time": "2024-09-05T11:31:37.499Z"
   },
   {
    "duration": 4,
    "start_time": "2024-09-05T11:31:37.518Z"
   },
   {
    "duration": 33,
    "start_time": "2024-09-05T11:31:37.523Z"
   },
   {
    "duration": 167,
    "start_time": "2024-09-05T11:31:37.557Z"
   },
   {
    "duration": 135,
    "start_time": "2024-09-05T11:31:37.726Z"
   },
   {
    "duration": 4,
    "start_time": "2024-09-05T11:31:37.863Z"
   },
   {
    "duration": 190,
    "start_time": "2024-09-05T11:31:37.869Z"
   },
   {
    "duration": 337,
    "start_time": "2024-09-05T11:31:38.062Z"
   },
   {
    "duration": 660,
    "start_time": "2024-09-05T11:31:38.401Z"
   },
   {
    "duration": 24,
    "start_time": "2024-09-05T11:31:39.064Z"
   },
   {
    "duration": 29,
    "start_time": "2024-09-05T11:31:39.090Z"
   },
   {
    "duration": 44,
    "start_time": "2024-09-05T11:31:39.121Z"
   },
   {
    "duration": 19,
    "start_time": "2024-09-05T11:31:39.167Z"
   },
   {
    "duration": 412,
    "start_time": "2024-09-05T11:31:39.187Z"
   },
   {
    "duration": 360,
    "start_time": "2024-09-05T11:31:39.601Z"
   },
   {
    "duration": 330,
    "start_time": "2024-09-05T11:31:39.962Z"
   },
   {
    "duration": 412,
    "start_time": "2024-09-05T11:31:40.294Z"
   },
   {
    "duration": 58,
    "start_time": "2024-09-05T11:31:40.707Z"
   },
   {
    "duration": 4,
    "start_time": "2024-09-05T11:31:40.768Z"
   },
   {
    "duration": 296,
    "start_time": "2024-09-05T11:31:40.773Z"
   },
   {
    "duration": 8,
    "start_time": "2024-09-05T11:31:41.071Z"
   },
   {
    "duration": 7,
    "start_time": "2024-09-05T11:31:41.081Z"
   },
   {
    "duration": 7,
    "start_time": "2024-09-05T11:31:41.090Z"
   },
   {
    "duration": 10,
    "start_time": "2024-09-05T11:31:41.098Z"
   },
   {
    "duration": 46,
    "start_time": "2024-09-05T11:31:41.110Z"
   },
   {
    "duration": 13,
    "start_time": "2024-09-05T11:31:41.158Z"
   },
   {
    "duration": 8,
    "start_time": "2024-09-05T11:31:41.173Z"
   },
   {
    "duration": 11,
    "start_time": "2024-09-05T11:31:41.183Z"
   },
   {
    "duration": 5,
    "start_time": "2024-09-05T11:32:40.464Z"
   },
   {
    "duration": 9,
    "start_time": "2024-09-05T11:34:30.921Z"
   },
   {
    "duration": 3,
    "start_time": "2024-09-05T11:34:33.906Z"
   },
   {
    "duration": 89,
    "start_time": "2024-09-05T11:34:33.910Z"
   },
   {
    "duration": 20,
    "start_time": "2024-09-05T11:34:34.000Z"
   },
   {
    "duration": 35,
    "start_time": "2024-09-05T11:34:34.022Z"
   },
   {
    "duration": 14,
    "start_time": "2024-09-05T11:34:34.059Z"
   },
   {
    "duration": 25,
    "start_time": "2024-09-05T11:34:34.074Z"
   },
   {
    "duration": 29,
    "start_time": "2024-09-05T11:34:34.100Z"
   },
   {
    "duration": 9,
    "start_time": "2024-09-05T11:34:34.130Z"
   },
   {
    "duration": 53,
    "start_time": "2024-09-05T11:34:34.140Z"
   },
   {
    "duration": 47,
    "start_time": "2024-09-05T11:34:34.195Z"
   },
   {
    "duration": 28,
    "start_time": "2024-09-05T11:34:34.244Z"
   },
   {
    "duration": 35,
    "start_time": "2024-09-05T11:34:34.274Z"
   },
   {
    "duration": 190,
    "start_time": "2024-09-05T11:34:34.311Z"
   },
   {
    "duration": 119,
    "start_time": "2024-09-05T11:34:34.504Z"
   },
   {
    "duration": 4,
    "start_time": "2024-09-05T11:34:34.625Z"
   },
   {
    "duration": 293,
    "start_time": "2024-09-05T11:34:34.631Z"
   },
   {
    "duration": 597,
    "start_time": "2024-09-05T11:34:34.926Z"
   },
   {
    "duration": 376,
    "start_time": "2024-09-05T11:34:35.525Z"
   },
   {
    "duration": 23,
    "start_time": "2024-09-05T11:34:35.903Z"
   },
   {
    "duration": 41,
    "start_time": "2024-09-05T11:34:35.928Z"
   },
   {
    "duration": 20,
    "start_time": "2024-09-05T11:34:35.970Z"
   },
   {
    "duration": 19,
    "start_time": "2024-09-05T11:34:35.992Z"
   },
   {
    "duration": 389,
    "start_time": "2024-09-05T11:34:36.013Z"
   },
   {
    "duration": 395,
    "start_time": "2024-09-05T11:34:36.404Z"
   },
   {
    "duration": 354,
    "start_time": "2024-09-05T11:34:36.800Z"
   },
   {
    "duration": 401,
    "start_time": "2024-09-05T11:34:37.156Z"
   },
   {
    "duration": 38,
    "start_time": "2024-09-05T11:34:37.559Z"
   },
   {
    "duration": 3,
    "start_time": "2024-09-05T11:34:37.598Z"
   },
   {
    "duration": 472,
    "start_time": "2024-09-05T11:34:37.602Z"
   },
   {
    "duration": 7,
    "start_time": "2024-09-05T11:34:38.075Z"
   },
   {
    "duration": 37,
    "start_time": "2024-09-05T11:34:38.084Z"
   },
   {
    "duration": 79,
    "start_time": "2024-09-05T11:34:38.122Z"
   },
   {
    "duration": 30,
    "start_time": "2024-09-05T11:34:38.203Z"
   },
   {
    "duration": 12,
    "start_time": "2024-09-05T11:34:38.235Z"
   },
   {
    "duration": 17,
    "start_time": "2024-09-05T11:34:38.252Z"
   },
   {
    "duration": 9,
    "start_time": "2024-09-05T11:34:41.936Z"
   },
   {
    "duration": 8,
    "start_time": "2024-09-05T11:34:58.288Z"
   },
   {
    "duration": 3,
    "start_time": "2024-09-05T11:35:00.741Z"
   },
   {
    "duration": 124,
    "start_time": "2024-09-05T11:35:00.746Z"
   },
   {
    "duration": 20,
    "start_time": "2024-09-05T11:35:00.872Z"
   },
   {
    "duration": 67,
    "start_time": "2024-09-05T11:35:00.894Z"
   },
   {
    "duration": 44,
    "start_time": "2024-09-05T11:35:00.963Z"
   },
   {
    "duration": 29,
    "start_time": "2024-09-05T11:35:01.009Z"
   },
   {
    "duration": 59,
    "start_time": "2024-09-05T11:35:01.040Z"
   },
   {
    "duration": 12,
    "start_time": "2024-09-05T11:35:01.101Z"
   },
   {
    "duration": 6,
    "start_time": "2024-09-05T11:35:01.115Z"
   },
   {
    "duration": 62,
    "start_time": "2024-09-05T11:35:01.123Z"
   },
   {
    "duration": 5,
    "start_time": "2024-09-05T11:35:01.187Z"
   },
   {
    "duration": 14,
    "start_time": "2024-09-05T11:35:01.194Z"
   },
   {
    "duration": 173,
    "start_time": "2024-09-05T11:35:01.212Z"
   },
   {
    "duration": 120,
    "start_time": "2024-09-05T11:35:01.387Z"
   },
   {
    "duration": 5,
    "start_time": "2024-09-05T11:35:01.510Z"
   },
   {
    "duration": 202,
    "start_time": "2024-09-05T11:35:01.516Z"
   },
   {
    "duration": 353,
    "start_time": "2024-09-05T11:35:01.720Z"
   },
   {
    "duration": 353,
    "start_time": "2024-09-05T11:35:02.075Z"
   },
   {
    "duration": 41,
    "start_time": "2024-09-05T11:35:02.430Z"
   },
   {
    "duration": 34,
    "start_time": "2024-09-05T11:35:02.472Z"
   },
   {
    "duration": 21,
    "start_time": "2024-09-05T11:35:02.508Z"
   },
   {
    "duration": 65,
    "start_time": "2024-09-05T11:35:02.531Z"
   },
   {
    "duration": 471,
    "start_time": "2024-09-05T11:35:02.598Z"
   },
   {
    "duration": 354,
    "start_time": "2024-09-05T11:35:03.071Z"
   },
   {
    "duration": 560,
    "start_time": "2024-09-05T11:35:03.427Z"
   },
   {
    "duration": 351,
    "start_time": "2024-09-05T11:35:03.988Z"
   },
   {
    "duration": 44,
    "start_time": "2024-09-05T11:35:04.340Z"
   },
   {
    "duration": 3,
    "start_time": "2024-09-05T11:35:04.386Z"
   },
   {
    "duration": 239,
    "start_time": "2024-09-05T11:35:04.391Z"
   },
   {
    "duration": 26,
    "start_time": "2024-09-05T11:35:04.632Z"
   },
   {
    "duration": 8,
    "start_time": "2024-09-05T11:35:04.659Z"
   },
   {
    "duration": 17,
    "start_time": "2024-09-05T11:35:04.669Z"
   },
   {
    "duration": 27,
    "start_time": "2024-09-05T11:35:04.688Z"
   },
   {
    "duration": 21,
    "start_time": "2024-09-05T11:35:04.716Z"
   },
   {
    "duration": 36,
    "start_time": "2024-09-05T11:35:04.739Z"
   },
   {
    "duration": 8,
    "start_time": "2024-09-05T11:38:36.184Z"
   },
   {
    "duration": 3,
    "start_time": "2024-09-05T11:38:54.056Z"
   },
   {
    "duration": 83,
    "start_time": "2024-09-05T11:38:54.061Z"
   },
   {
    "duration": 22,
    "start_time": "2024-09-05T11:38:54.156Z"
   },
   {
    "duration": 36,
    "start_time": "2024-09-05T11:38:54.179Z"
   },
   {
    "duration": 15,
    "start_time": "2024-09-05T11:38:54.217Z"
   },
   {
    "duration": 23,
    "start_time": "2024-09-05T11:38:54.233Z"
   },
   {
    "duration": 36,
    "start_time": "2024-09-05T11:38:54.258Z"
   },
   {
    "duration": 19,
    "start_time": "2024-09-05T11:38:54.295Z"
   },
   {
    "duration": 10,
    "start_time": "2024-09-05T11:38:54.316Z"
   },
   {
    "duration": 33,
    "start_time": "2024-09-05T11:38:54.328Z"
   },
   {
    "duration": 5,
    "start_time": "2024-09-05T11:38:54.362Z"
   },
   {
    "duration": 15,
    "start_time": "2024-09-05T11:38:54.368Z"
   },
   {
    "duration": 183,
    "start_time": "2024-09-05T11:38:54.384Z"
   },
   {
    "duration": 122,
    "start_time": "2024-09-05T11:38:54.571Z"
   },
   {
    "duration": 5,
    "start_time": "2024-09-05T11:38:54.695Z"
   },
   {
    "duration": 227,
    "start_time": "2024-09-05T11:38:54.702Z"
   },
   {
    "duration": 358,
    "start_time": "2024-09-05T11:38:54.931Z"
   },
   {
    "duration": 381,
    "start_time": "2024-09-05T11:38:55.290Z"
   },
   {
    "duration": 25,
    "start_time": "2024-09-05T11:38:55.673Z"
   },
   {
    "duration": 57,
    "start_time": "2024-09-05T11:38:55.700Z"
   },
   {
    "duration": 22,
    "start_time": "2024-09-05T11:38:55.759Z"
   },
   {
    "duration": 19,
    "start_time": "2024-09-05T11:38:55.783Z"
   },
   {
    "duration": 382,
    "start_time": "2024-09-05T11:38:55.804Z"
   },
   {
    "duration": 621,
    "start_time": "2024-09-05T11:38:56.187Z"
   },
   {
    "duration": 369,
    "start_time": "2024-09-05T11:38:56.810Z"
   },
   {
    "duration": 413,
    "start_time": "2024-09-05T11:38:57.182Z"
   },
   {
    "duration": 62,
    "start_time": "2024-09-05T11:38:57.596Z"
   },
   {
    "duration": 2,
    "start_time": "2024-09-05T11:38:57.660Z"
   },
   {
    "duration": 232,
    "start_time": "2024-09-05T11:38:57.664Z"
   },
   {
    "duration": 7,
    "start_time": "2024-09-05T11:38:57.898Z"
   },
   {
    "duration": 12,
    "start_time": "2024-09-05T11:38:57.906Z"
   },
   {
    "duration": 14,
    "start_time": "2024-09-05T11:38:57.920Z"
   },
   {
    "duration": 17,
    "start_time": "2024-09-05T11:38:57.936Z"
   },
   {
    "duration": 13,
    "start_time": "2024-09-05T11:38:57.960Z"
   },
   {
    "duration": 22,
    "start_time": "2024-09-05T11:38:57.975Z"
   },
   {
    "duration": 15,
    "start_time": "2024-09-05T11:38:57.999Z"
   },
   {
    "duration": 5,
    "start_time": "2024-09-05T11:47:35.946Z"
   },
   {
    "duration": 12,
    "start_time": "2024-09-05T12:45:13.341Z"
   },
   {
    "duration": 5,
    "start_time": "2024-09-05T12:46:11.186Z"
   },
   {
    "duration": 13,
    "start_time": "2024-09-05T12:48:45.968Z"
   },
   {
    "duration": 5,
    "start_time": "2024-09-05T12:48:57.965Z"
   },
   {
    "duration": 6,
    "start_time": "2024-09-05T12:49:13.256Z"
   },
   {
    "duration": 6,
    "start_time": "2024-09-05T12:49:20.556Z"
   },
   {
    "duration": 4,
    "start_time": "2024-09-05T12:49:53.153Z"
   },
   {
    "duration": 138,
    "start_time": "2024-09-05T12:49:53.159Z"
   },
   {
    "duration": 22,
    "start_time": "2024-09-05T12:49:53.299Z"
   },
   {
    "duration": 25,
    "start_time": "2024-09-05T12:49:53.323Z"
   },
   {
    "duration": 18,
    "start_time": "2024-09-05T12:49:53.360Z"
   },
   {
    "duration": 12,
    "start_time": "2024-09-05T12:49:53.379Z"
   },
   {
    "duration": 65,
    "start_time": "2024-09-05T12:49:53.392Z"
   },
   {
    "duration": 12,
    "start_time": "2024-09-05T12:49:53.459Z"
   },
   {
    "duration": 13,
    "start_time": "2024-09-05T12:49:53.473Z"
   },
   {
    "duration": 24,
    "start_time": "2024-09-05T12:49:53.488Z"
   },
   {
    "duration": 5,
    "start_time": "2024-09-05T12:49:53.515Z"
   },
   {
    "duration": 31,
    "start_time": "2024-09-05T12:49:53.521Z"
   },
   {
    "duration": 171,
    "start_time": "2024-09-05T12:49:53.556Z"
   },
   {
    "duration": 134,
    "start_time": "2024-09-05T12:49:53.729Z"
   },
   {
    "duration": 5,
    "start_time": "2024-09-05T12:49:53.865Z"
   },
   {
    "duration": 194,
    "start_time": "2024-09-05T12:49:53.872Z"
   },
   {
    "duration": 373,
    "start_time": "2024-09-05T12:49:54.068Z"
   },
   {
    "duration": 411,
    "start_time": "2024-09-05T12:49:54.452Z"
   },
   {
    "duration": 26,
    "start_time": "2024-09-05T12:49:54.865Z"
   },
   {
    "duration": 31,
    "start_time": "2024-09-05T12:49:54.893Z"
   },
   {
    "duration": 40,
    "start_time": "2024-09-05T12:49:54.925Z"
   },
   {
    "duration": 20,
    "start_time": "2024-09-05T12:49:54.966Z"
   },
   {
    "duration": 694,
    "start_time": "2024-09-05T12:49:54.988Z"
   },
   {
    "duration": 358,
    "start_time": "2024-09-05T12:49:55.684Z"
   },
   {
    "duration": 356,
    "start_time": "2024-09-05T12:49:56.044Z"
   },
   {
    "duration": 368,
    "start_time": "2024-09-05T12:49:56.401Z"
   },
   {
    "duration": 40,
    "start_time": "2024-09-05T12:49:56.771Z"
   },
   {
    "duration": 3,
    "start_time": "2024-09-05T12:49:56.813Z"
   },
   {
    "duration": 267,
    "start_time": "2024-09-05T12:49:56.817Z"
   },
   {
    "duration": 6,
    "start_time": "2024-09-05T12:49:57.085Z"
   },
   {
    "duration": 9,
    "start_time": "2024-09-05T12:49:57.093Z"
   },
   {
    "duration": 5,
    "start_time": "2024-09-05T12:49:57.103Z"
   },
   {
    "duration": 7,
    "start_time": "2024-09-05T12:49:57.110Z"
   },
   {
    "duration": 37,
    "start_time": "2024-09-05T12:49:57.118Z"
   },
   {
    "duration": 8,
    "start_time": "2024-09-05T12:49:57.161Z"
   },
   {
    "duration": 10,
    "start_time": "2024-09-05T12:49:57.171Z"
   },
   {
    "duration": 2,
    "start_time": "2024-09-05T12:49:57.185Z"
   },
   {
    "duration": 13,
    "start_time": "2024-09-05T12:49:57.189Z"
   },
   {
    "duration": 7,
    "start_time": "2024-09-05T12:49:57.203Z"
   },
   {
    "duration": 5,
    "start_time": "2024-09-05T12:57:10.382Z"
   },
   {
    "duration": 5,
    "start_time": "2024-09-05T12:57:12.027Z"
   },
   {
    "duration": 5,
    "start_time": "2024-09-05T13:00:31.837Z"
   },
   {
    "duration": 19,
    "start_time": "2024-09-05T13:04:14.462Z"
   },
   {
    "duration": 161,
    "start_time": "2024-09-05T13:04:32.633Z"
   },
   {
    "duration": 4,
    "start_time": "2024-09-05T13:04:53.832Z"
   },
   {
    "duration": 97,
    "start_time": "2024-09-05T13:04:53.839Z"
   },
   {
    "duration": 24,
    "start_time": "2024-09-05T13:04:53.938Z"
   },
   {
    "duration": 30,
    "start_time": "2024-09-05T13:04:53.965Z"
   },
   {
    "duration": 14,
    "start_time": "2024-09-05T13:04:53.997Z"
   },
   {
    "duration": 15,
    "start_time": "2024-09-05T13:04:54.013Z"
   },
   {
    "duration": 48,
    "start_time": "2024-09-05T13:04:54.030Z"
   },
   {
    "duration": 23,
    "start_time": "2024-09-05T13:04:54.080Z"
   },
   {
    "duration": 6,
    "start_time": "2024-09-05T13:04:54.104Z"
   },
   {
    "duration": 49,
    "start_time": "2024-09-05T13:04:54.113Z"
   },
   {
    "duration": 15,
    "start_time": "2024-09-05T13:04:54.164Z"
   },
   {
    "duration": 25,
    "start_time": "2024-09-05T13:04:54.181Z"
   },
   {
    "duration": 179,
    "start_time": "2024-09-05T13:04:54.207Z"
   },
   {
    "duration": 129,
    "start_time": "2024-09-05T13:04:54.388Z"
   },
   {
    "duration": 5,
    "start_time": "2024-09-05T13:04:54.519Z"
   },
   {
    "duration": 253,
    "start_time": "2024-09-05T13:04:54.525Z"
   },
   {
    "duration": 383,
    "start_time": "2024-09-05T13:04:54.780Z"
   },
   {
    "duration": 620,
    "start_time": "2024-09-05T13:04:55.165Z"
   },
   {
    "duration": 24,
    "start_time": "2024-09-05T13:04:55.786Z"
   },
   {
    "duration": 46,
    "start_time": "2024-09-05T13:04:55.812Z"
   },
   {
    "duration": 21,
    "start_time": "2024-09-05T13:04:55.860Z"
   },
   {
    "duration": 20,
    "start_time": "2024-09-05T13:04:55.883Z"
   },
   {
    "duration": 395,
    "start_time": "2024-09-05T13:04:55.905Z"
   },
   {
    "duration": 383,
    "start_time": "2024-09-05T13:04:56.302Z"
   },
   {
    "duration": 387,
    "start_time": "2024-09-05T13:04:56.687Z"
   },
   {
    "duration": 357,
    "start_time": "2024-09-05T13:04:57.076Z"
   },
   {
    "duration": 49,
    "start_time": "2024-09-05T13:04:57.435Z"
   },
   {
    "duration": 3,
    "start_time": "2024-09-05T13:04:57.488Z"
   },
   {
    "duration": 247,
    "start_time": "2024-09-05T13:04:57.493Z"
   },
   {
    "duration": 14,
    "start_time": "2024-09-05T13:04:57.751Z"
   },
   {
    "duration": 10,
    "start_time": "2024-09-05T13:04:57.767Z"
   },
   {
    "duration": 21,
    "start_time": "2024-09-05T13:04:57.779Z"
   },
   {
    "duration": 15,
    "start_time": "2024-09-05T13:04:57.802Z"
   },
   {
    "duration": 41,
    "start_time": "2024-09-05T13:04:57.818Z"
   },
   {
    "duration": 9,
    "start_time": "2024-09-05T13:04:57.861Z"
   },
   {
    "duration": 10,
    "start_time": "2024-09-05T13:04:57.871Z"
   },
   {
    "duration": 4,
    "start_time": "2024-09-05T13:04:57.882Z"
   },
   {
    "duration": 7,
    "start_time": "2024-09-05T13:04:57.887Z"
   },
   {
    "duration": 10,
    "start_time": "2024-09-05T13:04:57.896Z"
   },
   {
    "duration": 9,
    "start_time": "2024-09-05T13:04:57.907Z"
   },
   {
    "duration": 38728,
    "start_time": "2024-09-05T13:04:57.918Z"
   },
   {
    "duration": 37647,
    "start_time": "2024-09-05T13:06:47.161Z"
   },
   {
    "duration": 38272,
    "start_time": "2024-09-05T13:07:39.398Z"
   },
   {
    "duration": 38243,
    "start_time": "2024-09-05T13:09:00.701Z"
   },
   {
    "duration": 134,
    "start_time": "2024-09-05T13:10:42.137Z"
   },
   {
    "duration": 184,
    "start_time": "2024-09-05T13:11:16.661Z"
   },
   {
    "duration": 3263,
    "start_time": "2024-09-05T13:12:02.624Z"
   },
   {
    "duration": 3,
    "start_time": "2024-09-05T13:12:17.633Z"
   },
   {
    "duration": 94,
    "start_time": "2024-09-05T13:12:17.638Z"
   },
   {
    "duration": 23,
    "start_time": "2024-09-05T13:12:17.734Z"
   },
   {
    "duration": 27,
    "start_time": "2024-09-05T13:12:17.758Z"
   },
   {
    "duration": 15,
    "start_time": "2024-09-05T13:12:17.787Z"
   },
   {
    "duration": 28,
    "start_time": "2024-09-05T13:12:17.803Z"
   },
   {
    "duration": 84,
    "start_time": "2024-09-05T13:12:17.833Z"
   },
   {
    "duration": 9,
    "start_time": "2024-09-05T13:12:17.919Z"
   },
   {
    "duration": 6,
    "start_time": "2024-09-05T13:12:17.929Z"
   },
   {
    "duration": 38,
    "start_time": "2024-09-05T13:12:17.936Z"
   },
   {
    "duration": 16,
    "start_time": "2024-09-05T13:12:17.975Z"
   },
   {
    "duration": 11,
    "start_time": "2024-09-05T13:12:17.992Z"
   },
   {
    "duration": 156,
    "start_time": "2024-09-05T13:12:18.004Z"
   },
   {
    "duration": 110,
    "start_time": "2024-09-05T13:12:18.163Z"
   },
   {
    "duration": 5,
    "start_time": "2024-09-05T13:12:18.275Z"
   },
   {
    "duration": 214,
    "start_time": "2024-09-05T13:12:18.282Z"
   },
   {
    "duration": 389,
    "start_time": "2024-09-05T13:12:18.497Z"
   },
   {
    "duration": 629,
    "start_time": "2024-09-05T13:12:18.888Z"
   },
   {
    "duration": 39,
    "start_time": "2024-09-05T13:12:19.519Z"
   },
   {
    "duration": 29,
    "start_time": "2024-09-05T13:12:19.561Z"
   },
   {
    "duration": 22,
    "start_time": "2024-09-05T13:12:19.592Z"
   },
   {
    "duration": 48,
    "start_time": "2024-09-05T13:12:19.616Z"
   },
   {
    "duration": 372,
    "start_time": "2024-09-05T13:12:19.665Z"
   },
   {
    "duration": 360,
    "start_time": "2024-09-05T13:12:20.039Z"
   },
   {
    "duration": 385,
    "start_time": "2024-09-05T13:12:20.401Z"
   },
   {
    "duration": 350,
    "start_time": "2024-09-05T13:12:20.788Z"
   },
   {
    "duration": 44,
    "start_time": "2024-09-05T13:12:21.140Z"
   },
   {
    "duration": 2,
    "start_time": "2024-09-05T13:12:21.186Z"
   },
   {
    "duration": 242,
    "start_time": "2024-09-05T13:12:21.190Z"
   },
   {
    "duration": 24,
    "start_time": "2024-09-05T13:12:21.433Z"
   },
   {
    "duration": 38,
    "start_time": "2024-09-05T13:12:21.459Z"
   },
   {
    "duration": 115,
    "start_time": "2024-09-05T13:12:21.499Z"
   },
   {
    "duration": 32,
    "start_time": "2024-09-05T13:12:21.616Z"
   },
   {
    "duration": 9,
    "start_time": "2024-09-05T13:12:21.650Z"
   },
   {
    "duration": 7,
    "start_time": "2024-09-05T13:12:21.663Z"
   },
   {
    "duration": 10,
    "start_time": "2024-09-05T13:12:21.671Z"
   },
   {
    "duration": 5,
    "start_time": "2024-09-05T13:12:21.682Z"
   },
   {
    "duration": 12,
    "start_time": "2024-09-05T13:12:21.688Z"
   },
   {
    "duration": 15,
    "start_time": "2024-09-05T13:12:21.702Z"
   },
   {
    "duration": 40,
    "start_time": "2024-09-05T13:12:21.719Z"
   },
   {
    "duration": 183,
    "start_time": "2024-09-05T13:12:21.763Z"
   },
   {
    "duration": 3190,
    "start_time": "2024-09-05T13:12:21.948Z"
   },
   {
    "duration": 16,
    "start_time": "2024-09-05T13:13:06.559Z"
   },
   {
    "duration": 3,
    "start_time": "2024-09-05T13:13:40.998Z"
   },
   {
    "duration": 82,
    "start_time": "2024-09-05T13:13:41.003Z"
   },
   {
    "duration": 20,
    "start_time": "2024-09-05T13:13:41.086Z"
   },
   {
    "duration": 25,
    "start_time": "2024-09-05T13:13:41.108Z"
   },
   {
    "duration": 18,
    "start_time": "2024-09-05T13:13:41.135Z"
   },
   {
    "duration": 23,
    "start_time": "2024-09-05T13:13:41.155Z"
   },
   {
    "duration": 27,
    "start_time": "2024-09-05T13:13:41.179Z"
   },
   {
    "duration": 10,
    "start_time": "2024-09-05T13:13:41.207Z"
   },
   {
    "duration": 20,
    "start_time": "2024-09-05T13:13:41.219Z"
   },
   {
    "duration": 35,
    "start_time": "2024-09-05T13:13:41.240Z"
   },
   {
    "duration": 4,
    "start_time": "2024-09-05T13:13:41.277Z"
   },
   {
    "duration": 30,
    "start_time": "2024-09-05T13:13:41.283Z"
   },
   {
    "duration": 162,
    "start_time": "2024-09-05T13:13:41.315Z"
   },
   {
    "duration": 125,
    "start_time": "2024-09-05T13:13:41.478Z"
   },
   {
    "duration": 5,
    "start_time": "2024-09-05T13:13:41.605Z"
   },
   {
    "duration": 203,
    "start_time": "2024-09-05T13:13:41.612Z"
   },
   {
    "duration": 350,
    "start_time": "2024-09-05T13:13:41.816Z"
   },
   {
    "duration": 635,
    "start_time": "2024-09-05T13:13:42.167Z"
   },
   {
    "duration": 23,
    "start_time": "2024-09-05T13:13:42.804Z"
   },
   {
    "duration": 46,
    "start_time": "2024-09-05T13:13:42.828Z"
   },
   {
    "duration": 20,
    "start_time": "2024-09-05T13:13:42.876Z"
   },
   {
    "duration": 19,
    "start_time": "2024-09-05T13:13:42.898Z"
   },
   {
    "duration": 384,
    "start_time": "2024-09-05T13:13:42.919Z"
   },
   {
    "duration": 369,
    "start_time": "2024-09-05T13:13:43.306Z"
   },
   {
    "duration": 338,
    "start_time": "2024-09-05T13:13:43.677Z"
   },
   {
    "duration": 386,
    "start_time": "2024-09-05T13:13:44.017Z"
   },
   {
    "duration": 52,
    "start_time": "2024-09-05T13:13:44.405Z"
   },
   {
    "duration": 3,
    "start_time": "2024-09-05T13:13:44.459Z"
   },
   {
    "duration": 259,
    "start_time": "2024-09-05T13:13:44.464Z"
   },
   {
    "duration": 6,
    "start_time": "2024-09-05T13:13:44.725Z"
   },
   {
    "duration": 25,
    "start_time": "2024-09-05T13:13:44.732Z"
   },
   {
    "duration": 9,
    "start_time": "2024-09-05T13:13:44.759Z"
   },
   {
    "duration": 11,
    "start_time": "2024-09-05T13:13:44.769Z"
   },
   {
    "duration": 7,
    "start_time": "2024-09-05T13:13:44.781Z"
   },
   {
    "duration": 15,
    "start_time": "2024-09-05T13:13:44.789Z"
   },
   {
    "duration": 9,
    "start_time": "2024-09-05T13:13:44.806Z"
   },
   {
    "duration": 56,
    "start_time": "2024-09-05T13:13:44.816Z"
   },
   {
    "duration": 19,
    "start_time": "2024-09-05T13:13:44.873Z"
   },
   {
    "duration": 12,
    "start_time": "2024-09-05T13:13:44.894Z"
   },
   {
    "duration": 14,
    "start_time": "2024-09-05T13:13:44.907Z"
   },
   {
    "duration": 12,
    "start_time": "2024-09-05T13:13:44.923Z"
   },
   {
    "duration": 25,
    "start_time": "2024-09-05T13:13:44.936Z"
   },
   {
    "duration": 191,
    "start_time": "2024-09-05T13:15:35.022Z"
   },
   {
    "duration": 0,
    "start_time": "2024-09-05T13:17:45.676Z"
   },
   {
    "duration": 0,
    "start_time": "2024-09-05T13:17:45.677Z"
   },
   {
    "duration": 0,
    "start_time": "2024-09-05T13:17:45.679Z"
   },
   {
    "duration": 0,
    "start_time": "2024-09-05T13:17:45.680Z"
   },
   {
    "duration": 0,
    "start_time": "2024-09-05T13:17:45.681Z"
   },
   {
    "duration": 0,
    "start_time": "2024-09-05T13:17:45.682Z"
   },
   {
    "duration": 0,
    "start_time": "2024-09-05T13:17:45.683Z"
   },
   {
    "duration": 0,
    "start_time": "2024-09-05T13:17:45.684Z"
   },
   {
    "duration": 0,
    "start_time": "2024-09-05T13:17:45.685Z"
   },
   {
    "duration": 0,
    "start_time": "2024-09-05T13:17:45.686Z"
   },
   {
    "duration": 0,
    "start_time": "2024-09-05T13:17:45.687Z"
   },
   {
    "duration": 0,
    "start_time": "2024-09-05T13:17:45.688Z"
   },
   {
    "duration": 0,
    "start_time": "2024-09-05T13:17:45.689Z"
   },
   {
    "duration": 0,
    "start_time": "2024-09-05T13:17:45.690Z"
   },
   {
    "duration": 0,
    "start_time": "2024-09-05T13:17:45.691Z"
   },
   {
    "duration": 0,
    "start_time": "2024-09-05T13:17:45.693Z"
   },
   {
    "duration": 0,
    "start_time": "2024-09-05T13:17:45.693Z"
   },
   {
    "duration": 0,
    "start_time": "2024-09-05T13:17:45.694Z"
   },
   {
    "duration": 0,
    "start_time": "2024-09-05T13:17:45.695Z"
   },
   {
    "duration": 0,
    "start_time": "2024-09-05T13:17:45.696Z"
   },
   {
    "duration": 0,
    "start_time": "2024-09-05T13:17:45.698Z"
   },
   {
    "duration": 0,
    "start_time": "2024-09-05T13:17:45.699Z"
   },
   {
    "duration": 0,
    "start_time": "2024-09-05T13:17:45.700Z"
   },
   {
    "duration": 0,
    "start_time": "2024-09-05T13:17:45.701Z"
   },
   {
    "duration": 0,
    "start_time": "2024-09-05T13:17:45.748Z"
   },
   {
    "duration": 0,
    "start_time": "2024-09-05T13:17:45.749Z"
   },
   {
    "duration": 0,
    "start_time": "2024-09-05T13:17:45.750Z"
   },
   {
    "duration": 0,
    "start_time": "2024-09-05T13:17:45.751Z"
   },
   {
    "duration": 0,
    "start_time": "2024-09-05T13:17:45.751Z"
   },
   {
    "duration": 0,
    "start_time": "2024-09-05T13:17:45.752Z"
   },
   {
    "duration": 0,
    "start_time": "2024-09-05T13:17:45.753Z"
   },
   {
    "duration": 0,
    "start_time": "2024-09-05T13:17:45.754Z"
   },
   {
    "duration": 0,
    "start_time": "2024-09-05T13:17:45.760Z"
   },
   {
    "duration": 0,
    "start_time": "2024-09-05T13:17:45.762Z"
   },
   {
    "duration": 0,
    "start_time": "2024-09-05T13:17:45.763Z"
   },
   {
    "duration": 0,
    "start_time": "2024-09-05T13:17:45.764Z"
   },
   {
    "duration": 0,
    "start_time": "2024-09-05T13:17:45.764Z"
   },
   {
    "duration": 0,
    "start_time": "2024-09-05T13:17:45.767Z"
   },
   {
    "duration": 0,
    "start_time": "2024-09-05T13:17:45.768Z"
   },
   {
    "duration": 0,
    "start_time": "2024-09-05T13:17:45.769Z"
   },
   {
    "duration": 0,
    "start_time": "2024-09-05T13:17:45.770Z"
   },
   {
    "duration": 0,
    "start_time": "2024-09-05T13:17:45.771Z"
   },
   {
    "duration": 3,
    "start_time": "2024-09-05T13:17:52.668Z"
   },
   {
    "duration": 90,
    "start_time": "2024-09-05T13:17:52.673Z"
   },
   {
    "duration": 20,
    "start_time": "2024-09-05T13:17:52.765Z"
   },
   {
    "duration": 19,
    "start_time": "2024-09-05T13:17:52.787Z"
   },
   {
    "duration": 32,
    "start_time": "2024-09-05T13:17:52.808Z"
   },
   {
    "duration": 19,
    "start_time": "2024-09-05T13:17:52.842Z"
   },
   {
    "duration": 20,
    "start_time": "2024-09-05T13:17:52.862Z"
   },
   {
    "duration": 8,
    "start_time": "2024-09-05T13:17:52.884Z"
   },
   {
    "duration": 5,
    "start_time": "2024-09-05T13:17:52.894Z"
   },
   {
    "duration": 23,
    "start_time": "2024-09-05T13:17:52.901Z"
   },
   {
    "duration": 25,
    "start_time": "2024-09-05T13:17:52.926Z"
   },
   {
    "duration": 9,
    "start_time": "2024-09-05T13:17:52.957Z"
   },
   {
    "duration": 62,
    "start_time": "2024-09-05T13:17:52.967Z"
   },
   {
    "duration": 69,
    "start_time": "2024-09-05T13:17:53.032Z"
   },
   {
    "duration": 5,
    "start_time": "2024-09-05T13:17:53.102Z"
   },
   {
    "duration": 107,
    "start_time": "2024-09-05T13:17:53.109Z"
   },
   {
    "duration": 165,
    "start_time": "2024-09-05T13:17:53.218Z"
   },
   {
    "duration": 150,
    "start_time": "2024-09-05T13:17:53.385Z"
   },
   {
    "duration": 37,
    "start_time": "2024-09-05T13:17:53.536Z"
   },
   {
    "duration": 29,
    "start_time": "2024-09-05T13:17:53.576Z"
   },
   {
    "duration": 54,
    "start_time": "2024-09-05T13:17:53.607Z"
   },
   {
    "duration": 22,
    "start_time": "2024-09-05T13:17:53.663Z"
   },
   {
    "duration": 153,
    "start_time": "2024-09-05T13:17:53.687Z"
   },
   {
    "duration": 146,
    "start_time": "2024-09-05T13:17:53.847Z"
   },
   {
    "duration": 165,
    "start_time": "2024-09-05T13:17:53.995Z"
   },
   {
    "duration": 139,
    "start_time": "2024-09-05T13:17:54.162Z"
   },
   {
    "duration": 58,
    "start_time": "2024-09-05T13:17:54.303Z"
   },
   {
    "duration": 6,
    "start_time": "2024-09-05T13:17:54.363Z"
   },
   {
    "duration": 228,
    "start_time": "2024-09-05T13:17:54.371Z"
   },
   {
    "duration": 6,
    "start_time": "2024-09-05T13:17:54.600Z"
   },
   {
    "duration": 6,
    "start_time": "2024-09-05T13:17:54.608Z"
   },
   {
    "duration": 7,
    "start_time": "2024-09-05T13:17:54.616Z"
   },
   {
    "duration": 34,
    "start_time": "2024-09-05T13:17:54.624Z"
   },
   {
    "duration": 6,
    "start_time": "2024-09-05T13:17:54.660Z"
   },
   {
    "duration": 8,
    "start_time": "2024-09-05T13:17:54.668Z"
   },
   {
    "duration": 9,
    "start_time": "2024-09-05T13:17:54.677Z"
   },
   {
    "duration": 3,
    "start_time": "2024-09-05T13:17:54.688Z"
   },
   {
    "duration": 6,
    "start_time": "2024-09-05T13:17:54.692Z"
   },
   {
    "duration": 6,
    "start_time": "2024-09-05T13:17:54.700Z"
   },
   {
    "duration": 12,
    "start_time": "2024-09-05T13:17:54.746Z"
   },
   {
    "duration": 65,
    "start_time": "2024-09-05T13:17:54.762Z"
   },
   {
    "duration": 3748,
    "start_time": "2024-09-05T13:17:54.828Z"
   },
   {
    "duration": 57,
    "start_time": "2024-09-05T13:18:50.366Z"
   },
   {
    "duration": 76,
    "start_time": "2024-09-05T13:19:06.491Z"
   },
   {
    "duration": 3199,
    "start_time": "2024-09-05T13:19:29.882Z"
   },
   {
    "duration": 68,
    "start_time": "2024-09-05T13:22:11.121Z"
   },
   {
    "duration": 72,
    "start_time": "2024-09-05T13:22:26.083Z"
   },
   {
    "duration": 153065,
    "start_time": "2024-09-05T13:23:53.921Z"
   },
   {
    "duration": 0,
    "start_time": "2024-09-05T13:26:26.988Z"
   },
   {
    "duration": 93,
    "start_time": "2024-09-05T13:26:46.515Z"
   },
   {
    "duration": 3,
    "start_time": "2024-09-05T13:27:02.563Z"
   },
   {
    "duration": 75,
    "start_time": "2024-09-05T13:27:02.568Z"
   },
   {
    "duration": 24,
    "start_time": "2024-09-05T13:27:02.646Z"
   },
   {
    "duration": 19,
    "start_time": "2024-09-05T13:27:02.672Z"
   },
   {
    "duration": 28,
    "start_time": "2024-09-05T13:27:02.693Z"
   },
   {
    "duration": 41,
    "start_time": "2024-09-05T13:27:02.723Z"
   },
   {
    "duration": 61,
    "start_time": "2024-09-05T13:27:02.766Z"
   },
   {
    "duration": 8,
    "start_time": "2024-09-05T13:27:02.829Z"
   },
   {
    "duration": 37,
    "start_time": "2024-09-05T13:27:02.839Z"
   },
   {
    "duration": 98,
    "start_time": "2024-09-05T13:27:02.878Z"
   },
   {
    "duration": 80,
    "start_time": "2024-09-05T13:27:02.979Z"
   },
   {
    "duration": 13,
    "start_time": "2024-09-05T13:27:03.061Z"
   },
   {
    "duration": 66,
    "start_time": "2024-09-05T13:27:03.075Z"
   },
   {
    "duration": 59,
    "start_time": "2024-09-05T13:27:03.143Z"
   },
   {
    "duration": 5,
    "start_time": "2024-09-05T13:27:03.204Z"
   },
   {
    "duration": 96,
    "start_time": "2024-09-05T13:27:03.210Z"
   },
   {
    "duration": 143,
    "start_time": "2024-09-05T13:27:03.308Z"
   },
   {
    "duration": 139,
    "start_time": "2024-09-05T13:27:03.460Z"
   },
   {
    "duration": 24,
    "start_time": "2024-09-05T13:27:03.601Z"
   },
   {
    "duration": 47,
    "start_time": "2024-09-05T13:27:03.627Z"
   },
   {
    "duration": 32,
    "start_time": "2024-09-05T13:27:03.676Z"
   },
   {
    "duration": 42,
    "start_time": "2024-09-05T13:27:03.710Z"
   },
   {
    "duration": 167,
    "start_time": "2024-09-05T13:27:03.756Z"
   },
   {
    "duration": 159,
    "start_time": "2024-09-05T13:27:03.925Z"
   },
   {
    "duration": 163,
    "start_time": "2024-09-05T13:27:04.085Z"
   },
   {
    "duration": 157,
    "start_time": "2024-09-05T13:27:04.250Z"
   },
   {
    "duration": 62,
    "start_time": "2024-09-05T13:27:04.408Z"
   },
   {
    "duration": 3,
    "start_time": "2024-09-05T13:27:04.472Z"
   },
   {
    "duration": 241,
    "start_time": "2024-09-05T13:27:04.478Z"
   },
   {
    "duration": 6,
    "start_time": "2024-09-05T13:27:04.721Z"
   },
   {
    "duration": 32,
    "start_time": "2024-09-05T13:27:04.729Z"
   },
   {
    "duration": 29,
    "start_time": "2024-09-05T13:27:04.763Z"
   },
   {
    "duration": 41,
    "start_time": "2024-09-05T13:27:04.793Z"
   },
   {
    "duration": 24,
    "start_time": "2024-09-05T13:27:04.835Z"
   },
   {
    "duration": 24,
    "start_time": "2024-09-05T13:27:04.861Z"
   },
   {
    "duration": 8,
    "start_time": "2024-09-05T13:27:04.886Z"
   },
   {
    "duration": 62,
    "start_time": "2024-09-05T13:27:04.895Z"
   },
   {
    "duration": 25,
    "start_time": "2024-09-05T13:27:04.959Z"
   },
   {
    "duration": 27,
    "start_time": "2024-09-05T13:27:04.985Z"
   },
   {
    "duration": 46,
    "start_time": "2024-09-05T13:27:05.013Z"
   },
   {
    "duration": 3510,
    "start_time": "2024-09-05T13:27:05.061Z"
   },
   {
    "duration": 3339,
    "start_time": "2024-09-05T13:27:49.512Z"
   },
   {
    "duration": 3548,
    "start_time": "2024-09-05T13:28:26.804Z"
   },
   {
    "duration": 3576,
    "start_time": "2024-09-05T13:29:19.298Z"
   },
   {
    "duration": 3,
    "start_time": "2024-09-05T13:30:29.986Z"
   },
   {
    "duration": 78,
    "start_time": "2024-09-05T13:30:29.992Z"
   },
   {
    "duration": 20,
    "start_time": "2024-09-05T13:30:30.072Z"
   },
   {
    "duration": 88,
    "start_time": "2024-09-05T13:30:30.094Z"
   },
   {
    "duration": 97,
    "start_time": "2024-09-05T13:30:30.184Z"
   },
   {
    "duration": 144,
    "start_time": "2024-09-05T13:30:30.282Z"
   },
   {
    "duration": 68,
    "start_time": "2024-09-05T13:30:30.428Z"
   },
   {
    "duration": 104,
    "start_time": "2024-09-05T13:30:30.497Z"
   },
   {
    "duration": 109,
    "start_time": "2024-09-05T13:30:30.603Z"
   },
   {
    "duration": 80,
    "start_time": "2024-09-05T13:30:30.714Z"
   },
   {
    "duration": 62,
    "start_time": "2024-09-05T13:30:30.796Z"
   },
   {
    "duration": 33,
    "start_time": "2024-09-05T13:30:30.863Z"
   },
   {
    "duration": 100,
    "start_time": "2024-09-05T13:30:30.897Z"
   },
   {
    "duration": 74,
    "start_time": "2024-09-05T13:30:30.999Z"
   },
   {
    "duration": 6,
    "start_time": "2024-09-05T13:30:31.074Z"
   },
   {
    "duration": 101,
    "start_time": "2024-09-05T13:30:31.082Z"
   },
   {
    "duration": 142,
    "start_time": "2024-09-05T13:30:31.184Z"
   },
   {
    "duration": 151,
    "start_time": "2024-09-05T13:30:31.328Z"
   },
   {
    "duration": 25,
    "start_time": "2024-09-05T13:30:31.480Z"
   },
   {
    "duration": 54,
    "start_time": "2024-09-05T13:30:31.507Z"
   },
   {
    "duration": 22,
    "start_time": "2024-09-05T13:30:31.563Z"
   },
   {
    "duration": 18,
    "start_time": "2024-09-05T13:30:31.587Z"
   },
   {
    "duration": 207,
    "start_time": "2024-09-05T13:30:31.607Z"
   },
   {
    "duration": 195,
    "start_time": "2024-09-05T13:30:31.817Z"
   },
   {
    "duration": 157,
    "start_time": "2024-09-05T13:30:32.013Z"
   },
   {
    "duration": 147,
    "start_time": "2024-09-05T13:30:32.172Z"
   },
   {
    "duration": 67,
    "start_time": "2024-09-05T13:30:32.320Z"
   },
   {
    "duration": 3,
    "start_time": "2024-09-05T13:30:32.390Z"
   },
   {
    "duration": 303,
    "start_time": "2024-09-05T13:30:32.395Z"
   },
   {
    "duration": 6,
    "start_time": "2024-09-05T13:30:32.700Z"
   },
   {
    "duration": 59,
    "start_time": "2024-09-05T13:30:32.708Z"
   },
   {
    "duration": 19,
    "start_time": "2024-09-05T13:30:32.769Z"
   },
   {
    "duration": 12,
    "start_time": "2024-09-05T13:30:32.790Z"
   },
   {
    "duration": 8,
    "start_time": "2024-09-05T13:30:32.803Z"
   },
   {
    "duration": 37,
    "start_time": "2024-09-05T13:30:32.813Z"
   },
   {
    "duration": 12,
    "start_time": "2024-09-05T13:30:32.855Z"
   },
   {
    "duration": 9,
    "start_time": "2024-09-05T13:30:32.869Z"
   },
   {
    "duration": 17,
    "start_time": "2024-09-05T13:30:32.880Z"
   },
   {
    "duration": 13,
    "start_time": "2024-09-05T13:30:32.899Z"
   },
   {
    "duration": 46,
    "start_time": "2024-09-05T13:30:32.913Z"
   },
   {
    "duration": 3755,
    "start_time": "2024-09-05T13:30:32.964Z"
   },
   {
    "duration": 65,
    "start_time": "2024-09-05T13:31:32.268Z"
   },
   {
    "duration": 65,
    "start_time": "2024-09-05T13:32:04.215Z"
   },
   {
    "duration": 87,
    "start_time": "2024-09-05T13:32:36.123Z"
   },
   {
    "duration": 10,
    "start_time": "2024-09-05T13:33:59.424Z"
   },
   {
    "duration": 139,
    "start_time": "2024-09-05T13:34:18.034Z"
   },
   {
    "duration": 3,
    "start_time": "2024-09-05T13:34:26.432Z"
   },
   {
    "duration": 71,
    "start_time": "2024-09-05T13:34:26.437Z"
   },
   {
    "duration": 28,
    "start_time": "2024-09-05T13:34:26.510Z"
   },
   {
    "duration": 34,
    "start_time": "2024-09-05T13:34:26.539Z"
   },
   {
    "duration": 20,
    "start_time": "2024-09-05T13:34:26.577Z"
   },
   {
    "duration": 20,
    "start_time": "2024-09-05T13:34:26.600Z"
   },
   {
    "duration": 96,
    "start_time": "2024-09-05T13:34:26.623Z"
   },
   {
    "duration": 10,
    "start_time": "2024-09-05T13:34:26.720Z"
   },
   {
    "duration": 6,
    "start_time": "2024-09-05T13:34:26.731Z"
   },
   {
    "duration": 36,
    "start_time": "2024-09-05T13:34:26.739Z"
   },
   {
    "duration": 4,
    "start_time": "2024-09-05T13:34:26.778Z"
   },
   {
    "duration": 22,
    "start_time": "2024-09-05T13:34:26.784Z"
   },
   {
    "duration": 67,
    "start_time": "2024-09-05T13:34:26.808Z"
   },
   {
    "duration": 83,
    "start_time": "2024-09-05T13:34:26.877Z"
   },
   {
    "duration": 4,
    "start_time": "2024-09-05T13:34:26.962Z"
   },
   {
    "duration": 73,
    "start_time": "2024-09-05T13:34:26.968Z"
   },
   {
    "duration": 133,
    "start_time": "2024-09-05T13:34:27.052Z"
   },
   {
    "duration": 146,
    "start_time": "2024-09-05T13:34:27.187Z"
   },
   {
    "duration": 33,
    "start_time": "2024-09-05T13:34:27.347Z"
   },
   {
    "duration": 27,
    "start_time": "2024-09-05T13:34:27.382Z"
   },
   {
    "duration": 47,
    "start_time": "2024-09-05T13:34:27.411Z"
   },
   {
    "duration": 22,
    "start_time": "2024-09-05T13:34:27.461Z"
   },
   {
    "duration": 142,
    "start_time": "2024-09-05T13:34:27.485Z"
   },
   {
    "duration": 160,
    "start_time": "2024-09-05T13:34:27.629Z"
   },
   {
    "duration": 147,
    "start_time": "2024-09-05T13:34:27.791Z"
   },
   {
    "duration": 160,
    "start_time": "2024-09-05T13:34:27.939Z"
   },
   {
    "duration": 54,
    "start_time": "2024-09-05T13:34:28.101Z"
   },
   {
    "duration": 7,
    "start_time": "2024-09-05T13:34:28.156Z"
   },
   {
    "duration": 270,
    "start_time": "2024-09-05T13:34:28.168Z"
   },
   {
    "duration": 17,
    "start_time": "2024-09-05T13:34:28.440Z"
   },
   {
    "duration": 7,
    "start_time": "2024-09-05T13:34:28.460Z"
   },
   {
    "duration": 5,
    "start_time": "2024-09-05T13:34:28.469Z"
   },
   {
    "duration": 10,
    "start_time": "2024-09-05T13:34:28.476Z"
   },
   {
    "duration": 8,
    "start_time": "2024-09-05T13:34:28.488Z"
   },
   {
    "duration": 11,
    "start_time": "2024-09-05T13:34:28.497Z"
   },
   {
    "duration": 25,
    "start_time": "2024-09-05T13:34:28.510Z"
   },
   {
    "duration": 3,
    "start_time": "2024-09-05T13:34:28.552Z"
   },
   {
    "duration": 13,
    "start_time": "2024-09-05T13:34:28.557Z"
   },
   {
    "duration": 19,
    "start_time": "2024-09-05T13:34:28.571Z"
   },
   {
    "duration": 9,
    "start_time": "2024-09-05T13:34:28.593Z"
   },
   {
    "duration": 94,
    "start_time": "2024-09-05T13:34:28.604Z"
   },
   {
    "duration": 4,
    "start_time": "2024-09-05T13:34:44.313Z"
   },
   {
    "duration": 109,
    "start_time": "2024-09-05T13:34:44.319Z"
   },
   {
    "duration": 29,
    "start_time": "2024-09-05T13:34:44.430Z"
   },
   {
    "duration": 21,
    "start_time": "2024-09-05T13:34:44.461Z"
   },
   {
    "duration": 16,
    "start_time": "2024-09-05T13:34:44.484Z"
   },
   {
    "duration": 26,
    "start_time": "2024-09-05T13:34:44.501Z"
   },
   {
    "duration": 40,
    "start_time": "2024-09-05T13:34:44.529Z"
   },
   {
    "duration": 11,
    "start_time": "2024-09-05T13:34:44.571Z"
   },
   {
    "duration": 7,
    "start_time": "2024-09-05T13:34:44.585Z"
   },
   {
    "duration": 44,
    "start_time": "2024-09-05T13:34:44.594Z"
   },
   {
    "duration": 21,
    "start_time": "2024-09-05T13:34:44.640Z"
   },
   {
    "duration": 12,
    "start_time": "2024-09-05T13:34:44.663Z"
   },
   {
    "duration": 90,
    "start_time": "2024-09-05T13:34:44.677Z"
   },
   {
    "duration": 62,
    "start_time": "2024-09-05T13:34:44.769Z"
   },
   {
    "duration": 26,
    "start_time": "2024-09-05T13:34:44.832Z"
   },
   {
    "duration": 69,
    "start_time": "2024-09-05T13:34:44.860Z"
   },
   {
    "duration": 157,
    "start_time": "2024-09-05T13:34:44.931Z"
   },
   {
    "duration": 698,
    "start_time": "2024-09-05T13:34:45.090Z"
   },
   {
    "duration": 25,
    "start_time": "2024-09-05T13:34:45.790Z"
   },
   {
    "duration": 48,
    "start_time": "2024-09-05T13:34:45.817Z"
   },
   {
    "duration": 22,
    "start_time": "2024-09-05T13:34:45.866Z"
   },
   {
    "duration": 21,
    "start_time": "2024-09-05T13:34:45.889Z"
   },
   {
    "duration": 181,
    "start_time": "2024-09-05T13:34:45.912Z"
   },
   {
    "duration": 185,
    "start_time": "2024-09-05T13:34:46.096Z"
   },
   {
    "duration": 186,
    "start_time": "2024-09-05T13:34:46.283Z"
   },
   {
    "duration": 180,
    "start_time": "2024-09-05T13:34:46.471Z"
   },
   {
    "duration": 57,
    "start_time": "2024-09-05T13:34:46.658Z"
   },
   {
    "duration": 4,
    "start_time": "2024-09-05T13:34:46.717Z"
   },
   {
    "duration": 259,
    "start_time": "2024-09-05T13:34:46.724Z"
   },
   {
    "duration": 7,
    "start_time": "2024-09-05T13:34:46.984Z"
   },
   {
    "duration": 7,
    "start_time": "2024-09-05T13:34:46.992Z"
   },
   {
    "duration": 9,
    "start_time": "2024-09-05T13:34:47.001Z"
   },
   {
    "duration": 9,
    "start_time": "2024-09-05T13:34:47.012Z"
   },
   {
    "duration": 31,
    "start_time": "2024-09-05T13:34:47.023Z"
   },
   {
    "duration": 21,
    "start_time": "2024-09-05T13:34:47.056Z"
   },
   {
    "duration": 16,
    "start_time": "2024-09-05T13:34:47.079Z"
   },
   {
    "duration": 6,
    "start_time": "2024-09-05T13:34:47.107Z"
   },
   {
    "duration": 15,
    "start_time": "2024-09-05T13:34:47.115Z"
   },
   {
    "duration": 48,
    "start_time": "2024-09-05T13:34:47.131Z"
   },
   {
    "duration": 11,
    "start_time": "2024-09-05T13:34:47.180Z"
   },
   {
    "duration": 3,
    "start_time": "2024-09-05T13:37:59.689Z"
   },
   {
    "duration": 68,
    "start_time": "2024-09-05T13:37:59.716Z"
   },
   {
    "duration": 21,
    "start_time": "2024-09-05T13:37:59.786Z"
   },
   {
    "duration": 21,
    "start_time": "2024-09-05T13:37:59.808Z"
   },
   {
    "duration": 29,
    "start_time": "2024-09-05T13:37:59.831Z"
   },
   {
    "duration": 14,
    "start_time": "2024-09-05T13:37:59.862Z"
   },
   {
    "duration": 26,
    "start_time": "2024-09-05T13:37:59.877Z"
   },
   {
    "duration": 9,
    "start_time": "2024-09-05T13:37:59.904Z"
   },
   {
    "duration": 10,
    "start_time": "2024-09-05T13:37:59.914Z"
   },
   {
    "duration": 35,
    "start_time": "2024-09-05T13:37:59.926Z"
   },
   {
    "duration": 4,
    "start_time": "2024-09-05T13:37:59.963Z"
   },
   {
    "duration": 11,
    "start_time": "2024-09-05T13:37:59.969Z"
   },
   {
    "duration": 97,
    "start_time": "2024-09-05T13:37:59.982Z"
   },
   {
    "duration": 54,
    "start_time": "2024-09-05T13:38:00.081Z"
   },
   {
    "duration": 7,
    "start_time": "2024-09-05T13:38:00.147Z"
   },
   {
    "duration": 147,
    "start_time": "2024-09-05T13:38:00.162Z"
   },
   {
    "duration": 155,
    "start_time": "2024-09-05T13:38:00.311Z"
   },
   {
    "duration": 142,
    "start_time": "2024-09-05T13:38:00.468Z"
   },
   {
    "duration": 49,
    "start_time": "2024-09-05T13:38:00.612Z"
   },
   {
    "duration": 29,
    "start_time": "2024-09-05T13:38:00.666Z"
   },
   {
    "duration": 21,
    "start_time": "2024-09-05T13:38:00.697Z"
   },
   {
    "duration": 42,
    "start_time": "2024-09-05T13:38:00.720Z"
   },
   {
    "duration": 149,
    "start_time": "2024-09-05T13:38:00.764Z"
   },
   {
    "duration": 150,
    "start_time": "2024-09-05T13:38:00.915Z"
   },
   {
    "duration": 141,
    "start_time": "2024-09-05T13:38:01.067Z"
   },
   {
    "duration": 159,
    "start_time": "2024-09-05T13:38:01.209Z"
   },
   {
    "duration": 40,
    "start_time": "2024-09-05T13:38:01.370Z"
   },
   {
    "duration": 62,
    "start_time": "2024-09-05T13:38:01.412Z"
   },
   {
    "duration": 685,
    "start_time": "2024-09-05T13:38:01.476Z"
   },
   {
    "duration": 8,
    "start_time": "2024-09-05T13:38:02.163Z"
   },
   {
    "duration": 20,
    "start_time": "2024-09-05T13:38:02.173Z"
   },
   {
    "duration": 13,
    "start_time": "2024-09-05T13:38:02.195Z"
   },
   {
    "duration": 10,
    "start_time": "2024-09-05T13:38:02.210Z"
   },
   {
    "duration": 20,
    "start_time": "2024-09-05T13:38:02.221Z"
   },
   {
    "duration": 20,
    "start_time": "2024-09-05T13:38:02.242Z"
   },
   {
    "duration": 30,
    "start_time": "2024-09-05T13:38:02.264Z"
   },
   {
    "duration": 15,
    "start_time": "2024-09-05T13:38:02.296Z"
   },
   {
    "duration": 14,
    "start_time": "2024-09-05T13:38:02.313Z"
   },
   {
    "duration": 41,
    "start_time": "2024-09-05T13:38:02.329Z"
   },
   {
    "duration": 7,
    "start_time": "2024-09-05T13:38:02.372Z"
   },
   {
    "duration": 1188,
    "start_time": "2024-09-05T13:41:40.805Z"
   },
   {
    "duration": 84,
    "start_time": "2024-09-05T13:41:41.995Z"
   },
   {
    "duration": 31,
    "start_time": "2024-09-05T13:41:42.081Z"
   },
   {
    "duration": 21,
    "start_time": "2024-09-05T13:41:42.115Z"
   },
   {
    "duration": 26,
    "start_time": "2024-09-05T13:41:42.137Z"
   },
   {
    "duration": 46,
    "start_time": "2024-09-05T13:41:42.165Z"
   },
   {
    "duration": 48,
    "start_time": "2024-09-05T13:41:42.212Z"
   },
   {
    "duration": 13,
    "start_time": "2024-09-05T13:41:42.261Z"
   },
   {
    "duration": 16,
    "start_time": "2024-09-05T13:41:42.275Z"
   },
   {
    "duration": 19,
    "start_time": "2024-09-05T13:41:42.294Z"
   },
   {
    "duration": 4,
    "start_time": "2024-09-05T13:41:42.315Z"
   },
   {
    "duration": 26,
    "start_time": "2024-09-05T13:41:42.320Z"
   },
   {
    "duration": 220,
    "start_time": "2024-09-05T13:41:42.348Z"
   },
   {
    "duration": 118,
    "start_time": "2024-09-05T13:41:42.570Z"
   },
   {
    "duration": 4,
    "start_time": "2024-09-05T13:41:42.690Z"
   },
   {
    "duration": 202,
    "start_time": "2024-09-05T13:41:42.695Z"
   },
   {
    "duration": 369,
    "start_time": "2024-09-05T13:41:42.898Z"
   },
   {
    "duration": 403,
    "start_time": "2024-09-05T13:41:43.269Z"
   },
   {
    "duration": 33,
    "start_time": "2024-09-05T13:41:43.674Z"
   },
   {
    "duration": 57,
    "start_time": "2024-09-05T13:41:43.709Z"
   },
   {
    "duration": 21,
    "start_time": "2024-09-05T13:41:43.768Z"
   },
   {
    "duration": 108,
    "start_time": "2024-09-05T13:41:43.790Z"
   },
   {
    "duration": 392,
    "start_time": "2024-09-05T13:41:43.900Z"
   },
   {
    "duration": 380,
    "start_time": "2024-09-05T13:41:44.294Z"
   },
   {
    "duration": 342,
    "start_time": "2024-09-05T13:41:44.675Z"
   },
   {
    "duration": 367,
    "start_time": "2024-09-05T13:41:45.019Z"
   },
   {
    "duration": 142,
    "start_time": "2024-09-05T13:41:45.388Z"
   },
   {
    "duration": 3,
    "start_time": "2024-09-05T13:41:45.534Z"
   },
   {
    "duration": 261,
    "start_time": "2024-09-05T13:41:45.538Z"
   },
   {
    "duration": 6,
    "start_time": "2024-09-05T13:41:45.801Z"
   },
   {
    "duration": 9,
    "start_time": "2024-09-05T13:41:45.809Z"
   },
   {
    "duration": 9,
    "start_time": "2024-09-05T13:41:45.819Z"
   },
   {
    "duration": 35,
    "start_time": "2024-09-05T13:41:45.829Z"
   },
   {
    "duration": 11,
    "start_time": "2024-09-05T13:41:45.865Z"
   },
   {
    "duration": 22,
    "start_time": "2024-09-05T13:41:45.878Z"
   },
   {
    "duration": 23,
    "start_time": "2024-09-05T13:41:45.902Z"
   },
   {
    "duration": 35,
    "start_time": "2024-09-05T13:41:45.928Z"
   },
   {
    "duration": 14,
    "start_time": "2024-09-05T13:41:45.965Z"
   },
   {
    "duration": 10,
    "start_time": "2024-09-05T13:41:45.981Z"
   },
   {
    "duration": 11,
    "start_time": "2024-09-05T13:41:45.993Z"
   },
   {
    "duration": 159,
    "start_time": "2024-09-05T13:43:59.044Z"
   },
   {
    "duration": 2995,
    "start_time": "2024-09-05T13:44:06.364Z"
   },
   {
    "duration": 2,
    "start_time": "2024-09-05T13:46:03.450Z"
   },
   {
    "duration": 70,
    "start_time": "2024-09-05T13:46:03.454Z"
   },
   {
    "duration": 32,
    "start_time": "2024-09-05T13:46:03.526Z"
   },
   {
    "duration": 36,
    "start_time": "2024-09-05T13:46:03.560Z"
   },
   {
    "duration": 14,
    "start_time": "2024-09-05T13:46:03.598Z"
   },
   {
    "duration": 48,
    "start_time": "2024-09-05T13:46:03.614Z"
   },
   {
    "duration": 58,
    "start_time": "2024-09-05T13:46:03.663Z"
   },
   {
    "duration": 9,
    "start_time": "2024-09-05T13:46:03.722Z"
   },
   {
    "duration": 36,
    "start_time": "2024-09-05T13:46:03.733Z"
   },
   {
    "duration": 30,
    "start_time": "2024-09-05T13:46:03.771Z"
   },
   {
    "duration": 9,
    "start_time": "2024-09-05T13:46:03.802Z"
   },
   {
    "duration": 46,
    "start_time": "2024-09-05T13:46:03.813Z"
   },
   {
    "duration": 167,
    "start_time": "2024-09-05T13:46:03.860Z"
   },
   {
    "duration": 120,
    "start_time": "2024-09-05T13:46:04.029Z"
   },
   {
    "duration": 8,
    "start_time": "2024-09-05T13:46:04.157Z"
   },
   {
    "duration": 191,
    "start_time": "2024-09-05T13:46:04.167Z"
   },
   {
    "duration": 368,
    "start_time": "2024-09-05T13:46:04.360Z"
   },
   {
    "duration": 389,
    "start_time": "2024-09-05T13:46:04.730Z"
   },
   {
    "duration": 43,
    "start_time": "2024-09-05T13:46:05.121Z"
   },
   {
    "duration": 31,
    "start_time": "2024-09-05T13:46:05.166Z"
   },
   {
    "duration": 37,
    "start_time": "2024-09-05T13:46:05.199Z"
   },
   {
    "duration": 56,
    "start_time": "2024-09-05T13:46:05.237Z"
   },
   {
    "duration": 357,
    "start_time": "2024-09-05T13:46:05.294Z"
   },
   {
    "duration": 337,
    "start_time": "2024-09-05T13:46:05.661Z"
   },
   {
    "duration": 342,
    "start_time": "2024-09-05T13:46:06.000Z"
   },
   {
    "duration": 382,
    "start_time": "2024-09-05T13:46:06.345Z"
   },
   {
    "duration": 50,
    "start_time": "2024-09-05T13:46:06.730Z"
   },
   {
    "duration": 3,
    "start_time": "2024-09-05T13:46:06.782Z"
   },
   {
    "duration": 512,
    "start_time": "2024-09-05T13:46:06.787Z"
   },
   {
    "duration": 6,
    "start_time": "2024-09-05T13:46:07.301Z"
   },
   {
    "duration": 32,
    "start_time": "2024-09-05T13:46:07.308Z"
   },
   {
    "duration": 30,
    "start_time": "2024-09-05T13:46:07.342Z"
   },
   {
    "duration": 24,
    "start_time": "2024-09-05T13:46:07.374Z"
   },
   {
    "duration": 13,
    "start_time": "2024-09-05T13:46:07.400Z"
   },
   {
    "duration": 65,
    "start_time": "2024-09-05T13:46:07.415Z"
   },
   {
    "duration": 21,
    "start_time": "2024-09-05T13:46:07.482Z"
   },
   {
    "duration": 52,
    "start_time": "2024-09-05T13:46:07.504Z"
   },
   {
    "duration": 11,
    "start_time": "2024-09-05T13:46:07.564Z"
   },
   {
    "duration": 7,
    "start_time": "2024-09-05T13:46:07.577Z"
   },
   {
    "duration": 21,
    "start_time": "2024-09-05T13:46:07.586Z"
   },
   {
    "duration": 189,
    "start_time": "2024-09-05T13:46:07.609Z"
   },
   {
    "duration": 37290,
    "start_time": "2024-09-05T13:46:07.800Z"
   },
   {
    "duration": 7,
    "start_time": "2024-09-05T13:47:54.152Z"
   },
   {
    "duration": 93,
    "start_time": "2024-09-05T13:47:54.161Z"
   },
   {
    "duration": 21,
    "start_time": "2024-09-05T13:47:54.256Z"
   },
   {
    "duration": 21,
    "start_time": "2024-09-05T13:47:54.279Z"
   },
   {
    "duration": 18,
    "start_time": "2024-09-05T13:47:54.302Z"
   },
   {
    "duration": 50,
    "start_time": "2024-09-05T13:47:54.322Z"
   },
   {
    "duration": 21,
    "start_time": "2024-09-05T13:47:54.374Z"
   },
   {
    "duration": 10,
    "start_time": "2024-09-05T13:47:54.397Z"
   },
   {
    "duration": 24,
    "start_time": "2024-09-05T13:47:54.409Z"
   },
   {
    "duration": 37,
    "start_time": "2024-09-05T13:47:54.435Z"
   },
   {
    "duration": 4,
    "start_time": "2024-09-05T13:47:54.474Z"
   },
   {
    "duration": 8,
    "start_time": "2024-09-05T13:47:54.480Z"
   },
   {
    "duration": 179,
    "start_time": "2024-09-05T13:47:54.490Z"
   },
   {
    "duration": 121,
    "start_time": "2024-09-05T13:47:54.672Z"
   },
   {
    "duration": 4,
    "start_time": "2024-09-05T13:47:54.795Z"
   },
   {
    "duration": 205,
    "start_time": "2024-09-05T13:47:54.800Z"
   },
   {
    "duration": 352,
    "start_time": "2024-09-05T13:47:55.007Z"
   },
   {
    "duration": 348,
    "start_time": "2024-09-05T13:47:55.361Z"
   },
   {
    "duration": 43,
    "start_time": "2024-09-05T13:47:55.711Z"
   },
   {
    "duration": 29,
    "start_time": "2024-09-05T13:47:55.760Z"
   },
   {
    "duration": 21,
    "start_time": "2024-09-05T13:47:55.790Z"
   },
   {
    "duration": 44,
    "start_time": "2024-09-05T13:47:55.813Z"
   },
   {
    "duration": 389,
    "start_time": "2024-09-05T13:47:55.861Z"
   },
   {
    "duration": 363,
    "start_time": "2024-09-05T13:47:56.252Z"
   },
   {
    "duration": 346,
    "start_time": "2024-09-05T13:47:56.617Z"
   },
   {
    "duration": 340,
    "start_time": "2024-09-05T13:47:56.964Z"
   },
   {
    "duration": 59,
    "start_time": "2024-09-05T13:47:57.306Z"
   },
   {
    "duration": 3,
    "start_time": "2024-09-05T13:47:57.366Z"
   },
   {
    "duration": 534,
    "start_time": "2024-09-05T13:47:57.371Z"
   },
   {
    "duration": 7,
    "start_time": "2024-09-05T13:47:57.907Z"
   },
   {
    "duration": 8,
    "start_time": "2024-09-05T13:47:57.915Z"
   },
   {
    "duration": 27,
    "start_time": "2024-09-05T13:47:57.924Z"
   },
   {
    "duration": 8,
    "start_time": "2024-09-05T13:47:57.960Z"
   },
   {
    "duration": 6,
    "start_time": "2024-09-05T13:47:57.970Z"
   },
   {
    "duration": 8,
    "start_time": "2024-09-05T13:47:57.978Z"
   },
   {
    "duration": 10,
    "start_time": "2024-09-05T13:47:57.988Z"
   },
   {
    "duration": 3,
    "start_time": "2024-09-05T13:47:58.000Z"
   },
   {
    "duration": 9,
    "start_time": "2024-09-05T13:47:58.005Z"
   },
   {
    "duration": 43,
    "start_time": "2024-09-05T13:47:58.016Z"
   },
   {
    "duration": 12,
    "start_time": "2024-09-05T13:47:58.061Z"
   },
   {
    "duration": 184,
    "start_time": "2024-09-05T13:47:58.078Z"
   },
   {
    "duration": 166,
    "start_time": "2024-09-05T13:47:58.264Z"
   },
   {
    "duration": 3,
    "start_time": "2024-09-05T13:48:19.733Z"
   },
   {
    "duration": 103,
    "start_time": "2024-09-05T13:48:19.738Z"
   },
   {
    "duration": 32,
    "start_time": "2024-09-05T13:48:19.843Z"
   },
   {
    "duration": 26,
    "start_time": "2024-09-05T13:48:19.877Z"
   },
   {
    "duration": 18,
    "start_time": "2024-09-05T13:48:19.905Z"
   },
   {
    "duration": 25,
    "start_time": "2024-09-05T13:48:19.924Z"
   },
   {
    "duration": 21,
    "start_time": "2024-09-05T13:48:19.957Z"
   },
   {
    "duration": 9,
    "start_time": "2024-09-05T13:48:19.979Z"
   },
   {
    "duration": 6,
    "start_time": "2024-09-05T13:48:19.990Z"
   },
   {
    "duration": 44,
    "start_time": "2024-09-05T13:48:19.997Z"
   },
   {
    "duration": 9,
    "start_time": "2024-09-05T13:48:20.044Z"
   },
   {
    "duration": 19,
    "start_time": "2024-09-05T13:48:20.055Z"
   },
   {
    "duration": 173,
    "start_time": "2024-09-05T13:48:20.077Z"
   },
   {
    "duration": 110,
    "start_time": "2024-09-05T13:48:20.252Z"
   },
   {
    "duration": 5,
    "start_time": "2024-09-05T13:48:20.364Z"
   },
   {
    "duration": 224,
    "start_time": "2024-09-05T13:48:20.371Z"
   },
   {
    "duration": 330,
    "start_time": "2024-09-05T13:48:20.597Z"
   },
   {
    "duration": 370,
    "start_time": "2024-09-05T13:48:20.928Z"
   },
   {
    "duration": 25,
    "start_time": "2024-09-05T13:48:21.300Z"
   },
   {
    "duration": 50,
    "start_time": "2024-09-05T13:48:21.327Z"
   },
   {
    "duration": 33,
    "start_time": "2024-09-05T13:48:21.379Z"
   },
   {
    "duration": 49,
    "start_time": "2024-09-05T13:48:21.414Z"
   },
   {
    "duration": 391,
    "start_time": "2024-09-05T13:48:21.465Z"
   },
   {
    "duration": 353,
    "start_time": "2024-09-05T13:48:21.859Z"
   },
   {
    "duration": 333,
    "start_time": "2024-09-05T13:48:22.213Z"
   },
   {
    "duration": 733,
    "start_time": "2024-09-05T13:48:22.548Z"
   },
   {
    "duration": 39,
    "start_time": "2024-09-05T13:48:23.282Z"
   },
   {
    "duration": 3,
    "start_time": "2024-09-05T13:48:23.322Z"
   },
   {
    "duration": 242,
    "start_time": "2024-09-05T13:48:23.328Z"
   },
   {
    "duration": 7,
    "start_time": "2024-09-05T13:48:23.572Z"
   },
   {
    "duration": 6,
    "start_time": "2024-09-05T13:48:23.580Z"
   },
   {
    "duration": 5,
    "start_time": "2024-09-05T13:48:23.588Z"
   },
   {
    "duration": 7,
    "start_time": "2024-09-05T13:48:23.594Z"
   },
   {
    "duration": 5,
    "start_time": "2024-09-05T13:48:23.602Z"
   },
   {
    "duration": 10,
    "start_time": "2024-09-05T13:48:23.656Z"
   },
   {
    "duration": 11,
    "start_time": "2024-09-05T13:48:23.668Z"
   },
   {
    "duration": 4,
    "start_time": "2024-09-05T13:48:23.680Z"
   },
   {
    "duration": 6,
    "start_time": "2024-09-05T13:48:23.685Z"
   },
   {
    "duration": 9,
    "start_time": "2024-09-05T13:48:23.693Z"
   },
   {
    "duration": 6,
    "start_time": "2024-09-05T13:48:23.704Z"
   },
   {
    "duration": 213,
    "start_time": "2024-09-05T13:48:23.712Z"
   },
   {
    "duration": 187,
    "start_time": "2024-09-05T13:48:23.927Z"
   },
   {
    "duration": 3,
    "start_time": "2024-09-05T13:49:56.335Z"
   },
   {
    "duration": 101,
    "start_time": "2024-09-05T13:49:56.339Z"
   },
   {
    "duration": 32,
    "start_time": "2024-09-05T13:49:56.441Z"
   },
   {
    "duration": 24,
    "start_time": "2024-09-05T13:49:56.475Z"
   },
   {
    "duration": 15,
    "start_time": "2024-09-05T13:49:56.501Z"
   },
   {
    "duration": 13,
    "start_time": "2024-09-05T13:49:56.517Z"
   },
   {
    "duration": 45,
    "start_time": "2024-09-05T13:49:56.531Z"
   },
   {
    "duration": 8,
    "start_time": "2024-09-05T13:49:56.578Z"
   },
   {
    "duration": 18,
    "start_time": "2024-09-05T13:49:56.589Z"
   },
   {
    "duration": 18,
    "start_time": "2024-09-05T13:49:56.609Z"
   },
   {
    "duration": 4,
    "start_time": "2024-09-05T13:49:56.629Z"
   },
   {
    "duration": 24,
    "start_time": "2024-09-05T13:49:56.635Z"
   },
   {
    "duration": 161,
    "start_time": "2024-09-05T13:49:56.663Z"
   },
   {
    "duration": 135,
    "start_time": "2024-09-05T13:49:56.825Z"
   },
   {
    "duration": 5,
    "start_time": "2024-09-05T13:49:56.962Z"
   },
   {
    "duration": 182,
    "start_time": "2024-09-05T13:49:56.969Z"
   },
   {
    "duration": 355,
    "start_time": "2024-09-05T13:49:57.153Z"
   },
   {
    "duration": 406,
    "start_time": "2024-09-05T13:49:57.510Z"
   },
   {
    "duration": 42,
    "start_time": "2024-09-05T13:49:57.918Z"
   },
   {
    "duration": 28,
    "start_time": "2024-09-05T13:49:57.962Z"
   },
   {
    "duration": 21,
    "start_time": "2024-09-05T13:49:57.991Z"
   },
   {
    "duration": 43,
    "start_time": "2024-09-05T13:49:58.014Z"
   },
   {
    "duration": 346,
    "start_time": "2024-09-05T13:49:58.059Z"
   },
   {
    "duration": 599,
    "start_time": "2024-09-05T13:49:58.409Z"
   },
   {
    "duration": 353,
    "start_time": "2024-09-05T13:49:59.010Z"
   },
   {
    "duration": 357,
    "start_time": "2024-09-05T13:49:59.365Z"
   },
   {
    "duration": 57,
    "start_time": "2024-09-05T13:49:59.723Z"
   },
   {
    "duration": 3,
    "start_time": "2024-09-05T13:49:59.781Z"
   },
   {
    "duration": 223,
    "start_time": "2024-09-05T13:49:59.786Z"
   },
   {
    "duration": 6,
    "start_time": "2024-09-05T13:50:00.011Z"
   },
   {
    "duration": 67,
    "start_time": "2024-09-05T13:50:00.018Z"
   },
   {
    "duration": 50,
    "start_time": "2024-09-05T13:50:00.086Z"
   },
   {
    "duration": 70,
    "start_time": "2024-09-05T13:50:00.137Z"
   },
   {
    "duration": 52,
    "start_time": "2024-09-05T13:50:00.208Z"
   },
   {
    "duration": 59,
    "start_time": "2024-09-05T13:50:00.261Z"
   },
   {
    "duration": 67,
    "start_time": "2024-09-05T13:50:00.321Z"
   },
   {
    "duration": 65,
    "start_time": "2024-09-05T13:50:00.390Z"
   },
   {
    "duration": 52,
    "start_time": "2024-09-05T13:50:00.457Z"
   },
   {
    "duration": 58,
    "start_time": "2024-09-05T13:50:00.511Z"
   },
   {
    "duration": 17,
    "start_time": "2024-09-05T13:50:00.571Z"
   },
   {
    "duration": 274,
    "start_time": "2024-09-05T13:50:00.590Z"
   },
   {
    "duration": 177,
    "start_time": "2024-09-05T13:50:00.866Z"
   },
   {
    "duration": 4,
    "start_time": "2024-09-05T14:11:24.221Z"
   },
   {
    "duration": 120,
    "start_time": "2024-09-05T14:11:24.241Z"
   },
   {
    "duration": 22,
    "start_time": "2024-09-05T14:11:24.363Z"
   },
   {
    "duration": 20,
    "start_time": "2024-09-05T14:11:24.387Z"
   },
   {
    "duration": 16,
    "start_time": "2024-09-05T14:11:24.409Z"
   },
   {
    "duration": 14,
    "start_time": "2024-09-05T14:11:24.449Z"
   },
   {
    "duration": 46,
    "start_time": "2024-09-05T14:11:24.467Z"
   },
   {
    "duration": 10,
    "start_time": "2024-09-05T14:11:24.515Z"
   },
   {
    "duration": 7,
    "start_time": "2024-09-05T14:11:24.527Z"
   },
   {
    "duration": 29,
    "start_time": "2024-09-05T14:11:24.535Z"
   },
   {
    "duration": 5,
    "start_time": "2024-09-05T14:11:24.566Z"
   },
   {
    "duration": 15,
    "start_time": "2024-09-05T14:11:24.573Z"
   },
   {
    "duration": 188,
    "start_time": "2024-09-05T14:11:24.590Z"
   },
   {
    "duration": 115,
    "start_time": "2024-09-05T14:11:24.779Z"
   },
   {
    "duration": 4,
    "start_time": "2024-09-05T14:11:24.897Z"
   },
   {
    "duration": 194,
    "start_time": "2024-09-05T14:11:24.903Z"
   },
   {
    "duration": 602,
    "start_time": "2024-09-05T14:11:25.098Z"
   },
   {
    "duration": 402,
    "start_time": "2024-09-05T14:11:25.702Z"
   },
   {
    "duration": 24,
    "start_time": "2024-09-05T14:11:26.106Z"
   },
   {
    "duration": 75,
    "start_time": "2024-09-05T14:11:26.132Z"
   },
   {
    "duration": 57,
    "start_time": "2024-09-05T14:11:26.209Z"
   },
   {
    "duration": 20,
    "start_time": "2024-09-05T14:11:26.268Z"
   },
   {
    "duration": 422,
    "start_time": "2024-09-05T14:11:26.290Z"
   },
   {
    "duration": 369,
    "start_time": "2024-09-05T14:11:26.714Z"
   },
   {
    "duration": 353,
    "start_time": "2024-09-05T14:11:27.085Z"
   },
   {
    "duration": 628,
    "start_time": "2024-09-05T14:11:27.439Z"
   },
   {
    "duration": 42,
    "start_time": "2024-09-05T14:11:28.069Z"
   },
   {
    "duration": 3,
    "start_time": "2024-09-05T14:11:28.112Z"
   },
   {
    "duration": 285,
    "start_time": "2024-09-05T14:11:28.117Z"
   },
   {
    "duration": 8,
    "start_time": "2024-09-05T14:11:28.404Z"
   },
   {
    "duration": 30,
    "start_time": "2024-09-05T14:11:28.414Z"
   },
   {
    "duration": 28,
    "start_time": "2024-09-05T14:11:28.448Z"
   },
   {
    "duration": 26,
    "start_time": "2024-09-05T14:11:28.478Z"
   },
   {
    "duration": 33,
    "start_time": "2024-09-05T14:11:28.506Z"
   },
   {
    "duration": 38,
    "start_time": "2024-09-05T14:11:28.541Z"
   },
   {
    "duration": 28,
    "start_time": "2024-09-05T14:11:28.581Z"
   },
   {
    "duration": 37,
    "start_time": "2024-09-05T14:11:28.612Z"
   },
   {
    "duration": 28,
    "start_time": "2024-09-05T14:11:28.651Z"
   },
   {
    "duration": 27,
    "start_time": "2024-09-05T14:11:28.681Z"
   },
   {
    "duration": 24,
    "start_time": "2024-09-05T14:11:28.710Z"
   },
   {
    "duration": 176,
    "start_time": "2024-09-05T14:11:28.735Z"
   },
   {
    "duration": 184,
    "start_time": "2024-09-05T14:11:28.915Z"
   },
   {
    "duration": 1034,
    "start_time": "2024-09-05T14:42:14.718Z"
   },
   {
    "duration": 390,
    "start_time": "2024-09-05T14:42:15.754Z"
   },
   {
    "duration": 23,
    "start_time": "2024-09-05T14:42:16.146Z"
   },
   {
    "duration": 31,
    "start_time": "2024-09-05T14:42:16.172Z"
   },
   {
    "duration": 14,
    "start_time": "2024-09-05T14:42:16.205Z"
   },
   {
    "duration": 8,
    "start_time": "2024-09-05T14:42:16.220Z"
   },
   {
    "duration": 17,
    "start_time": "2024-09-05T14:42:16.230Z"
   },
   {
    "duration": 41,
    "start_time": "2024-09-05T14:42:16.249Z"
   },
   {
    "duration": 7,
    "start_time": "2024-09-05T14:42:16.292Z"
   },
   {
    "duration": 23,
    "start_time": "2024-09-05T14:42:16.302Z"
   },
   {
    "duration": 16,
    "start_time": "2024-09-05T14:42:16.327Z"
   },
   {
    "duration": 19,
    "start_time": "2024-09-05T14:42:16.344Z"
   },
   {
    "duration": 170,
    "start_time": "2024-09-05T14:42:16.365Z"
   },
   {
    "duration": 109,
    "start_time": "2024-09-05T14:42:16.537Z"
   },
   {
    "duration": 4,
    "start_time": "2024-09-05T14:42:16.648Z"
   },
   {
    "duration": 171,
    "start_time": "2024-09-05T14:42:16.654Z"
   },
   {
    "duration": 310,
    "start_time": "2024-09-05T14:42:16.827Z"
   },
   {
    "duration": 331,
    "start_time": "2024-09-05T14:42:17.139Z"
   },
   {
    "duration": 35,
    "start_time": "2024-09-05T14:42:17.471Z"
   },
   {
    "duration": 26,
    "start_time": "2024-09-05T14:42:17.507Z"
   },
   {
    "duration": 19,
    "start_time": "2024-09-05T14:42:17.534Z"
   },
   {
    "duration": 105,
    "start_time": "2024-09-05T14:42:17.555Z"
   },
   {
    "duration": 322,
    "start_time": "2024-09-05T14:42:17.662Z"
   },
   {
    "duration": 329,
    "start_time": "2024-09-05T14:42:17.989Z"
   },
   {
    "duration": 307,
    "start_time": "2024-09-05T14:42:18.319Z"
   },
   {
    "duration": 319,
    "start_time": "2024-09-05T14:42:18.628Z"
   },
   {
    "duration": 121,
    "start_time": "2024-09-05T14:42:18.949Z"
   },
   {
    "duration": 3,
    "start_time": "2024-09-05T14:42:19.072Z"
   },
   {
    "duration": 201,
    "start_time": "2024-09-05T14:42:19.077Z"
   },
   {
    "duration": 14,
    "start_time": "2024-09-05T14:42:19.280Z"
   },
   {
    "duration": 10,
    "start_time": "2024-09-05T14:42:19.296Z"
   },
   {
    "duration": 6,
    "start_time": "2024-09-05T14:42:19.307Z"
   },
   {
    "duration": 14,
    "start_time": "2024-09-05T14:42:19.315Z"
   },
   {
    "duration": 4,
    "start_time": "2024-09-05T14:42:19.331Z"
   },
   {
    "duration": 8,
    "start_time": "2024-09-05T14:42:19.337Z"
   },
   {
    "duration": 43,
    "start_time": "2024-09-05T14:42:19.347Z"
   },
   {
    "duration": 3,
    "start_time": "2024-09-05T14:42:19.391Z"
   },
   {
    "duration": 7,
    "start_time": "2024-09-05T14:42:19.396Z"
   },
   {
    "duration": 6,
    "start_time": "2024-09-05T14:42:19.404Z"
   },
   {
    "duration": 6,
    "start_time": "2024-09-05T14:42:19.411Z"
   },
   {
    "duration": 172,
    "start_time": "2024-09-05T14:42:19.418Z"
   },
   {
    "duration": 163,
    "start_time": "2024-09-05T14:42:19.591Z"
   },
   {
    "duration": 10,
    "start_time": "2024-09-05T14:56:18.431Z"
   },
   {
    "duration": 1070,
    "start_time": "2024-09-05T14:59:52.201Z"
   },
   {
    "duration": 79,
    "start_time": "2024-09-05T14:59:53.273Z"
   },
   {
    "duration": 23,
    "start_time": "2024-09-05T14:59:53.354Z"
   },
   {
    "duration": 28,
    "start_time": "2024-09-05T14:59:53.378Z"
   },
   {
    "duration": 12,
    "start_time": "2024-09-05T14:59:53.408Z"
   },
   {
    "duration": 21,
    "start_time": "2024-09-05T14:59:53.421Z"
   },
   {
    "duration": 21,
    "start_time": "2024-09-05T14:59:53.444Z"
   },
   {
    "duration": 12,
    "start_time": "2024-09-05T14:59:53.466Z"
   },
   {
    "duration": 33,
    "start_time": "2024-09-05T14:59:53.480Z"
   },
   {
    "duration": 18,
    "start_time": "2024-09-05T14:59:53.514Z"
   },
   {
    "duration": 16,
    "start_time": "2024-09-05T14:59:53.533Z"
   },
   {
    "duration": 34,
    "start_time": "2024-09-05T14:59:53.550Z"
   },
   {
    "duration": 173,
    "start_time": "2024-09-05T14:59:53.586Z"
   },
   {
    "duration": 97,
    "start_time": "2024-09-05T14:59:53.761Z"
   },
   {
    "duration": 5,
    "start_time": "2024-09-05T14:59:53.860Z"
   },
   {
    "duration": 263,
    "start_time": "2024-09-05T14:59:53.867Z"
   },
   {
    "duration": 345,
    "start_time": "2024-09-05T14:59:54.132Z"
   },
   {
    "duration": 321,
    "start_time": "2024-09-05T14:59:54.479Z"
   },
   {
    "duration": 23,
    "start_time": "2024-09-05T14:59:54.801Z"
   },
   {
    "duration": 27,
    "start_time": "2024-09-05T14:59:54.825Z"
   },
   {
    "duration": 41,
    "start_time": "2024-09-05T14:59:54.854Z"
   },
   {
    "duration": 98,
    "start_time": "2024-09-05T14:59:54.896Z"
   },
   {
    "duration": 325,
    "start_time": "2024-09-05T14:59:54.996Z"
   },
   {
    "duration": 309,
    "start_time": "2024-09-05T14:59:55.322Z"
   },
   {
    "duration": 312,
    "start_time": "2024-09-05T14:59:55.632Z"
   },
   {
    "duration": 324,
    "start_time": "2024-09-05T14:59:55.946Z"
   },
   {
    "duration": 133,
    "start_time": "2024-09-05T14:59:56.271Z"
   },
   {
    "duration": 2,
    "start_time": "2024-09-05T14:59:56.406Z"
   },
   {
    "duration": 203,
    "start_time": "2024-09-05T14:59:56.410Z"
   },
   {
    "duration": 7,
    "start_time": "2024-09-05T14:59:56.614Z"
   },
   {
    "duration": 32,
    "start_time": "2024-09-05T14:59:56.622Z"
   },
   {
    "duration": 20,
    "start_time": "2024-09-05T14:59:56.656Z"
   },
   {
    "duration": 28,
    "start_time": "2024-09-05T14:59:56.678Z"
   },
   {
    "duration": 9,
    "start_time": "2024-09-05T14:59:56.708Z"
   },
   {
    "duration": 22,
    "start_time": "2024-09-05T14:59:56.719Z"
   },
   {
    "duration": 33,
    "start_time": "2024-09-05T14:59:56.742Z"
   },
   {
    "duration": 26,
    "start_time": "2024-09-05T14:59:56.777Z"
   },
   {
    "duration": 11,
    "start_time": "2024-09-05T14:59:56.804Z"
   },
   {
    "duration": 8,
    "start_time": "2024-09-05T14:59:56.816Z"
   },
   {
    "duration": 24,
    "start_time": "2024-09-05T14:59:56.825Z"
   },
   {
    "duration": 167,
    "start_time": "2024-09-05T14:59:56.853Z"
   },
   {
    "duration": 158,
    "start_time": "2024-09-05T14:59:57.022Z"
   },
   {
    "duration": 1090,
    "start_time": "2024-09-05T15:00:57.554Z"
   },
   {
    "duration": 79,
    "start_time": "2024-09-05T15:00:58.646Z"
   },
   {
    "duration": 25,
    "start_time": "2024-09-05T15:00:58.726Z"
   },
   {
    "duration": 19,
    "start_time": "2024-09-05T15:00:58.753Z"
   },
   {
    "duration": 18,
    "start_time": "2024-09-05T15:00:58.773Z"
   },
   {
    "duration": 8,
    "start_time": "2024-09-05T15:00:58.792Z"
   },
   {
    "duration": 20,
    "start_time": "2024-09-05T15:00:58.801Z"
   },
   {
    "duration": 8,
    "start_time": "2024-09-05T15:00:58.822Z"
   },
   {
    "duration": 11,
    "start_time": "2024-09-05T15:00:58.832Z"
   },
   {
    "duration": 17,
    "start_time": "2024-09-05T15:00:58.846Z"
   },
   {
    "duration": 4,
    "start_time": "2024-09-05T15:00:58.889Z"
   },
   {
    "duration": 30,
    "start_time": "2024-09-05T15:00:58.895Z"
   },
   {
    "duration": 150,
    "start_time": "2024-09-05T15:00:58.927Z"
   },
   {
    "duration": 115,
    "start_time": "2024-09-05T15:00:59.079Z"
   },
   {
    "duration": 3,
    "start_time": "2024-09-05T15:00:59.196Z"
   },
   {
    "duration": 170,
    "start_time": "2024-09-05T15:00:59.201Z"
   },
   {
    "duration": 316,
    "start_time": "2024-09-05T15:00:59.373Z"
   },
   {
    "duration": 320,
    "start_time": "2024-09-05T15:00:59.691Z"
   },
   {
    "duration": 24,
    "start_time": "2024-09-05T15:01:00.013Z"
   },
   {
    "duration": 38,
    "start_time": "2024-09-05T15:01:00.038Z"
   },
   {
    "duration": 34,
    "start_time": "2024-09-05T15:01:00.077Z"
   },
   {
    "duration": 130,
    "start_time": "2024-09-05T15:01:00.113Z"
   },
   {
    "duration": 346,
    "start_time": "2024-09-05T15:01:00.245Z"
   },
   {
    "duration": 325,
    "start_time": "2024-09-05T15:01:00.593Z"
   },
   {
    "duration": 306,
    "start_time": "2024-09-05T15:01:00.920Z"
   },
   {
    "duration": 316,
    "start_time": "2024-09-05T15:01:01.228Z"
   },
   {
    "duration": 136,
    "start_time": "2024-09-05T15:01:01.546Z"
   },
   {
    "duration": 5,
    "start_time": "2024-09-05T15:01:01.685Z"
   },
   {
    "duration": 232,
    "start_time": "2024-09-05T15:01:01.691Z"
   },
   {
    "duration": 6,
    "start_time": "2024-09-05T15:01:01.925Z"
   },
   {
    "duration": 5,
    "start_time": "2024-09-05T15:01:01.932Z"
   },
   {
    "duration": 10,
    "start_time": "2024-09-05T15:01:01.939Z"
   },
   {
    "duration": 6,
    "start_time": "2024-09-05T15:01:01.950Z"
   },
   {
    "duration": 42,
    "start_time": "2024-09-05T15:01:01.957Z"
   },
   {
    "duration": 34,
    "start_time": "2024-09-05T15:01:02.000Z"
   },
   {
    "duration": 16,
    "start_time": "2024-09-05T15:01:02.035Z"
   },
   {
    "duration": 18,
    "start_time": "2024-09-05T15:01:02.053Z"
   },
   {
    "duration": 21,
    "start_time": "2024-09-05T15:01:02.073Z"
   },
   {
    "duration": 18,
    "start_time": "2024-09-05T15:01:02.095Z"
   },
   {
    "duration": 29,
    "start_time": "2024-09-05T15:01:02.114Z"
   },
   {
    "duration": 145,
    "start_time": "2024-09-05T15:01:02.144Z"
   },
   {
    "duration": 176,
    "start_time": "2024-09-05T15:01:02.291Z"
   },
   {
    "duration": 49,
    "start_time": "2024-09-05T16:48:45.013Z"
   },
   {
    "duration": 1245,
    "start_time": "2024-09-05T16:48:50.758Z"
   },
   {
    "duration": 366,
    "start_time": "2024-09-05T16:48:52.005Z"
   },
   {
    "duration": 25,
    "start_time": "2024-09-05T16:48:52.373Z"
   },
   {
    "duration": 19,
    "start_time": "2024-09-05T16:48:52.400Z"
   },
   {
    "duration": 14,
    "start_time": "2024-09-05T16:48:52.421Z"
   },
   {
    "duration": 22,
    "start_time": "2024-09-05T16:48:52.436Z"
   },
   {
    "duration": 38,
    "start_time": "2024-09-05T16:48:52.460Z"
   },
   {
    "duration": 35,
    "start_time": "2024-09-05T16:48:52.499Z"
   },
   {
    "duration": 9,
    "start_time": "2024-09-05T16:48:52.536Z"
   },
   {
    "duration": 41,
    "start_time": "2024-09-05T16:48:52.547Z"
   },
   {
    "duration": 54,
    "start_time": "2024-09-05T16:48:52.590Z"
   },
   {
    "duration": 4,
    "start_time": "2024-09-05T16:48:52.646Z"
   },
   {
    "duration": 17,
    "start_time": "2024-09-05T16:48:52.651Z"
   },
   {
    "duration": 166,
    "start_time": "2024-09-05T16:48:52.669Z"
   },
   {
    "duration": 118,
    "start_time": "2024-09-05T16:48:52.836Z"
   },
   {
    "duration": 4,
    "start_time": "2024-09-05T16:48:52.956Z"
   },
   {
    "duration": 177,
    "start_time": "2024-09-05T16:48:52.961Z"
   },
   {
    "duration": 401,
    "start_time": "2024-09-05T16:48:53.139Z"
   },
   {
    "duration": 339,
    "start_time": "2024-09-05T16:48:53.541Z"
   },
   {
    "duration": 33,
    "start_time": "2024-09-05T16:48:53.882Z"
   },
   {
    "duration": 30,
    "start_time": "2024-09-05T16:48:53.917Z"
   },
   {
    "duration": 22,
    "start_time": "2024-09-05T16:48:53.949Z"
   },
   {
    "duration": 43,
    "start_time": "2024-09-05T16:48:53.973Z"
   },
   {
    "duration": 358,
    "start_time": "2024-09-05T16:48:54.018Z"
   },
   {
    "duration": 346,
    "start_time": "2024-09-05T16:48:54.377Z"
   },
   {
    "duration": 421,
    "start_time": "2024-09-05T16:48:54.725Z"
   },
   {
    "duration": 334,
    "start_time": "2024-09-05T16:48:55.147Z"
   },
   {
    "duration": 48,
    "start_time": "2024-09-05T16:48:55.485Z"
   },
   {
    "duration": 3,
    "start_time": "2024-09-05T16:48:55.535Z"
   },
   {
    "duration": 269,
    "start_time": "2024-09-05T16:48:55.539Z"
   },
   {
    "duration": 7,
    "start_time": "2024-09-05T16:48:55.810Z"
   },
   {
    "duration": 6,
    "start_time": "2024-09-05T16:48:55.818Z"
   },
   {
    "duration": 13,
    "start_time": "2024-09-05T16:48:55.825Z"
   },
   {
    "duration": 31,
    "start_time": "2024-09-05T16:48:55.839Z"
   },
   {
    "duration": 13,
    "start_time": "2024-09-05T16:48:55.871Z"
   },
   {
    "duration": 7,
    "start_time": "2024-09-05T16:48:55.886Z"
   },
   {
    "duration": 9,
    "start_time": "2024-09-05T16:48:55.894Z"
   },
   {
    "duration": 4,
    "start_time": "2024-09-05T16:48:55.905Z"
   },
   {
    "duration": 34,
    "start_time": "2024-09-05T16:48:55.911Z"
   },
   {
    "duration": 13,
    "start_time": "2024-09-05T16:48:55.947Z"
   },
   {
    "duration": 7,
    "start_time": "2024-09-05T16:48:55.961Z"
   },
   {
    "duration": 153,
    "start_time": "2024-09-05T16:48:55.970Z"
   },
   {
    "duration": 173,
    "start_time": "2024-09-05T16:48:56.125Z"
   },
   {
    "duration": 55,
    "start_time": "2024-09-05T16:56:49.270Z"
   },
   {
    "duration": 66,
    "start_time": "2024-09-05T17:01:20.899Z"
   },
   {
    "duration": 75,
    "start_time": "2024-09-05T17:01:20.967Z"
   },
   {
    "duration": 21,
    "start_time": "2024-09-05T17:01:21.044Z"
   },
   {
    "duration": 20,
    "start_time": "2024-09-05T17:01:21.067Z"
   },
   {
    "duration": 21,
    "start_time": "2024-09-05T17:01:21.088Z"
   },
   {
    "duration": 16,
    "start_time": "2024-09-05T17:01:21.111Z"
   },
   {
    "duration": 20,
    "start_time": "2024-09-05T17:01:21.129Z"
   },
   {
    "duration": 134,
    "start_time": "2024-09-05T17:01:21.150Z"
   },
   {
    "duration": 27,
    "start_time": "2024-09-05T17:01:21.286Z"
   },
   {
    "duration": 5,
    "start_time": "2024-09-05T17:01:21.316Z"
   },
   {
    "duration": 59,
    "start_time": "2024-09-05T17:01:21.323Z"
   },
   {
    "duration": 5,
    "start_time": "2024-09-05T17:01:21.383Z"
   },
   {
    "duration": 11,
    "start_time": "2024-09-05T17:01:21.389Z"
   },
   {
    "duration": 163,
    "start_time": "2024-09-05T17:01:21.401Z"
   },
   {
    "duration": 82,
    "start_time": "2024-09-05T17:01:21.565Z"
   },
   {
    "duration": 0,
    "start_time": "2024-09-05T17:01:21.649Z"
   },
   {
    "duration": 0,
    "start_time": "2024-09-05T17:01:21.650Z"
   },
   {
    "duration": 0,
    "start_time": "2024-09-05T17:01:21.651Z"
   },
   {
    "duration": 0,
    "start_time": "2024-09-05T17:01:21.652Z"
   },
   {
    "duration": 0,
    "start_time": "2024-09-05T17:01:21.653Z"
   },
   {
    "duration": 0,
    "start_time": "2024-09-05T17:01:21.655Z"
   },
   {
    "duration": 0,
    "start_time": "2024-09-05T17:01:21.656Z"
   },
   {
    "duration": 0,
    "start_time": "2024-09-05T17:01:21.657Z"
   },
   {
    "duration": 0,
    "start_time": "2024-09-05T17:01:21.658Z"
   },
   {
    "duration": 0,
    "start_time": "2024-09-05T17:01:21.659Z"
   },
   {
    "duration": 0,
    "start_time": "2024-09-05T17:01:21.659Z"
   },
   {
    "duration": 0,
    "start_time": "2024-09-05T17:01:21.661Z"
   },
   {
    "duration": 0,
    "start_time": "2024-09-05T17:01:21.661Z"
   },
   {
    "duration": 0,
    "start_time": "2024-09-05T17:01:21.663Z"
   },
   {
    "duration": 0,
    "start_time": "2024-09-05T17:01:21.663Z"
   },
   {
    "duration": 0,
    "start_time": "2024-09-05T17:01:21.665Z"
   },
   {
    "duration": 0,
    "start_time": "2024-09-05T17:01:21.666Z"
   },
   {
    "duration": 0,
    "start_time": "2024-09-05T17:01:21.667Z"
   },
   {
    "duration": 0,
    "start_time": "2024-09-05T17:01:21.698Z"
   },
   {
    "duration": 0,
    "start_time": "2024-09-05T17:01:21.699Z"
   },
   {
    "duration": 0,
    "start_time": "2024-09-05T17:01:21.700Z"
   },
   {
    "duration": 0,
    "start_time": "2024-09-05T17:01:21.701Z"
   },
   {
    "duration": 0,
    "start_time": "2024-09-05T17:01:21.703Z"
   },
   {
    "duration": 0,
    "start_time": "2024-09-05T17:01:21.704Z"
   },
   {
    "duration": 0,
    "start_time": "2024-09-05T17:01:21.705Z"
   },
   {
    "duration": 0,
    "start_time": "2024-09-05T17:01:21.706Z"
   },
   {
    "duration": 0,
    "start_time": "2024-09-05T17:01:21.707Z"
   },
   {
    "duration": 0,
    "start_time": "2024-09-05T17:01:21.708Z"
   },
   {
    "duration": 0,
    "start_time": "2024-09-05T17:01:21.710Z"
   },
   {
    "duration": 163,
    "start_time": "2024-09-05T17:07:22.727Z"
   },
   {
    "duration": 157,
    "start_time": "2024-09-05T17:07:43.697Z"
   },
   {
    "duration": 166,
    "start_time": "2024-09-05T17:08:48.441Z"
   },
   {
    "duration": 8,
    "start_time": "2024-09-05T17:09:58.678Z"
   },
   {
    "duration": 9,
    "start_time": "2024-09-05T17:10:12.137Z"
   },
   {
    "duration": 2181,
    "start_time": "2024-09-05T17:10:49.738Z"
   },
   {
    "duration": 2098,
    "start_time": "2024-09-05T17:11:01.664Z"
   },
   {
    "duration": 2415,
    "start_time": "2024-09-05T17:11:20.578Z"
   },
   {
    "duration": 2251,
    "start_time": "2024-09-05T17:12:11.297Z"
   },
   {
    "duration": 152,
    "start_time": "2024-09-05T17:13:16.770Z"
   },
   {
    "duration": 9,
    "start_time": "2024-09-05T17:13:46.831Z"
   },
   {
    "duration": 0,
    "start_time": "2024-09-05T17:13:46.841Z"
   },
   {
    "duration": 0,
    "start_time": "2024-09-05T17:13:46.843Z"
   },
   {
    "duration": 0,
    "start_time": "2024-09-05T17:13:46.844Z"
   },
   {
    "duration": 0,
    "start_time": "2024-09-05T17:13:46.846Z"
   },
   {
    "duration": 15,
    "start_time": "2024-09-05T17:13:46.848Z"
   },
   {
    "duration": 31,
    "start_time": "2024-09-05T17:13:46.864Z"
   },
   {
    "duration": 35,
    "start_time": "2024-09-05T17:13:46.897Z"
   },
   {
    "duration": 10,
    "start_time": "2024-09-05T17:13:46.934Z"
   },
   {
    "duration": 6,
    "start_time": "2024-09-05T17:13:46.946Z"
   },
   {
    "duration": 51,
    "start_time": "2024-09-05T17:13:46.953Z"
   },
   {
    "duration": 4,
    "start_time": "2024-09-05T17:13:47.006Z"
   },
   {
    "duration": 26,
    "start_time": "2024-09-05T17:13:47.011Z"
   },
   {
    "duration": 162,
    "start_time": "2024-09-05T17:13:47.038Z"
   },
   {
    "duration": 131,
    "start_time": "2024-09-05T17:13:47.202Z"
   },
   {
    "duration": 5,
    "start_time": "2024-09-05T17:13:47.334Z"
   },
   {
    "duration": 216,
    "start_time": "2024-09-05T17:13:47.342Z"
   },
   {
    "duration": 680,
    "start_time": "2024-09-05T17:13:47.560Z"
   },
   {
    "duration": 371,
    "start_time": "2024-09-05T17:13:48.242Z"
   },
   {
    "duration": 24,
    "start_time": "2024-09-05T17:13:48.615Z"
   },
   {
    "duration": 30,
    "start_time": "2024-09-05T17:13:48.641Z"
   },
   {
    "duration": 39,
    "start_time": "2024-09-05T17:13:48.672Z"
   },
   {
    "duration": 26,
    "start_time": "2024-09-05T17:13:48.713Z"
   },
   {
    "duration": 372,
    "start_time": "2024-09-05T17:13:48.741Z"
   },
   {
    "duration": 358,
    "start_time": "2024-09-05T17:13:49.115Z"
   },
   {
    "duration": 326,
    "start_time": "2024-09-05T17:13:49.474Z"
   },
   {
    "duration": 330,
    "start_time": "2024-09-05T17:13:49.801Z"
   },
   {
    "duration": 38,
    "start_time": "2024-09-05T17:13:50.133Z"
   },
   {
    "duration": 3,
    "start_time": "2024-09-05T17:13:50.172Z"
   },
   {
    "duration": 224,
    "start_time": "2024-09-05T17:13:50.176Z"
   },
   {
    "duration": 6,
    "start_time": "2024-09-05T17:13:50.402Z"
   },
   {
    "duration": 6,
    "start_time": "2024-09-05T17:13:50.409Z"
   },
   {
    "duration": 5,
    "start_time": "2024-09-05T17:13:50.416Z"
   },
   {
    "duration": 6,
    "start_time": "2024-09-05T17:13:50.423Z"
   },
   {
    "duration": 6,
    "start_time": "2024-09-05T17:13:50.430Z"
   },
   {
    "duration": 12,
    "start_time": "2024-09-05T17:13:50.437Z"
   },
   {
    "duration": 9,
    "start_time": "2024-09-05T17:13:50.451Z"
   },
   {
    "duration": 39,
    "start_time": "2024-09-05T17:13:50.461Z"
   },
   {
    "duration": 7,
    "start_time": "2024-09-05T17:13:50.502Z"
   },
   {
    "duration": 9,
    "start_time": "2024-09-05T17:13:50.511Z"
   },
   {
    "duration": 5,
    "start_time": "2024-09-05T17:13:50.524Z"
   },
   {
    "duration": 177,
    "start_time": "2024-09-05T17:13:50.530Z"
   },
   {
    "duration": 184,
    "start_time": "2024-09-05T17:13:50.709Z"
   },
   {
    "duration": 13,
    "start_time": "2024-09-05T17:14:32.646Z"
   },
   {
    "duration": 163,
    "start_time": "2024-09-05T17:14:49.064Z"
   },
   {
    "duration": 155,
    "start_time": "2024-09-05T17:16:05.799Z"
   },
   {
    "duration": 158,
    "start_time": "2024-09-05T17:17:42.786Z"
   },
   {
    "duration": 16,
    "start_time": "2024-09-05T17:21:01.975Z"
   },
   {
    "duration": 12,
    "start_time": "2024-09-05T17:23:02.122Z"
   },
   {
    "duration": 174,
    "start_time": "2024-09-05T17:23:23.579Z"
   },
   {
    "duration": 169,
    "start_time": "2024-09-05T17:24:09.525Z"
   },
   {
    "duration": 163,
    "start_time": "2024-09-05T17:24:25.434Z"
   },
   {
    "duration": 165,
    "start_time": "2024-09-05T17:24:31.615Z"
   },
   {
    "duration": 160,
    "start_time": "2024-09-05T17:34:28.150Z"
   },
   {
    "duration": 1011,
    "start_time": "2024-09-05T17:35:28.059Z"
   },
   {
    "duration": 12,
    "start_time": "2024-09-05T17:36:17.264Z"
   },
   {
    "duration": 17,
    "start_time": "2024-09-05T17:36:22.621Z"
   },
   {
    "duration": 18,
    "start_time": "2024-09-05T17:37:01.654Z"
   },
   {
    "duration": 778,
    "start_time": "2024-09-05T17:37:15.891Z"
   },
   {
    "duration": 797,
    "start_time": "2024-09-05T17:37:26.706Z"
   },
   {
    "duration": 17,
    "start_time": "2024-09-05T17:37:37.155Z"
   },
   {
    "duration": 10,
    "start_time": "2024-09-05T17:38:21.873Z"
   },
   {
    "duration": 13,
    "start_time": "2024-09-05T17:38:26.285Z"
   },
   {
    "duration": 1002,
    "start_time": "2024-09-05T17:39:16.508Z"
   },
   {
    "duration": 235,
    "start_time": "2024-09-05T17:40:07.453Z"
   },
   {
    "duration": 13,
    "start_time": "2024-09-05T17:40:23.193Z"
   },
   {
    "duration": 1474,
    "start_time": "2024-09-05T17:40:38.076Z"
   },
   {
    "duration": 193,
    "start_time": "2024-09-05T17:41:20.520Z"
   },
   {
    "duration": 21,
    "start_time": "2024-09-05T17:41:33.698Z"
   },
   {
    "duration": 0,
    "start_time": "2024-09-05T17:41:33.721Z"
   },
   {
    "duration": 0,
    "start_time": "2024-09-05T17:41:33.722Z"
   },
   {
    "duration": 0,
    "start_time": "2024-09-05T17:41:33.723Z"
   },
   {
    "duration": 0,
    "start_time": "2024-09-05T17:41:33.725Z"
   },
   {
    "duration": 0,
    "start_time": "2024-09-05T17:41:33.725Z"
   },
   {
    "duration": 0,
    "start_time": "2024-09-05T17:41:33.727Z"
   },
   {
    "duration": 0,
    "start_time": "2024-09-05T17:41:33.728Z"
   },
   {
    "duration": 0,
    "start_time": "2024-09-05T17:41:33.729Z"
   },
   {
    "duration": 0,
    "start_time": "2024-09-05T17:41:33.730Z"
   },
   {
    "duration": 0,
    "start_time": "2024-09-05T17:41:33.731Z"
   },
   {
    "duration": 0,
    "start_time": "2024-09-05T17:41:33.733Z"
   },
   {
    "duration": 0,
    "start_time": "2024-09-05T17:41:33.733Z"
   },
   {
    "duration": 218,
    "start_time": "2024-09-05T17:41:33.736Z"
   },
   {
    "duration": 9,
    "start_time": "2024-09-05T17:41:33.956Z"
   },
   {
    "duration": 208,
    "start_time": "2024-09-05T17:41:33.967Z"
   },
   {
    "duration": 115,
    "start_time": "2024-09-05T17:41:34.177Z"
   },
   {
    "duration": 5,
    "start_time": "2024-09-05T17:41:34.299Z"
   },
   {
    "duration": 205,
    "start_time": "2024-09-05T17:41:34.305Z"
   },
   {
    "duration": 336,
    "start_time": "2024-09-05T17:41:34.511Z"
   },
   {
    "duration": 363,
    "start_time": "2024-09-05T17:41:34.848Z"
   },
   {
    "duration": 25,
    "start_time": "2024-09-05T17:41:35.213Z"
   },
   {
    "duration": 28,
    "start_time": "2024-09-05T17:41:35.240Z"
   },
   {
    "duration": 50,
    "start_time": "2024-09-05T17:41:35.270Z"
   },
   {
    "duration": 20,
    "start_time": "2024-09-05T17:41:35.322Z"
   },
   {
    "duration": 371,
    "start_time": "2024-09-05T17:41:35.343Z"
   },
   {
    "duration": 358,
    "start_time": "2024-09-05T17:41:35.716Z"
   },
   {
    "duration": 358,
    "start_time": "2024-09-05T17:41:36.075Z"
   },
   {
    "duration": 356,
    "start_time": "2024-09-05T17:41:36.436Z"
   },
   {
    "duration": 48,
    "start_time": "2024-09-05T17:41:36.797Z"
   },
   {
    "duration": 3,
    "start_time": "2024-09-05T17:41:36.846Z"
   },
   {
    "duration": 227,
    "start_time": "2024-09-05T17:41:36.850Z"
   },
   {
    "duration": 6,
    "start_time": "2024-09-05T17:41:37.079Z"
   },
   {
    "duration": 18,
    "start_time": "2024-09-05T17:41:37.098Z"
   },
   {
    "duration": 17,
    "start_time": "2024-09-05T17:41:37.118Z"
   },
   {
    "duration": 15,
    "start_time": "2024-09-05T17:41:37.137Z"
   },
   {
    "duration": 25,
    "start_time": "2024-09-05T17:41:37.154Z"
   },
   {
    "duration": 10,
    "start_time": "2024-09-05T17:41:37.180Z"
   },
   {
    "duration": 23,
    "start_time": "2024-09-05T17:41:37.192Z"
   },
   {
    "duration": 19,
    "start_time": "2024-09-05T17:41:37.217Z"
   },
   {
    "duration": 31,
    "start_time": "2024-09-05T17:41:37.238Z"
   },
   {
    "duration": 8,
    "start_time": "2024-09-05T17:41:37.271Z"
   },
   {
    "duration": 30,
    "start_time": "2024-09-05T17:41:37.281Z"
   },
   {
    "duration": 172,
    "start_time": "2024-09-05T17:41:37.312Z"
   },
   {
    "duration": 173,
    "start_time": "2024-09-05T17:41:37.485Z"
   },
   {
    "duration": 186,
    "start_time": "2024-09-05T17:43:24.311Z"
   },
   {
    "duration": 179,
    "start_time": "2024-09-05T17:44:48.107Z"
   },
   {
    "duration": 179,
    "start_time": "2024-09-05T17:44:58.117Z"
   },
   {
    "duration": 651,
    "start_time": "2024-09-05T17:45:04.360Z"
   },
   {
    "duration": 315,
    "start_time": "2024-09-05T17:46:23.863Z"
   },
   {
    "duration": 302,
    "start_time": "2024-09-05T17:46:56.414Z"
   },
   {
    "duration": 430,
    "start_time": "2024-09-05T17:47:09.679Z"
   },
   {
    "duration": 193,
    "start_time": "2024-09-05T17:47:26.107Z"
   },
   {
    "duration": 79,
    "start_time": "2024-09-05T17:49:15.767Z"
   },
   {
    "duration": 81,
    "start_time": "2024-09-05T17:49:42.943Z"
   },
   {
    "duration": 11,
    "start_time": "2024-09-05T17:49:53.538Z"
   },
   {
    "duration": 99,
    "start_time": "2024-09-05T17:49:58.014Z"
   },
   {
    "duration": 28,
    "start_time": "2024-09-05T17:50:02.743Z"
   },
   {
    "duration": 0,
    "start_time": "2024-09-05T17:50:02.773Z"
   },
   {
    "duration": 0,
    "start_time": "2024-09-05T17:50:02.774Z"
   },
   {
    "duration": 0,
    "start_time": "2024-09-05T17:50:02.776Z"
   },
   {
    "duration": 1,
    "start_time": "2024-09-05T17:50:02.776Z"
   },
   {
    "duration": 1,
    "start_time": "2024-09-05T17:50:02.777Z"
   },
   {
    "duration": 0,
    "start_time": "2024-09-05T17:50:02.778Z"
   },
   {
    "duration": 0,
    "start_time": "2024-09-05T17:50:02.780Z"
   },
   {
    "duration": 0,
    "start_time": "2024-09-05T17:50:02.781Z"
   },
   {
    "duration": 0,
    "start_time": "2024-09-05T17:50:02.782Z"
   },
   {
    "duration": 0,
    "start_time": "2024-09-05T17:50:02.783Z"
   },
   {
    "duration": 0,
    "start_time": "2024-09-05T17:50:02.784Z"
   },
   {
    "duration": 0,
    "start_time": "2024-09-05T17:50:02.785Z"
   },
   {
    "duration": 0,
    "start_time": "2024-09-05T17:50:02.786Z"
   },
   {
    "duration": 14,
    "start_time": "2024-09-05T17:50:02.788Z"
   },
   {
    "duration": 314,
    "start_time": "2024-09-05T17:50:02.803Z"
   },
   {
    "duration": 123,
    "start_time": "2024-09-05T17:50:03.119Z"
   },
   {
    "duration": 84,
    "start_time": "2024-09-05T17:50:03.245Z"
   },
   {
    "duration": 4,
    "start_time": "2024-09-05T17:50:03.331Z"
   },
   {
    "duration": 195,
    "start_time": "2024-09-05T17:50:03.336Z"
   },
   {
    "duration": 388,
    "start_time": "2024-09-05T17:50:03.533Z"
   },
   {
    "duration": 347,
    "start_time": "2024-09-05T17:50:03.923Z"
   },
   {
    "duration": 34,
    "start_time": "2024-09-05T17:50:04.271Z"
   },
   {
    "duration": 31,
    "start_time": "2024-09-05T17:50:04.307Z"
   },
   {
    "duration": 23,
    "start_time": "2024-09-05T17:50:04.340Z"
   },
   {
    "duration": 48,
    "start_time": "2024-09-05T17:50:04.365Z"
   },
   {
    "duration": 354,
    "start_time": "2024-09-05T17:50:04.415Z"
   },
   {
    "duration": 364,
    "start_time": "2024-09-05T17:50:04.771Z"
   },
   {
    "duration": 343,
    "start_time": "2024-09-05T17:50:05.137Z"
   },
   {
    "duration": 389,
    "start_time": "2024-09-05T17:50:05.481Z"
   },
   {
    "duration": 54,
    "start_time": "2024-09-05T17:50:05.871Z"
   },
   {
    "duration": 34,
    "start_time": "2024-09-05T17:50:05.926Z"
   },
   {
    "duration": 225,
    "start_time": "2024-09-05T17:50:05.962Z"
   },
   {
    "duration": 21,
    "start_time": "2024-09-05T17:50:06.188Z"
   },
   {
    "duration": 7,
    "start_time": "2024-09-05T17:50:06.211Z"
   },
   {
    "duration": 6,
    "start_time": "2024-09-05T17:50:06.219Z"
   },
   {
    "duration": 14,
    "start_time": "2024-09-05T17:50:06.227Z"
   },
   {
    "duration": 10,
    "start_time": "2024-09-05T17:50:06.243Z"
   },
   {
    "duration": 12,
    "start_time": "2024-09-05T17:50:06.254Z"
   },
   {
    "duration": 7,
    "start_time": "2024-09-05T17:50:06.268Z"
   },
   {
    "duration": 2,
    "start_time": "2024-09-05T17:50:06.277Z"
   },
   {
    "duration": 27,
    "start_time": "2024-09-05T17:50:06.281Z"
   },
   {
    "duration": 21,
    "start_time": "2024-09-05T17:50:06.309Z"
   },
   {
    "duration": 6,
    "start_time": "2024-09-05T17:50:06.331Z"
   },
   {
    "duration": 170,
    "start_time": "2024-09-05T17:50:06.339Z"
   },
   {
    "duration": 171,
    "start_time": "2024-09-05T17:50:06.512Z"
   },
   {
    "duration": 279,
    "start_time": "2024-09-05T17:53:41.208Z"
   },
   {
    "duration": 9,
    "start_time": "2024-09-05T17:53:47.351Z"
   },
   {
    "duration": 8,
    "start_time": "2024-09-05T17:53:59.729Z"
   },
   {
    "duration": 10,
    "start_time": "2024-09-05T17:59:40.380Z"
   },
   {
    "duration": 154,
    "start_time": "2024-09-05T18:00:31.526Z"
   },
   {
    "duration": 662,
    "start_time": "2024-09-05T18:03:42.940Z"
   },
   {
    "duration": 195,
    "start_time": "2024-09-05T18:05:13.476Z"
   },
   {
    "duration": 175,
    "start_time": "2024-09-05T18:06:08.519Z"
   },
   {
    "duration": 368,
    "start_time": "2024-09-05T18:07:08.271Z"
   },
   {
    "duration": 9,
    "start_time": "2024-09-05T18:10:19.453Z"
   },
   {
    "duration": 189,
    "start_time": "2024-09-05T18:10:29.111Z"
   },
   {
    "duration": 172,
    "start_time": "2024-09-05T18:10:47.374Z"
   },
   {
    "duration": 9,
    "start_time": "2024-09-05T18:13:13.585Z"
   },
   {
    "duration": 15,
    "start_time": "2024-09-05T18:13:19.632Z"
   },
   {
    "duration": 14,
    "start_time": "2024-09-05T18:13:43.552Z"
   },
   {
    "duration": 14,
    "start_time": "2024-09-05T18:13:51.306Z"
   },
   {
    "duration": 188,
    "start_time": "2024-09-05T18:15:37.169Z"
   },
   {
    "duration": 14,
    "start_time": "2024-09-05T18:15:49.911Z"
   },
   {
    "duration": 9,
    "start_time": "2024-09-05T18:18:22.866Z"
   },
   {
    "duration": 4,
    "start_time": "2024-09-05T18:18:29.619Z"
   },
   {
    "duration": 8,
    "start_time": "2024-09-05T18:18:44.848Z"
   },
   {
    "duration": 14,
    "start_time": "2024-09-05T18:18:51.160Z"
   },
   {
    "duration": 13,
    "start_time": "2024-09-05T18:19:17.234Z"
   },
   {
    "duration": 10,
    "start_time": "2024-09-05T18:19:37.710Z"
   },
   {
    "duration": 0,
    "start_time": "2024-09-05T18:19:37.722Z"
   },
   {
    "duration": 0,
    "start_time": "2024-09-05T18:19:37.722Z"
   },
   {
    "duration": 0,
    "start_time": "2024-09-05T18:19:37.724Z"
   },
   {
    "duration": 0,
    "start_time": "2024-09-05T18:19:37.725Z"
   },
   {
    "duration": 14,
    "start_time": "2024-09-05T18:19:37.727Z"
   },
   {
    "duration": 21,
    "start_time": "2024-09-05T18:19:37.743Z"
   },
   {
    "duration": 59,
    "start_time": "2024-09-05T18:19:37.767Z"
   },
   {
    "duration": 10,
    "start_time": "2024-09-05T18:19:37.827Z"
   },
   {
    "duration": 20,
    "start_time": "2024-09-05T18:19:37.838Z"
   },
   {
    "duration": 38,
    "start_time": "2024-09-05T18:19:37.860Z"
   },
   {
    "duration": 0,
    "start_time": "2024-09-05T18:19:37.901Z"
   },
   {
    "duration": 0,
    "start_time": "2024-09-05T18:19:37.902Z"
   },
   {
    "duration": 0,
    "start_time": "2024-09-05T18:19:37.903Z"
   },
   {
    "duration": 0,
    "start_time": "2024-09-05T18:19:37.905Z"
   },
   {
    "duration": 0,
    "start_time": "2024-09-05T18:19:37.906Z"
   },
   {
    "duration": 0,
    "start_time": "2024-09-05T18:19:37.907Z"
   },
   {
    "duration": 0,
    "start_time": "2024-09-05T18:19:37.908Z"
   },
   {
    "duration": 0,
    "start_time": "2024-09-05T18:19:37.909Z"
   },
   {
    "duration": 0,
    "start_time": "2024-09-05T18:19:37.911Z"
   },
   {
    "duration": 0,
    "start_time": "2024-09-05T18:19:37.912Z"
   },
   {
    "duration": 0,
    "start_time": "2024-09-05T18:19:37.913Z"
   },
   {
    "duration": 0,
    "start_time": "2024-09-05T18:19:37.914Z"
   },
   {
    "duration": 0,
    "start_time": "2024-09-05T18:19:37.915Z"
   },
   {
    "duration": 0,
    "start_time": "2024-09-05T18:19:37.916Z"
   },
   {
    "duration": 0,
    "start_time": "2024-09-05T18:19:37.917Z"
   },
   {
    "duration": 0,
    "start_time": "2024-09-05T18:19:37.918Z"
   },
   {
    "duration": 0,
    "start_time": "2024-09-05T18:19:37.919Z"
   },
   {
    "duration": 0,
    "start_time": "2024-09-05T18:19:37.921Z"
   },
   {
    "duration": 0,
    "start_time": "2024-09-05T18:19:37.922Z"
   },
   {
    "duration": 0,
    "start_time": "2024-09-05T18:19:37.923Z"
   },
   {
    "duration": 0,
    "start_time": "2024-09-05T18:19:37.924Z"
   },
   {
    "duration": 0,
    "start_time": "2024-09-05T18:19:37.925Z"
   },
   {
    "duration": 0,
    "start_time": "2024-09-05T18:19:37.926Z"
   },
   {
    "duration": 0,
    "start_time": "2024-09-05T18:19:37.927Z"
   },
   {
    "duration": 0,
    "start_time": "2024-09-05T18:19:37.928Z"
   },
   {
    "duration": 0,
    "start_time": "2024-09-05T18:19:37.929Z"
   },
   {
    "duration": 0,
    "start_time": "2024-09-05T18:19:37.930Z"
   },
   {
    "duration": 0,
    "start_time": "2024-09-05T18:19:37.931Z"
   },
   {
    "duration": 0,
    "start_time": "2024-09-05T18:19:37.932Z"
   },
   {
    "duration": 0,
    "start_time": "2024-09-05T18:19:37.933Z"
   },
   {
    "duration": 0,
    "start_time": "2024-09-05T18:19:37.934Z"
   },
   {
    "duration": 0,
    "start_time": "2024-09-05T18:19:37.935Z"
   },
   {
    "duration": 0,
    "start_time": "2024-09-05T18:19:37.936Z"
   },
   {
    "duration": 0,
    "start_time": "2024-09-05T18:19:37.998Z"
   },
   {
    "duration": 0,
    "start_time": "2024-09-05T18:19:37.999Z"
   },
   {
    "duration": 0,
    "start_time": "2024-09-05T18:19:38.000Z"
   },
   {
    "duration": 0,
    "start_time": "2024-09-05T18:19:38.001Z"
   },
   {
    "duration": 0,
    "start_time": "2024-09-05T18:19:38.002Z"
   },
   {
    "duration": 0,
    "start_time": "2024-09-05T18:19:38.003Z"
   },
   {
    "duration": 0,
    "start_time": "2024-09-05T18:19:38.004Z"
   },
   {
    "duration": 0,
    "start_time": "2024-09-05T18:19:38.005Z"
   },
   {
    "duration": 0,
    "start_time": "2024-09-05T18:19:38.006Z"
   },
   {
    "duration": 71,
    "start_time": "2024-09-05T18:19:54.911Z"
   },
   {
    "duration": 21,
    "start_time": "2024-09-05T18:19:57.233Z"
   },
   {
    "duration": 20,
    "start_time": "2024-09-05T18:20:04.144Z"
   },
   {
    "duration": 14,
    "start_time": "2024-09-05T18:20:10.561Z"
   },
   {
    "duration": 9,
    "start_time": "2024-09-05T18:20:21.542Z"
   },
   {
    "duration": 0,
    "start_time": "2024-09-05T18:20:21.553Z"
   },
   {
    "duration": 0,
    "start_time": "2024-09-05T18:20:21.555Z"
   },
   {
    "duration": 0,
    "start_time": "2024-09-05T18:20:21.556Z"
   },
   {
    "duration": 0,
    "start_time": "2024-09-05T18:20:21.557Z"
   },
   {
    "duration": 0,
    "start_time": "2024-09-05T18:20:21.558Z"
   },
   {
    "duration": 0,
    "start_time": "2024-09-05T18:20:21.560Z"
   },
   {
    "duration": 0,
    "start_time": "2024-09-05T18:20:21.561Z"
   },
   {
    "duration": 0,
    "start_time": "2024-09-05T18:20:21.562Z"
   },
   {
    "duration": 0,
    "start_time": "2024-09-05T18:20:21.563Z"
   },
   {
    "duration": 0,
    "start_time": "2024-09-05T18:20:21.564Z"
   },
   {
    "duration": 0,
    "start_time": "2024-09-05T18:20:21.565Z"
   },
   {
    "duration": 37,
    "start_time": "2024-09-05T18:20:21.568Z"
   },
   {
    "duration": 164,
    "start_time": "2024-09-05T18:20:21.606Z"
   },
   {
    "duration": 9,
    "start_time": "2024-09-05T18:20:21.772Z"
   },
   {
    "duration": 203,
    "start_time": "2024-09-05T18:20:21.782Z"
   },
   {
    "duration": 103,
    "start_time": "2024-09-05T18:20:21.986Z"
   },
   {
    "duration": 74,
    "start_time": "2024-09-05T18:20:22.097Z"
   },
   {
    "duration": 4,
    "start_time": "2024-09-05T18:20:22.173Z"
   },
   {
    "duration": 265,
    "start_time": "2024-09-05T18:20:22.197Z"
   },
   {
    "duration": 9,
    "start_time": "2024-09-05T18:20:22.464Z"
   },
   {
    "duration": 39,
    "start_time": "2024-09-05T18:20:22.474Z"
   },
   {
    "duration": 184,
    "start_time": "2024-09-05T18:20:22.514Z"
   },
   {
    "duration": 9,
    "start_time": "2024-09-05T18:20:22.699Z"
   },
   {
    "duration": 207,
    "start_time": "2024-09-05T18:20:22.709Z"
   },
   {
    "duration": 14,
    "start_time": "2024-09-05T18:20:22.918Z"
   },
   {
    "duration": 34,
    "start_time": "2024-09-05T18:20:22.934Z"
   },
   {
    "duration": 38,
    "start_time": "2024-09-05T18:20:22.969Z"
   },
   {
    "duration": 3,
    "start_time": "2024-09-05T18:20:23.009Z"
   },
   {
    "duration": 21,
    "start_time": "2024-09-05T18:20:23.014Z"
   },
   {
    "duration": 28,
    "start_time": "2024-09-05T18:20:23.037Z"
   },
   {
    "duration": 22,
    "start_time": "2024-09-05T18:20:23.067Z"
   },
   {
    "duration": 18,
    "start_time": "2024-09-05T18:20:23.097Z"
   },
   {
    "duration": 338,
    "start_time": "2024-09-05T18:20:23.117Z"
   },
   {
    "duration": 332,
    "start_time": "2024-09-05T18:20:23.458Z"
   },
   {
    "duration": 317,
    "start_time": "2024-09-05T18:20:23.792Z"
   },
   {
    "duration": 750,
    "start_time": "2024-09-05T18:20:24.111Z"
   },
   {
    "duration": 19,
    "start_time": "2024-09-05T18:20:24.862Z"
   },
   {
    "duration": 0,
    "start_time": "2024-09-05T18:20:24.882Z"
   },
   {
    "duration": 0,
    "start_time": "2024-09-05T18:20:24.883Z"
   },
   {
    "duration": 0,
    "start_time": "2024-09-05T18:20:24.884Z"
   },
   {
    "duration": 0,
    "start_time": "2024-09-05T18:20:24.898Z"
   },
   {
    "duration": 0,
    "start_time": "2024-09-05T18:20:24.899Z"
   },
   {
    "duration": 0,
    "start_time": "2024-09-05T18:20:24.900Z"
   },
   {
    "duration": 0,
    "start_time": "2024-09-05T18:20:24.901Z"
   },
   {
    "duration": 0,
    "start_time": "2024-09-05T18:20:24.902Z"
   },
   {
    "duration": 0,
    "start_time": "2024-09-05T18:20:24.903Z"
   },
   {
    "duration": 0,
    "start_time": "2024-09-05T18:20:24.904Z"
   },
   {
    "duration": 0,
    "start_time": "2024-09-05T18:20:24.905Z"
   },
   {
    "duration": 0,
    "start_time": "2024-09-05T18:20:24.906Z"
   },
   {
    "duration": 0,
    "start_time": "2024-09-05T18:20:24.907Z"
   },
   {
    "duration": 0,
    "start_time": "2024-09-05T18:20:24.908Z"
   },
   {
    "duration": 0,
    "start_time": "2024-09-05T18:20:24.910Z"
   },
   {
    "duration": 1279,
    "start_time": "2024-09-05T18:22:32.638Z"
   },
   {
    "duration": 0,
    "start_time": "2024-09-05T18:22:33.920Z"
   },
   {
    "duration": 0,
    "start_time": "2024-09-05T18:22:33.922Z"
   },
   {
    "duration": 0,
    "start_time": "2024-09-05T18:22:33.923Z"
   },
   {
    "duration": 0,
    "start_time": "2024-09-05T18:22:33.925Z"
   },
   {
    "duration": 0,
    "start_time": "2024-09-05T18:22:33.926Z"
   },
   {
    "duration": 0,
    "start_time": "2024-09-05T18:22:33.928Z"
   },
   {
    "duration": 0,
    "start_time": "2024-09-05T18:22:33.929Z"
   },
   {
    "duration": 0,
    "start_time": "2024-09-05T18:22:33.930Z"
   },
   {
    "duration": 0,
    "start_time": "2024-09-05T18:22:33.931Z"
   },
   {
    "duration": 0,
    "start_time": "2024-09-05T18:22:33.933Z"
   },
   {
    "duration": 0,
    "start_time": "2024-09-05T18:22:33.934Z"
   },
   {
    "duration": 0,
    "start_time": "2024-09-05T18:22:33.936Z"
   },
   {
    "duration": 0,
    "start_time": "2024-09-05T18:22:33.937Z"
   },
   {
    "duration": 0,
    "start_time": "2024-09-05T18:22:33.938Z"
   },
   {
    "duration": 1,
    "start_time": "2024-09-05T18:22:33.939Z"
   },
   {
    "duration": 0,
    "start_time": "2024-09-05T18:22:33.941Z"
   },
   {
    "duration": 0,
    "start_time": "2024-09-05T18:22:33.942Z"
   },
   {
    "duration": 0,
    "start_time": "2024-09-05T18:22:33.944Z"
   },
   {
    "duration": 0,
    "start_time": "2024-09-05T18:22:33.945Z"
   },
   {
    "duration": 0,
    "start_time": "2024-09-05T18:22:33.947Z"
   },
   {
    "duration": 0,
    "start_time": "2024-09-05T18:22:33.948Z"
   },
   {
    "duration": 1,
    "start_time": "2024-09-05T18:22:33.949Z"
   },
   {
    "duration": 0,
    "start_time": "2024-09-05T18:22:33.997Z"
   },
   {
    "duration": 0,
    "start_time": "2024-09-05T18:22:33.999Z"
   },
   {
    "duration": 1,
    "start_time": "2024-09-05T18:22:34.000Z"
   },
   {
    "duration": 0,
    "start_time": "2024-09-05T18:22:34.002Z"
   },
   {
    "duration": 0,
    "start_time": "2024-09-05T18:22:34.003Z"
   },
   {
    "duration": 0,
    "start_time": "2024-09-05T18:22:34.005Z"
   },
   {
    "duration": 0,
    "start_time": "2024-09-05T18:22:34.006Z"
   },
   {
    "duration": 0,
    "start_time": "2024-09-05T18:22:34.008Z"
   },
   {
    "duration": 0,
    "start_time": "2024-09-05T18:22:34.009Z"
   },
   {
    "duration": 0,
    "start_time": "2024-09-05T18:22:34.011Z"
   },
   {
    "duration": 0,
    "start_time": "2024-09-05T18:22:34.012Z"
   },
   {
    "duration": 0,
    "start_time": "2024-09-05T18:22:34.013Z"
   },
   {
    "duration": 0,
    "start_time": "2024-09-05T18:22:34.015Z"
   },
   {
    "duration": 0,
    "start_time": "2024-09-05T18:22:34.016Z"
   },
   {
    "duration": 0,
    "start_time": "2024-09-05T18:22:34.018Z"
   },
   {
    "duration": 0,
    "start_time": "2024-09-05T18:22:34.019Z"
   },
   {
    "duration": 0,
    "start_time": "2024-09-05T18:22:34.020Z"
   },
   {
    "duration": 0,
    "start_time": "2024-09-05T18:22:34.022Z"
   },
   {
    "duration": 0,
    "start_time": "2024-09-05T18:22:34.023Z"
   },
   {
    "duration": 0,
    "start_time": "2024-09-05T18:22:34.025Z"
   },
   {
    "duration": 0,
    "start_time": "2024-09-05T18:22:34.026Z"
   },
   {
    "duration": 0,
    "start_time": "2024-09-05T18:22:34.028Z"
   },
   {
    "duration": 0,
    "start_time": "2024-09-05T18:22:34.029Z"
   },
   {
    "duration": 0,
    "start_time": "2024-09-05T18:22:34.030Z"
   },
   {
    "duration": 0,
    "start_time": "2024-09-05T18:22:34.032Z"
   },
   {
    "duration": 0,
    "start_time": "2024-09-05T18:22:34.033Z"
   },
   {
    "duration": 0,
    "start_time": "2024-09-05T18:22:34.035Z"
   },
   {
    "duration": 0,
    "start_time": "2024-09-05T18:22:34.036Z"
   },
   {
    "duration": 0,
    "start_time": "2024-09-05T18:22:34.098Z"
   },
   {
    "duration": 0,
    "start_time": "2024-09-05T18:22:34.099Z"
   },
   {
    "duration": 1300,
    "start_time": "2024-09-05T18:23:20.114Z"
   },
   {
    "duration": 0,
    "start_time": "2024-09-05T18:23:21.417Z"
   },
   {
    "duration": 0,
    "start_time": "2024-09-05T18:23:21.418Z"
   },
   {
    "duration": 0,
    "start_time": "2024-09-05T18:23:21.420Z"
   },
   {
    "duration": 0,
    "start_time": "2024-09-05T18:23:21.421Z"
   },
   {
    "duration": 0,
    "start_time": "2024-09-05T18:23:21.421Z"
   },
   {
    "duration": 0,
    "start_time": "2024-09-05T18:23:21.422Z"
   },
   {
    "duration": 0,
    "start_time": "2024-09-05T18:23:21.423Z"
   },
   {
    "duration": 0,
    "start_time": "2024-09-05T18:23:21.424Z"
   },
   {
    "duration": 0,
    "start_time": "2024-09-05T18:23:21.425Z"
   },
   {
    "duration": 0,
    "start_time": "2024-09-05T18:23:21.426Z"
   },
   {
    "duration": 0,
    "start_time": "2024-09-05T18:23:21.427Z"
   },
   {
    "duration": 0,
    "start_time": "2024-09-05T18:23:21.428Z"
   },
   {
    "duration": 0,
    "start_time": "2024-09-05T18:23:21.429Z"
   },
   {
    "duration": 0,
    "start_time": "2024-09-05T18:23:21.430Z"
   },
   {
    "duration": 0,
    "start_time": "2024-09-05T18:23:21.431Z"
   },
   {
    "duration": 0,
    "start_time": "2024-09-05T18:23:21.432Z"
   },
   {
    "duration": 0,
    "start_time": "2024-09-05T18:23:21.433Z"
   },
   {
    "duration": 0,
    "start_time": "2024-09-05T18:23:21.434Z"
   },
   {
    "duration": 0,
    "start_time": "2024-09-05T18:23:21.435Z"
   },
   {
    "duration": 0,
    "start_time": "2024-09-05T18:23:21.436Z"
   },
   {
    "duration": 0,
    "start_time": "2024-09-05T18:23:21.436Z"
   },
   {
    "duration": 0,
    "start_time": "2024-09-05T18:23:21.437Z"
   },
   {
    "duration": 0,
    "start_time": "2024-09-05T18:23:21.438Z"
   },
   {
    "duration": 0,
    "start_time": "2024-09-05T18:23:21.439Z"
   },
   {
    "duration": 0,
    "start_time": "2024-09-05T18:23:21.440Z"
   },
   {
    "duration": 0,
    "start_time": "2024-09-05T18:23:21.441Z"
   },
   {
    "duration": 0,
    "start_time": "2024-09-05T18:23:21.442Z"
   },
   {
    "duration": 0,
    "start_time": "2024-09-05T18:23:21.443Z"
   },
   {
    "duration": 0,
    "start_time": "2024-09-05T18:23:21.444Z"
   },
   {
    "duration": 0,
    "start_time": "2024-09-05T18:23:21.445Z"
   },
   {
    "duration": 0,
    "start_time": "2024-09-05T18:23:21.446Z"
   },
   {
    "duration": 0,
    "start_time": "2024-09-05T18:23:21.447Z"
   },
   {
    "duration": 0,
    "start_time": "2024-09-05T18:23:21.448Z"
   },
   {
    "duration": 0,
    "start_time": "2024-09-05T18:23:21.498Z"
   },
   {
    "duration": 0,
    "start_time": "2024-09-05T18:23:21.499Z"
   },
   {
    "duration": 0,
    "start_time": "2024-09-05T18:23:21.500Z"
   },
   {
    "duration": 0,
    "start_time": "2024-09-05T18:23:21.501Z"
   },
   {
    "duration": 0,
    "start_time": "2024-09-05T18:23:21.502Z"
   },
   {
    "duration": 0,
    "start_time": "2024-09-05T18:23:21.503Z"
   },
   {
    "duration": 0,
    "start_time": "2024-09-05T18:23:21.504Z"
   },
   {
    "duration": 0,
    "start_time": "2024-09-05T18:23:21.505Z"
   },
   {
    "duration": 0,
    "start_time": "2024-09-05T18:23:21.506Z"
   },
   {
    "duration": 0,
    "start_time": "2024-09-05T18:23:21.507Z"
   },
   {
    "duration": 0,
    "start_time": "2024-09-05T18:23:21.508Z"
   },
   {
    "duration": 0,
    "start_time": "2024-09-05T18:23:21.509Z"
   },
   {
    "duration": 0,
    "start_time": "2024-09-05T18:23:21.510Z"
   },
   {
    "duration": 0,
    "start_time": "2024-09-05T18:23:21.511Z"
   },
   {
    "duration": 0,
    "start_time": "2024-09-05T18:23:21.512Z"
   },
   {
    "duration": 0,
    "start_time": "2024-09-05T18:23:21.514Z"
   },
   {
    "duration": 0,
    "start_time": "2024-09-05T18:23:21.515Z"
   },
   {
    "duration": 0,
    "start_time": "2024-09-05T18:23:21.516Z"
   },
   {
    "duration": 0,
    "start_time": "2024-09-05T18:23:21.517Z"
   },
   {
    "duration": 8,
    "start_time": "2024-09-05T18:24:17.988Z"
   },
   {
    "duration": 10,
    "start_time": "2024-09-05T18:24:24.666Z"
   },
   {
    "duration": 0,
    "start_time": "2024-09-05T18:24:24.678Z"
   },
   {
    "duration": 0,
    "start_time": "2024-09-05T18:24:24.680Z"
   },
   {
    "duration": 0,
    "start_time": "2024-09-05T18:24:24.681Z"
   },
   {
    "duration": 0,
    "start_time": "2024-09-05T18:24:24.683Z"
   },
   {
    "duration": 0,
    "start_time": "2024-09-05T18:24:24.684Z"
   },
   {
    "duration": 10,
    "start_time": "2024-09-05T18:24:24.687Z"
   },
   {
    "duration": 0,
    "start_time": "2024-09-05T18:24:24.698Z"
   },
   {
    "duration": 0,
    "start_time": "2024-09-05T18:24:24.699Z"
   },
   {
    "duration": 0,
    "start_time": "2024-09-05T18:24:24.700Z"
   },
   {
    "duration": 0,
    "start_time": "2024-09-05T18:24:24.701Z"
   },
   {
    "duration": 0,
    "start_time": "2024-09-05T18:24:24.703Z"
   },
   {
    "duration": 0,
    "start_time": "2024-09-05T18:24:24.704Z"
   },
   {
    "duration": 0,
    "start_time": "2024-09-05T18:24:24.705Z"
   },
   {
    "duration": 11,
    "start_time": "2024-09-05T18:24:24.707Z"
   },
   {
    "duration": 0,
    "start_time": "2024-09-05T18:24:24.719Z"
   },
   {
    "duration": 0,
    "start_time": "2024-09-05T18:24:24.720Z"
   },
   {
    "duration": 0,
    "start_time": "2024-09-05T18:24:24.721Z"
   },
   {
    "duration": 8,
    "start_time": "2024-09-05T18:24:24.724Z"
   },
   {
    "duration": 0,
    "start_time": "2024-09-05T18:24:24.734Z"
   },
   {
    "duration": 0,
    "start_time": "2024-09-05T18:24:24.735Z"
   },
   {
    "duration": 0,
    "start_time": "2024-09-05T18:24:24.736Z"
   },
   {
    "duration": 0,
    "start_time": "2024-09-05T18:24:24.736Z"
   },
   {
    "duration": 0,
    "start_time": "2024-09-05T18:24:24.738Z"
   },
   {
    "duration": 0,
    "start_time": "2024-09-05T18:24:24.739Z"
   },
   {
    "duration": 0,
    "start_time": "2024-09-05T18:24:24.740Z"
   },
   {
    "duration": 0,
    "start_time": "2024-09-05T18:24:24.798Z"
   },
   {
    "duration": 0,
    "start_time": "2024-09-05T18:24:24.799Z"
   },
   {
    "duration": 0,
    "start_time": "2024-09-05T18:24:24.800Z"
   },
   {
    "duration": 0,
    "start_time": "2024-09-05T18:24:24.801Z"
   },
   {
    "duration": 0,
    "start_time": "2024-09-05T18:24:24.802Z"
   },
   {
    "duration": 0,
    "start_time": "2024-09-05T18:24:24.804Z"
   },
   {
    "duration": 8,
    "start_time": "2024-09-05T18:24:24.806Z"
   },
   {
    "duration": 0,
    "start_time": "2024-09-05T18:24:24.816Z"
   },
   {
    "duration": 0,
    "start_time": "2024-09-05T18:24:24.817Z"
   },
   {
    "duration": 0,
    "start_time": "2024-09-05T18:24:24.818Z"
   },
   {
    "duration": 0,
    "start_time": "2024-09-05T18:24:24.819Z"
   },
   {
    "duration": 0,
    "start_time": "2024-09-05T18:24:24.820Z"
   },
   {
    "duration": 1,
    "start_time": "2024-09-05T18:24:24.821Z"
   },
   {
    "duration": 0,
    "start_time": "2024-09-05T18:24:24.822Z"
   },
   {
    "duration": 0,
    "start_time": "2024-09-05T18:24:24.824Z"
   },
   {
    "duration": 0,
    "start_time": "2024-09-05T18:24:24.825Z"
   },
   {
    "duration": 0,
    "start_time": "2024-09-05T18:24:24.826Z"
   },
   {
    "duration": 0,
    "start_time": "2024-09-05T18:24:24.827Z"
   },
   {
    "duration": 0,
    "start_time": "2024-09-05T18:24:24.828Z"
   },
   {
    "duration": 0,
    "start_time": "2024-09-05T18:24:24.829Z"
   },
   {
    "duration": 0,
    "start_time": "2024-09-05T18:24:24.830Z"
   },
   {
    "duration": 0,
    "start_time": "2024-09-05T18:24:24.830Z"
   },
   {
    "duration": 0,
    "start_time": "2024-09-05T18:24:24.832Z"
   },
   {
    "duration": 0,
    "start_time": "2024-09-05T18:24:24.833Z"
   },
   {
    "duration": 0,
    "start_time": "2024-09-05T18:24:24.898Z"
   },
   {
    "duration": 0,
    "start_time": "2024-09-05T18:24:24.899Z"
   },
   {
    "duration": 0,
    "start_time": "2024-09-05T18:24:24.901Z"
   },
   {
    "duration": 9,
    "start_time": "2024-09-05T18:24:50.874Z"
   },
   {
    "duration": 3,
    "start_time": "2024-09-05T18:25:06.860Z"
   },
   {
    "duration": 107,
    "start_time": "2024-09-05T18:25:06.865Z"
   },
   {
    "duration": 23,
    "start_time": "2024-09-05T18:25:06.974Z"
   },
   {
    "duration": 19,
    "start_time": "2024-09-05T18:25:06.998Z"
   },
   {
    "duration": 13,
    "start_time": "2024-09-05T18:25:07.019Z"
   },
   {
    "duration": 28,
    "start_time": "2024-09-05T18:25:07.033Z"
   },
   {
    "duration": 20,
    "start_time": "2024-09-05T18:25:07.063Z"
   },
   {
    "duration": 43,
    "start_time": "2024-09-05T18:25:07.084Z"
   },
   {
    "duration": 25,
    "start_time": "2024-09-05T18:25:07.129Z"
   },
   {
    "duration": 38,
    "start_time": "2024-09-05T18:25:07.156Z"
   },
   {
    "duration": 19,
    "start_time": "2024-09-05T18:25:07.195Z"
   },
   {
    "duration": 15,
    "start_time": "2024-09-05T18:25:07.215Z"
   },
   {
    "duration": 14,
    "start_time": "2024-09-05T18:25:07.232Z"
   },
   {
    "duration": 161,
    "start_time": "2024-09-05T18:25:07.249Z"
   },
   {
    "duration": 10,
    "start_time": "2024-09-05T18:25:07.411Z"
   },
   {
    "duration": 195,
    "start_time": "2024-09-05T18:25:07.423Z"
   },
   {
    "duration": 114,
    "start_time": "2024-09-05T18:25:07.619Z"
   },
   {
    "duration": 150,
    "start_time": "2024-09-05T18:25:07.734Z"
   },
   {
    "duration": 13,
    "start_time": "2024-09-05T18:25:07.885Z"
   },
   {
    "duration": 192,
    "start_time": "2024-09-05T18:25:07.900Z"
   },
   {
    "duration": 8,
    "start_time": "2024-09-05T18:25:08.097Z"
   },
   {
    "duration": 17,
    "start_time": "2024-09-05T18:25:08.106Z"
   },
   {
    "duration": 176,
    "start_time": "2024-09-05T18:25:08.125Z"
   },
   {
    "duration": 9,
    "start_time": "2024-09-05T18:25:08.303Z"
   },
   {
    "duration": 214,
    "start_time": "2024-09-05T18:25:08.314Z"
   },
   {
    "duration": 14,
    "start_time": "2024-09-05T18:25:08.530Z"
   },
   {
    "duration": 30,
    "start_time": "2024-09-05T18:25:08.545Z"
   },
   {
    "duration": 48,
    "start_time": "2024-09-05T18:25:08.576Z"
   },
   {
    "duration": 4,
    "start_time": "2024-09-05T18:25:08.626Z"
   },
   {
    "duration": 27,
    "start_time": "2024-09-05T18:25:08.631Z"
   },
   {
    "duration": 15,
    "start_time": "2024-09-05T18:25:08.659Z"
   },
   {
    "duration": 30,
    "start_time": "2024-09-05T18:25:08.675Z"
   },
   {
    "duration": 20,
    "start_time": "2024-09-05T18:25:08.707Z"
   },
   {
    "duration": 351,
    "start_time": "2024-09-05T18:25:08.728Z"
   },
   {
    "duration": 360,
    "start_time": "2024-09-05T18:25:09.080Z"
   },
   {
    "duration": 416,
    "start_time": "2024-09-05T18:25:09.442Z"
   },
   {
    "duration": 328,
    "start_time": "2024-09-05T18:25:09.860Z"
   },
   {
    "duration": 46,
    "start_time": "2024-09-05T18:25:10.189Z"
   },
   {
    "duration": 3,
    "start_time": "2024-09-05T18:25:10.237Z"
   },
   {
    "duration": 260,
    "start_time": "2024-09-05T18:25:10.242Z"
   },
   {
    "duration": 6,
    "start_time": "2024-09-05T18:25:10.506Z"
   },
   {
    "duration": 5,
    "start_time": "2024-09-05T18:25:10.514Z"
   },
   {
    "duration": 5,
    "start_time": "2024-09-05T18:25:10.521Z"
   },
   {
    "duration": 27,
    "start_time": "2024-09-05T18:25:10.528Z"
   },
   {
    "duration": 7,
    "start_time": "2024-09-05T18:25:10.557Z"
   },
   {
    "duration": 23,
    "start_time": "2024-09-05T18:25:10.565Z"
   },
   {
    "duration": 11,
    "start_time": "2024-09-05T18:25:10.589Z"
   },
   {
    "duration": 3,
    "start_time": "2024-09-05T18:25:10.602Z"
   },
   {
    "duration": 8,
    "start_time": "2024-09-05T18:25:10.606Z"
   },
   {
    "duration": 28,
    "start_time": "2024-09-05T18:25:10.615Z"
   },
   {
    "duration": 5,
    "start_time": "2024-09-05T18:25:10.646Z"
   },
   {
    "duration": 170,
    "start_time": "2024-09-05T18:25:10.653Z"
   },
   {
    "duration": 173,
    "start_time": "2024-09-05T18:25:10.824Z"
   },
   {
    "duration": 4,
    "start_time": "2024-09-05T18:28:13.165Z"
   },
   {
    "duration": 5,
    "start_time": "2024-09-05T18:28:28.511Z"
   },
   {
    "duration": 803,
    "start_time": "2024-09-05T18:28:47.783Z"
   },
   {
    "duration": 4,
    "start_time": "2024-09-05T18:28:59.245Z"
   },
   {
    "duration": 4,
    "start_time": "2024-09-05T18:29:05.045Z"
   },
   {
    "duration": 168,
    "start_time": "2024-09-05T18:31:26.451Z"
   },
   {
    "duration": 9,
    "start_time": "2024-09-05T18:34:33.348Z"
   },
   {
    "duration": 168,
    "start_time": "2024-09-05T18:34:56.193Z"
   },
   {
    "duration": 9,
    "start_time": "2024-09-05T18:37:01.313Z"
   },
   {
    "duration": 12,
    "start_time": "2024-09-05T18:38:12.234Z"
   },
   {
    "duration": 11,
    "start_time": "2024-09-05T18:38:20.872Z"
   },
   {
    "duration": 202,
    "start_time": "2024-09-05T18:38:49.695Z"
   },
   {
    "duration": 314,
    "start_time": "2024-09-05T18:39:18.425Z"
   },
   {
    "duration": 207,
    "start_time": "2024-09-05T18:40:26.214Z"
   },
   {
    "duration": 226,
    "start_time": "2024-09-05T18:40:36.639Z"
   },
   {
    "duration": 341,
    "start_time": "2024-09-05T18:41:26.138Z"
   },
   {
    "duration": 248,
    "start_time": "2024-09-05T18:42:18.616Z"
   },
   {
    "duration": 239,
    "start_time": "2024-09-05T18:43:11.127Z"
   },
   {
    "duration": 337,
    "start_time": "2024-09-05T18:43:54.006Z"
   },
   {
    "duration": 8,
    "start_time": "2024-09-05T18:50:13.678Z"
   },
   {
    "duration": 9,
    "start_time": "2024-09-05T18:50:27.053Z"
   },
   {
    "duration": 251,
    "start_time": "2024-09-05T18:51:15.813Z"
   },
   {
    "duration": 63,
    "start_time": "2024-09-05T18:51:46.767Z"
   },
   {
    "duration": 242,
    "start_time": "2024-09-05T18:55:12.148Z"
   },
   {
    "duration": 3,
    "start_time": "2024-09-05T19:01:38.739Z"
   },
   {
    "duration": 4,
    "start_time": "2024-09-05T19:04:01.345Z"
   },
   {
    "duration": 4,
    "start_time": "2024-09-05T19:04:08.587Z"
   },
   {
    "duration": 4,
    "start_time": "2024-09-05T19:04:19.954Z"
   },
   {
    "duration": 4,
    "start_time": "2024-09-05T19:04:25.265Z"
   },
   {
    "duration": 4,
    "start_time": "2024-09-05T19:04:30.325Z"
   },
   {
    "duration": 5,
    "start_time": "2024-09-05T19:04:34.616Z"
   },
   {
    "duration": 5,
    "start_time": "2024-09-05T19:04:38.318Z"
   },
   {
    "duration": 4,
    "start_time": "2024-09-05T19:04:48.234Z"
   },
   {
    "duration": 5,
    "start_time": "2024-09-05T19:05:23.537Z"
   },
   {
    "duration": 5,
    "start_time": "2024-09-05T19:06:08.434Z"
   },
   {
    "duration": 5,
    "start_time": "2024-09-05T19:06:47.949Z"
   },
   {
    "duration": 4,
    "start_time": "2024-09-05T19:06:53.644Z"
   },
   {
    "duration": 5,
    "start_time": "2024-09-05T19:07:11.097Z"
   },
   {
    "duration": 4,
    "start_time": "2024-09-05T19:07:49.522Z"
   },
   {
    "duration": 5,
    "start_time": "2024-09-05T19:09:19.561Z"
   },
   {
    "duration": 5,
    "start_time": "2024-09-05T19:09:28.698Z"
   },
   {
    "duration": 58,
    "start_time": "2024-09-05T19:15:50.951Z"
   },
   {
    "duration": 3,
    "start_time": "2024-09-05T19:15:57.136Z"
   },
   {
    "duration": 108,
    "start_time": "2024-09-05T19:15:57.140Z"
   },
   {
    "duration": 21,
    "start_time": "2024-09-05T19:15:57.250Z"
   },
   {
    "duration": 20,
    "start_time": "2024-09-05T19:15:57.273Z"
   },
   {
    "duration": 15,
    "start_time": "2024-09-05T19:15:57.297Z"
   },
   {
    "duration": 8,
    "start_time": "2024-09-05T19:15:57.313Z"
   },
   {
    "duration": 22,
    "start_time": "2024-09-05T19:15:57.322Z"
   },
   {
    "duration": 61,
    "start_time": "2024-09-05T19:15:57.345Z"
   },
   {
    "duration": 13,
    "start_time": "2024-09-05T19:15:57.407Z"
   },
   {
    "duration": 35,
    "start_time": "2024-09-05T19:15:57.421Z"
   },
   {
    "duration": 20,
    "start_time": "2024-09-05T19:15:57.459Z"
   },
   {
    "duration": 5,
    "start_time": "2024-09-05T19:15:57.481Z"
   },
   {
    "duration": 14,
    "start_time": "2024-09-05T19:15:57.488Z"
   },
   {
    "duration": 158,
    "start_time": "2024-09-05T19:15:57.504Z"
   },
   {
    "duration": 11,
    "start_time": "2024-09-05T19:15:57.663Z"
   },
   {
    "duration": 313,
    "start_time": "2024-09-05T19:15:57.676Z"
   },
   {
    "duration": 121,
    "start_time": "2024-09-05T19:15:57.991Z"
   },
   {
    "duration": 90,
    "start_time": "2024-09-05T19:15:58.114Z"
   },
   {
    "duration": 5,
    "start_time": "2024-09-05T19:15:58.205Z"
   },
   {
    "duration": 251,
    "start_time": "2024-09-05T19:15:58.211Z"
   },
   {
    "duration": 12,
    "start_time": "2024-09-05T19:15:58.465Z"
   },
   {
    "duration": 29,
    "start_time": "2024-09-05T19:15:58.479Z"
   },
   {
    "duration": 247,
    "start_time": "2024-09-05T19:15:58.511Z"
   },
   {
    "duration": 9,
    "start_time": "2024-09-05T19:15:58.759Z"
   },
   {
    "duration": 176,
    "start_time": "2024-09-05T19:15:58.769Z"
   },
   {
    "duration": 14,
    "start_time": "2024-09-05T19:15:58.947Z"
   },
   {
    "duration": 36,
    "start_time": "2024-09-05T19:15:58.963Z"
   },
   {
    "duration": 30,
    "start_time": "2024-09-05T19:15:59.001Z"
   },
   {
    "duration": 4,
    "start_time": "2024-09-05T19:15:59.034Z"
   },
   {
    "duration": 21,
    "start_time": "2024-09-05T19:15:59.040Z"
   },
   {
    "duration": 12,
    "start_time": "2024-09-05T19:15:59.063Z"
   },
   {
    "duration": 41,
    "start_time": "2024-09-05T19:15:59.098Z"
   },
   {
    "duration": 24,
    "start_time": "2024-09-05T19:15:59.142Z"
   },
   {
    "duration": 4,
    "start_time": "2024-09-05T19:15:59.167Z"
   },
   {
    "duration": 361,
    "start_time": "2024-09-05T19:15:59.172Z"
   },
   {
    "duration": 8,
    "start_time": "2024-09-05T19:15:59.534Z"
   },
   {
    "duration": 8,
    "start_time": "2024-09-05T19:15:59.544Z"
   },
   {
    "duration": 258,
    "start_time": "2024-09-05T19:15:59.553Z"
   },
   {
    "duration": 434,
    "start_time": "2024-09-05T19:15:59.813Z"
   },
   {
    "duration": 313,
    "start_time": "2024-09-05T19:16:00.248Z"
   },
   {
    "duration": 328,
    "start_time": "2024-09-05T19:16:00.563Z"
   },
   {
    "duration": 9,
    "start_time": "2024-09-05T19:16:00.897Z"
   },
   {
    "duration": 21,
    "start_time": "2024-09-05T19:16:00.908Z"
   },
   {
    "duration": 253,
    "start_time": "2024-09-05T19:16:00.930Z"
   },
   {
    "duration": 43,
    "start_time": "2024-09-05T19:16:01.185Z"
   },
   {
    "duration": 3,
    "start_time": "2024-09-05T19:16:01.230Z"
   },
   {
    "duration": 214,
    "start_time": "2024-09-05T19:16:01.234Z"
   },
   {
    "duration": 6,
    "start_time": "2024-09-05T19:16:01.450Z"
   },
   {
    "duration": 7,
    "start_time": "2024-09-05T19:16:01.457Z"
   },
   {
    "duration": 6,
    "start_time": "2024-09-05T19:16:01.465Z"
   },
   {
    "duration": 34,
    "start_time": "2024-09-05T19:16:01.473Z"
   },
   {
    "duration": 7,
    "start_time": "2024-09-05T19:16:01.509Z"
   },
   {
    "duration": 28,
    "start_time": "2024-09-05T19:16:01.517Z"
   },
   {
    "duration": 13,
    "start_time": "2024-09-05T19:16:01.546Z"
   },
   {
    "duration": 5,
    "start_time": "2024-09-05T19:16:01.561Z"
   },
   {
    "duration": 11,
    "start_time": "2024-09-05T19:16:01.567Z"
   },
   {
    "duration": 14,
    "start_time": "2024-09-05T19:16:01.580Z"
   },
   {
    "duration": 10,
    "start_time": "2024-09-05T19:16:01.595Z"
   },
   {
    "duration": 8,
    "start_time": "2024-09-05T19:16:01.607Z"
   },
   {
    "duration": 33,
    "start_time": "2024-09-05T19:16:01.616Z"
   },
   {
    "duration": 5,
    "start_time": "2024-09-05T19:16:01.650Z"
   },
   {
    "duration": 153,
    "start_time": "2024-09-05T19:16:01.656Z"
   },
   {
    "duration": 289,
    "start_time": "2024-09-05T19:16:01.810Z"
   },
   {
    "duration": 1245,
    "start_time": "2024-09-05T20:56:22.006Z"
   },
   {
    "duration": 71,
    "start_time": "2024-09-05T20:56:23.253Z"
   },
   {
    "duration": 32,
    "start_time": "2024-09-05T20:56:23.326Z"
   },
   {
    "duration": 22,
    "start_time": "2024-09-05T20:56:23.361Z"
   },
   {
    "duration": 38,
    "start_time": "2024-09-05T20:56:23.385Z"
   },
   {
    "duration": 17,
    "start_time": "2024-09-05T20:56:23.425Z"
   },
   {
    "duration": 22,
    "start_time": "2024-09-05T20:56:23.444Z"
   },
   {
    "duration": 57,
    "start_time": "2024-09-05T20:56:23.468Z"
   },
   {
    "duration": 11,
    "start_time": "2024-09-05T20:56:23.527Z"
   },
   {
    "duration": 10,
    "start_time": "2024-09-05T20:56:23.541Z"
   },
   {
    "duration": 15,
    "start_time": "2024-09-05T20:56:23.553Z"
   },
   {
    "duration": 5,
    "start_time": "2024-09-05T20:56:23.569Z"
   },
   {
    "duration": 8,
    "start_time": "2024-09-05T20:56:23.576Z"
   },
   {
    "duration": 181,
    "start_time": "2024-09-05T20:56:23.621Z"
   },
   {
    "duration": 18,
    "start_time": "2024-09-05T20:56:23.804Z"
   },
   {
    "duration": 186,
    "start_time": "2024-09-05T20:56:23.824Z"
   },
   {
    "duration": 112,
    "start_time": "2024-09-05T20:56:24.012Z"
   },
   {
    "duration": 75,
    "start_time": "2024-09-05T20:56:24.126Z"
   },
   {
    "duration": 21,
    "start_time": "2024-09-05T20:56:24.203Z"
   },
   {
    "duration": 256,
    "start_time": "2024-09-05T20:56:24.225Z"
   },
   {
    "duration": 8,
    "start_time": "2024-09-05T20:56:24.483Z"
   },
   {
    "duration": 23,
    "start_time": "2024-09-05T20:56:24.492Z"
   },
   {
    "duration": 191,
    "start_time": "2024-09-05T20:56:24.517Z"
   },
   {
    "duration": 16,
    "start_time": "2024-09-05T20:56:24.710Z"
   },
   {
    "duration": 191,
    "start_time": "2024-09-05T20:56:24.728Z"
   },
   {
    "duration": 14,
    "start_time": "2024-09-05T20:56:24.921Z"
   },
   {
    "duration": 35,
    "start_time": "2024-09-05T20:56:24.936Z"
   },
   {
    "duration": 30,
    "start_time": "2024-09-05T20:56:24.974Z"
   },
   {
    "duration": 18,
    "start_time": "2024-09-05T20:56:25.005Z"
   },
   {
    "duration": 26,
    "start_time": "2024-09-05T20:56:25.025Z"
   },
   {
    "duration": 22,
    "start_time": "2024-09-05T20:56:25.053Z"
   },
   {
    "duration": 30,
    "start_time": "2024-09-05T20:56:25.077Z"
   },
   {
    "duration": 38,
    "start_time": "2024-09-05T20:56:25.110Z"
   },
   {
    "duration": 20,
    "start_time": "2024-09-05T20:56:25.150Z"
   },
   {
    "duration": 377,
    "start_time": "2024-09-05T20:56:25.171Z"
   },
   {
    "duration": 8,
    "start_time": "2024-09-05T20:56:25.549Z"
   },
   {
    "duration": 31,
    "start_time": "2024-09-05T20:56:25.558Z"
   },
   {
    "duration": 253,
    "start_time": "2024-09-05T20:56:25.590Z"
   },
   {
    "duration": 362,
    "start_time": "2024-09-05T20:56:25.845Z"
   },
   {
    "duration": 414,
    "start_time": "2024-09-05T20:56:26.209Z"
   },
   {
    "duration": 340,
    "start_time": "2024-09-05T20:56:26.625Z"
   },
   {
    "duration": 8,
    "start_time": "2024-09-05T20:56:26.967Z"
   },
   {
    "duration": 9,
    "start_time": "2024-09-05T20:56:26.977Z"
   },
   {
    "duration": 259,
    "start_time": "2024-09-05T20:56:26.987Z"
   },
   {
    "duration": 41,
    "start_time": "2024-09-05T20:56:27.247Z"
   },
   {
    "duration": 8,
    "start_time": "2024-09-05T20:56:27.290Z"
   },
   {
    "duration": 221,
    "start_time": "2024-09-05T20:56:27.299Z"
   },
   {
    "duration": 7,
    "start_time": "2024-09-05T20:56:27.522Z"
   },
   {
    "duration": 6,
    "start_time": "2024-09-05T20:56:27.530Z"
   },
   {
    "duration": 4,
    "start_time": "2024-09-05T20:56:27.538Z"
   },
   {
    "duration": 8,
    "start_time": "2024-09-05T20:56:27.544Z"
   },
   {
    "duration": 11,
    "start_time": "2024-09-05T20:56:27.554Z"
   },
   {
    "duration": 44,
    "start_time": "2024-09-05T20:56:27.566Z"
   },
   {
    "duration": 9,
    "start_time": "2024-09-05T20:56:27.612Z"
   },
   {
    "duration": 2,
    "start_time": "2024-09-05T20:56:27.623Z"
   },
   {
    "duration": 5,
    "start_time": "2024-09-05T20:56:27.627Z"
   },
   {
    "duration": 113,
    "start_time": "2024-09-05T20:56:27.633Z"
   },
   {
    "duration": 0,
    "start_time": "2024-09-05T20:56:27.747Z"
   },
   {
    "duration": 0,
    "start_time": "2024-09-05T20:56:27.748Z"
   },
   {
    "duration": 0,
    "start_time": "2024-09-05T20:56:27.751Z"
   },
   {
    "duration": 0,
    "start_time": "2024-09-05T20:56:27.752Z"
   },
   {
    "duration": 0,
    "start_time": "2024-09-05T20:56:27.753Z"
   },
   {
    "duration": 0,
    "start_time": "2024-09-05T20:56:27.754Z"
   },
   {
    "duration": 1249,
    "start_time": "2024-09-05T21:12:22.303Z"
   },
   {
    "duration": 70,
    "start_time": "2024-09-05T21:12:23.554Z"
   },
   {
    "duration": 23,
    "start_time": "2024-09-05T21:12:23.625Z"
   },
   {
    "duration": 19,
    "start_time": "2024-09-05T21:12:23.650Z"
   },
   {
    "duration": 14,
    "start_time": "2024-09-05T21:12:23.670Z"
   },
   {
    "duration": 36,
    "start_time": "2024-09-05T21:12:23.685Z"
   },
   {
    "duration": 31,
    "start_time": "2024-09-05T21:12:23.722Z"
   },
   {
    "duration": 41,
    "start_time": "2024-09-05T21:12:23.755Z"
   },
   {
    "duration": 35,
    "start_time": "2024-09-05T21:12:23.798Z"
   },
   {
    "duration": 7,
    "start_time": "2024-09-05T21:12:23.836Z"
   },
   {
    "duration": 30,
    "start_time": "2024-09-05T21:12:23.845Z"
   },
   {
    "duration": 7,
    "start_time": "2024-09-05T21:12:23.877Z"
   },
   {
    "duration": 19,
    "start_time": "2024-09-05T21:12:23.885Z"
   },
   {
    "duration": 175,
    "start_time": "2024-09-05T21:12:23.906Z"
   },
   {
    "duration": 11,
    "start_time": "2024-09-05T21:12:24.082Z"
   },
   {
    "duration": 185,
    "start_time": "2024-09-05T21:12:24.094Z"
   },
   {
    "duration": 114,
    "start_time": "2024-09-05T21:12:24.280Z"
   },
   {
    "duration": 85,
    "start_time": "2024-09-05T21:12:24.396Z"
   },
   {
    "duration": 5,
    "start_time": "2024-09-05T21:12:24.483Z"
   },
   {
    "duration": 267,
    "start_time": "2024-09-05T21:12:24.489Z"
   },
   {
    "duration": 7,
    "start_time": "2024-09-05T21:12:24.758Z"
   },
   {
    "duration": 27,
    "start_time": "2024-09-05T21:12:24.767Z"
   },
   {
    "duration": 189,
    "start_time": "2024-09-05T21:12:24.795Z"
   },
   {
    "duration": 9,
    "start_time": "2024-09-05T21:12:24.986Z"
   },
   {
    "duration": 226,
    "start_time": "2024-09-05T21:12:24.996Z"
   },
   {
    "duration": 14,
    "start_time": "2024-09-05T21:12:25.223Z"
   },
   {
    "duration": 40,
    "start_time": "2024-09-05T21:12:25.239Z"
   },
   {
    "duration": 113,
    "start_time": "2024-09-05T21:12:25.283Z"
   },
   {
    "duration": 31,
    "start_time": "2024-09-05T21:12:25.397Z"
   },
   {
    "duration": 35,
    "start_time": "2024-09-05T21:12:25.430Z"
   },
   {
    "duration": 13,
    "start_time": "2024-09-05T21:12:25.467Z"
   },
   {
    "duration": 29,
    "start_time": "2024-09-05T21:12:25.482Z"
   },
   {
    "duration": 20,
    "start_time": "2024-09-05T21:12:25.513Z"
   },
   {
    "duration": 4,
    "start_time": "2024-09-05T21:12:25.535Z"
   },
   {
    "duration": 384,
    "start_time": "2024-09-05T21:12:25.540Z"
   },
   {
    "duration": 8,
    "start_time": "2024-09-05T21:12:25.926Z"
   },
   {
    "duration": 80,
    "start_time": "2024-09-05T21:12:25.936Z"
   },
   {
    "duration": 246,
    "start_time": "2024-09-05T21:12:26.018Z"
   },
   {
    "duration": 366,
    "start_time": "2024-09-05T21:12:26.266Z"
   },
   {
    "duration": 422,
    "start_time": "2024-09-05T21:12:26.634Z"
   },
   {
    "duration": 350,
    "start_time": "2024-09-05T21:12:27.058Z"
   },
   {
    "duration": 15,
    "start_time": "2024-09-05T21:12:27.409Z"
   },
   {
    "duration": 14,
    "start_time": "2024-09-05T21:12:27.425Z"
   },
   {
    "duration": 264,
    "start_time": "2024-09-05T21:12:27.441Z"
   },
   {
    "duration": 46,
    "start_time": "2024-09-05T21:12:27.707Z"
   },
   {
    "duration": 3,
    "start_time": "2024-09-05T21:12:27.755Z"
   },
   {
    "duration": 221,
    "start_time": "2024-09-05T21:12:27.760Z"
   },
   {
    "duration": 7,
    "start_time": "2024-09-05T21:12:27.983Z"
   },
   {
    "duration": 10,
    "start_time": "2024-09-05T21:12:27.991Z"
   },
   {
    "duration": 20,
    "start_time": "2024-09-05T21:12:28.003Z"
   },
   {
    "duration": 8,
    "start_time": "2024-09-05T21:12:28.024Z"
   },
   {
    "duration": 5,
    "start_time": "2024-09-05T21:12:28.033Z"
   },
   {
    "duration": 19,
    "start_time": "2024-09-05T21:12:28.039Z"
   },
   {
    "duration": 41,
    "start_time": "2024-09-05T21:12:28.059Z"
   },
   {
    "duration": 5,
    "start_time": "2024-09-05T21:12:28.102Z"
   },
   {
    "duration": 12,
    "start_time": "2024-09-05T21:12:28.108Z"
   },
   {
    "duration": 100,
    "start_time": "2024-09-05T21:12:28.122Z"
   },
   {
    "duration": 0,
    "start_time": "2024-09-05T21:12:28.224Z"
   },
   {
    "duration": 0,
    "start_time": "2024-09-05T21:12:28.225Z"
   },
   {
    "duration": 0,
    "start_time": "2024-09-05T21:12:28.226Z"
   },
   {
    "duration": 0,
    "start_time": "2024-09-05T21:12:28.228Z"
   },
   {
    "duration": 0,
    "start_time": "2024-09-05T21:12:28.229Z"
   },
   {
    "duration": 0,
    "start_time": "2024-09-05T21:12:28.230Z"
   }
  ],
  "kernelspec": {
   "display_name": "Python 3 (ipykernel)",
   "language": "python",
   "name": "python3"
  },
  "language_info": {
   "codemirror_mode": {
    "name": "ipython",
    "version": 3
   },
   "file_extension": ".py",
   "mimetype": "text/x-python",
   "name": "python",
   "nbconvert_exporter": "python",
   "pygments_lexer": "ipython3",
   "version": "3.9.19"
  },
  "toc": {
   "base_numbering": 1,
   "nav_menu": {},
   "number_sections": true,
   "sideBar": true,
   "skip_h1_title": true,
   "title_cell": "Table of Contents",
   "title_sidebar": "Contents",
   "toc_cell": false,
   "toc_position": {},
   "toc_section_display": true,
   "toc_window_display": false
  }
 },
 "nbformat": 4,
 "nbformat_minor": 5
}
