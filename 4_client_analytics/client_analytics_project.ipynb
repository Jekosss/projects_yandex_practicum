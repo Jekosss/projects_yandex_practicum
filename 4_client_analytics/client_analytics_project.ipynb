{
 "cells": [
  {
   "cell_type": "markdown",
   "metadata": {
    "id": "H6cQIZr3ElW1"
   },
   "source": [
    "# Покупательная способность клиентов интернет-магазина💲"
   ]
  },
  {
   "cell_type": "markdown",
   "metadata": {},
   "source": [
    "**Описание проекта:** Интернет-магазин продаёт различные товары: от бытовых до продуктов. Необходимо удерживать активность постоянных клиентов."
   ]
  },
  {
   "cell_type": "markdown",
   "metadata": {},
   "source": [
    "**Цель проекта:** С использованием технологий МО и анализа данных разработать решение, которое позволит персонализировать предложения постоянным клиентам, чтобы увеличить их покупательскую активность."
   ]
  },
  {
   "cell_type": "markdown",
   "metadata": {},
   "source": [
    "**Ход исследования:**\n",
    "- Подготовка данных: загрузка и изучение общей информации\n",
    "- Предобработка данных: обработка пропущенных значений и дубликатов, корректировка типов данных, подсчет суммарных продаж по регионам\n",
    "- Исследовательский анализ данных: анализ данных каждой таблицы, отбор клиентов с покупательской активностью не менее трёх месяцев\n",
    "- Объединение таблиц\n",
    "- Корреляционный анализ: поиск мультиколлинеарности признаков\n",
    "- Создание пайплайнов\n",
    "- Анализ важности признаков\n",
    "- Сегментация покупателей\n",
    "- Вывод"
   ]
  },
  {
   "cell_type": "markdown",
   "metadata": {},
   "source": [
    "**Содержание**<a id='toc0_'></a>    \n",
    "  \n",
    "1. [Подготовка данных](#toc1_)                                  \n",
    "  1.1 [Установка библиотек и конфигурации](#toc1_1_)    \n",
    "  1.2 [Функции, используемые в проекте](#toc1_2_) \n",
    "  \n",
    "2. [Предобработка данных и исследовательский анализ данных(EDA)](#toc2_)         \n",
    "  2.1 [Датафрейм market_file](#toc2_1_)    \n",
    "  2.2 [Датафрейм market_money](#toc2_2_)    \n",
    "  2.3 [Датафрейм time_money](#toc2_3_)    \n",
    "  2.4 [Датафрейм money](#toc2_4_)                                               \n",
    "  2.5 [Отбор клиентов](#toc2_5_) \n",
    "  \n",
    "3. [Объединение данных](#toc3_)                             \n",
    "\n",
    "4. [Корреляционный анализ](#toc4_)  \n",
    "\n",
    "5. [Построение моделей](#toc5_)                           \n",
    "  5.1 [Подготовка данных](#toc5_1_)                     \n",
    "  5.2 [Построение пайплайнов](#toc5_2_)                     \n",
    "  \n",
    "7. [Анализ важности признаков](#toc7_)\n",
    "\n",
    "9. [Сегментация покупателей](#toc9_)\n",
    "\n",
    "8. [Общий вывод](#toc8_)"
   ]
  },
  {
   "cell_type": "markdown",
   "metadata": {},
   "source": [
    "## <a id='toc1_'></a> Подготовка данных[&#8593;](#toc0_)"
   ]
  },
  {
   "cell_type": "markdown",
   "metadata": {},
   "source": [
    "### <a id='toc1_1_'></a>Установка библиотек  и конфигурации [&#8593;](#toc0_)"
   ]
  },
  {
   "cell_type": "code",
   "execution_count": 1,
   "metadata": {},
   "outputs": [],
   "source": [
    "from IPython.display import clear_output"
   ]
  },
  {
   "cell_type": "code",
   "execution_count": 2,
   "metadata": {},
   "outputs": [],
   "source": [
    "from platform import python_version\n",
    "version = python_version()\n",
    "\n",
    "if version.startswith('3.9'):  \n",
    "    pass\n",
    "    %pip install --force-reinstall -v \"numpy==1.22.4\" -q\n",
    "else: \n",
    "    pass\n",
    "    %pip install --upgrade numpy -q   \n",
    "\n",
    "%pip install --force-reinstall -v \"matplotlib==3.8.0\" -q\n",
    "\n",
    "%pip install --upgrade phik -q\n",
    "%pip install --upgrade prettytable -q\n",
    "%pip install --upgrade termcolor -q\n",
    "%pip install --upgrade seaborn -q\n",
    "%pip install --upgrade pandas -q\n",
    "%pip install --upgrade statsmodels -q\n",
    "%pip install --upgrade scikit-learn -q\n",
    "%pip install --upgrade shap -q\n",
    "\n",
    "clear_output()"
   ]
  },
  {
   "cell_type": "code",
   "execution_count": 3,
   "metadata": {},
   "outputs": [],
   "source": [
    "import numpy as np\n",
    "import pandas as pd\n",
    "import matplotlib.pyplot as plt\n",
    "import seaborn as sns\n",
    "import shap\n",
    "\n",
    "from os.path import exists\n",
    "from sklearn.pipeline import Pipeline\n",
    "from sklearn.linear_model import LogisticRegression\n",
    "from sklearn.svm import SVC\n",
    "from sklearn.dummy import DummyClassifier\n",
    "from sklearn.tree import DecisionTreeClassifier\n",
    "from sklearn.neighbors import KNeighborsClassifier\n",
    "from sklearn.compose import ColumnTransformer\n",
    "from sklearn.preprocessing import (\n",
    "    StandardScaler,\n",
    "    MinMaxScaler,\n",
    "    OneHotEncoder,\n",
    "    OrdinalEncoder,\n",
    "    LabelEncoder)\n",
    "from sklearn.impute import SimpleImputer\n",
    "from sklearn.metrics import roc_auc_score\n",
    "from sklearn.model_selection import (\n",
    "    train_test_split,\n",
    "    GridSearchCV)\n",
    "from phik import phik_matrix  # this import IS accessed\n",
    "from prettytable import PrettyTable\n",
    "from termcolor import colored\n",
    "from statsmodels.stats.outliers_influence import variance_inflation_factor\n",
    "from statsmodels.tools.tools import add_constant"
   ]
  },
  {
   "cell_type": "code",
   "execution_count": 4,
   "metadata": {},
   "outputs": [],
   "source": [
    "RANDOM_STATE = 42\n",
    "TEST_SIZE = 0.25\n",
    "\n",
    "pd.options.display.float_format = '{:.2f}'.format\n",
    "pd.set_option('display.max_colwidth', None)"
   ]
  },
  {
   "cell_type": "markdown",
   "metadata": {},
   "source": [
    "### <a id='toc1_2_'></a>Функции, используемые в проекте [&#8593;](#toc0_)"
   ]
  },
  {
   "cell_type": "code",
   "execution_count": 5,
   "metadata": {},
   "outputs": [],
   "source": [
    "def print_nans_table(data: pd.DataFrame) -> None:\n",
    "    table = PrettyTable()\n",
    "    table.field_names = ['Признаки', 'Пропущенное количество значений']\n",
    "    \n",
    "    missing_info = data.isna().sum().sort_values()\n",
    "    cols = missing_info.index.to_list()\n",
    "    for col in cols:\n",
    "        count = missing_info[col]\n",
    "        color = 'blue' if count == 0 else 'red'\n",
    "        s = f'{count} ({count / len(data):.1%})'\n",
    "        table.add_row([col, colored(s, color)])\n",
    "    \n",
    "    print(table)"
   ]
  },
  {
   "cell_type": "code",
   "execution_count": 6,
   "metadata": {},
   "outputs": [],
   "source": [
    "def the_basic_plots(df: pd.DataFrame,\n",
    "                    column: str,\n",
    "                    column_description: str,\n",
    "                    bins: int = 25\n",
    "                    ) -> None:\n",
    "    \n",
    "    _, ((ax1, ax2)) = plt.subplots(1, 2, figsize=(10, 6))\n",
    "\n",
    "    sns.boxplot(data=df, x=column, ax=ax1)\n",
    "    ax1.set_xlabel(column_description)\n",
    "    ax1.grid()\n",
    "\n",
    "    sns.histplot(data=df, x=column, bins=bins, ax=ax2)\n",
    "    ax2.set_xlabel(column_description)\n",
    "    ax2.grid()\n",
    "    ax2.set_ylabel('Количество')\n",
    "\n",
    "    plt.suptitle(f'Информация о колонке {column_description}', fontsize=18)\n",
    "    plt.tight_layout()\n",
    "\n",
    "    plt.show()"
   ]
  },
  {
   "cell_type": "code",
   "execution_count": 7,
   "metadata": {},
   "outputs": [],
   "source": [
    "def plot_pie_chart(series: pd.Series, title: str) -> None:\n",
    "    table_1 = series.value_counts()\n",
    "    data, labels = table_1.values, table_1.index\n",
    "    plt.pie(data, labels=labels, autopct='%.0f%%')\n",
    "    plt.title(title)\n",
    "    plt.show()"
   ]
  },
  {
   "cell_type": "code",
   "execution_count": 8,
   "metadata": {},
   "outputs": [],
   "source": [
    "def addlabels(data,x,y) -> None:\n",
    "    for i in range(len(data)):\n",
    "        plt.text(i, y[i], y[i], ha = 'center')"
   ]
  },
  {
   "cell_type": "markdown",
   "metadata": {},
   "source": [
    "## <a id='toc2_'></a> Предобработка данных и исследовательский анализ данных(EDA) [&#8593;](#toc0_)"
   ]
  },
  {
   "cell_type": "markdown",
   "metadata": {},
   "source": [
    "### <a id='toc2_1_'></a>Датафрейм market_file [&#8593;](#toc0_)"
   ]
  },
  {
   "cell_type": "code",
   "execution_count": 9,
   "metadata": {},
   "outputs": [],
   "source": [
    "market_file = pd.read_csv('/datasets/market_file.csv')"
   ]
  },
  {
   "cell_type": "code",
   "execution_count": 10,
   "metadata": {},
   "outputs": [
    {
     "data": {
      "text/html": [
       "<div>\n",
       "<style scoped>\n",
       "    .dataframe tbody tr th:only-of-type {\n",
       "        vertical-align: middle;\n",
       "    }\n",
       "\n",
       "    .dataframe tbody tr th {\n",
       "        vertical-align: top;\n",
       "    }\n",
       "\n",
       "    .dataframe thead th {\n",
       "        text-align: right;\n",
       "    }\n",
       "</style>\n",
       "<table border=\"1\" class=\"dataframe\">\n",
       "  <thead>\n",
       "    <tr style=\"text-align: right;\">\n",
       "      <th></th>\n",
       "      <th>id</th>\n",
       "      <th>Покупательская активность</th>\n",
       "      <th>Тип сервиса</th>\n",
       "      <th>Разрешить сообщать</th>\n",
       "      <th>Маркет_актив_6_мес</th>\n",
       "      <th>Маркет_актив_тек_мес</th>\n",
       "      <th>Длительность</th>\n",
       "      <th>Акционные_покупки</th>\n",
       "      <th>Популярная_категория</th>\n",
       "      <th>Средний_просмотр_категорий_за_визит</th>\n",
       "      <th>Неоплаченные_продукты_штук_квартал</th>\n",
       "      <th>Ошибка_сервиса</th>\n",
       "      <th>Страниц_за_визит</th>\n",
       "    </tr>\n",
       "  </thead>\n",
       "  <tbody>\n",
       "    <tr>\n",
       "      <th>0</th>\n",
       "      <td>215348</td>\n",
       "      <td>Снизилась</td>\n",
       "      <td>премиум</td>\n",
       "      <td>да</td>\n",
       "      <td>3.40</td>\n",
       "      <td>5</td>\n",
       "      <td>121</td>\n",
       "      <td>0.00</td>\n",
       "      <td>Товары для детей</td>\n",
       "      <td>6</td>\n",
       "      <td>2</td>\n",
       "      <td>1</td>\n",
       "      <td>5</td>\n",
       "    </tr>\n",
       "    <tr>\n",
       "      <th>1</th>\n",
       "      <td>215349</td>\n",
       "      <td>Снизилась</td>\n",
       "      <td>премиум</td>\n",
       "      <td>да</td>\n",
       "      <td>4.40</td>\n",
       "      <td>4</td>\n",
       "      <td>819</td>\n",
       "      <td>0.75</td>\n",
       "      <td>Товары для детей</td>\n",
       "      <td>4</td>\n",
       "      <td>4</td>\n",
       "      <td>2</td>\n",
       "      <td>5</td>\n",
       "    </tr>\n",
       "    <tr>\n",
       "      <th>2</th>\n",
       "      <td>215350</td>\n",
       "      <td>Снизилась</td>\n",
       "      <td>стандартт</td>\n",
       "      <td>нет</td>\n",
       "      <td>4.90</td>\n",
       "      <td>3</td>\n",
       "      <td>539</td>\n",
       "      <td>0.14</td>\n",
       "      <td>Домашний текстиль</td>\n",
       "      <td>5</td>\n",
       "      <td>2</td>\n",
       "      <td>1</td>\n",
       "      <td>5</td>\n",
       "    </tr>\n",
       "    <tr>\n",
       "      <th>3</th>\n",
       "      <td>215351</td>\n",
       "      <td>Снизилась</td>\n",
       "      <td>стандартт</td>\n",
       "      <td>да</td>\n",
       "      <td>3.20</td>\n",
       "      <td>5</td>\n",
       "      <td>896</td>\n",
       "      <td>0.99</td>\n",
       "      <td>Товары для детей</td>\n",
       "      <td>5</td>\n",
       "      <td>0</td>\n",
       "      <td>6</td>\n",
       "      <td>4</td>\n",
       "    </tr>\n",
       "    <tr>\n",
       "      <th>4</th>\n",
       "      <td>215352</td>\n",
       "      <td>Снизилась</td>\n",
       "      <td>стандартт</td>\n",
       "      <td>нет</td>\n",
       "      <td>5.10</td>\n",
       "      <td>3</td>\n",
       "      <td>1064</td>\n",
       "      <td>0.94</td>\n",
       "      <td>Товары для детей</td>\n",
       "      <td>3</td>\n",
       "      <td>2</td>\n",
       "      <td>3</td>\n",
       "      <td>2</td>\n",
       "    </tr>\n",
       "  </tbody>\n",
       "</table>\n",
       "</div>"
      ],
      "text/plain": [
       "       id Покупательская активность Тип сервиса Разрешить сообщать  \\\n",
       "0  215348                 Снизилась     премиум                 да   \n",
       "1  215349                 Снизилась     премиум                 да   \n",
       "2  215350                 Снизилась   стандартт                нет   \n",
       "3  215351                 Снизилась   стандартт                 да   \n",
       "4  215352                 Снизилась   стандартт                нет   \n",
       "\n",
       "   Маркет_актив_6_мес  Маркет_актив_тек_мес  Длительность  Акционные_покупки  \\\n",
       "0                3.40                     5           121               0.00   \n",
       "1                4.40                     4           819               0.75   \n",
       "2                4.90                     3           539               0.14   \n",
       "3                3.20                     5           896               0.99   \n",
       "4                5.10                     3          1064               0.94   \n",
       "\n",
       "  Популярная_категория  Средний_просмотр_категорий_за_визит  \\\n",
       "0     Товары для детей                                    6   \n",
       "1     Товары для детей                                    4   \n",
       "2    Домашний текстиль                                    5   \n",
       "3     Товары для детей                                    5   \n",
       "4     Товары для детей                                    3   \n",
       "\n",
       "   Неоплаченные_продукты_штук_квартал  Ошибка_сервиса  Страниц_за_визит  \n",
       "0                                   2               1                 5  \n",
       "1                                   4               2                 5  \n",
       "2                                   2               1                 5  \n",
       "3                                   0               6                 4  \n",
       "4                                   2               3                 2  "
      ]
     },
     "execution_count": 10,
     "metadata": {},
     "output_type": "execute_result"
    }
   ],
   "source": [
    "market_file.head()"
   ]
  },
  {
   "cell_type": "markdown",
   "metadata": {},
   "source": [
    "1. Переименуем столбцы по стандарту:\n"
   ]
  },
  {
   "cell_type": "code",
   "execution_count": 11,
   "metadata": {},
   "outputs": [],
   "source": [
    "market_file = market_file.rename(columns={\n",
    "    'Покупательская активность': 'purchasing_activity',\n",
    "    'Тип сервиса': 'service_type',\n",
    "    'Разрешить сообщать': 'is_mailing_allowed',\n",
    "    'Маркет_актив_6_мес': 'marketing_activity_6_months',\n",
    "    'Маркет_актив_тек_мес': 'marketing_activity_current_month',\n",
    "    'Длительность': 'days_after_registration',\n",
    "    'Акционные_покупки': 'sale_purchases_part',\n",
    "    'Популярная_категория': 'most_popular_category',\n",
    "    'Средний_просмотр_категорий_за_визит': 'categories_visited_per_session',\n",
    "    'Неоплаченные_продукты_штук_квартал': 'unpaid_items_number',\n",
    "    'Ошибка_сервиса': 'fail_number',\n",
    "    'Страниц_за_визит': 'pages_per_session'\n",
    "}, errors='raise')"
   ]
  },
  {
   "cell_type": "code",
   "execution_count": 12,
   "metadata": {},
   "outputs": [
    {
     "data": {
      "text/plain": [
       "Index(['id', 'purchasing_activity', 'service_type', 'is_mailing_allowed',\n",
       "       'marketing_activity_6_months', 'marketing_activity_current_month',\n",
       "       'days_after_registration', 'sale_purchases_part',\n",
       "       'most_popular_category', 'categories_visited_per_session',\n",
       "       'unpaid_items_number', 'fail_number', 'pages_per_session'],\n",
       "      dtype='object')"
      ]
     },
     "execution_count": 12,
     "metadata": {},
     "output_type": "execute_result"
    }
   ],
   "source": [
    "market_file.columns"
   ]
  },
  {
   "cell_type": "markdown",
   "metadata": {},
   "source": [
    "2. Проверим типы данных"
   ]
  },
  {
   "cell_type": "code",
   "execution_count": 13,
   "metadata": {},
   "outputs": [
    {
     "name": "stdout",
     "output_type": "stream",
     "text": [
      "<class 'pandas.core.frame.DataFrame'>\n",
      "RangeIndex: 1300 entries, 0 to 1299\n",
      "Data columns (total 13 columns):\n",
      " #   Column                            Non-Null Count  Dtype  \n",
      "---  ------                            --------------  -----  \n",
      " 0   id                                1300 non-null   int64  \n",
      " 1   purchasing_activity               1300 non-null   object \n",
      " 2   service_type                      1300 non-null   object \n",
      " 3   is_mailing_allowed                1300 non-null   object \n",
      " 4   marketing_activity_6_months       1300 non-null   float64\n",
      " 5   marketing_activity_current_month  1300 non-null   int64  \n",
      " 6   days_after_registration           1300 non-null   int64  \n",
      " 7   sale_purchases_part               1300 non-null   float64\n",
      " 8   most_popular_category             1300 non-null   object \n",
      " 9   categories_visited_per_session    1300 non-null   int64  \n",
      " 10  unpaid_items_number               1300 non-null   int64  \n",
      " 11  fail_number                       1300 non-null   int64  \n",
      " 12  pages_per_session                 1300 non-null   int64  \n",
      "dtypes: float64(2), int64(7), object(4)\n",
      "memory usage: 132.2+ KB\n"
     ]
    }
   ],
   "source": [
    "market_file.info()\n"
   ]
  },
  {
   "cell_type": "markdown",
   "metadata": {},
   "source": [
    "Все типы данных верны"
   ]
  },
  {
   "cell_type": "markdown",
   "metadata": {},
   "source": [
    "3. Проверим пропуски"
   ]
  },
  {
   "cell_type": "code",
   "execution_count": 14,
   "metadata": {},
   "outputs": [
    {
     "name": "stdout",
     "output_type": "stream",
     "text": [
      "+----------------------------------+---------------------------------+\n",
      "|             Признаки             | Пропущенное количество значений |\n",
      "+----------------------------------+---------------------------------+\n",
      "|                id                |             0 (0.0%)            |\n",
      "|       purchasing_activity        |             0 (0.0%)            |\n",
      "|           service_type           |             0 (0.0%)            |\n",
      "|        is_mailing_allowed        |             0 (0.0%)            |\n",
      "|   marketing_activity_6_months    |             0 (0.0%)            |\n",
      "| marketing_activity_current_month |             0 (0.0%)            |\n",
      "|     days_after_registration      |             0 (0.0%)            |\n",
      "|       sale_purchases_part        |             0 (0.0%)            |\n",
      "|      most_popular_category       |             0 (0.0%)            |\n",
      "|  categories_visited_per_session  |             0 (0.0%)            |\n",
      "|       unpaid_items_number        |             0 (0.0%)            |\n",
      "|           fail_number            |             0 (0.0%)            |\n",
      "|        pages_per_session         |             0 (0.0%)            |\n",
      "+----------------------------------+---------------------------------+\n"
     ]
    }
   ],
   "source": [
    "print_nans_table(market_file)"
   ]
  },
  {
   "cell_type": "markdown",
   "metadata": {},
   "source": [
    "Пропуски не обнаружены"
   ]
  },
  {
   "cell_type": "markdown",
   "metadata": {},
   "source": [
    "4. Посмотрим на дубликаты:"
   ]
  },
  {
   "cell_type": "code",
   "execution_count": 15,
   "metadata": {},
   "outputs": [
    {
     "data": {
      "text/plain": [
       "0"
      ]
     },
     "execution_count": 15,
     "metadata": {},
     "output_type": "execute_result"
    }
   ],
   "source": [
    "market_file.duplicated().sum()"
   ]
  },
  {
   "cell_type": "markdown",
   "metadata": {},
   "source": [
    "Дубликаты так же не обнаружены"
   ]
  },
  {
   "cell_type": "code",
   "execution_count": 16,
   "metadata": {
    "scrolled": true
   },
   "outputs": [
    {
     "data": {
      "text/plain": [
       "service_type\n",
       "стандарт     914\n",
       "премиум      376\n",
       "стандартт     10\n",
       "Name: count, dtype: int64"
      ]
     },
     "execution_count": 16,
     "metadata": {},
     "output_type": "execute_result"
    }
   ],
   "source": [
    "market_file['service_type'].value_counts()"
   ]
  },
  {
   "cell_type": "markdown",
   "metadata": {},
   "source": [
    "В самом начале было видно, что в типах сервиса есть не совсем верная запись слова \"стандарт\", проверим и устраним эти ошибки: "
   ]
  },
  {
   "cell_type": "code",
   "execution_count": 17,
   "metadata": {},
   "outputs": [],
   "source": [
    "market_file.loc[market_file['service_type']=='стандартт','service_type'] = 'стандарт'"
   ]
  },
  {
   "cell_type": "code",
   "execution_count": 18,
   "metadata": {},
   "outputs": [
    {
     "data": {
      "text/plain": [
       "service_type\n",
       "стандарт    924\n",
       "премиум     376\n",
       "Name: count, dtype: int64"
      ]
     },
     "execution_count": 18,
     "metadata": {},
     "output_type": "execute_result"
    }
   ],
   "source": [
    "market_file['service_type'].value_counts()"
   ]
  },
  {
   "cell_type": "markdown",
   "metadata": {},
   "source": [
    "**Далее перейдем к исследованию распределений значений по столбцам(EDA).**"
   ]
  },
  {
   "cell_type": "markdown",
   "metadata": {},
   "source": [
    "1. Столбец purchasing_activity"
   ]
  },
  {
   "cell_type": "code",
   "execution_count": 19,
   "metadata": {},
   "outputs": [
    {
     "data": {
      "text/plain": [
       "purchasing_activity\n",
       "Прежний уровень    802\n",
       "Снизилась          498\n",
       "Name: count, dtype: int64"
      ]
     },
     "execution_count": 19,
     "metadata": {},
     "output_type": "execute_result"
    }
   ],
   "source": [
    "market_file['purchasing_activity'].value_counts()"
   ]
  },
  {
   "cell_type": "code",
   "execution_count": 20,
   "metadata": {},
   "outputs": [
    {
     "data": {
      "image/png": "[encoded data removed]",
      "text/plain": [
       "<Figure size 432x288 with 1 Axes>"
      ]
     },
     "metadata": {},
     "output_type": "display_data"
    }
   ],
   "source": [
    "plot_pie_chart(market_file['purchasing_activity'], 'Покупательская активность')"
   ]
  },
  {
   "cell_type": "markdown",
   "metadata": {},
   "source": [
    "Большинство покупателей продолжают быть верными интернет магазину и тратить деньги"
   ]
  },
  {
   "cell_type": "markdown",
   "metadata": {},
   "source": [
    "2. Столбец service_type"
   ]
  },
  {
   "cell_type": "code",
   "execution_count": 21,
   "metadata": {},
   "outputs": [
    {
     "data": {
      "text/plain": [
       "service_type\n",
       "стандарт    924\n",
       "премиум     376\n",
       "Name: count, dtype: int64"
      ]
     },
     "execution_count": 21,
     "metadata": {},
     "output_type": "execute_result"
    }
   ],
   "source": [
    "market_file['service_type'].value_counts()"
   ]
  },
  {
   "cell_type": "code",
   "execution_count": 22,
   "metadata": {},
   "outputs": [
    {
     "data": {
      "image/png": "[encoded data removed]",
      "text/plain": [
       "<Figure size 432x288 with 1 Axes>"
      ]
     },
     "metadata": {},
     "output_type": "display_data"
    }
   ],
   "source": [
    "plot_pie_chart(market_file['service_type'], 'Тип сервиса')"
   ]
  },
  {
   "cell_type": "markdown",
   "metadata": {},
   "source": [
    "Болшинство имеют стандартный тип сервиса"
   ]
  },
  {
   "cell_type": "markdown",
   "metadata": {},
   "source": [
    "3. Столбец is_mailing_allowed"
   ]
  },
  {
   "cell_type": "code",
   "execution_count": 23,
   "metadata": {},
   "outputs": [
    {
     "data": {
      "text/plain": [
       "is_mailing_allowed\n",
       "да     962\n",
       "нет    338\n",
       "Name: count, dtype: int64"
      ]
     },
     "execution_count": 23,
     "metadata": {},
     "output_type": "execute_result"
    }
   ],
   "source": [
    "market_file['is_mailing_allowed'].value_counts()"
   ]
  },
  {
   "cell_type": "code",
   "execution_count": 24,
   "metadata": {},
   "outputs": [
    {
     "data": {
      "image/png": "[encoded data removed]",
      "text/plain": [
       "<Figure size 432x288 with 1 Axes>"
      ]
     },
     "metadata": {},
     "output_type": "display_data"
    }
   ],
   "source": [
    "plot_pie_chart(market_file['is_mailing_allowed'], 'Разрешение о сообщении предложений товаров')"
   ]
  },
  {
   "cell_type": "markdown",
   "metadata": {},
   "source": [
    "Большая часть людей готова принимать предложения о новых товарах"
   ]
  },
  {
   "cell_type": "markdown",
   "metadata": {},
   "source": [
    "4. Столбец marketing_activity_6_months"
   ]
  },
  {
   "cell_type": "code",
   "execution_count": 25,
   "metadata": {
    "scrolled": true
   },
   "outputs": [
    {
     "data": {
      "image/png": "[encoded data removed]",
      "text/plain": [
       "<Figure size 720x432 with 2 Axes>"
      ]
     },
     "metadata": {
      "needs_background": "light"
     },
     "output_type": "display_data"
    }
   ],
   "source": [
    "the_basic_plots (market_file, 'marketing_activity_6_months', 'Маркетинговая активность за последние 6 месяцев на человека')"
   ]
  },
  {
   "cell_type": "markdown",
   "metadata": {},
   "source": [
    "Распределение с натяжкой можно назвать нормальным, однако категорически неприемлемых выбросов так же здесь нет."
   ]
  },
  {
   "cell_type": "markdown",
   "metadata": {},
   "source": [
    "5. Столбец marketing_activity_current_month"
   ]
  },
  {
   "cell_type": "code",
   "execution_count": 26,
   "metadata": {},
   "outputs": [
    {
     "data": {
      "image/png": "[encoded data removed]",
      "text/plain": [
       "<Figure size 432x288 with 1 Axes>"
      ]
     },
     "metadata": {
      "needs_background": "light"
     },
     "output_type": "display_data"
    }
   ],
   "source": [
    "ax = sns.countplot(x = 'marketing_activity_current_month',  data = market_file)\n",
    "plt.grid()\n",
    "ax.bar_label(ax.containers[0])\n",
    "plt.title('Маркетинговая активность за текущий месяц на человека')\n",
    "plt.xlabel('Значения активности')\n",
    "plt.ylabel('Частота')\n",
    "plt.show()"
   ]
  },
  {
   "cell_type": "markdown",
   "metadata": {},
   "source": [
    "Видимо четко выделенные средства на четко регламентированное количество оповещений и звонков на человека здесь дают подобные результаты"
   ]
  },
  {
   "cell_type": "markdown",
   "metadata": {},
   "source": [
    "6. Столбец days_after_registration"
   ]
  },
  {
   "cell_type": "code",
   "execution_count": 27,
   "metadata": {},
   "outputs": [
    {
     "data": {
      "image/png": "[encoded data removed]",
      "text/plain": [
       "<Figure size 720x432 with 2 Axes>"
      ]
     },
     "metadata": {
      "needs_background": "light"
     },
     "output_type": "display_data"
    }
   ],
   "source": [
    "the_basic_plots (market_file, 'days_after_registration', 'Кол-во дней с момента регистрации')"
   ]
  },
  {
   "cell_type": "markdown",
   "metadata": {},
   "source": [
    "Почти нормальное распределение"
   ]
  },
  {
   "cell_type": "markdown",
   "metadata": {},
   "source": [
    "7. Столбец sale_purchases_part"
   ]
  },
  {
   "cell_type": "code",
   "execution_count": 28,
   "metadata": {},
   "outputs": [
    {
     "data": {
      "image/png": "[encoded data removed]",
      "text/plain": [
       "<Figure size 720x432 with 2 Axes>"
      ]
     },
     "metadata": {
      "needs_background": "light"
     },
     "output_type": "display_data"
    }
   ],
   "source": [
    "the_basic_plots (market_file, 'sale_purchases_part', 'Доля покупок акционных товаров')"
   ]
  },
  {
   "cell_type": "markdown",
   "metadata": {},
   "source": [
    "Бимодальное распределение, обсуловленное определенным количеством людей, обращающихся в основном за акционными товарами"
   ]
  },
  {
   "cell_type": "markdown",
   "metadata": {},
   "source": [
    "8. Столбец categories_visited_per_session"
   ]
  },
  {
   "cell_type": "code",
   "execution_count": 29,
   "metadata": {},
   "outputs": [
    {
     "data": {
      "image/png": "[encoded data removed]",
      "text/plain": [
       "<Figure size 432x288 with 1 Axes>"
      ]
     },
     "metadata": {
      "needs_background": "light"
     },
     "output_type": "display_data"
    }
   ],
   "source": [
    "ax = sns.countplot(x = 'categories_visited_per_session',  data = market_file)\n",
    "plt.grid()\n",
    "ax.bar_label(ax.containers[0])\n",
    "plt.title('Средний просмотр категорий за визит')\n",
    "plt.xlabel('Значения')\n",
    "plt.ylabel('Частота')\n",
    "plt.show()"
   ]
  },
  {
   "cell_type": "markdown",
   "metadata": {},
   "source": [
    "дискретное распределение"
   ]
  },
  {
   "cell_type": "markdown",
   "metadata": {},
   "source": [
    "9. Столбец most_popular_category "
   ]
  },
  {
   "cell_type": "code",
   "execution_count": 30,
   "metadata": {},
   "outputs": [
    {
     "data": {
      "text/plain": [
       "most_popular_category\n",
       "Товары для детей                        330\n",
       "Домашний текстиль                       251\n",
       "Косметика и аксесуары                   223\n",
       "Техника для красоты и здоровья          184\n",
       "Мелкая бытовая техника и электроника    174\n",
       "Кухонная посуда                         138\n",
       "Name: count, dtype: int64"
      ]
     },
     "execution_count": 30,
     "metadata": {},
     "output_type": "execute_result"
    }
   ],
   "source": [
    "market_file['most_popular_category'].value_counts()"
   ]
  },
  {
   "cell_type": "code",
   "execution_count": 31,
   "metadata": {},
   "outputs": [
    {
     "data": {
      "image/png": "[encoded data removed]",
      "text/plain": [
       "<Figure size 432x288 with 1 Axes>"
      ]
     },
     "metadata": {},
     "output_type": "display_data"
    }
   ],
   "source": [
    "plot_pie_chart(market_file['most_popular_category'], 'Наиболее популярный тип товара у пользователя за последние 6 месяцев')"
   ]
  },
  {
   "cell_type": "markdown",
   "metadata": {},
   "source": [
    "10. Столбец categories_visited_per_session"
   ]
  },
  {
   "cell_type": "code",
   "execution_count": 32,
   "metadata": {},
   "outputs": [
    {
     "data": {
      "image/png": "[encoded data removed]",
      "text/plain": [
       "<Figure size 432x288 with 1 Axes>"
      ]
     },
     "metadata": {
      "needs_background": "light"
     },
     "output_type": "display_data"
    }
   ],
   "source": [
    "ax = sns.countplot(x = 'unpaid_items_number',  data = market_file)\n",
    "plt.grid()\n",
    "ax.bar_label(ax.containers[0])\n",
    "plt.title('Неоплаченные продукты: шт/квартал')\n",
    "plt.xlabel('Значения продуктов шт/квартал')\n",
    "plt.ylabel('Частота')\n",
    "plt.show()"
   ]
  },
  {
   "cell_type": "markdown",
   "metadata": {},
   "source": [
    "Прослеживается пуассоновское распределение"
   ]
  },
  {
   "cell_type": "markdown",
   "metadata": {},
   "source": [
    "11. Столбец fail_number"
   ]
  },
  {
   "cell_type": "code",
   "execution_count": 33,
   "metadata": {},
   "outputs": [
    {
     "data": {
      "image/png": "[encoded data removed]",
      "text/plain": [
       "<Figure size 432x288 with 1 Axes>"
      ]
     },
     "metadata": {
      "needs_background": "light"
     },
     "output_type": "display_data"
    }
   ],
   "source": [
    "ax = sns.countplot(x = 'fail_number',  data = market_file)\n",
    "plt.grid()\n",
    "ax.bar_label(ax.containers[0])\n",
    "plt.title('Кол-во сбоев во время посещения сайта')\n",
    "plt.xlabel('Значения сбоев')\n",
    "plt.ylabel('Частота')\n",
    "plt.show()"
   ]
  },
  {
   "cell_type": "markdown",
   "metadata": {},
   "source": [
    "Выбросов не наблюдаем"
   ]
  },
  {
   "cell_type": "markdown",
   "metadata": {},
   "source": [
    "12. Столбец pages_per_session"
   ]
  },
  {
   "cell_type": "code",
   "execution_count": 34,
   "metadata": {},
   "outputs": [
    {
     "data": {
      "image/png": "[encoded data removed]",
      "text/plain": [
       "<Figure size 720x432 with 2 Axes>"
      ]
     },
     "metadata": {
      "needs_background": "light"
     },
     "output_type": "display_data"
    }
   ],
   "source": [
    "the_basic_plots (market_file, 'pages_per_session', 'Среднее кол-во страниц за визит ')"
   ]
  },
  {
   "cell_type": "markdown",
   "metadata": {},
   "source": [
    "Так же без явных выбросов и аномалий"
   ]
  },
  {
   "cell_type": "markdown",
   "metadata": {},
   "source": [
    "**Вывод**:\n",
    "\n",
    "Данные таблицы *market_file* проанализированы и предобработаны: дубликатов и пропусков нет, тип данных корректны, выбросов также нет."
   ]
  },
  {
   "cell_type": "markdown",
   "metadata": {},
   "source": [
    "### <a id='toc2_2_'></a>Датафрейм market_money [&#8593;](#toc0_)"
   ]
  },
  {
   "cell_type": "code",
   "execution_count": 35,
   "metadata": {},
   "outputs": [],
   "source": [
    "market_money = pd.read_csv('/datasets/market_money.csv')"
   ]
  },
  {
   "cell_type": "code",
   "execution_count": 36,
   "metadata": {
    "scrolled": true
   },
   "outputs": [
    {
     "data": {
      "text/html": [
       "<div>\n",
       "<style scoped>\n",
       "    .dataframe tbody tr th:only-of-type {\n",
       "        vertical-align: middle;\n",
       "    }\n",
       "\n",
       "    .dataframe tbody tr th {\n",
       "        vertical-align: top;\n",
       "    }\n",
       "\n",
       "    .dataframe thead th {\n",
       "        text-align: right;\n",
       "    }\n",
       "</style>\n",
       "<table border=\"1\" class=\"dataframe\">\n",
       "  <thead>\n",
       "    <tr style=\"text-align: right;\">\n",
       "      <th></th>\n",
       "      <th>id</th>\n",
       "      <th>Период</th>\n",
       "      <th>Выручка</th>\n",
       "    </tr>\n",
       "  </thead>\n",
       "  <tbody>\n",
       "    <tr>\n",
       "      <th>0</th>\n",
       "      <td>215348</td>\n",
       "      <td>препредыдущий_месяц</td>\n",
       "      <td>0.00</td>\n",
       "    </tr>\n",
       "    <tr>\n",
       "      <th>1</th>\n",
       "      <td>215348</td>\n",
       "      <td>текущий_месяц</td>\n",
       "      <td>3293.10</td>\n",
       "    </tr>\n",
       "    <tr>\n",
       "      <th>2</th>\n",
       "      <td>215348</td>\n",
       "      <td>предыдущий_месяц</td>\n",
       "      <td>0.00</td>\n",
       "    </tr>\n",
       "    <tr>\n",
       "      <th>3</th>\n",
       "      <td>215349</td>\n",
       "      <td>препредыдущий_месяц</td>\n",
       "      <td>4472.00</td>\n",
       "    </tr>\n",
       "    <tr>\n",
       "      <th>4</th>\n",
       "      <td>215349</td>\n",
       "      <td>текущий_месяц</td>\n",
       "      <td>4971.60</td>\n",
       "    </tr>\n",
       "  </tbody>\n",
       "</table>\n",
       "</div>"
      ],
      "text/plain": [
       "       id               Период  Выручка\n",
       "0  215348  препредыдущий_месяц     0.00\n",
       "1  215348        текущий_месяц  3293.10\n",
       "2  215348     предыдущий_месяц     0.00\n",
       "3  215349  препредыдущий_месяц  4472.00\n",
       "4  215349        текущий_месяц  4971.60"
      ]
     },
     "execution_count": 36,
     "metadata": {},
     "output_type": "execute_result"
    }
   ],
   "source": [
    "market_money.head()"
   ]
  },
  {
   "cell_type": "markdown",
   "metadata": {},
   "source": [
    "1. Переименуем названия столбцов "
   ]
  },
  {
   "cell_type": "code",
   "execution_count": 37,
   "metadata": {},
   "outputs": [],
   "source": [
    "market_money = market_money.rename(columns={\n",
    "    'Период': 'period',\n",
    "    'Выручка': 'revenue'\n",
    "})"
   ]
  },
  {
   "cell_type": "code",
   "execution_count": 38,
   "metadata": {
    "scrolled": true
   },
   "outputs": [
    {
     "data": {
      "text/html": [
       "<div>\n",
       "<style scoped>\n",
       "    .dataframe tbody tr th:only-of-type {\n",
       "        vertical-align: middle;\n",
       "    }\n",
       "\n",
       "    .dataframe tbody tr th {\n",
       "        vertical-align: top;\n",
       "    }\n",
       "\n",
       "    .dataframe thead th {\n",
       "        text-align: right;\n",
       "    }\n",
       "</style>\n",
       "<table border=\"1\" class=\"dataframe\">\n",
       "  <thead>\n",
       "    <tr style=\"text-align: right;\">\n",
       "      <th></th>\n",
       "      <th>id</th>\n",
       "      <th>period</th>\n",
       "      <th>revenue</th>\n",
       "    </tr>\n",
       "  </thead>\n",
       "  <tbody>\n",
       "    <tr>\n",
       "      <th>0</th>\n",
       "      <td>215348</td>\n",
       "      <td>препредыдущий_месяц</td>\n",
       "      <td>0.00</td>\n",
       "    </tr>\n",
       "    <tr>\n",
       "      <th>1</th>\n",
       "      <td>215348</td>\n",
       "      <td>текущий_месяц</td>\n",
       "      <td>3293.10</td>\n",
       "    </tr>\n",
       "    <tr>\n",
       "      <th>2</th>\n",
       "      <td>215348</td>\n",
       "      <td>предыдущий_месяц</td>\n",
       "      <td>0.00</td>\n",
       "    </tr>\n",
       "    <tr>\n",
       "      <th>3</th>\n",
       "      <td>215349</td>\n",
       "      <td>препредыдущий_месяц</td>\n",
       "      <td>4472.00</td>\n",
       "    </tr>\n",
       "    <tr>\n",
       "      <th>4</th>\n",
       "      <td>215349</td>\n",
       "      <td>текущий_месяц</td>\n",
       "      <td>4971.60</td>\n",
       "    </tr>\n",
       "  </tbody>\n",
       "</table>\n",
       "</div>"
      ],
      "text/plain": [
       "       id               period  revenue\n",
       "0  215348  препредыдущий_месяц     0.00\n",
       "1  215348        текущий_месяц  3293.10\n",
       "2  215348     предыдущий_месяц     0.00\n",
       "3  215349  препредыдущий_месяц  4472.00\n",
       "4  215349        текущий_месяц  4971.60"
      ]
     },
     "execution_count": 38,
     "metadata": {},
     "output_type": "execute_result"
    }
   ],
   "source": [
    "market_money.head()"
   ]
  },
  {
   "cell_type": "markdown",
   "metadata": {},
   "source": [
    "2. Проверим типы данных"
   ]
  },
  {
   "cell_type": "code",
   "execution_count": 39,
   "metadata": {},
   "outputs": [
    {
     "name": "stdout",
     "output_type": "stream",
     "text": [
      "<class 'pandas.core.frame.DataFrame'>\n",
      "RangeIndex: 3900 entries, 0 to 3899\n",
      "Data columns (total 3 columns):\n",
      " #   Column   Non-Null Count  Dtype  \n",
      "---  ------   --------------  -----  \n",
      " 0   id       3900 non-null   int64  \n",
      " 1   period   3900 non-null   object \n",
      " 2   revenue  3900 non-null   float64\n",
      "dtypes: float64(1), int64(1), object(1)\n",
      "memory usage: 91.5+ KB\n"
     ]
    }
   ],
   "source": [
    "market_money.info()\n"
   ]
  },
  {
   "cell_type": "markdown",
   "metadata": {},
   "source": [
    "3. Проверим пропуски"
   ]
  },
  {
   "cell_type": "code",
   "execution_count": 40,
   "metadata": {},
   "outputs": [
    {
     "name": "stdout",
     "output_type": "stream",
     "text": [
      "+----------+---------------------------------+\n",
      "| Признаки | Пропущенное количество значений |\n",
      "+----------+---------------------------------+\n",
      "|    id    |             0 (0.0%)            |\n",
      "|  period  |             0 (0.0%)            |\n",
      "| revenue  |             0 (0.0%)            |\n",
      "+----------+---------------------------------+\n"
     ]
    }
   ],
   "source": [
    "print_nans_table(market_money)"
   ]
  },
  {
   "cell_type": "markdown",
   "metadata": {},
   "source": [
    "Пропусков нет"
   ]
  },
  {
   "cell_type": "markdown",
   "metadata": {},
   "source": [
    "4. Выясним, есть ли дубликаты:"
   ]
  },
  {
   "cell_type": "code",
   "execution_count": 41,
   "metadata": {},
   "outputs": [
    {
     "data": {
      "text/plain": [
       "0"
      ]
     },
     "execution_count": 41,
     "metadata": {},
     "output_type": "execute_result"
    }
   ],
   "source": [
    "market_money.duplicated().sum()"
   ]
  },
  {
   "cell_type": "markdown",
   "metadata": {},
   "source": [
    "Дубликатов нет.\n",
    "\n",
    "**Можем приступить к EDA столбцов:**"
   ]
  },
  {
   "cell_type": "markdown",
   "metadata": {},
   "source": [
    "1. Столбец period"
   ]
  },
  {
   "cell_type": "code",
   "execution_count": 42,
   "metadata": {},
   "outputs": [
    {
     "data": {
      "image/png": "[encoded data removed]",
      "text/plain": [
       "<Figure size 432x288 with 1 Axes>"
      ]
     },
     "metadata": {},
     "output_type": "display_data"
    }
   ],
   "source": [
    "plot_pie_chart(market_money['period'], 'Период')"
   ]
  },
  {
   "cell_type": "markdown",
   "metadata": {},
   "source": [
    "2. Столбец revenue "
   ]
  },
  {
   "cell_type": "code",
   "execution_count": 43,
   "metadata": {},
   "outputs": [
    {
     "data": {
      "image/png": "[encoded data removed]",
      "text/plain": [
       "<Figure size 720x432 with 2 Axes>"
      ]
     },
     "metadata": {
      "needs_background": "light"
     },
     "output_type": "display_data"
    }
   ],
   "source": [
    "the_basic_plots (market_money, 'revenue', 'Выручка')"
   ]
  },
  {
   "cell_type": "markdown",
   "metadata": {},
   "source": [
    "Видим сильный выброс, уберем его:"
   ]
  },
  {
   "cell_type": "code",
   "execution_count": 47,
   "metadata": {},
   "outputs": [],
   "source": [
    "bad_ids_ = market_money.loc[market_money['revenue']>100000, 'id'].unique()\n",
    "bad_ids_mask = market_money['id'].isin(bad_ids_)\n",
    "market_money = market_money[~bad_ids_mask]"
   ]
  },
  {
   "cell_type": "code",
   "execution_count": 48,
   "metadata": {},
   "outputs": [
    {
     "name": "stdout",
     "output_type": "stream",
     "text": [
      "<class 'pandas.core.frame.DataFrame'>\n",
      "Index: 3897 entries, 0 to 3899\n",
      "Data columns (total 3 columns):\n",
      " #   Column   Non-Null Count  Dtype  \n",
      "---  ------   --------------  -----  \n",
      " 0   id       3897 non-null   int64  \n",
      " 1   period   3897 non-null   object \n",
      " 2   revenue  3897 non-null   float64\n",
      "dtypes: float64(1), int64(1), object(1)\n",
      "memory usage: 121.8+ KB\n"
     ]
    }
   ],
   "source": [
    "market_money.info()"
   ]
  },
  {
   "cell_type": "code",
   "execution_count": 49,
   "metadata": {},
   "outputs": [
    {
     "data": {
      "image/png": "[encoded data removed]",
      "text/plain": [
       "<Figure size 720x432 with 2 Axes>"
      ]
     },
     "metadata": {
      "needs_background": "light"
     },
     "output_type": "display_data"
    }
   ],
   "source": [
    "the_basic_plots (market_money, 'revenue', 'Выручка')"
   ]
  },
  {
   "cell_type": "markdown",
   "metadata": {},
   "source": [
    "Теперь распределение похоже на нормальное"
   ]
  },
  {
   "cell_type": "markdown",
   "metadata": {},
   "source": [
    "**Вывод**:\n"
   ]
  },
  {
   "cell_type": "markdown",
   "metadata": {},
   "source": [
    "Выбросы удалены, датафрейм проверен на наличие пропусков и дубликатов, которых не оказалось."
   ]
  },
  {
   "cell_type": "markdown",
   "metadata": {},
   "source": [
    "### <a id='toc2_3_'></a> Датафрейм market_time [&#8593;](#toc0_)"
   ]
  },
  {
   "cell_type": "code",
   "execution_count": 50,
   "metadata": {},
   "outputs": [],
   "source": [
    "market_time = pd.read_csv('/datasets/market_time.csv')"
   ]
  },
  {
   "cell_type": "code",
   "execution_count": 51,
   "metadata": {},
   "outputs": [
    {
     "data": {
      "text/html": [
       "<div>\n",
       "<style scoped>\n",
       "    .dataframe tbody tr th:only-of-type {\n",
       "        vertical-align: middle;\n",
       "    }\n",
       "\n",
       "    .dataframe tbody tr th {\n",
       "        vertical-align: top;\n",
       "    }\n",
       "\n",
       "    .dataframe thead th {\n",
       "        text-align: right;\n",
       "    }\n",
       "</style>\n",
       "<table border=\"1\" class=\"dataframe\">\n",
       "  <thead>\n",
       "    <tr style=\"text-align: right;\">\n",
       "      <th></th>\n",
       "      <th>id</th>\n",
       "      <th>Период</th>\n",
       "      <th>минут</th>\n",
       "    </tr>\n",
       "  </thead>\n",
       "  <tbody>\n",
       "    <tr>\n",
       "      <th>0</th>\n",
       "      <td>215348</td>\n",
       "      <td>текущий_месяц</td>\n",
       "      <td>14</td>\n",
       "    </tr>\n",
       "    <tr>\n",
       "      <th>1</th>\n",
       "      <td>215348</td>\n",
       "      <td>предыдцщий_месяц</td>\n",
       "      <td>13</td>\n",
       "    </tr>\n",
       "    <tr>\n",
       "      <th>2</th>\n",
       "      <td>215349</td>\n",
       "      <td>текущий_месяц</td>\n",
       "      <td>10</td>\n",
       "    </tr>\n",
       "    <tr>\n",
       "      <th>3</th>\n",
       "      <td>215349</td>\n",
       "      <td>предыдцщий_месяц</td>\n",
       "      <td>12</td>\n",
       "    </tr>\n",
       "    <tr>\n",
       "      <th>4</th>\n",
       "      <td>215350</td>\n",
       "      <td>текущий_месяц</td>\n",
       "      <td>13</td>\n",
       "    </tr>\n",
       "  </tbody>\n",
       "</table>\n",
       "</div>"
      ],
      "text/plain": [
       "       id            Период  минут\n",
       "0  215348     текущий_месяц     14\n",
       "1  215348  предыдцщий_месяц     13\n",
       "2  215349     текущий_месяц     10\n",
       "3  215349  предыдцщий_месяц     12\n",
       "4  215350     текущий_месяц     13"
      ]
     },
     "execution_count": 51,
     "metadata": {},
     "output_type": "execute_result"
    }
   ],
   "source": [
    "market_time.head()"
   ]
  },
  {
   "cell_type": "code",
   "execution_count": 52,
   "metadata": {},
   "outputs": [],
   "source": [
    "market_time = market_time.rename(columns={\n",
    "    'Период': 'period',\n",
    "    'минут': 'minutes'\n",
    "})"
   ]
  },
  {
   "cell_type": "code",
   "execution_count": 53,
   "metadata": {},
   "outputs": [
    {
     "data": {
      "text/html": [
       "<div>\n",
       "<style scoped>\n",
       "    .dataframe tbody tr th:only-of-type {\n",
       "        vertical-align: middle;\n",
       "    }\n",
       "\n",
       "    .dataframe tbody tr th {\n",
       "        vertical-align: top;\n",
       "    }\n",
       "\n",
       "    .dataframe thead th {\n",
       "        text-align: right;\n",
       "    }\n",
       "</style>\n",
       "<table border=\"1\" class=\"dataframe\">\n",
       "  <thead>\n",
       "    <tr style=\"text-align: right;\">\n",
       "      <th></th>\n",
       "      <th>id</th>\n",
       "      <th>period</th>\n",
       "      <th>minutes</th>\n",
       "    </tr>\n",
       "  </thead>\n",
       "  <tbody>\n",
       "    <tr>\n",
       "      <th>0</th>\n",
       "      <td>215348</td>\n",
       "      <td>текущий_месяц</td>\n",
       "      <td>14</td>\n",
       "    </tr>\n",
       "    <tr>\n",
       "      <th>1</th>\n",
       "      <td>215348</td>\n",
       "      <td>предыдцщий_месяц</td>\n",
       "      <td>13</td>\n",
       "    </tr>\n",
       "    <tr>\n",
       "      <th>2</th>\n",
       "      <td>215349</td>\n",
       "      <td>текущий_месяц</td>\n",
       "      <td>10</td>\n",
       "    </tr>\n",
       "    <tr>\n",
       "      <th>3</th>\n",
       "      <td>215349</td>\n",
       "      <td>предыдцщий_месяц</td>\n",
       "      <td>12</td>\n",
       "    </tr>\n",
       "    <tr>\n",
       "      <th>4</th>\n",
       "      <td>215350</td>\n",
       "      <td>текущий_месяц</td>\n",
       "      <td>13</td>\n",
       "    </tr>\n",
       "  </tbody>\n",
       "</table>\n",
       "</div>"
      ],
      "text/plain": [
       "       id            period  minutes\n",
       "0  215348     текущий_месяц       14\n",
       "1  215348  предыдцщий_месяц       13\n",
       "2  215349     текущий_месяц       10\n",
       "3  215349  предыдцщий_месяц       12\n",
       "4  215350     текущий_месяц       13"
      ]
     },
     "execution_count": 53,
     "metadata": {},
     "output_type": "execute_result"
    }
   ],
   "source": [
    "market_time.head()"
   ]
  },
  {
   "cell_type": "markdown",
   "metadata": {},
   "source": [
    "В столбце *период* есть ошибка в написании, проверим и исправим ее:"
   ]
  },
  {
   "cell_type": "code",
   "execution_count": 54,
   "metadata": {},
   "outputs": [
    {
     "data": {
      "text/plain": [
       "period\n",
       "текущий_месяц       1300\n",
       "предыдцщий_месяц    1300\n",
       "Name: count, dtype: int64"
      ]
     },
     "execution_count": 54,
     "metadata": {},
     "output_type": "execute_result"
    }
   ],
   "source": [
    "market_time['period'].value_counts()"
   ]
  },
  {
   "cell_type": "code",
   "execution_count": 55,
   "metadata": {},
   "outputs": [],
   "source": [
    "market_time.loc[market_time['period']=='предыдцщий_месяц','period'] = 'предыдущий_месяц'"
   ]
  },
  {
   "cell_type": "code",
   "execution_count": 56,
   "metadata": {},
   "outputs": [
    {
     "data": {
      "text/plain": [
       "period\n",
       "текущий_месяц       1300\n",
       "предыдущий_месяц    1300\n",
       "Name: count, dtype: int64"
      ]
     },
     "execution_count": 56,
     "metadata": {},
     "output_type": "execute_result"
    }
   ],
   "source": [
    "market_time['period'].value_counts()"
   ]
  },
  {
   "cell_type": "markdown",
   "metadata": {},
   "source": [
    "Проверим типы данных:"
   ]
  },
  {
   "cell_type": "code",
   "execution_count": 57,
   "metadata": {},
   "outputs": [
    {
     "name": "stdout",
     "output_type": "stream",
     "text": [
      "<class 'pandas.core.frame.DataFrame'>\n",
      "RangeIndex: 2600 entries, 0 to 2599\n",
      "Data columns (total 3 columns):\n",
      " #   Column   Non-Null Count  Dtype \n",
      "---  ------   --------------  ----- \n",
      " 0   id       2600 non-null   int64 \n",
      " 1   period   2600 non-null   object\n",
      " 2   minutes  2600 non-null   int64 \n",
      "dtypes: int64(2), object(1)\n",
      "memory usage: 61.1+ KB\n"
     ]
    }
   ],
   "source": [
    "market_time.info()"
   ]
  },
  {
   "cell_type": "markdown",
   "metadata": {},
   "source": [
    "Пропуски и дубликаты:"
   ]
  },
  {
   "cell_type": "code",
   "execution_count": 58,
   "metadata": {},
   "outputs": [
    {
     "name": "stdout",
     "output_type": "stream",
     "text": [
      "+----------+---------------------------------+\n",
      "| Признаки | Пропущенное количество значений |\n",
      "+----------+---------------------------------+\n",
      "|    id    |             0 (0.0%)            |\n",
      "|  period  |             0 (0.0%)            |\n",
      "| minutes  |             0 (0.0%)            |\n",
      "+----------+---------------------------------+\n"
     ]
    }
   ],
   "source": [
    "print_nans_table(market_time)"
   ]
  },
  {
   "cell_type": "code",
   "execution_count": 59,
   "metadata": {},
   "outputs": [
    {
     "data": {
      "text/plain": [
       "0"
      ]
     },
     "execution_count": 59,
     "metadata": {},
     "output_type": "execute_result"
    }
   ],
   "source": [
    "market_time.duplicated().sum()"
   ]
  },
  {
   "cell_type": "markdown",
   "metadata": {},
   "source": [
    "Пропусков и дубликатов нет.\n",
    "\n",
    "**Перейдем к EDA:**"
   ]
  },
  {
   "cell_type": "markdown",
   "metadata": {},
   "source": [
    "1. Столбец period"
   ]
  },
  {
   "cell_type": "code",
   "execution_count": 60,
   "metadata": {},
   "outputs": [
    {
     "data": {
      "image/png": "[encoded data removed]",
      "text/plain": [
       "<Figure size 432x288 with 1 Axes>"
      ]
     },
     "metadata": {},
     "output_type": "display_data"
    }
   ],
   "source": [
    "plot_pie_chart(market_time['period'], 'Период')"
   ]
  },
  {
   "cell_type": "markdown",
   "metadata": {},
   "source": [
    "2. Столбец minutes "
   ]
  },
  {
   "cell_type": "code",
   "execution_count": 61,
   "metadata": {},
   "outputs": [
    {
     "data": {
      "image/png": "[encoded data removed]",
      "text/plain": [
       "<Figure size 720x432 with 2 Axes>"
      ]
     },
     "metadata": {
      "needs_background": "light"
     },
     "output_type": "display_data"
    }
   ],
   "source": [
    "the_basic_plots(market_time, 'minutes', 'Кол-во минут')"
   ]
  },
  {
   "cell_type": "markdown",
   "metadata": {},
   "source": [
    "**Вывод**:\n",
    "Исследованы пропуски, дубликаты, синтаксические ошибки. Данные готовы к дальнейшей обработке"
   ]
  },
  {
   "cell_type": "markdown",
   "metadata": {},
   "source": [
    "### <a id='toc2_4_'></a> Датафрейм  money [&#8593;](#toc0_)"
   ]
  },
  {
   "cell_type": "code",
   "execution_count": 62,
   "metadata": {},
   "outputs": [],
   "source": [
    "money = pd.read_csv('/datasets/money.csv', sep=';', decimal=',')"
   ]
  },
  {
   "cell_type": "code",
   "execution_count": 63,
   "metadata": {},
   "outputs": [
    {
     "data": {
      "text/html": [
       "<div>\n",
       "<style scoped>\n",
       "    .dataframe tbody tr th:only-of-type {\n",
       "        vertical-align: middle;\n",
       "    }\n",
       "\n",
       "    .dataframe tbody tr th {\n",
       "        vertical-align: top;\n",
       "    }\n",
       "\n",
       "    .dataframe thead th {\n",
       "        text-align: right;\n",
       "    }\n",
       "</style>\n",
       "<table border=\"1\" class=\"dataframe\">\n",
       "  <thead>\n",
       "    <tr style=\"text-align: right;\">\n",
       "      <th></th>\n",
       "      <th>id</th>\n",
       "      <th>Прибыль</th>\n",
       "    </tr>\n",
       "  </thead>\n",
       "  <tbody>\n",
       "    <tr>\n",
       "      <th>0</th>\n",
       "      <td>215348</td>\n",
       "      <td>0.98</td>\n",
       "    </tr>\n",
       "    <tr>\n",
       "      <th>1</th>\n",
       "      <td>215349</td>\n",
       "      <td>4.16</td>\n",
       "    </tr>\n",
       "    <tr>\n",
       "      <th>2</th>\n",
       "      <td>215350</td>\n",
       "      <td>3.13</td>\n",
       "    </tr>\n",
       "    <tr>\n",
       "      <th>3</th>\n",
       "      <td>215351</td>\n",
       "      <td>4.87</td>\n",
       "    </tr>\n",
       "    <tr>\n",
       "      <th>4</th>\n",
       "      <td>215352</td>\n",
       "      <td>4.21</td>\n",
       "    </tr>\n",
       "  </tbody>\n",
       "</table>\n",
       "</div>"
      ],
      "text/plain": [
       "       id  Прибыль\n",
       "0  215348     0.98\n",
       "1  215349     4.16\n",
       "2  215350     3.13\n",
       "3  215351     4.87\n",
       "4  215352     4.21"
      ]
     },
     "execution_count": 63,
     "metadata": {},
     "output_type": "execute_result"
    }
   ],
   "source": [
    "money.head()"
   ]
  },
  {
   "cell_type": "markdown",
   "metadata": {},
   "source": [
    "1. Переименуем столбцы:"
   ]
  },
  {
   "cell_type": "code",
   "execution_count": 64,
   "metadata": {},
   "outputs": [],
   "source": [
    "money = money.rename(columns={\n",
    "    'Прибыль': 'profit'\n",
    "})"
   ]
  },
  {
   "cell_type": "code",
   "execution_count": 65,
   "metadata": {},
   "outputs": [
    {
     "data": {
      "text/html": [
       "<div>\n",
       "<style scoped>\n",
       "    .dataframe tbody tr th:only-of-type {\n",
       "        vertical-align: middle;\n",
       "    }\n",
       "\n",
       "    .dataframe tbody tr th {\n",
       "        vertical-align: top;\n",
       "    }\n",
       "\n",
       "    .dataframe thead th {\n",
       "        text-align: right;\n",
       "    }\n",
       "</style>\n",
       "<table border=\"1\" class=\"dataframe\">\n",
       "  <thead>\n",
       "    <tr style=\"text-align: right;\">\n",
       "      <th></th>\n",
       "      <th>id</th>\n",
       "      <th>profit</th>\n",
       "    </tr>\n",
       "  </thead>\n",
       "  <tbody>\n",
       "    <tr>\n",
       "      <th>0</th>\n",
       "      <td>215348</td>\n",
       "      <td>0.98</td>\n",
       "    </tr>\n",
       "    <tr>\n",
       "      <th>1</th>\n",
       "      <td>215349</td>\n",
       "      <td>4.16</td>\n",
       "    </tr>\n",
       "    <tr>\n",
       "      <th>2</th>\n",
       "      <td>215350</td>\n",
       "      <td>3.13</td>\n",
       "    </tr>\n",
       "    <tr>\n",
       "      <th>3</th>\n",
       "      <td>215351</td>\n",
       "      <td>4.87</td>\n",
       "    </tr>\n",
       "    <tr>\n",
       "      <th>4</th>\n",
       "      <td>215352</td>\n",
       "      <td>4.21</td>\n",
       "    </tr>\n",
       "  </tbody>\n",
       "</table>\n",
       "</div>"
      ],
      "text/plain": [
       "       id  profit\n",
       "0  215348    0.98\n",
       "1  215349    4.16\n",
       "2  215350    3.13\n",
       "3  215351    4.87\n",
       "4  215352    4.21"
      ]
     },
     "execution_count": 65,
     "metadata": {},
     "output_type": "execute_result"
    }
   ],
   "source": [
    "money.head()"
   ]
  },
  {
   "cell_type": "markdown",
   "metadata": {},
   "source": [
    "2. Проверим типы данных, пропуски и дубликаты:"
   ]
  },
  {
   "cell_type": "code",
   "execution_count": 66,
   "metadata": {},
   "outputs": [
    {
     "name": "stdout",
     "output_type": "stream",
     "text": [
      "<class 'pandas.core.frame.DataFrame'>\n",
      "RangeIndex: 1300 entries, 0 to 1299\n",
      "Data columns (total 2 columns):\n",
      " #   Column  Non-Null Count  Dtype  \n",
      "---  ------  --------------  -----  \n",
      " 0   id      1300 non-null   int64  \n",
      " 1   profit  1300 non-null   float64\n",
      "dtypes: float64(1), int64(1)\n",
      "memory usage: 20.4 KB\n"
     ]
    }
   ],
   "source": [
    "money.info()"
   ]
  },
  {
   "cell_type": "code",
   "execution_count": 67,
   "metadata": {},
   "outputs": [],
   "source": [
    "money = money.set_index('id')"
   ]
  },
  {
   "cell_type": "code",
   "execution_count": 68,
   "metadata": {},
   "outputs": [
    {
     "name": "stdout",
     "output_type": "stream",
     "text": [
      "+----------+---------------------------------+\n",
      "| Признаки | Пропущенное количество значений |\n",
      "+----------+---------------------------------+\n",
      "|  profit  |             0 (0.0%)            |\n",
      "+----------+---------------------------------+\n"
     ]
    }
   ],
   "source": [
    "print_nans_table(money)"
   ]
  },
  {
   "cell_type": "code",
   "execution_count": 69,
   "metadata": {},
   "outputs": [
    {
     "data": {
      "text/plain": [
       "900"
      ]
     },
     "execution_count": 69,
     "metadata": {},
     "output_type": "execute_result"
    }
   ],
   "source": [
    "money.duplicated().sum()"
   ]
  },
  {
   "cell_type": "markdown",
   "metadata": {},
   "source": [
    "Исследуем столбец с прибылью:"
   ]
  },
  {
   "cell_type": "code",
   "execution_count": 70,
   "metadata": {},
   "outputs": [
    {
     "data": {
      "image/png": "[encoded data removed]",
      "text/plain": [
       "<Figure size 720x432 with 2 Axes>"
      ]
     },
     "metadata": {
      "needs_background": "light"
     },
     "output_type": "display_data"
    }
   ],
   "source": [
    "the_basic_plots(money, 'profit', 'Прибыль')"
   ]
  },
  {
   "cell_type": "markdown",
   "metadata": {},
   "source": [
    "**Вывод**:\n",
    "\n",
    "Близко к нормальному распределению. Критических выбросов нет. Пропуски и дубликаты не обнаружены"
   ]
  },
  {
   "cell_type": "markdown",
   "metadata": {},
   "source": [
    "### <a id='toc2_5_'></a> Отбор клиентов [&#8593;](#toc0_)"
   ]
  },
  {
   "cell_type": "markdown",
   "metadata": {},
   "source": [
    "Для начала составим сводные таблицы."
   ]
  },
  {
   "cell_type": "code",
   "execution_count": 71,
   "metadata": {},
   "outputs": [
    {
     "data": {
      "text/html": [
       "<div>\n",
       "<style scoped>\n",
       "    .dataframe tbody tr th:only-of-type {\n",
       "        vertical-align: middle;\n",
       "    }\n",
       "\n",
       "    .dataframe tbody tr th {\n",
       "        vertical-align: top;\n",
       "    }\n",
       "\n",
       "    .dataframe thead th {\n",
       "        text-align: right;\n",
       "    }\n",
       "</style>\n",
       "<table border=\"1\" class=\"dataframe\">\n",
       "  <thead>\n",
       "    <tr style=\"text-align: right;\">\n",
       "      <th>period</th>\n",
       "      <th>money_1_month_ago</th>\n",
       "      <th>money_2_months_ago</th>\n",
       "      <th>money_this_month</th>\n",
       "    </tr>\n",
       "    <tr>\n",
       "      <th>id</th>\n",
       "      <th></th>\n",
       "      <th></th>\n",
       "      <th></th>\n",
       "    </tr>\n",
       "  </thead>\n",
       "  <tbody>\n",
       "    <tr>\n",
       "      <th>215348</th>\n",
       "      <td>0.00</td>\n",
       "      <td>0.00</td>\n",
       "      <td>3293.10</td>\n",
       "    </tr>\n",
       "    <tr>\n",
       "      <th>215349</th>\n",
       "      <td>5216.00</td>\n",
       "      <td>4472.00</td>\n",
       "      <td>4971.60</td>\n",
       "    </tr>\n",
       "    <tr>\n",
       "      <th>215350</th>\n",
       "      <td>5457.50</td>\n",
       "      <td>4826.00</td>\n",
       "      <td>5058.40</td>\n",
       "    </tr>\n",
       "    <tr>\n",
       "      <th>215351</th>\n",
       "      <td>6158.00</td>\n",
       "      <td>4793.00</td>\n",
       "      <td>6610.40</td>\n",
       "    </tr>\n",
       "    <tr>\n",
       "      <th>215352</th>\n",
       "      <td>5807.50</td>\n",
       "      <td>4594.00</td>\n",
       "      <td>5872.50</td>\n",
       "    </tr>\n",
       "  </tbody>\n",
       "</table>\n",
       "</div>"
      ],
      "text/plain": [
       "period  money_1_month_ago  money_2_months_ago  money_this_month\n",
       "id                                                             \n",
       "215348               0.00                0.00           3293.10\n",
       "215349            5216.00             4472.00           4971.60\n",
       "215350            5457.50             4826.00           5058.40\n",
       "215351            6158.00             4793.00           6610.40\n",
       "215352            5807.50             4594.00           5872.50"
      ]
     },
     "execution_count": 71,
     "metadata": {},
     "output_type": "execute_result"
    }
   ],
   "source": [
    "market_money = market_money.pivot_table(values='revenue', columns='period', index='id')\n",
    "market_money = market_money.rename(columns={\n",
    "    'предыдущий_месяц': 'money_1_month_ago',\n",
    "    'препредыдущий_месяц': 'money_2_months_ago',\n",
    "    'текущий_месяц': 'money_this_month' \n",
    "})\n",
    "market_money.head()"
   ]
  },
  {
   "cell_type": "code",
   "execution_count": 72,
   "metadata": {},
   "outputs": [
    {
     "data": {
      "text/html": [
       "<div>\n",
       "<style scoped>\n",
       "    .dataframe tbody tr th:only-of-type {\n",
       "        vertical-align: middle;\n",
       "    }\n",
       "\n",
       "    .dataframe tbody tr th {\n",
       "        vertical-align: top;\n",
       "    }\n",
       "\n",
       "    .dataframe thead th {\n",
       "        text-align: right;\n",
       "    }\n",
       "</style>\n",
       "<table border=\"1\" class=\"dataframe\">\n",
       "  <thead>\n",
       "    <tr style=\"text-align: right;\">\n",
       "      <th>period</th>\n",
       "      <th>time_1_month_ago</th>\n",
       "      <th>time_this_month</th>\n",
       "    </tr>\n",
       "    <tr>\n",
       "      <th>id</th>\n",
       "      <th></th>\n",
       "      <th></th>\n",
       "    </tr>\n",
       "  </thead>\n",
       "  <tbody>\n",
       "    <tr>\n",
       "      <th>215348</th>\n",
       "      <td>13.00</td>\n",
       "      <td>14.00</td>\n",
       "    </tr>\n",
       "    <tr>\n",
       "      <th>215349</th>\n",
       "      <td>12.00</td>\n",
       "      <td>10.00</td>\n",
       "    </tr>\n",
       "    <tr>\n",
       "      <th>215350</th>\n",
       "      <td>8.00</td>\n",
       "      <td>13.00</td>\n",
       "    </tr>\n",
       "    <tr>\n",
       "      <th>215351</th>\n",
       "      <td>11.00</td>\n",
       "      <td>13.00</td>\n",
       "    </tr>\n",
       "    <tr>\n",
       "      <th>215352</th>\n",
       "      <td>8.00</td>\n",
       "      <td>11.00</td>\n",
       "    </tr>\n",
       "  </tbody>\n",
       "</table>\n",
       "</div>"
      ],
      "text/plain": [
       "period  time_1_month_ago  time_this_month\n",
       "id                                       \n",
       "215348             13.00            14.00\n",
       "215349             12.00            10.00\n",
       "215350              8.00            13.00\n",
       "215351             11.00            13.00\n",
       "215352              8.00            11.00"
      ]
     },
     "execution_count": 72,
     "metadata": {},
     "output_type": "execute_result"
    }
   ],
   "source": [
    "market_time = market_time.pivot_table(index='id', values='minutes', columns='period')\n",
    "market_time = market_time.rename(columns={\n",
    "    'предыдущий_месяц': 'time_1_month_ago',\n",
    "    'текущий_месяц': 'time_this_month' \n",
    "})\n",
    "market_time.head()"
   ]
  },
  {
   "cell_type": "markdown",
   "metadata": {},
   "source": [
    "Такие таблицы удобны для дальнейшей работы."
   ]
  },
  {
   "cell_type": "markdown",
   "metadata": {},
   "source": [
    "Отберем клиентов с покупательной активностью не менее 3-х месяцев:"
   ]
  },
  {
   "cell_type": "code",
   "execution_count": 73,
   "metadata": {
    "scrolled": true
   },
   "outputs": [
    {
     "data": {
      "text/html": [
       "<div>\n",
       "<style scoped>\n",
       "    .dataframe tbody tr th:only-of-type {\n",
       "        vertical-align: middle;\n",
       "    }\n",
       "\n",
       "    .dataframe tbody tr th {\n",
       "        vertical-align: top;\n",
       "    }\n",
       "\n",
       "    .dataframe thead th {\n",
       "        text-align: right;\n",
       "    }\n",
       "</style>\n",
       "<table border=\"1\" class=\"dataframe\">\n",
       "  <thead>\n",
       "    <tr style=\"text-align: right;\">\n",
       "      <th>period</th>\n",
       "      <th>money_1_month_ago</th>\n",
       "      <th>money_2_months_ago</th>\n",
       "      <th>money_this_month</th>\n",
       "    </tr>\n",
       "    <tr>\n",
       "      <th>id</th>\n",
       "      <th></th>\n",
       "      <th></th>\n",
       "      <th></th>\n",
       "    </tr>\n",
       "  </thead>\n",
       "  <tbody>\n",
       "    <tr>\n",
       "      <th>215348</th>\n",
       "      <td>0.00</td>\n",
       "      <td>0.00</td>\n",
       "      <td>3293.10</td>\n",
       "    </tr>\n",
       "    <tr>\n",
       "      <th>215357</th>\n",
       "      <td>0.00</td>\n",
       "      <td>0.00</td>\n",
       "      <td>5986.30</td>\n",
       "    </tr>\n",
       "    <tr>\n",
       "      <th>215359</th>\n",
       "      <td>0.00</td>\n",
       "      <td>0.00</td>\n",
       "      <td>4735.00</td>\n",
       "    </tr>\n",
       "  </tbody>\n",
       "</table>\n",
       "</div>"
      ],
      "text/plain": [
       "period  money_1_month_ago  money_2_months_ago  money_this_month\n",
       "id                                                             \n",
       "215348               0.00                0.00           3293.10\n",
       "215357               0.00                0.00           5986.30\n",
       "215359               0.00                0.00           4735.00"
      ]
     },
     "execution_count": 73,
     "metadata": {},
     "output_type": "execute_result"
    }
   ],
   "source": [
    "market_money.loc[(market_money['money_2_months_ago']==0) | (market_money['money_1_month_ago']==0)]"
   ]
  },
  {
   "cell_type": "code",
   "execution_count": 74,
   "metadata": {},
   "outputs": [
    {
     "data": {
      "text/plain": [
       "(1299, 3)"
      ]
     },
     "execution_count": 74,
     "metadata": {},
     "output_type": "execute_result"
    }
   ],
   "source": [
    "market_money.shape"
   ]
  },
  {
   "cell_type": "markdown",
   "metadata": {},
   "source": [
    "Уберем трех данных неактивных ранее клиентов из рассмотрения, они нам не помогут:"
   ]
  },
  {
   "cell_type": "code",
   "execution_count": 75,
   "metadata": {},
   "outputs": [],
   "source": [
    "market_money = market_money.loc[(market_money['money_2_months_ago']!=0) & (market_money['money_1_month_ago']!=0)]"
   ]
  },
  {
   "cell_type": "code",
   "execution_count": 76,
   "metadata": {},
   "outputs": [
    {
     "data": {
      "text/plain": [
       "(1296, 3)"
      ]
     },
     "execution_count": 76,
     "metadata": {},
     "output_type": "execute_result"
    }
   ],
   "source": [
    "market_money.shape"
   ]
  },
  {
   "cell_type": "markdown",
   "metadata": {},
   "source": [
    "Таким образом, выбраны 1296 клиентов с постоянной на протяжении 3-х месяцев покупательной активностью, учитывая, что данный месяц еще не подошел к концу."
   ]
  },
  {
   "cell_type": "markdown",
   "metadata": {},
   "source": [
    "## <a id='toc3_'></a> Объединение данных [&#8593;](#toc0_)"
   ]
  },
  {
   "cell_type": "code",
   "execution_count": 77,
   "metadata": {},
   "outputs": [],
   "source": [
    "market_file = market_file.set_index('id')"
   ]
  },
  {
   "cell_type": "code",
   "execution_count": 78,
   "metadata": {},
   "outputs": [
    {
     "data": {
      "text/html": [
       "<div>\n",
       "<style scoped>\n",
       "    .dataframe tbody tr th:only-of-type {\n",
       "        vertical-align: middle;\n",
       "    }\n",
       "\n",
       "    .dataframe tbody tr th {\n",
       "        vertical-align: top;\n",
       "    }\n",
       "\n",
       "    .dataframe thead th {\n",
       "        text-align: right;\n",
       "    }\n",
       "</style>\n",
       "<table border=\"1\" class=\"dataframe\">\n",
       "  <thead>\n",
       "    <tr style=\"text-align: right;\">\n",
       "      <th></th>\n",
       "      <th>categories_visited_per_session</th>\n",
       "      <th>days_after_registration</th>\n",
       "      <th>fail_number</th>\n",
       "      <th>is_mailing_allowed</th>\n",
       "      <th>marketing_activity_6_months</th>\n",
       "      <th>marketing_activity_current_month</th>\n",
       "      <th>money_1_month_ago</th>\n",
       "      <th>money_2_months_ago</th>\n",
       "      <th>money_this_month</th>\n",
       "      <th>most_popular_category</th>\n",
       "      <th>pages_per_session</th>\n",
       "      <th>purchasing_activity</th>\n",
       "      <th>sale_purchases_part</th>\n",
       "      <th>service_type</th>\n",
       "      <th>time_1_month_ago</th>\n",
       "      <th>time_this_month</th>\n",
       "      <th>unpaid_items_number</th>\n",
       "    </tr>\n",
       "    <tr>\n",
       "      <th>id</th>\n",
       "      <th></th>\n",
       "      <th></th>\n",
       "      <th></th>\n",
       "      <th></th>\n",
       "      <th></th>\n",
       "      <th></th>\n",
       "      <th></th>\n",
       "      <th></th>\n",
       "      <th></th>\n",
       "      <th></th>\n",
       "      <th></th>\n",
       "      <th></th>\n",
       "      <th></th>\n",
       "      <th></th>\n",
       "      <th></th>\n",
       "      <th></th>\n",
       "      <th></th>\n",
       "    </tr>\n",
       "  </thead>\n",
       "  <tbody>\n",
       "    <tr>\n",
       "      <th>215349</th>\n",
       "      <td>4</td>\n",
       "      <td>819</td>\n",
       "      <td>2</td>\n",
       "      <td>да</td>\n",
       "      <td>4.40</td>\n",
       "      <td>4</td>\n",
       "      <td>5216.00</td>\n",
       "      <td>4472.00</td>\n",
       "      <td>4971.60</td>\n",
       "      <td>Товары для детей</td>\n",
       "      <td>5</td>\n",
       "      <td>Снизилась</td>\n",
       "      <td>0.75</td>\n",
       "      <td>премиум</td>\n",
       "      <td>12.00</td>\n",
       "      <td>10.00</td>\n",
       "      <td>4</td>\n",
       "    </tr>\n",
       "    <tr>\n",
       "      <th>215350</th>\n",
       "      <td>5</td>\n",
       "      <td>539</td>\n",
       "      <td>1</td>\n",
       "      <td>нет</td>\n",
       "      <td>4.90</td>\n",
       "      <td>3</td>\n",
       "      <td>5457.50</td>\n",
       "      <td>4826.00</td>\n",
       "      <td>5058.40</td>\n",
       "      <td>Домашний текстиль</td>\n",
       "      <td>5</td>\n",
       "      <td>Снизилась</td>\n",
       "      <td>0.14</td>\n",
       "      <td>стандарт</td>\n",
       "      <td>8.00</td>\n",
       "      <td>13.00</td>\n",
       "      <td>2</td>\n",
       "    </tr>\n",
       "    <tr>\n",
       "      <th>215351</th>\n",
       "      <td>5</td>\n",
       "      <td>896</td>\n",
       "      <td>6</td>\n",
       "      <td>да</td>\n",
       "      <td>3.20</td>\n",
       "      <td>5</td>\n",
       "      <td>6158.00</td>\n",
       "      <td>4793.00</td>\n",
       "      <td>6610.40</td>\n",
       "      <td>Товары для детей</td>\n",
       "      <td>4</td>\n",
       "      <td>Снизилась</td>\n",
       "      <td>0.99</td>\n",
       "      <td>стандарт</td>\n",
       "      <td>11.00</td>\n",
       "      <td>13.00</td>\n",
       "      <td>0</td>\n",
       "    </tr>\n",
       "    <tr>\n",
       "      <th>215352</th>\n",
       "      <td>3</td>\n",
       "      <td>1064</td>\n",
       "      <td>3</td>\n",
       "      <td>нет</td>\n",
       "      <td>5.10</td>\n",
       "      <td>3</td>\n",
       "      <td>5807.50</td>\n",
       "      <td>4594.00</td>\n",
       "      <td>5872.50</td>\n",
       "      <td>Товары для детей</td>\n",
       "      <td>2</td>\n",
       "      <td>Снизилась</td>\n",
       "      <td>0.94</td>\n",
       "      <td>стандарт</td>\n",
       "      <td>8.00</td>\n",
       "      <td>11.00</td>\n",
       "      <td>2</td>\n",
       "    </tr>\n",
       "    <tr>\n",
       "      <th>215353</th>\n",
       "      <td>4</td>\n",
       "      <td>762</td>\n",
       "      <td>1</td>\n",
       "      <td>да</td>\n",
       "      <td>3.30</td>\n",
       "      <td>4</td>\n",
       "      <td>4738.50</td>\n",
       "      <td>5124.00</td>\n",
       "      <td>5388.50</td>\n",
       "      <td>Домашний текстиль</td>\n",
       "      <td>4</td>\n",
       "      <td>Снизилась</td>\n",
       "      <td>0.26</td>\n",
       "      <td>стандарт</td>\n",
       "      <td>10.00</td>\n",
       "      <td>10.00</td>\n",
       "      <td>1</td>\n",
       "    </tr>\n",
       "  </tbody>\n",
       "</table>\n",
       "</div>"
      ],
      "text/plain": [
       "        categories_visited_per_session  days_after_registration  fail_number  \\\n",
       "id                                                                             \n",
       "215349                               4                      819            2   \n",
       "215350                               5                      539            1   \n",
       "215351                               5                      896            6   \n",
       "215352                               3                     1064            3   \n",
       "215353                               4                      762            1   \n",
       "\n",
       "       is_mailing_allowed  marketing_activity_6_months  \\\n",
       "id                                                       \n",
       "215349                 да                         4.40   \n",
       "215350                нет                         4.90   \n",
       "215351                 да                         3.20   \n",
       "215352                нет                         5.10   \n",
       "215353                 да                         3.30   \n",
       "\n",
       "        marketing_activity_current_month  money_1_month_ago  \\\n",
       "id                                                            \n",
       "215349                                 4            5216.00   \n",
       "215350                                 3            5457.50   \n",
       "215351                                 5            6158.00   \n",
       "215352                                 3            5807.50   \n",
       "215353                                 4            4738.50   \n",
       "\n",
       "        money_2_months_ago  money_this_month most_popular_category  \\\n",
       "id                                                                   \n",
       "215349             4472.00           4971.60      Товары для детей   \n",
       "215350             4826.00           5058.40     Домашний текстиль   \n",
       "215351             4793.00           6610.40      Товары для детей   \n",
       "215352             4594.00           5872.50      Товары для детей   \n",
       "215353             5124.00           5388.50     Домашний текстиль   \n",
       "\n",
       "        pages_per_session purchasing_activity  sale_purchases_part  \\\n",
       "id                                                                   \n",
       "215349                  5           Снизилась                 0.75   \n",
       "215350                  5           Снизилась                 0.14   \n",
       "215351                  4           Снизилась                 0.99   \n",
       "215352                  2           Снизилась                 0.94   \n",
       "215353                  4           Снизилась                 0.26   \n",
       "\n",
       "       service_type  time_1_month_ago  time_this_month  unpaid_items_number  \n",
       "id                                                                           \n",
       "215349      премиум             12.00            10.00                    4  \n",
       "215350     стандарт              8.00            13.00                    2  \n",
       "215351     стандарт             11.00            13.00                    0  \n",
       "215352     стандарт              8.00            11.00                    2  \n",
       "215353     стандарт             10.00            10.00                    1  "
      ]
     },
     "execution_count": 78,
     "metadata": {},
     "output_type": "execute_result"
    }
   ],
   "source": [
    "market_full = market_money.join([market_file, market_time], how='left').sort_index(axis=1)\n",
    "market_full.head()"
   ]
  },
  {
   "cell_type": "code",
   "execution_count": 79,
   "metadata": {},
   "outputs": [
    {
     "name": "stdout",
     "output_type": "stream",
     "text": [
      "<class 'pandas.core.frame.DataFrame'>\n",
      "Index: 1296 entries, 215349 to 216647\n",
      "Data columns (total 17 columns):\n",
      " #   Column                            Non-Null Count  Dtype  \n",
      "---  ------                            --------------  -----  \n",
      " 0   categories_visited_per_session    1296 non-null   int64  \n",
      " 1   days_after_registration           1296 non-null   int64  \n",
      " 2   fail_number                       1296 non-null   int64  \n",
      " 3   is_mailing_allowed                1296 non-null   object \n",
      " 4   marketing_activity_6_months       1296 non-null   float64\n",
      " 5   marketing_activity_current_month  1296 non-null   int64  \n",
      " 6   money_1_month_ago                 1296 non-null   float64\n",
      " 7   money_2_months_ago                1296 non-null   float64\n",
      " 8   money_this_month                  1296 non-null   float64\n",
      " 9   most_popular_category             1296 non-null   object \n",
      " 10  pages_per_session                 1296 non-null   int64  \n",
      " 11  purchasing_activity               1296 non-null   object \n",
      " 12  sale_purchases_part               1296 non-null   float64\n",
      " 13  service_type                      1296 non-null   object \n",
      " 14  time_1_month_ago                  1296 non-null   float64\n",
      " 15  time_this_month                   1296 non-null   float64\n",
      " 16  unpaid_items_number               1296 non-null   int64  \n",
      "dtypes: float64(7), int64(6), object(4)\n",
      "memory usage: 214.5+ KB\n"
     ]
    }
   ],
   "source": [
    "market_full.info()"
   ]
  },
  {
   "cell_type": "markdown",
   "metadata": {},
   "source": [
    "## <a id='toc4_'></a> Корреляционный анализ [&#8593;](#toc0_)"
   ]
  },
  {
   "cell_type": "markdown",
   "metadata": {},
   "source": [
    "Чтобы провести корреляционный анализ, разделим признаки на категориальные и числовые:"
   ]
  },
  {
   "cell_type": "code",
   "execution_count": 80,
   "metadata": {},
   "outputs": [
    {
     "data": {
      "text/plain": [
       "['marketing_activity_6_months',\n",
       " 'days_after_registration',\n",
       " 'sale_purchases_part',\n",
       " 'money_1_month_ago',\n",
       " 'money_2_months_ago',\n",
       " 'money_this_month']"
      ]
     },
     "metadata": {},
     "output_type": "display_data"
    },
    {
     "data": {
      "text/plain": [
       "['categories_visited_per_session',\n",
       " 'fail_number',\n",
       " 'marketing_activity_current_month',\n",
       " 'pages_per_session',\n",
       " 'time_1_month_ago',\n",
       " 'time_this_month',\n",
       " 'unpaid_items_number',\n",
       " 'is_mailing_allowed',\n",
       " 'most_popular_category',\n",
       " 'purchasing_activity',\n",
       " 'service_type']"
      ]
     },
     "metadata": {},
     "output_type": "display_data"
    }
   ],
   "source": [
    "cat_cols = ['categories_visited_per_session',\n",
    "            'fail_number',\n",
    "            'marketing_activity_current_month',\n",
    "            'pages_per_session',\n",
    "            'time_1_month_ago',\n",
    "            'time_this_month',\n",
    "            'unpaid_items_number',\n",
    "            'is_mailing_allowed',\n",
    "            'most_popular_category',\n",
    "            'purchasing_activity',\n",
    "            'service_type'\n",
    "           ]\n",
    "num_cols = ['marketing_activity_6_months', \n",
    "            'days_after_registration',\n",
    "            'sale_purchases_part', \n",
    "            'money_1_month_ago', \n",
    "            'money_2_months_ago',\n",
    "            'money_this_month'\n",
    "           ]\n",
    "display(num_cols)\n",
    "display(cat_cols)"
   ]
  },
  {
   "cell_type": "code",
   "execution_count": 81,
   "metadata": {},
   "outputs": [
    {
     "data": {
      "image/png": "[encoded data removed]",
      "text/plain": [
       "<Figure size 1296x720 with 2 Axes>"
      ]
     },
     "metadata": {
      "needs_background": "light"
     },
     "output_type": "display_data"
    }
   ],
   "source": [
    "plt.figure(figsize=(18, 10))\n",
    "sns.heatmap(market_full.phik_matrix(interval_cols=num_cols),\n",
    "            cmap='Reds',\n",
    "            annot=True,\n",
    "            fmt='.2f')\n",
    "plt.title(r'$\\phi_k$ Таблица корреляции', fontsize=18);"
   ]
  },
  {
   "cell_type": "markdown",
   "metadata": {},
   "source": [
    "**Выводы:**\n",
    "\n",
    "- Мультиколлинеарности не наблюдаем\n",
    "- Есть корреляция между признаками money_this_month и money_1_month_ago, но она <0.9\n",
    "- Так же есть корреляция между целевым признаком и кол-вом посещаемых клиентом страниц за сессию. Будем иметь это в виду\n",
    "- Между остальными признаками корреляция не наблюдается"
   ]
  },
  {
   "cell_type": "markdown",
   "metadata": {},
   "source": [
    "## <a id='toc5_'></a> Построение моделей [&#8593;](#toc0_)"
   ]
  },
  {
   "cell_type": "markdown",
   "metadata": {},
   "source": [
    "### <a id='toc5_1_'></a> Подготовка данных[&#8593;](#toc0_)"
   ]
  },
  {
   "cell_type": "code",
   "execution_count": 82,
   "metadata": {},
   "outputs": [],
   "source": [
    "target = 'purchasing_activity'\n",
    "\n",
    "X = market_full.drop(target, axis=1)\n",
    "y = market_full[target]"
   ]
  },
  {
   "cell_type": "code",
   "execution_count": 83,
   "metadata": {},
   "outputs": [],
   "source": [
    "X_train, X_test, y_train, y_test = train_test_split(\n",
    "    X,\n",
    "    y,\n",
    "    random_state=RANDOM_STATE,\n",
    "    test_size=TEST_SIZE,\n",
    "    stratify=y\n",
    ")"
   ]
  },
  {
   "cell_type": "markdown",
   "metadata": {},
   "source": [
    "Закодируем целевой признак для удобства:"
   ]
  },
  {
   "cell_type": "code",
   "execution_count": 84,
   "metadata": {},
   "outputs": [],
   "source": [
    "label_encoder = LabelEncoder()\n",
    "y_train = label_encoder.fit_transform(y_train)\n",
    "y_test = label_encoder.transform(y_test)"
   ]
  },
  {
   "cell_type": "code",
   "execution_count": 85,
   "metadata": {},
   "outputs": [
    {
     "data": {
      "text/plain": [
       "array(['Прежний уровень', 'Снизилась'], dtype=object)"
      ]
     },
     "execution_count": 85,
     "metadata": {},
     "output_type": "execute_result"
    }
   ],
   "source": [
    "label_encoder.classes_"
   ]
  },
  {
   "cell_type": "code",
   "execution_count": 86,
   "metadata": {},
   "outputs": [
    {
     "data": {
      "text/plain": [
       "array([0, 1, 0, 0, 1, 0, 1])"
      ]
     },
     "execution_count": 86,
     "metadata": {},
     "output_type": "execute_result"
    }
   ],
   "source": [
    "y_train[:7]"
   ]
  },
  {
   "cell_type": "markdown",
   "metadata": {},
   "source": [
    "Кодирование прошло успешно"
   ]
  },
  {
   "cell_type": "markdown",
   "metadata": {},
   "source": [
    "### <a id='toc5_2'></a> Построение пайплайнов[&#8593;](#toc0_)"
   ]
  },
  {
   "cell_type": "markdown",
   "metadata": {},
   "source": [
    "Для начала разделим признаки для кодировщиков и стандартизаторов"
   ]
  },
  {
   "cell_type": "code",
   "execution_count": 87,
   "metadata": {},
   "outputs": [],
   "source": [
    "ohe_cols = [\n",
    "    'most_popular_category'\n",
    "]\n",
    "\n",
    "ord_cols = [\n",
    "    'is_mailing_allowed',\n",
    "    'service_type'\n",
    "]"
   ]
  },
  {
   "cell_type": "code",
   "execution_count": 88,
   "metadata": {},
   "outputs": [],
   "source": [
    "num_cols = [\n",
    "    'categories_visited_per_session',\n",
    "    'days_after_registration',\n",
    "    'fail_number',\n",
    "    'marketing_activity_6_months',\n",
    "    'marketing_activity_current_month',\n",
    "    'money_1_month_ago',\n",
    "    'money_2_months_ago',\n",
    "    'money_this_month',\n",
    "    'pages_per_session',\n",
    "    'sale_purchases_part',\n",
    "    'time_1_month_ago',\n",
    "    'time_this_month',\n",
    "    'unpaid_items_number']"
   ]
  },
  {
   "cell_type": "markdown",
   "metadata": {},
   "source": [
    "Пайплайны:"
   ]
  },
  {
   "cell_type": "code",
   "execution_count": 89,
   "metadata": {},
   "outputs": [],
   "source": [
    "ohe_pipe = Pipeline(\n",
    "    [\n",
    "        (\n",
    "            'SimpleImputer_before_ohe',\n",
    "            SimpleImputer(missing_values=np.nan, strategy='most_frequent')\n",
    "        ),\n",
    "        (\n",
    "            'ohe',\n",
    "            OneHotEncoder(drop='first', handle_unknown='ignore', sparse_output=False)\n",
    "        )\n",
    "    ]\n",
    ")"
   ]
  },
  {
   "cell_type": "code",
   "execution_count": 90,
   "metadata": {},
   "outputs": [],
   "source": [
    "ord_pipe = Pipeline(\n",
    "    [\n",
    "        (\n",
    "            'SimpleImputer_before_ord',\n",
    "            SimpleImputer(missing_values=np.nan, strategy='most_frequent')\n",
    "        ),\n",
    "        (\n",
    "            'ord',\n",
    "            OrdinalEncoder(\n",
    "                categories=[\n",
    "                    ['да','нет'],\n",
    "                    ['стандарт', 'премиум']\n",
    "                ],\n",
    "                unknown_value=np.nan,\n",
    "                handle_unknown='use_encoded_value'\n",
    "            )\n",
    "        ),\n",
    "        (\n",
    "            'SimpleImputer_after_ord',\n",
    "            SimpleImputer(missing_values=np.nan, strategy='most_frequent')\n",
    "        ),\n",
    "    ]\n",
    ")"
   ]
  },
  {
   "cell_type": "code",
   "execution_count": 91,
   "metadata": {},
   "outputs": [],
   "source": [
    "data_preprocessor = ColumnTransformer(\n",
    "    [('ohe', ohe_pipe, ohe_cols),\n",
    "     ('ord', ord_pipe, ord_cols),\n",
    "     ('num', StandardScaler(), num_cols)\n",
    "    ], \n",
    "    remainder='passthrough'\n",
    ")"
   ]
  },
  {
   "cell_type": "code",
   "execution_count": 92,
   "metadata": {},
   "outputs": [],
   "source": [
    "final_pipe = Pipeline(\n",
    "    [\n",
    "        ('preprocessor', data_preprocessor),\n",
    "        ('models', DecisionTreeClassifier(random_state=RANDOM_STATE))\n",
    "    ]\n",
    ")"
   ]
  },
  {
   "cell_type": "code",
   "execution_count": 93,
   "metadata": {},
   "outputs": [],
   "source": [
    "param_grid = [\n",
    "    # словарь для модели DecisionTreeClassifier()\n",
    "    {\n",
    "        'models': [DecisionTreeClassifier(random_state=RANDOM_STATE)],\n",
    "        'models__max_depth': range(2, 5),\n",
    "        'models__max_features': range(2, 5),\n",
    "        'preprocessor__num': [StandardScaler(), MinMaxScaler(), 'passthrough']  \n",
    "    },\n",
    "    \n",
    "    # словарь для модели KNeighborsClassifier() \n",
    "    {\n",
    "        'models': [KNeighborsClassifier()],\n",
    "        'models__n_neighbors': range(2, 5),\n",
    "        'preprocessor__num': [StandardScaler(), MinMaxScaler(), 'passthrough']   \n",
    "    },\n",
    "\n",
    "    # словарь для модели LogisticRegression()\n",
    "    {\n",
    "        'models': [LogisticRegression(\n",
    "            random_state=RANDOM_STATE, \n",
    "            solver='liblinear', \n",
    "            penalty='l1'\n",
    "        )],\n",
    "        'models__C': range(1, 5),\n",
    "        'preprocessor__num': [StandardScaler(), MinMaxScaler(), 'passthrough']  \n",
    "    },\n",
    "     # словарь для модели SVC()\n",
    "    {\n",
    "        'models': [SVC(\n",
    "            random_state=RANDOM_STATE,\n",
    "            kernel='linear',\n",
    "            probability=True)],\n",
    "        'models__C': [0.01, 0.1, 1, 10, 100],\n",
    "        'preprocessor__num': [StandardScaler(), MinMaxScaler(), 'passthrough']\n",
    "    }\n",
    "]\n"
   ]
  },
  {
   "cell_type": "code",
   "execution_count": 94,
   "metadata": {},
   "outputs": [],
   "source": [
    "grid = GridSearchCV(\n",
    "    final_pipe,\n",
    "    param_grid=param_grid,\n",
    "    cv=5,\n",
    "    scoring='roc_auc',\n",
    "    n_jobs=-1\n",
    ")"
   ]
  },
  {
   "cell_type": "markdown",
   "metadata": {},
   "source": [
    "Метрика *roc_auc* выбрана исходя из существующего у целевого признака дисбаланса классов. Она не чувствительна к дисбалансу целевого признака потому что строится относительно порога значений принадлежности к классу и инвариантна относительно данного порога (главное - сохранение соотношения ранжирования классов от наиболее вероятного отрицательного до наиболее вероятного положительного, что соблюдается)."
   ]
  },
  {
   "cell_type": "code",
   "execution_count": 95,
   "metadata": {},
   "outputs": [
    {
     "data": {
      "text/html": [
       "<style>#sk-container-id-1 {\n",
       "  /* Definition of color scheme common for light and dark mode */\n",
       "  --sklearn-color-text: black;\n",
       "  --sklearn-color-line: gray;\n",
       "  /* Definition of color scheme for unfitted estimators */\n",
       "  --sklearn-color-unfitted-level-0: #fff5e6;\n",
       "  --sklearn-color-unfitted-level-1: #f6e4d2;\n",
       "  --sklearn-color-unfitted-level-2: #ffe0b3;\n",
       "  --sklearn-color-unfitted-level-3: chocolate;\n",
       "  /* Definition of color scheme for fitted estimators */\n",
       "  --sklearn-color-fitted-level-0: #f0f8ff;\n",
       "  --sklearn-color-fitted-level-1: #d4ebff;\n",
       "  --sklearn-color-fitted-level-2: #b3dbfd;\n",
       "  --sklearn-color-fitted-level-3: cornflowerblue;\n",
       "\n",
       "  /* Specific color for light theme */\n",
       "  --sklearn-color-text-on-default-background: var(--sg-text-color, var(--theme-code-foreground, var(--jp-content-font-color1, black)));\n",
       "  --sklearn-color-background: var(--sg-background-color, var(--theme-background, var(--jp-layout-color0, white)));\n",
       "  --sklearn-color-border-box: var(--sg-text-color, var(--theme-code-foreground, var(--jp-content-font-color1, black)));\n",
       "  --sklearn-color-icon: #696969;\n",
       "\n",
       "  @media (prefers-color-scheme: dark) {\n",
       "    /* Redefinition of color scheme for dark theme */\n",
       "    --sklearn-color-text-on-default-background: var(--sg-text-color, var(--theme-code-foreground, var(--jp-content-font-color1, white)));\n",
       "    --sklearn-color-background: var(--sg-background-color, var(--theme-background, var(--jp-layout-color0, #111)));\n",
       "    --sklearn-color-border-box: var(--sg-text-color, var(--theme-code-foreground, var(--jp-content-font-color1, white)));\n",
       "    --sklearn-color-icon: #878787;\n",
       "  }\n",
       "}\n",
       "\n",
       "#sk-container-id-1 {\n",
       "  color: var(--sklearn-color-text);\n",
       "}\n",
       "\n",
       "#sk-container-id-1 pre {\n",
       "  padding: 0;\n",
       "}\n",
       "\n",
       "#sk-container-id-1 input.sk-hidden--visually {\n",
       "  border: 0;\n",
       "  clip: rect(1px 1px 1px 1px);\n",
       "  clip: rect(1px, 1px, 1px, 1px);\n",
       "  height: 1px;\n",
       "  margin: -1px;\n",
       "  overflow: hidden;\n",
       "  padding: 0;\n",
       "  position: absolute;\n",
       "  width: 1px;\n",
       "}\n",
       "\n",
       "#sk-container-id-1 div.sk-dashed-wrapped {\n",
       "  border: 1px dashed var(--sklearn-color-line);\n",
       "  margin: 0 0.4em 0.5em 0.4em;\n",
       "  box-sizing: border-box;\n",
       "  padding-bottom: 0.4em;\n",
       "  background-color: var(--sklearn-color-background);\n",
       "}\n",
       "\n",
       "#sk-container-id-1 div.sk-container {\n",
       "  /* jupyter's `normalize.less` sets `[hidden] { display: none; }`\n",
       "     but bootstrap.min.css set `[hidden] { display: none !important; }`\n",
       "     so we also need the `!important` here to be able to override the\n",
       "     default hidden behavior on the sphinx rendered scikit-learn.org.\n",
       "     See: https://github.com/scikit-learn/scikit-learn/issues/21755 */\n",
       "  display: inline-block !important;\n",
       "  position: relative;\n",
       "}\n",
       "\n",
       "#sk-container-id-1 div.sk-text-repr-fallback {\n",
       "  display: none;\n",
       "}\n",
       "\n",
       "div.sk-parallel-item,\n",
       "div.sk-serial,\n",
       "div.sk-item {\n",
       "  /* draw centered vertical line to link estimators */\n",
       "  background-image: linear-gradient(var(--sklearn-color-text-on-default-background), var(--sklearn-color-text-on-default-background));\n",
       "  background-size: 2px 100%;\n",
       "  background-repeat: no-repeat;\n",
       "  background-position: center center;\n",
       "}\n",
       "\n",
       "/* Parallel-specific style estimator block */\n",
       "\n",
       "#sk-container-id-1 div.sk-parallel-item::after {\n",
       "  content: \"\";\n",
       "  width: 100%;\n",
       "  border-bottom: 2px solid var(--sklearn-color-text-on-default-background);\n",
       "  flex-grow: 1;\n",
       "}\n",
       "\n",
       "#sk-container-id-1 div.sk-parallel {\n",
       "  display: flex;\n",
       "  align-items: stretch;\n",
       "  justify-content: center;\n",
       "  background-color: var(--sklearn-color-background);\n",
       "  position: relative;\n",
       "}\n",
       "\n",
       "#sk-container-id-1 div.sk-parallel-item {\n",
       "  display: flex;\n",
       "  flex-direction: column;\n",
       "}\n",
       "\n",
       "#sk-container-id-1 div.sk-parallel-item:first-child::after {\n",
       "  align-self: flex-end;\n",
       "  width: 50%;\n",
       "}\n",
       "\n",
       "#sk-container-id-1 div.sk-parallel-item:last-child::after {\n",
       "  align-self: flex-start;\n",
       "  width: 50%;\n",
       "}\n",
       "\n",
       "#sk-container-id-1 div.sk-parallel-item:only-child::after {\n",
       "  width: 0;\n",
       "}\n",
       "\n",
       "/* Serial-specific style estimator block */\n",
       "\n",
       "#sk-container-id-1 div.sk-serial {\n",
       "  display: flex;\n",
       "  flex-direction: column;\n",
       "  align-items: center;\n",
       "  background-color: var(--sklearn-color-background);\n",
       "  padding-right: 1em;\n",
       "  padding-left: 1em;\n",
       "}\n",
       "\n",
       "\n",
       "/* Toggleable style: style used for estimator/Pipeline/ColumnTransformer box that is\n",
       "clickable and can be expanded/collapsed.\n",
       "- Pipeline and ColumnTransformer use this feature and define the default style\n",
       "- Estimators will overwrite some part of the style using the `sk-estimator` class\n",
       "*/\n",
       "\n",
       "/* Pipeline and ColumnTransformer style (default) */\n",
       "\n",
       "#sk-container-id-1 div.sk-toggleable {\n",
       "  /* Default theme specific background. It is overwritten whether we have a\n",
       "  specific estimator or a Pipeline/ColumnTransformer */\n",
       "  background-color: var(--sklearn-color-background);\n",
       "}\n",
       "\n",
       "/* Toggleable label */\n",
       "#sk-container-id-1 label.sk-toggleable__label {\n",
       "  cursor: pointer;\n",
       "  display: block;\n",
       "  width: 100%;\n",
       "  margin-bottom: 0;\n",
       "  padding: 0.5em;\n",
       "  box-sizing: border-box;\n",
       "  text-align: center;\n",
       "}\n",
       "\n",
       "#sk-container-id-1 label.sk-toggleable__label-arrow:before {\n",
       "  /* Arrow on the left of the label */\n",
       "  content: \"▸\";\n",
       "  float: left;\n",
       "  margin-right: 0.25em;\n",
       "  color: var(--sklearn-color-icon);\n",
       "}\n",
       "\n",
       "#sk-container-id-1 label.sk-toggleable__label-arrow:hover:before {\n",
       "  color: var(--sklearn-color-text);\n",
       "}\n",
       "\n",
       "/* Toggleable content - dropdown */\n",
       "\n",
       "#sk-container-id-1 div.sk-toggleable__content {\n",
       "  max-height: 0;\n",
       "  max-width: 0;\n",
       "  overflow: hidden;\n",
       "  text-align: left;\n",
       "  /* unfitted */\n",
       "  background-color: var(--sklearn-color-unfitted-level-0);\n",
       "}\n",
       "\n",
       "#sk-container-id-1 div.sk-toggleable__content.fitted {\n",
       "  /* fitted */\n",
       "  background-color: var(--sklearn-color-fitted-level-0);\n",
       "}\n",
       "\n",
       "#sk-container-id-1 div.sk-toggleable__content pre {\n",
       "  margin: 0.2em;\n",
       "  border-radius: 0.25em;\n",
       "  color: var(--sklearn-color-text);\n",
       "  /* unfitted */\n",
       "  background-color: var(--sklearn-color-unfitted-level-0);\n",
       "}\n",
       "\n",
       "#sk-container-id-1 div.sk-toggleable__content.fitted pre {\n",
       "  /* unfitted */\n",
       "  background-color: var(--sklearn-color-fitted-level-0);\n",
       "}\n",
       "\n",
       "#sk-container-id-1 input.sk-toggleable__control:checked~div.sk-toggleable__content {\n",
       "  /* Expand drop-down */\n",
       "  max-height: 200px;\n",
       "  max-width: 100%;\n",
       "  overflow: auto;\n",
       "}\n",
       "\n",
       "#sk-container-id-1 input.sk-toggleable__control:checked~label.sk-toggleable__label-arrow:before {\n",
       "  content: \"▾\";\n",
       "}\n",
       "\n",
       "/* Pipeline/ColumnTransformer-specific style */\n",
       "\n",
       "#sk-container-id-1 div.sk-label input.sk-toggleable__control:checked~label.sk-toggleable__label {\n",
       "  color: var(--sklearn-color-text);\n",
       "  background-color: var(--sklearn-color-unfitted-level-2);\n",
       "}\n",
       "\n",
       "#sk-container-id-1 div.sk-label.fitted input.sk-toggleable__control:checked~label.sk-toggleable__label {\n",
       "  background-color: var(--sklearn-color-fitted-level-2);\n",
       "}\n",
       "\n",
       "/* Estimator-specific style */\n",
       "\n",
       "/* Colorize estimator box */\n",
       "#sk-container-id-1 div.sk-estimator input.sk-toggleable__control:checked~label.sk-toggleable__label {\n",
       "  /* unfitted */\n",
       "  background-color: var(--sklearn-color-unfitted-level-2);\n",
       "}\n",
       "\n",
       "#sk-container-id-1 div.sk-estimator.fitted input.sk-toggleable__control:checked~label.sk-toggleable__label {\n",
       "  /* fitted */\n",
       "  background-color: var(--sklearn-color-fitted-level-2);\n",
       "}\n",
       "\n",
       "#sk-container-id-1 div.sk-label label.sk-toggleable__label,\n",
       "#sk-container-id-1 div.sk-label label {\n",
       "  /* The background is the default theme color */\n",
       "  color: var(--sklearn-color-text-on-default-background);\n",
       "}\n",
       "\n",
       "/* On hover, darken the color of the background */\n",
       "#sk-container-id-1 div.sk-label:hover label.sk-toggleable__label {\n",
       "  color: var(--sklearn-color-text);\n",
       "  background-color: var(--sklearn-color-unfitted-level-2);\n",
       "}\n",
       "\n",
       "/* Label box, darken color on hover, fitted */\n",
       "#sk-container-id-1 div.sk-label.fitted:hover label.sk-toggleable__label.fitted {\n",
       "  color: var(--sklearn-color-text);\n",
       "  background-color: var(--sklearn-color-fitted-level-2);\n",
       "}\n",
       "\n",
       "/* Estimator label */\n",
       "\n",
       "#sk-container-id-1 div.sk-label label {\n",
       "  font-family: monospace;\n",
       "  font-weight: bold;\n",
       "  display: inline-block;\n",
       "  line-height: 1.2em;\n",
       "}\n",
       "\n",
       "#sk-container-id-1 div.sk-label-container {\n",
       "  text-align: center;\n",
       "}\n",
       "\n",
       "/* Estimator-specific */\n",
       "#sk-container-id-1 div.sk-estimator {\n",
       "  font-family: monospace;\n",
       "  border: 1px dotted var(--sklearn-color-border-box);\n",
       "  border-radius: 0.25em;\n",
       "  box-sizing: border-box;\n",
       "  margin-bottom: 0.5em;\n",
       "  /* unfitted */\n",
       "  background-color: var(--sklearn-color-unfitted-level-0);\n",
       "}\n",
       "\n",
       "#sk-container-id-1 div.sk-estimator.fitted {\n",
       "  /* fitted */\n",
       "  background-color: var(--sklearn-color-fitted-level-0);\n",
       "}\n",
       "\n",
       "/* on hover */\n",
       "#sk-container-id-1 div.sk-estimator:hover {\n",
       "  /* unfitted */\n",
       "  background-color: var(--sklearn-color-unfitted-level-2);\n",
       "}\n",
       "\n",
       "#sk-container-id-1 div.sk-estimator.fitted:hover {\n",
       "  /* fitted */\n",
       "  background-color: var(--sklearn-color-fitted-level-2);\n",
       "}\n",
       "\n",
       "/* Specification for estimator info (e.g. \"i\" and \"?\") */\n",
       "\n",
       "/* Common style for \"i\" and \"?\" */\n",
       "\n",
       ".sk-estimator-doc-link,\n",
       "a:link.sk-estimator-doc-link,\n",
       "a:visited.sk-estimator-doc-link {\n",
       "  float: right;\n",
       "  font-size: smaller;\n",
       "  line-height: 1em;\n",
       "  font-family: monospace;\n",
       "  background-color: var(--sklearn-color-background);\n",
       "  border-radius: 1em;\n",
       "  height: 1em;\n",
       "  width: 1em;\n",
       "  text-decoration: none !important;\n",
       "  margin-left: 1ex;\n",
       "  /* unfitted */\n",
       "  border: var(--sklearn-color-unfitted-level-1) 1pt solid;\n",
       "  color: var(--sklearn-color-unfitted-level-1);\n",
       "}\n",
       "\n",
       ".sk-estimator-doc-link.fitted,\n",
       "a:link.sk-estimator-doc-link.fitted,\n",
       "a:visited.sk-estimator-doc-link.fitted {\n",
       "  /* fitted */\n",
       "  border: var(--sklearn-color-fitted-level-1) 1pt solid;\n",
       "  color: var(--sklearn-color-fitted-level-1);\n",
       "}\n",
       "\n",
       "/* On hover */\n",
       "div.sk-estimator:hover .sk-estimator-doc-link:hover,\n",
       ".sk-estimator-doc-link:hover,\n",
       "div.sk-label-container:hover .sk-estimator-doc-link:hover,\n",
       ".sk-estimator-doc-link:hover {\n",
       "  /* unfitted */\n",
       "  background-color: var(--sklearn-color-unfitted-level-3);\n",
       "  color: var(--sklearn-color-background);\n",
       "  text-decoration: none;\n",
       "}\n",
       "\n",
       "div.sk-estimator.fitted:hover .sk-estimator-doc-link.fitted:hover,\n",
       ".sk-estimator-doc-link.fitted:hover,\n",
       "div.sk-label-container:hover .sk-estimator-doc-link.fitted:hover,\n",
       ".sk-estimator-doc-link.fitted:hover {\n",
       "  /* fitted */\n",
       "  background-color: var(--sklearn-color-fitted-level-3);\n",
       "  color: var(--sklearn-color-background);\n",
       "  text-decoration: none;\n",
       "}\n",
       "\n",
       "/* Span, style for the box shown on hovering the info icon */\n",
       ".sk-estimator-doc-link span {\n",
       "  display: none;\n",
       "  z-index: 9999;\n",
       "  position: relative;\n",
       "  font-weight: normal;\n",
       "  right: .2ex;\n",
       "  padding: .5ex;\n",
       "  margin: .5ex;\n",
       "  width: min-content;\n",
       "  min-width: 20ex;\n",
       "  max-width: 50ex;\n",
       "  color: var(--sklearn-color-text);\n",
       "  box-shadow: 2pt 2pt 4pt #999;\n",
       "  /* unfitted */\n",
       "  background: var(--sklearn-color-unfitted-level-0);\n",
       "  border: .5pt solid var(--sklearn-color-unfitted-level-3);\n",
       "}\n",
       "\n",
       ".sk-estimator-doc-link.fitted span {\n",
       "  /* fitted */\n",
       "  background: var(--sklearn-color-fitted-level-0);\n",
       "  border: var(--sklearn-color-fitted-level-3);\n",
       "}\n",
       "\n",
       ".sk-estimator-doc-link:hover span {\n",
       "  display: block;\n",
       "}\n",
       "\n",
       "/* \"?\"-specific style due to the `<a>` HTML tag */\n",
       "\n",
       "#sk-container-id-1 a.estimator_doc_link {\n",
       "  float: right;\n",
       "  font-size: 1rem;\n",
       "  line-height: 1em;\n",
       "  font-family: monospace;\n",
       "  background-color: var(--sklearn-color-background);\n",
       "  border-radius: 1rem;\n",
       "  height: 1rem;\n",
       "  width: 1rem;\n",
       "  text-decoration: none;\n",
       "  /* unfitted */\n",
       "  color: var(--sklearn-color-unfitted-level-1);\n",
       "  border: var(--sklearn-color-unfitted-level-1) 1pt solid;\n",
       "}\n",
       "\n",
       "#sk-container-id-1 a.estimator_doc_link.fitted {\n",
       "  /* fitted */\n",
       "  border: var(--sklearn-color-fitted-level-1) 1pt solid;\n",
       "  color: var(--sklearn-color-fitted-level-1);\n",
       "}\n",
       "\n",
       "/* On hover */\n",
       "#sk-container-id-1 a.estimator_doc_link:hover {\n",
       "  /* unfitted */\n",
       "  background-color: var(--sklearn-color-unfitted-level-3);\n",
       "  color: var(--sklearn-color-background);\n",
       "  text-decoration: none;\n",
       "}\n",
       "\n",
       "#sk-container-id-1 a.estimator_doc_link.fitted:hover {\n",
       "  /* fitted */\n",
       "  background-color: var(--sklearn-color-fitted-level-3);\n",
       "}\n",
       "</style><div id=\"sk-container-id-1\" class=\"sk-top-container\"><div class=\"sk-text-repr-fallback\"><pre>GridSearchCV(cv=5,\n",
       "             estimator=Pipeline(steps=[(&#x27;preprocessor&#x27;,\n",
       "                                        ColumnTransformer(remainder=&#x27;passthrough&#x27;,\n",
       "                                                          transformers=[(&#x27;ohe&#x27;,\n",
       "                                                                         Pipeline(steps=[(&#x27;SimpleImputer_before_ohe&#x27;,\n",
       "                                                                                          SimpleImputer(strategy=&#x27;most_frequent&#x27;)),\n",
       "                                                                                         (&#x27;ohe&#x27;,\n",
       "                                                                                          OneHotEncoder(drop=&#x27;first&#x27;,\n",
       "                                                                                                        handle_unknown=&#x27;ignore&#x27;,\n",
       "                                                                                                        sparse_output=False))]),\n",
       "                                                                         [&#x27;most_popular_category&#x27;]),\n",
       "                                                                        (&#x27;ord&#x27;,\n",
       "                                                                         Pipeline(steps=[(&#x27;SimpleIm...\n",
       "                         {&#x27;models&#x27;: [LogisticRegression(penalty=&#x27;l1&#x27;,\n",
       "                                                        random_state=42,\n",
       "                                                        solver=&#x27;liblinear&#x27;)],\n",
       "                          &#x27;models__C&#x27;: range(1, 5),\n",
       "                          &#x27;preprocessor__num&#x27;: [StandardScaler(),\n",
       "                                                MinMaxScaler(),\n",
       "                                                &#x27;passthrough&#x27;]},\n",
       "                         {&#x27;models&#x27;: [SVC(kernel=&#x27;linear&#x27;, probability=True,\n",
       "                                         random_state=42)],\n",
       "                          &#x27;models__C&#x27;: [0.01, 0.1, 1, 10, 100],\n",
       "                          &#x27;preprocessor__num&#x27;: [StandardScaler(),\n",
       "                                                MinMaxScaler(),\n",
       "                                                &#x27;passthrough&#x27;]}],\n",
       "             scoring=&#x27;roc_auc&#x27;)</pre><b>In a Jupyter environment, please rerun this cell to show the HTML representation or trust the notebook. <br />On GitHub, the HTML representation is unable to render, please try loading this page with nbviewer.org.</b></div><div class=\"sk-container\" hidden><div class=\"sk-item sk-dashed-wrapped\"><div class=\"sk-label-container\"><div class=\"sk-label fitted sk-toggleable\"><input class=\"sk-toggleable__control sk-hidden--visually\" id=\"sk-estimator-id-1\" type=\"checkbox\" ><label for=\"sk-estimator-id-1\" class=\"sk-toggleable__label fitted sk-toggleable__label-arrow fitted\">&nbsp;&nbsp;GridSearchCV<a class=\"sk-estimator-doc-link fitted\" rel=\"noreferrer\" target=\"_blank\" href=\"https://scikit-learn.org/1.5/modules/generated/sklearn.model_selection.GridSearchCV.html\">?<span>Documentation for GridSearchCV</span></a><span class=\"sk-estimator-doc-link fitted\">i<span>Fitted</span></span></label><div class=\"sk-toggleable__content fitted\"><pre>GridSearchCV(cv=5,\n",
       "             estimator=Pipeline(steps=[(&#x27;preprocessor&#x27;,\n",
       "                                        ColumnTransformer(remainder=&#x27;passthrough&#x27;,\n",
       "                                                          transformers=[(&#x27;ohe&#x27;,\n",
       "                                                                         Pipeline(steps=[(&#x27;SimpleImputer_before_ohe&#x27;,\n",
       "                                                                                          SimpleImputer(strategy=&#x27;most_frequent&#x27;)),\n",
       "                                                                                         (&#x27;ohe&#x27;,\n",
       "                                                                                          OneHotEncoder(drop=&#x27;first&#x27;,\n",
       "                                                                                                        handle_unknown=&#x27;ignore&#x27;,\n",
       "                                                                                                        sparse_output=False))]),\n",
       "                                                                         [&#x27;most_popular_category&#x27;]),\n",
       "                                                                        (&#x27;ord&#x27;,\n",
       "                                                                         Pipeline(steps=[(&#x27;SimpleIm...\n",
       "                         {&#x27;models&#x27;: [LogisticRegression(penalty=&#x27;l1&#x27;,\n",
       "                                                        random_state=42,\n",
       "                                                        solver=&#x27;liblinear&#x27;)],\n",
       "                          &#x27;models__C&#x27;: range(1, 5),\n",
       "                          &#x27;preprocessor__num&#x27;: [StandardScaler(),\n",
       "                                                MinMaxScaler(),\n",
       "                                                &#x27;passthrough&#x27;]},\n",
       "                         {&#x27;models&#x27;: [SVC(kernel=&#x27;linear&#x27;, probability=True,\n",
       "                                         random_state=42)],\n",
       "                          &#x27;models__C&#x27;: [0.01, 0.1, 1, 10, 100],\n",
       "                          &#x27;preprocessor__num&#x27;: [StandardScaler(),\n",
       "                                                MinMaxScaler(),\n",
       "                                                &#x27;passthrough&#x27;]}],\n",
       "             scoring=&#x27;roc_auc&#x27;)</pre></div> </div></div><div class=\"sk-parallel\"><div class=\"sk-parallel-item\"><div class=\"sk-item\"><div class=\"sk-label-container\"><div class=\"sk-label fitted sk-toggleable\"><input class=\"sk-toggleable__control sk-hidden--visually\" id=\"sk-estimator-id-2\" type=\"checkbox\" ><label for=\"sk-estimator-id-2\" class=\"sk-toggleable__label fitted sk-toggleable__label-arrow fitted\">best_estimator_: Pipeline</label><div class=\"sk-toggleable__content fitted\"><pre>Pipeline(steps=[(&#x27;preprocessor&#x27;,\n",
       "                 ColumnTransformer(remainder=&#x27;passthrough&#x27;,\n",
       "                                   transformers=[(&#x27;ohe&#x27;,\n",
       "                                                  Pipeline(steps=[(&#x27;SimpleImputer_before_ohe&#x27;,\n",
       "                                                                   SimpleImputer(strategy=&#x27;most_frequent&#x27;)),\n",
       "                                                                  (&#x27;ohe&#x27;,\n",
       "                                                                   OneHotEncoder(drop=&#x27;first&#x27;,\n",
       "                                                                                 handle_unknown=&#x27;ignore&#x27;,\n",
       "                                                                                 sparse_output=False))]),\n",
       "                                                  [&#x27;most_popular_category&#x27;]),\n",
       "                                                 (&#x27;ord&#x27;,\n",
       "                                                  Pipeline(steps=[(&#x27;SimpleImputer_before_ord&#x27;,\n",
       "                                                                   SimpleImpu...\n",
       "                                                   &#x27;days_after_registration&#x27;,\n",
       "                                                   &#x27;fail_number&#x27;,\n",
       "                                                   &#x27;marketing_activity_6_months&#x27;,\n",
       "                                                   &#x27;marketing_activity_current_month&#x27;,\n",
       "                                                   &#x27;money_1_month_ago&#x27;,\n",
       "                                                   &#x27;money_2_months_ago&#x27;,\n",
       "                                                   &#x27;money_this_month&#x27;,\n",
       "                                                   &#x27;pages_per_session&#x27;,\n",
       "                                                   &#x27;sale_purchases_part&#x27;,\n",
       "                                                   &#x27;time_1_month_ago&#x27;,\n",
       "                                                   &#x27;time_this_month&#x27;,\n",
       "                                                   &#x27;unpaid_items_number&#x27;])])),\n",
       "                (&#x27;models&#x27;,\n",
       "                 LogisticRegression(C=1, penalty=&#x27;l1&#x27;, random_state=42,\n",
       "                                    solver=&#x27;liblinear&#x27;))])</pre></div> </div></div><div class=\"sk-serial\"><div class=\"sk-item\"><div class=\"sk-serial\"><div class=\"sk-item sk-dashed-wrapped\"><div class=\"sk-label-container\"><div class=\"sk-label fitted sk-toggleable\"><input class=\"sk-toggleable__control sk-hidden--visually\" id=\"sk-estimator-id-3\" type=\"checkbox\" ><label for=\"sk-estimator-id-3\" class=\"sk-toggleable__label fitted sk-toggleable__label-arrow fitted\">&nbsp;preprocessor: ColumnTransformer<a class=\"sk-estimator-doc-link fitted\" rel=\"noreferrer\" target=\"_blank\" href=\"https://scikit-learn.org/1.5/modules/generated/sklearn.compose.ColumnTransformer.html\">?<span>Documentation for preprocessor: ColumnTransformer</span></a></label><div class=\"sk-toggleable__content fitted\"><pre>ColumnTransformer(remainder=&#x27;passthrough&#x27;,\n",
       "                  transformers=[(&#x27;ohe&#x27;,\n",
       "                                 Pipeline(steps=[(&#x27;SimpleImputer_before_ohe&#x27;,\n",
       "                                                  SimpleImputer(strategy=&#x27;most_frequent&#x27;)),\n",
       "                                                 (&#x27;ohe&#x27;,\n",
       "                                                  OneHotEncoder(drop=&#x27;first&#x27;,\n",
       "                                                                handle_unknown=&#x27;ignore&#x27;,\n",
       "                                                                sparse_output=False))]),\n",
       "                                 [&#x27;most_popular_category&#x27;]),\n",
       "                                (&#x27;ord&#x27;,\n",
       "                                 Pipeline(steps=[(&#x27;SimpleImputer_before_ord&#x27;,\n",
       "                                                  SimpleImputer(strategy=&#x27;most_frequent&#x27;)),\n",
       "                                                 (...\n",
       "                                 [&#x27;is_mailing_allowed&#x27;, &#x27;service_type&#x27;]),\n",
       "                                (&#x27;num&#x27;, MinMaxScaler(),\n",
       "                                 [&#x27;categories_visited_per_session&#x27;,\n",
       "                                  &#x27;days_after_registration&#x27;, &#x27;fail_number&#x27;,\n",
       "                                  &#x27;marketing_activity_6_months&#x27;,\n",
       "                                  &#x27;marketing_activity_current_month&#x27;,\n",
       "                                  &#x27;money_1_month_ago&#x27;, &#x27;money_2_months_ago&#x27;,\n",
       "                                  &#x27;money_this_month&#x27;, &#x27;pages_per_session&#x27;,\n",
       "                                  &#x27;sale_purchases_part&#x27;, &#x27;time_1_month_ago&#x27;,\n",
       "                                  &#x27;time_this_month&#x27;, &#x27;unpaid_items_number&#x27;])])</pre></div> </div></div><div class=\"sk-parallel\"><div class=\"sk-parallel-item\"><div class=\"sk-item\"><div class=\"sk-label-container\"><div class=\"sk-label fitted sk-toggleable\"><input class=\"sk-toggleable__control sk-hidden--visually\" id=\"sk-estimator-id-4\" type=\"checkbox\" ><label for=\"sk-estimator-id-4\" class=\"sk-toggleable__label fitted sk-toggleable__label-arrow fitted\">ohe</label><div class=\"sk-toggleable__content fitted\"><pre>[&#x27;most_popular_category&#x27;]</pre></div> </div></div><div class=\"sk-serial\"><div class=\"sk-item\"><div class=\"sk-serial\"><div class=\"sk-item\"><div class=\"sk-estimator fitted sk-toggleable\"><input class=\"sk-toggleable__control sk-hidden--visually\" id=\"sk-estimator-id-5\" type=\"checkbox\" ><label for=\"sk-estimator-id-5\" class=\"sk-toggleable__label fitted sk-toggleable__label-arrow fitted\">&nbsp;SimpleImputer<a class=\"sk-estimator-doc-link fitted\" rel=\"noreferrer\" target=\"_blank\" href=\"https://scikit-learn.org/1.5/modules/generated/sklearn.impute.SimpleImputer.html\">?<span>Documentation for SimpleImputer</span></a></label><div class=\"sk-toggleable__content fitted\"><pre>SimpleImputer(strategy=&#x27;most_frequent&#x27;)</pre></div> </div></div><div class=\"sk-item\"><div class=\"sk-estimator fitted sk-toggleable\"><input class=\"sk-toggleable__control sk-hidden--visually\" id=\"sk-estimator-id-6\" type=\"checkbox\" ><label for=\"sk-estimator-id-6\" class=\"sk-toggleable__label fitted sk-toggleable__label-arrow fitted\">&nbsp;OneHotEncoder<a class=\"sk-estimator-doc-link fitted\" rel=\"noreferrer\" target=\"_blank\" href=\"https://scikit-learn.org/1.5/modules/generated/sklearn.preprocessing.OneHotEncoder.html\">?<span>Documentation for OneHotEncoder</span></a></label><div class=\"sk-toggleable__content fitted\"><pre>OneHotEncoder(drop=&#x27;first&#x27;, handle_unknown=&#x27;ignore&#x27;, sparse_output=False)</pre></div> </div></div></div></div></div></div></div><div class=\"sk-parallel-item\"><div class=\"sk-item\"><div class=\"sk-label-container\"><div class=\"sk-label fitted sk-toggleable\"><input class=\"sk-toggleable__control sk-hidden--visually\" id=\"sk-estimator-id-7\" type=\"checkbox\" ><label for=\"sk-estimator-id-7\" class=\"sk-toggleable__label fitted sk-toggleable__label-arrow fitted\">ord</label><div class=\"sk-toggleable__content fitted\"><pre>[&#x27;is_mailing_allowed&#x27;, &#x27;service_type&#x27;]</pre></div> </div></div><div class=\"sk-serial\"><div class=\"sk-item\"><div class=\"sk-serial\"><div class=\"sk-item\"><div class=\"sk-estimator fitted sk-toggleable\"><input class=\"sk-toggleable__control sk-hidden--visually\" id=\"sk-estimator-id-8\" type=\"checkbox\" ><label for=\"sk-estimator-id-8\" class=\"sk-toggleable__label fitted sk-toggleable__label-arrow fitted\">&nbsp;SimpleImputer<a class=\"sk-estimator-doc-link fitted\" rel=\"noreferrer\" target=\"_blank\" href=\"https://scikit-learn.org/1.5/modules/generated/sklearn.impute.SimpleImputer.html\">?<span>Documentation for SimpleImputer</span></a></label><div class=\"sk-toggleable__content fitted\"><pre>SimpleImputer(strategy=&#x27;most_frequent&#x27;)</pre></div> </div></div><div class=\"sk-item\"><div class=\"sk-estimator fitted sk-toggleable\"><input class=\"sk-toggleable__control sk-hidden--visually\" id=\"sk-estimator-id-9\" type=\"checkbox\" ><label for=\"sk-estimator-id-9\" class=\"sk-toggleable__label fitted sk-toggleable__label-arrow fitted\">&nbsp;OrdinalEncoder<a class=\"sk-estimator-doc-link fitted\" rel=\"noreferrer\" target=\"_blank\" href=\"https://scikit-learn.org/1.5/modules/generated/sklearn.preprocessing.OrdinalEncoder.html\">?<span>Documentation for OrdinalEncoder</span></a></label><div class=\"sk-toggleable__content fitted\"><pre>OrdinalEncoder(categories=[[&#x27;да&#x27;, &#x27;нет&#x27;], [&#x27;стандарт&#x27;, &#x27;премиум&#x27;]],\n",
       "               handle_unknown=&#x27;use_encoded_value&#x27;, unknown_value=nan)</pre></div> </div></div><div class=\"sk-item\"><div class=\"sk-estimator fitted sk-toggleable\"><input class=\"sk-toggleable__control sk-hidden--visually\" id=\"sk-estimator-id-10\" type=\"checkbox\" ><label for=\"sk-estimator-id-10\" class=\"sk-toggleable__label fitted sk-toggleable__label-arrow fitted\">&nbsp;SimpleImputer<a class=\"sk-estimator-doc-link fitted\" rel=\"noreferrer\" target=\"_blank\" href=\"https://scikit-learn.org/1.5/modules/generated/sklearn.impute.SimpleImputer.html\">?<span>Documentation for SimpleImputer</span></a></label><div class=\"sk-toggleable__content fitted\"><pre>SimpleImputer(strategy=&#x27;most_frequent&#x27;)</pre></div> </div></div></div></div></div></div></div><div class=\"sk-parallel-item\"><div class=\"sk-item\"><div class=\"sk-label-container\"><div class=\"sk-label fitted sk-toggleable\"><input class=\"sk-toggleable__control sk-hidden--visually\" id=\"sk-estimator-id-11\" type=\"checkbox\" ><label for=\"sk-estimator-id-11\" class=\"sk-toggleable__label fitted sk-toggleable__label-arrow fitted\">num</label><div class=\"sk-toggleable__content fitted\"><pre>[&#x27;categories_visited_per_session&#x27;, &#x27;days_after_registration&#x27;, &#x27;fail_number&#x27;, &#x27;marketing_activity_6_months&#x27;, &#x27;marketing_activity_current_month&#x27;, &#x27;money_1_month_ago&#x27;, &#x27;money_2_months_ago&#x27;, &#x27;money_this_month&#x27;, &#x27;pages_per_session&#x27;, &#x27;sale_purchases_part&#x27;, &#x27;time_1_month_ago&#x27;, &#x27;time_this_month&#x27;, &#x27;unpaid_items_number&#x27;]</pre></div> </div></div><div class=\"sk-serial\"><div class=\"sk-item\"><div class=\"sk-estimator fitted sk-toggleable\"><input class=\"sk-toggleable__control sk-hidden--visually\" id=\"sk-estimator-id-12\" type=\"checkbox\" ><label for=\"sk-estimator-id-12\" class=\"sk-toggleable__label fitted sk-toggleable__label-arrow fitted\">&nbsp;MinMaxScaler<a class=\"sk-estimator-doc-link fitted\" rel=\"noreferrer\" target=\"_blank\" href=\"https://scikit-learn.org/1.5/modules/generated/sklearn.preprocessing.MinMaxScaler.html\">?<span>Documentation for MinMaxScaler</span></a></label><div class=\"sk-toggleable__content fitted\"><pre>MinMaxScaler()</pre></div> </div></div></div></div></div><div class=\"sk-parallel-item\"><div class=\"sk-item\"><div class=\"sk-label-container\"><div class=\"sk-label fitted sk-toggleable\"><input class=\"sk-toggleable__control sk-hidden--visually\" id=\"sk-estimator-id-13\" type=\"checkbox\" ><label for=\"sk-estimator-id-13\" class=\"sk-toggleable__label fitted sk-toggleable__label-arrow fitted\">remainder</label><div class=\"sk-toggleable__content fitted\"><pre>[]</pre></div> </div></div><div class=\"sk-serial\"><div class=\"sk-item\"><div class=\"sk-estimator fitted sk-toggleable\"><input class=\"sk-toggleable__control sk-hidden--visually\" id=\"sk-estimator-id-14\" type=\"checkbox\" ><label for=\"sk-estimator-id-14\" class=\"sk-toggleable__label fitted sk-toggleable__label-arrow fitted\">passthrough</label><div class=\"sk-toggleable__content fitted\"><pre>passthrough</pre></div> </div></div></div></div></div></div></div><div class=\"sk-item\"><div class=\"sk-estimator fitted sk-toggleable\"><input class=\"sk-toggleable__control sk-hidden--visually\" id=\"sk-estimator-id-15\" type=\"checkbox\" ><label for=\"sk-estimator-id-15\" class=\"sk-toggleable__label fitted sk-toggleable__label-arrow fitted\">&nbsp;LogisticRegression<a class=\"sk-estimator-doc-link fitted\" rel=\"noreferrer\" target=\"_blank\" href=\"https://scikit-learn.org/1.5/modules/generated/sklearn.linear_model.LogisticRegression.html\">?<span>Documentation for LogisticRegression</span></a></label><div class=\"sk-toggleable__content fitted\"><pre>LogisticRegression(C=1, penalty=&#x27;l1&#x27;, random_state=42, solver=&#x27;liblinear&#x27;)</pre></div> </div></div></div></div></div></div></div></div></div></div></div>"
      ],
      "text/plain": [
       "GridSearchCV(cv=5,\n",
       "             estimator=Pipeline(steps=[('preprocessor',\n",
       "                                        ColumnTransformer(remainder='passthrough',\n",
       "                                                          transformers=[('ohe',\n",
       "                                                                         Pipeline(steps=[('SimpleImputer_before_ohe',\n",
       "                                                                                          SimpleImputer(strategy='most_frequent')),\n",
       "                                                                                         ('ohe',\n",
       "                                                                                          OneHotEncoder(drop='first',\n",
       "                                                                                                        handle_unknown='ignore',\n",
       "                                                                                                        sparse_output=False))]),\n",
       "                                                                         ['most_popular_category']),\n",
       "                                                                        ('ord',\n",
       "                                                                         Pipeline(steps=[('SimpleIm...\n",
       "                         {'models': [LogisticRegression(penalty='l1',\n",
       "                                                        random_state=42,\n",
       "                                                        solver='liblinear')],\n",
       "                          'models__C': range(1, 5),\n",
       "                          'preprocessor__num': [StandardScaler(),\n",
       "                                                MinMaxScaler(),\n",
       "                                                'passthrough']},\n",
       "                         {'models': [SVC(kernel='linear', probability=True,\n",
       "                                         random_state=42)],\n",
       "                          'models__C': [0.01, 0.1, 1, 10, 100],\n",
       "                          'preprocessor__num': [StandardScaler(),\n",
       "                                                MinMaxScaler(),\n",
       "                                                'passthrough']}],\n",
       "             scoring='roc_auc')"
      ]
     },
     "execution_count": 95,
     "metadata": {},
     "output_type": "execute_result"
    }
   ],
   "source": [
    "grid.fit(X_train, y_train)"
   ]
  },
  {
   "cell_type": "code",
   "execution_count": 96,
   "metadata": {},
   "outputs": [
    {
     "data": {
      "text/plain": [
       "0.8983143201052292"
      ]
     },
     "execution_count": 96,
     "metadata": {},
     "output_type": "execute_result"
    }
   ],
   "source": [
    "grid.best_score_"
   ]
  },
  {
   "cell_type": "code",
   "execution_count": 97,
   "metadata": {},
   "outputs": [
    {
     "data": {
      "text/plain": [
       "0.9182138090037617"
      ]
     },
     "execution_count": 97,
     "metadata": {},
     "output_type": "execute_result"
    }
   ],
   "source": [
    "y_pred = grid.predict_proba(X_test)[:, 1]\n",
    "roc_auc_score(y_test, y_pred)"
   ]
  },
  {
   "cell_type": "markdown",
   "metadata": {},
   "source": [
    "**Вывод**:\n",
    "В данном разделе мы пользовались такими инструментами для обработки данных и поиска лучше модели:\n",
    "- LabelEncoder для кодировки целевого признака\n",
    "- OneHotEncoder и OrdinalEncoder для кодировки категориальных признаков\n",
    "- MinMaxScaler, StandardScaler для кодировки численных признаков\n",
    "- SimpleImputer для заполнения пропусков\n",
    "\n",
    "В итоге после построения пайплайна и поиска лучшей модели через GridSearch выявлен фаворит -  LinearRegression с метрикой *roc_auc = 0,8983*"
   ]
  },
  {
   "cell_type": "code",
   "execution_count": 98,
   "metadata": {
    "scrolled": true
   },
   "outputs": [
    {
     "name": "stdout",
     "output_type": "stream",
     "text": [
      "ROC-AUC = 0.5\n"
     ]
    }
   ],
   "source": [
    "final_pipe_dummy = Pipeline(\n",
    "    [\n",
    "        ('preprocessor', data_preprocessor),\n",
    "        ('models', DummyClassifier(random_state=RANDOM_STATE))\n",
    "    ]\n",
    ")\n",
    "\n",
    "final_pipe_dummy.fit(X_train, y_train)\n",
    "dummy_model_probas = final_pipe_dummy.predict_proba(X_test)[:,1]\n",
    "dummy_roc = roc_auc_score(y_test, dummy_model_probas, )\n",
    "print('ROC-AUC =', round(dummy_roc,2))"
   ]
  },
  {
   "cell_type": "markdown",
   "metadata": {},
   "source": [
    "Как мы видим, метрика показывает, что модель предсказывает случайно, то же самое, что руководствоваться подброшенной монеткой при выборе класса целевого признака, значит наша выбранная модель адекватна"
   ]
  },
  {
   "cell_type": "markdown",
   "metadata": {},
   "source": [
    "## <a id='toc6_'></a> Анализ важности признаков [&#8593;](#toc0_)"
   ]
  },
  {
   "cell_type": "code",
   "execution_count": 99,
   "metadata": {},
   "outputs": [],
   "source": [
    "the_best_model = grid.best_estimator_.named_steps['models']"
   ]
  },
  {
   "cell_type": "code",
   "execution_count": 100,
   "metadata": {},
   "outputs": [],
   "source": [
    "X_test_transform = grid.best_estimator_.named_steps['preprocessor'].transform(X_test)"
   ]
  },
  {
   "cell_type": "code",
   "execution_count": 101,
   "metadata": {},
   "outputs": [],
   "source": [
    "feature_names_ = grid.best_estimator_.named_steps['preprocessor'].get_feature_names_out()"
   ]
  },
  {
   "cell_type": "code",
   "execution_count": 102,
   "metadata": {},
   "outputs": [
    {
     "data": {
      "image/png": "[encoded data removed]",
      "text/plain": [
       "<Figure size 576x568.8 with 2 Axes>"
      ]
     },
     "metadata": {
      "needs_background": "light"
     },
     "output_type": "display_data"
    }
   ],
   "source": [
    "explainer = shap.LinearExplainer(the_best_model, X_test_transform, feature_names=feature_names_)\n",
    "\n",
    "shap_values = explainer(X_test_transform)\n",
    "\n",
    "shap.plots.beeswarm(shap_values, max_display=16,color_bar_label='Приоритетность признака в модели', show=False)\n",
    "plt.title('Влияние признаков на модель')\n",
    "plt.xlabel('Степень влияния признака')\n",
    "plt.show()\n"
   ]
  },
  {
   "cell_type": "markdown",
   "metadata": {},
   "source": [
    "По вышеприведенным данным можем сделать вывод:\n",
    "\n",
    "- pages_per_session (кол-во страниц за визит) имеет наибольшее значение в модели, что обусловлено высокой корреляцией признака, а так же выбранной моделью-логрег и логикой.\n",
    "- categories_visited_per_session (кол-во категорий за визит)  имеет также большой вес среди признаков, что так же логично, как и с предыдущим признаком: чем больше страниц и категорий просматривает человек за сессию, тем более вероятно что он заинтересован в покупках и будет продолжать покупать.\n",
    "- sale_purchases_part (доля покупок по акции) влияет сильно в связи с обратной зависимостью: чем больше покупок по акции делает человек, тем ниже покупательская активность в целом.\n",
    "- Явно видно, что покупательская активность за последний месяц в целом имеет большой вес, так же как и количество неоплаченных товаров.\n"
   ]
  },
  {
   "cell_type": "markdown",
   "metadata": {},
   "source": [
    "## <a id='toc7_'></a> Сегментация покупателей [&#8593;](#toc0_)"
   ]
  },
  {
   "cell_type": "code",
   "execution_count": 103,
   "metadata": {},
   "outputs": [
    {
     "data": {
      "text/html": [
       "<div>\n",
       "<style scoped>\n",
       "    .dataframe tbody tr th:only-of-type {\n",
       "        vertical-align: middle;\n",
       "    }\n",
       "\n",
       "    .dataframe tbody tr th {\n",
       "        vertical-align: top;\n",
       "    }\n",
       "\n",
       "    .dataframe thead th {\n",
       "        text-align: right;\n",
       "    }\n",
       "</style>\n",
       "<table border=\"1\" class=\"dataframe\">\n",
       "  <thead>\n",
       "    <tr style=\"text-align: right;\">\n",
       "      <th></th>\n",
       "      <th>categories_visited_per_session</th>\n",
       "      <th>days_after_registration</th>\n",
       "      <th>fail_number</th>\n",
       "      <th>is_mailing_allowed</th>\n",
       "      <th>marketing_activity_6_months</th>\n",
       "      <th>marketing_activity_current_month</th>\n",
       "      <th>money_1_month_ago</th>\n",
       "      <th>money_2_months_ago</th>\n",
       "      <th>money_this_month</th>\n",
       "      <th>most_popular_category</th>\n",
       "      <th>pages_per_session</th>\n",
       "      <th>sale_purchases_part</th>\n",
       "      <th>service_type</th>\n",
       "      <th>time_1_month_ago</th>\n",
       "      <th>time_this_month</th>\n",
       "      <th>unpaid_items_number</th>\n",
       "      <th>prob_to_leave</th>\n",
       "      <th>leave</th>\n",
       "      <th>profit</th>\n",
       "    </tr>\n",
       "    <tr>\n",
       "      <th>id</th>\n",
       "      <th></th>\n",
       "      <th></th>\n",
       "      <th></th>\n",
       "      <th></th>\n",
       "      <th></th>\n",
       "      <th></th>\n",
       "      <th></th>\n",
       "      <th></th>\n",
       "      <th></th>\n",
       "      <th></th>\n",
       "      <th></th>\n",
       "      <th></th>\n",
       "      <th></th>\n",
       "      <th></th>\n",
       "      <th></th>\n",
       "      <th></th>\n",
       "      <th></th>\n",
       "      <th></th>\n",
       "      <th></th>\n",
       "    </tr>\n",
       "  </thead>\n",
       "  <tbody>\n",
       "    <tr>\n",
       "      <th>215349</th>\n",
       "      <td>4</td>\n",
       "      <td>819</td>\n",
       "      <td>2</td>\n",
       "      <td>да</td>\n",
       "      <td>4.40</td>\n",
       "      <td>4</td>\n",
       "      <td>5216.00</td>\n",
       "      <td>4472.00</td>\n",
       "      <td>4971.60</td>\n",
       "      <td>Товары для детей</td>\n",
       "      <td>5</td>\n",
       "      <td>0.75</td>\n",
       "      <td>премиум</td>\n",
       "      <td>12.00</td>\n",
       "      <td>10.00</td>\n",
       "      <td>4</td>\n",
       "      <td>0.87</td>\n",
       "      <td>1</td>\n",
       "      <td>4.16</td>\n",
       "    </tr>\n",
       "    <tr>\n",
       "      <th>215350</th>\n",
       "      <td>5</td>\n",
       "      <td>539</td>\n",
       "      <td>1</td>\n",
       "      <td>нет</td>\n",
       "      <td>4.90</td>\n",
       "      <td>3</td>\n",
       "      <td>5457.50</td>\n",
       "      <td>4826.00</td>\n",
       "      <td>5058.40</td>\n",
       "      <td>Домашний текстиль</td>\n",
       "      <td>5</td>\n",
       "      <td>0.14</td>\n",
       "      <td>стандарт</td>\n",
       "      <td>8.00</td>\n",
       "      <td>13.00</td>\n",
       "      <td>2</td>\n",
       "      <td>0.33</td>\n",
       "      <td>1</td>\n",
       "      <td>3.13</td>\n",
       "    </tr>\n",
       "    <tr>\n",
       "      <th>215351</th>\n",
       "      <td>5</td>\n",
       "      <td>896</td>\n",
       "      <td>6</td>\n",
       "      <td>да</td>\n",
       "      <td>3.20</td>\n",
       "      <td>5</td>\n",
       "      <td>6158.00</td>\n",
       "      <td>4793.00</td>\n",
       "      <td>6610.40</td>\n",
       "      <td>Товары для детей</td>\n",
       "      <td>4</td>\n",
       "      <td>0.99</td>\n",
       "      <td>стандарт</td>\n",
       "      <td>11.00</td>\n",
       "      <td>13.00</td>\n",
       "      <td>0</td>\n",
       "      <td>0.77</td>\n",
       "      <td>1</td>\n",
       "      <td>4.87</td>\n",
       "    </tr>\n",
       "    <tr>\n",
       "      <th>215352</th>\n",
       "      <td>3</td>\n",
       "      <td>1064</td>\n",
       "      <td>3</td>\n",
       "      <td>нет</td>\n",
       "      <td>5.10</td>\n",
       "      <td>3</td>\n",
       "      <td>5807.50</td>\n",
       "      <td>4594.00</td>\n",
       "      <td>5872.50</td>\n",
       "      <td>Товары для детей</td>\n",
       "      <td>2</td>\n",
       "      <td>0.94</td>\n",
       "      <td>стандарт</td>\n",
       "      <td>8.00</td>\n",
       "      <td>11.00</td>\n",
       "      <td>2</td>\n",
       "      <td>0.95</td>\n",
       "      <td>1</td>\n",
       "      <td>4.21</td>\n",
       "    </tr>\n",
       "    <tr>\n",
       "      <th>215353</th>\n",
       "      <td>4</td>\n",
       "      <td>762</td>\n",
       "      <td>1</td>\n",
       "      <td>да</td>\n",
       "      <td>3.30</td>\n",
       "      <td>4</td>\n",
       "      <td>4738.50</td>\n",
       "      <td>5124.00</td>\n",
       "      <td>5388.50</td>\n",
       "      <td>Домашний текстиль</td>\n",
       "      <td>4</td>\n",
       "      <td>0.26</td>\n",
       "      <td>стандарт</td>\n",
       "      <td>10.00</td>\n",
       "      <td>10.00</td>\n",
       "      <td>1</td>\n",
       "      <td>0.60</td>\n",
       "      <td>1</td>\n",
       "      <td>3.95</td>\n",
       "    </tr>\n",
       "  </tbody>\n",
       "</table>\n",
       "</div>"
      ],
      "text/plain": [
       "        categories_visited_per_session  days_after_registration  fail_number  \\\n",
       "id                                                                             \n",
       "215349                               4                      819            2   \n",
       "215350                               5                      539            1   \n",
       "215351                               5                      896            6   \n",
       "215352                               3                     1064            3   \n",
       "215353                               4                      762            1   \n",
       "\n",
       "       is_mailing_allowed  marketing_activity_6_months  \\\n",
       "id                                                       \n",
       "215349                 да                         4.40   \n",
       "215350                нет                         4.90   \n",
       "215351                 да                         3.20   \n",
       "215352                нет                         5.10   \n",
       "215353                 да                         3.30   \n",
       "\n",
       "        marketing_activity_current_month  money_1_month_ago  \\\n",
       "id                                                            \n",
       "215349                                 4            5216.00   \n",
       "215350                                 3            5457.50   \n",
       "215351                                 5            6158.00   \n",
       "215352                                 3            5807.50   \n",
       "215353                                 4            4738.50   \n",
       "\n",
       "        money_2_months_ago  money_this_month most_popular_category  \\\n",
       "id                                                                   \n",
       "215349             4472.00           4971.60      Товары для детей   \n",
       "215350             4826.00           5058.40     Домашний текстиль   \n",
       "215351             4793.00           6610.40      Товары для детей   \n",
       "215352             4594.00           5872.50      Товары для детей   \n",
       "215353             5124.00           5388.50     Домашний текстиль   \n",
       "\n",
       "        pages_per_session  sale_purchases_part service_type  time_1_month_ago  \\\n",
       "id                                                                              \n",
       "215349                  5                 0.75      премиум             12.00   \n",
       "215350                  5                 0.14     стандарт              8.00   \n",
       "215351                  4                 0.99     стандарт             11.00   \n",
       "215352                  2                 0.94     стандарт              8.00   \n",
       "215353                  4                 0.26     стандарт             10.00   \n",
       "\n",
       "        time_this_month  unpaid_items_number  prob_to_leave  leave  profit  \n",
       "id                                                                          \n",
       "215349            10.00                    4           0.87      1    4.16  \n",
       "215350            13.00                    2           0.33      1    3.13  \n",
       "215351            13.00                    0           0.77      1    4.87  \n",
       "215352            11.00                    2           0.95      1    4.21  \n",
       "215353            10.00                    1           0.60      1    3.95  "
      ]
     },
     "execution_count": 103,
     "metadata": {},
     "output_type": "execute_result"
    }
   ],
   "source": [
    "df_data = grid.best_estimator_.named_steps['preprocessor'].transform(X)\n",
    "df = X.copy()\n",
    "\n",
    "df['prob_to_leave'] = the_best_model.predict_proba(df_data)[:, 1]\n",
    "df['leave'] = label_encoder.transform(y)\n",
    "df = df.join(money, how='left')\n",
    "\n",
    "df.head()"
   ]
  },
  {
   "cell_type": "markdown",
   "metadata": {},
   "source": [
    "1. Выделим сегмент покупателей с высокой долей снижения покупательской активности(*prob_to_leave*>0,75) и относительно высокой(c отклонением от медианного в одну сигму) прыбылью (>3):"
   ]
  },
  {
   "cell_type": "code",
   "execution_count": 104,
   "metadata": {},
   "outputs": [
    {
     "data": {
      "text/html": [
       "<div>\n",
       "<style scoped>\n",
       "    .dataframe tbody tr th:only-of-type {\n",
       "        vertical-align: middle;\n",
       "    }\n",
       "\n",
       "    .dataframe tbody tr th {\n",
       "        vertical-align: top;\n",
       "    }\n",
       "\n",
       "    .dataframe thead th {\n",
       "        text-align: right;\n",
       "    }\n",
       "</style>\n",
       "<table border=\"1\" class=\"dataframe\">\n",
       "  <thead>\n",
       "    <tr style=\"text-align: right;\">\n",
       "      <th></th>\n",
       "      <th>categories_visited_per_session</th>\n",
       "      <th>days_after_registration</th>\n",
       "      <th>fail_number</th>\n",
       "      <th>is_mailing_allowed</th>\n",
       "      <th>marketing_activity_6_months</th>\n",
       "      <th>marketing_activity_current_month</th>\n",
       "      <th>money_1_month_ago</th>\n",
       "      <th>money_2_months_ago</th>\n",
       "      <th>money_this_month</th>\n",
       "      <th>most_popular_category</th>\n",
       "      <th>pages_per_session</th>\n",
       "      <th>sale_purchases_part</th>\n",
       "      <th>service_type</th>\n",
       "      <th>time_1_month_ago</th>\n",
       "      <th>time_this_month</th>\n",
       "      <th>unpaid_items_number</th>\n",
       "      <th>prob_to_leave</th>\n",
       "      <th>leave</th>\n",
       "      <th>profit</th>\n",
       "    </tr>\n",
       "    <tr>\n",
       "      <th>id</th>\n",
       "      <th></th>\n",
       "      <th></th>\n",
       "      <th></th>\n",
       "      <th></th>\n",
       "      <th></th>\n",
       "      <th></th>\n",
       "      <th></th>\n",
       "      <th></th>\n",
       "      <th></th>\n",
       "      <th></th>\n",
       "      <th></th>\n",
       "      <th></th>\n",
       "      <th></th>\n",
       "      <th></th>\n",
       "      <th></th>\n",
       "      <th></th>\n",
       "      <th></th>\n",
       "      <th></th>\n",
       "      <th></th>\n",
       "    </tr>\n",
       "  </thead>\n",
       "  <tbody>\n",
       "    <tr>\n",
       "      <th>215349</th>\n",
       "      <td>4</td>\n",
       "      <td>819</td>\n",
       "      <td>2</td>\n",
       "      <td>да</td>\n",
       "      <td>4.40</td>\n",
       "      <td>4</td>\n",
       "      <td>5216.00</td>\n",
       "      <td>4472.00</td>\n",
       "      <td>4971.60</td>\n",
       "      <td>Товары для детей</td>\n",
       "      <td>5</td>\n",
       "      <td>0.75</td>\n",
       "      <td>премиум</td>\n",
       "      <td>12.00</td>\n",
       "      <td>10.00</td>\n",
       "      <td>4</td>\n",
       "      <td>0.87</td>\n",
       "      <td>1</td>\n",
       "      <td>4.16</td>\n",
       "    </tr>\n",
       "    <tr>\n",
       "      <th>215351</th>\n",
       "      <td>5</td>\n",
       "      <td>896</td>\n",
       "      <td>6</td>\n",
       "      <td>да</td>\n",
       "      <td>3.20</td>\n",
       "      <td>5</td>\n",
       "      <td>6158.00</td>\n",
       "      <td>4793.00</td>\n",
       "      <td>6610.40</td>\n",
       "      <td>Товары для детей</td>\n",
       "      <td>4</td>\n",
       "      <td>0.99</td>\n",
       "      <td>стандарт</td>\n",
       "      <td>11.00</td>\n",
       "      <td>13.00</td>\n",
       "      <td>0</td>\n",
       "      <td>0.77</td>\n",
       "      <td>1</td>\n",
       "      <td>4.87</td>\n",
       "    </tr>\n",
       "    <tr>\n",
       "      <th>215352</th>\n",
       "      <td>3</td>\n",
       "      <td>1064</td>\n",
       "      <td>3</td>\n",
       "      <td>нет</td>\n",
       "      <td>5.10</td>\n",
       "      <td>3</td>\n",
       "      <td>5807.50</td>\n",
       "      <td>4594.00</td>\n",
       "      <td>5872.50</td>\n",
       "      <td>Товары для детей</td>\n",
       "      <td>2</td>\n",
       "      <td>0.94</td>\n",
       "      <td>стандарт</td>\n",
       "      <td>8.00</td>\n",
       "      <td>11.00</td>\n",
       "      <td>2</td>\n",
       "      <td>0.95</td>\n",
       "      <td>1</td>\n",
       "      <td>4.21</td>\n",
       "    </tr>\n",
       "    <tr>\n",
       "      <th>215356</th>\n",
       "      <td>2</td>\n",
       "      <td>192</td>\n",
       "      <td>1</td>\n",
       "      <td>да</td>\n",
       "      <td>4.20</td>\n",
       "      <td>4</td>\n",
       "      <td>4146.50</td>\n",
       "      <td>4433.00</td>\n",
       "      <td>4566.40</td>\n",
       "      <td>Косметика и аксесуары</td>\n",
       "      <td>3</td>\n",
       "      <td>0.14</td>\n",
       "      <td>стандарт</td>\n",
       "      <td>6.00</td>\n",
       "      <td>7.00</td>\n",
       "      <td>2</td>\n",
       "      <td>0.89</td>\n",
       "      <td>1</td>\n",
       "      <td>4.93</td>\n",
       "    </tr>\n",
       "    <tr>\n",
       "      <th>215362</th>\n",
       "      <td>3</td>\n",
       "      <td>438</td>\n",
       "      <td>6</td>\n",
       "      <td>да</td>\n",
       "      <td>4.20</td>\n",
       "      <td>4</td>\n",
       "      <td>4314.00</td>\n",
       "      <td>4765.00</td>\n",
       "      <td>4447.90</td>\n",
       "      <td>Домашний текстиль</td>\n",
       "      <td>4</td>\n",
       "      <td>0.74</td>\n",
       "      <td>премиум</td>\n",
       "      <td>13.00</td>\n",
       "      <td>13.00</td>\n",
       "      <td>4</td>\n",
       "      <td>0.83</td>\n",
       "      <td>1</td>\n",
       "      <td>3.49</td>\n",
       "    </tr>\n",
       "  </tbody>\n",
       "</table>\n",
       "</div>"
      ],
      "text/plain": [
       "        categories_visited_per_session  days_after_registration  fail_number  \\\n",
       "id                                                                             \n",
       "215349                               4                      819            2   \n",
       "215351                               5                      896            6   \n",
       "215352                               3                     1064            3   \n",
       "215356                               2                      192            1   \n",
       "215362                               3                      438            6   \n",
       "\n",
       "       is_mailing_allowed  marketing_activity_6_months  \\\n",
       "id                                                       \n",
       "215349                 да                         4.40   \n",
       "215351                 да                         3.20   \n",
       "215352                нет                         5.10   \n",
       "215356                 да                         4.20   \n",
       "215362                 да                         4.20   \n",
       "\n",
       "        marketing_activity_current_month  money_1_month_ago  \\\n",
       "id                                                            \n",
       "215349                                 4            5216.00   \n",
       "215351                                 5            6158.00   \n",
       "215352                                 3            5807.50   \n",
       "215356                                 4            4146.50   \n",
       "215362                                 4            4314.00   \n",
       "\n",
       "        money_2_months_ago  money_this_month  most_popular_category  \\\n",
       "id                                                                    \n",
       "215349             4472.00           4971.60       Товары для детей   \n",
       "215351             4793.00           6610.40       Товары для детей   \n",
       "215352             4594.00           5872.50       Товары для детей   \n",
       "215356             4433.00           4566.40  Косметика и аксесуары   \n",
       "215362             4765.00           4447.90      Домашний текстиль   \n",
       "\n",
       "        pages_per_session  sale_purchases_part service_type  time_1_month_ago  \\\n",
       "id                                                                              \n",
       "215349                  5                 0.75      премиум             12.00   \n",
       "215351                  4                 0.99     стандарт             11.00   \n",
       "215352                  2                 0.94     стандарт              8.00   \n",
       "215356                  3                 0.14     стандарт              6.00   \n",
       "215362                  4                 0.74      премиум             13.00   \n",
       "\n",
       "        time_this_month  unpaid_items_number  prob_to_leave  leave  profit  \n",
       "id                                                                          \n",
       "215349            10.00                    4           0.87      1    4.16  \n",
       "215351            13.00                    0           0.77      1    4.87  \n",
       "215352            11.00                    2           0.95      1    4.21  \n",
       "215356             7.00                    2           0.89      1    4.93  \n",
       "215362            13.00                    4           0.83      1    3.49  "
      ]
     },
     "execution_count": 104,
     "metadata": {},
     "output_type": "execute_result"
    }
   ],
   "source": [
    "df_1seg = df.loc[(df['prob_to_leave']>0.75) & (df['profit']>3)]\n",
    "df_1seg.head()"
   ]
  },
  {
   "cell_type": "code",
   "execution_count": 105,
   "metadata": {},
   "outputs": [
    {
     "data": {
      "text/plain": [
       "276"
      ]
     },
     "execution_count": 105,
     "metadata": {},
     "output_type": "execute_result"
    }
   ],
   "source": [
    "len(df_1seg)"
   ]
  },
  {
   "cell_type": "code",
   "execution_count": 106,
   "metadata": {},
   "outputs": [
    {
     "data": {
      "text/plain": [
       "service_type\n",
       "стандарт    179\n",
       "премиум      97\n",
       "Name: count, dtype: int64"
      ]
     },
     "execution_count": 106,
     "metadata": {},
     "output_type": "execute_result"
    }
   ],
   "source": [
    "df_1seg['service_type'].value_counts()"
   ]
  },
  {
   "cell_type": "code",
   "execution_count": 107,
   "metadata": {},
   "outputs": [
    {
     "data": {
      "text/plain": [
       "most_popular_category\n",
       "Товары для детей                        90\n",
       "Косметика и аксесуары                   57\n",
       "Домашний текстиль                       52\n",
       "Кухонная посуда                         45\n",
       "Техника для красоты и здоровья          20\n",
       "Мелкая бытовая техника и электроника    12\n",
       "Name: count, dtype: int64"
      ]
     },
     "execution_count": 107,
     "metadata": {},
     "output_type": "execute_result"
    }
   ],
   "source": [
    "df_1seg['most_popular_category'].value_counts()"
   ]
  },
  {
   "cell_type": "code",
   "execution_count": 108,
   "metadata": {
    "scrolled": true
   },
   "outputs": [
    {
     "data": {
      "text/plain": [
       "is_mailing_allowed\n",
       "да     209\n",
       "нет     67\n",
       "Name: count, dtype: int64"
      ]
     },
     "execution_count": 108,
     "metadata": {},
     "output_type": "execute_result"
    }
   ],
   "source": [
    "df_1seg['is_mailing_allowed'].value_counts()"
   ]
  },
  {
   "cell_type": "markdown",
   "metadata": {},
   "source": [
    "Исходя из полученных данных:\n",
    "\n",
    "Большинство пользователей данной категории пользуются стандартным типом сервиса, покупают в основном товары для детей и косметику, а так же готовы к предложениям о новых товарах.\n",
    "\n",
    "Можем посоветовать интернет-магазину сделать рассылки о товарах с дисконтом на наиболее популярные категории товаров почаще, тогда смогут повысить покупательскую активность данной категории покупателей. Так же стоит предложить более выгодные условия на преимиум сервис( или просто его предложить, чтобы люди были в курсе)."
   ]
  },
  {
   "cell_type": "markdown",
   "metadata": {},
   "source": [
    "2. По анализу SHAP было замечено, что доля купленных по акции товаров напрямую влияет на покупательскую активность, поэтому найдем в данном сегменте покупателей с высокой долей покупок товаров по акции:"
   ]
  },
  {
   "cell_type": "code",
   "execution_count": 109,
   "metadata": {},
   "outputs": [],
   "source": [
    "df_1seg_with_sales_persons_ = df_1seg.loc[df['sale_purchases_part']>0.75]\n",
    "df_1seg_no_sales_persons_ = df_1seg.loc[df['sale_purchases_part']<=0.75]"
   ]
  },
  {
   "cell_type": "code",
   "execution_count": 110,
   "metadata": {},
   "outputs": [
    {
     "data": {
      "text/plain": [
       "98"
      ]
     },
     "execution_count": 110,
     "metadata": {},
     "output_type": "execute_result"
    }
   ],
   "source": [
    "len(df_1seg_with_sales_persons_)"
   ]
  },
  {
   "cell_type": "code",
   "execution_count": 111,
   "metadata": {},
   "outputs": [
    {
     "data": {
      "text/plain": [
       "178"
      ]
     },
     "execution_count": 111,
     "metadata": {},
     "output_type": "execute_result"
    }
   ],
   "source": [
    "len(df_1seg_no_sales_persons_)"
   ]
  },
  {
   "cell_type": "code",
   "execution_count": 112,
   "metadata": {},
   "outputs": [
    {
     "data": {
      "text/plain": [
       "0.942"
      ]
     },
     "execution_count": 112,
     "metadata": {},
     "output_type": "execute_result"
    }
   ],
   "source": [
    "round(df_1seg_with_sales_persons_['prob_to_leave'].mean(),3)"
   ]
  },
  {
   "cell_type": "code",
   "execution_count": 113,
   "metadata": {},
   "outputs": [
    {
     "data": {
      "text/plain": [
       "0.892"
      ]
     },
     "execution_count": 113,
     "metadata": {},
     "output_type": "execute_result"
    }
   ],
   "source": [
    "round(df_1seg_no_sales_persons_['prob_to_leave'].mean(),3)"
   ]
  },
  {
   "cell_type": "markdown",
   "metadata": {},
   "source": [
    "Получается, что действительно на 5% больше среднее значение вероятности снижения покупательской активности у людей, берущих в более чем 3/4 случаев товары по акции. Стоит им предлагать больше акционных товаров в рассылках."
   ]
  },
  {
   "cell_type": "markdown",
   "metadata": {},
   "source": [
    "3. Рассмотрим долю неоплаченных товаров среди данного сегмента, а именно : посмотрим на распределение между акционными товарами и неакционными:"
   ]
  },
  {
   "cell_type": "code",
   "execution_count": 114,
   "metadata": {
    "scrolled": true
   },
   "outputs": [
    {
     "data": {
      "image/png": "[encoded data removed]",
      "text/plain": [
       "<Figure size 432x288 with 1 Axes>"
      ]
     },
     "metadata": {
      "needs_background": "light"
     },
     "output_type": "display_data"
    }
   ],
   "source": [
    "sns.countplot(x = 'unpaid_items_number', hue='leave', data=df_1seg_with_sales_persons_)\n",
    "plt.title('Кол-во неоплаченных акционных товаров')\n",
    "plt.xlabel('Кол-во неоплаченных акционных товаров в корзине')\n",
    "plt.ylabel('Частота')\n",
    "plt.legend()\n",
    "plt.grid()\n",
    "plt.show()"
   ]
  },
  {
   "cell_type": "markdown",
   "metadata": {},
   "source": [
    "Что и следовало ожидать: чаще неоплаченными остаются неакционные товары. Стоит увеличивать срок акций или присылать оповещения на телефон клиенту об окончании срока акций."
   ]
  },
  {
   "cell_type": "markdown",
   "metadata": {},
   "source": [
    "Большинство покупателей, которые не оплатили акционные товары, обладают низкой покупательской активностью"
   ]
  },
  {
   "cell_type": "code",
   "execution_count": 115,
   "metadata": {
    "scrolled": true
   },
   "outputs": [
    {
     "data": {
      "image/png": "[encoded data removed]",
      "text/plain": [
       "<Figure size 432x288 with 1 Axes>"
      ]
     },
     "metadata": {
      "needs_background": "light"
     },
     "output_type": "display_data"
    }
   ],
   "source": [
    "sns.countplot(x = 'unpaid_items_number', hue='leave', data=df_1seg_no_sales_persons_)\n",
    "plt.title('Кол-во неоплаченных неакционных товаров')\n",
    "plt.xlabel('Кол-во неоплаченных неакционных товаров в корзине')\n",
    "plt.ylabel('Частота')\n",
    "plt.legend()\n",
    "plt.grid()\n",
    "plt.show()"
   ]
  },
  {
   "cell_type": "markdown",
   "metadata": {},
   "source": [
    "Здесь ситуация аналогичная предыдущей. В разрезе целевого признака: неоплаченные товары напрямую сказываются на снижении покупательской активности"
   ]
  },
  {
   "cell_type": "markdown",
   "metadata": {},
   "source": [
    "## <a id='toc8_'></a> Общий вывод[&#8593;](#toc0_)"
   ]
  },
  {
   "cell_type": "markdown",
   "metadata": {},
   "source": [
    "В ходе проекта были рассмотрены и исследованы следующие пункты:\n",
    "\n",
    "1. Подготовка данных. Загрузили обрабатывающие библиотеки и данные.\n",
    "\n",
    "2. Предобработка данных: В ходе предобработки все датафреймы проанализированы на пропуски, дубликаты, типы данных и выбросы. Скорректированы в соответствие с нормами и в целях корректности дальнейшего исследования.\n",
    "\n",
    "3. Проведен исследовательский анализ данных, который показал распределения признаков в датасетах и позволил правильно структурировать некоторые из них для дальнейшего объединения и построения пайплайнов.\n",
    "\n",
    "4. Корреляционный анализ, в ходе которого получена такая информация: \n",
    "- Мультиколлинеарности между признаками нет.\n",
    "- Есть корреляция между признаками money_this_month и money_1_month_ago, но она <0.9, что объяснимо может быть сезонностью или относительно небольшой выборкой данных.\n",
    "- Так же есть корреляция между целевым признаком и кол-вом посещаемых клиентом страниц за сессию, что помогло при анализе и построении модели МО.\n",
    "\n",
    "5. Построение моделей:\n",
    "- С помощью пайплайнов и GridSearchCV была найдена наилучшая модель.\n",
    "\n",
    "- В качестве метрики была выбрана roc_auc в виду дисбаланса классов целевого признака.\n",
    "\n",
    "Лучшей моделью стала *LogisticRegression* со значением метрики почти 0,9.\n",
    "\n",
    "6. Исходя из анализа важности признаков методом SHAP, пришли к таким замечаниям:\n",
    "\n",
    "- pages_per_session (кол-во страниц за визит) имеет наибольшее значение в модели, что обусловлено высокой корреляцией признака, а так же выбранной моделью-логрег и логикой.\n",
    "\n",
    "- categories_visited_per_session (кол-во категорий за визит) имеет также большой вес среди признаков, что так же логично, как и с предыдущим признаком: чем больше страниц и категорий просматривает человек за сессию, тем более вероятно что он заинтересован в покупках и будет продолжать покупать.\n",
    "\n",
    "- sale_purchases_part (доля покупок по акции) влияет сильно в связи с обратной зависимостью: чем больше покупок по акции делает человек, тем ниже покупательская активность в целом.\n",
    "\n",
    "- Явно видно, что покупательская активность за последний месяц в целом имеет большой вес, так же как и количество неоплаченных товаров.\n",
    "\n",
    "7. По анализу SHAP выделили сегмент покупателей с низкой покупательской активностью, но высокими показателями по прибыли и дали рекомендации интернет- магазину:\n",
    "\n",
    "- Интернет-магазину стоит сделать рассылки о товарах с дисконтом на наиболее популярные категории товаров почаще, тогда смогут повысить покупательскую активность данной категории покупателей. Так же стоит предложить более выгодные условия на преимиум сервис( или просто его предложить, чтобы люди были в курсе).\n",
    "\n",
    "- Стоит им предлагать больше акционных товаров в рассылках.\n",
    "\n",
    "- Стоит увеличивать срок акций или присылать оповещения на телефон клиенту об окончании срока акций."
   ]
  }
 ],
 "metadata": {
  "ExecuteTimeLog": [
   {
    "duration": 8,
    "start_time": "2024-10-23T09:37:08.613Z"
   },
   {
    "duration": 80863,
    "start_time": "2024-10-23T09:37:18.281Z"
   },
   {
    "duration": 1393,
    "start_time": "2024-10-23T18:07:47.320Z"
   },
   {
    "duration": 8,
    "start_time": "2024-10-23T18:08:02.583Z"
   },
   {
    "duration": 76267,
    "start_time": "2024-10-23T18:08:02.592Z"
   },
   {
    "duration": 2196,
    "start_time": "2024-10-23T18:09:18.861Z"
   },
   {
    "duration": 4,
    "start_time": "2024-10-23T18:37:28.968Z"
   },
   {
    "duration": 4,
    "start_time": "2024-10-23T18:49:48.357Z"
   },
   {
    "duration": 5,
    "start_time": "2024-10-23T18:50:13.688Z"
   },
   {
    "duration": 3,
    "start_time": "2024-10-23T18:50:41.411Z"
   },
   {
    "duration": 3,
    "start_time": "2024-10-23T18:50:56.855Z"
   },
   {
    "duration": 139,
    "start_time": "2024-10-23T18:54:15.424Z"
   },
   {
    "duration": 20,
    "start_time": "2024-10-23T18:54:23.066Z"
   },
   {
    "duration": 5,
    "start_time": "2024-10-23T18:56:10.085Z"
   },
   {
    "duration": 4,
    "start_time": "2024-10-23T18:57:00.135Z"
   },
   {
    "duration": 11,
    "start_time": "2024-10-23T19:00:56.562Z"
   },
   {
    "duration": 60,
    "start_time": "2024-10-23T19:01:43.899Z"
   },
   {
    "duration": 7,
    "start_time": "2024-10-23T19:03:02.514Z"
   },
   {
    "duration": 8,
    "start_time": "2024-10-23T19:10:10.696Z"
   },
   {
    "duration": 4,
    "start_time": "2024-10-23T19:13:22.201Z"
   },
   {
    "duration": 6,
    "start_time": "2024-10-23T19:15:06.164Z"
   },
   {
    "duration": 5,
    "start_time": "2024-10-23T19:15:09.313Z"
   },
   {
    "duration": 5,
    "start_time": "2024-10-23T19:15:14.328Z"
   },
   {
    "duration": 6,
    "start_time": "2024-10-23T19:19:56.926Z"
   },
   {
    "duration": 14493,
    "start_time": "2024-10-23T19:20:23.013Z"
   },
   {
    "duration": 84,
    "start_time": "2024-10-23T19:20:51.125Z"
   },
   {
    "duration": 6,
    "start_time": "2024-10-23T19:21:57.027Z"
   },
   {
    "duration": 84,
    "start_time": "2024-10-23T19:22:30.794Z"
   },
   {
    "duration": 7,
    "start_time": "2024-10-23T19:23:40.577Z"
   },
   {
    "duration": 92,
    "start_time": "2024-10-23T19:27:56.698Z"
   },
   {
    "duration": 560,
    "start_time": "2024-10-23T19:30:04.689Z"
   },
   {
    "duration": 630,
    "start_time": "2024-10-23T19:36:30.227Z"
   },
   {
    "duration": 801,
    "start_time": "2024-10-23T19:40:12.210Z"
   },
   {
    "duration": 88,
    "start_time": "2024-10-23T19:40:59.327Z"
   },
   {
    "duration": 501,
    "start_time": "2024-10-23T19:41:54.197Z"
   },
   {
    "duration": 57,
    "start_time": "2024-10-23T19:42:48.689Z"
   },
   {
    "duration": 570,
    "start_time": "2024-10-23T19:43:49.743Z"
   },
   {
    "duration": 7,
    "start_time": "2024-10-23T19:49:46.020Z"
   },
   {
    "duration": 130,
    "start_time": "2024-10-23T19:50:49.278Z"
   },
   {
    "duration": 586,
    "start_time": "2024-10-23T19:52:59.537Z"
   },
   {
    "duration": 513,
    "start_time": "2024-10-23T19:55:23.621Z"
   },
   {
    "duration": 555,
    "start_time": "2024-10-23T19:58:36.287Z"
   },
   {
    "duration": 603,
    "start_time": "2024-10-23T19:58:45.129Z"
   },
   {
    "duration": 548,
    "start_time": "2024-10-23T19:59:53.384Z"
   },
   {
    "duration": 205,
    "start_time": "2024-10-23T20:01:03.827Z"
   },
   {
    "duration": 8,
    "start_time": "2024-10-24T07:01:32.026Z"
   },
   {
    "duration": 79256,
    "start_time": "2024-10-24T07:01:32.036Z"
   },
   {
    "duration": 2413,
    "start_time": "2024-10-24T07:02:51.294Z"
   },
   {
    "duration": 4,
    "start_time": "2024-10-24T07:02:53.708Z"
   },
   {
    "duration": 7,
    "start_time": "2024-10-24T07:02:53.715Z"
   },
   {
    "duration": 8,
    "start_time": "2024-10-24T07:02:53.724Z"
   },
   {
    "duration": 12,
    "start_time": "2024-10-24T07:02:53.733Z"
   },
   {
    "duration": 4,
    "start_time": "2024-10-24T07:02:53.747Z"
   },
   {
    "duration": 146,
    "start_time": "2024-10-24T07:02:53.752Z"
   },
   {
    "duration": 38,
    "start_time": "2024-10-24T07:02:53.900Z"
   },
   {
    "duration": 54,
    "start_time": "2024-10-24T07:02:53.940Z"
   },
   {
    "duration": 9,
    "start_time": "2024-10-24T07:02:53.996Z"
   },
   {
    "duration": 16,
    "start_time": "2024-10-24T07:02:54.009Z"
   },
   {
    "duration": 11,
    "start_time": "2024-10-24T07:02:54.027Z"
   },
   {
    "duration": 29,
    "start_time": "2024-10-24T07:02:54.039Z"
   },
   {
    "duration": 5,
    "start_time": "2024-10-24T07:02:54.070Z"
   },
   {
    "duration": 6,
    "start_time": "2024-10-24T07:02:54.077Z"
   },
   {
    "duration": 9,
    "start_time": "2024-10-24T07:02:54.084Z"
   },
   {
    "duration": 7,
    "start_time": "2024-10-24T07:02:54.094Z"
   },
   {
    "duration": 209,
    "start_time": "2024-10-24T07:02:54.102Z"
   },
   {
    "duration": 8,
    "start_time": "2024-10-24T07:02:54.313Z"
   },
   {
    "duration": 177,
    "start_time": "2024-10-24T07:02:54.322Z"
   },
   {
    "duration": 6,
    "start_time": "2024-10-24T07:02:54.501Z"
   },
   {
    "duration": 188,
    "start_time": "2024-10-24T07:02:54.510Z"
   },
   {
    "duration": 786,
    "start_time": "2024-10-24T07:02:54.700Z"
   },
   {
    "duration": 605,
    "start_time": "2024-10-24T07:02:55.488Z"
   },
   {
    "duration": 552,
    "start_time": "2024-10-24T07:02:56.095Z"
   },
   {
    "duration": 574,
    "start_time": "2024-10-24T07:02:56.649Z"
   },
   {
    "duration": 538,
    "start_time": "2024-10-24T07:02:57.225Z"
   },
   {
    "duration": 6,
    "start_time": "2024-10-24T07:02:57.765Z"
   },
   {
    "duration": 150,
    "start_time": "2024-10-24T07:02:57.773Z"
   },
   {
    "duration": 635,
    "start_time": "2024-10-24T07:02:57.925Z"
   },
   {
    "duration": 598,
    "start_time": "2024-10-24T07:02:58.562Z"
   },
   {
    "duration": 600,
    "start_time": "2024-10-24T07:02:59.163Z"
   },
   {
    "duration": 153,
    "start_time": "2024-10-24T07:05:38.579Z"
   },
   {
    "duration": 8,
    "start_time": "2024-10-24T07:05:50.433Z"
   },
   {
    "duration": 3,
    "start_time": "2024-10-24T07:08:15.633Z"
   },
   {
    "duration": 7,
    "start_time": "2024-10-24T07:08:21.165Z"
   },
   {
    "duration": 8,
    "start_time": "2024-10-24T07:08:42.419Z"
   },
   {
    "duration": 5,
    "start_time": "2024-10-24T07:10:09.501Z"
   },
   {
    "duration": 150,
    "start_time": "2024-10-24T07:10:50.546Z"
   },
   {
    "duration": 6,
    "start_time": "2024-10-24T07:10:57.738Z"
   },
   {
    "duration": 5,
    "start_time": "2024-10-24T07:13:02.618Z"
   },
   {
    "duration": 83,
    "start_time": "2024-10-24T07:13:40.754Z"
   },
   {
    "duration": 643,
    "start_time": "2024-10-24T07:33:05.915Z"
   },
   {
    "duration": 8,
    "start_time": "2024-10-24T07:34:44.386Z"
   },
   {
    "duration": 8,
    "start_time": "2024-10-24T07:35:54.753Z"
   },
   {
    "duration": 76,
    "start_time": "2024-10-24T07:36:58.681Z"
   },
   {
    "duration": 4,
    "start_time": "2024-10-24T07:37:29.298Z"
   },
   {
    "duration": 9,
    "start_time": "2024-10-24T07:37:37.799Z"
   },
   {
    "duration": 555,
    "start_time": "2024-10-24T07:37:57.731Z"
   },
   {
    "duration": 128,
    "start_time": "2024-10-24T07:46:08.939Z"
   },
   {
    "duration": 7,
    "start_time": "2024-10-24T07:46:20.378Z"
   },
   {
    "duration": 4,
    "start_time": "2024-10-24T07:46:35.138Z"
   },
   {
    "duration": 7,
    "start_time": "2024-10-24T07:46:37.963Z"
   },
   {
    "duration": 862,
    "start_time": "2024-10-24T07:52:23.828Z"
   },
   {
    "duration": 6,
    "start_time": "2024-10-24T07:52:46.742Z"
   },
   {
    "duration": 5,
    "start_time": "2024-10-24T07:53:24.302Z"
   },
   {
    "duration": 5,
    "start_time": "2024-10-24T07:53:29.926Z"
   },
   {
    "duration": 8,
    "start_time": "2024-10-24T07:53:55.804Z"
   },
   {
    "duration": 65,
    "start_time": "2024-10-24T07:54:11.314Z"
   },
   {
    "duration": 5,
    "start_time": "2024-10-24T07:54:33.227Z"
   },
   {
    "duration": 6,
    "start_time": "2024-10-24T07:54:55.260Z"
   },
   {
    "duration": 68,
    "start_time": "2024-10-24T07:58:47.895Z"
   },
   {
    "duration": 72,
    "start_time": "2024-10-24T08:01:26.431Z"
   },
   {
    "duration": 531,
    "start_time": "2024-10-24T08:02:13.844Z"
   },
   {
    "duration": 114,
    "start_time": "2024-10-24T08:14:20.603Z"
   },
   {
    "duration": 8,
    "start_time": "2024-10-24T08:14:30.409Z"
   },
   {
    "duration": 45,
    "start_time": "2024-10-24T08:14:51.319Z"
   },
   {
    "duration": 7,
    "start_time": "2024-10-24T08:14:51.842Z"
   },
   {
    "duration": 4,
    "start_time": "2024-10-24T08:15:25.755Z"
   },
   {
    "duration": 7,
    "start_time": "2024-10-24T08:15:30.114Z"
   },
   {
    "duration": 9,
    "start_time": "2024-10-24T08:16:02.935Z"
   },
   {
    "duration": 4,
    "start_time": "2024-10-24T08:19:40.545Z"
   },
   {
    "duration": 5,
    "start_time": "2024-10-24T08:19:55.923Z"
   },
   {
    "duration": 64,
    "start_time": "2024-10-24T08:20:15.528Z"
   },
   {
    "duration": 615,
    "start_time": "2024-10-24T08:20:35.844Z"
   },
   {
    "duration": 57,
    "start_time": "2024-10-24T08:31:54.644Z"
   },
   {
    "duration": 25,
    "start_time": "2024-10-24T08:32:28.405Z"
   },
   {
    "duration": 14,
    "start_time": "2024-10-24T08:33:39.690Z"
   },
   {
    "duration": 10,
    "start_time": "2024-10-24T08:35:43.190Z"
   },
   {
    "duration": 13,
    "start_time": "2024-10-24T08:36:47.106Z"
   },
   {
    "duration": 4,
    "start_time": "2024-10-24T08:36:58.721Z"
   },
   {
    "duration": 5,
    "start_time": "2024-10-24T08:38:21.997Z"
   },
   {
    "duration": 4,
    "start_time": "2024-10-24T08:38:25.323Z"
   },
   {
    "duration": 15,
    "start_time": "2024-10-24T08:43:50.222Z"
   },
   {
    "duration": 9,
    "start_time": "2024-10-24T08:44:10.590Z"
   },
   {
    "duration": 54716,
    "start_time": "2024-10-24T08:44:10.602Z"
   },
   {
    "duration": 2359,
    "start_time": "2024-10-24T08:45:05.319Z"
   },
   {
    "duration": 3,
    "start_time": "2024-10-24T08:45:07.680Z"
   },
   {
    "duration": 29,
    "start_time": "2024-10-24T08:45:07.685Z"
   },
   {
    "duration": 13,
    "start_time": "2024-10-24T08:45:07.716Z"
   },
   {
    "duration": 19,
    "start_time": "2024-10-24T08:45:07.730Z"
   },
   {
    "duration": 17,
    "start_time": "2024-10-24T08:45:07.750Z"
   },
   {
    "duration": 41,
    "start_time": "2024-10-24T08:45:07.769Z"
   },
   {
    "duration": 79,
    "start_time": "2024-10-24T08:45:07.813Z"
   },
   {
    "duration": 48,
    "start_time": "2024-10-24T08:45:07.894Z"
   },
   {
    "duration": 54,
    "start_time": "2024-10-24T08:45:07.943Z"
   },
   {
    "duration": 61,
    "start_time": "2024-10-24T08:45:07.999Z"
   },
   {
    "duration": 40,
    "start_time": "2024-10-24T08:45:08.061Z"
   },
   {
    "duration": 30,
    "start_time": "2024-10-24T08:45:08.103Z"
   },
   {
    "duration": 25,
    "start_time": "2024-10-24T08:45:08.135Z"
   },
   {
    "duration": 22,
    "start_time": "2024-10-24T08:45:08.161Z"
   },
   {
    "duration": 28,
    "start_time": "2024-10-24T08:45:08.185Z"
   },
   {
    "duration": 52,
    "start_time": "2024-10-24T08:45:08.214Z"
   },
   {
    "duration": 152,
    "start_time": "2024-10-24T08:45:08.267Z"
   },
   {
    "duration": 76,
    "start_time": "2024-10-24T08:45:08.423Z"
   },
   {
    "duration": 109,
    "start_time": "2024-10-24T08:45:08.501Z"
   },
   {
    "duration": 8,
    "start_time": "2024-10-24T08:45:08.613Z"
   },
   {
    "duration": 196,
    "start_time": "2024-10-24T08:45:08.623Z"
   },
   {
    "duration": 668,
    "start_time": "2024-10-24T08:45:08.822Z"
   },
   {
    "duration": 702,
    "start_time": "2024-10-24T08:45:09.492Z"
   },
   {
    "duration": 561,
    "start_time": "2024-10-24T08:45:10.196Z"
   },
   {
    "duration": 583,
    "start_time": "2024-10-24T08:45:10.761Z"
   },
   {
    "duration": 605,
    "start_time": "2024-10-24T08:45:11.346Z"
   },
   {
    "duration": 5,
    "start_time": "2024-10-24T08:45:11.953Z"
   },
   {
    "duration": 162,
    "start_time": "2024-10-24T08:45:11.960Z"
   },
   {
    "duration": 611,
    "start_time": "2024-10-24T08:45:12.124Z"
   },
   {
    "duration": 547,
    "start_time": "2024-10-24T08:45:12.737Z"
   },
   {
    "duration": 574,
    "start_time": "2024-10-24T08:45:13.286Z"
   },
   {
    "duration": 34,
    "start_time": "2024-10-24T08:45:13.862Z"
   },
   {
    "duration": 10,
    "start_time": "2024-10-24T08:45:13.898Z"
   },
   {
    "duration": 13,
    "start_time": "2024-10-24T08:45:13.910Z"
   },
   {
    "duration": 20,
    "start_time": "2024-10-24T08:45:13.925Z"
   },
   {
    "duration": 12,
    "start_time": "2024-10-24T08:45:13.946Z"
   },
   {
    "duration": 4,
    "start_time": "2024-10-24T08:45:13.962Z"
   },
   {
    "duration": 27,
    "start_time": "2024-10-24T08:45:13.968Z"
   },
   {
    "duration": 111,
    "start_time": "2024-10-24T08:45:13.997Z"
   },
   {
    "duration": 655,
    "start_time": "2024-10-24T08:45:14.110Z"
   },
   {
    "duration": 9,
    "start_time": "2024-10-24T08:45:14.766Z"
   },
   {
    "duration": 30,
    "start_time": "2024-10-24T08:45:14.777Z"
   },
   {
    "duration": 38,
    "start_time": "2024-10-24T08:45:14.809Z"
   },
   {
    "duration": 12,
    "start_time": "2024-10-24T08:45:14.849Z"
   },
   {
    "duration": 709,
    "start_time": "2024-10-24T08:45:14.862Z"
   },
   {
    "duration": 33,
    "start_time": "2024-10-24T08:45:15.573Z"
   },
   {
    "duration": 8,
    "start_time": "2024-10-24T08:45:15.607Z"
   },
   {
    "duration": 39,
    "start_time": "2024-10-24T08:45:15.617Z"
   },
   {
    "duration": 33,
    "start_time": "2024-10-24T08:45:15.657Z"
   },
   {
    "duration": 63,
    "start_time": "2024-10-24T08:45:15.692Z"
   },
   {
    "duration": 37,
    "start_time": "2024-10-24T08:45:15.756Z"
   },
   {
    "duration": 85,
    "start_time": "2024-10-24T08:45:15.795Z"
   },
   {
    "duration": 28,
    "start_time": "2024-10-24T08:45:15.882Z"
   },
   {
    "duration": 24,
    "start_time": "2024-10-24T08:45:15.912Z"
   },
   {
    "duration": 8,
    "start_time": "2024-10-24T08:45:15.938Z"
   },
   {
    "duration": 73,
    "start_time": "2024-10-24T08:45:15.948Z"
   },
   {
    "duration": 733,
    "start_time": "2024-10-24T08:45:16.023Z"
   },
   {
    "duration": 44,
    "start_time": "2024-10-24T08:45:16.758Z"
   },
   {
    "duration": 7,
    "start_time": "2024-10-24T08:45:16.804Z"
   },
   {
    "duration": 17,
    "start_time": "2024-10-24T08:45:16.813Z"
   },
   {
    "duration": 13,
    "start_time": "2024-10-24T08:45:16.832Z"
   },
   {
    "duration": 22,
    "start_time": "2024-10-24T08:45:16.847Z"
   },
   {
    "duration": 47,
    "start_time": "2024-10-24T08:45:16.870Z"
   },
   {
    "duration": 8,
    "start_time": "2024-10-24T08:45:16.919Z"
   },
   {
    "duration": 529,
    "start_time": "2024-10-24T08:45:16.929Z"
   },
   {
    "duration": 16,
    "start_time": "2024-10-24T08:45:17.460Z"
   },
   {
    "duration": 33,
    "start_time": "2024-10-24T08:45:17.478Z"
   },
   {
    "duration": 1046,
    "start_time": "2024-10-24T08:45:17.512Z"
   },
   {
    "duration": 0,
    "start_time": "2024-10-24T08:45:18.560Z"
   },
   {
    "duration": 0,
    "start_time": "2024-10-24T08:45:18.561Z"
   },
   {
    "duration": 0,
    "start_time": "2024-10-24T08:45:18.563Z"
   },
   {
    "duration": 10,
    "start_time": "2024-10-24T09:00:01.826Z"
   },
   {
    "duration": 4,
    "start_time": "2024-10-24T09:00:03.992Z"
   },
   {
    "duration": 1036,
    "start_time": "2024-10-24T09:00:05.512Z"
   },
   {
    "duration": 0,
    "start_time": "2024-10-24T09:00:06.550Z"
   },
   {
    "duration": 3,
    "start_time": "2024-10-24T09:00:23.442Z"
   },
   {
    "duration": 3,
    "start_time": "2024-10-24T09:00:25.113Z"
   },
   {
    "duration": 4,
    "start_time": "2024-10-24T09:00:28.670Z"
   },
   {
    "duration": 18,
    "start_time": "2024-10-24T09:00:38.886Z"
   },
   {
    "duration": 22,
    "start_time": "2024-10-24T09:03:09.237Z"
   },
   {
    "duration": 13,
    "start_time": "2024-10-24T09:05:44.686Z"
   },
   {
    "duration": 10,
    "start_time": "2024-10-24T09:11:17.728Z"
   },
   {
    "duration": 2132,
    "start_time": "2024-10-24T09:12:33.778Z"
   },
   {
    "duration": 6,
    "start_time": "2024-10-24T09:38:21.131Z"
   },
   {
    "duration": 10,
    "start_time": "2024-10-24T09:38:29.710Z"
   },
   {
    "duration": 4,
    "start_time": "2024-10-24T09:39:26.520Z"
   },
   {
    "duration": 5,
    "start_time": "2024-10-24T09:39:52.588Z"
   },
   {
    "duration": 4,
    "start_time": "2024-10-24T09:40:02.398Z"
   },
   {
    "duration": 3,
    "start_time": "2024-10-24T09:47:33.093Z"
   },
   {
    "duration": 5,
    "start_time": "2024-10-24T09:53:58.474Z"
   },
   {
    "duration": 5,
    "start_time": "2024-10-24T09:54:38.521Z"
   },
   {
    "duration": 18,
    "start_time": "2024-10-24T09:55:22.775Z"
   },
   {
    "duration": 3,
    "start_time": "2024-10-24T09:55:46.545Z"
   },
   {
    "duration": 4,
    "start_time": "2024-10-24T09:55:47.609Z"
   },
   {
    "duration": 12,
    "start_time": "2024-10-24T09:55:50.746Z"
   },
   {
    "duration": 3,
    "start_time": "2024-10-24T09:56:18.797Z"
   },
   {
    "duration": 4,
    "start_time": "2024-10-24T10:04:10.861Z"
   },
   {
    "duration": 57,
    "start_time": "2024-10-24T10:06:46.938Z"
   },
   {
    "duration": 6,
    "start_time": "2024-10-24T10:07:05.062Z"
   },
   {
    "duration": 3,
    "start_time": "2024-10-24T10:07:39.773Z"
   },
   {
    "duration": 1214034,
    "start_time": "2024-10-24T10:08:21.333Z"
   },
   {
    "duration": 16,
    "start_time": "2024-10-24T10:35:41.255Z"
   },
   {
    "duration": 88,
    "start_time": "2024-10-24T10:35:47.470Z"
   },
   {
    "duration": 4,
    "start_time": "2024-10-24T10:36:45.246Z"
   },
   {
    "duration": 9,
    "start_time": "2024-10-24T10:39:54.064Z"
   },
   {
    "duration": 56750,
    "start_time": "2024-10-24T10:39:54.074Z"
   },
   {
    "duration": 2172,
    "start_time": "2024-10-24T10:40:50.826Z"
   },
   {
    "duration": 3,
    "start_time": "2024-10-24T10:40:53.000Z"
   },
   {
    "duration": 20,
    "start_time": "2024-10-24T10:40:53.005Z"
   },
   {
    "duration": 20,
    "start_time": "2024-10-24T10:40:53.027Z"
   },
   {
    "duration": 25,
    "start_time": "2024-10-24T10:40:53.049Z"
   },
   {
    "duration": 31,
    "start_time": "2024-10-24T10:40:53.076Z"
   },
   {
    "duration": 61,
    "start_time": "2024-10-24T10:40:53.109Z"
   },
   {
    "duration": 18,
    "start_time": "2024-10-24T10:40:53.172Z"
   },
   {
    "duration": 23,
    "start_time": "2024-10-24T10:40:53.191Z"
   },
   {
    "duration": 17,
    "start_time": "2024-10-24T10:40:53.215Z"
   },
   {
    "duration": 26,
    "start_time": "2024-10-24T10:40:53.233Z"
   },
   {
    "duration": 17,
    "start_time": "2024-10-24T10:40:53.261Z"
   },
   {
    "duration": 19,
    "start_time": "2024-10-24T10:40:53.280Z"
   },
   {
    "duration": 16,
    "start_time": "2024-10-24T10:40:53.301Z"
   },
   {
    "duration": 11,
    "start_time": "2024-10-24T10:40:53.319Z"
   },
   {
    "duration": 9,
    "start_time": "2024-10-24T10:40:53.331Z"
   },
   {
    "duration": 10,
    "start_time": "2024-10-24T10:40:53.341Z"
   },
   {
    "duration": 91,
    "start_time": "2024-10-24T10:40:53.353Z"
   },
   {
    "duration": 6,
    "start_time": "2024-10-24T10:40:53.497Z"
   },
   {
    "duration": 148,
    "start_time": "2024-10-24T10:40:53.505Z"
   },
   {
    "duration": 6,
    "start_time": "2024-10-24T10:40:53.697Z"
   },
   {
    "duration": 142,
    "start_time": "2024-10-24T10:40:53.705Z"
   },
   {
    "duration": 660,
    "start_time": "2024-10-24T10:40:53.897Z"
   },
   {
    "duration": 719,
    "start_time": "2024-10-24T10:40:54.559Z"
   },
   {
    "duration": 557,
    "start_time": "2024-10-24T10:40:55.279Z"
   },
   {
    "duration": 591,
    "start_time": "2024-10-24T10:40:55.842Z"
   },
   {
    "duration": 611,
    "start_time": "2024-10-24T10:40:56.435Z"
   },
   {
    "duration": 6,
    "start_time": "2024-10-24T10:40:57.047Z"
   },
   {
    "duration": 166,
    "start_time": "2024-10-24T10:40:57.054Z"
   },
   {
    "duration": 624,
    "start_time": "2024-10-24T10:40:57.222Z"
   },
   {
    "duration": 640,
    "start_time": "2024-10-24T10:40:57.848Z"
   },
   {
    "duration": 586,
    "start_time": "2024-10-24T10:40:58.490Z"
   },
   {
    "duration": 34,
    "start_time": "2024-10-24T10:40:59.079Z"
   },
   {
    "duration": 9,
    "start_time": "2024-10-24T10:40:59.115Z"
   },
   {
    "duration": 18,
    "start_time": "2024-10-24T10:40:59.126Z"
   },
   {
    "duration": 35,
    "start_time": "2024-10-24T10:40:59.146Z"
   },
   {
    "duration": 25,
    "start_time": "2024-10-24T10:40:59.183Z"
   },
   {
    "duration": 32,
    "start_time": "2024-10-24T10:40:59.210Z"
   },
   {
    "duration": 23,
    "start_time": "2024-10-24T10:40:59.244Z"
   },
   {
    "duration": 131,
    "start_time": "2024-10-24T10:40:59.268Z"
   },
   {
    "duration": 653,
    "start_time": "2024-10-24T10:40:59.402Z"
   },
   {
    "duration": 9,
    "start_time": "2024-10-24T10:41:00.056Z"
   },
   {
    "duration": 169,
    "start_time": "2024-10-24T10:41:00.067Z"
   },
   {
    "duration": 106,
    "start_time": "2024-10-24T10:41:00.238Z"
   },
   {
    "duration": 40,
    "start_time": "2024-10-24T10:41:00.346Z"
   },
   {
    "duration": 776,
    "start_time": "2024-10-24T10:41:00.388Z"
   },
   {
    "duration": 34,
    "start_time": "2024-10-24T10:41:01.166Z"
   },
   {
    "duration": 13,
    "start_time": "2024-10-24T10:41:01.202Z"
   },
   {
    "duration": 41,
    "start_time": "2024-10-24T10:41:01.217Z"
   },
   {
    "duration": 19,
    "start_time": "2024-10-24T10:41:01.260Z"
   },
   {
    "duration": 121,
    "start_time": "2024-10-24T10:41:01.280Z"
   },
   {
    "duration": 55,
    "start_time": "2024-10-24T10:41:01.403Z"
   },
   {
    "duration": 12,
    "start_time": "2024-10-24T10:41:01.460Z"
   },
   {
    "duration": 73,
    "start_time": "2024-10-24T10:41:01.474Z"
   },
   {
    "duration": 74,
    "start_time": "2024-10-24T10:41:01.548Z"
   },
   {
    "duration": 21,
    "start_time": "2024-10-24T10:41:01.624Z"
   },
   {
    "duration": 92,
    "start_time": "2024-10-24T10:41:01.647Z"
   },
   {
    "duration": 671,
    "start_time": "2024-10-24T10:41:01.799Z"
   },
   {
    "duration": 45,
    "start_time": "2024-10-24T10:41:02.473Z"
   },
   {
    "duration": 10,
    "start_time": "2024-10-24T10:41:02.519Z"
   },
   {
    "duration": 14,
    "start_time": "2024-10-24T10:41:02.531Z"
   },
   {
    "duration": 18,
    "start_time": "2024-10-24T10:41:02.547Z"
   },
   {
    "duration": 12,
    "start_time": "2024-10-24T10:41:02.567Z"
   },
   {
    "duration": 38,
    "start_time": "2024-10-24T10:41:02.581Z"
   },
   {
    "duration": 79,
    "start_time": "2024-10-24T10:41:02.621Z"
   },
   {
    "duration": 573,
    "start_time": "2024-10-24T10:41:02.702Z"
   },
   {
    "duration": 25,
    "start_time": "2024-10-24T10:41:03.277Z"
   },
   {
    "duration": 14,
    "start_time": "2024-10-24T10:41:03.303Z"
   },
   {
    "duration": 17,
    "start_time": "2024-10-24T10:41:03.319Z"
   },
   {
    "duration": 5,
    "start_time": "2024-10-24T10:41:03.337Z"
   },
   {
    "duration": 17,
    "start_time": "2024-10-24T10:41:03.344Z"
   },
   {
    "duration": 26,
    "start_time": "2024-10-24T10:41:03.363Z"
   },
   {
    "duration": 18,
    "start_time": "2024-10-24T10:41:03.391Z"
   },
   {
    "duration": 32,
    "start_time": "2024-10-24T10:41:03.410Z"
   },
   {
    "duration": 28,
    "start_time": "2024-10-24T10:41:03.444Z"
   },
   {
    "duration": 9,
    "start_time": "2024-10-24T10:41:03.474Z"
   },
   {
    "duration": 179,
    "start_time": "2024-10-24T10:41:03.485Z"
   },
   {
    "duration": 0,
    "start_time": "2024-10-24T10:41:03.666Z"
   },
   {
    "duration": 0,
    "start_time": "2024-10-24T10:41:03.668Z"
   },
   {
    "duration": 0,
    "start_time": "2024-10-24T10:41:03.670Z"
   },
   {
    "duration": 0,
    "start_time": "2024-10-24T10:41:03.672Z"
   },
   {
    "duration": 0,
    "start_time": "2024-10-24T10:41:03.673Z"
   },
   {
    "duration": 0,
    "start_time": "2024-10-24T10:41:03.675Z"
   },
   {
    "duration": 0,
    "start_time": "2024-10-24T10:41:03.676Z"
   },
   {
    "duration": 0,
    "start_time": "2024-10-24T10:41:03.678Z"
   },
   {
    "duration": 0,
    "start_time": "2024-10-24T10:41:03.698Z"
   },
   {
    "duration": 0,
    "start_time": "2024-10-24T10:41:03.699Z"
   },
   {
    "duration": 0,
    "start_time": "2024-10-24T10:41:03.700Z"
   },
   {
    "duration": 0,
    "start_time": "2024-10-24T10:41:03.701Z"
   },
   {
    "duration": 0,
    "start_time": "2024-10-24T10:41:03.702Z"
   },
   {
    "duration": 0,
    "start_time": "2024-10-24T10:41:03.703Z"
   },
   {
    "duration": 2052,
    "start_time": "2024-10-24T10:44:18.930Z"
   },
   {
    "duration": 5,
    "start_time": "2024-10-24T10:44:28.167Z"
   },
   {
    "duration": 8,
    "start_time": "2024-10-24T10:44:29.920Z"
   },
   {
    "duration": 4,
    "start_time": "2024-10-24T10:44:38.713Z"
   },
   {
    "duration": 5,
    "start_time": "2024-10-24T10:44:39.105Z"
   },
   {
    "duration": 4,
    "start_time": "2024-10-24T10:44:39.457Z"
   },
   {
    "duration": 4,
    "start_time": "2024-10-24T10:44:44.897Z"
   },
   {
    "duration": 4,
    "start_time": "2024-10-24T10:44:45.641Z"
   },
   {
    "duration": 4,
    "start_time": "2024-10-24T10:44:47.352Z"
   },
   {
    "duration": 3,
    "start_time": "2024-10-24T10:44:47.723Z"
   },
   {
    "duration": 3,
    "start_time": "2024-10-24T10:44:48.130Z"
   },
   {
    "duration": 5,
    "start_time": "2024-10-24T10:44:49.523Z"
   },
   {
    "duration": 5,
    "start_time": "2024-10-24T10:44:50.956Z"
   },
   {
    "duration": 1148455,
    "start_time": "2024-10-24T10:44:54.234Z"
   },
   {
    "duration": 4,
    "start_time": "2024-10-24T11:08:07.187Z"
   },
   {
    "duration": 16,
    "start_time": "2024-10-24T11:09:21.347Z"
   },
   {
    "duration": 4,
    "start_time": "2024-10-24T13:13:57.922Z"
   },
   {
    "duration": 18,
    "start_time": "2024-10-24T13:14:11.747Z"
   },
   {
    "duration": 4,
    "start_time": "2024-10-24T13:14:33.475Z"
   },
   {
    "duration": 1106,
    "start_time": "2024-10-24T13:17:01.033Z"
   },
   {
    "duration": 4,
    "start_time": "2024-10-24T13:30:35.334Z"
   },
   {
    "duration": 20,
    "start_time": "2024-10-24T13:30:35.733Z"
   },
   {
    "duration": 4,
    "start_time": "2024-10-24T13:30:36.135Z"
   },
   {
    "duration": 1114,
    "start_time": "2024-10-24T13:30:37.535Z"
   },
   {
    "duration": 36,
    "start_time": "2024-10-24T15:19:19.480Z"
   },
   {
    "duration": 221,
    "start_time": "2024-10-24T15:19:45.287Z"
   },
   {
    "duration": 45,
    "start_time": "2024-10-24T15:20:50.362Z"
   },
   {
    "duration": 162,
    "start_time": "2024-10-24T15:21:11.535Z"
   },
   {
    "duration": 156,
    "start_time": "2024-10-24T15:22:10.343Z"
   },
   {
    "duration": 190,
    "start_time": "2024-10-24T15:23:44.309Z"
   },
   {
    "duration": 89,
    "start_time": "2024-10-24T15:23:55.616Z"
   },
   {
    "duration": 77,
    "start_time": "2024-10-24T15:24:06.223Z"
   },
   {
    "duration": 119,
    "start_time": "2024-10-24T15:24:10.790Z"
   },
   {
    "duration": 8,
    "start_time": "2024-10-24T15:25:20.890Z"
   },
   {
    "duration": 55861,
    "start_time": "2024-10-24T15:25:20.900Z"
   },
   {
    "duration": 2316,
    "start_time": "2024-10-24T15:26:16.763Z"
   },
   {
    "duration": 3,
    "start_time": "2024-10-24T15:26:19.082Z"
   },
   {
    "duration": 10,
    "start_time": "2024-10-24T15:26:19.086Z"
   },
   {
    "duration": 6,
    "start_time": "2024-10-24T15:26:19.097Z"
   },
   {
    "duration": 16,
    "start_time": "2024-10-24T15:26:19.105Z"
   },
   {
    "duration": 12,
    "start_time": "2024-10-24T15:26:19.123Z"
   },
   {
    "duration": 47,
    "start_time": "2024-10-24T15:26:19.136Z"
   },
   {
    "duration": 18,
    "start_time": "2024-10-24T15:26:19.186Z"
   },
   {
    "duration": 6,
    "start_time": "2024-10-24T15:26:19.206Z"
   },
   {
    "duration": 18,
    "start_time": "2024-10-24T15:26:19.214Z"
   },
   {
    "duration": 33,
    "start_time": "2024-10-24T15:26:19.233Z"
   },
   {
    "duration": 11,
    "start_time": "2024-10-24T15:26:19.268Z"
   },
   {
    "duration": 70,
    "start_time": "2024-10-24T15:26:19.280Z"
   },
   {
    "duration": 22,
    "start_time": "2024-10-24T15:26:19.352Z"
   },
   {
    "duration": 7,
    "start_time": "2024-10-24T15:26:19.376Z"
   },
   {
    "duration": 7,
    "start_time": "2024-10-24T15:26:19.385Z"
   },
   {
    "duration": 8,
    "start_time": "2024-10-24T15:26:19.393Z"
   },
   {
    "duration": 113,
    "start_time": "2024-10-24T15:26:19.403Z"
   },
   {
    "duration": 6,
    "start_time": "2024-10-24T15:26:19.517Z"
   },
   {
    "duration": 182,
    "start_time": "2024-10-24T15:26:19.525Z"
   },
   {
    "duration": 7,
    "start_time": "2024-10-24T15:26:19.709Z"
   },
   {
    "duration": 198,
    "start_time": "2024-10-24T15:26:19.718Z"
   },
   {
    "duration": 681,
    "start_time": "2024-10-24T15:26:19.918Z"
   },
   {
    "duration": 719,
    "start_time": "2024-10-24T15:26:20.601Z"
   },
   {
    "duration": 548,
    "start_time": "2024-10-24T15:26:21.322Z"
   },
   {
    "duration": 569,
    "start_time": "2024-10-24T15:26:21.875Z"
   },
   {
    "duration": 618,
    "start_time": "2024-10-24T15:26:22.446Z"
   },
   {
    "duration": 6,
    "start_time": "2024-10-24T15:26:23.066Z"
   },
   {
    "duration": 225,
    "start_time": "2024-10-24T15:26:23.073Z"
   },
   {
    "duration": 581,
    "start_time": "2024-10-24T15:26:23.300Z"
   },
   {
    "duration": 624,
    "start_time": "2024-10-24T15:26:23.883Z"
   },
   {
    "duration": 569,
    "start_time": "2024-10-24T15:26:24.509Z"
   },
   {
    "duration": 34,
    "start_time": "2024-10-24T15:26:25.079Z"
   },
   {
    "duration": 7,
    "start_time": "2024-10-24T15:26:25.115Z"
   },
   {
    "duration": 10,
    "start_time": "2024-10-24T15:26:25.123Z"
   },
   {
    "duration": 8,
    "start_time": "2024-10-24T15:26:25.135Z"
   },
   {
    "duration": 10,
    "start_time": "2024-10-24T15:26:25.144Z"
   },
   {
    "duration": 7,
    "start_time": "2024-10-24T15:26:25.155Z"
   },
   {
    "duration": 8,
    "start_time": "2024-10-24T15:26:25.163Z"
   },
   {
    "duration": 126,
    "start_time": "2024-10-24T15:26:25.173Z"
   },
   {
    "duration": 648,
    "start_time": "2024-10-24T15:26:25.301Z"
   },
   {
    "duration": 8,
    "start_time": "2024-10-24T15:26:25.951Z"
   },
   {
    "duration": 10,
    "start_time": "2024-10-24T15:26:25.960Z"
   },
   {
    "duration": 7,
    "start_time": "2024-10-24T15:26:25.972Z"
   },
   {
    "duration": 25,
    "start_time": "2024-10-24T15:26:25.980Z"
   },
   {
    "duration": 747,
    "start_time": "2024-10-24T15:26:26.006Z"
   },
   {
    "duration": 33,
    "start_time": "2024-10-24T15:26:26.755Z"
   },
   {
    "duration": 6,
    "start_time": "2024-10-24T15:26:26.789Z"
   },
   {
    "duration": 107,
    "start_time": "2024-10-24T15:26:26.797Z"
   },
   {
    "duration": 20,
    "start_time": "2024-10-24T15:26:26.906Z"
   },
   {
    "duration": 9,
    "start_time": "2024-10-24T15:26:26.927Z"
   },
   {
    "duration": 4,
    "start_time": "2024-10-24T15:26:26.937Z"
   },
   {
    "duration": 6,
    "start_time": "2024-10-24T15:26:26.943Z"
   },
   {
    "duration": 8,
    "start_time": "2024-10-24T15:26:26.951Z"
   },
   {
    "duration": 6,
    "start_time": "2024-10-24T15:26:26.960Z"
   },
   {
    "duration": 6,
    "start_time": "2024-10-24T15:26:26.968Z"
   },
   {
    "duration": 131,
    "start_time": "2024-10-24T15:26:26.976Z"
   },
   {
    "duration": 666,
    "start_time": "2024-10-24T15:26:27.109Z"
   },
   {
    "duration": 45,
    "start_time": "2024-10-24T15:26:27.777Z"
   },
   {
    "duration": 19,
    "start_time": "2024-10-24T15:26:27.823Z"
   },
   {
    "duration": 29,
    "start_time": "2024-10-24T15:26:27.844Z"
   },
   {
    "duration": 8,
    "start_time": "2024-10-24T15:26:27.875Z"
   },
   {
    "duration": 9,
    "start_time": "2024-10-24T15:26:27.885Z"
   },
   {
    "duration": 15,
    "start_time": "2024-10-24T15:26:27.896Z"
   },
   {
    "duration": 9,
    "start_time": "2024-10-24T15:26:27.912Z"
   },
   {
    "duration": 669,
    "start_time": "2024-10-24T15:26:27.923Z"
   },
   {
    "duration": 17,
    "start_time": "2024-10-24T15:26:28.594Z"
   },
   {
    "duration": 20,
    "start_time": "2024-10-24T15:26:28.613Z"
   },
   {
    "duration": 8,
    "start_time": "2024-10-24T15:26:28.635Z"
   },
   {
    "duration": 7,
    "start_time": "2024-10-24T15:26:28.645Z"
   },
   {
    "duration": 21,
    "start_time": "2024-10-24T15:26:28.654Z"
   },
   {
    "duration": 6,
    "start_time": "2024-10-24T15:26:28.677Z"
   },
   {
    "duration": 4,
    "start_time": "2024-10-24T15:26:28.697Z"
   },
   {
    "duration": 19,
    "start_time": "2024-10-24T15:26:28.703Z"
   },
   {
    "duration": 9,
    "start_time": "2024-10-24T15:26:28.724Z"
   },
   {
    "duration": 20,
    "start_time": "2024-10-24T15:26:28.735Z"
   },
   {
    "duration": 2073,
    "start_time": "2024-10-24T15:26:28.757Z"
   },
   {
    "duration": 5,
    "start_time": "2024-10-24T15:26:30.831Z"
   },
   {
    "duration": 92,
    "start_time": "2024-10-24T15:26:30.837Z"
   },
   {
    "duration": 10,
    "start_time": "2024-10-24T15:26:30.935Z"
   },
   {
    "duration": 17,
    "start_time": "2024-10-24T15:26:30.946Z"
   },
   {
    "duration": 61,
    "start_time": "2024-10-24T15:26:30.965Z"
   },
   {
    "duration": 30,
    "start_time": "2024-10-24T15:26:31.027Z"
   },
   {
    "duration": 51,
    "start_time": "2024-10-24T15:26:31.058Z"
   },
   {
    "duration": 44,
    "start_time": "2024-10-24T15:26:31.111Z"
   },
   {
    "duration": 22,
    "start_time": "2024-10-24T15:26:31.157Z"
   },
   {
    "duration": 49,
    "start_time": "2024-10-24T15:26:31.181Z"
   },
   {
    "duration": 38,
    "start_time": "2024-10-24T15:26:31.232Z"
   },
   {
    "duration": 74,
    "start_time": "2024-10-24T15:26:31.272Z"
   },
   {
    "duration": 1110572,
    "start_time": "2024-10-24T15:26:31.348Z"
   },
   {
    "duration": 5,
    "start_time": "2024-10-24T15:45:01.922Z"
   },
   {
    "duration": 63,
    "start_time": "2024-10-24T15:45:01.928Z"
   },
   {
    "duration": 48,
    "start_time": "2024-10-24T15:45:01.993Z"
   },
   {
    "duration": 12,
    "start_time": "2024-10-24T15:45:02.043Z"
   },
   {
    "duration": 6,
    "start_time": "2024-10-24T15:45:02.057Z"
   },
   {
    "duration": 954,
    "start_time": "2024-10-24T15:45:02.064Z"
   },
   {
    "duration": 340,
    "start_time": "2024-10-24T15:45:03.020Z"
   },
   {
    "duration": 121,
    "start_time": "2024-10-24T15:52:13.978Z"
   },
   {
    "duration": 146,
    "start_time": "2024-10-24T15:52:27.853Z"
   },
   {
    "duration": 169,
    "start_time": "2024-10-24T17:27:50.630Z"
   },
   {
    "duration": 0,
    "start_time": "2024-10-24T17:27:50.801Z"
   },
   {
    "duration": 20,
    "start_time": "2024-10-24T17:28:45.421Z"
   },
   {
    "duration": 166,
    "start_time": "2024-10-24T17:28:52.333Z"
   },
   {
    "duration": 51,
    "start_time": "2024-10-24T17:29:14.819Z"
   },
   {
    "duration": 9,
    "start_time": "2024-10-24T17:29:23.107Z"
   },
   {
    "duration": 54757,
    "start_time": "2024-10-24T17:29:23.117Z"
   },
   {
    "duration": 2224,
    "start_time": "2024-10-24T17:30:17.875Z"
   },
   {
    "duration": 3,
    "start_time": "2024-10-24T17:30:20.101Z"
   },
   {
    "duration": 24,
    "start_time": "2024-10-24T17:30:20.106Z"
   },
   {
    "duration": 32,
    "start_time": "2024-10-24T17:30:20.131Z"
   },
   {
    "duration": 4,
    "start_time": "2024-10-24T17:30:20.165Z"
   },
   {
    "duration": 11,
    "start_time": "2024-10-24T17:30:20.171Z"
   },
   {
    "duration": 130,
    "start_time": "2024-10-24T17:30:20.184Z"
   },
   {
    "duration": 18,
    "start_time": "2024-10-24T17:30:20.317Z"
   },
   {
    "duration": 31,
    "start_time": "2024-10-24T17:30:20.337Z"
   },
   {
    "duration": 41,
    "start_time": "2024-10-24T17:30:20.370Z"
   },
   {
    "duration": 42,
    "start_time": "2024-10-24T17:30:20.413Z"
   },
   {
    "duration": 24,
    "start_time": "2024-10-24T17:30:20.457Z"
   },
   {
    "duration": 44,
    "start_time": "2024-10-24T17:30:20.483Z"
   },
   {
    "duration": 34,
    "start_time": "2024-10-24T17:30:20.528Z"
   },
   {
    "duration": 15,
    "start_time": "2024-10-24T17:30:20.564Z"
   },
   {
    "duration": 44,
    "start_time": "2024-10-24T17:30:20.580Z"
   },
   {
    "duration": 14,
    "start_time": "2024-10-24T17:30:20.626Z"
   },
   {
    "duration": 99,
    "start_time": "2024-10-24T17:30:20.642Z"
   },
   {
    "duration": 61,
    "start_time": "2024-10-24T17:30:20.743Z"
   },
   {
    "duration": 195,
    "start_time": "2024-10-24T17:30:20.806Z"
   },
   {
    "duration": 8,
    "start_time": "2024-10-24T17:30:21.003Z"
   },
   {
    "duration": 193,
    "start_time": "2024-10-24T17:30:21.013Z"
   },
   {
    "duration": 666,
    "start_time": "2024-10-24T17:30:21.208Z"
   },
   {
    "duration": 699,
    "start_time": "2024-10-24T17:30:21.876Z"
   },
   {
    "duration": 558,
    "start_time": "2024-10-24T17:30:22.577Z"
   },
   {
    "duration": 515,
    "start_time": "2024-10-24T17:30:23.139Z"
   },
   {
    "duration": 607,
    "start_time": "2024-10-24T17:30:23.656Z"
   },
   {
    "duration": 6,
    "start_time": "2024-10-24T17:30:24.265Z"
   },
   {
    "duration": 151,
    "start_time": "2024-10-24T17:30:24.272Z"
   },
   {
    "duration": 614,
    "start_time": "2024-10-24T17:30:24.425Z"
   },
   {
    "duration": 600,
    "start_time": "2024-10-24T17:30:25.041Z"
   },
   {
    "duration": 629,
    "start_time": "2024-10-24T17:30:25.643Z"
   },
   {
    "duration": 33,
    "start_time": "2024-10-24T17:30:26.274Z"
   },
   {
    "duration": 7,
    "start_time": "2024-10-24T17:30:26.308Z"
   },
   {
    "duration": 3,
    "start_time": "2024-10-24T17:30:26.317Z"
   },
   {
    "duration": 39,
    "start_time": "2024-10-24T17:30:26.322Z"
   },
   {
    "duration": 11,
    "start_time": "2024-10-24T17:30:26.362Z"
   },
   {
    "duration": 9,
    "start_time": "2024-10-24T17:30:26.374Z"
   },
   {
    "duration": 13,
    "start_time": "2024-10-24T17:30:26.385Z"
   },
   {
    "duration": 122,
    "start_time": "2024-10-24T17:30:26.399Z"
   },
   {
    "duration": 620,
    "start_time": "2024-10-24T17:30:26.524Z"
   },
   {
    "duration": 7,
    "start_time": "2024-10-24T17:30:27.146Z"
   },
   {
    "duration": 13,
    "start_time": "2024-10-24T17:30:27.155Z"
   },
   {
    "duration": 12,
    "start_time": "2024-10-24T17:30:27.169Z"
   },
   {
    "duration": 15,
    "start_time": "2024-10-24T17:30:27.183Z"
   },
   {
    "duration": 745,
    "start_time": "2024-10-24T17:30:27.200Z"
   },
   {
    "duration": 34,
    "start_time": "2024-10-24T17:30:27.946Z"
   },
   {
    "duration": 8,
    "start_time": "2024-10-24T17:30:27.981Z"
   },
   {
    "duration": 20,
    "start_time": "2024-10-24T17:30:27.990Z"
   },
   {
    "duration": 40,
    "start_time": "2024-10-24T17:30:28.012Z"
   },
   {
    "duration": 29,
    "start_time": "2024-10-24T17:30:28.053Z"
   },
   {
    "duration": 28,
    "start_time": "2024-10-24T17:30:28.083Z"
   },
   {
    "duration": 6,
    "start_time": "2024-10-24T17:30:28.113Z"
   },
   {
    "duration": 8,
    "start_time": "2024-10-24T17:30:28.121Z"
   },
   {
    "duration": 6,
    "start_time": "2024-10-24T17:30:28.130Z"
   },
   {
    "duration": 6,
    "start_time": "2024-10-24T17:30:28.137Z"
   },
   {
    "duration": 84,
    "start_time": "2024-10-24T17:30:28.145Z"
   },
   {
    "duration": 734,
    "start_time": "2024-10-24T17:30:28.230Z"
   },
   {
    "duration": 45,
    "start_time": "2024-10-24T17:30:28.965Z"
   },
   {
    "duration": 7,
    "start_time": "2024-10-24T17:30:29.012Z"
   },
   {
    "duration": 39,
    "start_time": "2024-10-24T17:30:29.020Z"
   },
   {
    "duration": 25,
    "start_time": "2024-10-24T17:30:29.061Z"
   },
   {
    "duration": 25,
    "start_time": "2024-10-24T17:30:29.088Z"
   },
   {
    "duration": 17,
    "start_time": "2024-10-24T17:30:29.115Z"
   },
   {
    "duration": 13,
    "start_time": "2024-10-24T17:30:29.134Z"
   },
   {
    "duration": 591,
    "start_time": "2024-10-24T17:30:29.150Z"
   },
   {
    "duration": 17,
    "start_time": "2024-10-24T17:30:29.742Z"
   },
   {
    "duration": 127,
    "start_time": "2024-10-24T17:30:29.761Z"
   },
   {
    "duration": 20,
    "start_time": "2024-10-24T17:30:29.889Z"
   },
   {
    "duration": 11,
    "start_time": "2024-10-24T17:30:29.910Z"
   },
   {
    "duration": 28,
    "start_time": "2024-10-24T17:30:29.923Z"
   },
   {
    "duration": 17,
    "start_time": "2024-10-24T17:30:29.953Z"
   },
   {
    "duration": 13,
    "start_time": "2024-10-24T17:30:29.972Z"
   },
   {
    "duration": 20,
    "start_time": "2024-10-24T17:30:29.987Z"
   },
   {
    "duration": 59,
    "start_time": "2024-10-24T17:30:30.009Z"
   },
   {
    "duration": 28,
    "start_time": "2024-10-24T17:30:30.069Z"
   },
   {
    "duration": 2164,
    "start_time": "2024-10-24T17:30:30.099Z"
   },
   {
    "duration": 6,
    "start_time": "2024-10-24T17:30:32.265Z"
   },
   {
    "duration": 9,
    "start_time": "2024-10-24T17:30:32.273Z"
   },
   {
    "duration": 18,
    "start_time": "2024-10-24T17:30:32.290Z"
   },
   {
    "duration": 27,
    "start_time": "2024-10-24T17:30:32.310Z"
   },
   {
    "duration": 39,
    "start_time": "2024-10-24T17:30:32.340Z"
   },
   {
    "duration": 47,
    "start_time": "2024-10-24T17:30:32.382Z"
   },
   {
    "duration": 6,
    "start_time": "2024-10-24T17:30:32.431Z"
   },
   {
    "duration": 8,
    "start_time": "2024-10-24T17:30:32.439Z"
   },
   {
    "duration": 20,
    "start_time": "2024-10-24T17:30:32.449Z"
   },
   {
    "duration": 15,
    "start_time": "2024-10-24T17:30:32.471Z"
   },
   {
    "duration": 25,
    "start_time": "2024-10-24T17:30:32.488Z"
   },
   {
    "duration": 20,
    "start_time": "2024-10-24T17:30:32.515Z"
   },
   {
    "duration": 1110006,
    "start_time": "2024-10-24T17:30:32.537Z"
   },
   {
    "duration": 4,
    "start_time": "2024-10-24T17:49:02.545Z"
   },
   {
    "duration": 39,
    "start_time": "2024-10-24T17:49:02.550Z"
   },
   {
    "duration": 80,
    "start_time": "2024-10-24T17:49:02.590Z"
   },
   {
    "duration": 14,
    "start_time": "2024-10-24T17:49:02.672Z"
   },
   {
    "duration": 29,
    "start_time": "2024-10-24T17:49:02.688Z"
   },
   {
    "duration": 958,
    "start_time": "2024-10-24T17:49:02.719Z"
   },
   {
    "duration": 126,
    "start_time": "2024-10-24T17:49:03.678Z"
   },
   {
    "duration": 8,
    "start_time": "2024-10-24T17:53:18.978Z"
   },
   {
    "duration": 55363,
    "start_time": "2024-10-24T17:53:18.987Z"
   },
   {
    "duration": 2134,
    "start_time": "2024-10-24T17:54:14.352Z"
   },
   {
    "duration": 3,
    "start_time": "2024-10-24T17:54:16.489Z"
   },
   {
    "duration": 13,
    "start_time": "2024-10-24T17:54:16.493Z"
   },
   {
    "duration": 12,
    "start_time": "2024-10-24T17:54:16.508Z"
   },
   {
    "duration": 4,
    "start_time": "2024-10-24T17:54:16.521Z"
   },
   {
    "duration": 4,
    "start_time": "2024-10-24T17:54:16.526Z"
   },
   {
    "duration": 39,
    "start_time": "2024-10-24T17:54:16.531Z"
   },
   {
    "duration": 17,
    "start_time": "2024-10-24T17:54:16.572Z"
   },
   {
    "duration": 5,
    "start_time": "2024-10-24T17:54:16.591Z"
   },
   {
    "duration": 17,
    "start_time": "2024-10-24T17:54:16.597Z"
   },
   {
    "duration": 27,
    "start_time": "2024-10-24T17:54:16.617Z"
   },
   {
    "duration": 7,
    "start_time": "2024-10-24T17:54:16.645Z"
   },
   {
    "duration": 6,
    "start_time": "2024-10-24T17:54:16.654Z"
   },
   {
    "duration": 7,
    "start_time": "2024-10-24T17:54:16.662Z"
   },
   {
    "duration": 5,
    "start_time": "2024-10-24T17:54:16.672Z"
   },
   {
    "duration": 6,
    "start_time": "2024-10-24T17:54:16.680Z"
   },
   {
    "duration": 6,
    "start_time": "2024-10-24T17:54:16.697Z"
   },
   {
    "duration": 113,
    "start_time": "2024-10-24T17:54:16.705Z"
   },
   {
    "duration": 7,
    "start_time": "2024-10-24T17:54:16.819Z"
   },
   {
    "duration": 110,
    "start_time": "2024-10-24T17:54:16.898Z"
   },
   {
    "duration": 6,
    "start_time": "2024-10-24T17:54:17.010Z"
   },
   {
    "duration": 194,
    "start_time": "2024-10-24T17:54:17.018Z"
   },
   {
    "duration": 666,
    "start_time": "2024-10-24T17:54:17.214Z"
   },
   {
    "duration": 711,
    "start_time": "2024-10-24T17:54:17.882Z"
   },
   {
    "duration": 541,
    "start_time": "2024-10-24T17:54:18.595Z"
   },
   {
    "duration": 601,
    "start_time": "2024-10-24T17:54:19.138Z"
   },
   {
    "duration": 601,
    "start_time": "2024-10-24T17:54:19.741Z"
   },
   {
    "duration": 7,
    "start_time": "2024-10-24T17:54:20.344Z"
   },
   {
    "duration": 250,
    "start_time": "2024-10-24T17:54:20.352Z"
   },
   {
    "duration": 537,
    "start_time": "2024-10-24T17:54:20.604Z"
   },
   {
    "duration": 619,
    "start_time": "2024-10-24T17:54:21.143Z"
   },
   {
    "duration": 606,
    "start_time": "2024-10-24T17:54:21.763Z"
   },
   {
    "duration": 37,
    "start_time": "2024-10-24T17:54:22.370Z"
   },
   {
    "duration": 8,
    "start_time": "2024-10-24T17:54:22.409Z"
   },
   {
    "duration": 8,
    "start_time": "2024-10-24T17:54:22.418Z"
   },
   {
    "duration": 16,
    "start_time": "2024-10-24T17:54:22.428Z"
   },
   {
    "duration": 11,
    "start_time": "2024-10-24T17:54:22.446Z"
   },
   {
    "duration": 5,
    "start_time": "2024-10-24T17:54:22.462Z"
   },
   {
    "duration": 12,
    "start_time": "2024-10-24T17:54:22.468Z"
   },
   {
    "duration": 117,
    "start_time": "2024-10-24T17:54:22.481Z"
   },
   {
    "duration": 642,
    "start_time": "2024-10-24T17:54:22.600Z"
   },
   {
    "duration": 8,
    "start_time": "2024-10-24T17:54:23.243Z"
   },
   {
    "duration": 68,
    "start_time": "2024-10-24T17:54:23.253Z"
   },
   {
    "duration": 12,
    "start_time": "2024-10-24T17:54:23.322Z"
   },
   {
    "duration": 9,
    "start_time": "2024-10-24T17:54:23.336Z"
   },
   {
    "duration": 735,
    "start_time": "2024-10-24T17:54:23.347Z"
   },
   {
    "duration": 34,
    "start_time": "2024-10-24T17:54:24.084Z"
   },
   {
    "duration": 9,
    "start_time": "2024-10-24T17:54:24.119Z"
   },
   {
    "duration": 5,
    "start_time": "2024-10-24T17:54:24.130Z"
   },
   {
    "duration": 15,
    "start_time": "2024-10-24T17:54:24.137Z"
   },
   {
    "duration": 25,
    "start_time": "2024-10-24T17:54:24.154Z"
   },
   {
    "duration": 12,
    "start_time": "2024-10-24T17:54:24.181Z"
   },
   {
    "duration": 14,
    "start_time": "2024-10-24T17:54:24.195Z"
   },
   {
    "duration": 19,
    "start_time": "2024-10-24T17:54:24.210Z"
   },
   {
    "duration": 9,
    "start_time": "2024-10-24T17:54:24.231Z"
   },
   {
    "duration": 12,
    "start_time": "2024-10-24T17:54:24.242Z"
   },
   {
    "duration": 142,
    "start_time": "2024-10-24T17:54:24.256Z"
   },
   {
    "duration": 680,
    "start_time": "2024-10-24T17:54:24.401Z"
   },
   {
    "duration": 31,
    "start_time": "2024-10-24T17:54:25.082Z"
   },
   {
    "duration": 9,
    "start_time": "2024-10-24T17:54:25.116Z"
   },
   {
    "duration": 14,
    "start_time": "2024-10-24T17:54:25.127Z"
   },
   {
    "duration": 15,
    "start_time": "2024-10-24T17:54:25.142Z"
   },
   {
    "duration": 8,
    "start_time": "2024-10-24T17:54:25.158Z"
   },
   {
    "duration": 18,
    "start_time": "2024-10-24T17:54:25.168Z"
   },
   {
    "duration": 13,
    "start_time": "2024-10-24T17:54:25.188Z"
   },
   {
    "duration": 15,
    "start_time": "2024-10-24T17:54:25.203Z"
   },
   {
    "duration": 550,
    "start_time": "2024-10-24T17:54:25.219Z"
   },
   {
    "duration": 17,
    "start_time": "2024-10-24T17:54:25.770Z"
   },
   {
    "duration": 23,
    "start_time": "2024-10-24T17:54:25.788Z"
   },
   {
    "duration": 68,
    "start_time": "2024-10-24T17:54:25.812Z"
   },
   {
    "duration": 5,
    "start_time": "2024-10-24T17:54:25.882Z"
   },
   {
    "duration": 6,
    "start_time": "2024-10-24T17:54:25.889Z"
   },
   {
    "duration": 9,
    "start_time": "2024-10-24T17:54:25.897Z"
   },
   {
    "duration": 5,
    "start_time": "2024-10-24T17:54:25.908Z"
   },
   {
    "duration": 32,
    "start_time": "2024-10-24T17:54:25.915Z"
   },
   {
    "duration": 83,
    "start_time": "2024-10-24T17:54:25.949Z"
   },
   {
    "duration": 15,
    "start_time": "2024-10-24T17:54:26.035Z"
   },
   {
    "duration": 2121,
    "start_time": "2024-10-24T17:54:26.051Z"
   },
   {
    "duration": 5,
    "start_time": "2024-10-24T17:54:28.173Z"
   },
   {
    "duration": 44,
    "start_time": "2024-10-24T17:54:28.179Z"
   },
   {
    "duration": 7,
    "start_time": "2024-10-24T17:54:28.225Z"
   },
   {
    "duration": 7,
    "start_time": "2024-10-24T17:54:28.234Z"
   },
   {
    "duration": 16,
    "start_time": "2024-10-24T17:54:28.242Z"
   },
   {
    "duration": 4,
    "start_time": "2024-10-24T17:54:28.259Z"
   },
   {
    "duration": 9,
    "start_time": "2024-10-24T17:54:28.264Z"
   },
   {
    "duration": 5,
    "start_time": "2024-10-24T17:54:28.274Z"
   },
   {
    "duration": 42,
    "start_time": "2024-10-24T17:54:28.281Z"
   },
   {
    "duration": 49,
    "start_time": "2024-10-24T17:54:28.325Z"
   },
   {
    "duration": 8,
    "start_time": "2024-10-24T17:54:28.375Z"
   },
   {
    "duration": 11,
    "start_time": "2024-10-24T17:54:28.386Z"
   },
   {
    "duration": 1118711,
    "start_time": "2024-10-24T17:54:28.399Z"
   },
   {
    "duration": 6,
    "start_time": "2024-10-24T18:13:07.113Z"
   },
   {
    "duration": 39,
    "start_time": "2024-10-24T18:13:07.121Z"
   },
   {
    "duration": 12,
    "start_time": "2024-10-24T18:13:07.163Z"
   },
   {
    "duration": 69,
    "start_time": "2024-10-24T18:13:07.177Z"
   },
   {
    "duration": 8,
    "start_time": "2024-10-24T18:13:07.248Z"
   },
   {
    "duration": 1189,
    "start_time": "2024-10-24T18:13:07.258Z"
   },
   {
    "duration": 153,
    "start_time": "2024-10-24T18:13:08.449Z"
   },
   {
    "duration": 373,
    "start_time": "2024-10-24T19:01:47.899Z"
   },
   {
    "duration": 18,
    "start_time": "2024-10-24T19:02:28.293Z"
   },
   {
    "duration": 3,
    "start_time": "2024-10-24T19:02:55.352Z"
   },
   {
    "duration": 18,
    "start_time": "2024-10-24T19:04:01.734Z"
   },
   {
    "duration": 6,
    "start_time": "2024-10-24T19:04:19.911Z"
   },
   {
    "duration": 6,
    "start_time": "2024-10-24T19:04:36.830Z"
   },
   {
    "duration": 5,
    "start_time": "2024-10-24T19:05:12.487Z"
   },
   {
    "duration": 4,
    "start_time": "2024-10-24T19:22:31.969Z"
   },
   {
    "duration": 5,
    "start_time": "2024-10-24T19:23:11.976Z"
   },
   {
    "duration": 3,
    "start_time": "2024-10-24T19:23:17.310Z"
   },
   {
    "duration": 15,
    "start_time": "2024-10-24T19:23:21.841Z"
   },
   {
    "duration": 3,
    "start_time": "2024-10-24T19:23:29.718Z"
   },
   {
    "duration": 5,
    "start_time": "2024-10-24T19:25:21.289Z"
   },
   {
    "duration": 4,
    "start_time": "2024-10-24T19:25:21.771Z"
   },
   {
    "duration": 4,
    "start_time": "2024-10-24T19:25:23.659Z"
   },
   {
    "duration": 4,
    "start_time": "2024-10-24T19:25:41.596Z"
   },
   {
    "duration": 5,
    "start_time": "2024-10-24T19:25:42.976Z"
   },
   {
    "duration": 3,
    "start_time": "2024-10-24T19:25:43.606Z"
   },
   {
    "duration": 4,
    "start_time": "2024-10-24T19:25:44.196Z"
   },
   {
    "duration": 5,
    "start_time": "2024-10-24T19:25:57.819Z"
   },
   {
    "duration": 11,
    "start_time": "2024-10-24T19:25:58.251Z"
   },
   {
    "duration": 4,
    "start_time": "2024-10-24T19:26:07.607Z"
   },
   {
    "duration": 4,
    "start_time": "2024-10-24T19:26:08.158Z"
   },
   {
    "duration": 5,
    "start_time": "2024-10-24T19:27:18.020Z"
   },
   {
    "duration": 5,
    "start_time": "2024-10-24T19:27:26.750Z"
   },
   {
    "duration": 62,
    "start_time": "2024-10-24T19:36:32.172Z"
   },
   {
    "duration": 331,
    "start_time": "2024-10-24T19:36:43.725Z"
   },
   {
    "duration": 363,
    "start_time": "2024-10-24T19:36:49.891Z"
   },
   {
    "duration": 50,
    "start_time": "2024-10-25T15:10:47.384Z"
   },
   {
    "duration": 1487,
    "start_time": "2024-10-25T15:11:12.419Z"
   },
   {
    "duration": 12,
    "start_time": "2024-10-25T15:11:30.121Z"
   },
   {
    "duration": 83176,
    "start_time": "2024-10-25T15:11:30.135Z"
   },
   {
    "duration": 2164,
    "start_time": "2024-10-25T15:12:53.312Z"
   },
   {
    "duration": 3,
    "start_time": "2024-10-25T15:12:55.478Z"
   },
   {
    "duration": 20,
    "start_time": "2024-10-25T15:12:55.483Z"
   },
   {
    "duration": 6,
    "start_time": "2024-10-25T15:12:55.505Z"
   },
   {
    "duration": 5,
    "start_time": "2024-10-25T15:12:55.513Z"
   },
   {
    "duration": 5,
    "start_time": "2024-10-25T15:12:55.520Z"
   },
   {
    "duration": 82,
    "start_time": "2024-10-25T15:12:55.526Z"
   },
   {
    "duration": 17,
    "start_time": "2024-10-25T15:12:55.611Z"
   },
   {
    "duration": 9,
    "start_time": "2024-10-25T15:12:55.630Z"
   },
   {
    "duration": 6,
    "start_time": "2024-10-25T15:12:55.640Z"
   },
   {
    "duration": 17,
    "start_time": "2024-10-25T15:12:55.648Z"
   },
   {
    "duration": 18,
    "start_time": "2024-10-25T15:12:55.667Z"
   },
   {
    "duration": 17,
    "start_time": "2024-10-25T15:12:55.686Z"
   },
   {
    "duration": 5,
    "start_time": "2024-10-25T15:12:55.705Z"
   },
   {
    "duration": 8,
    "start_time": "2024-10-25T15:12:55.717Z"
   },
   {
    "duration": 7,
    "start_time": "2024-10-25T15:12:55.726Z"
   },
   {
    "duration": 10,
    "start_time": "2024-10-25T15:12:55.734Z"
   },
   {
    "duration": 95,
    "start_time": "2024-10-25T15:12:55.745Z"
   },
   {
    "duration": 6,
    "start_time": "2024-10-25T15:12:55.841Z"
   },
   {
    "duration": 119,
    "start_time": "2024-10-25T15:12:55.918Z"
   },
   {
    "duration": 6,
    "start_time": "2024-10-25T15:12:56.038Z"
   },
   {
    "duration": 212,
    "start_time": "2024-10-25T15:12:56.046Z"
   },
   {
    "duration": 748,
    "start_time": "2024-10-25T15:12:56.260Z"
   },
   {
    "duration": 668,
    "start_time": "2024-10-25T15:12:57.017Z"
   },
   {
    "duration": 168,
    "start_time": "2024-10-25T15:12:57.687Z"
   },
   {
    "duration": 0,
    "start_time": "2024-10-25T15:12:57.859Z"
   },
   {
    "duration": 0,
    "start_time": "2024-10-25T15:12:57.860Z"
   },
   {
    "duration": 0,
    "start_time": "2024-10-25T15:12:57.861Z"
   },
   {
    "duration": 0,
    "start_time": "2024-10-25T15:12:57.863Z"
   },
   {
    "duration": 0,
    "start_time": "2024-10-25T15:12:57.864Z"
   },
   {
    "duration": 0,
    "start_time": "2024-10-25T15:12:57.865Z"
   },
   {
    "duration": 0,
    "start_time": "2024-10-25T15:12:57.866Z"
   },
   {
    "duration": 0,
    "start_time": "2024-10-25T15:12:57.868Z"
   },
   {
    "duration": 0,
    "start_time": "2024-10-25T15:12:57.868Z"
   },
   {
    "duration": 0,
    "start_time": "2024-10-25T15:12:57.869Z"
   },
   {
    "duration": 0,
    "start_time": "2024-10-25T15:12:57.870Z"
   },
   {
    "duration": 0,
    "start_time": "2024-10-25T15:12:57.871Z"
   },
   {
    "duration": 0,
    "start_time": "2024-10-25T15:12:57.872Z"
   },
   {
    "duration": 0,
    "start_time": "2024-10-25T15:12:57.874Z"
   },
   {
    "duration": 0,
    "start_time": "2024-10-25T15:12:57.875Z"
   },
   {
    "duration": 0,
    "start_time": "2024-10-25T15:12:57.876Z"
   },
   {
    "duration": 0,
    "start_time": "2024-10-25T15:12:57.877Z"
   },
   {
    "duration": 0,
    "start_time": "2024-10-25T15:12:57.878Z"
   },
   {
    "duration": 0,
    "start_time": "2024-10-25T15:12:57.879Z"
   },
   {
    "duration": 0,
    "start_time": "2024-10-25T15:12:57.918Z"
   },
   {
    "duration": 0,
    "start_time": "2024-10-25T15:12:57.919Z"
   },
   {
    "duration": 0,
    "start_time": "2024-10-25T15:12:57.920Z"
   },
   {
    "duration": 0,
    "start_time": "2024-10-25T15:12:57.922Z"
   },
   {
    "duration": 0,
    "start_time": "2024-10-25T15:12:57.923Z"
   },
   {
    "duration": 0,
    "start_time": "2024-10-25T15:12:57.924Z"
   },
   {
    "duration": 0,
    "start_time": "2024-10-25T15:12:57.925Z"
   },
   {
    "duration": 0,
    "start_time": "2024-10-25T15:12:57.926Z"
   },
   {
    "duration": 0,
    "start_time": "2024-10-25T15:12:57.927Z"
   },
   {
    "duration": 0,
    "start_time": "2024-10-25T15:12:57.928Z"
   },
   {
    "duration": 0,
    "start_time": "2024-10-25T15:12:57.929Z"
   },
   {
    "duration": 0,
    "start_time": "2024-10-25T15:12:57.930Z"
   },
   {
    "duration": 0,
    "start_time": "2024-10-25T15:12:57.931Z"
   },
   {
    "duration": 0,
    "start_time": "2024-10-25T15:12:57.932Z"
   },
   {
    "duration": 0,
    "start_time": "2024-10-25T15:12:57.933Z"
   },
   {
    "duration": 1,
    "start_time": "2024-10-25T15:12:57.934Z"
   },
   {
    "duration": 0,
    "start_time": "2024-10-25T15:12:57.935Z"
   },
   {
    "duration": 0,
    "start_time": "2024-10-25T15:12:57.937Z"
   },
   {
    "duration": 0,
    "start_time": "2024-10-25T15:12:57.937Z"
   },
   {
    "duration": 0,
    "start_time": "2024-10-25T15:12:57.939Z"
   },
   {
    "duration": 0,
    "start_time": "2024-10-25T15:12:57.940Z"
   },
   {
    "duration": 0,
    "start_time": "2024-10-25T15:12:57.941Z"
   },
   {
    "duration": 0,
    "start_time": "2024-10-25T15:12:57.942Z"
   },
   {
    "duration": 0,
    "start_time": "2024-10-25T15:12:57.943Z"
   },
   {
    "duration": 0,
    "start_time": "2024-10-25T15:12:57.944Z"
   },
   {
    "duration": 0,
    "start_time": "2024-10-25T15:12:57.946Z"
   },
   {
    "duration": 0,
    "start_time": "2024-10-25T15:12:57.947Z"
   },
   {
    "duration": 0,
    "start_time": "2024-10-25T15:12:57.948Z"
   },
   {
    "duration": 0,
    "start_time": "2024-10-25T15:12:57.949Z"
   },
   {
    "duration": 0,
    "start_time": "2024-10-25T15:12:57.950Z"
   },
   {
    "duration": 0,
    "start_time": "2024-10-25T15:12:57.951Z"
   },
   {
    "duration": 0,
    "start_time": "2024-10-25T15:12:57.953Z"
   },
   {
    "duration": 0,
    "start_time": "2024-10-25T15:12:57.954Z"
   },
   {
    "duration": 0,
    "start_time": "2024-10-25T15:12:58.018Z"
   },
   {
    "duration": 0,
    "start_time": "2024-10-25T15:12:58.019Z"
   },
   {
    "duration": 0,
    "start_time": "2024-10-25T15:12:58.020Z"
   },
   {
    "duration": 0,
    "start_time": "2024-10-25T15:12:58.022Z"
   },
   {
    "duration": 0,
    "start_time": "2024-10-25T15:12:58.023Z"
   },
   {
    "duration": 0,
    "start_time": "2024-10-25T15:12:58.024Z"
   },
   {
    "duration": 0,
    "start_time": "2024-10-25T15:12:58.025Z"
   },
   {
    "duration": 0,
    "start_time": "2024-10-25T15:12:58.026Z"
   },
   {
    "duration": 0,
    "start_time": "2024-10-25T15:12:58.027Z"
   },
   {
    "duration": 0,
    "start_time": "2024-10-25T15:12:58.028Z"
   },
   {
    "duration": 0,
    "start_time": "2024-10-25T15:12:58.029Z"
   },
   {
    "duration": 0,
    "start_time": "2024-10-25T15:12:58.031Z"
   },
   {
    "duration": 0,
    "start_time": "2024-10-25T15:12:58.031Z"
   },
   {
    "duration": 0,
    "start_time": "2024-10-25T15:12:58.032Z"
   },
   {
    "duration": 0,
    "start_time": "2024-10-25T15:12:58.034Z"
   },
   {
    "duration": 0,
    "start_time": "2024-10-25T15:12:58.035Z"
   },
   {
    "duration": 0,
    "start_time": "2024-10-25T15:12:58.036Z"
   },
   {
    "duration": 0,
    "start_time": "2024-10-25T15:12:58.037Z"
   },
   {
    "duration": 0,
    "start_time": "2024-10-25T15:12:58.038Z"
   },
   {
    "duration": 0,
    "start_time": "2024-10-25T15:12:58.039Z"
   },
   {
    "duration": 0,
    "start_time": "2024-10-25T15:12:58.040Z"
   },
   {
    "duration": 0,
    "start_time": "2024-10-25T15:12:58.041Z"
   },
   {
    "duration": 0,
    "start_time": "2024-10-25T15:12:58.042Z"
   },
   {
    "duration": 0,
    "start_time": "2024-10-25T15:12:58.043Z"
   },
   {
    "duration": 0,
    "start_time": "2024-10-25T15:12:58.044Z"
   },
   {
    "duration": 0,
    "start_time": "2024-10-25T15:12:58.046Z"
   },
   {
    "duration": 0,
    "start_time": "2024-10-25T15:12:58.047Z"
   },
   {
    "duration": 0,
    "start_time": "2024-10-25T15:12:58.049Z"
   },
   {
    "duration": 0,
    "start_time": "2024-10-25T15:12:58.050Z"
   },
   {
    "duration": 0,
    "start_time": "2024-10-25T15:12:58.051Z"
   },
   {
    "duration": 0,
    "start_time": "2024-10-25T15:12:58.053Z"
   },
   {
    "duration": 0,
    "start_time": "2024-10-25T15:12:58.054Z"
   },
   {
    "duration": 0,
    "start_time": "2024-10-25T15:12:58.119Z"
   },
   {
    "duration": 0,
    "start_time": "2024-10-25T15:12:58.121Z"
   },
   {
    "duration": 0,
    "start_time": "2024-10-25T15:12:58.122Z"
   },
   {
    "duration": 226,
    "start_time": "2024-10-25T15:15:40.641Z"
   },
   {
    "duration": 295,
    "start_time": "2024-10-25T15:17:42.278Z"
   },
   {
    "duration": 253,
    "start_time": "2024-10-25T15:17:50.938Z"
   },
   {
    "duration": 2232,
    "start_time": "2024-10-25T15:18:15.234Z"
   },
   {
    "duration": 2010,
    "start_time": "2024-10-25T15:21:35.513Z"
   },
   {
    "duration": 3,
    "start_time": "2024-10-25T15:22:19.613Z"
   },
   {
    "duration": 2136,
    "start_time": "2024-10-25T15:22:27.655Z"
   },
   {
    "duration": 3,
    "start_time": "2024-10-25T15:22:45.487Z"
   },
   {
    "duration": 2061,
    "start_time": "2024-10-25T15:22:52.808Z"
   },
   {
    "duration": 296,
    "start_time": "2024-10-25T15:23:01.565Z"
   },
   {
    "duration": 8635,
    "start_time": "2024-10-25T15:25:24.319Z"
   },
   {
    "duration": 8808,
    "start_time": "2024-10-25T15:25:34.926Z"
   },
   {
    "duration": 9107,
    "start_time": "2024-10-25T15:25:48.399Z"
   },
   {
    "duration": 9189,
    "start_time": "2024-10-25T15:26:05.779Z"
   },
   {
    "duration": 8934,
    "start_time": "2024-10-25T15:26:21.962Z"
   },
   {
    "duration": 274,
    "start_time": "2024-10-25T15:26:47.494Z"
   },
   {
    "duration": 227,
    "start_time": "2024-10-25T15:27:59.959Z"
   },
   {
    "duration": 235,
    "start_time": "2024-10-25T15:31:06.655Z"
   },
   {
    "duration": 311,
    "start_time": "2024-10-25T15:31:21.567Z"
   },
   {
    "duration": 261,
    "start_time": "2024-10-25T15:31:32.538Z"
   },
   {
    "duration": 8,
    "start_time": "2024-10-25T15:31:52.451Z"
   },
   {
    "duration": 55070,
    "start_time": "2024-10-25T15:31:52.461Z"
   },
   {
    "duration": 2142,
    "start_time": "2024-10-25T15:32:47.534Z"
   },
   {
    "duration": 2,
    "start_time": "2024-10-25T15:32:49.679Z"
   },
   {
    "duration": 6,
    "start_time": "2024-10-25T15:32:49.683Z"
   },
   {
    "duration": 6,
    "start_time": "2024-10-25T15:32:49.691Z"
   },
   {
    "duration": 5,
    "start_time": "2024-10-25T15:32:49.698Z"
   },
   {
    "duration": 6,
    "start_time": "2024-10-25T15:32:49.705Z"
   },
   {
    "duration": 37,
    "start_time": "2024-10-25T15:32:49.714Z"
   },
   {
    "duration": 21,
    "start_time": "2024-10-25T15:32:49.753Z"
   },
   {
    "duration": 6,
    "start_time": "2024-10-25T15:32:49.776Z"
   },
   {
    "duration": 5,
    "start_time": "2024-10-25T15:32:49.783Z"
   },
   {
    "duration": 16,
    "start_time": "2024-10-25T15:32:49.789Z"
   },
   {
    "duration": 20,
    "start_time": "2024-10-25T15:32:49.807Z"
   },
   {
    "duration": 7,
    "start_time": "2024-10-25T15:32:49.829Z"
   },
   {
    "duration": 5,
    "start_time": "2024-10-25T15:32:49.837Z"
   },
   {
    "duration": 3,
    "start_time": "2024-10-25T15:32:49.844Z"
   },
   {
    "duration": 6,
    "start_time": "2024-10-25T15:32:49.848Z"
   },
   {
    "duration": 22,
    "start_time": "2024-10-25T15:32:49.856Z"
   },
   {
    "duration": 138,
    "start_time": "2024-10-25T15:32:49.880Z"
   },
   {
    "duration": 6,
    "start_time": "2024-10-25T15:32:50.020Z"
   },
   {
    "duration": 192,
    "start_time": "2024-10-25T15:32:50.028Z"
   },
   {
    "duration": 6,
    "start_time": "2024-10-25T15:32:50.222Z"
   },
   {
    "duration": 192,
    "start_time": "2024-10-25T15:32:50.234Z"
   },
   {
    "duration": 729,
    "start_time": "2024-10-25T15:32:50.428Z"
   },
   {
    "duration": 560,
    "start_time": "2024-10-25T15:32:51.159Z"
   },
   {
    "duration": 296,
    "start_time": "2024-10-25T15:32:51.721Z"
   },
   {
    "duration": 540,
    "start_time": "2024-10-25T15:32:52.019Z"
   },
   {
    "duration": 518,
    "start_time": "2024-10-25T15:32:52.561Z"
   },
   {
    "duration": 593,
    "start_time": "2024-10-25T15:32:53.082Z"
   },
   {
    "duration": 6,
    "start_time": "2024-10-25T15:32:53.676Z"
   },
   {
    "duration": 158,
    "start_time": "2024-10-25T15:32:53.684Z"
   },
   {
    "duration": 602,
    "start_time": "2024-10-25T15:32:53.844Z"
   },
   {
    "duration": 532,
    "start_time": "2024-10-25T15:32:54.447Z"
   },
   {
    "duration": 604,
    "start_time": "2024-10-25T15:32:54.980Z"
   },
   {
    "duration": 114,
    "start_time": "2024-10-25T15:32:55.585Z"
   },
   {
    "duration": 9,
    "start_time": "2024-10-25T15:32:55.701Z"
   },
   {
    "duration": 6,
    "start_time": "2024-10-25T15:32:55.712Z"
   },
   {
    "duration": 11,
    "start_time": "2024-10-25T15:32:55.720Z"
   },
   {
    "duration": 15,
    "start_time": "2024-10-25T15:32:55.733Z"
   },
   {
    "duration": 12,
    "start_time": "2024-10-25T15:32:55.749Z"
   },
   {
    "duration": 5,
    "start_time": "2024-10-25T15:32:55.763Z"
   },
   {
    "duration": 89,
    "start_time": "2024-10-25T15:32:55.769Z"
   },
   {
    "duration": 805,
    "start_time": "2024-10-25T15:32:55.860Z"
   },
   {
    "duration": 7,
    "start_time": "2024-10-25T15:32:56.667Z"
   },
   {
    "duration": 26,
    "start_time": "2024-10-25T15:32:56.675Z"
   },
   {
    "duration": 9,
    "start_time": "2024-10-25T15:32:56.702Z"
   },
   {
    "duration": 9,
    "start_time": "2024-10-25T15:32:56.712Z"
   },
   {
    "duration": 572,
    "start_time": "2024-10-25T15:32:56.723Z"
   },
   {
    "duration": 96,
    "start_time": "2024-10-25T15:32:57.296Z"
   },
   {
    "duration": 7,
    "start_time": "2024-10-25T15:32:57.394Z"
   },
   {
    "duration": 10,
    "start_time": "2024-10-25T15:32:57.402Z"
   },
   {
    "duration": 9,
    "start_time": "2024-10-25T15:32:57.413Z"
   },
   {
    "duration": 24,
    "start_time": "2024-10-25T15:32:57.423Z"
   },
   {
    "duration": 14,
    "start_time": "2024-10-25T15:32:57.449Z"
   },
   {
    "duration": 9,
    "start_time": "2024-10-25T15:32:57.465Z"
   },
   {
    "duration": 13,
    "start_time": "2024-10-25T15:32:57.476Z"
   },
   {
    "duration": 13,
    "start_time": "2024-10-25T15:32:57.490Z"
   },
   {
    "duration": 27,
    "start_time": "2024-10-25T15:32:57.504Z"
   },
   {
    "duration": 89,
    "start_time": "2024-10-25T15:32:57.533Z"
   },
   {
    "duration": 655,
    "start_time": "2024-10-25T15:32:57.624Z"
   },
   {
    "duration": 79,
    "start_time": "2024-10-25T15:32:58.281Z"
   },
   {
    "duration": 7,
    "start_time": "2024-10-25T15:32:58.361Z"
   },
   {
    "duration": 23,
    "start_time": "2024-10-25T15:32:58.370Z"
   },
   {
    "duration": 29,
    "start_time": "2024-10-25T15:32:58.394Z"
   },
   {
    "duration": 23,
    "start_time": "2024-10-25T15:32:58.425Z"
   },
   {
    "duration": 35,
    "start_time": "2024-10-25T15:32:58.450Z"
   },
   {
    "duration": 34,
    "start_time": "2024-10-25T15:32:58.486Z"
   },
   {
    "duration": 19,
    "start_time": "2024-10-25T15:32:58.527Z"
   },
   {
    "duration": 621,
    "start_time": "2024-10-25T15:32:58.548Z"
   },
   {
    "duration": 15,
    "start_time": "2024-10-25T15:32:59.171Z"
   },
   {
    "duration": 21,
    "start_time": "2024-10-25T15:32:59.187Z"
   },
   {
    "duration": 34,
    "start_time": "2024-10-25T15:32:59.210Z"
   },
   {
    "duration": 22,
    "start_time": "2024-10-25T15:32:59.246Z"
   },
   {
    "duration": 35,
    "start_time": "2024-10-25T15:32:59.270Z"
   },
   {
    "duration": 33,
    "start_time": "2024-10-25T15:32:59.307Z"
   },
   {
    "duration": 42,
    "start_time": "2024-10-25T15:32:59.343Z"
   },
   {
    "duration": 29,
    "start_time": "2024-10-25T15:32:59.387Z"
   },
   {
    "duration": 28,
    "start_time": "2024-10-25T15:32:59.418Z"
   },
   {
    "duration": 30,
    "start_time": "2024-10-25T15:32:59.449Z"
   },
   {
    "duration": 1906,
    "start_time": "2024-10-25T15:32:59.481Z"
   },
   {
    "duration": 347,
    "start_time": "2024-10-25T15:33:01.389Z"
   },
   {
    "duration": 5,
    "start_time": "2024-10-25T15:33:01.738Z"
   },
   {
    "duration": 15,
    "start_time": "2024-10-25T15:33:01.745Z"
   },
   {
    "duration": 7,
    "start_time": "2024-10-25T15:33:01.762Z"
   },
   {
    "duration": 54,
    "start_time": "2024-10-25T15:33:01.771Z"
   },
   {
    "duration": 16,
    "start_time": "2024-10-25T15:33:01.827Z"
   },
   {
    "duration": 3,
    "start_time": "2024-10-25T15:33:01.845Z"
   },
   {
    "duration": 6,
    "start_time": "2024-10-25T15:33:01.849Z"
   },
   {
    "duration": 21,
    "start_time": "2024-10-25T15:33:01.856Z"
   },
   {
    "duration": 24,
    "start_time": "2024-10-25T15:33:01.878Z"
   },
   {
    "duration": 28,
    "start_time": "2024-10-25T15:33:01.904Z"
   },
   {
    "duration": 31,
    "start_time": "2024-10-25T15:33:01.933Z"
   },
   {
    "duration": 32,
    "start_time": "2024-10-25T15:33:01.965Z"
   },
   {
    "duration": 38,
    "start_time": "2024-10-25T15:33:01.999Z"
   },
   {
    "duration": 1099274,
    "start_time": "2024-10-25T15:33:02.039Z"
   },
   {
    "duration": 4,
    "start_time": "2024-10-25T15:51:21.318Z"
   },
   {
    "duration": 27,
    "start_time": "2024-10-25T15:51:21.323Z"
   },
   {
    "duration": 2,
    "start_time": "2024-10-25T15:51:21.352Z"
   },
   {
    "duration": 40,
    "start_time": "2024-10-25T15:51:21.356Z"
   },
   {
    "duration": 4,
    "start_time": "2024-10-25T15:51:21.398Z"
   },
   {
    "duration": 992,
    "start_time": "2024-10-25T15:51:21.403Z"
   },
   {
    "duration": 129,
    "start_time": "2024-10-25T15:51:22.397Z"
   },
   {
    "duration": 15,
    "start_time": "2024-10-25T15:51:22.617Z"
   },
   {
    "duration": 9,
    "start_time": "2024-10-25T15:51:22.633Z"
   },
   {
    "duration": 8,
    "start_time": "2024-10-25T15:51:22.643Z"
   },
   {
    "duration": 24,
    "start_time": "2024-10-25T15:51:22.652Z"
   },
   {
    "duration": 8,
    "start_time": "2024-10-25T15:51:22.677Z"
   },
   {
    "duration": 5,
    "start_time": "2024-10-25T15:51:22.687Z"
   },
   {
    "duration": 16,
    "start_time": "2024-10-25T15:51:22.693Z"
   },
   {
    "duration": 13,
    "start_time": "2024-10-25T15:51:22.711Z"
   },
   {
    "duration": 6,
    "start_time": "2024-10-25T15:51:22.726Z"
   },
   {
    "duration": 13,
    "start_time": "2024-10-25T15:51:22.734Z"
   },
   {
    "duration": 344,
    "start_time": "2024-10-25T15:51:22.748Z"
   },
   {
    "duration": 1944,
    "start_time": "2024-10-25T15:53:57.031Z"
   },
   {
    "duration": 292,
    "start_time": "2024-10-25T16:06:09.829Z"
   },
   {
    "duration": 345,
    "start_time": "2024-10-25T16:07:30.895Z"
   },
   {
    "duration": 357,
    "start_time": "2024-10-25T16:09:11.693Z"
   },
   {
    "duration": 1366,
    "start_time": "2024-10-25T18:01:29.651Z"
   },
   {
    "duration": 998,
    "start_time": "2024-10-25T18:01:50.127Z"
   },
   {
    "duration": 1048,
    "start_time": "2024-10-25T18:02:44.701Z"
   },
   {
    "duration": 1285,
    "start_time": "2024-10-25T18:02:55.126Z"
   },
   {
    "duration": 1081,
    "start_time": "2024-10-25T18:04:48.464Z"
   },
   {
    "duration": 8,
    "start_time": "2024-10-25T18:05:27.486Z"
   },
   {
    "duration": 54612,
    "start_time": "2024-10-25T18:05:27.495Z"
   },
   {
    "duration": 2169,
    "start_time": "2024-10-25T18:06:22.109Z"
   },
   {
    "duration": 3,
    "start_time": "2024-10-25T18:06:24.280Z"
   },
   {
    "duration": 73,
    "start_time": "2024-10-25T18:06:24.284Z"
   },
   {
    "duration": 6,
    "start_time": "2024-10-25T18:06:24.359Z"
   },
   {
    "duration": 17,
    "start_time": "2024-10-25T18:06:24.367Z"
   },
   {
    "duration": 11,
    "start_time": "2024-10-25T18:06:24.386Z"
   },
   {
    "duration": 49,
    "start_time": "2024-10-25T18:06:24.399Z"
   },
   {
    "duration": 18,
    "start_time": "2024-10-25T18:06:24.451Z"
   },
   {
    "duration": 5,
    "start_time": "2024-10-25T18:06:24.470Z"
   },
   {
    "duration": 7,
    "start_time": "2024-10-25T18:06:24.476Z"
   },
   {
    "duration": 11,
    "start_time": "2024-10-25T18:06:24.485Z"
   },
   {
    "duration": 8,
    "start_time": "2024-10-25T18:06:24.498Z"
   },
   {
    "duration": 16,
    "start_time": "2024-10-25T18:06:24.507Z"
   },
   {
    "duration": 6,
    "start_time": "2024-10-25T18:06:24.525Z"
   },
   {
    "duration": 4,
    "start_time": "2024-10-25T18:06:24.532Z"
   },
   {
    "duration": 18,
    "start_time": "2024-10-25T18:06:24.538Z"
   },
   {
    "duration": 5,
    "start_time": "2024-10-25T18:06:24.558Z"
   },
   {
    "duration": 98,
    "start_time": "2024-10-25T18:06:24.564Z"
   },
   {
    "duration": 59,
    "start_time": "2024-10-25T18:06:24.663Z"
   },
   {
    "duration": 140,
    "start_time": "2024-10-25T18:06:24.724Z"
   },
   {
    "duration": 52,
    "start_time": "2024-10-25T18:06:24.866Z"
   },
   {
    "duration": 147,
    "start_time": "2024-10-25T18:06:24.921Z"
   },
   {
    "duration": 731,
    "start_time": "2024-10-25T18:06:25.070Z"
   },
   {
    "duration": 684,
    "start_time": "2024-10-25T18:06:25.803Z"
   },
   {
    "duration": 296,
    "start_time": "2024-10-25T18:06:26.488Z"
   },
   {
    "duration": 556,
    "start_time": "2024-10-25T18:06:26.788Z"
   },
   {
    "duration": 529,
    "start_time": "2024-10-25T18:06:27.346Z"
   },
   {
    "duration": 585,
    "start_time": "2024-10-25T18:06:27.876Z"
   },
   {
    "duration": 309,
    "start_time": "2024-10-25T18:06:28.462Z"
   },
   {
    "duration": 5,
    "start_time": "2024-10-25T18:06:28.773Z"
   },
   {
    "duration": 163,
    "start_time": "2024-10-25T18:06:28.779Z"
   },
   {
    "duration": 609,
    "start_time": "2024-10-25T18:06:28.944Z"
   },
   {
    "duration": 391,
    "start_time": "2024-10-25T18:06:29.555Z"
   },
   {
    "duration": 545,
    "start_time": "2024-10-25T18:06:29.948Z"
   },
   {
    "duration": 362,
    "start_time": "2024-10-25T18:06:30.495Z"
   },
   {
    "duration": 741,
    "start_time": "2024-10-25T18:06:30.859Z"
   },
   {
    "duration": 39,
    "start_time": "2024-10-25T18:06:31.602Z"
   },
   {
    "duration": 9,
    "start_time": "2024-10-25T18:06:31.643Z"
   },
   {
    "duration": 14,
    "start_time": "2024-10-25T18:06:31.655Z"
   },
   {
    "duration": 17,
    "start_time": "2024-10-25T18:06:31.671Z"
   },
   {
    "duration": 26,
    "start_time": "2024-10-25T18:06:31.690Z"
   },
   {
    "duration": 8,
    "start_time": "2024-10-25T18:06:31.719Z"
   },
   {
    "duration": 8,
    "start_time": "2024-10-25T18:06:31.729Z"
   },
   {
    "duration": 99,
    "start_time": "2024-10-25T18:06:31.739Z"
   },
   {
    "duration": 709,
    "start_time": "2024-10-25T18:06:31.840Z"
   },
   {
    "duration": 8,
    "start_time": "2024-10-25T18:06:32.550Z"
   },
   {
    "duration": 31,
    "start_time": "2024-10-25T18:06:32.559Z"
   },
   {
    "duration": 29,
    "start_time": "2024-10-25T18:06:32.591Z"
   },
   {
    "duration": 148,
    "start_time": "2024-10-25T18:07:38.297Z"
   },
   {
    "duration": 10,
    "start_time": "2024-10-25T18:08:26.958Z"
   },
   {
    "duration": 11,
    "start_time": "2024-10-25T18:08:32.597Z"
   },
   {
    "duration": 10,
    "start_time": "2024-10-25T18:08:42.190Z"
   },
   {
    "duration": 9,
    "start_time": "2024-10-25T18:09:01.448Z"
   },
   {
    "duration": 6,
    "start_time": "2024-10-25T18:09:54.792Z"
   },
   {
    "duration": 16,
    "start_time": "2024-10-25T18:10:43.936Z"
   },
   {
    "duration": 1186,
    "start_time": "2024-10-25T18:15:45.238Z"
   },
   {
    "duration": 1046,
    "start_time": "2024-10-25T18:16:28.465Z"
   },
   {
    "duration": 94,
    "start_time": "2024-10-25T18:17:23.067Z"
   },
   {
    "duration": 3,
    "start_time": "2024-10-25T18:17:40.167Z"
   },
   {
    "duration": 8,
    "start_time": "2024-10-25T18:17:43.121Z"
   },
   {
    "duration": 8,
    "start_time": "2024-10-25T18:20:12.093Z"
   },
   {
    "duration": 56002,
    "start_time": "2024-10-25T18:20:12.103Z"
   },
   {
    "duration": 2179,
    "start_time": "2024-10-25T18:21:08.107Z"
   },
   {
    "duration": 4,
    "start_time": "2024-10-25T18:21:10.288Z"
   },
   {
    "duration": 15,
    "start_time": "2024-10-25T18:21:10.294Z"
   },
   {
    "duration": 7,
    "start_time": "2024-10-25T18:21:10.311Z"
   },
   {
    "duration": 9,
    "start_time": "2024-10-25T18:21:10.320Z"
   },
   {
    "duration": 4,
    "start_time": "2024-10-25T18:21:10.330Z"
   },
   {
    "duration": 34,
    "start_time": "2024-10-25T18:21:10.335Z"
   },
   {
    "duration": 16,
    "start_time": "2024-10-25T18:21:10.372Z"
   },
   {
    "duration": 8,
    "start_time": "2024-10-25T18:21:10.389Z"
   },
   {
    "duration": 10,
    "start_time": "2024-10-25T18:21:10.398Z"
   },
   {
    "duration": 12,
    "start_time": "2024-10-25T18:21:10.409Z"
   },
   {
    "duration": 19,
    "start_time": "2024-10-25T18:21:10.423Z"
   },
   {
    "duration": 8,
    "start_time": "2024-10-25T18:21:10.443Z"
   },
   {
    "duration": 4,
    "start_time": "2024-10-25T18:21:10.453Z"
   },
   {
    "duration": 5,
    "start_time": "2024-10-25T18:21:10.459Z"
   },
   {
    "duration": 6,
    "start_time": "2024-10-25T18:21:10.466Z"
   },
   {
    "duration": 6,
    "start_time": "2024-10-25T18:21:10.474Z"
   },
   {
    "duration": 154,
    "start_time": "2024-10-25T18:21:10.482Z"
   },
   {
    "duration": 80,
    "start_time": "2024-10-25T18:21:10.638Z"
   },
   {
    "duration": 100,
    "start_time": "2024-10-25T18:21:10.720Z"
   },
   {
    "duration": 7,
    "start_time": "2024-10-25T18:21:10.822Z"
   },
   {
    "duration": 190,
    "start_time": "2024-10-25T18:21:10.831Z"
   },
   {
    "duration": 676,
    "start_time": "2024-10-25T18:21:11.023Z"
   },
   {
    "duration": 704,
    "start_time": "2024-10-25T18:21:11.701Z"
   },
   {
    "duration": 313,
    "start_time": "2024-10-25T18:21:12.407Z"
   },
   {
    "duration": 560,
    "start_time": "2024-10-25T18:21:12.724Z"
   },
   {
    "duration": 571,
    "start_time": "2024-10-25T18:21:13.286Z"
   },
   {
    "duration": 604,
    "start_time": "2024-10-25T18:21:13.859Z"
   },
   {
    "duration": 329,
    "start_time": "2024-10-25T18:21:14.464Z"
   },
   {
    "duration": 5,
    "start_time": "2024-10-25T18:21:14.794Z"
   },
   {
    "duration": 140,
    "start_time": "2024-10-25T18:21:14.801Z"
   },
   {
    "duration": 632,
    "start_time": "2024-10-25T18:21:14.943Z"
   },
   {
    "duration": 390,
    "start_time": "2024-10-25T18:21:15.577Z"
   },
   {
    "duration": 607,
    "start_time": "2024-10-25T18:21:15.968Z"
   },
   {
    "duration": 353,
    "start_time": "2024-10-25T18:21:16.576Z"
   },
   {
    "duration": 670,
    "start_time": "2024-10-25T18:21:16.930Z"
   },
   {
    "duration": 31,
    "start_time": "2024-10-25T18:21:17.602Z"
   },
   {
    "duration": 17,
    "start_time": "2024-10-25T18:21:17.635Z"
   },
   {
    "duration": 27,
    "start_time": "2024-10-25T18:21:17.654Z"
   },
   {
    "duration": 12,
    "start_time": "2024-10-25T18:21:17.683Z"
   },
   {
    "duration": 30,
    "start_time": "2024-10-25T18:21:17.696Z"
   },
   {
    "duration": 12,
    "start_time": "2024-10-25T18:21:17.727Z"
   },
   {
    "duration": 20,
    "start_time": "2024-10-25T18:21:17.741Z"
   },
   {
    "duration": 158,
    "start_time": "2024-10-25T18:21:17.762Z"
   },
   {
    "duration": 637,
    "start_time": "2024-10-25T18:21:17.922Z"
   },
   {
    "duration": 2,
    "start_time": "2024-10-25T18:21:18.561Z"
   },
   {
    "duration": 27,
    "start_time": "2024-10-25T18:21:18.565Z"
   },
   {
    "duration": 9,
    "start_time": "2024-10-25T18:21:18.594Z"
   },
   {
    "duration": 18,
    "start_time": "2024-10-25T18:21:18.605Z"
   },
   {
    "duration": 1267,
    "start_time": "2024-10-25T18:21:18.624Z"
   },
   {
    "duration": 13,
    "start_time": "2024-10-25T18:22:03.039Z"
   },
   {
    "duration": 1036,
    "start_time": "2024-10-25T18:22:38.773Z"
   },
   {
    "duration": 1024,
    "start_time": "2024-10-25T18:25:55.150Z"
   },
   {
    "duration": 1030,
    "start_time": "2024-10-25T18:31:44.364Z"
   },
   {
    "duration": 1040,
    "start_time": "2024-10-25T18:31:56.993Z"
   },
   {
    "duration": 1149,
    "start_time": "2024-10-25T18:35:44.958Z"
   },
   {
    "duration": 1124,
    "start_time": "2024-10-25T18:39:14.522Z"
   },
   {
    "duration": 1013,
    "start_time": "2024-10-25T18:40:56.611Z"
   },
   {
    "duration": 4,
    "start_time": "2024-10-25T18:41:52.355Z"
   },
   {
    "duration": 1233,
    "start_time": "2024-10-25T18:42:10.692Z"
   },
   {
    "duration": 1078,
    "start_time": "2024-10-25T18:42:26.561Z"
   },
   {
    "duration": 4,
    "start_time": "2024-10-25T18:45:04.196Z"
   },
   {
    "duration": 10,
    "start_time": "2024-10-25T18:45:05.861Z"
   },
   {
    "duration": 4,
    "start_time": "2024-10-25T18:52:59.454Z"
   },
   {
    "duration": 5,
    "start_time": "2024-10-25T18:53:08.224Z"
   },
   {
    "duration": 4,
    "start_time": "2024-10-25T18:53:09.687Z"
   },
   {
    "duration": 4,
    "start_time": "2024-10-25T18:54:25.327Z"
   },
   {
    "duration": 8,
    "start_time": "2024-10-25T18:54:40.338Z"
   },
   {
    "duration": 54702,
    "start_time": "2024-10-25T18:54:40.347Z"
   },
   {
    "duration": 2132,
    "start_time": "2024-10-25T18:55:35.051Z"
   },
   {
    "duration": 2,
    "start_time": "2024-10-25T18:55:37.185Z"
   },
   {
    "duration": 31,
    "start_time": "2024-10-25T18:55:37.189Z"
   },
   {
    "duration": 16,
    "start_time": "2024-10-25T18:55:37.222Z"
   },
   {
    "duration": 38,
    "start_time": "2024-10-25T18:55:37.240Z"
   },
   {
    "duration": 12,
    "start_time": "2024-10-25T18:55:37.280Z"
   },
   {
    "duration": 39,
    "start_time": "2024-10-25T18:55:37.293Z"
   },
   {
    "duration": 15,
    "start_time": "2024-10-25T18:55:37.335Z"
   },
   {
    "duration": 4,
    "start_time": "2024-10-25T18:55:37.352Z"
   },
   {
    "duration": 31,
    "start_time": "2024-10-25T18:55:37.357Z"
   },
   {
    "duration": 18,
    "start_time": "2024-10-25T18:55:37.389Z"
   },
   {
    "duration": 7,
    "start_time": "2024-10-25T18:55:37.408Z"
   },
   {
    "duration": 8,
    "start_time": "2024-10-25T18:55:37.417Z"
   },
   {
    "duration": 5,
    "start_time": "2024-10-25T18:55:37.427Z"
   },
   {
    "duration": 6,
    "start_time": "2024-10-25T18:55:37.434Z"
   },
   {
    "duration": 10,
    "start_time": "2024-10-25T18:55:37.441Z"
   },
   {
    "duration": 15,
    "start_time": "2024-10-25T18:55:37.453Z"
   },
   {
    "duration": 92,
    "start_time": "2024-10-25T18:55:37.469Z"
   },
   {
    "duration": 58,
    "start_time": "2024-10-25T18:55:37.562Z"
   },
   {
    "duration": 198,
    "start_time": "2024-10-25T18:55:37.622Z"
   },
   {
    "duration": 7,
    "start_time": "2024-10-25T18:55:37.822Z"
   },
   {
    "duration": 195,
    "start_time": "2024-10-25T18:55:37.831Z"
   },
   {
    "duration": 649,
    "start_time": "2024-10-25T18:55:38.029Z"
   },
   {
    "duration": 711,
    "start_time": "2024-10-25T18:55:38.680Z"
   },
   {
    "duration": 311,
    "start_time": "2024-10-25T18:55:39.393Z"
   },
   {
    "duration": 549,
    "start_time": "2024-10-25T18:55:39.707Z"
   },
   {
    "duration": 503,
    "start_time": "2024-10-25T18:55:40.257Z"
   },
   {
    "duration": 609,
    "start_time": "2024-10-25T18:55:40.762Z"
   },
   {
    "duration": 363,
    "start_time": "2024-10-25T18:55:41.372Z"
   },
   {
    "duration": 5,
    "start_time": "2024-10-25T18:55:41.737Z"
   },
   {
    "duration": 192,
    "start_time": "2024-10-25T18:55:41.743Z"
   },
   {
    "duration": 607,
    "start_time": "2024-10-25T18:55:41.936Z"
   },
   {
    "duration": 374,
    "start_time": "2024-10-25T18:55:42.545Z"
   },
   {
    "duration": 560,
    "start_time": "2024-10-25T18:55:42.920Z"
   },
   {
    "duration": 365,
    "start_time": "2024-10-25T18:55:43.481Z"
   },
   {
    "duration": 729,
    "start_time": "2024-10-25T18:55:43.848Z"
   },
   {
    "duration": 36,
    "start_time": "2024-10-25T18:55:44.579Z"
   },
   {
    "duration": 8,
    "start_time": "2024-10-25T18:55:44.617Z"
   },
   {
    "duration": 7,
    "start_time": "2024-10-25T18:55:44.626Z"
   },
   {
    "duration": 10,
    "start_time": "2024-10-25T18:55:44.634Z"
   },
   {
    "duration": 11,
    "start_time": "2024-10-25T18:55:44.646Z"
   },
   {
    "duration": 15,
    "start_time": "2024-10-25T18:55:44.659Z"
   },
   {
    "duration": 19,
    "start_time": "2024-10-25T18:55:44.675Z"
   },
   {
    "duration": 138,
    "start_time": "2024-10-25T18:55:44.696Z"
   },
   {
    "duration": 627,
    "start_time": "2024-10-25T18:55:44.836Z"
   },
   {
    "duration": 2,
    "start_time": "2024-10-25T18:55:45.465Z"
   },
   {
    "duration": 5,
    "start_time": "2024-10-25T18:55:45.469Z"
   },
   {
    "duration": 5,
    "start_time": "2024-10-25T18:55:45.476Z"
   },
   {
    "duration": 165,
    "start_time": "2024-10-25T18:55:45.483Z"
   },
   {
    "duration": 6,
    "start_time": "2024-10-25T18:58:50.980Z"
   },
   {
    "duration": 9,
    "start_time": "2024-10-25T18:58:52.917Z"
   },
   {
    "duration": 8,
    "start_time": "2024-10-25T19:18:00.844Z"
   },
   {
    "duration": 53131,
    "start_time": "2024-10-25T19:18:00.854Z"
   },
   {
    "duration": 2142,
    "start_time": "2024-10-25T19:18:53.987Z"
   },
   {
    "duration": 3,
    "start_time": "2024-10-25T19:18:56.131Z"
   },
   {
    "duration": 32,
    "start_time": "2024-10-25T19:18:56.135Z"
   },
   {
    "duration": 7,
    "start_time": "2024-10-25T19:18:56.169Z"
   },
   {
    "duration": 8,
    "start_time": "2024-10-25T19:18:56.177Z"
   },
   {
    "duration": 8,
    "start_time": "2024-10-25T19:18:56.186Z"
   },
   {
    "duration": 34,
    "start_time": "2024-10-25T19:18:56.198Z"
   },
   {
    "duration": 17,
    "start_time": "2024-10-25T19:18:56.234Z"
   },
   {
    "duration": 5,
    "start_time": "2024-10-25T19:18:56.252Z"
   },
   {
    "duration": 5,
    "start_time": "2024-10-25T19:18:56.258Z"
   },
   {
    "duration": 36,
    "start_time": "2024-10-25T19:18:56.265Z"
   },
   {
    "duration": 7,
    "start_time": "2024-10-25T19:18:56.303Z"
   },
   {
    "duration": 7,
    "start_time": "2024-10-25T19:18:56.311Z"
   },
   {
    "duration": 5,
    "start_time": "2024-10-25T19:18:56.319Z"
   },
   {
    "duration": 6,
    "start_time": "2024-10-25T19:18:56.325Z"
   },
   {
    "duration": 6,
    "start_time": "2024-10-25T19:18:56.332Z"
   },
   {
    "duration": 6,
    "start_time": "2024-10-25T19:18:56.339Z"
   },
   {
    "duration": 108,
    "start_time": "2024-10-25T19:18:56.346Z"
   },
   {
    "duration": 66,
    "start_time": "2024-10-25T19:18:56.455Z"
   },
   {
    "duration": 147,
    "start_time": "2024-10-25T19:18:56.523Z"
   },
   {
    "duration": 48,
    "start_time": "2024-10-25T19:18:56.671Z"
   },
   {
    "duration": 193,
    "start_time": "2024-10-25T19:18:56.724Z"
   },
   {
    "duration": 776,
    "start_time": "2024-10-25T19:18:56.920Z"
   },
   {
    "duration": 592,
    "start_time": "2024-10-25T19:18:57.697Z"
   },
   {
    "duration": 310,
    "start_time": "2024-10-25T19:18:58.290Z"
   },
   {
    "duration": 587,
    "start_time": "2024-10-25T19:18:58.603Z"
   },
   {
    "duration": 567,
    "start_time": "2024-10-25T19:18:59.192Z"
   },
   {
    "duration": 608,
    "start_time": "2024-10-25T19:18:59.761Z"
   },
   {
    "duration": 365,
    "start_time": "2024-10-25T19:19:00.370Z"
   },
   {
    "duration": 6,
    "start_time": "2024-10-25T19:19:00.736Z"
   },
   {
    "duration": 187,
    "start_time": "2024-10-25T19:19:00.743Z"
   },
   {
    "duration": 630,
    "start_time": "2024-10-25T19:19:00.931Z"
   },
   {
    "duration": 382,
    "start_time": "2024-10-25T19:19:01.563Z"
   },
   {
    "duration": 529,
    "start_time": "2024-10-25T19:19:01.947Z"
   },
   {
    "duration": 356,
    "start_time": "2024-10-25T19:19:02.478Z"
   },
   {
    "duration": 746,
    "start_time": "2024-10-25T19:19:02.835Z"
   },
   {
    "duration": 31,
    "start_time": "2024-10-25T19:19:03.584Z"
   },
   {
    "duration": 9,
    "start_time": "2024-10-25T19:19:03.616Z"
   },
   {
    "duration": 20,
    "start_time": "2024-10-25T19:19:03.627Z"
   },
   {
    "duration": 20,
    "start_time": "2024-10-25T19:19:03.649Z"
   },
   {
    "duration": 22,
    "start_time": "2024-10-25T19:19:03.670Z"
   },
   {
    "duration": 19,
    "start_time": "2024-10-25T19:19:03.694Z"
   },
   {
    "duration": 12,
    "start_time": "2024-10-25T19:19:03.715Z"
   },
   {
    "duration": 103,
    "start_time": "2024-10-25T19:19:03.729Z"
   },
   {
    "duration": 623,
    "start_time": "2024-10-25T19:19:03.835Z"
   },
   {
    "duration": 2,
    "start_time": "2024-10-25T19:19:04.461Z"
   },
   {
    "duration": 26,
    "start_time": "2024-10-25T19:19:04.465Z"
   },
   {
    "duration": 9,
    "start_time": "2024-10-25T19:19:04.492Z"
   },
   {
    "duration": 35,
    "start_time": "2024-10-25T19:19:04.502Z"
   },
   {
    "duration": 20,
    "start_time": "2024-10-25T19:19:04.539Z"
   },
   {
    "duration": 588,
    "start_time": "2024-10-25T19:19:04.561Z"
   },
   {
    "duration": 29,
    "start_time": "2024-10-25T19:19:05.151Z"
   },
   {
    "duration": 7,
    "start_time": "2024-10-25T19:19:05.182Z"
   },
   {
    "duration": 3,
    "start_time": "2024-10-25T19:19:05.191Z"
   },
   {
    "duration": 7,
    "start_time": "2024-10-25T19:19:05.196Z"
   },
   {
    "duration": 21,
    "start_time": "2024-10-25T19:19:05.205Z"
   },
   {
    "duration": 24,
    "start_time": "2024-10-25T19:19:05.228Z"
   },
   {
    "duration": 18,
    "start_time": "2024-10-25T19:19:05.254Z"
   },
   {
    "duration": 35,
    "start_time": "2024-10-25T19:19:05.273Z"
   },
   {
    "duration": 13,
    "start_time": "2024-10-25T19:19:05.310Z"
   },
   {
    "duration": 40,
    "start_time": "2024-10-25T19:19:05.325Z"
   },
   {
    "duration": 102,
    "start_time": "2024-10-25T19:19:05.366Z"
   },
   {
    "duration": 687,
    "start_time": "2024-10-25T19:19:05.469Z"
   },
   {
    "duration": 27,
    "start_time": "2024-10-25T19:19:06.158Z"
   },
   {
    "duration": 7,
    "start_time": "2024-10-25T19:19:06.186Z"
   },
   {
    "duration": 6,
    "start_time": "2024-10-25T19:19:06.194Z"
   },
   {
    "duration": 15,
    "start_time": "2024-10-25T19:19:06.206Z"
   },
   {
    "duration": 12,
    "start_time": "2024-10-25T19:19:06.222Z"
   },
   {
    "duration": 28,
    "start_time": "2024-10-25T19:19:06.236Z"
   },
   {
    "duration": 28,
    "start_time": "2024-10-25T19:19:06.266Z"
   },
   {
    "duration": 6,
    "start_time": "2024-10-25T19:19:06.296Z"
   },
   {
    "duration": 570,
    "start_time": "2024-10-25T19:19:06.303Z"
   },
   {
    "duration": 20,
    "start_time": "2024-10-25T19:19:06.875Z"
   },
   {
    "duration": 27,
    "start_time": "2024-10-25T19:19:06.899Z"
   },
   {
    "duration": 10,
    "start_time": "2024-10-25T19:19:06.928Z"
   },
   {
    "duration": 9,
    "start_time": "2024-10-25T19:19:06.940Z"
   },
   {
    "duration": 28,
    "start_time": "2024-10-25T19:19:06.951Z"
   },
   {
    "duration": 16,
    "start_time": "2024-10-25T19:19:06.981Z"
   },
   {
    "duration": 25,
    "start_time": "2024-10-25T19:19:06.999Z"
   },
   {
    "duration": 54,
    "start_time": "2024-10-25T19:19:07.026Z"
   },
   {
    "duration": 7,
    "start_time": "2024-10-25T19:19:07.082Z"
   },
   {
    "duration": 13,
    "start_time": "2024-10-25T19:19:07.091Z"
   },
   {
    "duration": 2303,
    "start_time": "2024-10-25T19:22:40.988Z"
   },
   {
    "duration": 11,
    "start_time": "2024-10-25T19:42:52.572Z"
   },
   {
    "duration": 53586,
    "start_time": "2024-10-25T19:42:52.585Z"
   },
   {
    "duration": 2234,
    "start_time": "2024-10-25T19:43:46.173Z"
   },
   {
    "duration": 3,
    "start_time": "2024-10-25T19:43:48.409Z"
   },
   {
    "duration": 6,
    "start_time": "2024-10-25T19:43:48.414Z"
   },
   {
    "duration": 5,
    "start_time": "2024-10-25T19:43:48.422Z"
   },
   {
    "duration": 4,
    "start_time": "2024-10-25T19:43:48.428Z"
   },
   {
    "duration": 5,
    "start_time": "2024-10-25T19:43:48.433Z"
   },
   {
    "duration": 38,
    "start_time": "2024-10-25T19:43:48.439Z"
   },
   {
    "duration": 17,
    "start_time": "2024-10-25T19:43:48.480Z"
   },
   {
    "duration": 4,
    "start_time": "2024-10-25T19:43:48.499Z"
   },
   {
    "duration": 16,
    "start_time": "2024-10-25T19:43:48.505Z"
   },
   {
    "duration": 16,
    "start_time": "2024-10-25T19:43:48.523Z"
   },
   {
    "duration": 7,
    "start_time": "2024-10-25T19:43:48.541Z"
   },
   {
    "duration": 9,
    "start_time": "2024-10-25T19:43:48.550Z"
   },
   {
    "duration": 13,
    "start_time": "2024-10-25T19:43:48.560Z"
   },
   {
    "duration": 5,
    "start_time": "2024-10-25T19:43:48.574Z"
   },
   {
    "duration": 11,
    "start_time": "2024-10-25T19:43:48.580Z"
   },
   {
    "duration": 28,
    "start_time": "2024-10-25T19:43:48.592Z"
   },
   {
    "duration": 121,
    "start_time": "2024-10-25T19:43:48.622Z"
   },
   {
    "duration": 77,
    "start_time": "2024-10-25T19:43:48.745Z"
   },
   {
    "duration": 112,
    "start_time": "2024-10-25T19:43:48.823Z"
   },
   {
    "duration": 7,
    "start_time": "2024-10-25T19:43:48.937Z"
   },
   {
    "duration": 187,
    "start_time": "2024-10-25T19:43:48.946Z"
   },
   {
    "duration": 650,
    "start_time": "2024-10-25T19:43:49.135Z"
   },
   {
    "duration": 700,
    "start_time": "2024-10-25T19:43:49.786Z"
   },
   {
    "duration": 301,
    "start_time": "2024-10-25T19:43:50.487Z"
   },
   {
    "duration": 578,
    "start_time": "2024-10-25T19:43:50.792Z"
   },
   {
    "duration": 592,
    "start_time": "2024-10-25T19:43:51.372Z"
   },
   {
    "duration": 524,
    "start_time": "2024-10-25T19:43:51.966Z"
   },
   {
    "duration": 328,
    "start_time": "2024-10-25T19:43:52.491Z"
   },
   {
    "duration": 6,
    "start_time": "2024-10-25T19:43:52.821Z"
   },
   {
    "duration": 191,
    "start_time": "2024-10-25T19:43:52.829Z"
   },
   {
    "duration": 634,
    "start_time": "2024-10-25T19:43:53.022Z"
   },
   {
    "duration": 374,
    "start_time": "2024-10-25T19:43:53.658Z"
   },
   {
    "duration": 541,
    "start_time": "2024-10-25T19:43:54.034Z"
   },
   {
    "duration": 367,
    "start_time": "2024-10-25T19:43:54.577Z"
   },
   {
    "duration": 726,
    "start_time": "2024-10-25T19:43:54.946Z"
   },
   {
    "duration": 30,
    "start_time": "2024-10-25T19:43:55.674Z"
   },
   {
    "duration": 8,
    "start_time": "2024-10-25T19:43:55.706Z"
   },
   {
    "duration": 26,
    "start_time": "2024-10-25T19:43:55.716Z"
   },
   {
    "duration": 37,
    "start_time": "2024-10-25T19:43:55.743Z"
   },
   {
    "duration": 42,
    "start_time": "2024-10-25T19:43:55.782Z"
   },
   {
    "duration": 33,
    "start_time": "2024-10-25T19:43:55.826Z"
   },
   {
    "duration": 24,
    "start_time": "2024-10-25T19:43:55.861Z"
   },
   {
    "duration": 137,
    "start_time": "2024-10-25T19:43:55.887Z"
   },
   {
    "duration": 635,
    "start_time": "2024-10-25T19:43:56.026Z"
   },
   {
    "duration": 2,
    "start_time": "2024-10-25T19:43:56.663Z"
   },
   {
    "duration": 6,
    "start_time": "2024-10-25T19:43:56.667Z"
   },
   {
    "duration": 3,
    "start_time": "2024-10-25T19:43:56.675Z"
   },
   {
    "duration": 5,
    "start_time": "2024-10-25T19:43:56.679Z"
   },
   {
    "duration": 8,
    "start_time": "2024-10-25T19:43:56.685Z"
   },
   {
    "duration": 578,
    "start_time": "2024-10-25T19:43:56.695Z"
   },
   {
    "duration": 29,
    "start_time": "2024-10-25T19:43:57.275Z"
   },
   {
    "duration": 6,
    "start_time": "2024-10-25T19:43:57.306Z"
   },
   {
    "duration": 5,
    "start_time": "2024-10-25T19:43:57.314Z"
   },
   {
    "duration": 7,
    "start_time": "2024-10-25T19:43:57.320Z"
   },
   {
    "duration": 16,
    "start_time": "2024-10-25T19:43:57.329Z"
   },
   {
    "duration": 9,
    "start_time": "2024-10-25T19:43:57.347Z"
   },
   {
    "duration": 6,
    "start_time": "2024-10-25T19:43:57.357Z"
   },
   {
    "duration": 15,
    "start_time": "2024-10-25T19:43:57.364Z"
   },
   {
    "duration": 6,
    "start_time": "2024-10-25T19:43:57.380Z"
   },
   {
    "duration": 9,
    "start_time": "2024-10-25T19:43:57.387Z"
   },
   {
    "duration": 123,
    "start_time": "2024-10-25T19:43:57.398Z"
   },
   {
    "duration": 665,
    "start_time": "2024-10-25T19:43:57.523Z"
   },
   {
    "duration": 26,
    "start_time": "2024-10-25T19:43:58.190Z"
   },
   {
    "duration": 7,
    "start_time": "2024-10-25T19:43:58.218Z"
   },
   {
    "duration": 3,
    "start_time": "2024-10-25T19:43:58.227Z"
   },
   {
    "duration": 10,
    "start_time": "2024-10-25T19:43:58.231Z"
   },
   {
    "duration": 10,
    "start_time": "2024-10-25T19:43:58.242Z"
   },
   {
    "duration": 6,
    "start_time": "2024-10-25T19:43:58.254Z"
   },
   {
    "duration": 18,
    "start_time": "2024-10-25T19:43:58.261Z"
   },
   {
    "duration": 5,
    "start_time": "2024-10-25T19:43:58.281Z"
   },
   {
    "duration": 569,
    "start_time": "2024-10-25T19:43:58.288Z"
   },
   {
    "duration": 16,
    "start_time": "2024-10-25T19:43:58.859Z"
   },
   {
    "duration": 17,
    "start_time": "2024-10-25T19:43:58.876Z"
   },
   {
    "duration": 8,
    "start_time": "2024-10-25T19:43:58.894Z"
   },
   {
    "duration": 4,
    "start_time": "2024-10-25T19:43:58.918Z"
   },
   {
    "duration": 7,
    "start_time": "2024-10-25T19:43:58.924Z"
   },
   {
    "duration": 5,
    "start_time": "2024-10-25T19:43:58.932Z"
   },
   {
    "duration": 20,
    "start_time": "2024-10-25T19:43:58.939Z"
   },
   {
    "duration": 15,
    "start_time": "2024-10-25T19:43:58.966Z"
   },
   {
    "duration": 10,
    "start_time": "2024-10-25T19:43:58.983Z"
   },
   {
    "duration": 28,
    "start_time": "2024-10-25T19:43:58.994Z"
   },
   {
    "duration": 2215,
    "start_time": "2024-10-25T19:43:59.024Z"
   },
   {
    "duration": 4,
    "start_time": "2024-10-25T19:44:01.241Z"
   },
   {
    "duration": 18,
    "start_time": "2024-10-25T19:44:01.247Z"
   },
   {
    "duration": 9,
    "start_time": "2024-10-25T19:44:01.266Z"
   },
   {
    "duration": 12,
    "start_time": "2024-10-25T19:44:01.276Z"
   },
   {
    "duration": 11,
    "start_time": "2024-10-25T19:44:01.290Z"
   },
   {
    "duration": 13,
    "start_time": "2024-10-25T19:44:01.303Z"
   },
   {
    "duration": 6,
    "start_time": "2024-10-25T19:44:01.317Z"
   },
   {
    "duration": 11,
    "start_time": "2024-10-25T19:44:01.324Z"
   },
   {
    "duration": 8,
    "start_time": "2024-10-25T19:44:01.336Z"
   },
   {
    "duration": 30,
    "start_time": "2024-10-25T19:44:01.346Z"
   },
   {
    "duration": 9,
    "start_time": "2024-10-25T19:44:01.377Z"
   },
   {
    "duration": 7,
    "start_time": "2024-10-25T19:44:01.388Z"
   },
   {
    "duration": 32,
    "start_time": "2024-10-25T19:44:01.397Z"
   },
   {
    "duration": 3687,
    "start_time": "2024-10-25T19:44:01.431Z"
   },
   {
    "duration": 0,
    "start_time": "2024-10-25T19:44:05.120Z"
   },
   {
    "duration": 0,
    "start_time": "2024-10-25T19:44:05.121Z"
   },
   {
    "duration": 9,
    "start_time": "2024-10-25T19:51:58.968Z"
   },
   {
    "duration": 54927,
    "start_time": "2024-10-25T19:51:58.979Z"
   },
   {
    "duration": 2204,
    "start_time": "2024-10-25T19:52:53.908Z"
   },
   {
    "duration": 4,
    "start_time": "2024-10-25T19:52:56.114Z"
   },
   {
    "duration": 32,
    "start_time": "2024-10-25T19:52:56.120Z"
   },
   {
    "duration": 22,
    "start_time": "2024-10-25T19:52:56.154Z"
   },
   {
    "duration": 5,
    "start_time": "2024-10-25T19:52:56.179Z"
   },
   {
    "duration": 8,
    "start_time": "2024-10-25T19:52:56.185Z"
   },
   {
    "duration": 39,
    "start_time": "2024-10-25T19:52:56.194Z"
   },
   {
    "duration": 17,
    "start_time": "2024-10-25T19:52:56.235Z"
   },
   {
    "duration": 9,
    "start_time": "2024-10-25T19:52:56.254Z"
   },
   {
    "duration": 8,
    "start_time": "2024-10-25T19:52:56.264Z"
   },
   {
    "duration": 12,
    "start_time": "2024-10-25T19:52:56.274Z"
   },
   {
    "duration": 7,
    "start_time": "2024-10-25T19:52:56.289Z"
   },
   {
    "duration": 20,
    "start_time": "2024-10-25T19:52:56.298Z"
   },
   {
    "duration": 11,
    "start_time": "2024-10-25T19:52:56.320Z"
   },
   {
    "duration": 41,
    "start_time": "2024-10-25T19:52:56.333Z"
   },
   {
    "duration": 8,
    "start_time": "2024-10-25T19:52:56.377Z"
   },
   {
    "duration": 23,
    "start_time": "2024-10-25T19:52:56.387Z"
   },
   {
    "duration": 131,
    "start_time": "2024-10-25T19:52:56.411Z"
   },
   {
    "duration": 74,
    "start_time": "2024-10-25T19:52:56.544Z"
   },
   {
    "duration": 122,
    "start_time": "2024-10-25T19:52:56.620Z"
   },
   {
    "duration": 7,
    "start_time": "2024-10-25T19:52:56.744Z"
   },
   {
    "duration": 203,
    "start_time": "2024-10-25T19:52:56.818Z"
   },
   {
    "duration": 663,
    "start_time": "2024-10-25T19:52:57.023Z"
   },
   {
    "duration": 708,
    "start_time": "2024-10-25T19:52:57.688Z"
   },
   {
    "duration": 297,
    "start_time": "2024-10-25T19:52:58.399Z"
   },
   {
    "duration": 588,
    "start_time": "2024-10-25T19:52:58.698Z"
   },
   {
    "duration": 600,
    "start_time": "2024-10-25T19:52:59.288Z"
   },
   {
    "duration": 612,
    "start_time": "2024-10-25T19:52:59.890Z"
   },
   {
    "duration": 316,
    "start_time": "2024-10-25T19:53:00.504Z"
   },
   {
    "duration": 6,
    "start_time": "2024-10-25T19:53:00.822Z"
   },
   {
    "duration": 191,
    "start_time": "2024-10-25T19:53:00.829Z"
   },
   {
    "duration": 642,
    "start_time": "2024-10-25T19:53:01.022Z"
   },
   {
    "duration": 394,
    "start_time": "2024-10-25T19:53:01.666Z"
   },
   {
    "duration": 617,
    "start_time": "2024-10-25T19:53:02.063Z"
   },
   {
    "duration": 386,
    "start_time": "2024-10-25T19:53:02.683Z"
   },
   {
    "duration": 777,
    "start_time": "2024-10-25T19:53:03.071Z"
   },
   {
    "duration": 31,
    "start_time": "2024-10-25T19:53:03.850Z"
   },
   {
    "duration": 7,
    "start_time": "2024-10-25T19:53:03.882Z"
   },
   {
    "duration": 15,
    "start_time": "2024-10-25T19:53:03.896Z"
   },
   {
    "duration": 42,
    "start_time": "2024-10-25T19:53:03.912Z"
   },
   {
    "duration": 8,
    "start_time": "2024-10-25T19:53:03.955Z"
   },
   {
    "duration": 37,
    "start_time": "2024-10-25T19:53:03.964Z"
   },
   {
    "duration": 21,
    "start_time": "2024-10-25T19:53:04.003Z"
   },
   {
    "duration": 108,
    "start_time": "2024-10-25T19:53:04.026Z"
   },
   {
    "duration": 624,
    "start_time": "2024-10-25T19:53:04.136Z"
   },
   {
    "duration": 2,
    "start_time": "2024-10-25T19:53:04.762Z"
   },
   {
    "duration": 31,
    "start_time": "2024-10-25T19:53:04.766Z"
   },
   {
    "duration": 24,
    "start_time": "2024-10-25T19:53:04.798Z"
   },
   {
    "duration": 31,
    "start_time": "2024-10-25T19:53:04.823Z"
   },
   {
    "duration": 10,
    "start_time": "2024-10-25T19:53:04.856Z"
   },
   {
    "duration": 650,
    "start_time": "2024-10-25T19:53:04.868Z"
   },
   {
    "duration": 29,
    "start_time": "2024-10-25T19:53:05.520Z"
   },
   {
    "duration": 7,
    "start_time": "2024-10-25T19:53:05.551Z"
   },
   {
    "duration": 25,
    "start_time": "2024-10-25T19:53:05.559Z"
   },
   {
    "duration": 9,
    "start_time": "2024-10-25T19:53:05.586Z"
   },
   {
    "duration": 15,
    "start_time": "2024-10-25T19:53:05.596Z"
   },
   {
    "duration": 21,
    "start_time": "2024-10-25T19:53:05.613Z"
   },
   {
    "duration": 25,
    "start_time": "2024-10-25T19:53:05.636Z"
   },
   {
    "duration": 23,
    "start_time": "2024-10-25T19:53:05.663Z"
   },
   {
    "duration": 34,
    "start_time": "2024-10-25T19:53:05.688Z"
   },
   {
    "duration": 38,
    "start_time": "2024-10-25T19:53:05.723Z"
   },
   {
    "duration": 83,
    "start_time": "2024-10-25T19:53:05.763Z"
   },
   {
    "duration": 736,
    "start_time": "2024-10-25T19:53:05.848Z"
   },
   {
    "duration": 40,
    "start_time": "2024-10-25T19:53:06.586Z"
   },
   {
    "duration": 6,
    "start_time": "2024-10-25T19:53:06.628Z"
   },
   {
    "duration": 31,
    "start_time": "2024-10-25T19:53:06.636Z"
   },
   {
    "duration": 16,
    "start_time": "2024-10-25T19:53:06.669Z"
   },
   {
    "duration": 11,
    "start_time": "2024-10-25T19:53:06.686Z"
   },
   {
    "duration": 33,
    "start_time": "2024-10-25T19:53:06.699Z"
   },
   {
    "duration": 23,
    "start_time": "2024-10-25T19:53:06.733Z"
   },
   {
    "duration": 5,
    "start_time": "2024-10-25T19:53:06.758Z"
   },
   {
    "duration": 595,
    "start_time": "2024-10-25T19:53:06.765Z"
   },
   {
    "duration": 16,
    "start_time": "2024-10-25T19:53:07.361Z"
   },
   {
    "duration": 13,
    "start_time": "2024-10-25T19:53:07.378Z"
   },
   {
    "duration": 26,
    "start_time": "2024-10-25T19:53:07.392Z"
   },
   {
    "duration": 26,
    "start_time": "2024-10-25T19:53:07.420Z"
   },
   {
    "duration": 14,
    "start_time": "2024-10-25T19:53:07.448Z"
   },
   {
    "duration": 12,
    "start_time": "2024-10-25T19:53:07.464Z"
   },
   {
    "duration": 21,
    "start_time": "2024-10-25T19:53:07.478Z"
   },
   {
    "duration": 22,
    "start_time": "2024-10-25T19:53:07.501Z"
   },
   {
    "duration": 17,
    "start_time": "2024-10-25T19:53:07.524Z"
   },
   {
    "duration": 22,
    "start_time": "2024-10-25T19:53:07.543Z"
   },
   {
    "duration": 2320,
    "start_time": "2024-10-25T19:53:07.567Z"
   },
   {
    "duration": 4,
    "start_time": "2024-10-25T19:53:09.890Z"
   },
   {
    "duration": 10,
    "start_time": "2024-10-25T19:53:09.896Z"
   },
   {
    "duration": 17,
    "start_time": "2024-10-25T19:53:09.908Z"
   },
   {
    "duration": 7,
    "start_time": "2024-10-25T19:53:09.927Z"
   },
   {
    "duration": 4,
    "start_time": "2024-10-25T19:53:09.936Z"
   },
   {
    "duration": 4,
    "start_time": "2024-10-25T19:53:09.942Z"
   },
   {
    "duration": 4,
    "start_time": "2024-10-25T19:53:09.948Z"
   },
   {
    "duration": 25,
    "start_time": "2024-10-25T19:53:09.955Z"
   },
   {
    "duration": 4,
    "start_time": "2024-10-25T19:53:09.982Z"
   },
   {
    "duration": 6,
    "start_time": "2024-10-25T19:53:09.988Z"
   },
   {
    "duration": 6,
    "start_time": "2024-10-25T19:53:09.995Z"
   },
   {
    "duration": 41,
    "start_time": "2024-10-25T19:53:10.003Z"
   },
   {
    "duration": 45,
    "start_time": "2024-10-25T19:53:10.045Z"
   },
   {
    "duration": 1121321,
    "start_time": "2024-10-25T19:53:10.092Z"
   },
   {
    "duration": 5,
    "start_time": "2024-10-25T20:11:51.418Z"
   },
   {
    "duration": 21,
    "start_time": "2024-10-25T20:11:51.424Z"
   },
   {
    "duration": 31,
    "start_time": "2024-10-25T20:14:28.497Z"
   },
   {
    "duration": 3,
    "start_time": "2024-10-25T20:16:54.509Z"
   },
   {
    "duration": 12,
    "start_time": "2024-10-25T20:16:54.919Z"
   },
   {
    "duration": 4,
    "start_time": "2024-10-25T20:16:55.359Z"
   },
   {
    "duration": 992,
    "start_time": "2024-10-25T20:16:55.723Z"
   },
   {
    "duration": 2,
    "start_time": "2024-10-25T20:20:55.586Z"
   },
   {
    "duration": 12,
    "start_time": "2024-10-25T20:20:56.089Z"
   },
   {
    "duration": 3,
    "start_time": "2024-10-25T20:20:56.553Z"
   },
   {
    "duration": 1146,
    "start_time": "2024-10-25T20:20:57.449Z"
   },
   {
    "duration": 1126,
    "start_time": "2024-10-25T20:26:37.358Z"
   },
   {
    "duration": 66,
    "start_time": "2024-10-25T20:30:25.916Z"
   },
   {
    "duration": 1144,
    "start_time": "2024-10-25T20:30:33.942Z"
   },
   {
    "duration": 998,
    "start_time": "2024-10-25T20:30:43.127Z"
   },
   {
    "duration": 179,
    "start_time": "2024-10-25T20:31:33.999Z"
   },
   {
    "duration": 1235,
    "start_time": "2024-10-25T20:32:58.401Z"
   },
   {
    "duration": 18,
    "start_time": "2024-10-25T20:40:48.227Z"
   },
   {
    "duration": 14,
    "start_time": "2024-10-25T20:41:02.919Z"
   },
   {
    "duration": 15,
    "start_time": "2024-10-25T20:41:16.588Z"
   },
   {
    "duration": 1415,
    "start_time": "2024-10-25T20:41:43.493Z"
   },
   {
    "duration": 888,
    "start_time": "2024-10-25T20:43:07.364Z"
   },
   {
    "duration": 964,
    "start_time": "2024-10-25T20:43:22.691Z"
   },
   {
    "duration": 931,
    "start_time": "2024-10-25T20:44:59.697Z"
   },
   {
    "duration": 896,
    "start_time": "2024-10-25T20:46:09.751Z"
   },
   {
    "duration": 1131,
    "start_time": "2024-10-25T20:51:22.026Z"
   },
   {
    "duration": 936,
    "start_time": "2024-10-25T20:52:37.077Z"
   },
   {
    "duration": 958,
    "start_time": "2024-10-25T20:52:50.446Z"
   },
   {
    "duration": 585,
    "start_time": "2024-10-25T20:54:57.022Z"
   },
   {
    "duration": 1232,
    "start_time": "2024-10-25T20:56:56.188Z"
   },
   {
    "duration": 1217,
    "start_time": "2024-10-25T20:58:28.620Z"
   },
   {
    "duration": 36,
    "start_time": "2024-10-25T20:59:29.155Z"
   },
   {
    "duration": 1501,
    "start_time": "2024-10-25T21:00:34.204Z"
   },
   {
    "duration": 1064,
    "start_time": "2024-10-25T21:01:06.516Z"
   },
   {
    "duration": 1020,
    "start_time": "2024-10-25T21:01:52.732Z"
   },
   {
    "duration": 13,
    "start_time": "2024-10-25T21:08:14.470Z"
   },
   {
    "duration": 879,
    "start_time": "2024-10-25T21:08:24.856Z"
   },
   {
    "duration": 36,
    "start_time": "2024-10-25T21:08:28.193Z"
   },
   {
    "duration": 14,
    "start_time": "2024-10-25T21:08:29.543Z"
   },
   {
    "duration": 5,
    "start_time": "2024-10-25T21:08:30.033Z"
   },
   {
    "duration": 6,
    "start_time": "2024-10-25T21:08:30.513Z"
   },
   {
    "duration": 6,
    "start_time": "2024-10-25T21:08:31.041Z"
   },
   {
    "duration": 5,
    "start_time": "2024-10-25T21:08:31.458Z"
   },
   {
    "duration": 5,
    "start_time": "2024-10-25T21:08:35.304Z"
   },
   {
    "duration": 4,
    "start_time": "2024-10-25T21:08:35.799Z"
   },
   {
    "duration": 3,
    "start_time": "2024-10-25T21:08:36.271Z"
   },
   {
    "duration": 4,
    "start_time": "2024-10-25T21:08:36.709Z"
   },
   {
    "duration": 4,
    "start_time": "2024-10-25T21:08:37.145Z"
   },
   {
    "duration": 360,
    "start_time": "2024-10-25T21:08:39.577Z"
   },
   {
    "duration": 351,
    "start_time": "2024-10-25T21:08:41.931Z"
   },
   {
    "duration": 422,
    "start_time": "2024-10-25T21:11:37.558Z"
   },
   {
    "duration": 354,
    "start_time": "2024-10-25T21:13:04.897Z"
   },
   {
    "duration": 18,
    "start_time": "2024-10-25T21:15:31.863Z"
   },
   {
    "duration": 16,
    "start_time": "2024-10-25T21:17:48.632Z"
   },
   {
    "duration": 18,
    "start_time": "2024-10-25T21:17:51.217Z"
   },
   {
    "duration": 521,
    "start_time": "2024-10-25T21:18:49.010Z"
   },
   {
    "duration": 351,
    "start_time": "2024-10-25T21:20:05.511Z"
   },
   {
    "duration": 388,
    "start_time": "2024-10-25T21:20:41.447Z"
   },
   {
    "duration": 348,
    "start_time": "2024-10-25T21:21:54.520Z"
   },
   {
    "duration": 49,
    "start_time": "2024-10-27T11:10:08.143Z"
   },
   {
    "duration": 8,
    "start_time": "2024-10-27T11:10:21.859Z"
   },
   {
    "duration": 78566,
    "start_time": "2024-10-27T11:10:21.869Z"
   },
   {
    "duration": 2312,
    "start_time": "2024-10-27T11:11:40.437Z"
   },
   {
    "duration": 3,
    "start_time": "2024-10-27T11:11:42.751Z"
   },
   {
    "duration": 63,
    "start_time": "2024-10-27T11:11:42.756Z"
   },
   {
    "duration": 6,
    "start_time": "2024-10-27T11:11:42.821Z"
   },
   {
    "duration": 8,
    "start_time": "2024-10-27T11:11:42.829Z"
   },
   {
    "duration": 4,
    "start_time": "2024-10-27T11:11:42.838Z"
   },
   {
    "duration": 152,
    "start_time": "2024-10-27T11:11:42.844Z"
   },
   {
    "duration": 18,
    "start_time": "2024-10-27T11:11:42.998Z"
   },
   {
    "duration": 4,
    "start_time": "2024-10-27T11:11:43.017Z"
   },
   {
    "duration": 5,
    "start_time": "2024-10-27T11:11:43.023Z"
   },
   {
    "duration": 12,
    "start_time": "2024-10-27T11:11:43.030Z"
   },
   {
    "duration": 22,
    "start_time": "2024-10-27T11:11:43.043Z"
   },
   {
    "duration": 9,
    "start_time": "2024-10-27T11:11:43.067Z"
   },
   {
    "duration": 22,
    "start_time": "2024-10-27T11:11:43.077Z"
   },
   {
    "duration": 21,
    "start_time": "2024-10-27T11:11:43.100Z"
   },
   {
    "duration": 13,
    "start_time": "2024-10-27T11:11:43.122Z"
   },
   {
    "duration": 25,
    "start_time": "2024-10-27T11:11:43.137Z"
   },
   {
    "duration": 244,
    "start_time": "2024-10-27T11:11:43.164Z"
   },
   {
    "duration": 6,
    "start_time": "2024-10-27T11:11:43.409Z"
   },
   {
    "duration": 99,
    "start_time": "2024-10-27T11:11:43.416Z"
   },
   {
    "duration": 7,
    "start_time": "2024-10-27T11:11:43.517Z"
   },
   {
    "duration": 125,
    "start_time": "2024-10-27T11:11:43.598Z"
   },
   {
    "duration": 740,
    "start_time": "2024-10-27T11:11:43.725Z"
   },
   {
    "duration": 304,
    "start_time": "2024-10-27T11:11:44.466Z"
   },
   {
    "duration": 644,
    "start_time": "2024-10-27T11:11:44.798Z"
   },
   {
    "duration": 579,
    "start_time": "2024-10-27T11:11:45.447Z"
   },
   {
    "duration": 296,
    "start_time": "2024-10-27T11:11:46.028Z"
   },
   {
    "duration": 6,
    "start_time": "2024-10-27T11:11:46.325Z"
   },
   {
    "duration": 179,
    "start_time": "2024-10-27T11:11:46.332Z"
   },
   {
    "duration": 424,
    "start_time": "2024-10-27T11:11:46.514Z"
   },
   {
    "duration": 374,
    "start_time": "2024-10-27T11:11:46.940Z"
   },
   {
    "duration": 557,
    "start_time": "2024-10-27T11:11:47.316Z"
   },
   {
    "duration": 155,
    "start_time": "2024-10-27T11:11:47.875Z"
   },
   {
    "duration": 7,
    "start_time": "2024-10-27T11:11:48.031Z"
   },
   {
    "duration": 7,
    "start_time": "2024-10-27T11:11:48.040Z"
   },
   {
    "duration": 8,
    "start_time": "2024-10-27T11:11:48.048Z"
   },
   {
    "duration": 9,
    "start_time": "2024-10-27T11:11:48.057Z"
   },
   {
    "duration": 6,
    "start_time": "2024-10-27T11:11:48.068Z"
   },
   {
    "duration": 7,
    "start_time": "2024-10-27T11:11:48.076Z"
   },
   {
    "duration": 118,
    "start_time": "2024-10-27T11:11:48.084Z"
   },
   {
    "duration": 644,
    "start_time": "2024-10-27T11:11:48.203Z"
   },
   {
    "duration": 3,
    "start_time": "2024-10-27T11:11:48.848Z"
   },
   {
    "duration": 13,
    "start_time": "2024-10-27T11:11:48.852Z"
   },
   {
    "duration": 16,
    "start_time": "2024-10-27T11:11:48.866Z"
   },
   {
    "duration": 15,
    "start_time": "2024-10-27T11:11:48.884Z"
   },
   {
    "duration": 13,
    "start_time": "2024-10-27T11:11:48.901Z"
   },
   {
    "duration": 563,
    "start_time": "2024-10-27T11:11:48.915Z"
   },
   {
    "duration": 127,
    "start_time": "2024-10-27T11:11:49.480Z"
   },
   {
    "duration": 8,
    "start_time": "2024-10-27T11:11:49.608Z"
   },
   {
    "duration": 4,
    "start_time": "2024-10-27T11:11:49.618Z"
   },
   {
    "duration": 7,
    "start_time": "2024-10-27T11:11:49.624Z"
   },
   {
    "duration": 20,
    "start_time": "2024-10-27T11:11:49.632Z"
   },
   {
    "duration": 12,
    "start_time": "2024-10-27T11:11:49.654Z"
   },
   {
    "duration": 13,
    "start_time": "2024-10-27T11:11:49.667Z"
   },
   {
    "duration": 18,
    "start_time": "2024-10-27T11:11:49.682Z"
   },
   {
    "duration": 15,
    "start_time": "2024-10-27T11:11:49.702Z"
   },
   {
    "duration": 7,
    "start_time": "2024-10-27T11:11:49.719Z"
   },
   {
    "duration": 82,
    "start_time": "2024-10-27T11:11:49.727Z"
   },
   {
    "duration": 763,
    "start_time": "2024-10-27T11:11:49.811Z"
   },
   {
    "duration": 112,
    "start_time": "2024-10-27T11:11:50.576Z"
   },
   {
    "duration": 7,
    "start_time": "2024-10-27T11:11:50.690Z"
   },
   {
    "duration": 9,
    "start_time": "2024-10-27T11:11:50.698Z"
   },
   {
    "duration": 13,
    "start_time": "2024-10-27T11:11:50.709Z"
   },
   {
    "duration": 7,
    "start_time": "2024-10-27T11:11:50.724Z"
   },
   {
    "duration": 60,
    "start_time": "2024-10-27T11:11:50.733Z"
   },
   {
    "duration": 31,
    "start_time": "2024-10-27T11:11:50.794Z"
   },
   {
    "duration": 6,
    "start_time": "2024-10-27T11:11:50.826Z"
   },
   {
    "duration": 530,
    "start_time": "2024-10-27T11:11:50.833Z"
   },
   {
    "duration": 16,
    "start_time": "2024-10-27T11:11:51.365Z"
   },
   {
    "duration": 24,
    "start_time": "2024-10-27T11:11:51.383Z"
   },
   {
    "duration": 10,
    "start_time": "2024-10-27T11:11:51.409Z"
   },
   {
    "duration": 8,
    "start_time": "2024-10-27T11:11:51.421Z"
   },
   {
    "duration": 11,
    "start_time": "2024-10-27T11:11:51.430Z"
   },
   {
    "duration": 33,
    "start_time": "2024-10-27T11:11:51.443Z"
   },
   {
    "duration": 11,
    "start_time": "2024-10-27T11:11:51.477Z"
   },
   {
    "duration": 31,
    "start_time": "2024-10-27T11:11:51.489Z"
   },
   {
    "duration": 15,
    "start_time": "2024-10-27T11:11:51.522Z"
   },
   {
    "duration": 9,
    "start_time": "2024-10-27T11:11:51.539Z"
   },
   {
    "duration": 2141,
    "start_time": "2024-10-27T11:11:51.549Z"
   },
   {
    "duration": 4,
    "start_time": "2024-10-27T11:11:53.697Z"
   },
   {
    "duration": 14,
    "start_time": "2024-10-27T11:11:53.703Z"
   },
   {
    "duration": 4,
    "start_time": "2024-10-27T11:11:53.719Z"
   },
   {
    "duration": 10,
    "start_time": "2024-10-27T11:11:53.724Z"
   },
   {
    "duration": 7,
    "start_time": "2024-10-27T11:11:53.736Z"
   },
   {
    "duration": 3,
    "start_time": "2024-10-27T11:11:53.744Z"
   },
   {
    "duration": 4,
    "start_time": "2024-10-27T11:11:53.749Z"
   },
   {
    "duration": 4,
    "start_time": "2024-10-27T11:11:53.755Z"
   },
   {
    "duration": 6,
    "start_time": "2024-10-27T11:11:53.760Z"
   },
   {
    "duration": 5,
    "start_time": "2024-10-27T11:11:53.767Z"
   },
   {
    "duration": 6,
    "start_time": "2024-10-27T11:11:53.774Z"
   },
   {
    "duration": 6,
    "start_time": "2024-10-27T11:11:53.798Z"
   },
   {
    "duration": 20,
    "start_time": "2024-10-27T11:11:53.806Z"
   },
   {
    "duration": 1102911,
    "start_time": "2024-10-27T11:11:53.828Z"
   },
   {
    "duration": 4,
    "start_time": "2024-10-27T11:30:16.741Z"
   },
   {
    "duration": 19,
    "start_time": "2024-10-27T11:30:16.747Z"
   },
   {
    "duration": 48,
    "start_time": "2024-10-27T11:30:16.768Z"
   },
   {
    "duration": 3,
    "start_time": "2024-10-27T11:30:16.817Z"
   },
   {
    "duration": 39,
    "start_time": "2024-10-27T11:30:16.822Z"
   },
   {
    "duration": 3,
    "start_time": "2024-10-27T11:30:16.863Z"
   },
   {
    "duration": 1068,
    "start_time": "2024-10-27T11:30:16.868Z"
   },
   {
    "duration": 162,
    "start_time": "2024-10-27T11:30:17.938Z"
   },
   {
    "duration": 14,
    "start_time": "2024-10-27T11:30:18.101Z"
   },
   {
    "duration": 12,
    "start_time": "2024-10-27T11:30:18.117Z"
   },
   {
    "duration": 6,
    "start_time": "2024-10-27T11:30:18.131Z"
   },
   {
    "duration": 8,
    "start_time": "2024-10-27T11:30:18.138Z"
   },
   {
    "duration": 9,
    "start_time": "2024-10-27T11:30:18.148Z"
   },
   {
    "duration": 5,
    "start_time": "2024-10-27T11:30:18.158Z"
   },
   {
    "duration": 33,
    "start_time": "2024-10-27T11:30:18.165Z"
   },
   {
    "duration": 4,
    "start_time": "2024-10-27T11:30:18.200Z"
   },
   {
    "duration": 18,
    "start_time": "2024-10-27T11:30:18.205Z"
   },
   {
    "duration": 6,
    "start_time": "2024-10-27T11:30:18.225Z"
   },
   {
    "duration": 399,
    "start_time": "2024-10-27T11:30:18.233Z"
   },
   {
    "duration": 623,
    "start_time": "2024-10-27T11:30:18.634Z"
   },
   {
    "duration": 67,
    "start_time": "2024-10-27T11:46:59.228Z"
   }
  ],
  "colab": {
   "provenance": []
  },
  "kernelspec": {
   "display_name": "Python 3 (ipykernel)",
   "language": "python",
   "name": "python3"
  },
  "language_info": {
   "codemirror_mode": {
    "name": "ipython",
    "version": 3
   },
   "file_extension": ".py",
   "mimetype": "text/x-python",
   "name": "python",
   "nbconvert_exporter": "python",
   "pygments_lexer": "ipython3",
   "version": "3.9.19"
  },
  "toc": {
   "base_numbering": 1,
   "nav_menu": {},
   "number_sections": true,
   "sideBar": true,
   "skip_h1_title": true,
   "title_cell": "Table of Contents",
   "title_sidebar": "Contents",
   "toc_cell": false,
   "toc_position": {},
   "toc_section_display": true,
   "toc_window_display": false
  }
 },
 "nbformat": 4,
 "nbformat_minor": 4
}
