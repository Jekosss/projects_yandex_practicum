{
 "cells": [
  {
   "cell_type": "markdown",
   "id": "f22196f3-c002-42d8-9bf5-15b49bde2691",
   "metadata": {},
   "source": [
    "# Прогнозирование заказов такси 🚕"
   ]
  },
  {
   "cell_type": "markdown",
   "id": "0996bf2b-9e63-4824-83c6-768e3aa51d23",
   "metadata": {},
   "source": [
    "**Описание проекта:** Компания «Чётенькое такси» собрала исторические данные о заказах такси в аэропортах. Чтобы привлекать больше водителей в период пиковой нагрузки, нужно спрогнозировать количество заказов такси на следующий час."
   ]
  },
  {
   "cell_type": "markdown",
   "id": "46e534f8-cf70-49d3-be31-cf0d24efb6a2",
   "metadata": {},
   "source": [
    "**Содержание**<a id='toc0_'></a> \n",
    "\n",
    "1. [Подготовка данных](#toc1_)                                  \n",
    "  1.1 [Установка библиотек и конфигурации](#toc1_1_)    \n",
    "  1.2 [Функции, используемые в проекте](#toc1_2_)                                                              \n",
    " \n",
    "2. [Анализ данных](#toc2_)         \n",
    "                      \n",
    "3. [Обучение моделей](#toc3_)                                                     \n",
    "  3.1 [LinearRegression](#toc3_1_)    \n",
    "  3.2 [RandomForestRegressor](#toc3_2_)                                                            \n",
    "  3.3 [LGBMRegressor](#toc3_3_)                                                            \n",
    "\n",
    "4. [Тестирование](#toc4_)                                             \n",
    "  \n",
    "5. [Вывод](#toc5_)\n",
    "\n"
   ]
  },
  {
   "cell_type": "markdown",
   "id": "8d0619e3-f1ad-4846-8942-3db96bdd364d",
   "metadata": {},
   "source": [
    "## <a id='toc1_'></a> 1. Подготовка данных[&#8593;](#toc0_)"
   ]
  },
  {
   "cell_type": "markdown",
   "id": "a3539452-b62b-4668-9dba-7ba3c6f06d61",
   "metadata": {},
   "source": [
    "### <a id='toc1_1_'></a> 1.1 Установка библиотек  и конфигурации [&#8593;](#toc0_)"
   ]
  },
  {
   "cell_type": "code",
   "execution_count": 1,
   "id": "108714d2-1f68-4488-b23c-b8de0d5a74dc",
   "metadata": {},
   "outputs": [],
   "source": [
    "from IPython.display import clear_output"
   ]
  },
  {
   "cell_type": "code",
   "execution_count": 2,
   "id": "db42d317-4496-4f77-8708-81b344bd8b45",
   "metadata": {},
   "outputs": [],
   "source": [
    "from platform import python_version\n",
    "version = python_version()\n",
    "\n",
    "if version.startswith('3.9'):  \n",
    "    pass\n",
    "    %pip install --force-reinstall -v \"numpy==1.22.4\" -q\n",
    "else: \n",
    "    pass\n",
    "    %pip install --upgrade numpy -q   \n",
    "\n",
    "%pip install --force-reinstall -v \"matplotlib==3.8.0\" -q\n",
    "\n",
    "%pip install --upgrade phik -q\n",
    "%pip install --upgrade prettytable -q\n",
    "%pip install --upgrade termcolor -q\n",
    "%pip install --upgrade seaborn -q\n",
    "%pip install --upgrade pandas -q\n",
    "%pip install --upgrade statsmodels -q\n",
    "%pip install --upgrade scikit-learn -q\n",
    "%pip install --upgrade shap -q\n",
    "%pip install --upgrade imbalanced-learn -q\n",
    "%pip install --upgrade optuna -q\n",
    "\n",
    "clear_output()"
   ]
  },
  {
   "cell_type": "code",
   "execution_count": 3,
   "id": "6e5dffbf-7310-4293-a084-04c8bb9c568c",
   "metadata": {},
   "outputs": [],
   "source": [
    "import numpy as np\n",
    "import pandas as pd\n",
    "import matplotlib.pyplot as plt\n",
    "import seaborn as sns\n",
    "import shap\n",
    "import re\n",
    "\n",
    "\n",
    "from os.path import exists\n",
    "\n",
    "# preprocessing\n",
    "from sklearn.model_selection import (\n",
    "    GridSearchCV,                                 \n",
    "    train_test_split)\n",
    "from sklearn.preprocessing import (\n",
    "    MinMaxScaler,\n",
    "    StandardScaler,\n",
    "    OneHotEncoder,\n",
    "    OrdinalEncoder)\n",
    "from sklearn.impute import (\n",
    "    SimpleImputer)\n",
    "from sklearn.pipeline import Pipeline\n",
    "from sklearn.compose import ColumnTransformer\n",
    "from statsmodels.tsa.seasonal import seasonal_decompose\n",
    "from sklearn.model_selection import TimeSeriesSplit\n",
    "\n",
    "# models\n",
    "from sklearn.linear_model import LinearRegression\n",
    "from sklearn.ensemble import RandomForestRegressor\n",
    "from lightgbm import LGBMRegressor\n",
    "# metrics\n",
    "from sklearn.metrics import root_mean_squared_error\n",
    "\n",
    "# additional tools\n",
    "from phik import phik_matrix \n",
    "from prettytable import PrettyTable\n",
    "from termcolor import colored\n",
    "from sklearn.inspection import permutation_importance"
   ]
  },
  {
   "cell_type": "code",
   "execution_count": 4,
   "id": "55bfdf34-a6e5-4be1-9537-4370bbabeecf",
   "metadata": {},
   "outputs": [],
   "source": [
    "RANDOM_STATE = 42\n",
    "TEST_SIZE = 0.2\n",
    "\n",
    "pd.options.display.float_format = '{:.2f}'.format\n",
    "pd.set_option('display.max_colwidth', None)"
   ]
  },
  {
   "cell_type": "markdown",
   "id": "3e843e00-0576-4568-ba68-5ab6d45da6e5",
   "metadata": {},
   "source": [
    "### <a id='toc1_2_'></a> 1.2 Функции, используемые в проекте [&#8593;](#toc0_)"
   ]
  },
  {
   "cell_type": "code",
   "execution_count": 5,
   "id": "cf6a57e7-f034-4826-816d-4a51e7f82ca0",
   "metadata": {},
   "outputs": [],
   "source": [
    "def get_dataframe(paths: list[str]) -> pd.DataFrame:\n",
    "    for _path in paths:\n",
    "        if not exists(_path) and not _path.startswith('http'):\n",
    "            continue\n",
    "        \n",
    "        try:\n",
    "            df = pd.read_csv(_path)\n",
    "        except:\n",
    "            continue\n",
    "        \n",
    "        if df is None:\n",
    "            continue\n",
    "        \n",
    "        return df\n",
    "    \n",
    "    raise FileNotFoundError('No paths are valid and/or for correct csv file.')"
   ]
  },
  {
   "cell_type": "code",
   "execution_count": 6,
   "id": "8089fee7-b705-46f2-b160-d6c5cc2e53f2",
   "metadata": {},
   "outputs": [],
   "source": [
    "def print_nans_table(data: pd.DataFrame) -> None:\n",
    "    table = PrettyTable()\n",
    "    table.field_names = ['Признаки', 'Пропущенное количество значений']\n",
    "    \n",
    "    missing_info = data.isna().sum().sort_values()\n",
    "    cols = missing_info.index.to_list()\n",
    "    for col in cols:\n",
    "        count = missing_info[col]\n",
    "        color = 'blue' if count == 0 else 'red'\n",
    "        s = f'{count} ({count / len(data):.1%})'\n",
    "        table.add_row([col, colored(s, color)])\n",
    "    \n",
    "    print(table)"
   ]
  },
  {
   "cell_type": "code",
   "execution_count": 7,
   "id": "a2e3f93c-c00a-43ce-bbbd-32b485d91cb8",
   "metadata": {},
   "outputs": [],
   "source": [
    "def make_features(data, max_lag, rolling_mean_size):\n",
    "    data_n = data.copy()\n",
    "    data_n['year'] = data_n.index.year\n",
    "    data_n['month'] = data_n.index.month\n",
    "    data_n['day'] = data_n.index.day\n",
    "    data_n['dayofweek'] = data_n.index.dayofweek\n",
    "    \n",
    "    for lag in range(1, max_lag + 1):\n",
    "        data_n['lag_{}'.format(lag)] = data_n['num_orders'].shift(lag)\n",
    "    data_n['rolling_mean'] = data_n['num_orders'].shift().rolling(rolling_mean_size).mean()\n",
    "    return data_n"
   ]
  },
  {
   "cell_type": "markdown",
   "id": "1b414fab-0dae-4650-a6ff-05cffb64b2bd",
   "metadata": {},
   "source": [
    "## <a id='toc2_'></a> 2. Анализ данных[&#8593;](#toc0_)"
   ]
  },
  {
   "cell_type": "markdown",
   "id": "4ba66759-c161-4f5d-a1da-9e52283cee24",
   "metadata": {},
   "source": [
    " 1. Загрузка данных "
   ]
  },
  {
   "cell_type": "code",
   "execution_count": 8,
   "id": "49896f7b-ae95-4aa2-b3f2-96c3cb0068c6",
   "metadata": {},
   "outputs": [],
   "source": [
    "df = get_dataframe(['/datasets/taxi.csv'])"
   ]
  },
  {
   "cell_type": "code",
   "execution_count": 9,
   "id": "3111b0e0-a385-4d79-8b91-9440ceccab17",
   "metadata": {},
   "outputs": [
    {
     "data": {
      "text/html": [
       "<div>\n",
       "<style scoped>\n",
       "    .dataframe tbody tr th:only-of-type {\n",
       "        vertical-align: middle;\n",
       "    }\n",
       "\n",
       "    .dataframe tbody tr th {\n",
       "        vertical-align: top;\n",
       "    }\n",
       "\n",
       "    .dataframe thead th {\n",
       "        text-align: right;\n",
       "    }\n",
       "</style>\n",
       "<table border=\"1\" class=\"dataframe\">\n",
       "  <thead>\n",
       "    <tr style=\"text-align: right;\">\n",
       "      <th></th>\n",
       "      <th>datetime</th>\n",
       "      <th>num_orders</th>\n",
       "    </tr>\n",
       "  </thead>\n",
       "  <tbody>\n",
       "    <tr>\n",
       "      <th>0</th>\n",
       "      <td>2018-03-01 00:00:00</td>\n",
       "      <td>9</td>\n",
       "    </tr>\n",
       "    <tr>\n",
       "      <th>1</th>\n",
       "      <td>2018-03-01 00:10:00</td>\n",
       "      <td>14</td>\n",
       "    </tr>\n",
       "    <tr>\n",
       "      <th>2</th>\n",
       "      <td>2018-03-01 00:20:00</td>\n",
       "      <td>28</td>\n",
       "    </tr>\n",
       "    <tr>\n",
       "      <th>3</th>\n",
       "      <td>2018-03-01 00:30:00</td>\n",
       "      <td>20</td>\n",
       "    </tr>\n",
       "    <tr>\n",
       "      <th>4</th>\n",
       "      <td>2018-03-01 00:40:00</td>\n",
       "      <td>32</td>\n",
       "    </tr>\n",
       "  </tbody>\n",
       "</table>\n",
       "</div>"
      ],
      "text/plain": [
       "              datetime  num_orders\n",
       "0  2018-03-01 00:00:00           9\n",
       "1  2018-03-01 00:10:00          14\n",
       "2  2018-03-01 00:20:00          28\n",
       "3  2018-03-01 00:30:00          20\n",
       "4  2018-03-01 00:40:00          32"
      ]
     },
     "execution_count": 9,
     "metadata": {},
     "output_type": "execute_result"
    }
   ],
   "source": [
    "df.head()"
   ]
  },
  {
   "cell_type": "markdown",
   "id": "c1f37e8f-f714-4864-9e50-3d05fe34c7c7",
   "metadata": {},
   "source": [
    "2. Посмотрим информацию о типах данных и пропусках"
   ]
  },
  {
   "cell_type": "code",
   "execution_count": 10,
   "id": "1e6a8e08-2313-4a4c-baef-bb43a21f9438",
   "metadata": {},
   "outputs": [
    {
     "name": "stdout",
     "output_type": "stream",
     "text": [
      "<class 'pandas.core.frame.DataFrame'>\n",
      "RangeIndex: 26496 entries, 0 to 26495\n",
      "Data columns (total 2 columns):\n",
      " #   Column      Non-Null Count  Dtype \n",
      "---  ------      --------------  ----- \n",
      " 0   datetime    26496 non-null  object\n",
      " 1   num_orders  26496 non-null  int64 \n",
      "dtypes: int64(1), object(1)\n",
      "memory usage: 414.1+ KB\n"
     ]
    }
   ],
   "source": [
    "df.info()"
   ]
  },
  {
   "cell_type": "code",
   "execution_count": 11,
   "id": "cbbfcfeb-dd97-4b1e-80be-2018d4c6312d",
   "metadata": {},
   "outputs": [
    {
     "name": "stdout",
     "output_type": "stream",
     "text": [
      "+------------+---------------------------------+\n",
      "|  Признаки  | Пропущенное количество значений |\n",
      "+------------+---------------------------------+\n",
      "|  datetime  |             0 (0.0%)            |\n",
      "| num_orders |             0 (0.0%)            |\n",
      "+------------+---------------------------------+\n"
     ]
    }
   ],
   "source": [
    "print_nans_table(df)"
   ]
  },
  {
   "cell_type": "markdown",
   "id": "6358e90c-53bd-4261-a6a3-481deeb8540e",
   "metadata": {},
   "source": [
    "3. Поменяем тип данных datetime:"
   ]
  },
  {
   "cell_type": "code",
   "execution_count": 12,
   "id": "51cfaeb8-19ec-433b-8522-374c17940a29",
   "metadata": {},
   "outputs": [],
   "source": [
    "df['datetime'] = df['datetime'].astype('datetime64[ns]')"
   ]
  },
  {
   "cell_type": "code",
   "execution_count": 13,
   "id": "c091fab7-5e61-468f-ab7a-b6ba9c2cc29b",
   "metadata": {},
   "outputs": [
    {
     "name": "stdout",
     "output_type": "stream",
     "text": [
      "<class 'pandas.core.frame.DataFrame'>\n",
      "RangeIndex: 26496 entries, 0 to 26495\n",
      "Data columns (total 2 columns):\n",
      " #   Column      Non-Null Count  Dtype         \n",
      "---  ------      --------------  -----         \n",
      " 0   datetime    26496 non-null  datetime64[ns]\n",
      " 1   num_orders  26496 non-null  int64         \n",
      "dtypes: datetime64[ns](1), int64(1)\n",
      "memory usage: 414.1 KB\n"
     ]
    }
   ],
   "source": [
    "df.info()"
   ]
  },
  {
   "cell_type": "markdown",
   "id": "e0cbec5d-cb2a-4dac-bc11-22ec39d8cd71",
   "metadata": {},
   "source": [
    "4. Установим дату в качестве индекса:"
   ]
  },
  {
   "cell_type": "code",
   "execution_count": 14,
   "id": "5a638d9e-9e3b-4212-ac6a-c37eb900c04b",
   "metadata": {},
   "outputs": [],
   "source": [
    "df = df.set_index('datetime')"
   ]
  },
  {
   "cell_type": "code",
   "execution_count": 15,
   "id": "28e50238-af44-4a19-86ff-e0f5f4200413",
   "metadata": {},
   "outputs": [
    {
     "name": "stdout",
     "output_type": "stream",
     "text": [
      "<class 'pandas.core.frame.DataFrame'>\n",
      "DatetimeIndex: 26496 entries, 2018-03-01 00:00:00 to 2018-08-31 23:50:00\n",
      "Data columns (total 1 columns):\n",
      " #   Column      Non-Null Count  Dtype\n",
      "---  ------      --------------  -----\n",
      " 0   num_orders  26496 non-null  int64\n",
      "dtypes: int64(1)\n",
      "memory usage: 414.0 KB\n"
     ]
    }
   ],
   "source": [
    "df.info()"
   ]
  },
  {
   "cell_type": "code",
   "execution_count": 16,
   "id": "7ad65d4c-bd7e-441b-848e-86991818a94f",
   "metadata": {},
   "outputs": [],
   "source": [
    "df = df.sort_index()"
   ]
  },
  {
   "cell_type": "code",
   "execution_count": 17,
   "id": "b320f554-240e-4181-be4f-1d8e6d5bb0a1",
   "metadata": {},
   "outputs": [
    {
     "data": {
      "text/plain": [
       "True"
      ]
     },
     "execution_count": 17,
     "metadata": {},
     "output_type": "execute_result"
    }
   ],
   "source": [
    "df.index.is_monotonic_increasing"
   ]
  },
  {
   "cell_type": "markdown",
   "id": "421b76a4-178e-4128-90b5-dff3f4653d0c",
   "metadata": {},
   "source": [
    "4. Построим график ряда:"
   ]
  },
  {
   "cell_type": "code",
   "execution_count": 18,
   "id": "47bab3a6-d311-466f-bbc1-ed2a29d0e910",
   "metadata": {},
   "outputs": [
    {
     "data": {
      "text/plain": [
       "<Axes: xlabel='datetime'>"
      ]
     },
     "execution_count": 18,
     "metadata": {},
     "output_type": "execute_result"
    },
    {
     "data": {
      "image/png": "[encoded data removed]",
      "text/plain": [
       "<Figure size 432x288 with 1 Axes>"
      ]
     },
     "metadata": {
      "needs_background": "light"
     },
     "output_type": "display_data"
    }
   ],
   "source": [
    "df.plot()"
   ]
  },
  {
   "cell_type": "markdown",
   "id": "dd3f01a4-0b77-4682-b268-d00c2a56e1ba",
   "metadata": {},
   "source": [
    "5. Ресемплируем ряд по часам:"
   ]
  },
  {
   "cell_type": "code",
   "execution_count": 19,
   "id": "a10c44c5-8fa1-454e-8f1a-cec4f89f65ce",
   "metadata": {},
   "outputs": [
    {
     "data": {
      "text/plain": [
       "<Axes: xlabel='datetime'>"
      ]
     },
     "execution_count": 19,
     "metadata": {},
     "output_type": "execute_result"
    },
    {
     "data": {
      "image/png": "[encoded data removed]",
      "text/plain": [
       "<Figure size 432x288 with 1 Axes>"
      ]
     },
     "metadata": {
      "needs_background": "light"
     },
     "output_type": "display_data"
    }
   ],
   "source": [
    "df.sort_index(inplace=True)\n",
    "df =  df.resample('1h').sum()\n",
    "df.plot()"
   ]
  },
  {
   "cell_type": "code",
   "execution_count": 20,
   "id": "898ccf76-bdf1-41a9-861c-f6aa3a11b084",
   "metadata": {},
   "outputs": [
    {
     "name": "stdout",
     "output_type": "stream",
     "text": [
      "<class 'pandas.core.frame.DataFrame'>\n",
      "DatetimeIndex: 4416 entries, 2018-03-01 00:00:00 to 2018-08-31 23:00:00\n",
      "Freq: h\n",
      "Data columns (total 1 columns):\n",
      " #   Column      Non-Null Count  Dtype\n",
      "---  ------      --------------  -----\n",
      " 0   num_orders  4416 non-null   int64\n",
      "dtypes: int64(1)\n",
      "memory usage: 69.0 KB\n"
     ]
    }
   ],
   "source": [
    "df.info()"
   ]
  },
  {
   "cell_type": "markdown",
   "id": "a286176e-7938-49f2-acfa-29943f0ee85a",
   "metadata": {},
   "source": [
    "Уменьшили количество строк более чем в 6 раз и теперь на графике видим восходящий тренд к концу лета 2018"
   ]
  },
  {
   "cell_type": "markdown",
   "id": "1f84e746-87c1-4754-8e8f-794979c871ee",
   "metadata": {},
   "source": [
    "6. Разложим ряд на тренд и сезонную компоненту\n"
   ]
  },
  {
   "cell_type": "code",
   "execution_count": 21,
   "id": "e431b0d2-6138-4c5c-b968-64c4f4f72b0f",
   "metadata": {},
   "outputs": [
    {
     "data": {
      "image/png": "[encoded data removed]",
      "text/plain": [
       "<Figure size 432x576 with 3 Axes>"
      ]
     },
     "metadata": {
      "needs_background": "light"
     },
     "output_type": "display_data"
    }
   ],
   "source": [
    "decomposed = seasonal_decompose(df)\n",
    "\n",
    "plt.figure(figsize=(6, 8))\n",
    "plt.subplot(311)\n",
    "decomposed.trend.plot(ax=plt.gca())\n",
    "plt.title('Trend')\n",
    "plt.subplot(312)\n",
    "decomposed.seasonal.plot(ax=plt.gca()) \n",
    "plt.title('Seasonality')\n",
    "plt.subplot(313)\n",
    "decomposed.resid.plot(ax=plt.gca())\n",
    "plt.title('Residuals')\n",
    "plt.tight_layout()"
   ]
  },
  {
   "cell_type": "code",
   "execution_count": 22,
   "id": "d36f61ea-442e-4b4f-84e5-31fb0d9bc1a7",
   "metadata": {},
   "outputs": [
    {
     "data": {
      "text/plain": [
       "<Axes: xlabel='datetime'>"
      ]
     },
     "execution_count": 22,
     "metadata": {},
     "output_type": "execute_result"
    },
    {
     "data": {
      "image/png": "[encoded data removed]",
      "text/plain": [
       "<Figure size 432x288 with 1 Axes>"
      ]
     },
     "metadata": {
      "needs_background": "light"
     },
     "output_type": "display_data"
    }
   ],
   "source": [
    "decomposed.seasonal['2018-03-01':'2018-03-15'].plot(ax=plt.gca())"
   ]
  },
  {
   "cell_type": "markdown",
   "id": "6bbc96e6-1862-45a8-96d6-2f2730cf0909",
   "metadata": {},
   "source": [
    "Тренд восходящий, в чем мы еще раз убедились. Сезонность определяется сутками. Про остатки ничего нельзя сказать"
   ]
  },
  {
   "cell_type": "markdown",
   "id": "add15090-84c7-45d7-ab66-fd651acbdcf3",
   "metadata": {},
   "source": [
    "7. Посмотрим на распределение остатков и их медианного и среднего значений."
   ]
  },
  {
   "cell_type": "code",
   "execution_count": 23,
   "id": "d4e35ac0-004a-48de-9c55-f353b2aed038",
   "metadata": {},
   "outputs": [
    {
     "data": {
      "text/plain": [
       "<Axes: xlabel='datetime'>"
      ]
     },
     "execution_count": 23,
     "metadata": {},
     "output_type": "execute_result"
    },
    {
     "data": {
      "image/png": "[encoded data removed]",
      "text/plain": [
       "<Figure size 432x288 with 1 Axes>"
      ]
     },
     "metadata": {
      "needs_background": "light"
     },
     "output_type": "display_data"
    }
   ],
   "source": [
    "df1 = df - df.shift()# < напишите код здесь >\n",
    "df1['mean'] = df1['num_orders'].rolling(50).mean()\n",
    "df1['std'] = df1['num_orders'].rolling(50).std()\n",
    "df1.plot()"
   ]
  },
  {
   "cell_type": "markdown",
   "id": "60eb3f84-85e0-430e-b590-edcf2cec8bd8",
   "metadata": {},
   "source": [
    "Ряд вполне готов к прогнозированию в виду близости к стационарному. Среднее в std так же близко к нулевому тренду визуально."
   ]
  },
  {
   "cell_type": "markdown",
   "id": "b810663a-daf5-4442-b784-48709a52189b",
   "metadata": {},
   "source": [
    "## <a id='toc3_'></a> 3. Обучение моделей[&#8593;](#toc0_)"
   ]
  },
  {
   "cell_type": "markdown",
   "id": "3ee8a73d-ed39-4c52-8660-1b1310619f91",
   "metadata": {},
   "source": [
    "### <a id='toc3_1_'></a> 3.1 LinearRegression [&#8593;](#toc0_)"
   ]
  },
  {
   "cell_type": "code",
   "execution_count": 24,
   "id": "e5a55821",
   "metadata": {},
   "outputs": [],
   "source": [
    "df_lr = df.copy()"
   ]
  },
  {
   "cell_type": "code",
   "execution_count": 25,
   "id": "ed277883-0900-4fc6-acff-fcbcb153b4f8",
   "metadata": {},
   "outputs": [],
   "source": [
    "df_lr = make_features(df_lr, 24, 10)"
   ]
  },
  {
   "cell_type": "code",
   "execution_count": 26,
   "id": "bcec1941",
   "metadata": {},
   "outputs": [
    {
     "data": {
      "text/html": [
       "<div>\n",
       "<style scoped>\n",
       "    .dataframe tbody tr th:only-of-type {\n",
       "        vertical-align: middle;\n",
       "    }\n",
       "\n",
       "    .dataframe tbody tr th {\n",
       "        vertical-align: top;\n",
       "    }\n",
       "\n",
       "    .dataframe thead th {\n",
       "        text-align: right;\n",
       "    }\n",
       "</style>\n",
       "<table border=\"1\" class=\"dataframe\">\n",
       "  <thead>\n",
       "    <tr style=\"text-align: right;\">\n",
       "      <th></th>\n",
       "      <th>num_orders</th>\n",
       "      <th>year</th>\n",
       "      <th>month</th>\n",
       "      <th>day</th>\n",
       "      <th>dayofweek</th>\n",
       "      <th>lag_1</th>\n",
       "      <th>lag_2</th>\n",
       "      <th>lag_3</th>\n",
       "      <th>lag_4</th>\n",
       "      <th>lag_5</th>\n",
       "      <th>...</th>\n",
       "      <th>lag_16</th>\n",
       "      <th>lag_17</th>\n",
       "      <th>lag_18</th>\n",
       "      <th>lag_19</th>\n",
       "      <th>lag_20</th>\n",
       "      <th>lag_21</th>\n",
       "      <th>lag_22</th>\n",
       "      <th>lag_23</th>\n",
       "      <th>lag_24</th>\n",
       "      <th>rolling_mean</th>\n",
       "    </tr>\n",
       "    <tr>\n",
       "      <th>datetime</th>\n",
       "      <th></th>\n",
       "      <th></th>\n",
       "      <th></th>\n",
       "      <th></th>\n",
       "      <th></th>\n",
       "      <th></th>\n",
       "      <th></th>\n",
       "      <th></th>\n",
       "      <th></th>\n",
       "      <th></th>\n",
       "      <th></th>\n",
       "      <th></th>\n",
       "      <th></th>\n",
       "      <th></th>\n",
       "      <th></th>\n",
       "      <th></th>\n",
       "      <th></th>\n",
       "      <th></th>\n",
       "      <th></th>\n",
       "      <th></th>\n",
       "      <th></th>\n",
       "    </tr>\n",
       "  </thead>\n",
       "  <tbody>\n",
       "    <tr>\n",
       "      <th>2018-03-01 00:00:00</th>\n",
       "      <td>124</td>\n",
       "      <td>2018</td>\n",
       "      <td>3</td>\n",
       "      <td>1</td>\n",
       "      <td>3</td>\n",
       "      <td>NaN</td>\n",
       "      <td>NaN</td>\n",
       "      <td>NaN</td>\n",
       "      <td>NaN</td>\n",
       "      <td>NaN</td>\n",
       "      <td>...</td>\n",
       "      <td>NaN</td>\n",
       "      <td>NaN</td>\n",
       "      <td>NaN</td>\n",
       "      <td>NaN</td>\n",
       "      <td>NaN</td>\n",
       "      <td>NaN</td>\n",
       "      <td>NaN</td>\n",
       "      <td>NaN</td>\n",
       "      <td>NaN</td>\n",
       "      <td>NaN</td>\n",
       "    </tr>\n",
       "    <tr>\n",
       "      <th>2018-03-01 01:00:00</th>\n",
       "      <td>85</td>\n",
       "      <td>2018</td>\n",
       "      <td>3</td>\n",
       "      <td>1</td>\n",
       "      <td>3</td>\n",
       "      <td>124.00</td>\n",
       "      <td>NaN</td>\n",
       "      <td>NaN</td>\n",
       "      <td>NaN</td>\n",
       "      <td>NaN</td>\n",
       "      <td>...</td>\n",
       "      <td>NaN</td>\n",
       "      <td>NaN</td>\n",
       "      <td>NaN</td>\n",
       "      <td>NaN</td>\n",
       "      <td>NaN</td>\n",
       "      <td>NaN</td>\n",
       "      <td>NaN</td>\n",
       "      <td>NaN</td>\n",
       "      <td>NaN</td>\n",
       "      <td>NaN</td>\n",
       "    </tr>\n",
       "    <tr>\n",
       "      <th>2018-03-01 02:00:00</th>\n",
       "      <td>71</td>\n",
       "      <td>2018</td>\n",
       "      <td>3</td>\n",
       "      <td>1</td>\n",
       "      <td>3</td>\n",
       "      <td>85.00</td>\n",
       "      <td>124.00</td>\n",
       "      <td>NaN</td>\n",
       "      <td>NaN</td>\n",
       "      <td>NaN</td>\n",
       "      <td>...</td>\n",
       "      <td>NaN</td>\n",
       "      <td>NaN</td>\n",
       "      <td>NaN</td>\n",
       "      <td>NaN</td>\n",
       "      <td>NaN</td>\n",
       "      <td>NaN</td>\n",
       "      <td>NaN</td>\n",
       "      <td>NaN</td>\n",
       "      <td>NaN</td>\n",
       "      <td>NaN</td>\n",
       "    </tr>\n",
       "    <tr>\n",
       "      <th>2018-03-01 03:00:00</th>\n",
       "      <td>66</td>\n",
       "      <td>2018</td>\n",
       "      <td>3</td>\n",
       "      <td>1</td>\n",
       "      <td>3</td>\n",
       "      <td>71.00</td>\n",
       "      <td>85.00</td>\n",
       "      <td>124.00</td>\n",
       "      <td>NaN</td>\n",
       "      <td>NaN</td>\n",
       "      <td>...</td>\n",
       "      <td>NaN</td>\n",
       "      <td>NaN</td>\n",
       "      <td>NaN</td>\n",
       "      <td>NaN</td>\n",
       "      <td>NaN</td>\n",
       "      <td>NaN</td>\n",
       "      <td>NaN</td>\n",
       "      <td>NaN</td>\n",
       "      <td>NaN</td>\n",
       "      <td>NaN</td>\n",
       "    </tr>\n",
       "    <tr>\n",
       "      <th>2018-03-01 04:00:00</th>\n",
       "      <td>43</td>\n",
       "      <td>2018</td>\n",
       "      <td>3</td>\n",
       "      <td>1</td>\n",
       "      <td>3</td>\n",
       "      <td>66.00</td>\n",
       "      <td>71.00</td>\n",
       "      <td>85.00</td>\n",
       "      <td>124.00</td>\n",
       "      <td>NaN</td>\n",
       "      <td>...</td>\n",
       "      <td>NaN</td>\n",
       "      <td>NaN</td>\n",
       "      <td>NaN</td>\n",
       "      <td>NaN</td>\n",
       "      <td>NaN</td>\n",
       "      <td>NaN</td>\n",
       "      <td>NaN</td>\n",
       "      <td>NaN</td>\n",
       "      <td>NaN</td>\n",
       "      <td>NaN</td>\n",
       "    </tr>\n",
       "  </tbody>\n",
       "</table>\n",
       "<p>5 rows × 30 columns</p>\n",
       "</div>"
      ],
      "text/plain": [
       "                     num_orders  year  month  day  dayofweek  lag_1  lag_2  \\\n",
       "datetime                                                                     \n",
       "2018-03-01 00:00:00         124  2018      3    1          3    NaN    NaN   \n",
       "2018-03-01 01:00:00          85  2018      3    1          3 124.00    NaN   \n",
       "2018-03-01 02:00:00          71  2018      3    1          3  85.00 124.00   \n",
       "2018-03-01 03:00:00          66  2018      3    1          3  71.00  85.00   \n",
       "2018-03-01 04:00:00          43  2018      3    1          3  66.00  71.00   \n",
       "\n",
       "                     lag_3  lag_4  lag_5  ...  lag_16  lag_17  lag_18  lag_19  \\\n",
       "datetime                                  ...                                   \n",
       "2018-03-01 00:00:00    NaN    NaN    NaN  ...     NaN     NaN     NaN     NaN   \n",
       "2018-03-01 01:00:00    NaN    NaN    NaN  ...     NaN     NaN     NaN     NaN   \n",
       "2018-03-01 02:00:00    NaN    NaN    NaN  ...     NaN     NaN     NaN     NaN   \n",
       "2018-03-01 03:00:00 124.00    NaN    NaN  ...     NaN     NaN     NaN     NaN   \n",
       "2018-03-01 04:00:00  85.00 124.00    NaN  ...     NaN     NaN     NaN     NaN   \n",
       "\n",
       "                     lag_20  lag_21  lag_22  lag_23  lag_24  rolling_mean  \n",
       "datetime                                                                   \n",
       "2018-03-01 00:00:00     NaN     NaN     NaN     NaN     NaN           NaN  \n",
       "2018-03-01 01:00:00     NaN     NaN     NaN     NaN     NaN           NaN  \n",
       "2018-03-01 02:00:00     NaN     NaN     NaN     NaN     NaN           NaN  \n",
       "2018-03-01 03:00:00     NaN     NaN     NaN     NaN     NaN           NaN  \n",
       "2018-03-01 04:00:00     NaN     NaN     NaN     NaN     NaN           NaN  \n",
       "\n",
       "[5 rows x 30 columns]"
      ]
     },
     "execution_count": 26,
     "metadata": {},
     "output_type": "execute_result"
    }
   ],
   "source": [
    "df_lr.head()"
   ]
  },
  {
   "cell_type": "code",
   "execution_count": 27,
   "id": "a927b367-5952-4ef4-859d-b8a8570eda71",
   "metadata": {},
   "outputs": [
    {
     "data": {
      "text/html": [
       "<div>\n",
       "<style scoped>\n",
       "    .dataframe tbody tr th:only-of-type {\n",
       "        vertical-align: middle;\n",
       "    }\n",
       "\n",
       "    .dataframe tbody tr th {\n",
       "        vertical-align: top;\n",
       "    }\n",
       "\n",
       "    .dataframe thead th {\n",
       "        text-align: right;\n",
       "    }\n",
       "</style>\n",
       "<table border=\"1\" class=\"dataframe\">\n",
       "  <thead>\n",
       "    <tr style=\"text-align: right;\">\n",
       "      <th></th>\n",
       "      <th>num_orders</th>\n",
       "      <th>year</th>\n",
       "      <th>month</th>\n",
       "      <th>day</th>\n",
       "      <th>dayofweek</th>\n",
       "      <th>lag_1</th>\n",
       "      <th>lag_2</th>\n",
       "      <th>lag_3</th>\n",
       "      <th>lag_4</th>\n",
       "      <th>lag_5</th>\n",
       "      <th>...</th>\n",
       "      <th>lag_16</th>\n",
       "      <th>lag_17</th>\n",
       "      <th>lag_18</th>\n",
       "      <th>lag_19</th>\n",
       "      <th>lag_20</th>\n",
       "      <th>lag_21</th>\n",
       "      <th>lag_22</th>\n",
       "      <th>lag_23</th>\n",
       "      <th>lag_24</th>\n",
       "      <th>rolling_mean</th>\n",
       "    </tr>\n",
       "    <tr>\n",
       "      <th>datetime</th>\n",
       "      <th></th>\n",
       "      <th></th>\n",
       "      <th></th>\n",
       "      <th></th>\n",
       "      <th></th>\n",
       "      <th></th>\n",
       "      <th></th>\n",
       "      <th></th>\n",
       "      <th></th>\n",
       "      <th></th>\n",
       "      <th></th>\n",
       "      <th></th>\n",
       "      <th></th>\n",
       "      <th></th>\n",
       "      <th></th>\n",
       "      <th></th>\n",
       "      <th></th>\n",
       "      <th></th>\n",
       "      <th></th>\n",
       "      <th></th>\n",
       "      <th></th>\n",
       "    </tr>\n",
       "  </thead>\n",
       "  <tbody>\n",
       "    <tr>\n",
       "      <th>2018-03-01 00:00:00</th>\n",
       "      <td>124</td>\n",
       "      <td>2018</td>\n",
       "      <td>3</td>\n",
       "      <td>1</td>\n",
       "      <td>3</td>\n",
       "      <td>NaN</td>\n",
       "      <td>NaN</td>\n",
       "      <td>NaN</td>\n",
       "      <td>NaN</td>\n",
       "      <td>NaN</td>\n",
       "      <td>...</td>\n",
       "      <td>NaN</td>\n",
       "      <td>NaN</td>\n",
       "      <td>NaN</td>\n",
       "      <td>NaN</td>\n",
       "      <td>NaN</td>\n",
       "      <td>NaN</td>\n",
       "      <td>NaN</td>\n",
       "      <td>NaN</td>\n",
       "      <td>NaN</td>\n",
       "      <td>NaN</td>\n",
       "    </tr>\n",
       "    <tr>\n",
       "      <th>2018-03-01 01:00:00</th>\n",
       "      <td>85</td>\n",
       "      <td>2018</td>\n",
       "      <td>3</td>\n",
       "      <td>1</td>\n",
       "      <td>3</td>\n",
       "      <td>124.00</td>\n",
       "      <td>NaN</td>\n",
       "      <td>NaN</td>\n",
       "      <td>NaN</td>\n",
       "      <td>NaN</td>\n",
       "      <td>...</td>\n",
       "      <td>NaN</td>\n",
       "      <td>NaN</td>\n",
       "      <td>NaN</td>\n",
       "      <td>NaN</td>\n",
       "      <td>NaN</td>\n",
       "      <td>NaN</td>\n",
       "      <td>NaN</td>\n",
       "      <td>NaN</td>\n",
       "      <td>NaN</td>\n",
       "      <td>NaN</td>\n",
       "    </tr>\n",
       "    <tr>\n",
       "      <th>2018-03-01 02:00:00</th>\n",
       "      <td>71</td>\n",
       "      <td>2018</td>\n",
       "      <td>3</td>\n",
       "      <td>1</td>\n",
       "      <td>3</td>\n",
       "      <td>85.00</td>\n",
       "      <td>124.00</td>\n",
       "      <td>NaN</td>\n",
       "      <td>NaN</td>\n",
       "      <td>NaN</td>\n",
       "      <td>...</td>\n",
       "      <td>NaN</td>\n",
       "      <td>NaN</td>\n",
       "      <td>NaN</td>\n",
       "      <td>NaN</td>\n",
       "      <td>NaN</td>\n",
       "      <td>NaN</td>\n",
       "      <td>NaN</td>\n",
       "      <td>NaN</td>\n",
       "      <td>NaN</td>\n",
       "      <td>NaN</td>\n",
       "    </tr>\n",
       "    <tr>\n",
       "      <th>2018-03-01 03:00:00</th>\n",
       "      <td>66</td>\n",
       "      <td>2018</td>\n",
       "      <td>3</td>\n",
       "      <td>1</td>\n",
       "      <td>3</td>\n",
       "      <td>71.00</td>\n",
       "      <td>85.00</td>\n",
       "      <td>124.00</td>\n",
       "      <td>NaN</td>\n",
       "      <td>NaN</td>\n",
       "      <td>...</td>\n",
       "      <td>NaN</td>\n",
       "      <td>NaN</td>\n",
       "      <td>NaN</td>\n",
       "      <td>NaN</td>\n",
       "      <td>NaN</td>\n",
       "      <td>NaN</td>\n",
       "      <td>NaN</td>\n",
       "      <td>NaN</td>\n",
       "      <td>NaN</td>\n",
       "      <td>NaN</td>\n",
       "    </tr>\n",
       "    <tr>\n",
       "      <th>2018-03-01 04:00:00</th>\n",
       "      <td>43</td>\n",
       "      <td>2018</td>\n",
       "      <td>3</td>\n",
       "      <td>1</td>\n",
       "      <td>3</td>\n",
       "      <td>66.00</td>\n",
       "      <td>71.00</td>\n",
       "      <td>85.00</td>\n",
       "      <td>124.00</td>\n",
       "      <td>NaN</td>\n",
       "      <td>...</td>\n",
       "      <td>NaN</td>\n",
       "      <td>NaN</td>\n",
       "      <td>NaN</td>\n",
       "      <td>NaN</td>\n",
       "      <td>NaN</td>\n",
       "      <td>NaN</td>\n",
       "      <td>NaN</td>\n",
       "      <td>NaN</td>\n",
       "      <td>NaN</td>\n",
       "      <td>NaN</td>\n",
       "    </tr>\n",
       "  </tbody>\n",
       "</table>\n",
       "<p>5 rows × 30 columns</p>\n",
       "</div>"
      ],
      "text/plain": [
       "                     num_orders  year  month  day  dayofweek  lag_1  lag_2  \\\n",
       "datetime                                                                     \n",
       "2018-03-01 00:00:00         124  2018      3    1          3    NaN    NaN   \n",
       "2018-03-01 01:00:00          85  2018      3    1          3 124.00    NaN   \n",
       "2018-03-01 02:00:00          71  2018      3    1          3  85.00 124.00   \n",
       "2018-03-01 03:00:00          66  2018      3    1          3  71.00  85.00   \n",
       "2018-03-01 04:00:00          43  2018      3    1          3  66.00  71.00   \n",
       "\n",
       "                     lag_3  lag_4  lag_5  ...  lag_16  lag_17  lag_18  lag_19  \\\n",
       "datetime                                  ...                                   \n",
       "2018-03-01 00:00:00    NaN    NaN    NaN  ...     NaN     NaN     NaN     NaN   \n",
       "2018-03-01 01:00:00    NaN    NaN    NaN  ...     NaN     NaN     NaN     NaN   \n",
       "2018-03-01 02:00:00    NaN    NaN    NaN  ...     NaN     NaN     NaN     NaN   \n",
       "2018-03-01 03:00:00 124.00    NaN    NaN  ...     NaN     NaN     NaN     NaN   \n",
       "2018-03-01 04:00:00  85.00 124.00    NaN  ...     NaN     NaN     NaN     NaN   \n",
       "\n",
       "                     lag_20  lag_21  lag_22  lag_23  lag_24  rolling_mean  \n",
       "datetime                                                                   \n",
       "2018-03-01 00:00:00     NaN     NaN     NaN     NaN     NaN           NaN  \n",
       "2018-03-01 01:00:00     NaN     NaN     NaN     NaN     NaN           NaN  \n",
       "2018-03-01 02:00:00     NaN     NaN     NaN     NaN     NaN           NaN  \n",
       "2018-03-01 03:00:00     NaN     NaN     NaN     NaN     NaN           NaN  \n",
       "2018-03-01 04:00:00     NaN     NaN     NaN     NaN     NaN           NaN  \n",
       "\n",
       "[5 rows x 30 columns]"
      ]
     },
     "execution_count": 27,
     "metadata": {},
     "output_type": "execute_result"
    }
   ],
   "source": [
    "df_lr.head()"
   ]
  },
  {
   "cell_type": "code",
   "execution_count": 28,
   "id": "3168be0c-5c22-4f36-82a6-cfc5724f043b",
   "metadata": {},
   "outputs": [],
   "source": [
    "train_lr, test_lr = train_test_split(df_lr, shuffle=False, test_size=0.1)\n",
    "train_lr = train_lr.dropna()\n",
    "X_train_lr = train_lr.drop(columns='lag_1')\n",
    "y_train_lr = train_lr['lag_1']\n",
    "X_test_lr = test_lr.drop(columns='lag_1')\n",
    "y_test_lr = test_lr['lag_1']"
   ]
  },
  {
   "cell_type": "code",
   "execution_count": 29,
   "id": "f4e300d6-de5c-4ea1-ac65-f64a6564a8fb",
   "metadata": {},
   "outputs": [
    {
     "data": {
      "text/plain": [
       "2.7626310865889394e-13"
      ]
     },
     "execution_count": 29,
     "metadata": {},
     "output_type": "execute_result"
    }
   ],
   "source": [
    "model = LinearRegression(n_jobs=-1) \n",
    "\n",
    "model.fit(X_train_lr, y_train_lr)\n",
    "\n",
    "root_mean_squared_error(y_train_lr, model.predict(X_train_lr))\n"
   ]
  },
  {
   "cell_type": "markdown",
   "id": "35c1ef7c-63fd-48cc-910a-e158f7d99039",
   "metadata": {},
   "source": [
    "### <a id='toc3_2_'></a> 3.2 RandomForestRegressor [&#8593;](#toc0_)"
   ]
  },
  {
   "cell_type": "code",
   "execution_count": 30,
   "id": "960eefe5",
   "metadata": {},
   "outputs": [],
   "source": [
    "df_rfr = df.copy()"
   ]
  },
  {
   "cell_type": "code",
   "execution_count": 31,
   "id": "793422aa-7c63-4714-bcb9-688f23eb0a40",
   "metadata": {},
   "outputs": [],
   "source": [
    "df_rfr = make_features(df_rfr, 24, 10)"
   ]
  },
  {
   "cell_type": "code",
   "execution_count": 32,
   "id": "7d35cf31",
   "metadata": {},
   "outputs": [
    {
     "data": {
      "text/html": [
       "<div>\n",
       "<style scoped>\n",
       "    .dataframe tbody tr th:only-of-type {\n",
       "        vertical-align: middle;\n",
       "    }\n",
       "\n",
       "    .dataframe tbody tr th {\n",
       "        vertical-align: top;\n",
       "    }\n",
       "\n",
       "    .dataframe thead th {\n",
       "        text-align: right;\n",
       "    }\n",
       "</style>\n",
       "<table border=\"1\" class=\"dataframe\">\n",
       "  <thead>\n",
       "    <tr style=\"text-align: right;\">\n",
       "      <th></th>\n",
       "      <th>num_orders</th>\n",
       "      <th>year</th>\n",
       "      <th>month</th>\n",
       "      <th>day</th>\n",
       "      <th>dayofweek</th>\n",
       "      <th>lag_1</th>\n",
       "      <th>lag_2</th>\n",
       "      <th>lag_3</th>\n",
       "      <th>lag_4</th>\n",
       "      <th>lag_5</th>\n",
       "      <th>...</th>\n",
       "      <th>lag_16</th>\n",
       "      <th>lag_17</th>\n",
       "      <th>lag_18</th>\n",
       "      <th>lag_19</th>\n",
       "      <th>lag_20</th>\n",
       "      <th>lag_21</th>\n",
       "      <th>lag_22</th>\n",
       "      <th>lag_23</th>\n",
       "      <th>lag_24</th>\n",
       "      <th>rolling_mean</th>\n",
       "    </tr>\n",
       "    <tr>\n",
       "      <th>datetime</th>\n",
       "      <th></th>\n",
       "      <th></th>\n",
       "      <th></th>\n",
       "      <th></th>\n",
       "      <th></th>\n",
       "      <th></th>\n",
       "      <th></th>\n",
       "      <th></th>\n",
       "      <th></th>\n",
       "      <th></th>\n",
       "      <th></th>\n",
       "      <th></th>\n",
       "      <th></th>\n",
       "      <th></th>\n",
       "      <th></th>\n",
       "      <th></th>\n",
       "      <th></th>\n",
       "      <th></th>\n",
       "      <th></th>\n",
       "      <th></th>\n",
       "      <th></th>\n",
       "    </tr>\n",
       "  </thead>\n",
       "  <tbody>\n",
       "    <tr>\n",
       "      <th>2018-03-01 00:00:00</th>\n",
       "      <td>124</td>\n",
       "      <td>2018</td>\n",
       "      <td>3</td>\n",
       "      <td>1</td>\n",
       "      <td>3</td>\n",
       "      <td>NaN</td>\n",
       "      <td>NaN</td>\n",
       "      <td>NaN</td>\n",
       "      <td>NaN</td>\n",
       "      <td>NaN</td>\n",
       "      <td>...</td>\n",
       "      <td>NaN</td>\n",
       "      <td>NaN</td>\n",
       "      <td>NaN</td>\n",
       "      <td>NaN</td>\n",
       "      <td>NaN</td>\n",
       "      <td>NaN</td>\n",
       "      <td>NaN</td>\n",
       "      <td>NaN</td>\n",
       "      <td>NaN</td>\n",
       "      <td>NaN</td>\n",
       "    </tr>\n",
       "    <tr>\n",
       "      <th>2018-03-01 01:00:00</th>\n",
       "      <td>85</td>\n",
       "      <td>2018</td>\n",
       "      <td>3</td>\n",
       "      <td>1</td>\n",
       "      <td>3</td>\n",
       "      <td>124.00</td>\n",
       "      <td>NaN</td>\n",
       "      <td>NaN</td>\n",
       "      <td>NaN</td>\n",
       "      <td>NaN</td>\n",
       "      <td>...</td>\n",
       "      <td>NaN</td>\n",
       "      <td>NaN</td>\n",
       "      <td>NaN</td>\n",
       "      <td>NaN</td>\n",
       "      <td>NaN</td>\n",
       "      <td>NaN</td>\n",
       "      <td>NaN</td>\n",
       "      <td>NaN</td>\n",
       "      <td>NaN</td>\n",
       "      <td>NaN</td>\n",
       "    </tr>\n",
       "    <tr>\n",
       "      <th>2018-03-01 02:00:00</th>\n",
       "      <td>71</td>\n",
       "      <td>2018</td>\n",
       "      <td>3</td>\n",
       "      <td>1</td>\n",
       "      <td>3</td>\n",
       "      <td>85.00</td>\n",
       "      <td>124.00</td>\n",
       "      <td>NaN</td>\n",
       "      <td>NaN</td>\n",
       "      <td>NaN</td>\n",
       "      <td>...</td>\n",
       "      <td>NaN</td>\n",
       "      <td>NaN</td>\n",
       "      <td>NaN</td>\n",
       "      <td>NaN</td>\n",
       "      <td>NaN</td>\n",
       "      <td>NaN</td>\n",
       "      <td>NaN</td>\n",
       "      <td>NaN</td>\n",
       "      <td>NaN</td>\n",
       "      <td>NaN</td>\n",
       "    </tr>\n",
       "    <tr>\n",
       "      <th>2018-03-01 03:00:00</th>\n",
       "      <td>66</td>\n",
       "      <td>2018</td>\n",
       "      <td>3</td>\n",
       "      <td>1</td>\n",
       "      <td>3</td>\n",
       "      <td>71.00</td>\n",
       "      <td>85.00</td>\n",
       "      <td>124.00</td>\n",
       "      <td>NaN</td>\n",
       "      <td>NaN</td>\n",
       "      <td>...</td>\n",
       "      <td>NaN</td>\n",
       "      <td>NaN</td>\n",
       "      <td>NaN</td>\n",
       "      <td>NaN</td>\n",
       "      <td>NaN</td>\n",
       "      <td>NaN</td>\n",
       "      <td>NaN</td>\n",
       "      <td>NaN</td>\n",
       "      <td>NaN</td>\n",
       "      <td>NaN</td>\n",
       "    </tr>\n",
       "    <tr>\n",
       "      <th>2018-03-01 04:00:00</th>\n",
       "      <td>43</td>\n",
       "      <td>2018</td>\n",
       "      <td>3</td>\n",
       "      <td>1</td>\n",
       "      <td>3</td>\n",
       "      <td>66.00</td>\n",
       "      <td>71.00</td>\n",
       "      <td>85.00</td>\n",
       "      <td>124.00</td>\n",
       "      <td>NaN</td>\n",
       "      <td>...</td>\n",
       "      <td>NaN</td>\n",
       "      <td>NaN</td>\n",
       "      <td>NaN</td>\n",
       "      <td>NaN</td>\n",
       "      <td>NaN</td>\n",
       "      <td>NaN</td>\n",
       "      <td>NaN</td>\n",
       "      <td>NaN</td>\n",
       "      <td>NaN</td>\n",
       "      <td>NaN</td>\n",
       "    </tr>\n",
       "  </tbody>\n",
       "</table>\n",
       "<p>5 rows × 30 columns</p>\n",
       "</div>"
      ],
      "text/plain": [
       "                     num_orders  year  month  day  dayofweek  lag_1  lag_2  \\\n",
       "datetime                                                                     \n",
       "2018-03-01 00:00:00         124  2018      3    1          3    NaN    NaN   \n",
       "2018-03-01 01:00:00          85  2018      3    1          3 124.00    NaN   \n",
       "2018-03-01 02:00:00          71  2018      3    1          3  85.00 124.00   \n",
       "2018-03-01 03:00:00          66  2018      3    1          3  71.00  85.00   \n",
       "2018-03-01 04:00:00          43  2018      3    1          3  66.00  71.00   \n",
       "\n",
       "                     lag_3  lag_4  lag_5  ...  lag_16  lag_17  lag_18  lag_19  \\\n",
       "datetime                                  ...                                   \n",
       "2018-03-01 00:00:00    NaN    NaN    NaN  ...     NaN     NaN     NaN     NaN   \n",
       "2018-03-01 01:00:00    NaN    NaN    NaN  ...     NaN     NaN     NaN     NaN   \n",
       "2018-03-01 02:00:00    NaN    NaN    NaN  ...     NaN     NaN     NaN     NaN   \n",
       "2018-03-01 03:00:00 124.00    NaN    NaN  ...     NaN     NaN     NaN     NaN   \n",
       "2018-03-01 04:00:00  85.00 124.00    NaN  ...     NaN     NaN     NaN     NaN   \n",
       "\n",
       "                     lag_20  lag_21  lag_22  lag_23  lag_24  rolling_mean  \n",
       "datetime                                                                   \n",
       "2018-03-01 00:00:00     NaN     NaN     NaN     NaN     NaN           NaN  \n",
       "2018-03-01 01:00:00     NaN     NaN     NaN     NaN     NaN           NaN  \n",
       "2018-03-01 02:00:00     NaN     NaN     NaN     NaN     NaN           NaN  \n",
       "2018-03-01 03:00:00     NaN     NaN     NaN     NaN     NaN           NaN  \n",
       "2018-03-01 04:00:00     NaN     NaN     NaN     NaN     NaN           NaN  \n",
       "\n",
       "[5 rows x 30 columns]"
      ]
     },
     "execution_count": 32,
     "metadata": {},
     "output_type": "execute_result"
    }
   ],
   "source": [
    "df_rfr.head()"
   ]
  },
  {
   "cell_type": "code",
   "execution_count": 33,
   "id": "761b29fd-96c9-48ff-aea0-c16f13fac6b0",
   "metadata": {},
   "outputs": [],
   "source": [
    "train_rfr, test_rfr = train_test_split(df_rfr, shuffle=False, test_size=0.1)\n",
    "train_rfr = train_rfr.dropna()\n",
    "X_train_rfr = train_rfr.drop(columns='lag_1')\n",
    "y_train_rfr = train_rfr['lag_1']\n",
    "X_test_rfr = test_rfr.drop(columns='lag_1')\n",
    "y_test_rfr = test_rfr['lag_1']"
   ]
  },
  {
   "cell_type": "code",
   "execution_count": 34,
   "id": "a99455d2-7d61-49e7-beac-d93eef7da1e0",
   "metadata": {},
   "outputs": [],
   "source": [
    "final_pipe_rfr = Pipeline(\n",
    "    [\n",
    "        ('model', RandomForestRegressor(\n",
    "        random_state=RANDOM_STATE, n_jobs=-1))\n",
    "    ]\n",
    ")"
   ]
  },
  {
   "cell_type": "code",
   "execution_count": 35,
   "id": "2931de52-bf88-43c7-9dba-313337196e6d",
   "metadata": {},
   "outputs": [],
   "source": [
    "param_grid_rfr = {\n",
    "    'model__n_estimators': [100, 500, 1000],\n",
    "    'model__min_samples_split': range(2, 5),\n",
    "    'model__min_samples_leaf': range(2, 5)\n",
    "}"
   ]
  },
  {
   "cell_type": "code",
   "execution_count": 36,
   "id": "1070860b-c375-4ef1-b7ee-813deb05bd1f",
   "metadata": {},
   "outputs": [],
   "source": [
    "grid_rfr = GridSearchCV(\n",
    "    final_pipe_rfr,\n",
    "    param_grid=param_grid_rfr,\n",
    "    cv=TimeSeriesSplit(),\n",
    "    scoring= 'neg_root_mean_squared_error'\n",
    ")"
   ]
  },
  {
   "cell_type": "code",
   "execution_count": 37,
   "id": "660017fc-76a1-4f29-973b-70bd5107e5ac",
   "metadata": {},
   "outputs": [
    {
     "name": "stdout",
     "output_type": "stream",
     "text": [
      "CPU times: user 32min 46s, sys: 4.82 s, total: 32min 51s\n",
      "Wall time: 32min 53s\n"
     ]
    },
    {
     "data": {
      "text/html": [
       "<style>#sk-container-id-1 {\n",
       "  /* Definition of color scheme common for light and dark mode */\n",
       "  --sklearn-color-text: #000;\n",
       "  --sklearn-color-text-muted: #666;\n",
       "  --sklearn-color-line: gray;\n",
       "  /* Definition of color scheme for unfitted estimators */\n",
       "  --sklearn-color-unfitted-level-0: #fff5e6;\n",
       "  --sklearn-color-unfitted-level-1: #f6e4d2;\n",
       "  --sklearn-color-unfitted-level-2: #ffe0b3;\n",
       "  --sklearn-color-unfitted-level-3: chocolate;\n",
       "  /* Definition of color scheme for fitted estimators */\n",
       "  --sklearn-color-fitted-level-0: #f0f8ff;\n",
       "  --sklearn-color-fitted-level-1: #d4ebff;\n",
       "  --sklearn-color-fitted-level-2: #b3dbfd;\n",
       "  --sklearn-color-fitted-level-3: cornflowerblue;\n",
       "\n",
       "  /* Specific color for light theme */\n",
       "  --sklearn-color-text-on-default-background: var(--sg-text-color, var(--theme-code-foreground, var(--jp-content-font-color1, black)));\n",
       "  --sklearn-color-background: var(--sg-background-color, var(--theme-background, var(--jp-layout-color0, white)));\n",
       "  --sklearn-color-border-box: var(--sg-text-color, var(--theme-code-foreground, var(--jp-content-font-color1, black)));\n",
       "  --sklearn-color-icon: #696969;\n",
       "\n",
       "  @media (prefers-color-scheme: dark) {\n",
       "    /* Redefinition of color scheme for dark theme */\n",
       "    --sklearn-color-text-on-default-background: var(--sg-text-color, var(--theme-code-foreground, var(--jp-content-font-color1, white)));\n",
       "    --sklearn-color-background: var(--sg-background-color, var(--theme-background, var(--jp-layout-color0, #111)));\n",
       "    --sklearn-color-border-box: var(--sg-text-color, var(--theme-code-foreground, var(--jp-content-font-color1, white)));\n",
       "    --sklearn-color-icon: #878787;\n",
       "  }\n",
       "}\n",
       "\n",
       "#sk-container-id-1 {\n",
       "  color: var(--sklearn-color-text);\n",
       "}\n",
       "\n",
       "#sk-container-id-1 pre {\n",
       "  padding: 0;\n",
       "}\n",
       "\n",
       "#sk-container-id-1 input.sk-hidden--visually {\n",
       "  border: 0;\n",
       "  clip: rect(1px 1px 1px 1px);\n",
       "  clip: rect(1px, 1px, 1px, 1px);\n",
       "  height: 1px;\n",
       "  margin: -1px;\n",
       "  overflow: hidden;\n",
       "  padding: 0;\n",
       "  position: absolute;\n",
       "  width: 1px;\n",
       "}\n",
       "\n",
       "#sk-container-id-1 div.sk-dashed-wrapped {\n",
       "  border: 1px dashed var(--sklearn-color-line);\n",
       "  margin: 0 0.4em 0.5em 0.4em;\n",
       "  box-sizing: border-box;\n",
       "  padding-bottom: 0.4em;\n",
       "  background-color: var(--sklearn-color-background);\n",
       "}\n",
       "\n",
       "#sk-container-id-1 div.sk-container {\n",
       "  /* jupyter's `normalize.less` sets `[hidden] { display: none; }`\n",
       "     but bootstrap.min.css set `[hidden] { display: none !important; }`\n",
       "     so we also need the `!important` here to be able to override the\n",
       "     default hidden behavior on the sphinx rendered scikit-learn.org.\n",
       "     See: https://github.com/scikit-learn/scikit-learn/issues/21755 */\n",
       "  display: inline-block !important;\n",
       "  position: relative;\n",
       "}\n",
       "\n",
       "#sk-container-id-1 div.sk-text-repr-fallback {\n",
       "  display: none;\n",
       "}\n",
       "\n",
       "div.sk-parallel-item,\n",
       "div.sk-serial,\n",
       "div.sk-item {\n",
       "  /* draw centered vertical line to link estimators */\n",
       "  background-image: linear-gradient(var(--sklearn-color-text-on-default-background), var(--sklearn-color-text-on-default-background));\n",
       "  background-size: 2px 100%;\n",
       "  background-repeat: no-repeat;\n",
       "  background-position: center center;\n",
       "}\n",
       "\n",
       "/* Parallel-specific style estimator block */\n",
       "\n",
       "#sk-container-id-1 div.sk-parallel-item::after {\n",
       "  content: \"\";\n",
       "  width: 100%;\n",
       "  border-bottom: 2px solid var(--sklearn-color-text-on-default-background);\n",
       "  flex-grow: 1;\n",
       "}\n",
       "\n",
       "#sk-container-id-1 div.sk-parallel {\n",
       "  display: flex;\n",
       "  align-items: stretch;\n",
       "  justify-content: center;\n",
       "  background-color: var(--sklearn-color-background);\n",
       "  position: relative;\n",
       "}\n",
       "\n",
       "#sk-container-id-1 div.sk-parallel-item {\n",
       "  display: flex;\n",
       "  flex-direction: column;\n",
       "}\n",
       "\n",
       "#sk-container-id-1 div.sk-parallel-item:first-child::after {\n",
       "  align-self: flex-end;\n",
       "  width: 50%;\n",
       "}\n",
       "\n",
       "#sk-container-id-1 div.sk-parallel-item:last-child::after {\n",
       "  align-self: flex-start;\n",
       "  width: 50%;\n",
       "}\n",
       "\n",
       "#sk-container-id-1 div.sk-parallel-item:only-child::after {\n",
       "  width: 0;\n",
       "}\n",
       "\n",
       "/* Serial-specific style estimator block */\n",
       "\n",
       "#sk-container-id-1 div.sk-serial {\n",
       "  display: flex;\n",
       "  flex-direction: column;\n",
       "  align-items: center;\n",
       "  background-color: var(--sklearn-color-background);\n",
       "  padding-right: 1em;\n",
       "  padding-left: 1em;\n",
       "}\n",
       "\n",
       "\n",
       "/* Toggleable style: style used for estimator/Pipeline/ColumnTransformer box that is\n",
       "clickable and can be expanded/collapsed.\n",
       "- Pipeline and ColumnTransformer use this feature and define the default style\n",
       "- Estimators will overwrite some part of the style using the `sk-estimator` class\n",
       "*/\n",
       "\n",
       "/* Pipeline and ColumnTransformer style (default) */\n",
       "\n",
       "#sk-container-id-1 div.sk-toggleable {\n",
       "  /* Default theme specific background. It is overwritten whether we have a\n",
       "  specific estimator or a Pipeline/ColumnTransformer */\n",
       "  background-color: var(--sklearn-color-background);\n",
       "}\n",
       "\n",
       "/* Toggleable label */\n",
       "#sk-container-id-1 label.sk-toggleable__label {\n",
       "  cursor: pointer;\n",
       "  display: flex;\n",
       "  width: 100%;\n",
       "  margin-bottom: 0;\n",
       "  padding: 0.5em;\n",
       "  box-sizing: border-box;\n",
       "  text-align: center;\n",
       "  align-items: start;\n",
       "  justify-content: space-between;\n",
       "  gap: 0.5em;\n",
       "}\n",
       "\n",
       "#sk-container-id-1 label.sk-toggleable__label .caption {\n",
       "  font-size: 0.6rem;\n",
       "  font-weight: lighter;\n",
       "  color: var(--sklearn-color-text-muted);\n",
       "}\n",
       "\n",
       "#sk-container-id-1 label.sk-toggleable__label-arrow:before {\n",
       "  /* Arrow on the left of the label */\n",
       "  content: \"▸\";\n",
       "  float: left;\n",
       "  margin-right: 0.25em;\n",
       "  color: var(--sklearn-color-icon);\n",
       "}\n",
       "\n",
       "#sk-container-id-1 label.sk-toggleable__label-arrow:hover:before {\n",
       "  color: var(--sklearn-color-text);\n",
       "}\n",
       "\n",
       "/* Toggleable content - dropdown */\n",
       "\n",
       "#sk-container-id-1 div.sk-toggleable__content {\n",
       "  max-height: 0;\n",
       "  max-width: 0;\n",
       "  overflow: hidden;\n",
       "  text-align: left;\n",
       "  /* unfitted */\n",
       "  background-color: var(--sklearn-color-unfitted-level-0);\n",
       "}\n",
       "\n",
       "#sk-container-id-1 div.sk-toggleable__content.fitted {\n",
       "  /* fitted */\n",
       "  background-color: var(--sklearn-color-fitted-level-0);\n",
       "}\n",
       "\n",
       "#sk-container-id-1 div.sk-toggleable__content pre {\n",
       "  margin: 0.2em;\n",
       "  border-radius: 0.25em;\n",
       "  color: var(--sklearn-color-text);\n",
       "  /* unfitted */\n",
       "  background-color: var(--sklearn-color-unfitted-level-0);\n",
       "}\n",
       "\n",
       "#sk-container-id-1 div.sk-toggleable__content.fitted pre {\n",
       "  /* unfitted */\n",
       "  background-color: var(--sklearn-color-fitted-level-0);\n",
       "}\n",
       "\n",
       "#sk-container-id-1 input.sk-toggleable__control:checked~div.sk-toggleable__content {\n",
       "  /* Expand drop-down */\n",
       "  max-height: 200px;\n",
       "  max-width: 100%;\n",
       "  overflow: auto;\n",
       "}\n",
       "\n",
       "#sk-container-id-1 input.sk-toggleable__control:checked~label.sk-toggleable__label-arrow:before {\n",
       "  content: \"▾\";\n",
       "}\n",
       "\n",
       "/* Pipeline/ColumnTransformer-specific style */\n",
       "\n",
       "#sk-container-id-1 div.sk-label input.sk-toggleable__control:checked~label.sk-toggleable__label {\n",
       "  color: var(--sklearn-color-text);\n",
       "  background-color: var(--sklearn-color-unfitted-level-2);\n",
       "}\n",
       "\n",
       "#sk-container-id-1 div.sk-label.fitted input.sk-toggleable__control:checked~label.sk-toggleable__label {\n",
       "  background-color: var(--sklearn-color-fitted-level-2);\n",
       "}\n",
       "\n",
       "/* Estimator-specific style */\n",
       "\n",
       "/* Colorize estimator box */\n",
       "#sk-container-id-1 div.sk-estimator input.sk-toggleable__control:checked~label.sk-toggleable__label {\n",
       "  /* unfitted */\n",
       "  background-color: var(--sklearn-color-unfitted-level-2);\n",
       "}\n",
       "\n",
       "#sk-container-id-1 div.sk-estimator.fitted input.sk-toggleable__control:checked~label.sk-toggleable__label {\n",
       "  /* fitted */\n",
       "  background-color: var(--sklearn-color-fitted-level-2);\n",
       "}\n",
       "\n",
       "#sk-container-id-1 div.sk-label label.sk-toggleable__label,\n",
       "#sk-container-id-1 div.sk-label label {\n",
       "  /* The background is the default theme color */\n",
       "  color: var(--sklearn-color-text-on-default-background);\n",
       "}\n",
       "\n",
       "/* On hover, darken the color of the background */\n",
       "#sk-container-id-1 div.sk-label:hover label.sk-toggleable__label {\n",
       "  color: var(--sklearn-color-text);\n",
       "  background-color: var(--sklearn-color-unfitted-level-2);\n",
       "}\n",
       "\n",
       "/* Label box, darken color on hover, fitted */\n",
       "#sk-container-id-1 div.sk-label.fitted:hover label.sk-toggleable__label.fitted {\n",
       "  color: var(--sklearn-color-text);\n",
       "  background-color: var(--sklearn-color-fitted-level-2);\n",
       "}\n",
       "\n",
       "/* Estimator label */\n",
       "\n",
       "#sk-container-id-1 div.sk-label label {\n",
       "  font-family: monospace;\n",
       "  font-weight: bold;\n",
       "  display: inline-block;\n",
       "  line-height: 1.2em;\n",
       "}\n",
       "\n",
       "#sk-container-id-1 div.sk-label-container {\n",
       "  text-align: center;\n",
       "}\n",
       "\n",
       "/* Estimator-specific */\n",
       "#sk-container-id-1 div.sk-estimator {\n",
       "  font-family: monospace;\n",
       "  border: 1px dotted var(--sklearn-color-border-box);\n",
       "  border-radius: 0.25em;\n",
       "  box-sizing: border-box;\n",
       "  margin-bottom: 0.5em;\n",
       "  /* unfitted */\n",
       "  background-color: var(--sklearn-color-unfitted-level-0);\n",
       "}\n",
       "\n",
       "#sk-container-id-1 div.sk-estimator.fitted {\n",
       "  /* fitted */\n",
       "  background-color: var(--sklearn-color-fitted-level-0);\n",
       "}\n",
       "\n",
       "/* on hover */\n",
       "#sk-container-id-1 div.sk-estimator:hover {\n",
       "  /* unfitted */\n",
       "  background-color: var(--sklearn-color-unfitted-level-2);\n",
       "}\n",
       "\n",
       "#sk-container-id-1 div.sk-estimator.fitted:hover {\n",
       "  /* fitted */\n",
       "  background-color: var(--sklearn-color-fitted-level-2);\n",
       "}\n",
       "\n",
       "/* Specification for estimator info (e.g. \"i\" and \"?\") */\n",
       "\n",
       "/* Common style for \"i\" and \"?\" */\n",
       "\n",
       ".sk-estimator-doc-link,\n",
       "a:link.sk-estimator-doc-link,\n",
       "a:visited.sk-estimator-doc-link {\n",
       "  float: right;\n",
       "  font-size: smaller;\n",
       "  line-height: 1em;\n",
       "  font-family: monospace;\n",
       "  background-color: var(--sklearn-color-background);\n",
       "  border-radius: 1em;\n",
       "  height: 1em;\n",
       "  width: 1em;\n",
       "  text-decoration: none !important;\n",
       "  margin-left: 0.5em;\n",
       "  text-align: center;\n",
       "  /* unfitted */\n",
       "  border: var(--sklearn-color-unfitted-level-1) 1pt solid;\n",
       "  color: var(--sklearn-color-unfitted-level-1);\n",
       "}\n",
       "\n",
       ".sk-estimator-doc-link.fitted,\n",
       "a:link.sk-estimator-doc-link.fitted,\n",
       "a:visited.sk-estimator-doc-link.fitted {\n",
       "  /* fitted */\n",
       "  border: var(--sklearn-color-fitted-level-1) 1pt solid;\n",
       "  color: var(--sklearn-color-fitted-level-1);\n",
       "}\n",
       "\n",
       "/* On hover */\n",
       "div.sk-estimator:hover .sk-estimator-doc-link:hover,\n",
       ".sk-estimator-doc-link:hover,\n",
       "div.sk-label-container:hover .sk-estimator-doc-link:hover,\n",
       ".sk-estimator-doc-link:hover {\n",
       "  /* unfitted */\n",
       "  background-color: var(--sklearn-color-unfitted-level-3);\n",
       "  color: var(--sklearn-color-background);\n",
       "  text-decoration: none;\n",
       "}\n",
       "\n",
       "div.sk-estimator.fitted:hover .sk-estimator-doc-link.fitted:hover,\n",
       ".sk-estimator-doc-link.fitted:hover,\n",
       "div.sk-label-container:hover .sk-estimator-doc-link.fitted:hover,\n",
       ".sk-estimator-doc-link.fitted:hover {\n",
       "  /* fitted */\n",
       "  background-color: var(--sklearn-color-fitted-level-3);\n",
       "  color: var(--sklearn-color-background);\n",
       "  text-decoration: none;\n",
       "}\n",
       "\n",
       "/* Span, style for the box shown on hovering the info icon */\n",
       ".sk-estimator-doc-link span {\n",
       "  display: none;\n",
       "  z-index: 9999;\n",
       "  position: relative;\n",
       "  font-weight: normal;\n",
       "  right: .2ex;\n",
       "  padding: .5ex;\n",
       "  margin: .5ex;\n",
       "  width: min-content;\n",
       "  min-width: 20ex;\n",
       "  max-width: 50ex;\n",
       "  color: var(--sklearn-color-text);\n",
       "  box-shadow: 2pt 2pt 4pt #999;\n",
       "  /* unfitted */\n",
       "  background: var(--sklearn-color-unfitted-level-0);\n",
       "  border: .5pt solid var(--sklearn-color-unfitted-level-3);\n",
       "}\n",
       "\n",
       ".sk-estimator-doc-link.fitted span {\n",
       "  /* fitted */\n",
       "  background: var(--sklearn-color-fitted-level-0);\n",
       "  border: var(--sklearn-color-fitted-level-3);\n",
       "}\n",
       "\n",
       ".sk-estimator-doc-link:hover span {\n",
       "  display: block;\n",
       "}\n",
       "\n",
       "/* \"?\"-specific style due to the `<a>` HTML tag */\n",
       "\n",
       "#sk-container-id-1 a.estimator_doc_link {\n",
       "  float: right;\n",
       "  font-size: 1rem;\n",
       "  line-height: 1em;\n",
       "  font-family: monospace;\n",
       "  background-color: var(--sklearn-color-background);\n",
       "  border-radius: 1rem;\n",
       "  height: 1rem;\n",
       "  width: 1rem;\n",
       "  text-decoration: none;\n",
       "  /* unfitted */\n",
       "  color: var(--sklearn-color-unfitted-level-1);\n",
       "  border: var(--sklearn-color-unfitted-level-1) 1pt solid;\n",
       "}\n",
       "\n",
       "#sk-container-id-1 a.estimator_doc_link.fitted {\n",
       "  /* fitted */\n",
       "  border: var(--sklearn-color-fitted-level-1) 1pt solid;\n",
       "  color: var(--sklearn-color-fitted-level-1);\n",
       "}\n",
       "\n",
       "/* On hover */\n",
       "#sk-container-id-1 a.estimator_doc_link:hover {\n",
       "  /* unfitted */\n",
       "  background-color: var(--sklearn-color-unfitted-level-3);\n",
       "  color: var(--sklearn-color-background);\n",
       "  text-decoration: none;\n",
       "}\n",
       "\n",
       "#sk-container-id-1 a.estimator_doc_link.fitted:hover {\n",
       "  /* fitted */\n",
       "  background-color: var(--sklearn-color-fitted-level-3);\n",
       "}\n",
       "</style><div id=\"sk-container-id-1\" class=\"sk-top-container\"><div class=\"sk-text-repr-fallback\"><pre>GridSearchCV(cv=TimeSeriesSplit(gap=0, max_train_size=None, n_splits=5, test_size=None),\n",
       "             estimator=Pipeline(steps=[(&#x27;model&#x27;,\n",
       "                                        RandomForestRegressor(n_jobs=-1,\n",
       "                                                              random_state=42))]),\n",
       "             param_grid={&#x27;model__min_samples_leaf&#x27;: range(2, 5),\n",
       "                         &#x27;model__min_samples_split&#x27;: range(2, 5),\n",
       "                         &#x27;model__n_estimators&#x27;: [100, 500, 1000]},\n",
       "             scoring=&#x27;neg_root_mean_squared_error&#x27;)</pre><b>In a Jupyter environment, please rerun this cell to show the HTML representation or trust the notebook. <br />On GitHub, the HTML representation is unable to render, please try loading this page with nbviewer.org.</b></div><div class=\"sk-container\" hidden><div class=\"sk-item sk-dashed-wrapped\"><div class=\"sk-label-container\"><div class=\"sk-label fitted sk-toggleable\"><input class=\"sk-toggleable__control sk-hidden--visually\" id=\"sk-estimator-id-1\" type=\"checkbox\" ><label for=\"sk-estimator-id-1\" class=\"sk-toggleable__label fitted sk-toggleable__label-arrow\"><div><div>GridSearchCV</div></div><div><a class=\"sk-estimator-doc-link fitted\" rel=\"noreferrer\" target=\"_blank\" href=\"https://scikit-learn.org/1.6/modules/generated/sklearn.model_selection.GridSearchCV.html\">?<span>Documentation for GridSearchCV</span></a><span class=\"sk-estimator-doc-link fitted\">i<span>Fitted</span></span></div></label><div class=\"sk-toggleable__content fitted\"><pre>GridSearchCV(cv=TimeSeriesSplit(gap=0, max_train_size=None, n_splits=5, test_size=None),\n",
       "             estimator=Pipeline(steps=[(&#x27;model&#x27;,\n",
       "                                        RandomForestRegressor(n_jobs=-1,\n",
       "                                                              random_state=42))]),\n",
       "             param_grid={&#x27;model__min_samples_leaf&#x27;: range(2, 5),\n",
       "                         &#x27;model__min_samples_split&#x27;: range(2, 5),\n",
       "                         &#x27;model__n_estimators&#x27;: [100, 500, 1000]},\n",
       "             scoring=&#x27;neg_root_mean_squared_error&#x27;)</pre></div> </div></div><div class=\"sk-parallel\"><div class=\"sk-parallel-item\"><div class=\"sk-item\"><div class=\"sk-label-container\"><div class=\"sk-label fitted sk-toggleable\"><input class=\"sk-toggleable__control sk-hidden--visually\" id=\"sk-estimator-id-2\" type=\"checkbox\" ><label for=\"sk-estimator-id-2\" class=\"sk-toggleable__label fitted sk-toggleable__label-arrow\"><div><div>best_estimator_: Pipeline</div></div></label><div class=\"sk-toggleable__content fitted\"><pre>Pipeline(steps=[(&#x27;model&#x27;,\n",
       "                 RandomForestRegressor(min_samples_leaf=2, n_estimators=1000,\n",
       "                                       n_jobs=-1, random_state=42))])</pre></div> </div></div><div class=\"sk-serial\"><div class=\"sk-item\"><div class=\"sk-serial\"><div class=\"sk-item\"><div class=\"sk-estimator fitted sk-toggleable\"><input class=\"sk-toggleable__control sk-hidden--visually\" id=\"sk-estimator-id-3\" type=\"checkbox\" ><label for=\"sk-estimator-id-3\" class=\"sk-toggleable__label fitted sk-toggleable__label-arrow\"><div><div>RandomForestRegressor</div></div><div><a class=\"sk-estimator-doc-link fitted\" rel=\"noreferrer\" target=\"_blank\" href=\"https://scikit-learn.org/1.6/modules/generated/sklearn.ensemble.RandomForestRegressor.html\">?<span>Documentation for RandomForestRegressor</span></a></div></label><div class=\"sk-toggleable__content fitted\"><pre>RandomForestRegressor(min_samples_leaf=2, n_estimators=1000, n_jobs=-1,\n",
       "                      random_state=42)</pre></div> </div></div></div></div></div></div></div></div></div></div></div>"
      ],
      "text/plain": [
       "GridSearchCV(cv=TimeSeriesSplit(gap=0, max_train_size=None, n_splits=5, test_size=None),\n",
       "             estimator=Pipeline(steps=[('model',\n",
       "                                        RandomForestRegressor(n_jobs=-1,\n",
       "                                                              random_state=42))]),\n",
       "             param_grid={'model__min_samples_leaf': range(2, 5),\n",
       "                         'model__min_samples_split': range(2, 5),\n",
       "                         'model__n_estimators': [100, 500, 1000]},\n",
       "             scoring='neg_root_mean_squared_error')"
      ]
     },
     "execution_count": 37,
     "metadata": {},
     "output_type": "execute_result"
    }
   ],
   "source": [
    "%%time\n",
    "grid_rfr.fit(X_train_rfr, y_train_rfr)"
   ]
  },
  {
   "cell_type": "code",
   "execution_count": 38,
   "id": "d6a7e101-91ec-4f32-b100-3b154b00a467",
   "metadata": {},
   "outputs": [
    {
     "data": {
      "text/plain": [
       "24.31600678909454"
      ]
     },
     "execution_count": 38,
     "metadata": {},
     "output_type": "execute_result"
    }
   ],
   "source": [
    "abs(grid_rfr.best_score_)"
   ]
  },
  {
   "cell_type": "markdown",
   "id": "c90f561d-23e2-49c2-9392-65e081719967",
   "metadata": {},
   "source": [
    "### <a id='toc3_3_'></a> 3.3 LGBMRegressor [&#8593;](#toc0_)"
   ]
  },
  {
   "cell_type": "code",
   "execution_count": 39,
   "id": "e39cfcfe",
   "metadata": {},
   "outputs": [],
   "source": [
    "df_lgbmr = df.copy()"
   ]
  },
  {
   "cell_type": "code",
   "execution_count": 40,
   "id": "64c2cec8-b4a1-4ef3-b66a-15627a9bb06e",
   "metadata": {},
   "outputs": [],
   "source": [
    "df_lgbmr = make_features(df_lgbmr, 24, 10)"
   ]
  },
  {
   "cell_type": "code",
   "execution_count": 41,
   "id": "49b62605",
   "metadata": {},
   "outputs": [
    {
     "data": {
      "text/html": [
       "<div>\n",
       "<style scoped>\n",
       "    .dataframe tbody tr th:only-of-type {\n",
       "        vertical-align: middle;\n",
       "    }\n",
       "\n",
       "    .dataframe tbody tr th {\n",
       "        vertical-align: top;\n",
       "    }\n",
       "\n",
       "    .dataframe thead th {\n",
       "        text-align: right;\n",
       "    }\n",
       "</style>\n",
       "<table border=\"1\" class=\"dataframe\">\n",
       "  <thead>\n",
       "    <tr style=\"text-align: right;\">\n",
       "      <th></th>\n",
       "      <th>num_orders</th>\n",
       "      <th>year</th>\n",
       "      <th>month</th>\n",
       "      <th>day</th>\n",
       "      <th>dayofweek</th>\n",
       "      <th>lag_1</th>\n",
       "      <th>lag_2</th>\n",
       "      <th>lag_3</th>\n",
       "      <th>lag_4</th>\n",
       "      <th>lag_5</th>\n",
       "      <th>...</th>\n",
       "      <th>lag_16</th>\n",
       "      <th>lag_17</th>\n",
       "      <th>lag_18</th>\n",
       "      <th>lag_19</th>\n",
       "      <th>lag_20</th>\n",
       "      <th>lag_21</th>\n",
       "      <th>lag_22</th>\n",
       "      <th>lag_23</th>\n",
       "      <th>lag_24</th>\n",
       "      <th>rolling_mean</th>\n",
       "    </tr>\n",
       "    <tr>\n",
       "      <th>datetime</th>\n",
       "      <th></th>\n",
       "      <th></th>\n",
       "      <th></th>\n",
       "      <th></th>\n",
       "      <th></th>\n",
       "      <th></th>\n",
       "      <th></th>\n",
       "      <th></th>\n",
       "      <th></th>\n",
       "      <th></th>\n",
       "      <th></th>\n",
       "      <th></th>\n",
       "      <th></th>\n",
       "      <th></th>\n",
       "      <th></th>\n",
       "      <th></th>\n",
       "      <th></th>\n",
       "      <th></th>\n",
       "      <th></th>\n",
       "      <th></th>\n",
       "      <th></th>\n",
       "    </tr>\n",
       "  </thead>\n",
       "  <tbody>\n",
       "    <tr>\n",
       "      <th>2018-03-01 00:00:00</th>\n",
       "      <td>124</td>\n",
       "      <td>2018</td>\n",
       "      <td>3</td>\n",
       "      <td>1</td>\n",
       "      <td>3</td>\n",
       "      <td>NaN</td>\n",
       "      <td>NaN</td>\n",
       "      <td>NaN</td>\n",
       "      <td>NaN</td>\n",
       "      <td>NaN</td>\n",
       "      <td>...</td>\n",
       "      <td>NaN</td>\n",
       "      <td>NaN</td>\n",
       "      <td>NaN</td>\n",
       "      <td>NaN</td>\n",
       "      <td>NaN</td>\n",
       "      <td>NaN</td>\n",
       "      <td>NaN</td>\n",
       "      <td>NaN</td>\n",
       "      <td>NaN</td>\n",
       "      <td>NaN</td>\n",
       "    </tr>\n",
       "    <tr>\n",
       "      <th>2018-03-01 01:00:00</th>\n",
       "      <td>85</td>\n",
       "      <td>2018</td>\n",
       "      <td>3</td>\n",
       "      <td>1</td>\n",
       "      <td>3</td>\n",
       "      <td>124.00</td>\n",
       "      <td>NaN</td>\n",
       "      <td>NaN</td>\n",
       "      <td>NaN</td>\n",
       "      <td>NaN</td>\n",
       "      <td>...</td>\n",
       "      <td>NaN</td>\n",
       "      <td>NaN</td>\n",
       "      <td>NaN</td>\n",
       "      <td>NaN</td>\n",
       "      <td>NaN</td>\n",
       "      <td>NaN</td>\n",
       "      <td>NaN</td>\n",
       "      <td>NaN</td>\n",
       "      <td>NaN</td>\n",
       "      <td>NaN</td>\n",
       "    </tr>\n",
       "    <tr>\n",
       "      <th>2018-03-01 02:00:00</th>\n",
       "      <td>71</td>\n",
       "      <td>2018</td>\n",
       "      <td>3</td>\n",
       "      <td>1</td>\n",
       "      <td>3</td>\n",
       "      <td>85.00</td>\n",
       "      <td>124.00</td>\n",
       "      <td>NaN</td>\n",
       "      <td>NaN</td>\n",
       "      <td>NaN</td>\n",
       "      <td>...</td>\n",
       "      <td>NaN</td>\n",
       "      <td>NaN</td>\n",
       "      <td>NaN</td>\n",
       "      <td>NaN</td>\n",
       "      <td>NaN</td>\n",
       "      <td>NaN</td>\n",
       "      <td>NaN</td>\n",
       "      <td>NaN</td>\n",
       "      <td>NaN</td>\n",
       "      <td>NaN</td>\n",
       "    </tr>\n",
       "    <tr>\n",
       "      <th>2018-03-01 03:00:00</th>\n",
       "      <td>66</td>\n",
       "      <td>2018</td>\n",
       "      <td>3</td>\n",
       "      <td>1</td>\n",
       "      <td>3</td>\n",
       "      <td>71.00</td>\n",
       "      <td>85.00</td>\n",
       "      <td>124.00</td>\n",
       "      <td>NaN</td>\n",
       "      <td>NaN</td>\n",
       "      <td>...</td>\n",
       "      <td>NaN</td>\n",
       "      <td>NaN</td>\n",
       "      <td>NaN</td>\n",
       "      <td>NaN</td>\n",
       "      <td>NaN</td>\n",
       "      <td>NaN</td>\n",
       "      <td>NaN</td>\n",
       "      <td>NaN</td>\n",
       "      <td>NaN</td>\n",
       "      <td>NaN</td>\n",
       "    </tr>\n",
       "    <tr>\n",
       "      <th>2018-03-01 04:00:00</th>\n",
       "      <td>43</td>\n",
       "      <td>2018</td>\n",
       "      <td>3</td>\n",
       "      <td>1</td>\n",
       "      <td>3</td>\n",
       "      <td>66.00</td>\n",
       "      <td>71.00</td>\n",
       "      <td>85.00</td>\n",
       "      <td>124.00</td>\n",
       "      <td>NaN</td>\n",
       "      <td>...</td>\n",
       "      <td>NaN</td>\n",
       "      <td>NaN</td>\n",
       "      <td>NaN</td>\n",
       "      <td>NaN</td>\n",
       "      <td>NaN</td>\n",
       "      <td>NaN</td>\n",
       "      <td>NaN</td>\n",
       "      <td>NaN</td>\n",
       "      <td>NaN</td>\n",
       "      <td>NaN</td>\n",
       "    </tr>\n",
       "  </tbody>\n",
       "</table>\n",
       "<p>5 rows × 30 columns</p>\n",
       "</div>"
      ],
      "text/plain": [
       "                     num_orders  year  month  day  dayofweek  lag_1  lag_2  \\\n",
       "datetime                                                                     \n",
       "2018-03-01 00:00:00         124  2018      3    1          3    NaN    NaN   \n",
       "2018-03-01 01:00:00          85  2018      3    1          3 124.00    NaN   \n",
       "2018-03-01 02:00:00          71  2018      3    1          3  85.00 124.00   \n",
       "2018-03-01 03:00:00          66  2018      3    1          3  71.00  85.00   \n",
       "2018-03-01 04:00:00          43  2018      3    1          3  66.00  71.00   \n",
       "\n",
       "                     lag_3  lag_4  lag_5  ...  lag_16  lag_17  lag_18  lag_19  \\\n",
       "datetime                                  ...                                   \n",
       "2018-03-01 00:00:00    NaN    NaN    NaN  ...     NaN     NaN     NaN     NaN   \n",
       "2018-03-01 01:00:00    NaN    NaN    NaN  ...     NaN     NaN     NaN     NaN   \n",
       "2018-03-01 02:00:00    NaN    NaN    NaN  ...     NaN     NaN     NaN     NaN   \n",
       "2018-03-01 03:00:00 124.00    NaN    NaN  ...     NaN     NaN     NaN     NaN   \n",
       "2018-03-01 04:00:00  85.00 124.00    NaN  ...     NaN     NaN     NaN     NaN   \n",
       "\n",
       "                     lag_20  lag_21  lag_22  lag_23  lag_24  rolling_mean  \n",
       "datetime                                                                   \n",
       "2018-03-01 00:00:00     NaN     NaN     NaN     NaN     NaN           NaN  \n",
       "2018-03-01 01:00:00     NaN     NaN     NaN     NaN     NaN           NaN  \n",
       "2018-03-01 02:00:00     NaN     NaN     NaN     NaN     NaN           NaN  \n",
       "2018-03-01 03:00:00     NaN     NaN     NaN     NaN     NaN           NaN  \n",
       "2018-03-01 04:00:00     NaN     NaN     NaN     NaN     NaN           NaN  \n",
       "\n",
       "[5 rows x 30 columns]"
      ]
     },
     "execution_count": 41,
     "metadata": {},
     "output_type": "execute_result"
    }
   ],
   "source": [
    "df_lgbmr.head()"
   ]
  },
  {
   "cell_type": "code",
   "execution_count": 42,
   "id": "83517284-6bf6-4391-beee-8d22019f23a1",
   "metadata": {},
   "outputs": [],
   "source": [
    "train_lgbmr, test_lgbmr = train_test_split(df_lgbmr, shuffle=False, test_size=0.1)\n",
    "train_lgbmr = train_lgbmr.dropna()\n",
    "X_train_lgbmr = train_lgbmr.drop(columns='lag_1')\n",
    "y_train_lgbmr = train_lgbmr['lag_1']\n",
    "X_test_lgbmr = test_lgbmr.drop(columns='lag_1')\n",
    "y_test_lgbmr = test_lgbmr['lag_1']"
   ]
  },
  {
   "cell_type": "code",
   "execution_count": 43,
   "id": "03029321-5cce-4f39-a354-a8af3c81621a",
   "metadata": {},
   "outputs": [],
   "source": [
    "final_pipe_lgbmr = Pipeline(\n",
    "    [  \n",
    "        ('model', LGBMRegressor(random_state=RANDOM_STATE, n_jobs=-1, verbosity=-1))\n",
    "    ]\n",
    ")"
   ]
  },
  {
   "cell_type": "code",
   "execution_count": 44,
   "id": "a0fecaea-7a3b-4e19-a493-8d98f44c7afc",
   "metadata": {},
   "outputs": [],
   "source": [
    "param_grid_lgbmr = [\n",
    "\n",
    "    {\n",
    "    'model__learning_rate': [0.01, 0.05, 0.1, 0.3],\n",
    "    'model__num_leaves': [20, 50, 100, 150],\n",
    "    'model__max_depth': [3, 5, 7, 10, 15]\n",
    "    },\n",
    "    \n",
    "]"
   ]
  },
  {
   "cell_type": "code",
   "execution_count": 45,
   "id": "730c948a-eab6-4ed7-912d-334ec0943255",
   "metadata": {},
   "outputs": [],
   "source": [
    "grid_lgbmr = GridSearchCV(\n",
    "    final_pipe_lgbmr,\n",
    "    param_grid=param_grid_lgbmr,\n",
    "    cv=TimeSeriesSplit(),\n",
    "    scoring= 'neg_root_mean_squared_error'\n",
    ")"
   ]
  },
  {
   "cell_type": "code",
   "execution_count": 46,
   "id": "c49d3a7c-1e36-4ed8-9bed-a3b0233b656c",
   "metadata": {},
   "outputs": [
    {
     "name": "stdout",
     "output_type": "stream",
     "text": [
      "CPU times: user 6min 23s, sys: 3.95 s, total: 6min 27s\n",
      "Wall time: 6min 33s\n"
     ]
    },
    {
     "data": {
      "text/html": [
       "<style>#sk-container-id-2 {\n",
       "  /* Definition of color scheme common for light and dark mode */\n",
       "  --sklearn-color-text: #000;\n",
       "  --sklearn-color-text-muted: #666;\n",
       "  --sklearn-color-line: gray;\n",
       "  /* Definition of color scheme for unfitted estimators */\n",
       "  --sklearn-color-unfitted-level-0: #fff5e6;\n",
       "  --sklearn-color-unfitted-level-1: #f6e4d2;\n",
       "  --sklearn-color-unfitted-level-2: #ffe0b3;\n",
       "  --sklearn-color-unfitted-level-3: chocolate;\n",
       "  /* Definition of color scheme for fitted estimators */\n",
       "  --sklearn-color-fitted-level-0: #f0f8ff;\n",
       "  --sklearn-color-fitted-level-1: #d4ebff;\n",
       "  --sklearn-color-fitted-level-2: #b3dbfd;\n",
       "  --sklearn-color-fitted-level-3: cornflowerblue;\n",
       "\n",
       "  /* Specific color for light theme */\n",
       "  --sklearn-color-text-on-default-background: var(--sg-text-color, var(--theme-code-foreground, var(--jp-content-font-color1, black)));\n",
       "  --sklearn-color-background: var(--sg-background-color, var(--theme-background, var(--jp-layout-color0, white)));\n",
       "  --sklearn-color-border-box: var(--sg-text-color, var(--theme-code-foreground, var(--jp-content-font-color1, black)));\n",
       "  --sklearn-color-icon: #696969;\n",
       "\n",
       "  @media (prefers-color-scheme: dark) {\n",
       "    /* Redefinition of color scheme for dark theme */\n",
       "    --sklearn-color-text-on-default-background: var(--sg-text-color, var(--theme-code-foreground, var(--jp-content-font-color1, white)));\n",
       "    --sklearn-color-background: var(--sg-background-color, var(--theme-background, var(--jp-layout-color0, #111)));\n",
       "    --sklearn-color-border-box: var(--sg-text-color, var(--theme-code-foreground, var(--jp-content-font-color1, white)));\n",
       "    --sklearn-color-icon: #878787;\n",
       "  }\n",
       "}\n",
       "\n",
       "#sk-container-id-2 {\n",
       "  color: var(--sklearn-color-text);\n",
       "}\n",
       "\n",
       "#sk-container-id-2 pre {\n",
       "  padding: 0;\n",
       "}\n",
       "\n",
       "#sk-container-id-2 input.sk-hidden--visually {\n",
       "  border: 0;\n",
       "  clip: rect(1px 1px 1px 1px);\n",
       "  clip: rect(1px, 1px, 1px, 1px);\n",
       "  height: 1px;\n",
       "  margin: -1px;\n",
       "  overflow: hidden;\n",
       "  padding: 0;\n",
       "  position: absolute;\n",
       "  width: 1px;\n",
       "}\n",
       "\n",
       "#sk-container-id-2 div.sk-dashed-wrapped {\n",
       "  border: 1px dashed var(--sklearn-color-line);\n",
       "  margin: 0 0.4em 0.5em 0.4em;\n",
       "  box-sizing: border-box;\n",
       "  padding-bottom: 0.4em;\n",
       "  background-color: var(--sklearn-color-background);\n",
       "}\n",
       "\n",
       "#sk-container-id-2 div.sk-container {\n",
       "  /* jupyter's `normalize.less` sets `[hidden] { display: none; }`\n",
       "     but bootstrap.min.css set `[hidden] { display: none !important; }`\n",
       "     so we also need the `!important` here to be able to override the\n",
       "     default hidden behavior on the sphinx rendered scikit-learn.org.\n",
       "     See: https://github.com/scikit-learn/scikit-learn/issues/21755 */\n",
       "  display: inline-block !important;\n",
       "  position: relative;\n",
       "}\n",
       "\n",
       "#sk-container-id-2 div.sk-text-repr-fallback {\n",
       "  display: none;\n",
       "}\n",
       "\n",
       "div.sk-parallel-item,\n",
       "div.sk-serial,\n",
       "div.sk-item {\n",
       "  /* draw centered vertical line to link estimators */\n",
       "  background-image: linear-gradient(var(--sklearn-color-text-on-default-background), var(--sklearn-color-text-on-default-background));\n",
       "  background-size: 2px 100%;\n",
       "  background-repeat: no-repeat;\n",
       "  background-position: center center;\n",
       "}\n",
       "\n",
       "/* Parallel-specific style estimator block */\n",
       "\n",
       "#sk-container-id-2 div.sk-parallel-item::after {\n",
       "  content: \"\";\n",
       "  width: 100%;\n",
       "  border-bottom: 2px solid var(--sklearn-color-text-on-default-background);\n",
       "  flex-grow: 1;\n",
       "}\n",
       "\n",
       "#sk-container-id-2 div.sk-parallel {\n",
       "  display: flex;\n",
       "  align-items: stretch;\n",
       "  justify-content: center;\n",
       "  background-color: var(--sklearn-color-background);\n",
       "  position: relative;\n",
       "}\n",
       "\n",
       "#sk-container-id-2 div.sk-parallel-item {\n",
       "  display: flex;\n",
       "  flex-direction: column;\n",
       "}\n",
       "\n",
       "#sk-container-id-2 div.sk-parallel-item:first-child::after {\n",
       "  align-self: flex-end;\n",
       "  width: 50%;\n",
       "}\n",
       "\n",
       "#sk-container-id-2 div.sk-parallel-item:last-child::after {\n",
       "  align-self: flex-start;\n",
       "  width: 50%;\n",
       "}\n",
       "\n",
       "#sk-container-id-2 div.sk-parallel-item:only-child::after {\n",
       "  width: 0;\n",
       "}\n",
       "\n",
       "/* Serial-specific style estimator block */\n",
       "\n",
       "#sk-container-id-2 div.sk-serial {\n",
       "  display: flex;\n",
       "  flex-direction: column;\n",
       "  align-items: center;\n",
       "  background-color: var(--sklearn-color-background);\n",
       "  padding-right: 1em;\n",
       "  padding-left: 1em;\n",
       "}\n",
       "\n",
       "\n",
       "/* Toggleable style: style used for estimator/Pipeline/ColumnTransformer box that is\n",
       "clickable and can be expanded/collapsed.\n",
       "- Pipeline and ColumnTransformer use this feature and define the default style\n",
       "- Estimators will overwrite some part of the style using the `sk-estimator` class\n",
       "*/\n",
       "\n",
       "/* Pipeline and ColumnTransformer style (default) */\n",
       "\n",
       "#sk-container-id-2 div.sk-toggleable {\n",
       "  /* Default theme specific background. It is overwritten whether we have a\n",
       "  specific estimator or a Pipeline/ColumnTransformer */\n",
       "  background-color: var(--sklearn-color-background);\n",
       "}\n",
       "\n",
       "/* Toggleable label */\n",
       "#sk-container-id-2 label.sk-toggleable__label {\n",
       "  cursor: pointer;\n",
       "  display: flex;\n",
       "  width: 100%;\n",
       "  margin-bottom: 0;\n",
       "  padding: 0.5em;\n",
       "  box-sizing: border-box;\n",
       "  text-align: center;\n",
       "  align-items: start;\n",
       "  justify-content: space-between;\n",
       "  gap: 0.5em;\n",
       "}\n",
       "\n",
       "#sk-container-id-2 label.sk-toggleable__label .caption {\n",
       "  font-size: 0.6rem;\n",
       "  font-weight: lighter;\n",
       "  color: var(--sklearn-color-text-muted);\n",
       "}\n",
       "\n",
       "#sk-container-id-2 label.sk-toggleable__label-arrow:before {\n",
       "  /* Arrow on the left of the label */\n",
       "  content: \"▸\";\n",
       "  float: left;\n",
       "  margin-right: 0.25em;\n",
       "  color: var(--sklearn-color-icon);\n",
       "}\n",
       "\n",
       "#sk-container-id-2 label.sk-toggleable__label-arrow:hover:before {\n",
       "  color: var(--sklearn-color-text);\n",
       "}\n",
       "\n",
       "/* Toggleable content - dropdown */\n",
       "\n",
       "#sk-container-id-2 div.sk-toggleable__content {\n",
       "  max-height: 0;\n",
       "  max-width: 0;\n",
       "  overflow: hidden;\n",
       "  text-align: left;\n",
       "  /* unfitted */\n",
       "  background-color: var(--sklearn-color-unfitted-level-0);\n",
       "}\n",
       "\n",
       "#sk-container-id-2 div.sk-toggleable__content.fitted {\n",
       "  /* fitted */\n",
       "  background-color: var(--sklearn-color-fitted-level-0);\n",
       "}\n",
       "\n",
       "#sk-container-id-2 div.sk-toggleable__content pre {\n",
       "  margin: 0.2em;\n",
       "  border-radius: 0.25em;\n",
       "  color: var(--sklearn-color-text);\n",
       "  /* unfitted */\n",
       "  background-color: var(--sklearn-color-unfitted-level-0);\n",
       "}\n",
       "\n",
       "#sk-container-id-2 div.sk-toggleable__content.fitted pre {\n",
       "  /* unfitted */\n",
       "  background-color: var(--sklearn-color-fitted-level-0);\n",
       "}\n",
       "\n",
       "#sk-container-id-2 input.sk-toggleable__control:checked~div.sk-toggleable__content {\n",
       "  /* Expand drop-down */\n",
       "  max-height: 200px;\n",
       "  max-width: 100%;\n",
       "  overflow: auto;\n",
       "}\n",
       "\n",
       "#sk-container-id-2 input.sk-toggleable__control:checked~label.sk-toggleable__label-arrow:before {\n",
       "  content: \"▾\";\n",
       "}\n",
       "\n",
       "/* Pipeline/ColumnTransformer-specific style */\n",
       "\n",
       "#sk-container-id-2 div.sk-label input.sk-toggleable__control:checked~label.sk-toggleable__label {\n",
       "  color: var(--sklearn-color-text);\n",
       "  background-color: var(--sklearn-color-unfitted-level-2);\n",
       "}\n",
       "\n",
       "#sk-container-id-2 div.sk-label.fitted input.sk-toggleable__control:checked~label.sk-toggleable__label {\n",
       "  background-color: var(--sklearn-color-fitted-level-2);\n",
       "}\n",
       "\n",
       "/* Estimator-specific style */\n",
       "\n",
       "/* Colorize estimator box */\n",
       "#sk-container-id-2 div.sk-estimator input.sk-toggleable__control:checked~label.sk-toggleable__label {\n",
       "  /* unfitted */\n",
       "  background-color: var(--sklearn-color-unfitted-level-2);\n",
       "}\n",
       "\n",
       "#sk-container-id-2 div.sk-estimator.fitted input.sk-toggleable__control:checked~label.sk-toggleable__label {\n",
       "  /* fitted */\n",
       "  background-color: var(--sklearn-color-fitted-level-2);\n",
       "}\n",
       "\n",
       "#sk-container-id-2 div.sk-label label.sk-toggleable__label,\n",
       "#sk-container-id-2 div.sk-label label {\n",
       "  /* The background is the default theme color */\n",
       "  color: var(--sklearn-color-text-on-default-background);\n",
       "}\n",
       "\n",
       "/* On hover, darken the color of the background */\n",
       "#sk-container-id-2 div.sk-label:hover label.sk-toggleable__label {\n",
       "  color: var(--sklearn-color-text);\n",
       "  background-color: var(--sklearn-color-unfitted-level-2);\n",
       "}\n",
       "\n",
       "/* Label box, darken color on hover, fitted */\n",
       "#sk-container-id-2 div.sk-label.fitted:hover label.sk-toggleable__label.fitted {\n",
       "  color: var(--sklearn-color-text);\n",
       "  background-color: var(--sklearn-color-fitted-level-2);\n",
       "}\n",
       "\n",
       "/* Estimator label */\n",
       "\n",
       "#sk-container-id-2 div.sk-label label {\n",
       "  font-family: monospace;\n",
       "  font-weight: bold;\n",
       "  display: inline-block;\n",
       "  line-height: 1.2em;\n",
       "}\n",
       "\n",
       "#sk-container-id-2 div.sk-label-container {\n",
       "  text-align: center;\n",
       "}\n",
       "\n",
       "/* Estimator-specific */\n",
       "#sk-container-id-2 div.sk-estimator {\n",
       "  font-family: monospace;\n",
       "  border: 1px dotted var(--sklearn-color-border-box);\n",
       "  border-radius: 0.25em;\n",
       "  box-sizing: border-box;\n",
       "  margin-bottom: 0.5em;\n",
       "  /* unfitted */\n",
       "  background-color: var(--sklearn-color-unfitted-level-0);\n",
       "}\n",
       "\n",
       "#sk-container-id-2 div.sk-estimator.fitted {\n",
       "  /* fitted */\n",
       "  background-color: var(--sklearn-color-fitted-level-0);\n",
       "}\n",
       "\n",
       "/* on hover */\n",
       "#sk-container-id-2 div.sk-estimator:hover {\n",
       "  /* unfitted */\n",
       "  background-color: var(--sklearn-color-unfitted-level-2);\n",
       "}\n",
       "\n",
       "#sk-container-id-2 div.sk-estimator.fitted:hover {\n",
       "  /* fitted */\n",
       "  background-color: var(--sklearn-color-fitted-level-2);\n",
       "}\n",
       "\n",
       "/* Specification for estimator info (e.g. \"i\" and \"?\") */\n",
       "\n",
       "/* Common style for \"i\" and \"?\" */\n",
       "\n",
       ".sk-estimator-doc-link,\n",
       "a:link.sk-estimator-doc-link,\n",
       "a:visited.sk-estimator-doc-link {\n",
       "  float: right;\n",
       "  font-size: smaller;\n",
       "  line-height: 1em;\n",
       "  font-family: monospace;\n",
       "  background-color: var(--sklearn-color-background);\n",
       "  border-radius: 1em;\n",
       "  height: 1em;\n",
       "  width: 1em;\n",
       "  text-decoration: none !important;\n",
       "  margin-left: 0.5em;\n",
       "  text-align: center;\n",
       "  /* unfitted */\n",
       "  border: var(--sklearn-color-unfitted-level-1) 1pt solid;\n",
       "  color: var(--sklearn-color-unfitted-level-1);\n",
       "}\n",
       "\n",
       ".sk-estimator-doc-link.fitted,\n",
       "a:link.sk-estimator-doc-link.fitted,\n",
       "a:visited.sk-estimator-doc-link.fitted {\n",
       "  /* fitted */\n",
       "  border: var(--sklearn-color-fitted-level-1) 1pt solid;\n",
       "  color: var(--sklearn-color-fitted-level-1);\n",
       "}\n",
       "\n",
       "/* On hover */\n",
       "div.sk-estimator:hover .sk-estimator-doc-link:hover,\n",
       ".sk-estimator-doc-link:hover,\n",
       "div.sk-label-container:hover .sk-estimator-doc-link:hover,\n",
       ".sk-estimator-doc-link:hover {\n",
       "  /* unfitted */\n",
       "  background-color: var(--sklearn-color-unfitted-level-3);\n",
       "  color: var(--sklearn-color-background);\n",
       "  text-decoration: none;\n",
       "}\n",
       "\n",
       "div.sk-estimator.fitted:hover .sk-estimator-doc-link.fitted:hover,\n",
       ".sk-estimator-doc-link.fitted:hover,\n",
       "div.sk-label-container:hover .sk-estimator-doc-link.fitted:hover,\n",
       ".sk-estimator-doc-link.fitted:hover {\n",
       "  /* fitted */\n",
       "  background-color: var(--sklearn-color-fitted-level-3);\n",
       "  color: var(--sklearn-color-background);\n",
       "  text-decoration: none;\n",
       "}\n",
       "\n",
       "/* Span, style for the box shown on hovering the info icon */\n",
       ".sk-estimator-doc-link span {\n",
       "  display: none;\n",
       "  z-index: 9999;\n",
       "  position: relative;\n",
       "  font-weight: normal;\n",
       "  right: .2ex;\n",
       "  padding: .5ex;\n",
       "  margin: .5ex;\n",
       "  width: min-content;\n",
       "  min-width: 20ex;\n",
       "  max-width: 50ex;\n",
       "  color: var(--sklearn-color-text);\n",
       "  box-shadow: 2pt 2pt 4pt #999;\n",
       "  /* unfitted */\n",
       "  background: var(--sklearn-color-unfitted-level-0);\n",
       "  border: .5pt solid var(--sklearn-color-unfitted-level-3);\n",
       "}\n",
       "\n",
       ".sk-estimator-doc-link.fitted span {\n",
       "  /* fitted */\n",
       "  background: var(--sklearn-color-fitted-level-0);\n",
       "  border: var(--sklearn-color-fitted-level-3);\n",
       "}\n",
       "\n",
       ".sk-estimator-doc-link:hover span {\n",
       "  display: block;\n",
       "}\n",
       "\n",
       "/* \"?\"-specific style due to the `<a>` HTML tag */\n",
       "\n",
       "#sk-container-id-2 a.estimator_doc_link {\n",
       "  float: right;\n",
       "  font-size: 1rem;\n",
       "  line-height: 1em;\n",
       "  font-family: monospace;\n",
       "  background-color: var(--sklearn-color-background);\n",
       "  border-radius: 1rem;\n",
       "  height: 1rem;\n",
       "  width: 1rem;\n",
       "  text-decoration: none;\n",
       "  /* unfitted */\n",
       "  color: var(--sklearn-color-unfitted-level-1);\n",
       "  border: var(--sklearn-color-unfitted-level-1) 1pt solid;\n",
       "}\n",
       "\n",
       "#sk-container-id-2 a.estimator_doc_link.fitted {\n",
       "  /* fitted */\n",
       "  border: var(--sklearn-color-fitted-level-1) 1pt solid;\n",
       "  color: var(--sklearn-color-fitted-level-1);\n",
       "}\n",
       "\n",
       "/* On hover */\n",
       "#sk-container-id-2 a.estimator_doc_link:hover {\n",
       "  /* unfitted */\n",
       "  background-color: var(--sklearn-color-unfitted-level-3);\n",
       "  color: var(--sklearn-color-background);\n",
       "  text-decoration: none;\n",
       "}\n",
       "\n",
       "#sk-container-id-2 a.estimator_doc_link.fitted:hover {\n",
       "  /* fitted */\n",
       "  background-color: var(--sklearn-color-fitted-level-3);\n",
       "}\n",
       "</style><div id=\"sk-container-id-2\" class=\"sk-top-container\"><div class=\"sk-text-repr-fallback\"><pre>GridSearchCV(cv=TimeSeriesSplit(gap=0, max_train_size=None, n_splits=5, test_size=None),\n",
       "             estimator=Pipeline(steps=[(&#x27;model&#x27;,\n",
       "                                        LGBMRegressor(random_state=42,\n",
       "                                                      verbosity=-1))]),\n",
       "             param_grid=[{&#x27;model__learning_rate&#x27;: [0.01, 0.05, 0.1, 0.3],\n",
       "                          &#x27;model__max_depth&#x27;: [3, 5, 7, 10, 15],\n",
       "                          &#x27;model__num_leaves&#x27;: [20, 50, 100, 150]}],\n",
       "             scoring=&#x27;neg_root_mean_squared_error&#x27;)</pre><b>In a Jupyter environment, please rerun this cell to show the HTML representation or trust the notebook. <br />On GitHub, the HTML representation is unable to render, please try loading this page with nbviewer.org.</b></div><div class=\"sk-container\" hidden><div class=\"sk-item sk-dashed-wrapped\"><div class=\"sk-label-container\"><div class=\"sk-label fitted sk-toggleable\"><input class=\"sk-toggleable__control sk-hidden--visually\" id=\"sk-estimator-id-4\" type=\"checkbox\" ><label for=\"sk-estimator-id-4\" class=\"sk-toggleable__label fitted sk-toggleable__label-arrow\"><div><div>GridSearchCV</div></div><div><a class=\"sk-estimator-doc-link fitted\" rel=\"noreferrer\" target=\"_blank\" href=\"https://scikit-learn.org/1.6/modules/generated/sklearn.model_selection.GridSearchCV.html\">?<span>Documentation for GridSearchCV</span></a><span class=\"sk-estimator-doc-link fitted\">i<span>Fitted</span></span></div></label><div class=\"sk-toggleable__content fitted\"><pre>GridSearchCV(cv=TimeSeriesSplit(gap=0, max_train_size=None, n_splits=5, test_size=None),\n",
       "             estimator=Pipeline(steps=[(&#x27;model&#x27;,\n",
       "                                        LGBMRegressor(random_state=42,\n",
       "                                                      verbosity=-1))]),\n",
       "             param_grid=[{&#x27;model__learning_rate&#x27;: [0.01, 0.05, 0.1, 0.3],\n",
       "                          &#x27;model__max_depth&#x27;: [3, 5, 7, 10, 15],\n",
       "                          &#x27;model__num_leaves&#x27;: [20, 50, 100, 150]}],\n",
       "             scoring=&#x27;neg_root_mean_squared_error&#x27;)</pre></div> </div></div><div class=\"sk-parallel\"><div class=\"sk-parallel-item\"><div class=\"sk-item\"><div class=\"sk-label-container\"><div class=\"sk-label fitted sk-toggleable\"><input class=\"sk-toggleable__control sk-hidden--visually\" id=\"sk-estimator-id-5\" type=\"checkbox\" ><label for=\"sk-estimator-id-5\" class=\"sk-toggleable__label fitted sk-toggleable__label-arrow\"><div><div>best_estimator_: Pipeline</div></div></label><div class=\"sk-toggleable__content fitted\"><pre>Pipeline(steps=[(&#x27;model&#x27;,\n",
       "                 LGBMRegressor(max_depth=15, num_leaves=20, random_state=42,\n",
       "                               verbosity=-1))])</pre></div> </div></div><div class=\"sk-serial\"><div class=\"sk-item\"><div class=\"sk-serial\"><div class=\"sk-item\"><div class=\"sk-estimator fitted sk-toggleable\"><input class=\"sk-toggleable__control sk-hidden--visually\" id=\"sk-estimator-id-6\" type=\"checkbox\" ><label for=\"sk-estimator-id-6\" class=\"sk-toggleable__label fitted sk-toggleable__label-arrow\"><div><div>LGBMRegressor</div></div></label><div class=\"sk-toggleable__content fitted\"><pre>LGBMRegressor(max_depth=15, num_leaves=20, random_state=42, verbosity=-1)</pre></div> </div></div></div></div></div></div></div></div></div></div></div>"
      ],
      "text/plain": [
       "GridSearchCV(cv=TimeSeriesSplit(gap=0, max_train_size=None, n_splits=5, test_size=None),\n",
       "             estimator=Pipeline(steps=[('model',\n",
       "                                        LGBMRegressor(random_state=42,\n",
       "                                                      verbosity=-1))]),\n",
       "             param_grid=[{'model__learning_rate': [0.01, 0.05, 0.1, 0.3],\n",
       "                          'model__max_depth': [3, 5, 7, 10, 15],\n",
       "                          'model__num_leaves': [20, 50, 100, 150]}],\n",
       "             scoring='neg_root_mean_squared_error')"
      ]
     },
     "execution_count": 46,
     "metadata": {},
     "output_type": "execute_result"
    }
   ],
   "source": [
    "%%time\n",
    "grid_lgbmr.fit(X_train_lgbmr, y_train_lgbmr)"
   ]
  },
  {
   "cell_type": "code",
   "execution_count": 47,
   "id": "26086574-211b-4412-8016-dcf3b4ed3043",
   "metadata": {},
   "outputs": [
    {
     "data": {
      "text/plain": [
       "23.239131591842835"
      ]
     },
     "execution_count": 47,
     "metadata": {},
     "output_type": "execute_result"
    }
   ],
   "source": [
    "abs(grid_lgbmr.best_score_)"
   ]
  },
  {
   "cell_type": "markdown",
   "id": "14e435b5-953b-40b6-8283-2459253b0963",
   "metadata": {},
   "source": [
    "Со значением сдвиговых признаков=24 и окном для подсчета скользящего среднего=10 получили хороший результат метрики RMSE = 2.7626310865889394e-13 на тренировочной выборке для модели LinearRegression. C помощью нее и будем получать предсказания на тестовых данных."
   ]
  },
  {
   "cell_type": "markdown",
   "id": "02358ec4-eb25-456c-925d-d90c31e725ae",
   "metadata": {},
   "source": [
    "## <a id='toc4_'></a> 4. Тестирование[&#8593;](#toc0_)"
   ]
  },
  {
   "cell_type": "code",
   "execution_count": 51,
   "id": "11d7557b",
   "metadata": {},
   "outputs": [],
   "source": [
    "y_pred1 = model.predict(X_test_lr)"
   ]
  },
  {
   "cell_type": "code",
   "execution_count": 52,
   "id": "f52b82fe",
   "metadata": {
    "scrolled": true
   },
   "outputs": [
    {
     "data": {
      "text/plain": [
       "4.510374610787291e-13"
      ]
     },
     "execution_count": 52,
     "metadata": {},
     "output_type": "execute_result"
    }
   ],
   "source": [
    "root_mean_squared_error(y_test_lr, y_pred1)"
   ]
  },
  {
   "cell_type": "code",
   "execution_count": 55,
   "id": "0c7b003d",
   "metadata": {},
   "outputs": [
    {
     "data": {
      "text/plain": [
       "Text(0.5, 1.0, 'y_test_rfr')"
      ]
     },
     "execution_count": 55,
     "metadata": {},
     "output_type": "execute_result"
    },
    {
     "data": {
      "image/png": "[encoded data removed]",
      "text/plain": [
       "<Figure size 432x576 with 2 Axes>"
      ]
     },
     "metadata": {
      "needs_background": "light"
     },
     "output_type": "display_data"
    }
   ],
   "source": [
    "plt.figure(figsize=(6, 8))\n",
    "plt.subplot(311)\n",
    "pd.DataFrame(y_pred1).plot(ax=plt.gca())\n",
    "plt.title('y_pred')\n",
    "plt.subplot(312)\n",
    "pd.DataFrame(y_test_lr).plot(ax=plt.gca()) \n",
    "plt.title('y_test_rfr')"
   ]
  },
  {
   "cell_type": "markdown",
   "id": "2d753946-2e6d-4f9d-a924-0c1ce6105186",
   "metadata": {},
   "source": [
    "Значение метрики нас более чем устраивает (<48). С помощью графиков действительно можно увидеть высокую точность предсказаний."
   ]
  },
  {
   "cell_type": "markdown",
   "id": "8c57ea5a-807b-4657-91d1-dc63e3c7d205",
   "metadata": {},
   "source": [
    "## <a id='toc5_'></a> 5. Вывод[&#8593;](#toc0_)"
   ]
  },
  {
   "cell_type": "markdown",
   "id": "7f108977-6520-45b2-8f07-028f60cad1aa",
   "metadata": {},
   "source": [
    "Мы получили данные временного ряда со значениями количества заказов в такси.\n",
    "\n",
    "Был проведен ресемплинг данных кратно часам для совершения последующего предсказания количества заказов соответственно на час вперед.\n",
    "\n",
    "В ходе анализа мы увидели, что тренд количества заказов является восходящим, а сезонность имеет период= 1 сутки, что закономерно. Ряд является относительно стационарным (значение среднего отклонения все-таки меняется в зависимости от даты, но не критично).\n",
    "\n",
    "Были обучены 3 модели с подбором различных гиперпараметров. Лучшей моделью является LinearRegression, которая показала метрику RMSE = 4.510374610787291e-13 << 48 на тестовых данных.\n"
   ]
  },
  {
   "cell_type": "code",
   "execution_count": null,
   "id": "9df42f33-5eae-4048-986d-7e1244166e07",
   "metadata": {},
   "outputs": [],
   "source": []
  }
 ],
 "metadata": {
  "ExecuteTimeLog": [
   {
    "duration": 9,
    "start_time": "2025-01-08T18:13:04.512Z"
   },
   {
    "duration": 86711,
    "start_time": "2025-01-08T18:13:04.523Z"
   },
   {
    "duration": 2265,
    "start_time": "2025-01-08T18:14:31.236Z"
   },
   {
    "duration": 0,
    "start_time": "2025-01-08T18:14:33.504Z"
   },
   {
    "duration": 0,
    "start_time": "2025-01-08T18:14:33.505Z"
   },
   {
    "duration": 0,
    "start_time": "2025-01-08T18:14:33.506Z"
   },
   {
    "duration": 0,
    "start_time": "2025-01-08T18:14:33.507Z"
   },
   {
    "duration": 0,
    "start_time": "2025-01-08T18:14:33.508Z"
   },
   {
    "duration": 0,
    "start_time": "2025-01-08T18:14:33.509Z"
   },
   {
    "duration": 0,
    "start_time": "2025-01-08T18:14:33.510Z"
   },
   {
    "duration": 0,
    "start_time": "2025-01-08T18:14:33.511Z"
   },
   {
    "duration": 0,
    "start_time": "2025-01-08T18:14:33.512Z"
   },
   {
    "duration": 0,
    "start_time": "2025-01-08T18:14:33.513Z"
   },
   {
    "duration": 0,
    "start_time": "2025-01-08T18:14:33.514Z"
   },
   {
    "duration": 0,
    "start_time": "2025-01-08T18:14:33.515Z"
   },
   {
    "duration": 0,
    "start_time": "2025-01-08T18:14:33.516Z"
   },
   {
    "duration": 0,
    "start_time": "2025-01-08T18:14:33.517Z"
   },
   {
    "duration": 0,
    "start_time": "2025-01-08T18:14:33.518Z"
   },
   {
    "duration": 0,
    "start_time": "2025-01-08T18:14:33.519Z"
   },
   {
    "duration": 0,
    "start_time": "2025-01-08T18:14:33.520Z"
   },
   {
    "duration": 0,
    "start_time": "2025-01-08T18:14:33.521Z"
   },
   {
    "duration": 0,
    "start_time": "2025-01-08T18:14:33.521Z"
   },
   {
    "duration": 0,
    "start_time": "2025-01-08T18:14:33.522Z"
   },
   {
    "duration": 0,
    "start_time": "2025-01-08T18:14:33.523Z"
   },
   {
    "duration": 0,
    "start_time": "2025-01-08T18:14:33.524Z"
   },
   {
    "duration": 0,
    "start_time": "2025-01-08T18:14:33.525Z"
   },
   {
    "duration": 0,
    "start_time": "2025-01-08T18:14:33.526Z"
   },
   {
    "duration": 0,
    "start_time": "2025-01-08T18:14:33.527Z"
   },
   {
    "duration": 0,
    "start_time": "2025-01-08T18:14:33.528Z"
   },
   {
    "duration": 0,
    "start_time": "2025-01-08T18:14:33.528Z"
   },
   {
    "duration": 0,
    "start_time": "2025-01-08T18:14:33.529Z"
   },
   {
    "duration": 0,
    "start_time": "2025-01-08T18:14:33.530Z"
   },
   {
    "duration": 0,
    "start_time": "2025-01-08T18:14:33.531Z"
   },
   {
    "duration": 0,
    "start_time": "2025-01-08T18:14:33.532Z"
   },
   {
    "duration": 0,
    "start_time": "2025-01-08T18:14:33.587Z"
   },
   {
    "duration": 0,
    "start_time": "2025-01-08T18:14:33.588Z"
   },
   {
    "duration": 0,
    "start_time": "2025-01-08T18:14:33.589Z"
   },
   {
    "duration": 0,
    "start_time": "2025-01-08T18:14:33.590Z"
   },
   {
    "duration": 0,
    "start_time": "2025-01-08T18:14:33.593Z"
   },
   {
    "duration": 0,
    "start_time": "2025-01-08T18:14:33.594Z"
   },
   {
    "duration": 0,
    "start_time": "2025-01-08T18:14:33.596Z"
   },
   {
    "duration": 0,
    "start_time": "2025-01-08T18:14:33.596Z"
   },
   {
    "duration": 0,
    "start_time": "2025-01-08T18:14:33.598Z"
   },
   {
    "duration": 0,
    "start_time": "2025-01-08T18:14:33.599Z"
   },
   {
    "duration": 0,
    "start_time": "2025-01-08T18:14:33.600Z"
   },
   {
    "duration": 0,
    "start_time": "2025-01-08T18:14:33.601Z"
   },
   {
    "duration": 76,
    "start_time": "2025-01-08T18:14:51.765Z"
   },
   {
    "duration": 3,
    "start_time": "2025-01-08T18:14:55.153Z"
   },
   {
    "duration": 4,
    "start_time": "2025-01-08T18:14:57.375Z"
   },
   {
    "duration": 4,
    "start_time": "2025-01-08T18:14:58.347Z"
   },
   {
    "duration": 4,
    "start_time": "2025-01-08T18:14:58.848Z"
   },
   {
    "duration": 162,
    "start_time": "2025-01-08T18:15:02.499Z"
   },
   {
    "duration": 13,
    "start_time": "2025-01-08T18:15:02.961Z"
   },
   {
    "duration": 10,
    "start_time": "2025-01-08T18:15:04.523Z"
   },
   {
    "duration": 6,
    "start_time": "2025-01-08T18:15:05.025Z"
   },
   {
    "duration": 13,
    "start_time": "2025-01-08T18:15:07.082Z"
   },
   {
    "duration": 7,
    "start_time": "2025-01-08T18:15:07.514Z"
   },
   {
    "duration": 3,
    "start_time": "2025-01-08T18:15:09.594Z"
   },
   {
    "duration": 8,
    "start_time": "2025-01-08T18:15:09.986Z"
   },
   {
    "duration": 3,
    "start_time": "2025-01-08T18:15:10.385Z"
   },
   {
    "duration": 4,
    "start_time": "2025-01-08T18:15:10.874Z"
   },
   {
    "duration": 786,
    "start_time": "2025-01-08T18:15:13.097Z"
   },
   {
    "duration": 330,
    "start_time": "2025-01-08T18:15:13.979Z"
   },
   {
    "duration": 8,
    "start_time": "2025-01-08T18:15:16.361Z"
   },
   {
    "duration": 823,
    "start_time": "2025-01-08T18:15:18.177Z"
   },
   {
    "duration": 308,
    "start_time": "2025-01-08T18:15:21.931Z"
   },
   {
    "duration": 541,
    "start_time": "2025-01-08T18:15:24.176Z"
   },
   {
    "duration": 3,
    "start_time": "2025-01-08T18:15:27.368Z"
   },
   {
    "duration": 9,
    "start_time": "2025-01-08T18:15:28.000Z"
   },
   {
    "duration": 10,
    "start_time": "2025-01-08T18:15:28.656Z"
   },
   {
    "duration": 12,
    "start_time": "2025-01-08T18:15:29.467Z"
   },
   {
    "duration": 10,
    "start_time": "2025-01-08T18:15:30.835Z"
   },
   {
    "duration": 2,
    "start_time": "2025-01-08T18:15:32.113Z"
   },
   {
    "duration": 7,
    "start_time": "2025-01-08T18:15:32.510Z"
   },
   {
    "duration": 8,
    "start_time": "2025-01-08T18:15:32.961Z"
   },
   {
    "duration": 3,
    "start_time": "2025-01-08T18:15:34.322Z"
   },
   {
    "duration": 2,
    "start_time": "2025-01-08T18:15:34.972Z"
   },
   {
    "duration": 3,
    "start_time": "2025-01-08T18:15:36.305Z"
   },
   {
    "duration": 1093233,
    "start_time": "2025-01-08T18:15:36.880Z"
   },
   {
    "duration": 4,
    "start_time": "2025-01-08T18:33:50.115Z"
   },
   {
    "duration": 16,
    "start_time": "2025-01-08T18:33:50.120Z"
   },
   {
    "duration": 16,
    "start_time": "2025-01-08T18:33:50.138Z"
   },
   {
    "duration": 8,
    "start_time": "2025-01-08T18:33:50.155Z"
   },
   {
    "duration": 3,
    "start_time": "2025-01-08T18:33:50.165Z"
   },
   {
    "duration": 8,
    "start_time": "2025-01-08T18:33:50.169Z"
   },
   {
    "duration": 10,
    "start_time": "2025-01-08T18:33:50.178Z"
   },
   {
    "duration": 377597,
    "start_time": "2025-01-08T18:33:50.190Z"
   },
   {
    "duration": 4,
    "start_time": "2025-01-08T18:40:07.790Z"
   },
   {
    "duration": 140,
    "start_time": "2025-01-08T18:40:07.795Z"
   },
   {
    "duration": 5,
    "start_time": "2025-01-08T18:40:07.936Z"
   },
   {
    "duration": 101,
    "start_time": "2025-01-09T16:04:42.266Z"
   },
   {
    "duration": 95,
    "start_time": "2025-01-09T16:18:23.866Z"
   },
   {
    "duration": 97,
    "start_time": "2025-01-09T16:18:23.963Z"
   },
   {
    "duration": 6,
    "start_time": "2025-01-09T16:18:24.062Z"
   },
   {
    "duration": 9,
    "start_time": "2025-01-09T16:18:24.071Z"
   },
   {
    "duration": 6,
    "start_time": "2025-01-09T16:18:24.163Z"
   },
   {
    "duration": 204,
    "start_time": "2025-01-09T16:18:24.272Z"
   },
   {
    "duration": 87,
    "start_time": "2025-01-09T16:18:24.478Z"
   },
   {
    "duration": 106,
    "start_time": "2025-01-09T16:18:24.664Z"
   },
   {
    "duration": 109,
    "start_time": "2025-01-09T16:18:24.860Z"
   },
   {
    "duration": 18,
    "start_time": "2025-01-09T16:18:25.065Z"
   },
   {
    "duration": 13,
    "start_time": "2025-01-09T16:18:25.161Z"
   },
   {
    "duration": 6,
    "start_time": "2025-01-09T16:18:25.263Z"
   },
   {
    "duration": 189,
    "start_time": "2025-01-09T16:18:25.272Z"
   },
   {
    "duration": 5,
    "start_time": "2025-01-09T16:18:25.468Z"
   },
   {
    "duration": 97,
    "start_time": "2025-01-09T16:18:25.573Z"
   },
   {
    "duration": 5587,
    "start_time": "2025-01-09T16:18:25.672Z"
   },
   {
    "duration": 3304,
    "start_time": "2025-01-09T16:18:31.261Z"
   },
   {
    "duration": 110,
    "start_time": "2025-01-09T16:18:34.567Z"
   },
   {
    "duration": 10482,
    "start_time": "2025-01-09T16:18:34.679Z"
   },
   {
    "duration": 2502,
    "start_time": "2025-01-09T16:18:45.164Z"
   },
   {
    "duration": 4601,
    "start_time": "2025-01-09T16:18:47.671Z"
   },
   {
    "duration": 99,
    "start_time": "2025-01-09T16:18:52.360Z"
   },
   {
    "duration": 10,
    "start_time": "2025-01-09T16:18:52.466Z"
   },
   {
    "duration": 95,
    "start_time": "2025-01-09T16:18:52.477Z"
   },
   {
    "duration": 104,
    "start_time": "2025-01-09T16:18:52.766Z"
   },
   {
    "duration": 298,
    "start_time": "2025-01-09T16:18:52.965Z"
   },
   {
    "duration": 93,
    "start_time": "2025-01-09T16:18:53.266Z"
   },
   {
    "duration": 101,
    "start_time": "2025-01-09T16:18:53.371Z"
   },
   {
    "duration": 198,
    "start_time": "2025-01-09T16:18:53.474Z"
   },
   {
    "duration": 188,
    "start_time": "2025-01-09T16:18:53.674Z"
   },
   {
    "duration": 102,
    "start_time": "2025-01-09T16:18:53.863Z"
   },
   {
    "duration": 103,
    "start_time": "2025-01-09T16:18:53.967Z"
   },
   {
    "duration": 8664800,
    "start_time": "2025-01-09T16:18:54.071Z"
   },
   {
    "duration": 203,
    "start_time": "2025-01-09T18:43:18.961Z"
   },
   {
    "duration": 0,
    "start_time": "2025-01-09T18:43:19.167Z"
   },
   {
    "duration": 0,
    "start_time": "2025-01-09T18:43:19.168Z"
   },
   {
    "duration": 0,
    "start_time": "2025-01-09T18:43:19.170Z"
   },
   {
    "duration": 0,
    "start_time": "2025-01-09T18:43:19.172Z"
   },
   {
    "duration": 0,
    "start_time": "2025-01-09T18:43:19.174Z"
   },
   {
    "duration": 0,
    "start_time": "2025-01-09T18:43:19.175Z"
   },
   {
    "duration": 0,
    "start_time": "2025-01-09T18:43:19.176Z"
   },
   {
    "duration": 0,
    "start_time": "2025-01-09T18:43:19.176Z"
   },
   {
    "duration": 0,
    "start_time": "2025-01-09T18:43:19.177Z"
   },
   {
    "duration": 0,
    "start_time": "2025-01-09T18:43:19.177Z"
   },
   {
    "duration": 9,
    "start_time": "2025-01-10T10:40:11.149Z"
   },
   {
    "duration": 87676,
    "start_time": "2025-01-10T10:40:11.159Z"
   },
   {
    "duration": 2517,
    "start_time": "2025-01-10T10:41:38.837Z"
   },
   {
    "duration": 4,
    "start_time": "2025-01-10T10:41:41.356Z"
   },
   {
    "duration": 98,
    "start_time": "2025-01-10T10:41:41.362Z"
   },
   {
    "duration": 19,
    "start_time": "2025-01-10T10:41:41.462Z"
   },
   {
    "duration": 19,
    "start_time": "2025-01-10T10:41:41.483Z"
   },
   {
    "duration": 103,
    "start_time": "2025-01-10T10:41:41.504Z"
   },
   {
    "duration": 15,
    "start_time": "2025-01-10T10:41:41.608Z"
   },
   {
    "duration": 22,
    "start_time": "2025-01-10T10:41:41.624Z"
   },
   {
    "duration": 11,
    "start_time": "2025-01-10T10:41:41.648Z"
   },
   {
    "duration": 75,
    "start_time": "2025-01-10T10:41:41.661Z"
   },
   {
    "duration": 59,
    "start_time": "2025-01-10T10:41:41.738Z"
   },
   {
    "duration": 38,
    "start_time": "2025-01-10T10:41:41.800Z"
   },
   {
    "duration": 15,
    "start_time": "2025-01-10T10:41:41.839Z"
   },
   {
    "duration": 11,
    "start_time": "2025-01-10T10:41:41.856Z"
   },
   {
    "duration": 16,
    "start_time": "2025-01-10T10:41:41.870Z"
   },
   {
    "duration": 975,
    "start_time": "2025-01-10T10:41:41.888Z"
   },
   {
    "duration": 387,
    "start_time": "2025-01-10T10:41:42.865Z"
   },
   {
    "duration": 7,
    "start_time": "2025-01-10T10:41:43.254Z"
   },
   {
    "duration": 1116,
    "start_time": "2025-01-10T10:41:43.263Z"
   },
   {
    "duration": 332,
    "start_time": "2025-01-10T10:41:44.381Z"
   },
   {
    "duration": 638,
    "start_time": "2025-01-10T10:41:44.715Z"
   },
   {
    "duration": 3,
    "start_time": "2025-01-10T10:41:45.355Z"
   },
   {
    "duration": 75,
    "start_time": "2025-01-10T10:41:45.359Z"
   },
   {
    "duration": 5,
    "start_time": "2025-01-10T10:41:45.436Z"
   },
   {
    "duration": 191,
    "start_time": "2025-01-10T10:41:45.443Z"
   },
   {
    "duration": 0,
    "start_time": "2025-01-10T10:41:45.637Z"
   },
   {
    "duration": 0,
    "start_time": "2025-01-10T10:41:45.638Z"
   },
   {
    "duration": 0,
    "start_time": "2025-01-10T10:41:45.640Z"
   },
   {
    "duration": 0,
    "start_time": "2025-01-10T10:41:45.641Z"
   },
   {
    "duration": 0,
    "start_time": "2025-01-10T10:41:45.643Z"
   },
   {
    "duration": 0,
    "start_time": "2025-01-10T10:41:45.644Z"
   },
   {
    "duration": 0,
    "start_time": "2025-01-10T10:41:45.646Z"
   },
   {
    "duration": 0,
    "start_time": "2025-01-10T10:41:45.647Z"
   },
   {
    "duration": 0,
    "start_time": "2025-01-10T10:41:45.649Z"
   },
   {
    "duration": 0,
    "start_time": "2025-01-10T10:41:45.650Z"
   },
   {
    "duration": 0,
    "start_time": "2025-01-10T10:41:45.652Z"
   },
   {
    "duration": 0,
    "start_time": "2025-01-10T10:41:45.653Z"
   },
   {
    "duration": 0,
    "start_time": "2025-01-10T10:41:45.655Z"
   },
   {
    "duration": 0,
    "start_time": "2025-01-10T10:41:45.656Z"
   },
   {
    "duration": 0,
    "start_time": "2025-01-10T10:41:45.658Z"
   },
   {
    "duration": 0,
    "start_time": "2025-01-10T10:41:45.660Z"
   },
   {
    "duration": 0,
    "start_time": "2025-01-10T10:41:45.661Z"
   },
   {
    "duration": 0,
    "start_time": "2025-01-10T10:41:45.663Z"
   },
   {
    "duration": 0,
    "start_time": "2025-01-10T10:41:45.664Z"
   },
   {
    "duration": 0,
    "start_time": "2025-01-10T10:41:45.666Z"
   },
   {
    "duration": 17,
    "start_time": "2025-01-10T10:50:07.140Z"
   },
   {
    "duration": 18,
    "start_time": "2025-01-10T10:50:18.773Z"
   },
   {
    "duration": 16,
    "start_time": "2025-01-10T10:50:25.643Z"
   },
   {
    "duration": 11,
    "start_time": "2025-01-10T10:50:26.659Z"
   },
   {
    "duration": 200,
    "start_time": "2025-01-10T10:50:29.031Z"
   },
   {
    "duration": 10,
    "start_time": "2025-01-10T10:52:27.990Z"
   },
   {
    "duration": 3,
    "start_time": "2025-01-10T10:52:56.209Z"
   },
   {
    "duration": 9,
    "start_time": "2025-01-10T10:52:56.990Z"
   },
   {
    "duration": 10,
    "start_time": "2025-01-10T10:52:57.630Z"
   },
   {
    "duration": 2,
    "start_time": "2025-01-10T10:53:16.456Z"
   },
   {
    "duration": 8,
    "start_time": "2025-01-10T10:53:40.772Z"
   },
   {
    "duration": 3,
    "start_time": "2025-01-10T10:53:40.867Z"
   },
   {
    "duration": 3,
    "start_time": "2025-01-10T10:53:41.703Z"
   },
   {
    "duration": 15,
    "start_time": "2025-01-10T10:53:42.245Z"
   },
   {
    "duration": 11,
    "start_time": "2025-01-10T10:55:32.847Z"
   },
   {
    "duration": 8,
    "start_time": "2025-01-10T10:57:40.782Z"
   },
   {
    "duration": 60472,
    "start_time": "2025-01-10T10:57:40.793Z"
   },
   {
    "duration": 2149,
    "start_time": "2025-01-10T10:58:41.267Z"
   },
   {
    "duration": 2,
    "start_time": "2025-01-10T10:58:43.418Z"
   },
   {
    "duration": 46,
    "start_time": "2025-01-10T10:58:43.422Z"
   },
   {
    "duration": 4,
    "start_time": "2025-01-10T10:58:43.470Z"
   },
   {
    "duration": 11,
    "start_time": "2025-01-10T10:58:43.475Z"
   },
   {
    "duration": 50,
    "start_time": "2025-01-10T10:58:43.488Z"
   },
   {
    "duration": 13,
    "start_time": "2025-01-10T10:58:43.541Z"
   },
   {
    "duration": 11,
    "start_time": "2025-01-10T10:58:43.555Z"
   },
   {
    "duration": 5,
    "start_time": "2025-01-10T10:58:43.568Z"
   },
   {
    "duration": 14,
    "start_time": "2025-01-10T10:58:43.575Z"
   },
   {
    "duration": 9,
    "start_time": "2025-01-10T10:58:43.591Z"
   },
   {
    "duration": 30,
    "start_time": "2025-01-10T10:58:43.602Z"
   },
   {
    "duration": 9,
    "start_time": "2025-01-10T10:58:43.634Z"
   },
   {
    "duration": 3,
    "start_time": "2025-01-10T10:58:43.644Z"
   },
   {
    "duration": 9,
    "start_time": "2025-01-10T10:58:43.649Z"
   },
   {
    "duration": 857,
    "start_time": "2025-01-10T10:58:43.659Z"
   },
   {
    "duration": 367,
    "start_time": "2025-01-10T10:58:44.517Z"
   },
   {
    "duration": 8,
    "start_time": "2025-01-10T10:58:44.885Z"
   },
   {
    "duration": 941,
    "start_time": "2025-01-10T10:58:44.894Z"
   },
   {
    "duration": 305,
    "start_time": "2025-01-10T10:58:45.837Z"
   },
   {
    "duration": 580,
    "start_time": "2025-01-10T10:58:46.144Z"
   },
   {
    "duration": 3,
    "start_time": "2025-01-10T10:58:46.729Z"
   },
   {
    "duration": 19,
    "start_time": "2025-01-10T10:58:46.734Z"
   },
   {
    "duration": 16,
    "start_time": "2025-01-10T10:58:46.755Z"
   },
   {
    "duration": 15,
    "start_time": "2025-01-10T10:58:46.773Z"
   },
   {
    "duration": 11,
    "start_time": "2025-01-10T10:58:46.789Z"
   },
   {
    "duration": 234,
    "start_time": "2025-01-10T10:58:46.801Z"
   },
   {
    "duration": 4,
    "start_time": "2025-01-10T10:58:47.037Z"
   },
   {
    "duration": 92,
    "start_time": "2025-01-10T10:58:47.043Z"
   },
   {
    "duration": 13,
    "start_time": "2025-01-10T10:58:47.137Z"
   },
   {
    "duration": 8,
    "start_time": "2025-01-10T10:58:47.231Z"
   },
   {
    "duration": 3,
    "start_time": "2025-01-10T10:58:47.240Z"
   },
   {
    "duration": 11,
    "start_time": "2025-01-10T10:58:47.245Z"
   },
   {
    "duration": 17,
    "start_time": "2025-01-10T10:58:47.257Z"
   },
   {
    "duration": 615604,
    "start_time": "2025-01-10T10:58:47.276Z"
   },
   {
    "duration": 4,
    "start_time": "2025-01-10T11:09:02.882Z"
   },
   {
    "duration": 86,
    "start_time": "2025-01-10T11:09:02.888Z"
   },
   {
    "duration": 64,
    "start_time": "2025-01-10T11:09:02.975Z"
   },
   {
    "duration": 13,
    "start_time": "2025-01-10T11:09:03.041Z"
   },
   {
    "duration": 27,
    "start_time": "2025-01-10T11:09:03.056Z"
   },
   {
    "duration": 7,
    "start_time": "2025-01-10T11:09:03.085Z"
   },
   {
    "duration": 30,
    "start_time": "2025-01-10T11:09:03.094Z"
   },
   {
    "duration": 20,
    "start_time": "2025-01-10T11:09:03.126Z"
   },
   {
    "duration": 279197,
    "start_time": "2025-01-10T11:09:03.148Z"
   },
   {
    "duration": 5,
    "start_time": "2025-01-10T11:13:42.346Z"
   },
   {
    "duration": 170,
    "start_time": "2025-01-10T11:13:42.352Z"
   },
   {
    "duration": 4,
    "start_time": "2025-01-10T11:13:42.524Z"
   },
   {
    "duration": 439,
    "start_time": "2025-01-10T11:13:42.530Z"
   },
   {
    "duration": 7,
    "start_time": "2025-01-10T11:59:38.192Z"
   },
   {
    "duration": 60562,
    "start_time": "2025-01-10T11:59:38.201Z"
   },
   {
    "duration": 2166,
    "start_time": "2025-01-10T12:00:38.765Z"
   },
   {
    "duration": 3,
    "start_time": "2025-01-10T12:00:40.932Z"
   },
   {
    "duration": 17,
    "start_time": "2025-01-10T12:00:40.937Z"
   },
   {
    "duration": 10,
    "start_time": "2025-01-10T12:00:40.955Z"
   },
   {
    "duration": 8,
    "start_time": "2025-01-10T12:00:40.967Z"
   },
   {
    "duration": 60,
    "start_time": "2025-01-10T12:00:40.976Z"
   },
   {
    "duration": 12,
    "start_time": "2025-01-10T12:00:41.038Z"
   },
   {
    "duration": 11,
    "start_time": "2025-01-10T12:00:41.051Z"
   },
   {
    "duration": 7,
    "start_time": "2025-01-10T12:00:41.064Z"
   },
   {
    "duration": 20,
    "start_time": "2025-01-10T12:00:41.072Z"
   },
   {
    "duration": 16,
    "start_time": "2025-01-10T12:00:41.094Z"
   },
   {
    "duration": 3,
    "start_time": "2025-01-10T12:00:41.111Z"
   },
   {
    "duration": 9,
    "start_time": "2025-01-10T12:00:41.130Z"
   },
   {
    "duration": 12,
    "start_time": "2025-01-10T12:00:41.141Z"
   },
   {
    "duration": 10,
    "start_time": "2025-01-10T12:00:41.154Z"
   },
   {
    "duration": 868,
    "start_time": "2025-01-10T12:00:41.166Z"
   },
   {
    "duration": 385,
    "start_time": "2025-01-10T12:00:42.036Z"
   },
   {
    "duration": 8,
    "start_time": "2025-01-10T12:00:42.430Z"
   },
   {
    "duration": 913,
    "start_time": "2025-01-10T12:00:42.440Z"
   },
   {
    "duration": 349,
    "start_time": "2025-01-10T12:00:43.355Z"
   },
   {
    "duration": 607,
    "start_time": "2025-01-10T12:00:43.706Z"
   },
   {
    "duration": 2,
    "start_time": "2025-01-10T12:00:44.315Z"
   },
   {
    "duration": 23,
    "start_time": "2025-01-10T12:00:44.319Z"
   },
   {
    "duration": 16,
    "start_time": "2025-01-10T12:00:44.344Z"
   },
   {
    "duration": 28,
    "start_time": "2025-01-10T12:00:44.361Z"
   },
   {
    "duration": 24,
    "start_time": "2025-01-10T12:00:44.390Z"
   },
   {
    "duration": 121,
    "start_time": "2025-01-10T12:00:44.418Z"
   },
   {
    "duration": 4,
    "start_time": "2025-01-10T12:00:44.631Z"
   },
   {
    "duration": 106,
    "start_time": "2025-01-10T12:00:44.637Z"
   },
   {
    "duration": 16,
    "start_time": "2025-01-10T12:00:44.744Z"
   },
   {
    "duration": 10,
    "start_time": "2025-01-10T12:00:44.761Z"
   },
   {
    "duration": 123,
    "start_time": "2025-01-10T12:00:44.773Z"
   },
   {
    "duration": 6,
    "start_time": "2025-01-10T12:00:44.898Z"
   },
   {
    "duration": 4,
    "start_time": "2025-01-10T12:00:44.905Z"
   },
   {
    "duration": 1973425,
    "start_time": "2025-01-10T12:00:44.910Z"
   },
   {
    "duration": 4,
    "start_time": "2025-01-10T12:33:38.336Z"
   },
   {
    "duration": 7,
    "start_time": "2025-01-10T12:33:38.342Z"
   },
   {
    "duration": 18,
    "start_time": "2025-01-10T12:33:38.351Z"
   },
   {
    "duration": 16,
    "start_time": "2025-01-10T12:33:38.371Z"
   },
   {
    "duration": 11,
    "start_time": "2025-01-10T12:33:38.389Z"
   },
   {
    "duration": 29,
    "start_time": "2025-01-10T12:33:38.402Z"
   },
   {
    "duration": 11,
    "start_time": "2025-01-10T12:33:38.433Z"
   },
   {
    "duration": 18,
    "start_time": "2025-01-10T12:33:38.445Z"
   },
   {
    "duration": 393386,
    "start_time": "2025-01-10T12:33:38.464Z"
   },
   {
    "duration": 82,
    "start_time": "2025-01-10T12:40:11.851Z"
   },
   {
    "duration": 250,
    "start_time": "2025-01-10T12:40:11.934Z"
   },
   {
    "duration": 5,
    "start_time": "2025-01-10T12:40:12.185Z"
   },
   {
    "duration": 501,
    "start_time": "2025-01-10T12:40:12.191Z"
   },
   {
    "duration": 6,
    "start_time": "2025-01-10T13:07:32.735Z"
   },
   {
    "duration": 5,
    "start_time": "2025-01-10T13:08:10.854Z"
   },
   {
    "duration": 455,
    "start_time": "2025-01-10T13:09:30.890Z"
   },
   {
    "duration": 559,
    "start_time": "2025-01-10T13:10:41.816Z"
   },
   {
    "duration": 524,
    "start_time": "2025-01-10T13:11:19.392Z"
   }
  ],
  "kernelspec": {
   "display_name": "Python 3 (ipykernel)",
   "language": "python",
   "name": "python3"
  },
  "language_info": {
   "codemirror_mode": {
    "name": "ipython",
    "version": 3
   },
   "file_extension": ".py",
   "mimetype": "text/x-python",
   "name": "python",
   "nbconvert_exporter": "python",
   "pygments_lexer": "ipython3",
   "version": "3.9.19"
  },
  "toc": {
   "base_numbering": 1,
   "nav_menu": {},
   "number_sections": true,
   "sideBar": true,
   "skip_h1_title": true,
   "title_cell": "Table of Contents",
   "title_sidebar": "Contents",
   "toc_cell": false,
   "toc_position": {
    "height": "calc(100% - 180px)",
    "left": "10px",
    "top": "150px",
    "width": "292.797px"
   },
   "toc_section_display": true,
   "toc_window_display": true
  }
 },
 "nbformat": 4,
 "nbformat_minor": 5
}
